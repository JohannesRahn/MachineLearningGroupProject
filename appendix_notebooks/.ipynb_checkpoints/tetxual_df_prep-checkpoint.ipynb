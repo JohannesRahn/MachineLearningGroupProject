{
 "cells": [
  {
   "cell_type": "markdown",
   "id": "6d40e438-fdb6-47d6-9af7-3fdaaa1d064b",
   "metadata": {
    "tags": []
   },
   "source": [
    "# **Machine Learning Group Project:** Recommender System Preparation\n",
    "\n",
    "The purpose of this notebook is to extract content-based similarities across different products on the basis of the plethora of of textual data contained in descriptive columns such as _tags_, _genres_, _description_, or _steamspy_tags_. These findings can later be utilized when building other models."
   ]
  },
  {
   "cell_type": "code",
   "execution_count": 5,
   "id": "1b0d1d15-a35b-4cfd-b9d0-f8daa3f2a8a4",
   "metadata": {},
   "outputs": [],
   "source": [
    "# General\n",
    "import requests\n",
    "import string\n",
    "import numpy as np\n",
    "import pandas as pd\n",
    "\n",
    "# Visualization\n",
    "import seaborn as sns\n",
    "from kneed import KneeLocator\n",
    "import matplotlib.pyplot as plt\n",
    "\n",
    "# Sklearn\n",
    "from sklearn.decomposition import TruncatedSVD\n",
    "from sklearn.feature_extraction.text import TfidfVectorizer\n",
    "from sklearn.metrics.pairwise import cosine_similarity"
   ]
  },
  {
   "cell_type": "markdown",
   "id": "ad1ba9a0-78fb-4de9-b198-6c4562745ea2",
   "metadata": {},
   "source": [
    "## Content-Based Similarity"
   ]
  },
  {
   "cell_type": "markdown",
   "id": "da06cb07-bb8c-4ab2-9347-089b2cc39eef",
   "metadata": {
    "tags": []
   },
   "source": [
    "### Text Data DataFrame\n",
    "\n",
    "First we create a DataFrame that contains all instances of descriptive textual data for the products. There is a single entry for each game. We run an inner merge because this is the same kind of merge done between these datasets for the final_df in [a_csv_creation.ipynb](a_csv_creation.ipynb). Consequently, this ensures the data we are working with is compatible with other work later on."
   ]
  },
  {
   "cell_type": "code",
   "execution_count": 14,
   "id": "2ce78a8c-edf1-47f8-b429-f3f2d1405aaa",
   "metadata": {},
   "outputs": [],
   "source": [
    "# Import the final DataFrame\n",
    "data_types = {\n",
    "    'app_id': 'int32',\n",
    "    'genres': 'string',\n",
    "    'steamspy_tags': 'string',\n",
    "    'description': 'string',\n",
    "    'tags': 'string',\n",
    "    'categories': 'string'\n",
    "}\n",
    "\n",
    "textual_df = pd.read_csv(\"../data/final_df.csv\", \n",
    "                       usecols = [\"app_id\",\n",
    "                                  \"categories\", \"genres\",\n",
    "                                  \"steamspy_tags\", \"description\",\n",
    "                                  \"tags\"], dtype=data_types)"
   ]
  },
  {
   "cell_type": "code",
   "execution_count": 17,
   "id": "b05774c4-2b28-49e6-83ff-39662ce03e36",
   "metadata": {},
   "outputs": [
    {
     "data": {
      "text/html": [
       "<div>\n",
       "<style scoped>\n",
       "    .dataframe tbody tr th:only-of-type {\n",
       "        vertical-align: middle;\n",
       "    }\n",
       "\n",
       "    .dataframe tbody tr th {\n",
       "        vertical-align: top;\n",
       "    }\n",
       "\n",
       "    .dataframe thead th {\n",
       "        text-align: right;\n",
       "    }\n",
       "</style>\n",
       "<table border=\"1\" class=\"dataframe\">\n",
       "  <thead>\n",
       "    <tr style=\"text-align: right;\">\n",
       "      <th></th>\n",
       "      <th>app_id</th>\n",
       "      <th>description</th>\n",
       "      <th>tags</th>\n",
       "      <th>genres</th>\n",
       "      <th>steamspy_tags</th>\n",
       "      <th>categories</th>\n",
       "    </tr>\n",
       "  </thead>\n",
       "  <tbody>\n",
       "    <tr>\n",
       "      <th>0</th>\n",
       "      <td>304390</td>\n",
       "      <td>Carve a path of destruction through an intense...</td>\n",
       "      <td>['Medieval', 'Swordplay', 'Action', 'Multiplay...</td>\n",
       "      <td>Action</td>\n",
       "      <td>Medieval;Action;Swordplay</td>\n",
       "      <td>Single-player;Online Multi-Player;Online Co-op...</td>\n",
       "    </tr>\n",
       "    <tr>\n",
       "      <th>1</th>\n",
       "      <td>306130</td>\n",
       "      <td>Join over 20 million players in the award-winn...</td>\n",
       "      <td>['RPG', 'MMORPG', 'Open World', 'Adventure', '...</td>\n",
       "      <td>Massively Multiplayer;RPG</td>\n",
       "      <td>RPG;Open World;MMORPG</td>\n",
       "      <td>MMO;Steam Trading Cards;Partial Controller Sup...</td>\n",
       "    </tr>\n",
       "    <tr>\n",
       "      <th>2</th>\n",
       "      <td>238960</td>\n",
       "      <td>You are an Exile, struggling to survive on the...</td>\n",
       "      <td>['Free to Play', 'Action RPG', 'Hack and Slash...</td>\n",
       "      <td>Action;Adventure;Free to Play;Indie;Massively ...</td>\n",
       "      <td>Free to Play;Action RPG;Hack and Slash</td>\n",
       "      <td>Single-player;Multi-player;Online Multi-Player...</td>\n",
       "    </tr>\n",
       "  </tbody>\n",
       "</table>\n",
       "</div>"
      ],
      "text/plain": [
       "   app_id                                        description   \n",
       "0  304390  Carve a path of destruction through an intense...  \\\n",
       "1  306130  Join over 20 million players in the award-winn...   \n",
       "2  238960  You are an Exile, struggling to survive on the...   \n",
       "\n",
       "                                                tags   \n",
       "0  ['Medieval', 'Swordplay', 'Action', 'Multiplay...  \\\n",
       "1  ['RPG', 'MMORPG', 'Open World', 'Adventure', '...   \n",
       "2  ['Free to Play', 'Action RPG', 'Hack and Slash...   \n",
       "\n",
       "                                              genres   \n",
       "0                                             Action  \\\n",
       "1                          Massively Multiplayer;RPG   \n",
       "2  Action;Adventure;Free to Play;Indie;Massively ...   \n",
       "\n",
       "                            steamspy_tags   \n",
       "0               Medieval;Action;Swordplay  \\\n",
       "1                   RPG;Open World;MMORPG   \n",
       "2  Free to Play;Action RPG;Hack and Slash   \n",
       "\n",
       "                                          categories  \n",
       "0  Single-player;Online Multi-Player;Online Co-op...  \n",
       "1  MMO;Steam Trading Cards;Partial Controller Sup...  \n",
       "2  Single-player;Multi-player;Online Multi-Player...  "
      ]
     },
     "execution_count": 17,
     "metadata": {},
     "output_type": "execute_result"
    }
   ],
   "source": [
    "textual_df.drop_duplicates(subset=['app_id'], inplace=True)\n",
    "textual_df.reset_index(drop = True, inplace = True)\n",
    "\n",
    "textual_df.head(3)"
   ]
  },
  {
   "cell_type": "markdown",
   "id": "ff163b68-7ce7-46d9-aaf6-8e6c69e387ec",
   "metadata": {},
   "source": [
    "### Data Preparation"
   ]
  },
  {
   "cell_type": "markdown",
   "id": "81f7a9bf-bac4-4925-be54-bc0c17fcc6fd",
   "metadata": {},
   "source": [
    "#### Text Homogenization\n",
    "\n",
    "The first step undertaken is homgenizing the text across the different columns. We do the following:\n",
    "- Make all words fully lowercase\n",
    "- Transform the _tags_ column from a list to a string\n",
    "- Remove separators in the strings of columns such as _categories_, _steamspy_tags_, etc.\n",
    "- Remove any other punctuation\n",
    "- Homogenize words with spelling discrepancies (e.g. multiplayer & multi-player)\n",
    "\n",
    "Note that we do not remove duplicates (e.g. a game being described as \"Action\" under _genres_ and _steamspy_tags_) because we believe if a word is utilized by more than one source, it should have a stronger weight when vectorizing. "
   ]
  },
  {
   "cell_type": "code",
   "execution_count": 18,
   "id": "cdafb4f9-afcd-4b26-9731-7bfeeb6af6d0",
   "metadata": {},
   "outputs": [],
   "source": [
    "# Turn to String\n",
    "textual_df[\"tags\"] = textual_df[\"tags\"].astype(str)\n",
    "\n",
    "# Remove all punctuation and make everything lowercase\n",
    "textual_df[\"tags\"] = textual_df[\"tags\"].str.translate(str.maketrans('', '', string.punctuation)).str.lower()"
   ]
  },
  {
   "cell_type": "code",
   "execution_count": 19,
   "id": "928805b4-a040-4c2c-953a-c3116d8701d7",
   "metadata": {},
   "outputs": [],
   "source": [
    "# Use vectorized operations to remove separators from list columns and turn all to lowercase\n",
    "for col in [\"categories\", \"genres\", \"steamspy_tags\", \"tags\"]:\n",
    "    textual_df[col] = textual_df[col].str.replace(';', ' ').str.lower()\n",
    "\n",
    "    textual_df[col] = textual_df[col].str.replace(\"multi-player\", \"multiplayer\")\\\n",
    "        .str.replace(\"free to play\", \"free-to-play\").str.replace(\"singleplayer\", \"single-player\")\\\n",
    "        .str.replace(\"post-apocalyptic\", \"postapocalyptic\").str.replace(\"scifi\", \"sci-fi\")\\\n",
    "        .str.replace(\"anti cheat\", \"anti-cheat\").str.replace(\"early access\", \"early-access\")\\\n",
    "        .str.replace(\"shared/split screen\", \"shared/split-screen\").str.replace(\" &\", \"\")\\\n",
    "        .str.replace(\"sexual content\", \"sexual\").str.replace(\" \\(require\", \"\").str.replace(\" hl2\\)\", \"\")\\\n",
    "        .str.replace(\"massively multiplayer\", \"massive-multiplayer\")\\\n",
    "        .str.replace(\"in-app purchases\", \"in-app-purcases\").str.replace(\"perma death\", \"permadeath\")\\\n",
    "        .str.replace(\"third person\", \"third-person\").str.replace(\"multiple endings\",\"multi-ending\")\\\n",
    "        .str.replace(\"1990's\", \"1990s\").str.replace(\"25d\", \"2.5d\").str.replace(\"shoot 'em\", \"shoot'em\")\\\n",
    "        .str.replace(\"co-op\", \"coop\")"
   ]
  },
  {
   "cell_type": "code",
   "execution_count": 20,
   "id": "9efc45ec-1f5f-4219-8a0f-4606c4f01466",
   "metadata": {},
   "outputs": [],
   "source": [
    "# Define punctuation and numbers\n",
    "punc = '''!()[]{};:'\"\\,<>./?@#$%^&*_~'''\n",
    "num = '0123456789'\n",
    "\n",
    "# Remove punctuation, numbers, and turn description to lowercase \n",
    "textual_df[\"description\"] = textual_df[\"description\"].str.replace(f'[{punc+num}]', '', regex=True)\\\n",
    "    .str.lower().str.replace(\"multi-player\", \"multiplayer\")"
   ]
  },
  {
   "cell_type": "markdown",
   "id": "fb145e73-6af4-43ba-b6d3-2ad0e5c97fbb",
   "metadata": {},
   "source": [
    "#### Stopword Removal\n",
    "\n",
    "Although columns like _categories_, _genres_, _steamspy_tags_, and _tags_ do not suffer from this issue, the _description_ column contains stopwords which could be detrimental to our analysis. The stopword list is obtained from a separate [GitHub project](https://gist.githubusercontent.com/rg089/35e00abf8941d72d419224cfd5b5925d/raw/12d899b70156fd0041fa9778d657330b024b959c/stopwords.txt)."
   ]
  },
  {
   "cell_type": "code",
   "execution_count": 21,
   "id": "8a21851d-75ed-4719-acde-b46d478a08d5",
   "metadata": {},
   "outputs": [],
   "source": [
    "# Obtain stopwords\n",
    "stopwords_list = requests.get(\"https://gist.githubusercontent.com/rg089/35e00abf8941d72d419224cfd5b5925d/raw/12d899b70156fd0041fa9778d657330b024b959c/stopwords.txt\").content\n",
    "stopwords = set(stopwords_list.decode().splitlines()) \n",
    "\n",
    "# Remove Stopwords\n",
    "textual_df['description'] = textual_df['description']\\\n",
    ".apply(lambda x: ' '.join([word for word in x.split() if word not in (stopwords)]))"
   ]
  },
  {
   "cell_type": "markdown",
   "id": "1f8e916c-4414-4539-9852-99ec7a6f00c9",
   "metadata": {},
   "source": [
    "#### Full Text Column Creation\n",
    "\n",
    "Finally, we create a new column which contains all the textual information we have on a game.   "
   ]
  },
  {
   "cell_type": "code",
   "execution_count": 22,
   "id": "0d1c7a6c-026c-4382-900a-11f3d576364c",
   "metadata": {},
   "outputs": [],
   "source": [
    "textual_df['full_text'] = textual_df['categories'] + ' ' + textual_df['genres'] + ' ' + textual_df['steamspy_tags'] + ' ' + textual_df['description'] + ' ' + textual_df['tags']"
   ]
  },
  {
   "cell_type": "markdown",
   "id": "cb1975ae-00d4-4e6a-8e55-23c52d0b1f9d",
   "metadata": {},
   "source": [
    "#### Export textual_df\n",
    "\n",
    "This will be used in the main model."
   ]
  },
  {
   "cell_type": "code",
   "execution_count": 26,
   "id": "28381ad5-9a9e-4da5-92a4-c40e846c9aa2",
   "metadata": {},
   "outputs": [],
   "source": [
    "textual_df.to_csv(\"../data/textual_data.csv\", index = False,\n",
    "                 columns = [\"app_id\", \"full_text\"])"
   ]
  },
  {
   "cell_type": "markdown",
   "id": "e2621f0b-e320-4e6e-8bd8-53765ea0935c",
   "metadata": {},
   "source": [
    "### Text Data Exploration\n",
    "\n",
    "We dedicate a section to exploring text data and truly understanding the breadth of data and labels which are available on textual_df."
   ]
  },
  {
   "cell_type": "markdown",
   "id": "3673fc12-59ed-49cd-a556-12b0a568ccc6",
   "metadata": {},
   "source": [
    "**Number of Distinct Labels:** All four labelling columns feature different tag systems with wholly different labels (and variety thereof). Here we check how these vary in terms of numbers. While _categories_ and _genres_ have a relatively restrained count of unique labels (35 and 23 respectively), _tags_ and _steamspy_tags_ have much greater breadth (with 169 and 375 respectively). "
   ]
  },
  {
   "cell_type": "code",
   "execution_count": 27,
   "id": "3f790161-e4db-4203-8e3d-fd12eee6f8f6",
   "metadata": {},
   "outputs": [
    {
     "name": "stdout",
     "output_type": "stream",
     "text": [
      "The \u001b[1m'categories' column\u001b[0m features a total of \u001b[1m35 distinct labels\u001b[0m.\n",
      "The \u001b[1m'genres' column\u001b[0m features a total of \u001b[1m23 distinct labels\u001b[0m.\n",
      "The \u001b[1m'steamspy_tags' column\u001b[0m features a total of \u001b[1m169 distinct labels\u001b[0m.\n",
      "The \u001b[1m'tags' column\u001b[0m features a total of \u001b[1m375 distinct labels\u001b[0m.\n"
     ]
    }
   ],
   "source": [
    "for i in [\"categories\", \"genres\", \"steamspy_tags\", \"tags\"]:\n",
    "    split_count = len(textual_df[i].str.split(' ', expand=True).stack().unique())\n",
    "    print(f\"The \\033[1m'{i}' column\\033[0m features a total of \\033[1m{split_count} distinct labels\\033[0m.\")"
   ]
  },
  {
   "cell_type": "markdown",
   "id": "f33fa71a-b3c5-4e91-bf81-56c2c0c46b74",
   "metadata": {},
   "source": [
    "**Average Number of Labels per Game:** While there is a great difference in the number of unique labels, the average number of labels assigned to a single game is on average quite stable. In fact, _genres_, _steamspy_tags_, and _tags_ all approximately have the same number of labels per row (to two decimal figures). Despite having the lowest number of different labels, _genres_ has the highest number of labels per row: 7.90."
   ]
  },
  {
   "cell_type": "code",
   "execution_count": 28,
   "id": "0a4833ab-cf05-420a-96c1-ccf8f3e468cc",
   "metadata": {},
   "outputs": [
    {
     "name": "stdout",
     "output_type": "stream",
     "text": [
      "The entries in the\u001b[1m 'categories' column\u001b[0m have an approximate average of\u001b[1m 7.7 labels per row\u001b[0m.\n",
      "The entries in the\u001b[1m 'genres' column\u001b[0m have an approximate average of\u001b[1m 7.9 labels per row\u001b[0m.\n",
      "The entries in the\u001b[1m 'steamspy_tags' column\u001b[0m have an approximate average of\u001b[1m 7.12 labels per row\u001b[0m.\n",
      "The entries in the\u001b[1m 'tags' column\u001b[0m have an approximate average of\u001b[1m 7.16 labels per row\u001b[0m.\n"
     ]
    }
   ],
   "source": [
    "for i in [\"categories\", \"genres\", \"steamspy_tags\", \"tags\"]:\n",
    "    \n",
    "    split = [len(j) for j in textual_df[i].str.split(' ', expand=True).stack()]\n",
    "    split_mean = sum(split) / len(split)\n",
    "    \n",
    "    print(\"The entries in the\\033[1m\", f\"'{i}'\", \"column\\033[0m have an approximate average of\\033[1m\", \n",
    "          round(split_mean,2), \"labels per row\\033[0m.\") "
   ]
  },
  {
   "cell_type": "markdown",
   "id": "63ab1950-4862-4835-8086-ce29d8a39db2",
   "metadata": {},
   "source": [
    "**Most Common Labels**\n",
    "\n",
    "_Categories_: The most common category, \"Steam\", only refers to the platform where all the games are hosted. Hence, it's not interesting to characterise the games. The other categories show that multiplayer games are more common than single player ones (respectively 310 and 266) and that most of the games support trading and card-based gameplay, with achievements and controller support being common features.\n",
    "\n",
    "_Genres_: these tags suggest that there is a diverse mix of game types in the dataset, with action and indie games being the most common and casual the least  one.\n",
    "\n",
    "_Streamspy tags_: these tags confirm that the most common game genre is action (68 occurences), followed by strategy. The tag \"world\" is second in terms of occurences, referring to the setting of the games. Moreover, \"early-access\" availability is common among the games featured in the dataset. \n",
    "\n",
    "_Tags_: the last category suggests that cooperative gameplay is an important feature for many games in your dataset (\"coop\" is featured 277 times), and that there are a lot of action, adventure, and RPG games with open worlds and atmospheric settings. Differently from the \"Categories\" variable, \"Tags\" suggests that the single player games are more frequent than the multi-player games (257 and 249 respectively). "
   ]
  },
  {
   "cell_type": "code",
   "execution_count": 29,
   "id": "bec5911b-a011-4896-83de-2c03afe7175a",
   "metadata": {},
   "outputs": [
    {
     "name": "stdout",
     "output_type": "stream",
     "text": [
      "The most frequently recurring tags (along with their occurrence) in the 'categories' column: \n",
      "steam            660\n",
      "multiplayer      310\n",
      "single-player    266\n",
      "support          213\n",
      "achievements     212\n",
      "controller       206\n",
      "trading          186\n",
      "cards            186\n",
      "coop             172\n",
      "online           163\n",
      "Name: count, dtype: Int64\n",
      "\n",
      "The most frequently recurring tags (along with their occurrence) in the 'genres' column: \n",
      "action                 171\n",
      "indie                  110\n",
      "adventure               95\n",
      "simulation              89\n",
      "rpg                     75\n",
      "strategy                75\n",
      "early-access            52\n",
      "free-to-play            41\n",
      "massive-multiplayer     40\n",
      "casual                  27\n",
      "Name: count, dtype: Int64\n",
      "\n",
      "The most frequently recurring tags (along with their occurrence) in the 'steamspy_tags' column: \n",
      "action          68\n",
      "world           55\n",
      "strategy        54\n",
      "early-access    52\n",
      "multiplayer     51\n",
      "rpg             50\n",
      "open            48\n",
      "survival        37\n",
      "free-to-play    36\n",
      "simulation      36\n",
      "Name: count, dtype: Int64\n",
      "\n",
      "The most frequently recurring tags (along with their occurrence) in the 'tags' column: \n",
      "coop             277\n",
      "action           275\n",
      "single-player    257\n",
      "multiplayer      249\n",
      "adventure        182\n",
      "world            158\n",
      "strategy         156\n",
      "rpg              153\n",
      "open             151\n",
      "atmospheric      140\n",
      "Name: count, dtype: int64\n",
      "\n"
     ]
    }
   ],
   "source": [
    "for i in [\"categories\", \"genres\", \"steamspy_tags\", \"tags\"]:\n",
    "    \n",
    "    split_count = textual_df[i].str.split(' ', expand=True).stack().value_counts()\n",
    "    \n",
    "    print(\"The most frequently recurring tags (along with their occurrence) in the\", f\"'{i}'\",\n",
    "          \"column:\", f\"\\n{split_count.nlargest(10)}\\n\")"
   ]
  },
  {
   "cell_type": "markdown",
   "id": "339a4ba2-2db7-4321-90f2-6680ec2de41b",
   "metadata": {},
   "source": [
    "**Tag Intersection:** Finally, we check if there are certain tags which exist in multiple columns (e.g. \"action\" being an entry in the _genres_, but also in _tags_). We find that there are 410 labels features in at least two different variables, but 0 featured in all of them. This highlights the importance of keeping all the four columns during our analysis so to preserve all the informative content."
   ]
  },
  {
   "cell_type": "code",
   "execution_count": 30,
   "id": "275a3496-103b-4299-bc70-bb31eeecb4d6",
   "metadata": {},
   "outputs": [
    {
     "name": "stdout",
     "output_type": "stream",
     "text": [
      "The number of labels present in at least two columns is: 409\n",
      "The number of labels present in all four columns is: 0\n"
     ]
    }
   ],
   "source": [
    "# Get the unique values in each column\n",
    "categories = set(textual_df['categories'].str.split(' ').explode().str.strip())\n",
    "tags = set(textual_df['tags'].str.split(' ').explode().str.strip())\n",
    "steamspy_tags = set(textual_df['steamspy_tags'].str.split(' ').explode().str.strip())\n",
    "genre = set(textual_df['genres'].str.split(' ').explode().str.strip())\n",
    "\n",
    "# Find the intersection of the sets to get the values that exist in all four columns\n",
    "or_intersection = categories | tags | steamspy_tags | genre\n",
    "and_intersection = categories & tags & steamspy_tags & genre\n",
    "\n",
    "# Print the number of unique values that exist in all four columns\n",
    "print(\"The number of labels present in at least two columns is:\", len(or_intersection))\n",
    "print(\"The number of labels present in all four columns is:\", len(and_intersection))"
   ]
  },
  {
   "cell_type": "markdown",
   "id": "a2da676c-f2aa-4d77-8fcb-94e9e84580e9",
   "metadata": {},
   "source": [
    "#### Textual Data Vectorization\n",
    "\n",
    "First we create a vector containing information concerning the textual descriptions of the games. We display the first three rows of the resulting array in the form of a fully labelled DataFrame with indexation and column names."
   ]
  },
  {
   "cell_type": "code",
   "execution_count": 23,
   "id": "c1d0961b-a3fe-44ca-a5b3-140433590659",
   "metadata": {},
   "outputs": [
    {
     "data": {
      "text/html": [
       "<div>\n",
       "<style scoped>\n",
       "    .dataframe tbody tr th:only-of-type {\n",
       "        vertical-align: middle;\n",
       "    }\n",
       "\n",
       "    .dataframe tbody tr th {\n",
       "        vertical-align: top;\n",
       "    }\n",
       "\n",
       "    .dataframe thead th {\n",
       "        text-align: right;\n",
       "    }\n",
       "</style>\n",
       "<table border=\"1\" class=\"dataframe\">\n",
       "  <thead>\n",
       "    <tr style=\"text-align: right;\">\n",
       "      <th></th>\n",
       "      <th>single</th>\n",
       "      <th>player</th>\n",
       "      <th>multiplayer</th>\n",
       "      <th>online</th>\n",
       "      <th>coop</th>\n",
       "      <th>steam</th>\n",
       "      <th>achievements</th>\n",
       "      <th>workshop</th>\n",
       "      <th>partial</th>\n",
       "      <th>controller</th>\n",
       "      <th>...</th>\n",
       "      <th>jazz</th>\n",
       "      <th>recordings</th>\n",
       "      <th>perpetual</th>\n",
       "      <th>testing</th>\n",
       "      <th>initiative</th>\n",
       "      <th>expanded</th>\n",
       "      <th>puzzles</th>\n",
       "      <th>casts</th>\n",
       "      <th>swarming</th>\n",
       "      <th>mutant</th>\n",
       "    </tr>\n",
       "    <tr>\n",
       "      <th>title</th>\n",
       "      <th></th>\n",
       "      <th></th>\n",
       "      <th></th>\n",
       "      <th></th>\n",
       "      <th></th>\n",
       "      <th></th>\n",
       "      <th></th>\n",
       "      <th></th>\n",
       "      <th></th>\n",
       "      <th></th>\n",
       "      <th></th>\n",
       "      <th></th>\n",
       "      <th></th>\n",
       "      <th></th>\n",
       "      <th></th>\n",
       "      <th></th>\n",
       "      <th></th>\n",
       "      <th></th>\n",
       "      <th></th>\n",
       "      <th></th>\n",
       "      <th></th>\n",
       "    </tr>\n",
       "  </thead>\n",
       "  <tbody>\n",
       "    <tr>\n",
       "      <th>Space Engineers</th>\n",
       "      <td>0</td>\n",
       "      <td>0</td>\n",
       "      <td>0</td>\n",
       "      <td>0</td>\n",
       "      <td>0</td>\n",
       "      <td>0</td>\n",
       "      <td>0</td>\n",
       "      <td>0</td>\n",
       "      <td>0</td>\n",
       "      <td>0</td>\n",
       "      <td>...</td>\n",
       "      <td>0</td>\n",
       "      <td>0</td>\n",
       "      <td>0</td>\n",
       "      <td>0</td>\n",
       "      <td>0</td>\n",
       "      <td>0</td>\n",
       "      <td>0</td>\n",
       "      <td>0</td>\n",
       "      <td>0</td>\n",
       "      <td>0</td>\n",
       "    </tr>\n",
       "    <tr>\n",
       "      <th>Minion Masters</th>\n",
       "      <td>0</td>\n",
       "      <td>0</td>\n",
       "      <td>0</td>\n",
       "      <td>0</td>\n",
       "      <td>0</td>\n",
       "      <td>0</td>\n",
       "      <td>0</td>\n",
       "      <td>0</td>\n",
       "      <td>0</td>\n",
       "      <td>0</td>\n",
       "      <td>...</td>\n",
       "      <td>0</td>\n",
       "      <td>0</td>\n",
       "      <td>0</td>\n",
       "      <td>0</td>\n",
       "      <td>0</td>\n",
       "      <td>0</td>\n",
       "      <td>0</td>\n",
       "      <td>0</td>\n",
       "      <td>0</td>\n",
       "      <td>0</td>\n",
       "    </tr>\n",
       "    <tr>\n",
       "      <th>Hearts of Iron IV</th>\n",
       "      <td>0</td>\n",
       "      <td>0</td>\n",
       "      <td>0</td>\n",
       "      <td>0</td>\n",
       "      <td>0</td>\n",
       "      <td>0</td>\n",
       "      <td>0</td>\n",
       "      <td>0</td>\n",
       "      <td>0</td>\n",
       "      <td>0</td>\n",
       "      <td>...</td>\n",
       "      <td>0</td>\n",
       "      <td>0</td>\n",
       "      <td>0</td>\n",
       "      <td>0</td>\n",
       "      <td>0</td>\n",
       "      <td>0</td>\n",
       "      <td>0</td>\n",
       "      <td>0</td>\n",
       "      <td>0</td>\n",
       "      <td>0</td>\n",
       "    </tr>\n",
       "  </tbody>\n",
       "</table>\n",
       "<p>3 rows × 2935 columns</p>\n",
       "</div>"
      ],
      "text/plain": [
       "                   single  player  multiplayer  online  coop  steam  \\\n",
       "title                                                                 \n",
       "Space Engineers         0       0            0       0     0      0   \n",
       "Minion Masters          0       0            0       0     0      0   \n",
       "Hearts of Iron IV       0       0            0       0     0      0   \n",
       "\n",
       "                   achievements  workshop  partial  controller  ...  jazz  \\\n",
       "title                                                           ...         \n",
       "Space Engineers               0         0        0           0  ...     0   \n",
       "Minion Masters                0         0        0           0  ...     0   \n",
       "Hearts of Iron IV             0         0        0           0  ...     0   \n",
       "\n",
       "                   recordings  perpetual  testing  initiative  expanded  \\\n",
       "title                                                                     \n",
       "Space Engineers             0          0        0           0         0   \n",
       "Minion Masters              0          0        0           0         0   \n",
       "Hearts of Iron IV           0          0        0           0         0   \n",
       "\n",
       "                   puzzles  casts  swarming  mutant  \n",
       "title                                                \n",
       "Space Engineers          0      0         0       0  \n",
       "Minion Masters           0      0         0       0  \n",
       "Hearts of Iron IV        0      0         0       0  \n",
       "\n",
       "[3 rows x 2935 columns]"
      ]
     },
     "execution_count": 23,
     "metadata": {},
     "output_type": "execute_result"
    }
   ],
   "source": [
    "# Initialize CountVectorizer\n",
    "vectorizer = CountVectorizer()\n",
    "\n",
    "# Fit and transform full text column\n",
    "fulltext_vector = vectorizer.fit_transform(textual_df['full_text'])\n",
    "fulltext_array = fulltext_vector.toarray()\n",
    "\n",
    "# Get the feature names\n",
    "feature_names = vectorizer.vocabulary_.keys()\n",
    "\n",
    "# Create DataFrame\n",
    "vector_df = pd.DataFrame(fulltext_array, columns = feature_names,\n",
    "                        index = textual_df[\"app_id\"])\n",
    "vector_df.head(3)"
   ]
  },
  {
   "cell_type": "markdown",
   "id": "7733d1b1-958a-4836-a5ab-409555c092c5",
   "metadata": {},
   "source": [
    "#### Optimal Component Selection: Scree Test\n",
    "\n",
    "The ultimate objective is to utilize Truncated Singular Value Decomposition to reduce the textual data's dimensionality and create a latent matrix. In order to do that, we conduct a Scree Test to determine the optimal number of components to be used. We decide that we want at least 90% of variance being explained by the decomposition. We find the minimum number of components necessary to achieve this and use the elbow method to identify the optimal number of components under the constraint that it explains at least 90% of data.\n",
    "\n",
    "In order to identify the knee point, we use the [_kneed_](https://pypi.org/project/kneed/) library, which is based on the [_kneedle algorithm_](https://raghavan.usc.edu//papers/kneedle-simplex11.pdf) developed by Ville Satopaa, Jeannie Albrecht, David Irwin, and Barath Raghavan. \n",
    "\n",
    "**Note:** Fitting the svd model requires a lot of time. It is advised to only run the block of code below only once. "
   ]
  },
  {
   "cell_type": "code",
   "execution_count": 32,
   "id": "e8592fed-f02d-431c-b847-f6f3a7a14b23",
   "metadata": {},
   "outputs": [
    {
     "ename": "NameError",
     "evalue": "name 'vector_df' is not defined",
     "output_type": "error",
     "traceback": [
      "\u001b[0;31m---------------------------------------------------------------------------\u001b[0m",
      "\u001b[0;31mNameError\u001b[0m                                 Traceback (most recent call last)",
      "Cell \u001b[0;32mIn[32], line 5\u001b[0m\n\u001b[1;32m      2\u001b[0m svd \u001b[38;5;241m=\u001b[39m TruncatedSVD(n_components\u001b[38;5;241m=\u001b[39m\u001b[38;5;241m300\u001b[39m, random_state \u001b[38;5;241m=\u001b[39m \u001b[38;5;241m70\u001b[39m)\n\u001b[1;32m      4\u001b[0m \u001b[38;5;66;03m# Fit to the Matrix\u001b[39;00m\n\u001b[0;32m----> 5\u001b[0m scree_matrix \u001b[38;5;241m=\u001b[39m svd\u001b[38;5;241m.\u001b[39mfit(\u001b[43mvector_df\u001b[49m)\n",
      "\u001b[0;31mNameError\u001b[0m: name 'vector_df' is not defined"
     ]
    }
   ],
   "source": [
    "# Create Instance of SVD with 10000 Components\n",
    "svd = TruncatedSVD(n_components=300, random_state = 70)\n",
    "\n",
    "# Fit to the Matrix\n",
    "scree_matrix = svd.fit(vector_df)"
   ]
  },
  {
   "cell_type": "code",
   "execution_count": 25,
   "id": "6502c032-cde6-40b7-99a0-aae9ac3055bb",
   "metadata": {},
   "outputs": [
    {
     "name": "stdout",
     "output_type": "stream",
     "text": [
      "The number of features required to explain at least 90% of variance is 154\n"
     ]
    }
   ],
   "source": [
    "# Find Cumulative Explained Variance Percentage\n",
    "cum_variance = np.cumsum(scree_matrix.explained_variance_ratio_)\n",
    "\n",
    "# Identify First Instance of Expl. Variance Above 90%\n",
    "ninety_threshold = np.argmax(cum_variance >= 0.9) \n",
    "\n",
    "print(f\"The number of features required to explain at least 90% of variance is {ninety_threshold + 1}\")"
   ]
  },
  {
   "cell_type": "code",
   "execution_count": 26,
   "id": "f9407e6e-09db-4909-a090-f6f2fde2153d",
   "metadata": {},
   "outputs": [
    {
     "data": {
      "text/plain": [
       "[<matplotlib.lines.Line2D at 0x23184b6a6a0>]"
      ]
     },
     "execution_count": 26,
     "metadata": {},
     "output_type": "execute_result"
    },
    {
     "data": {
      "image/png": "[encoded data removed]",
      "text/plain": [
       "<Figure size 432x288 with 1 Axes>"
      ]
     },
     "metadata": {},
     "output_type": "display_data"
    }
   ],
   "source": [
    "# Obtain Explained Variance\n",
    "expl_variance = scree_matrix.explained_variance_\n",
    "\n",
    "# Find Elbow Point\n",
    "kneedle = KneeLocator(np.arange(ninety_threshold + 1, len(expl_variance)+ 1), \n",
    "                      expl_variance[ninety_threshold:], curve='convex', \n",
    "                      direction='decreasing')\n",
    "\n",
    "elbow_location = kneedle.elbow\n",
    "\n",
    "# Plot Elbow\n",
    "sns.set_theme()\n",
    "\n",
    "plt.plot(np.arange(1, len(expl_variance)+1),\n",
    "         expl_variance[0:],\n",
    "         label = \"Explained Variance\")\n",
    "\n",
    "# Add Title and Axis Labels\n",
    "plt.title(\"Scree Test for SVD Analysis\")\n",
    "plt.ylabel(\"Explained Variance\")\n",
    "plt.xlabel(\"Number of Components\")\n",
    "plt.legend()\n",
    "\n",
    "# Add Annotation and Point to Show Location of 90%\n",
    "plt.annotate(f\"90% of Variance Explained at {ninety_threshold + 1} Components\", \n",
    "             xy=(ninety_threshold + 1, expl_variance[ninety_threshold]),\n",
    "             xytext=(40, 4),\n",
    "             arrowprops=dict(arrowstyle=\"-\",\n",
    "                             color = \"black\"), fontsize=10)\n",
    "\n",
    "plt.plot(ninety_threshold + 1, expl_variance[ninety_threshold], \"ko\",\n",
    "         label = \"Elbow Point\")\n",
    "\n",
    "# Add Annotation and Point to Show Location of Elbow\n",
    "plt.annotate(f\"Post-90% Elbow at {elbow_location} Components\", \n",
    "             xy=(elbow_location, expl_variance[elbow_location - 1]),\n",
    "             xytext=(150, 2),\n",
    "             arrowprops=dict(arrowstyle=\"-\",\n",
    "                             color = \"black\"), fontsize=10)\n",
    "\n",
    "plt.plot(elbow_location, expl_variance[elbow_location - 1], \"ko\",\n",
    "         label = \"Elbow Point\")"
   ]
  },
  {
   "cell_type": "markdown",
   "id": "60c91e26-646f-44d5-a001-ba0827587f7b",
   "metadata": {},
   "source": [
    "## User Similarity"
   ]
  },
  {
   "cell_type": "code",
   "execution_count": 16,
   "id": "1efe9d92-bbbc-452d-9714-640f378b79b3",
   "metadata": {},
   "outputs": [],
   "source": [
    "# Import the final DataFrame\n",
    "data_types = {\n",
    "    'app_id': 'int32',\n",
    "    'y': 'bool',\n",
    "    'user_id': 'int32'\n",
    "}\n",
    "\n",
    "user_df = pd.read_csv(\"../data/final_df.csv\", \n",
    "                       usecols = [\"app_id\", \"user_id\",\n",
    "                                 \"y\"], dtype=data_types)"
   ]
  },
  {
   "cell_type": "code",
   "execution_count": null,
   "id": "f76a30bb-a2f9-4c02-a559-ff6c0e4194d9",
   "metadata": {},
   "outputs": [],
   "source": [
    "# Turn Booleans to Integers\n",
    "user_df[\"y\"] = user_df[\"y\"].astype(int).replace(0, -1)"
   ]
  },
  {
   "cell_type": "code",
   "execution_count": null,
   "id": "6621c312-5f3d-43f1-a577-8175a2de871a",
   "metadata": {},
   "outputs": [],
   "source": [
    "# Create Pivot Table\n",
    "rec_pivot = user_df.pivot_table(index = \"user_id\", columns = \"app_id\",\n",
    "                   values = \"y\", fill_value = 0)"
   ]
  },
  {
   "cell_type": "code",
   "execution_count": null,
   "id": "2667940a-a921-4413-940c-c8e62258e00b",
   "metadata": {},
   "outputs": [],
   "source": [
    "rec_pivot"
   ]
  },
  {
   "cell_type": "code",
   "execution_count": null,
   "id": "9b3527a9-a681-4133-afb6-d351ac698864",
   "metadata": {},
   "outputs": [],
   "source": [
    "for index, row in final_df.iterrows():\n",
    "    \n",
    "    # Identify User ID, Rows, and Title\n",
    "    user_id = row['user_id']\n",
    "    user_rows = final_df[final_df['user_id'] == user_id]\n",
    "    user_titles = user_rows['app_id']\n",
    "    \n",
    "    # Create Empty List\n",
    "    similarity_scores = []\n",
    "    \n",
    "    # Iterate Through Titles\n",
    "    for iter_title in user_titles:\n",
    "        \n",
    "        # Define Rows Which are Not in Iteration and Title\n",
    "        other_rows = user_rows[user_rows['app_id'] != iter_title]\n",
    "        other_titles = other_rows['app_id']\n",
    "        \n",
    "        # If There are None, do Nothing and Continue\n",
    "        if len(other_titles) == 0:\n",
    "            continue\n",
    "        \n",
    "        # Create Empty List of Similarities\n",
    "        similarities_list = []\n",
    "        \n",
    "        # Iterate Through Other Titles\n",
    "        for other_title in other_titles:\n",
    "            \n",
    "            # Continue if Equal to Iter_Titles\n",
    "            if other_title == iter_title:\n",
    "                continue\n",
    "            \n",
    "            # Identify Similarity of Other Title to Iter Title\n",
    "            try:\n",
    "                similarity = content_similarity_df.loc[iter_title, other_title]\n",
    "                \n",
    "            except KeyError:\n",
    "                continue\n",
    "            \n",
    "            # If Review is Positive Maintain Score, if Negative Negativize Score\n",
    "            if final_df.loc[(final_df['user_id'] == user_id) & (final_df['app_id'] == other_title), 'y'].values[0] == 0:\n",
    "                similarity *= -1\n",
    "            \n",
    "            # Append Similarity to List\n",
    "            similarities_list.append(similarity)\n",
    "                \n",
    "        # If there are elements in this list        \n",
    "        if len(similarities_list) > 0:\n",
    "            avg_sim = np.average(similarities_list) \n",
    "            final_df.at[index, 'similarity'] = avg_sim\n",
    "            \n",
    "        # If there are no elements, add None\n",
    "        else:\n",
    "            final_df.at[index, 'similarity'] = None"
   ]
  }
 ],
 "metadata": {
  "kernelspec": {
   "display_name": "Python 3 (ipykernel)",
   "language": "python",
   "name": "python3"
  },
  "language_info": {
   "codemirror_mode": {
    "name": "ipython",
    "version": 3
   },
   "file_extension": ".py",
   "mimetype": "text/x-python",
   "name": "python",
   "nbconvert_exporter": "python",
   "pygments_lexer": "ipython3",
   "version": "3.9.16"
  }
 },
 "nbformat": 4,
 "nbformat_minor": 5
}
