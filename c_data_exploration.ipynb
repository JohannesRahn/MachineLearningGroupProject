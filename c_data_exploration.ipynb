{
 "cells": [
  {
   "cell_type": "markdown",
   "id": "dea93456-a96e-4d1f-99ec-0c38d40bda89",
   "metadata": {},
   "source": [
    "# **Machine Learning Group Project:** Data Exploration and Feature Engineering \n",
    "\n",
    "Make sure to **only run this notebook once the previous notebooks [a_csv_creation.ipynb](a_csv_creation.ipynb) and [b_recommender_system.ipynb](b_recommender_system.ipynb) have been run at least once.** \n",
    "\n",
    "If those notebooks have both been run at least once, the kernel may be restarted before running this in order to obtain better performance and vaster machine memory."
   ]
  },
  {
   "cell_type": "markdown",
   "id": "f2540aaf-fc28-463b-ae53-9f3af7f6b760",
   "metadata": {},
   "source": [
    "## Importing Packages "
   ]
  },
  {
   "cell_type": "code",
   "execution_count": 92,
   "id": "bacd787f",
   "metadata": {},
   "outputs": [],
   "source": [
    "import ast\n",
    "import csv\n",
    "import datetime\n",
    "import pandas as pd\n",
    "import numpy as np\n",
    "from datetime import datetime\n",
    "\n",
    "# Plotting\n",
    "import seaborn as sns\n",
    "import matplotlib.pyplot as plt\n",
    "import matplotlib.ticker as mtick\n",
    "\n",
    "# From sklearn\n",
    "from sklearn.compose import ColumnTransformer\n",
    "from sklearn.pipeline import Pipeline, FeatureUnion\n",
    "from sklearn.linear_model import LinearRegression, LogisticRegression, Ridge\n",
    "from sklearn.model_selection import train_test_split, cross_val_score, GridSearchCV\n",
    "from sklearn.metrics import accuracy_score, precision_score, recall_score, f1_score, make_scorer, mean_squared_error\n",
    "from sklearn.preprocessing import FunctionTransformer, StandardScaler, OneHotEncoder, KBinsDiscretizer, OrdinalEncoder"
   ]
  },
  {
   "cell_type": "markdown",
   "id": "c58944f8-dc00-4a5c-988c-55a0904080f7",
   "metadata": {},
   "source": [
    "## Reading DataFrame"
   ]
  },
  {
   "cell_type": "code",
   "execution_count": 93,
   "id": "e4cccfbe-8970-4925-85a4-e96b4d687f9e",
   "metadata": {},
   "outputs": [],
   "source": [
    "# Import the final DataFrame\n",
    "final_df = pd.read_csv(\"data/final_df.csv\")\n",
    "\n",
    "# Import the Similarity DataFrame\n",
    "similarity_df = pd.read_csv(\"data/content_base.csv\", index_col = \"title\")"
   ]
  },
  {
   "cell_type": "code",
   "execution_count": 94,
   "id": "c03789a1-de5a-497d-88a6-274cc2d3b8e0",
   "metadata": {},
   "outputs": [],
   "source": [
    "# Rearrange Columns\n",
    "final_df = final_df.reindex(columns = [\"review_id\", \"y\", \"date\", \"funny\", \"helpful\",\n",
    "                                       \"app_id\", \"title\", \"date_release\", \"rating\", \n",
    "                                       \"positive_ratio\", \"user_reviews\", \"win\", \"mac\", \"linux\", \n",
    "                                       \"price_final\", \"price_original\", \"discount\", \"description\",\n",
    "                                       \"tags\", 'english', 'developer', 'publisher', 'required_age', \n",
    "                                       'genres', 'steamspy_tags','achievements', 'average_playtime', \n",
    "                                       'median_playtime', \"owners\", \"steam_deck\",\n",
    "                                       \"user_id\", \"products\", \"reviews\", \"hours\"])\n",
    "\n",
    "# Sort by Review ID\n",
    "final_df.sort_values(by=[\"review_id\"], inplace = True)"
   ]
  },
  {
   "cell_type": "code",
   "execution_count": 95,
   "id": "f81d9e67-4cd8-4df5-9652-596df91e6d51",
   "metadata": {},
   "outputs": [
    {
     "data": {
      "text/html": [
       "<div>\n",
       "<style scoped>\n",
       "    .dataframe tbody tr th:only-of-type {\n",
       "        vertical-align: middle;\n",
       "    }\n",
       "\n",
       "    .dataframe tbody tr th {\n",
       "        vertical-align: top;\n",
       "    }\n",
       "\n",
       "    .dataframe thead th {\n",
       "        text-align: right;\n",
       "    }\n",
       "</style>\n",
       "<table border=\"1\" class=\"dataframe\">\n",
       "  <thead>\n",
       "    <tr style=\"text-align: right;\">\n",
       "      <th></th>\n",
       "      <th>FOR HONOR™</th>\n",
       "      <th>The Elder Scrolls® Online</th>\n",
       "      <th>Path of Exile</th>\n",
       "      <th>Counter-Strike: Global Offensive</th>\n",
       "      <th>Cities: Skylines</th>\n",
       "      <th>Sid Meier’s Civilization® VI</th>\n",
       "      <th>Wallpaper Engine</th>\n",
       "      <th>CarX Drift Racing Online</th>\n",
       "      <th>X4: Foundations</th>\n",
       "      <th>Dota 2</th>\n",
       "      <th>...</th>\n",
       "      <th>DayZ</th>\n",
       "      <th>Hollow Knight</th>\n",
       "      <th>Don't Starve Together</th>\n",
       "      <th>Barony</th>\n",
       "      <th>Deep Rock Galactic</th>\n",
       "      <th>Insurgency: Sandstorm</th>\n",
       "      <th>Middle-earth™: Shadow of War™</th>\n",
       "      <th>Tabletop Simulator</th>\n",
       "      <th>TEKKEN 7</th>\n",
       "      <th>Cuphead</th>\n",
       "    </tr>\n",
       "    <tr>\n",
       "      <th>title</th>\n",
       "      <th></th>\n",
       "      <th></th>\n",
       "      <th></th>\n",
       "      <th></th>\n",
       "      <th></th>\n",
       "      <th></th>\n",
       "      <th></th>\n",
       "      <th></th>\n",
       "      <th></th>\n",
       "      <th></th>\n",
       "      <th></th>\n",
       "      <th></th>\n",
       "      <th></th>\n",
       "      <th></th>\n",
       "      <th></th>\n",
       "      <th></th>\n",
       "      <th></th>\n",
       "      <th></th>\n",
       "      <th></th>\n",
       "      <th></th>\n",
       "      <th></th>\n",
       "    </tr>\n",
       "  </thead>\n",
       "  <tbody>\n",
       "    <tr>\n",
       "      <th>FOR HONOR™</th>\n",
       "      <td>1.000000</td>\n",
       "      <td>0.378657</td>\n",
       "      <td>0.568355</td>\n",
       "      <td>0.411492</td>\n",
       "      <td>0.220736</td>\n",
       "      <td>0.331522</td>\n",
       "      <td>0.148895</td>\n",
       "      <td>0.404520</td>\n",
       "      <td>0.272764</td>\n",
       "      <td>0.381279</td>\n",
       "      <td>...</td>\n",
       "      <td>0.276299</td>\n",
       "      <td>0.328976</td>\n",
       "      <td>0.368748</td>\n",
       "      <td>0.471119</td>\n",
       "      <td>0.455056</td>\n",
       "      <td>0.455842</td>\n",
       "      <td>0.501683</td>\n",
       "      <td>0.403961</td>\n",
       "      <td>0.465242</td>\n",
       "      <td>0.365271</td>\n",
       "    </tr>\n",
       "    <tr>\n",
       "      <th>The Elder Scrolls® Online</th>\n",
       "      <td>0.378657</td>\n",
       "      <td>1.000000</td>\n",
       "      <td>0.575836</td>\n",
       "      <td>0.262915</td>\n",
       "      <td>0.143692</td>\n",
       "      <td>0.171441</td>\n",
       "      <td>0.108306</td>\n",
       "      <td>0.417434</td>\n",
       "      <td>0.231476</td>\n",
       "      <td>0.316267</td>\n",
       "      <td>...</td>\n",
       "      <td>0.452204</td>\n",
       "      <td>0.345651</td>\n",
       "      <td>0.440020</td>\n",
       "      <td>0.411749</td>\n",
       "      <td>0.286873</td>\n",
       "      <td>0.359211</td>\n",
       "      <td>0.561374</td>\n",
       "      <td>0.337053</td>\n",
       "      <td>0.366618</td>\n",
       "      <td>0.200615</td>\n",
       "    </tr>\n",
       "    <tr>\n",
       "      <th>Path of Exile</th>\n",
       "      <td>0.568355</td>\n",
       "      <td>0.575836</td>\n",
       "      <td>1.000000</td>\n",
       "      <td>0.417180</td>\n",
       "      <td>0.174002</td>\n",
       "      <td>0.246126</td>\n",
       "      <td>0.157533</td>\n",
       "      <td>0.421503</td>\n",
       "      <td>0.229559</td>\n",
       "      <td>0.552020</td>\n",
       "      <td>...</td>\n",
       "      <td>0.418561</td>\n",
       "      <td>0.315365</td>\n",
       "      <td>0.395208</td>\n",
       "      <td>0.562302</td>\n",
       "      <td>0.404618</td>\n",
       "      <td>0.414528</td>\n",
       "      <td>0.514382</td>\n",
       "      <td>0.420921</td>\n",
       "      <td>0.401394</td>\n",
       "      <td>0.318326</td>\n",
       "    </tr>\n",
       "  </tbody>\n",
       "</table>\n",
       "<p>3 rows × 93 columns</p>\n",
       "</div>"
      ],
      "text/plain": [
       "                           FOR HONOR™  The Elder Scrolls® Online  \\\n",
       "title                                                              \n",
       "FOR HONOR™                   1.000000                   0.378657   \n",
       "The Elder Scrolls® Online    0.378657                   1.000000   \n",
       "Path of Exile                0.568355                   0.575836   \n",
       "\n",
       "                           Path of Exile  Counter-Strike: Global Offensive  \\\n",
       "title                                                                        \n",
       "FOR HONOR™                      0.568355                          0.411492   \n",
       "The Elder Scrolls® Online       0.575836                          0.262915   \n",
       "Path of Exile                   1.000000                          0.417180   \n",
       "\n",
       "                           Cities: Skylines  Sid Meier’s Civilization® VI  \\\n",
       "title                                                                       \n",
       "FOR HONOR™                         0.220736                      0.331522   \n",
       "The Elder Scrolls® Online          0.143692                      0.171441   \n",
       "Path of Exile                      0.174002                      0.246126   \n",
       "\n",
       "                           Wallpaper Engine  CarX Drift Racing Online  \\\n",
       "title                                                                   \n",
       "FOR HONOR™                         0.148895                  0.404520   \n",
       "The Elder Scrolls® Online          0.108306                  0.417434   \n",
       "Path of Exile                      0.157533                  0.421503   \n",
       "\n",
       "                           X4: Foundations    Dota 2  ...      DayZ  \\\n",
       "title                                                 ...             \n",
       "FOR HONOR™                        0.272764  0.381279  ...  0.276299   \n",
       "The Elder Scrolls® Online         0.231476  0.316267  ...  0.452204   \n",
       "Path of Exile                     0.229559  0.552020  ...  0.418561   \n",
       "\n",
       "                           Hollow Knight  Don't Starve Together    Barony  \\\n",
       "title                                                                       \n",
       "FOR HONOR™                      0.328976               0.368748  0.471119   \n",
       "The Elder Scrolls® Online       0.345651               0.440020  0.411749   \n",
       "Path of Exile                   0.315365               0.395208  0.562302   \n",
       "\n",
       "                           Deep Rock Galactic  Insurgency: Sandstorm  \\\n",
       "title                                                                  \n",
       "FOR HONOR™                           0.455056               0.455842   \n",
       "The Elder Scrolls® Online            0.286873               0.359211   \n",
       "Path of Exile                        0.404618               0.414528   \n",
       "\n",
       "                           Middle-earth™: Shadow of War™  Tabletop Simulator  \\\n",
       "title                                                                          \n",
       "FOR HONOR™                                      0.501683            0.403961   \n",
       "The Elder Scrolls® Online                       0.561374            0.337053   \n",
       "Path of Exile                                   0.514382            0.420921   \n",
       "\n",
       "                           TEKKEN 7   Cuphead  \n",
       "title                                          \n",
       "FOR HONOR™                 0.465242  0.365271  \n",
       "The Elder Scrolls® Online  0.366618  0.200615  \n",
       "Path of Exile              0.401394  0.318326  \n",
       "\n",
       "[3 rows x 93 columns]"
      ]
     },
     "execution_count": 95,
     "metadata": {},
     "output_type": "execute_result"
    }
   ],
   "source": [
    "similarity_df.head(3)"
   ]
  },
  {
   "cell_type": "code",
   "execution_count": 96,
   "id": "842f1cad-7091-48af-9882-0533319317ce",
   "metadata": {},
   "outputs": [
    {
     "name": "stdout",
     "output_type": "stream",
     "text": [
      "['review_id', 'y', 'date', 'funny', 'helpful', 'app_id', 'title', 'date_release', 'rating', 'positive_ratio', 'user_reviews', 'win', 'mac', 'linux', 'price_final', 'price_original', 'discount', 'description', 'tags', 'english', 'developer', 'publisher', 'required_age', 'genres', 'steamspy_tags', 'achievements', 'average_playtime', 'median_playtime', 'owners', 'steam_deck', 'user_id', 'products', 'reviews', 'hours']\n"
     ]
    }
   ],
   "source": [
    "column_list = final_df.columns.tolist()\n",
    "print(column_list)"
   ]
  },
  {
   "cell_type": "markdown",
   "id": "388c5a1e-b0b1-40fa-b3f6-4ac637f96d6c",
   "metadata": {},
   "source": [
    "## Data Exploration"
   ]
  },
  {
   "cell_type": "markdown",
   "id": "f589bde0-f093-4599-ae6b-48e5ab46e640",
   "metadata": {},
   "source": [
    "Having imported the final DataFrame, we explore its structure and data composition. Given that the textual variables have already served their purpose, we remove them from the dataframe."
   ]
  },
  {
   "cell_type": "code",
   "execution_count": 97,
   "id": "5b78a773-e4fc-4274-ac15-05e52c921006",
   "metadata": {},
   "outputs": [],
   "source": [
    "final_df.drop([\"tags\", \"genres\", \"steamspy_tags\", \"description\"], \n",
    "              axis = 1, inplace = True)"
   ]
  },
  {
   "cell_type": "markdown",
   "id": "60938402-f4da-4a24-b93f-49f6a33074ee",
   "metadata": {},
   "source": [
    "#### Target Variable Exploration\n",
    "\n",
    "First we explore the distribution of our target variable _y_, which is a column of booleans which signal whether a given user would recommend a given game or not.\n",
    "\n",
    "In creating a countplot, we find that the dataset is rather unbalanced. Only 14.12% of observations is negative, while the remaining 85.88% is positive. This will certainly be kept in consideration when training our model, as the unbalance must be offset. With a quick calculation, we find that the ratio of positives to negatives is 6.08 approximately."
   ]
  },
  {
   "cell_type": "code",
   "execution_count": 98,
   "id": "29cfd9f5-2745-4f1f-a11f-5df75e9a7500",
   "metadata": {},
   "outputs": [
    {
     "data": {
      "text/plain": [
       "<Figure size 720x360 with 0 Axes>"
      ]
     },
     "metadata": {},
     "output_type": "display_data"
    },
    {
     "data": {
      "image/png": "[encoded data removed]",
      "text/plain": [
       "<Figure size 600x400 with 2 Axes>"
      ]
     },
     "metadata": {},
     "output_type": "display_data"
    }
   ],
   "source": [
    "# Plotting the frequency distribution of number of recommendations\n",
    "plt.figure(figsize=(10, 5))\n",
    "plt.figure(dpi=100)\n",
    "\n",
    "ax = sns.countplot(x='y', data=final_df)\n",
    "\n",
    "plt.title('Frequency Distribution of Recommendations')\n",
    "plt.xlabel('Is the game recommended?')\n",
    "plt.ylabel('Observation Count')\n",
    "\n",
    "# Calculate percentage of each category\n",
    "percentages = final_df['y'].value_counts(normalize=True) * 100\n",
    "\n",
    "# Annotate the bars with counts and percentages\n",
    "for p in ax.patches:\n",
    "    count = int(p.get_height())\n",
    "    percentage = percentages.sort_values()[int(p.get_x() + p.get_x())]\n",
    "    ax.annotate(f'{count}\\n({percentage:.2f}%)', \n",
    "                (p.get_x() + p.get_width() / 2., p.get_height() / 2),\n",
    "                ha='center', va='center', fontsize=12, color='black')\n",
    "\n",
    "# Add percentage axis\n",
    "ax2 = ax.twinx()\n",
    "ax2.set_ylim(0, 100)\n",
    "ax2.set_ylabel('Percentage of Observations')\n",
    "ax2.yaxis.set_major_formatter(mtick.PercentFormatter())\n",
    "\n",
    "plt.show()"
   ]
  },
  {
   "cell_type": "code",
   "execution_count": 99,
   "id": "75d11377-148d-4bcf-b4a0-a0bcc89184ab",
   "metadata": {},
   "outputs": [
    {
     "name": "stdout",
     "output_type": "stream",
     "text": [
      "The \u001b[1mratio of positive to negative recommendations\u001b[0m is 0.1777412204419346\n"
     ]
    }
   ],
   "source": [
    "print(\"The \\033[1mratio of positive to negative recommendations\\033[0m is\", \n",
    "     final_df['y'].value_counts()[0] / final_df['y'].value_counts()[1])"
   ]
  },
  {
   "cell_type": "code",
   "execution_count": 100,
   "id": "cc846d16-30db-45f3-9184-59d96173fa10",
   "metadata": {},
   "outputs": [
    {
     "name": "stdout",
     "output_type": "stream",
     "text": [
      "['review_id', 'y', 'date', 'funny', 'helpful', 'app_id', 'title', 'date_release', 'rating', 'positive_ratio', 'user_reviews', 'win', 'mac', 'linux', 'price_final', 'price_original', 'discount', 'english', 'developer', 'publisher', 'required_age', 'achievements', 'average_playtime', 'median_playtime', 'owners', 'steam_deck', 'user_id', 'products', 'reviews', 'hours']\n"
     ]
    }
   ],
   "source": [
    "column_names = final_df.columns.tolist()\n",
    "print(column_names)"
   ]
  },
  {
   "cell_type": "markdown",
   "id": "284fdc38-89f8-491e-a56e-50ca42063e50",
   "metadata": {},
   "source": [
    "#### Steam Rating Exploration\n",
    "\n",
    "Reamining within the realm of ratings, we explore the distribution of the Steam rating system through a frequency table. Very interestingly, we observe that many of the rating categories are not in fact present in our data. It would seem that there are no games with overall negative reviews, while most games either have a _Very Positive_ or _Overwhelmingly Positive_ rating (appr. 86.24%). All in all, this is in line with the previous observation concerning the unbalanced dataset. \n",
    "\n",
    "Another noteworthy aspect of the dataset is that there are no _Positive_ reviews. The remaining 13.76% is split between _Mostly Positive_ and _Mixed_, with the former counting more observation than the latter. It is worth remembering that the Steam rating system assigns the _Positive_ rating to games that seem to have good ratings, but a review count which is not high enough to really \"consacrate\" its status as a very positively (or overwhlemingly positively) rated game. This perhaps informs us on the type of game which tends to be included in these datasets, focusing on larger more \"mainstream\" products rather than smaller lesser-known ones."
   ]
  },
  {
   "cell_type": "code",
   "execution_count": 101,
   "id": "7339f770-b75d-4df8-b82a-48a22f873eef",
   "metadata": {},
   "outputs": [
    {
     "data": {
      "text/html": [
       "<div>\n",
       "<style scoped>\n",
       "    .dataframe tbody tr th:only-of-type {\n",
       "        vertical-align: middle;\n",
       "    }\n",
       "\n",
       "    .dataframe tbody tr th {\n",
       "        vertical-align: top;\n",
       "    }\n",
       "\n",
       "    .dataframe thead th {\n",
       "        text-align: right;\n",
       "    }\n",
       "</style>\n",
       "<table border=\"1\" class=\"dataframe\">\n",
       "  <thead>\n",
       "    <tr style=\"text-align: right;\">\n",
       "      <th></th>\n",
       "      <th>Observation Count</th>\n",
       "      <th>Percentage of Observations</th>\n",
       "    </tr>\n",
       "  </thead>\n",
       "  <tbody>\n",
       "    <tr>\n",
       "      <th>Overwhelmingly Positive</th>\n",
       "      <td>989017</td>\n",
       "      <td>25.18%</td>\n",
       "    </tr>\n",
       "    <tr>\n",
       "      <th>Very Positive</th>\n",
       "      <td>2375849</td>\n",
       "      <td>60.49%</td>\n",
       "    </tr>\n",
       "    <tr>\n",
       "      <th>Positive</th>\n",
       "      <td>0</td>\n",
       "      <td>0.00%</td>\n",
       "    </tr>\n",
       "    <tr>\n",
       "      <th>Mostly Positive</th>\n",
       "      <td>437954</td>\n",
       "      <td>11.15%</td>\n",
       "    </tr>\n",
       "    <tr>\n",
       "      <th>Mixed</th>\n",
       "      <td>124702</td>\n",
       "      <td>3.18%</td>\n",
       "    </tr>\n",
       "    <tr>\n",
       "      <th>Mostly Negative</th>\n",
       "      <td>0</td>\n",
       "      <td>0.00%</td>\n",
       "    </tr>\n",
       "    <tr>\n",
       "      <th>Negative</th>\n",
       "      <td>0</td>\n",
       "      <td>0.00%</td>\n",
       "    </tr>\n",
       "    <tr>\n",
       "      <th>Very Negative</th>\n",
       "      <td>0</td>\n",
       "      <td>0.00%</td>\n",
       "    </tr>\n",
       "    <tr>\n",
       "      <th>Overwhelmingly Negative</th>\n",
       "      <td>0</td>\n",
       "      <td>0.00%</td>\n",
       "    </tr>\n",
       "  </tbody>\n",
       "</table>\n",
       "</div>"
      ],
      "text/plain": [
       "                         Observation Count Percentage of Observations\n",
       "Overwhelmingly Positive             989017                     25.18%\n",
       "Very Positive                      2375849                     60.49%\n",
       "Positive                                 0                      0.00%\n",
       "Mostly Positive                     437954                     11.15%\n",
       "Mixed                               124702                      3.18%\n",
       "Mostly Negative                          0                      0.00%\n",
       "Negative                                 0                      0.00%\n",
       "Very Negative                            0                      0.00%\n",
       "Overwhelmingly Negative                  0                      0.00%"
      ]
     },
     "metadata": {},
     "output_type": "display_data"
    }
   ],
   "source": [
    "# Create a frequency table\n",
    "rating_counts = pd.DataFrame(final_df['rating'].value_counts())\n",
    "\n",
    "# Rename the columns\n",
    "rating_counts.columns = ['Observation Count']\n",
    "\n",
    "# Sort the rows based on the order of rating categories\n",
    "rating_order = [\"Overwhelmingly Positive\", \"Very Positive\", \"Positive\", \n",
    "                \"Mostly Positive\", \"Mixed\", \"Mostly Negative\", \n",
    "                \"Negative\", \"Very Negative\", \"Overwhelmingly Negative\"]\n",
    "\n",
    "rating_counts = rating_counts.reindex(rating_order)\n",
    "\n",
    "# Fill NaN with 0\n",
    "rating_counts.fillna(0, inplace = True)\n",
    "\n",
    "# Add a column for percentage of observations\n",
    "rating_counts['Percentage of Observations'] = rating_counts['Observation Count'] / len(final_df) * 100\n",
    "\n",
    "# Format the percentage column\n",
    "rating_counts['Percentage of Observations'] = rating_counts['Percentage of Observations'].map('{:.2f}%'.format)\n",
    "\n",
    "# Turn to Integer\n",
    "rating_counts[\"Observation Count\"] = [int(i) for i in rating_counts[\"Observation Count\"]]\n",
    "\n",
    "display(rating_counts)"
   ]
  },
  {
   "cell_type": "markdown",
   "id": "23d7dda3-02eb-4ec4-b4ec-941ae2011870",
   "metadata": {},
   "source": [
    "#### Owners Exploration\n",
    "\n",
    "AAAAA"
   ]
  },
  {
   "cell_type": "code",
   "execution_count": 102,
   "id": "297d977d-541b-4aa3-96f3-cd3568c7737e",
   "metadata": {},
   "outputs": [
    {
     "data": {
      "text/plain": [
       "<Figure size 720x360 with 0 Axes>"
      ]
     },
     "metadata": {},
     "output_type": "display_data"
    },
    {
     "data": {
      "image/png": "[encoded data removed]",
      "text/plain": [
       "<Figure size 600x400 with 1 Axes>"
      ]
     },
     "metadata": {},
     "output_type": "display_data"
    }
   ],
   "source": [
    "# Create Order\n",
    "order_list = [\"0-20\", \"20-50\", \"50-100\", \"100-200\", \"200-500\", \n",
    "              \"500-1000\", \"1000-2000\", \"2000-5000\", \"5000-10000\", \n",
    "              \"10000-20000\", \"20000-50000\", \"50000-100000\", \"100000-200000\"]\n",
    "\n",
    "# Plotting the frequency distribution of number of recommendations\n",
    "sns.set_theme()\n",
    "plt.figure(figsize=(10, 5))\n",
    "plt.figure(dpi=100)\n",
    "plt.xticks(rotation=90)\n",
    "\n",
    "ax = sns.countplot(x='owners', data=final_df,\n",
    "                  order = order_list)"
   ]
  },
  {
   "cell_type": "markdown",
   "id": "2954737f-2a84-4074-a28e-5965d89c9454",
   "metadata": {},
   "source": [
    "**Correlation Matrix**"
   ]
  },
  {
   "cell_type": "code",
   "execution_count": 103,
   "id": "bbb2d4b2-e700-4369-94b9-bcfdfe30c903",
   "metadata": {},
   "outputs": [
    {
     "data": {
      "image/png": "[encoded data removed]",
      "text/plain": [
       "<Figure size 720x576 with 2 Axes>"
      ]
     },
     "metadata": {},
     "output_type": "display_data"
    }
   ],
   "source": [
    "# correlations between different variables, such as price and rating, user reviews and helpful votes, or hours played and recommendation status.\n",
    "\n",
    "df_analyze = final_df[['price_final', 'rating', 'user_reviews', 'helpful', 'hours', 'y']]\n",
    "\n",
    "# Convert rating column to numerical values\n",
    "rating_map = {'Overwhelmingly Positive': 5,\n",
    "            'Very Positive': 4,\n",
    "            'Mostly Positive': 3,\n",
    "            'Mixed': 2,\n",
    "            'Mostly Negative': 1,\n",
    "            'Very Negative': 0}\n",
    "\n",
    "df_analyze['rating'] = df_analyze['rating'].map(rating_map)\n",
    "\n",
    "# Convert is_recommended column to binary values\n",
    "df_analyze['y'] = df_analyze['y'].map({True: 1, False: 0})\n",
    "\n",
    "# Calculate the correlation matrix\n",
    "corr_matrix = df_analyze.corr()\n",
    "\n",
    "# Setting seaborn style\n",
    "sns.set(style=\"white\")\n",
    "\n",
    "# Generate a mask for the upper triangle\n",
    "mask = np.triu(np.ones_like(corr_matrix, dtype=bool))\n",
    "\n",
    "f, ax = plt.subplots(figsize=(10, 8))\n",
    "\n",
    "\n",
    "cmap = sns.diverging_palette(230, 20, as_cmap=True)\n",
    "\n",
    "sns.heatmap(corr_matrix, mask=mask, cmap=cmap, vmax=1, vmin=-1, center=0, square=True, linewidths=.5, cbar_kws={\"shrink\": .5}, annot=True, fmt=\".2f\")\n",
    "plt.title('Correlation Heatmap')\n",
    "plt.show()\n"
   ]
  },
  {
   "cell_type": "markdown",
   "id": "a860f560-5516-4c1b-9544-2809642cd0c7",
   "metadata": {},
   "source": [
    "As expected, be observe the strongest positive correlations between y (recommendation status) and rating and user_reviews and hours. Hours and y (recommendation status) are also slightly correlated.\n",
    "The final price seems to have a negative influence on user_reviews and the rating. \n",
    "\n",
    "The correlations will become usefull when building the models later and deciding what features to add to a model."
   ]
  },
  {
   "cell_type": "markdown",
   "id": "61f5b41d-c7f6-46d7-bd02-edbd6f85fb4a",
   "metadata": {},
   "source": [
    "**Frequency Distribution of Final Prices**"
   ]
  },
  {
   "cell_type": "markdown",
   "id": "5111935a-8c9f-4246-997b-993ef5750d6b",
   "metadata": {},
   "source": [
    "By visualizing the distribution of final prices, we want to get a better understanding of the range of prices and how they are spread across different products. This helps us identify patterns, trends, and any skewness in the data. The frequency distribution plot also helps us to identify potential outliers or extreme values in the data. Outliers can significantly impact the performance of various statistical models and may require special handling or investigation."
   ]
  },
  {
   "cell_type": "code",
   "execution_count": 104,
   "id": "c9a99648-2ef4-4083-a3a9-f99c3402108b",
   "metadata": {},
   "outputs": [
    {
     "data": {
      "text/plain": [
       "<Figure size 720x360 with 0 Axes>"
      ]
     },
     "metadata": {},
     "output_type": "display_data"
    },
    {
     "data": {
      "image/png": "[encoded data removed]",
      "text/plain": [
       "<Figure size 600x400 with 1 Axes>"
      ]
     },
     "metadata": {},
     "output_type": "display_data"
    }
   ],
   "source": [
    "# frequency distribution of final prices\n",
    "\n",
    "plt.figure(figsize=(10, 5))\n",
    "plt.figure(dpi=100)\n",
    "plt.hist(final_df['price_final'], bins=25, edgecolor='black', range=(0, 100))\n",
    "plt.title('Frequency Distribution of Final Prices')\n",
    "plt.xlabel('Price')\n",
    "plt.ylabel('Frequency')\n",
    "plt.xlim(0, 100)\n",
    "plt.show()"
   ]
  },
  {
   "cell_type": "markdown",
   "id": "424bf106-109d-46c3-946c-505950ecad95",
   "metadata": {},
   "source": [
    "The frequency distribution of final prices shows that most games are under 4.99, 19.99 and 59.99 dollars. \n",
    "\n",
    "We also see that there is no game beyond 60 euros.\n",
    "\n",
    "Cheaper games in the price ranges from 0 to 20 euros dominate the in terms of frequency.\n"
   ]
  },
  {
   "cell_type": "markdown",
   "id": "3dded9f3-3282-470e-82f9-0886b2ad5d47",
   "metadata": {},
   "source": [
    "**Boxplot of Final Prices**"
   ]
  },
  {
   "cell_type": "markdown",
   "id": "73246ad4-23b1-4654-b8f9-4b4b14abbc78",
   "metadata": {},
   "source": [
    "The Boxplot provides us with a visual summary of the distribution of the final prices in the dataset. It shows the median, lower quartile, upper quartile, and any potential outliers in the data. This helps us to understand the range and spread of the final prices, which can provide insights into pricing strategies or market conditions.\n",
    "\n",
    "It also helps us to identify potential outliers in the data. Those outliers may indicate errors, unusual pricing patterns, or unique market conditions. Identifying these outliers can help you better understand the data and decide how to handle them in further analysis."
   ]
  },
  {
   "cell_type": "code",
   "execution_count": 105,
   "id": "84e8f6bd-7430-422d-a6f5-0a40eef2b9e0",
   "metadata": {},
   "outputs": [
    {
     "data": {
      "image/png": "[encoded data removed]",
      "text/plain": [
       "<Figure size 432x288 with 1 Axes>"
      ]
     },
     "metadata": {},
     "output_type": "display_data"
    }
   ],
   "source": [
    "# boxplot of final price\n",
    "\n",
    "ax = final_df.boxplot('price_final')\n",
    "\n",
    "ax.set_ylabel('Price')\n",
    "ax.set_title('Box plot of game prices')\n",
    "\n",
    "stats = final_df['price_final'].describe()\n",
    "mean = final_df['price_final'].mean()\n",
    "std_dev = final_df['price_final'].std()\n",
    "\n",
    "# calculate outliers\n",
    "q1 = stats['25%']\n",
    "q3 = stats['75%']\n",
    "iqr = q3 - q1\n",
    "lower_bound = q1 - (1.5 * iqr)\n",
    "upper_bound = q3 + (1.5 * iqr)\n",
    "\n",
    "outliers = final_df[(final_df['price_final'] < lower_bound) | (final_df['price_final'] > upper_bound)]['price_final']\n",
    "num_outliers = outliers.count()\n",
    "\n",
    "# add statistics to the plot\n",
    "ax.text(0.7, 0.85, f\"Mean: {mean:.2f}\\nStd Dev: {std_dev:.2f}\\nMedian: {stats['50%']:.2f}\\nQ1: {stats['25%']:.2f}\\nQ3: {stats['75%']:.2f}\\nOutliers: {num_outliers}\",\n",
    "        transform=ax.transAxes, bbox=dict(facecolor='white', edgecolor='black', alpha=0.9))\n",
    "\n",
    "\n",
    "plt.show()\n"
   ]
  },
  {
   "cell_type": "markdown",
   "id": "7356a4f6-703a-4ef6-89ab-2078ea60b12b",
   "metadata": {},
   "source": [
    "The mean (average) of the data is 21.32, which means that the typical value in the dataset is around 21.32.\n",
    "The median (middle value) is 19.99, which suggests that half of the data points are below 19.99 and half are above it. Since the mean and median are close to each other, this implies that the data distribution might be roughly symmetrical.\n",
    "\n",
    "The standard deviation (Std. Dev.) is 16.95, indicating that the data points are spread out over a range of approximately 16.95 units from the mean. A larger standard deviation suggests greater variability in the dataset.\n",
    "\n",
    "The first quartile (Q1) is 7.99, which means that 25% of the data points are below 7.99.\n",
    "The third quartile (Q3) is 29.99, indicating that 75% of the data points are below 29.99.\n",
    "The interquartile range (IQR), which represents the range of the middle 50% of the data, can be calculated as Q3 - Q1 = 29.99 - 7.99 = 22. This suggests that the middle 50% of the data points have a spread of 22 units.\n",
    "\n",
    "There are no outliers in this dataset, which means that all data points fall within a reasonable range and there are no extreme values that could potentially skew the interpretation."
   ]
  },
  {
   "cell_type": "markdown",
   "id": "9535f3f8-a7f5-4a3c-b621-157be1b9de45",
   "metadata": {},
   "source": [
    "**Exploration of game developers**"
   ]
  },
  {
   "cell_type": "markdown",
   "id": "a28df5f0-bcdd-498f-ac5f-bc5d265a1e9d",
   "metadata": {},
   "source": [
    "In this section we explore the top 10 developers (number of games published and rating). It is important to note that developers can match or be different from publishers."
   ]
  },
  {
   "cell_type": "code",
   "execution_count": 106,
   "id": "e1dd8251-7e83-4faf-9a67-c6b4d8ca3c99",
   "metadata": {},
   "outputs": [
    {
     "name": "stdout",
     "output_type": "stream",
     "text": [
      "developer\n",
      "Valve                         3\n",
      "Paradox Development Studio    3\n",
      "SCS Software                  2\n",
      "Treyarch                      2\n",
      "Bethesda Game Studios         2\n",
      "Bohemia Interactive           2\n",
      "Facepunch Studios             2\n",
      "Afterthought LLC              1\n",
      "Pixonic                       1\n",
      "Square Enix                   1\n",
      "Name: title, dtype: int64\n"
     ]
    }
   ],
   "source": [
    "# Count the number of unique games released by each developer\n",
    "developer_counts = final_df.groupby('developer')['title'].nunique()\n",
    "\n",
    "# Sort the developers by the number of unique games in descending order and get the top 10\n",
    "top_10_developers = developer_counts.sort_values(ascending=False).head(10)\n",
    "\n",
    "# Print the top 10 developers\n",
    "print(top_10_developers)"
   ]
  },
  {
   "cell_type": "code",
   "execution_count": 107,
   "id": "971ab62e-9e34-4d1f-b4ba-4044d0dedc5c",
   "metadata": {},
   "outputs": [
    {
     "name": "stdout",
     "output_type": "stream",
     "text": [
      "Number of unique games: 93\n"
     ]
    }
   ],
   "source": [
    "unique_games = final_df['title'].nunique()\n",
    "print(f\"Number of unique games: {unique_games}\")"
   ]
  },
  {
   "cell_type": "code",
   "execution_count": 108,
   "id": "0d4b22f6-0f3a-444f-b39d-92cb97f1e210",
   "metadata": {},
   "outputs": [
    {
     "name": "stdout",
     "output_type": "stream",
     "text": [
      "Number of unique developers: 84\n"
     ]
    }
   ],
   "source": [
    "unique_developers = final_df['developer'].nunique()\n",
    "print(f\"Number of unique developers: {unique_developers}\")\n"
   ]
  },
  {
   "cell_type": "code",
   "execution_count": 109,
   "id": "a5d23a1d-3f0a-470f-b422-b3941b1ec1ea",
   "metadata": {},
   "outputs": [
    {
     "name": "stdout",
     "output_type": "stream",
     "text": [
      "developer\n",
      "ConcernedApe        98.0\n",
      "Kristjan Skutta     98.0\n",
      "Ludeon Studios      98.0\n",
      "Team Cherry         97.0\n",
      "BeamNG              97.0\n",
      "Ghost Ship Games    97.0\n",
      "Re-Logic            97.0\n",
      "Ninja Kiwi          97.0\n",
      "Nicalis, Inc.       97.0\n",
      "Lucas Pope          97.0\n",
      "Name: positive_ratio, dtype: float64\n"
     ]
    }
   ],
   "source": [
    "# Calculate the average positive rating for each developer\n",
    "average_positive_ratings = final_df.groupby('developer')['positive_ratio'].mean()\n",
    "\n",
    "# Sort the developers by the average positive rating in descending order and get the top 10\n",
    "top_10_developers_positive_ratings = average_positive_ratings.sort_values(ascending=False).head(10)\n",
    "\n",
    "# Print the top 10 developers with the best average positive ratings\n",
    "print(top_10_developers_positive_ratings)\n"
   ]
  },
  {
   "cell_type": "markdown",
   "id": "bddb1eb4-a0bb-48ac-b375-e05b989d8934",
   "metadata": {},
   "source": [
    "**Exploration of game publishers**"
   ]
  },
  {
   "cell_type": "code",
   "execution_count": 114,
   "id": "1314839d-50e2-45e3-9979-e5474232cab6",
   "metadata": {},
   "outputs": [
    {
     "name": "stdout",
     "output_type": "stream",
     "text": [
      "publisher\n",
      "Valve                         5\n",
      "Ubisoft                       4\n",
      "Bethesda Softworks            4\n",
      "Paradox Interactive           4\n",
      "Activision                    2\n",
      "BANDAI NAMCO Entertainment    2\n",
      "SCS Software                  2\n",
      "Bohemia Interactive           2\n",
      "Re-Logic                      1\n",
      "Pixonic                       1\n",
      "Name: title, dtype: int64\n"
     ]
    }
   ],
   "source": [
    "# Count the number of unique games released by each developer\n",
    "publisher_counts = final_df.groupby('publisher')['title'].nunique()\n",
    "\n",
    "# Sort the developers by the number of unique games in descending order and get the top 10\n",
    "top_10_publishers = publisher_counts.sort_values(ascending=False).head(10)\n",
    "\n",
    "# Print the top 10 developers\n",
    "print(top_10_publishers)"
   ]
  },
  {
   "cell_type": "code",
   "execution_count": 115,
   "id": "f5ada8cb-5147-427c-a818-ef7803f7ac7a",
   "metadata": {},
   "outputs": [
    {
     "name": "stdout",
     "output_type": "stream",
     "text": [
      "Number of unique publishers: 76\n"
     ]
    }
   ],
   "source": [
    "unique_publishers = final_df['publisher'].nunique()\n",
    "print(f\"Number of unique publishers: {unique_publishers}\")\n"
   ]
  },
  {
   "cell_type": "markdown",
   "id": "100b0c73-e400-4514-aad2-8ea11c0a96ca",
   "metadata": {},
   "source": [
    "**Relationship between Products Owned and Number of Reviews**"
   ]
  },
  {
   "cell_type": "markdown",
   "id": "3707cab3-7aa0-4543-85ac-00daa2cb60c9",
   "metadata": {},
   "source": [
    "Looking at the relationship between products owned and the number of reviews can give insight into user engagement with a product. If a product has a high number of reviews relative to the number of products owned, it suggests that users are more actively engaged with the product and may have strong opinions about it. This also gives an indication about the popularity of a product. If a product has a high number of products owned but a low number of reviews, it may suggest that the product is popular but users are less likely to leave reviews."
   ]
  },
  {
   "cell_type": "code",
   "execution_count": 116,
   "id": "e474bf37-5bd2-4460-b303-1799910ac49b",
   "metadata": {},
   "outputs": [
    {
     "data": {
      "image/png": "[encoded data removed]",
      "text/plain": [
       "<Figure size 864x432 with 1 Axes>"
      ]
     },
     "metadata": {},
     "output_type": "display_data"
    },
    {
     "name": "stdout",
     "output_type": "stream",
     "text": [
      "Correlation coefficient between Products Owned and Number of Reviews: 0.20\n"
     ]
    }
   ],
   "source": [
    "import matplotlib.pyplot as plt\n",
    "\n",
    "plt.figure(figsize=(12, 6))\n",
    "plt.scatter(final_df['products'], final_df['reviews'])\n",
    "plt.xlabel('Products Owned')\n",
    "plt.ylabel('Number of Reviews')\n",
    "plt.title('Relationship between Products Owned and Number of Reviews')\n",
    "plt.show()\n",
    "\n",
    "correlation = final_df['products'].corr(final_df['reviews'])\n",
    "print(f\"Correlation coefficient between Products Owned and Number of Reviews: {correlation:.2f}\")"
   ]
  },
  {
   "cell_type": "markdown",
   "id": "4ce8614b-73bf-4d39-b05c-c132a032608c",
   "metadata": {},
   "source": [
    "The plot shows that users are more likely to leave a review when they own fewer products.\n",
    "\n",
    "There could be a few reasons for this:\n",
    "\n",
    "- Selection bias: People who own fewer products may be more passionate or invested in those products and therefore more likely to leave a review. They may have had a stronger emotional connection to the product or found it to be more impactful on their lives.\n",
    "- Time constraints: People who own more products may have less time to leave a review for each product they own, whereas those who own fewer products may have more time to leave reviews.\n",
    "- Product quality: People who own fewer products may be more discerning in their purchases and therefore more likely to leave a review to share their experience with others. They may also have higher expectations for the products they purchase, making them more likely to leave a review if the product meets or exceeds those expectations.\n",
    "- Product type: It's possible that certain types of products, such as luxury items or niche products, are more likely to be reviewed by people who own fewer products. These products may be more novel or unique, leading to a higher likelihood of leaving a review."
   ]
  },
  {
   "cell_type": "markdown",
   "id": "a04b4d6e-d682-41ef-ba9d-90d9a67ca5a7",
   "metadata": {},
   "source": [
    "**Compatibility of Windows, Mac and Linux**"
   ]
  },
  {
   "cell_type": "markdown",
   "id": "5a90ce05-907b-4a52-8ca8-f522a0be051a",
   "metadata": {},
   "source": [
    "Analyzing compatibility helps us to understand the market distribution of each platform. Each operating system has a different market share, and understanding the distribution can inform developers about potential target audiences and which platforms are more popular among users. Different user groups may have preferences for specific platforms due to factors such as available software, hardware compatibility, or personal taste. Analyzing compatibility can also help to identify patterns or trends in user preferences and behavior across different platforms. In addition, compatibility data can provide insights into which platforms have higher demand or user base, helping developers make informed decisions."
   ]
  },
  {
   "cell_type": "code",
   "execution_count": 117,
   "id": "82756df2-8e51-47d1-8386-4e171bb0ecac",
   "metadata": {},
   "outputs": [
    {
     "data": {
      "image/png": "[encoded data removed]",
      "text/plain": [
       "<Figure size 720x360 with 1 Axes>"
      ]
     },
     "metadata": {},
     "output_type": "display_data"
    }
   ],
   "source": [
    "# compatibility with different platforms\n",
    "\n",
    "# Calculating the number of games compatible with each platform\n",
    "platform_counts = final_df[['win', 'mac', 'linux']].sum().reset_index()\n",
    "platform_counts.columns = ['Platform', 'Count']\n",
    "\n",
    "plt.figure(figsize=(10, 5))\n",
    "\n",
    "ax = sns.barplot(x='Platform', y='Count', data=platform_counts)\n",
    "\n",
    "plt.title('Number of Games Compatible with Different Platforms')\n",
    "plt.xlabel('Platform')\n",
    "plt.ylabel('Number of Games')\n",
    "\n",
    "for p in ax.patches:\n",
    "    ax.annotate(f'{p.get_height()}', (p.get_x() + p.get_width() / 2., p.get_height()), ha='center', va='baseline')\n",
    "\n",
    "plt.show()"
   ]
  },
  {
   "cell_type": "code",
   "execution_count": 118,
   "id": "c3202525-d5cf-488d-8a27-3347d15db7db",
   "metadata": {},
   "outputs": [
    {
     "name": "stdout",
     "output_type": "stream",
     "text": [
      "Number of games supporting only Windows: 2079743\n",
      "Number of games supporting Windows and Mac: 769615\n",
      "Number of games supporting Windows and Linux: 72011\n",
      "Number of games supporting Windows, Mac, and Linux: 1006153\n",
      "Number of games supporting only Mac: 0\n",
      "Number of games supporting only Linux: 0\n"
     ]
    }
   ],
   "source": [
    "# Calculate the number of games supporting each combination of platforms (windows, mac, linux)\n",
    "\n",
    "win_only = ((final_df['win'] == True) & (final_df['mac'] == False) & (final_df['linux'] == False)).sum()\n",
    "win_mac = ((final_df['win'] == True) & (final_df['mac'] == True) & (final_df['linux'] == False)).sum()\n",
    "win_linux = ((final_df['win'] == True) & (final_df['mac'] == False) & (final_df['linux'] == True)).sum()\n",
    "win_mac_linux = ((final_df['win'] == True) & (final_df['mac'] == True) & (final_df['linux'] == True)).sum()\n",
    "mac_only = ((final_df['win'] == False) & (final_df['mac'] == True) & (final_df['linux'] == False)).sum()\n",
    "linux_only = ((final_df['win'] == False) & (final_df['mac'] == False) & (final_df['linux'] == True)).sum()\n",
    "\n",
    "print(f\"Number of games supporting only Windows: {win_only}\")\n",
    "print(f\"Number of games supporting Windows and Mac: {win_mac}\")\n",
    "print(f\"Number of games supporting Windows and Linux: {win_linux}\")\n",
    "print(f\"Number of games supporting Windows, Mac, and Linux: {win_mac_linux}\")\n",
    "print(f\"Number of games supporting only Mac: {mac_only}\")\n",
    "print(f\"Number of games supporting only Linux: {linux_only}\")"
   ]
  },
  {
   "cell_type": "code",
   "execution_count": 119,
   "id": "3e7dbeb9-6685-4bc3-b498-f8e962abab3a",
   "metadata": {},
   "outputs": [
    {
     "data": {
      "image/png": "[encoded data removed]",
      "text/plain": [
       "<Figure size 432x288 with 1 Axes>"
      ]
     },
     "metadata": {},
     "output_type": "display_data"
    }
   ],
   "source": [
    "# Platform combinations and their counts\n",
    "\n",
    "platform_combinations = {\n",
    "    \"Windows Only\": win_only,\n",
    "    \"Windows & Mac\": win_mac,\n",
    "    \"Windows & Linux\": win_linux,\n",
    "    \"Windows, Mac & Linux\": win_mac_linux,\n",
    "    \"Mac Only\": mac_only,\n",
    "    \"Linux Only\": linux_only,\n",
    "}\n",
    "\n",
    "fig, ax = plt.subplots()\n",
    "ax.bar(platform_combinations.keys(), platform_combinations.values())\n",
    "\n",
    "# Add the counts above the bars\n",
    "for i, (combination, count) in enumerate(platform_combinations.items()):\n",
    "    ax.text(i, count + 10, f\"{count}\", ha='center', va='bottom')\n",
    "\n",
    "ax.set_title(\"Number of Games Supporting Platform Combinations\")\n",
    "ax.set_xlabel(\"Platform Combinations\")\n",
    "ax.set_ylabel(\"Number of Games\")\n",
    "\n",
    "plt.xticks(rotation=45, ha='right')\n",
    "plt.tight_layout()\n",
    "plt.show()"
   ]
  },
  {
   "cell_type": "markdown",
   "id": "f85b4558-ab96-4f70-bd20-fba2156cd420",
   "metadata": {},
   "source": [
    "Windows definitly dominates, when it comes to the number of games it supports. Most developers only develop for windows. However, there are still many games which run on windows, mac and linux. These results tell us that we should consider a users operating system, when recommending a game based on a user_id."
   ]
  },
  {
   "cell_type": "markdown",
   "id": "08814b95-2005-4c07-9be3-0878c779707e",
   "metadata": {},
   "source": [
    "**Trends in game releases, user reviews, and ratings over time**"
   ]
  },
  {
   "cell_type": "markdown",
   "id": "de40dada-9eb3-43c6-aada-e96d971ef66d",
   "metadata": {},
   "source": [
    "Analyzing these trends helps us to identify patterns in the gaming industry, such as seasonal variations in game releases and user reviews. Understanding these patterns can help stakeholders make informed decisions and tailor their strategies accordingly. Examining user ratings over time can help us to identify any patterns or changes in user sentiment which is important to understand if the general perception of a product or service is improving, declining, or remaining stable.\n",
    "\n",
    "Moreover, looking at the user reviews and ratings over time can provide us with insights into how user preferences change and evolve. This information can be valuable for game developers and publishers to adjust their products and marketing efforts to meet user demands and expectations better."
   ]
  },
  {
   "cell_type": "code",
   "execution_count": 120,
   "id": "f37a004d-58cf-4524-90bc-a01a8abca02f",
   "metadata": {},
   "outputs": [
    {
     "data": {
      "image/png": "[encoded data removed]",
      "text/plain": [
       "<Figure size 432x288 with 2 Axes>"
      ]
     },
     "metadata": {},
     "output_type": "display_data"
    },
    {
     "data": {
      "image/png": "[encoded data removed]",
      "text/plain": [
       "<Figure size 432x288 with 1 Axes>"
      ]
     },
     "metadata": {},
     "output_type": "display_data"
    }
   ],
   "source": [
    "# Trends in game releases, user reviews, and ratings over time\n",
    "\n",
    "final_df['date_release'] = pd.to_datetime(final_df['date_release'])\n",
    "final_df['date'] = pd.to_datetime(final_df['date'])\n",
    "\n",
    "game_releases_by_year = final_df.groupby(final_df['date_release'].dt.year).size()\n",
    "user_reviews_by_year = final_df.groupby(final_df['date'].dt.year)['user_reviews'].sum()\n",
    "avg_ratings_by_year = final_df.groupby(final_df['date'].dt.year)['positive_ratio'].mean()\n",
    "\n",
    "import matplotlib.pyplot as plt\n",
    "\n",
    "fig, ax1 = plt.subplots()\n",
    "\n",
    "ax1.set_xlabel('Year')\n",
    "ax1.set_ylabel('Game Releases', color='tab:blue')\n",
    "ax1.plot(game_releases_by_year.index, game_releases_by_year, color='tab:blue')\n",
    "ax1.tick_params(axis='y', labelcolor='tab:blue')\n",
    "\n",
    "ax2 = ax1.twinx()\n",
    "ax2.set_ylabel('User Reviews', color='tab:red')\n",
    "ax2.plot(user_reviews_by_year.index, user_reviews_by_year, color='tab:red')\n",
    "ax2.tick_params(axis='y', labelcolor='tab:red')\n",
    "\n",
    "fig.tight_layout()\n",
    "plt.title('Game Releases and User Reviews Over Time')\n",
    "plt.show()\n",
    "\n",
    "plt.plot(avg_ratings_by_year.index, avg_ratings_by_year)\n",
    "plt.xlabel('Year')\n",
    "plt.ylabel('Average Ratings')\n",
    "plt.title('Average Ratings Over Time')\n",
    "plt.show()"
   ]
  },
  {
   "cell_type": "markdown",
   "id": "2ee96e42-b9b8-4917-a667-b547ea16740b",
   "metadata": {},
   "source": [
    "On average, the number of game releases has increased from 2006 to 2022. There where several drop in 2013, 2018 and 2020. The last drop is most likely due to the Covid-19 pandemic. User started reviewing games since 2010. The number of reviews has strongly increased since then.\n",
    "\n",
    "The average ratings over time have decreased from 93 in the year 2010 to 84 in 2018. Later it increased again to a rating of 84 in the year 2022. \n",
    "\n",
    "These results could be due to the following reasons:\n",
    "\n",
    "Game Releases: The plot shows an increase in the number of game releases from 2006 to 2022. \n",
    "This could be attributed to several factors such as:\n",
    "- Growing popularity of gaming: As gaming continues to gain popularity as a form of entertainment, more game developers are entering the market, leading to an increase in the number of game releases.\n",
    "- Ease of developing and distributing games: With the rise of digital distribution platforms, it has become easier for game developers to develop and distribute games, which has led to an increase in the number of game releases.\n",
    "- Advances in technology: The increasing availability of advanced game engines, tools, and resources has made it easier for game developers to create and release games.\n",
    "\n",
    "User Reviews: The plot shows an increase in the number of user reviews since 2010. \n",
    "This could be attributed to several factors such as:\n",
    "- Rise of online platforms: The rise of online platforms such as Steam, GOG, and Itch.io has made it easier for users to share their experiences and opinions on games.\n",
    "- Social media: The increasing use of social media has made it easier for users to connect with each other and share their experiences with games, leading to an increase in user reviews.\n",
    "- Importance of user feedback: Game developers have increasingly recognized the importance of user feedback in improving the quality of games, leading to an increase in the number of user reviews.\n",
    "\n",
    "Average Ratings: The plot shows a decrease in average ratings from 2010 to 2018, followed by an increase in ratings from 2018 to 2022. \n",
    "This could be attributed to several factors such as:\n",
    "- Increased competition: With more games being released every year, there is increased competition among game developers to produce high-quality games, which could have led to a decline in average ratings from 2010 to 2018.\n",
    "- Changing user preferences: User preferences for games may have changed over time, leading to a decline in ratings for certain types of games.\n",
    "- Increased focus on quality: Game developers may have focused more on improving the quality of their games in recent years, leading to an increase in average ratings from 2018 to 2022."
   ]
  },
  {
   "cell_type": "markdown",
   "id": "049ce052-6a3f-47b8-9a09-6a6ab0552e39",
   "metadata": {},
   "source": [
    "## Feature Engineering"
   ]
  },
  {
   "cell_type": "code",
   "execution_count": 121,
   "id": "15ffcbf9-058c-4124-97df-1272d44d7de1",
   "metadata": {},
   "outputs": [],
   "source": [
    "def extra_features(X, add_elapsed = True):\n",
    "    \n",
    "    if add_elapsed:\n",
    "        elapsed_time = X[\"date\"] - X[\"date_release\"]"
   ]
  },
  {
   "cell_type": "markdown",
   "id": "348b6d25-84c9-497b-b3b6-061c8c65fd28",
   "metadata": {},
   "source": [
    "### Creating New Features"
   ]
  },
  {
   "cell_type": "markdown",
   "id": "13a4b7c4-716c-44ee-82d1-24263c0fac3b",
   "metadata": {},
   "source": [
    "**Rec System Input**"
   ]
  },
  {
   "cell_type": "code",
   "execution_count": 122,
   "id": "373aa45c-d686-4d0f-8947-d87b75facae9",
   "metadata": {},
   "outputs": [
    {
     "data": {
      "text/html": [
       "<div>\n",
       "<style scoped>\n",
       "    .dataframe tbody tr th:only-of-type {\n",
       "        vertical-align: middle;\n",
       "    }\n",
       "\n",
       "    .dataframe tbody tr th {\n",
       "        vertical-align: top;\n",
       "    }\n",
       "\n",
       "    .dataframe thead th {\n",
       "        text-align: right;\n",
       "    }\n",
       "</style>\n",
       "<table border=\"1\" class=\"dataframe\">\n",
       "  <thead>\n",
       "    <tr style=\"text-align: right;\">\n",
       "      <th></th>\n",
       "      <th>review_id</th>\n",
       "      <th>y</th>\n",
       "      <th>date</th>\n",
       "      <th>funny</th>\n",
       "      <th>helpful</th>\n",
       "      <th>app_id</th>\n",
       "      <th>title</th>\n",
       "      <th>date_release</th>\n",
       "      <th>rating</th>\n",
       "      <th>positive_ratio</th>\n",
       "      <th>...</th>\n",
       "      <th>required_age</th>\n",
       "      <th>achievements</th>\n",
       "      <th>average_playtime</th>\n",
       "      <th>median_playtime</th>\n",
       "      <th>owners</th>\n",
       "      <th>steam_deck</th>\n",
       "      <th>user_id</th>\n",
       "      <th>products</th>\n",
       "      <th>reviews</th>\n",
       "      <th>hours</th>\n",
       "    </tr>\n",
       "  </thead>\n",
       "  <tbody>\n",
       "    <tr>\n",
       "      <th>0</th>\n",
       "      <td>1</td>\n",
       "      <td>False</td>\n",
       "      <td>2017-02-17</td>\n",
       "      <td>0</td>\n",
       "      <td>4</td>\n",
       "      <td>304390</td>\n",
       "      <td>FOR HONOR™</td>\n",
       "      <td>2017-02-13</td>\n",
       "      <td>Mixed</td>\n",
       "      <td>68</td>\n",
       "      <td>...</td>\n",
       "      <td>0</td>\n",
       "      <td>0</td>\n",
       "      <td>951</td>\n",
       "      <td>696</td>\n",
       "      <td>2000-5000</td>\n",
       "      <td>True</td>\n",
       "      <td>797</td>\n",
       "      <td>40</td>\n",
       "      <td>1</td>\n",
       "      <td>11.5</td>\n",
       "    </tr>\n",
       "    <tr>\n",
       "      <th>1</th>\n",
       "      <td>5</td>\n",
       "      <td>True</td>\n",
       "      <td>2021-10-10</td>\n",
       "      <td>0</td>\n",
       "      <td>0</td>\n",
       "      <td>306130</td>\n",
       "      <td>The Elder Scrolls® Online</td>\n",
       "      <td>2017-05-22</td>\n",
       "      <td>Very Positive</td>\n",
       "      <td>83</td>\n",
       "      <td>...</td>\n",
       "      <td>18</td>\n",
       "      <td>0</td>\n",
       "      <td>10659</td>\n",
       "      <td>3143</td>\n",
       "      <td>1000-2000</td>\n",
       "      <td>True</td>\n",
       "      <td>12866</td>\n",
       "      <td>104</td>\n",
       "      <td>1</td>\n",
       "      <td>8.6</td>\n",
       "    </tr>\n",
       "    <tr>\n",
       "      <th>2</th>\n",
       "      <td>6</td>\n",
       "      <td>True</td>\n",
       "      <td>2017-11-25</td>\n",
       "      <td>0</td>\n",
       "      <td>0</td>\n",
       "      <td>238960</td>\n",
       "      <td>Path of Exile</td>\n",
       "      <td>2013-10-23</td>\n",
       "      <td>Very Positive</td>\n",
       "      <td>87</td>\n",
       "      <td>...</td>\n",
       "      <td>0</td>\n",
       "      <td>120</td>\n",
       "      <td>5263</td>\n",
       "      <td>492</td>\n",
       "      <td>10000-20000</td>\n",
       "      <td>True</td>\n",
       "      <td>24829</td>\n",
       "      <td>46</td>\n",
       "      <td>3</td>\n",
       "      <td>538.8</td>\n",
       "    </tr>\n",
       "    <tr>\n",
       "      <th>3</th>\n",
       "      <td>7</td>\n",
       "      <td>False</td>\n",
       "      <td>2021-11-30</td>\n",
       "      <td>0</td>\n",
       "      <td>0</td>\n",
       "      <td>730</td>\n",
       "      <td>Counter-Strike: Global Offensive</td>\n",
       "      <td>2012-08-21</td>\n",
       "      <td>Very Positive</td>\n",
       "      <td>88</td>\n",
       "      <td>...</td>\n",
       "      <td>0</td>\n",
       "      <td>167</td>\n",
       "      <td>22494</td>\n",
       "      <td>6502</td>\n",
       "      <td>50000-100000</td>\n",
       "      <td>True</td>\n",
       "      <td>17828</td>\n",
       "      <td>6</td>\n",
       "      <td>1</td>\n",
       "      <td>157.5</td>\n",
       "    </tr>\n",
       "    <tr>\n",
       "      <th>4</th>\n",
       "      <td>8</td>\n",
       "      <td>True</td>\n",
       "      <td>2021-05-21</td>\n",
       "      <td>0</td>\n",
       "      <td>0</td>\n",
       "      <td>255710</td>\n",
       "      <td>Cities: Skylines</td>\n",
       "      <td>2015-03-10</td>\n",
       "      <td>Very Positive</td>\n",
       "      <td>93</td>\n",
       "      <td>...</td>\n",
       "      <td>0</td>\n",
       "      <td>97</td>\n",
       "      <td>3225</td>\n",
       "      <td>444</td>\n",
       "      <td>5000-10000</td>\n",
       "      <td>True</td>\n",
       "      <td>92535</td>\n",
       "      <td>41</td>\n",
       "      <td>1</td>\n",
       "      <td>18.7</td>\n",
       "    </tr>\n",
       "    <tr>\n",
       "      <th>...</th>\n",
       "      <td>...</td>\n",
       "      <td>...</td>\n",
       "      <td>...</td>\n",
       "      <td>...</td>\n",
       "      <td>...</td>\n",
       "      <td>...</td>\n",
       "      <td>...</td>\n",
       "      <td>...</td>\n",
       "      <td>...</td>\n",
       "      <td>...</td>\n",
       "      <td>...</td>\n",
       "      <td>...</td>\n",
       "      <td>...</td>\n",
       "      <td>...</td>\n",
       "      <td>...</td>\n",
       "      <td>...</td>\n",
       "      <td>...</td>\n",
       "      <td>...</td>\n",
       "      <td>...</td>\n",
       "      <td>...</td>\n",
       "      <td>...</td>\n",
       "    </tr>\n",
       "    <tr>\n",
       "      <th>3927517</th>\n",
       "      <td>6126796</td>\n",
       "      <td>True</td>\n",
       "      <td>2021-09-08</td>\n",
       "      <td>0</td>\n",
       "      <td>0</td>\n",
       "      <td>252490</td>\n",
       "      <td>Rust</td>\n",
       "      <td>2018-02-08</td>\n",
       "      <td>Very Positive</td>\n",
       "      <td>87</td>\n",
       "      <td>...</td>\n",
       "      <td>18</td>\n",
       "      <td>48</td>\n",
       "      <td>9352</td>\n",
       "      <td>2234</td>\n",
       "      <td>5000-10000</td>\n",
       "      <td>True</td>\n",
       "      <td>2415273</td>\n",
       "      <td>99</td>\n",
       "      <td>1</td>\n",
       "      <td>42.6</td>\n",
       "    </tr>\n",
       "    <tr>\n",
       "      <th>3927518</th>\n",
       "      <td>6126797</td>\n",
       "      <td>True</td>\n",
       "      <td>2016-04-17</td>\n",
       "      <td>0</td>\n",
       "      <td>3</td>\n",
       "      <td>374320</td>\n",
       "      <td>DARK SOULS™ III</td>\n",
       "      <td>2016-04-11</td>\n",
       "      <td>Very Positive</td>\n",
       "      <td>94</td>\n",
       "      <td>...</td>\n",
       "      <td>0</td>\n",
       "      <td>43</td>\n",
       "      <td>4222</td>\n",
       "      <td>1776</td>\n",
       "      <td>2000-5000</td>\n",
       "      <td>True</td>\n",
       "      <td>2435564</td>\n",
       "      <td>54</td>\n",
       "      <td>2</td>\n",
       "      <td>12.8</td>\n",
       "    </tr>\n",
       "    <tr>\n",
       "      <th>3927519</th>\n",
       "      <td>6126798</td>\n",
       "      <td>True</td>\n",
       "      <td>2017-11-24</td>\n",
       "      <td>0</td>\n",
       "      <td>2</td>\n",
       "      <td>252490</td>\n",
       "      <td>Rust</td>\n",
       "      <td>2018-02-08</td>\n",
       "      <td>Very Positive</td>\n",
       "      <td>87</td>\n",
       "      <td>...</td>\n",
       "      <td>18</td>\n",
       "      <td>48</td>\n",
       "      <td>9352</td>\n",
       "      <td>2234</td>\n",
       "      <td>5000-10000</td>\n",
       "      <td>True</td>\n",
       "      <td>2455294</td>\n",
       "      <td>47</td>\n",
       "      <td>2</td>\n",
       "      <td>161.5</td>\n",
       "    </tr>\n",
       "    <tr>\n",
       "      <th>3927520</th>\n",
       "      <td>6126799</td>\n",
       "      <td>True</td>\n",
       "      <td>2017-11-10</td>\n",
       "      <td>0</td>\n",
       "      <td>0</td>\n",
       "      <td>250900</td>\n",
       "      <td>The Binding of Isaac: Rebirth</td>\n",
       "      <td>2014-11-04</td>\n",
       "      <td>Overwhelmingly Positive</td>\n",
       "      <td>97</td>\n",
       "      <td>...</td>\n",
       "      <td>16</td>\n",
       "      <td>403</td>\n",
       "      <td>4583</td>\n",
       "      <td>3236</td>\n",
       "      <td>2000-5000</td>\n",
       "      <td>True</td>\n",
       "      <td>2460022</td>\n",
       "      <td>242</td>\n",
       "      <td>3</td>\n",
       "      <td>655.2</td>\n",
       "    </tr>\n",
       "    <tr>\n",
       "      <th>3927521</th>\n",
       "      <td>6126800</td>\n",
       "      <td>True</td>\n",
       "      <td>2021-07-23</td>\n",
       "      <td>0</td>\n",
       "      <td>0</td>\n",
       "      <td>270880</td>\n",
       "      <td>American Truck Simulator</td>\n",
       "      <td>2016-02-02</td>\n",
       "      <td>Overwhelmingly Positive</td>\n",
       "      <td>96</td>\n",
       "      <td>...</td>\n",
       "      <td>0</td>\n",
       "      <td>43</td>\n",
       "      <td>2086</td>\n",
       "      <td>1694</td>\n",
       "      <td>1000-2000</td>\n",
       "      <td>True</td>\n",
       "      <td>2475322</td>\n",
       "      <td>47</td>\n",
       "      <td>2</td>\n",
       "      <td>50.6</td>\n",
       "    </tr>\n",
       "  </tbody>\n",
       "</table>\n",
       "<p>3927522 rows × 30 columns</p>\n",
       "</div>"
      ],
      "text/plain": [
       "         review_id      y       date  funny  helpful  app_id  \\\n",
       "0                1  False 2017-02-17      0        4  304390   \n",
       "1                5   True 2021-10-10      0        0  306130   \n",
       "2                6   True 2017-11-25      0        0  238960   \n",
       "3                7  False 2021-11-30      0        0     730   \n",
       "4                8   True 2021-05-21      0        0  255710   \n",
       "...            ...    ...        ...    ...      ...     ...   \n",
       "3927517    6126796   True 2021-09-08      0        0  252490   \n",
       "3927518    6126797   True 2016-04-17      0        3  374320   \n",
       "3927519    6126798   True 2017-11-24      0        2  252490   \n",
       "3927520    6126799   True 2017-11-10      0        0  250900   \n",
       "3927521    6126800   True 2021-07-23      0        0  270880   \n",
       "\n",
       "                                    title date_release  \\\n",
       "0                              FOR HONOR™   2017-02-13   \n",
       "1               The Elder Scrolls® Online   2017-05-22   \n",
       "2                           Path of Exile   2013-10-23   \n",
       "3        Counter-Strike: Global Offensive   2012-08-21   \n",
       "4                        Cities: Skylines   2015-03-10   \n",
       "...                                   ...          ...   \n",
       "3927517                              Rust   2018-02-08   \n",
       "3927518                   DARK SOULS™ III   2016-04-11   \n",
       "3927519                              Rust   2018-02-08   \n",
       "3927520     The Binding of Isaac: Rebirth   2014-11-04   \n",
       "3927521          American Truck Simulator   2016-02-02   \n",
       "\n",
       "                          rating  positive_ratio  ...  required_age  \\\n",
       "0                          Mixed              68  ...             0   \n",
       "1                  Very Positive              83  ...            18   \n",
       "2                  Very Positive              87  ...             0   \n",
       "3                  Very Positive              88  ...             0   \n",
       "4                  Very Positive              93  ...             0   \n",
       "...                          ...             ...  ...           ...   \n",
       "3927517            Very Positive              87  ...            18   \n",
       "3927518            Very Positive              94  ...             0   \n",
       "3927519            Very Positive              87  ...            18   \n",
       "3927520  Overwhelmingly Positive              97  ...            16   \n",
       "3927521  Overwhelmingly Positive              96  ...             0   \n",
       "\n",
       "         achievements  average_playtime  median_playtime        owners  \\\n",
       "0                   0               951              696     2000-5000   \n",
       "1                   0             10659             3143     1000-2000   \n",
       "2                 120              5263              492   10000-20000   \n",
       "3                 167             22494             6502  50000-100000   \n",
       "4                  97              3225              444    5000-10000   \n",
       "...               ...               ...              ...           ...   \n",
       "3927517            48              9352             2234    5000-10000   \n",
       "3927518            43              4222             1776     2000-5000   \n",
       "3927519            48              9352             2234    5000-10000   \n",
       "3927520           403              4583             3236     2000-5000   \n",
       "3927521            43              2086             1694     1000-2000   \n",
       "\n",
       "         steam_deck  user_id  products reviews  hours  \n",
       "0              True      797        40       1   11.5  \n",
       "1              True    12866       104       1    8.6  \n",
       "2              True    24829        46       3  538.8  \n",
       "3              True    17828         6       1  157.5  \n",
       "4              True    92535        41       1   18.7  \n",
       "...             ...      ...       ...     ...    ...  \n",
       "3927517        True  2415273        99       1   42.6  \n",
       "3927518        True  2435564        54       2   12.8  \n",
       "3927519        True  2455294        47       2  161.5  \n",
       "3927520        True  2460022       242       3  655.2  \n",
       "3927521        True  2475322        47       2   50.6  \n",
       "\n",
       "[3927522 rows x 30 columns]"
      ]
     },
     "execution_count": 122,
     "metadata": {},
     "output_type": "execute_result"
    }
   ],
   "source": [
    "final_df"
   ]
  },
  {
   "cell_type": "markdown",
   "id": "fe12d0b8-daec-42e4-adc1-9674be5d6523",
   "metadata": {},
   "source": [
    "**Elapsed Time:** A new feature which tracks the amount of time that has elapsed between the game's release and the review being logged. This could be interested because people who purchase a game right after its release are likely to be larger fans of the genre or franchise."
   ]
  },
  {
   "cell_type": "code",
   "execution_count": 123,
   "id": "661637c9-cc8b-4a21-aa51-b9fd95739080",
   "metadata": {},
   "outputs": [],
   "source": [
    "final_df[\"elapsed_time\"] = final_df[\"date\"] - final_df[\"date_release\"]\n",
    "\n",
    "# number of products with discount\n",
    "# pertentage of products with discount"
   ]
  },
  {
   "cell_type": "code",
   "execution_count": null,
   "id": "d654ca65-f61b-4ea0-a15d-592f3ac1b0fc",
   "metadata": {},
   "outputs": [],
   "source": []
  },
  {
   "cell_type": "markdown",
   "id": "4e8f536e-6bf0-4ecf-8aed-5d559d6b0fcd",
   "metadata": {},
   "source": [
    "**Relative Recommendation:** Find the rate at which users rated a game positively (out of the count of games they have rated). Then, find for each review whether a recommendation is in line with user's typical reviews or not."
   ]
  },
  {
   "cell_type": "code",
   "execution_count": 124,
   "id": "cbbca433-de21-41a4-896a-01aa1ab92c1a",
   "metadata": {},
   "outputs": [],
   "source": [
    "# Count the number of reviews per user and rename column\n",
    "usr_rating_count = final_df[[\"user_id\",\"y\"]].groupby(\"user_id\").count()\n",
    "usr_rating_count.rename(columns = {\"y\":\"review_count\"}, inplace = True)\n",
    "\n",
    "# Find the number of positive reviews\n",
    "usr_rating_count[\"positive_reviews\"] = final_df[[\"user_id\",\"y\"]].groupby(\"user_id\").sum()\n",
    "\n",
    "# Find how many reviews out of total are positive\n",
    "usr_rating_count[\"positive_rate\"] = usr_rating_count[\"positive_reviews\"] / usr_rating_count[\"review_count\"]"
   ]
  },
  {
   "cell_type": "code",
   "execution_count": 125,
   "id": "ab2b4db5-7495-4a59-9586-5ca60d5313e9",
   "metadata": {},
   "outputs": [],
   "source": [
    "# Merge review_count and positive_rate to the final_df\n",
    "final_df = final_df.merge(usr_rating_count.reset_index()[[\"user_id\", \"review_count\", \"positive_rate\"]], \n",
    "                          how = \"left\", on = \"user_id\")\n",
    "\n",
    "# Use these to create an ulterior feature with recommendation relative to average recommendation\n",
    "final_df[\"relaitve_rec\"] = (final_df[\"y\"] - final_df[\"positive_rate\"])"
   ]
  },
  {
   "cell_type": "markdown",
   "id": "7dbeb36f-99c0-40ac-9503-929e42bc3a7f",
   "metadata": {},
   "source": [
    "**Tendency to Review:** People who review more often tend to..."
   ]
  },
  {
   "cell_type": "code",
   "execution_count": 126,
   "id": "bc88e6e7-c620-4dd3-9264-42a9ede92055",
   "metadata": {},
   "outputs": [],
   "source": [
    "# Find Review Tendency\n",
    "final_df[\"review_tendency\"] =  final_df[\"reviews\"] /final_df[\"products\"] \n",
    "\n",
    "# Find Tendency Relative to Median Because of Low Values\n",
    "final_df[\"rel_review_tendency\"] = (final_df[\"review_tendency\"] - final_df[\"review_tendency\"].median())/ final_df[\"review_tendency\"].median()\n"
   ]
  },
  {
   "cell_type": "markdown",
   "id": "e285f817-0d2f-4b83-bb57-387b6e476e4b",
   "metadata": {},
   "source": [
    "**Positive & Negative Reviews:** Here we calculate the number of positive and negative reviews for each game. This is done through the positive_ratio column."
   ]
  },
  {
   "cell_type": "code",
   "execution_count": 127,
   "id": "02547f99-c7ef-4d90-a23d-ac964599d436",
   "metadata": {},
   "outputs": [],
   "source": [
    "final_df[\"positive_reviews\"] = final_df[\"positive_ratio\"] * final_df[\"user_reviews\"]\n",
    "final_df[\"negative_reviews\"] = (1 - final_df[\"positive_ratio\"]) * final_df[\"user_reviews\"]"
   ]
  },
  {
   "cell_type": "code",
   "execution_count": 128,
   "id": "7aa366f7-7218-48f1-8ea4-7723bc11ffe3",
   "metadata": {},
   "outputs": [
    {
     "name": "stdout",
     "output_type": "stream",
     "text": [
      "   review_id      y       date  funny  helpful  app_id  \\\n",
      "0          1  False 2017-02-17      0        4  304390   \n",
      "1          5   True 2021-10-10      0        0  306130   \n",
      "\n",
      "                       title date_release         rating  positive_ratio  ...  \\\n",
      "0                 FOR HONOR™   2017-02-13          Mixed              68  ...   \n",
      "1  The Elder Scrolls® Online   2017-05-22  Very Positive              83  ...   \n",
      "\n",
      "   reviews  hours  elapsed_time  review_count  positive_rate  relaitve_rec  \\\n",
      "0        1   11.5        4 days             1            0.0           0.0   \n",
      "1        1    8.6     1602 days             2            1.0           0.0   \n",
      "\n",
      "   review_tendency  rel_review_tendency positive_reviews negative_reviews  \n",
      "0         0.025000             0.025000          5172828         -5096757  \n",
      "1         0.009615            -0.605769          8946570         -8838780  \n",
      "\n",
      "[2 rows x 38 columns]\n"
     ]
    }
   ],
   "source": [
    "print(final_df.head(2))"
   ]
  },
  {
   "cell_type": "markdown",
   "id": "15e4e2f7-8a87-44a2-8744-4c2a113dccd9",
   "metadata": {},
   "source": [
    "**Polarisation metric**"
   ]
  },
  {
   "cell_type": "markdown",
   "id": "7bbad89d-1dac-4bba-8506-0bfcdf7d2b4b",
   "metadata": {},
   "source": [
    "The polarisation metric ranges between -1 and 1, with -1 indicating that there are only negative reviews, and 1 indicating that there are only positive reviews. A value of 0 indicates that there are equal numbers of positive and negative reviews."
   ]
  },
  {
   "cell_type": "code",
   "execution_count": 129,
   "id": "51e8f966-3418-4583-bf00-31ba6694f557",
   "metadata": {},
   "outputs": [
    {
     "name": "stdout",
     "output_type": "stream",
     "text": [
      "         positive_reviews  negative_reviews  polarisation\n",
      "0                 5172828          -5096757      0.007407\n",
      "1                 8946570          -8838780      0.006061\n",
      "2                17094804         -16898312      0.005780\n",
      "3               610820056        -603878919      0.005714\n",
      "4                15323796         -15159024      0.005405\n",
      "...                   ...               ...           ...\n",
      "3927517          62898651         -62175678      0.005780\n",
      "3927518          20902310         -20679945      0.005348\n",
      "3927519          62898651         -62175678      0.005780\n",
      "3927520          19869480         -19664640      0.005181\n",
      "3927521           9359232          -9261740      0.005236\n",
      "\n",
      "[3927522 rows x 3 columns]\n"
     ]
    }
   ],
   "source": [
    "final_df[\"polarisation\"] = (final_df[\"positive_reviews\"] - abs(final_df[\"negative_reviews\"])) / (final_df[\"positive_reviews\"] + abs(final_df[\"negative_reviews\"]))\n",
    "print(final_df[[\"positive_reviews\", \"negative_reviews\", \"polarisation\"]])"
   ]
  },
  {
   "cell_type": "code",
   "execution_count": 130,
   "id": "5cc1e5cd-8452-4233-accd-267b52296af3",
   "metadata": {},
   "outputs": [
    {
     "data": {
      "text/plain": [
       "count    3.927522e+06\n",
       "mean     5.814221e-03\n",
       "std      6.419102e-04\n",
       "min      5.128205e-03\n",
       "25%      5.291005e-03\n",
       "50%      5.714286e-03\n",
       "75%      6.060606e-03\n",
       "max      8.849558e-03\n",
       "Name: polarisation, dtype: float64"
      ]
     },
     "execution_count": 130,
     "metadata": {},
     "output_type": "execute_result"
    }
   ],
   "source": [
    "final_df[\"polarisation\"].describe()"
   ]
  },
  {
   "cell_type": "markdown",
   "id": "f7c1aefe-8e1a-47a4-b193-7ca06471fab5",
   "metadata": {},
   "source": [
    "**Comparison of mean playtime and median playtime in terms of skewness**"
   ]
  },
  {
   "cell_type": "markdown",
   "id": "5f13cea6-7388-4d9c-9763-6967661e2527",
   "metadata": {},
   "source": [
    "We compare mean and median playtime in terms of skewness to gain a better understanding of the distribution of the 'hours' column. This helps use to decide whether to use the mean or median for further analysis."
   ]
  },
  {
   "cell_type": "code",
   "execution_count": 132,
   "id": "e4135ca9-fa80-46a8-a3f5-9f8f43efa23a",
   "metadata": {},
   "outputs": [
    {
     "name": "stdout",
     "output_type": "stream",
     "text": [
      "Number of outliers in the 'hours' column: 119793\n",
      "The 'hours' column is highly skewed. It is recommended to use the median for further analysis.\n"
     ]
    }
   ],
   "source": [
    "import pandas as pd\n",
    "import numpy as np\n",
    "\n",
    "# Assuming final_df is your DataFrame\n",
    "\n",
    "# Step 1: Calculate the mean and median for 'hours' and 'median_playtime'\n",
    "mean_hours = final_df['hours'].mean()\n",
    "median_hours = final_df['hours'].median()\n",
    "\n",
    "mean_playtime = final_df['median_playtime'].mean()\n",
    "median_playtime = final_df['median_playtime'].median()\n",
    "\n",
    "# Step 2: Create a new variable representing hours played relative to the mean or median\n",
    "final_df['hours_rel_mean'] = final_df['hours'] / mean_hours\n",
    "final_df['hours_rel_median'] = final_df['hours'] / median_hours\n",
    "\n",
    "# Step 3: Assess the distribution of the 'hours' column\n",
    "skewness = final_df['hours'].skew()\n",
    "\n",
    "# Step 4: Use a for loop to identify outliers (using the IQR method)\n",
    "Q1 = final_df['hours'].quantile(0.25)\n",
    "Q3 = final_df['hours'].quantile(0.75)\n",
    "IQR = Q3 - Q1\n",
    "\n",
    "outliers = []\n",
    "for hours in final_df['hours']:\n",
    "    if (hours < (Q1 - 1.5 * IQR)) or (hours > (Q3 + 1.5 * IQR)):\n",
    "        outliers.append(hours)\n",
    "\n",
    "# Print the number of outliers\n",
    "print(f\"Number of outliers in the 'hours' column: {len(outliers)}\")\n",
    "\n",
    "# Step 5: Decide whether to use the median or the mean for further analysis\n",
    "if skewness > 1 or skewness < -1:\n",
    "    print(\"The 'hours' column is highly skewed. It is recommended to use the median for further analysis.\")\n",
    "else:\n",
    "    print(\"The 'hours' column is not highly skewed. It is recommended to use the mean for further analysis.\")\n"
   ]
  },
  {
   "cell_type": "markdown",
   "id": "2a8c2268-c18c-46ec-953d-2446868e601b",
   "metadata": {},
   "source": [
    "There are 119,793 data points in the 'hours' column that are considered outliers, based on the Interquartile Range (IQR) method. These data points lie outside the typical range of values, and they might have a significant impact on the mean and standard deviation.\n",
    "\n",
    "The 'hours' column is highly skewed - The skewness of the 'hours' column is either greater than 1 or less than -1, indicating that the distribution is not symmetric and has a significant tail on one side. In this case, the tail is likely on the right side, meaning that there are a few games with extremely high playtimes compared to the majority. \n",
    "\n",
    "Given these results, it is recommended to use the median instead of the mean for further analysis of the 'hours' column. The median is less sensitive to outliers and provides a more accurate representation of the central tendency of the data. By using the median, you can mitigate the impact of extreme values and better understand the typical playtime for games in the dataset."
   ]
  },
  {
   "cell_type": "markdown",
   "id": "d645a631-a897-4994-b810-4455d69f8f47",
   "metadata": {},
   "source": [
    "## Additional Data Exploration after Feature Engeneering"
   ]
  },
  {
   "cell_type": "markdown",
   "id": "ed6a2712-8ab8-4bd1-91a2-36961c8cc590",
   "metadata": {},
   "source": [
    "**Exploration of elapsed time**"
   ]
  },
  {
   "cell_type": "markdown",
   "id": "f9997b69-2fc6-44c3-9c3e-1f766f98fa3d",
   "metadata": {},
   "source": [
    "By analyzing the elapsed time, we can gain a better understanding about when users are most likely to write reviews, whether they tend to review games soon after release or after a significant amount of time has passed."
   ]
  },
  {
   "cell_type": "code",
   "execution_count": null,
   "id": "1c558333-a9d1-4293-b464-54df44d07b0b",
   "metadata": {},
   "outputs": [],
   "source": [
    "import pandas as pd\n",
    "import matplotlib.pyplot as plt\n",
    "\n",
    "# Filter out rows with negative elapsed time\n",
    "final_df = final_df[final_df['elapsed_time'].dt.days >= 0]\n",
    "\n",
    "# Calculate the average 'elapsed_time_days' for each unique review date\n",
    "average_elapsed_time = final_df.groupby('date')['elapsed_time'].mean().reset_index()\n",
    "\n",
    "# Set the 'date' column as the index\n",
    "average_elapsed_time.set_index('date', inplace=True)\n",
    "\n",
    "# Convert the elapsed time to days\n",
    "average_elapsed_time['elapsed_time'] = average_elapsed_time['elapsed_time'].dt.days\n",
    "\n",
    "# Resample the data to a monthly frequency and calculate the moving average\n",
    "monthly_moving_average = average_elapsed_time.resample('M').mean().rolling(window=1).mean()\n",
    "\n",
    "# Plot the average 'elapsed_time_days' and the monthly moving average over time\n",
    "plt.figure(figsize=(10, 6))\n",
    "#plt.plot(average_elapsed_time, label='Average Elapsed Time (Days)')\n",
    "plt.plot(monthly_moving_average, label='Monthly Moving Average', linewidth=2, color='red')\n",
    "plt.xlabel('Date')\n",
    "plt.ylabel('Average Elapsed Time (Days)')\n",
    "plt.title('Average Elapsed Time Over Time (with Monthly Moving Average)')\n",
    "plt.legend()\n",
    "plt.show()\n"
   ]
  },
  {
   "cell_type": "markdown",
   "id": "b175ee46-89f5-4294-87ce-859191126cda",
   "metadata": {},
   "source": [
    "The plot shows that the average elapsed time increases on average from 2012 to 2022.\n",
    "\n",
    "One possible reason for the increase in the average elapsed time over the years could be the increase in the number of games being released on the Steam platform over time.\n",
    "\n",
    "As the number of games being released increases, the number of reviews being posted for each game is also likely to increase, leading to a larger number of reviews for games that have been released more recently. This, in turn, could lead to a higher average elapsed time for reviews, as more recent games would have less time for reviews to be posted compared to older games.\n",
    "\n",
    "Additionally, as the number of games on the platform increases, the average age of games being reviewed is likely to decrease. Newer games are more likely to be reviewed closer to their release date than older games, which may also contribute to the increase in the average elapsed time for reviews."
   ]
  },
  {
   "cell_type": "code",
   "execution_count": null,
   "id": "d8d8afe2-f1cc-4de6-8193-4c8551edc90b",
   "metadata": {},
   "outputs": [],
   "source": [
    "unique_discounts = final_df['discount'].unique()\n",
    "print(unique_discounts)"
   ]
  },
  {
   "cell_type": "code",
   "execution_count": null,
   "id": "18fb118a-2a04-4c53-8478-56f66addcbb7",
   "metadata": {},
   "outputs": [],
   "source": [
    "import pandas as pd\n",
    "import matplotlib.pyplot as plt\n",
    "\n",
    "# Filter out rows with negative elapsed time and limit the range to 0-2500 days\n",
    "final_df = final_df[(final_df['elapsed_time'].dt.days >= 0) & (final_df['elapsed_time'].dt.days <= 2500)]\n",
    "\n",
    "# Convert the elapsed time to days\n",
    "final_df['elapsed_time_days'] = final_df['elapsed_time'].dt.days\n",
    "\n",
    "# Group by 'elapsed_time_days' and calculate the mean discount for each group\n",
    "average_discount_per_elapsed_time = final_df.groupby('elapsed_time_days')['discount'].mean().reset_index()\n",
    "\n",
    "# Set the 'elapsed_time_days' column as the index\n",
    "average_discount_per_elapsed_time.set_index('elapsed_time_days', inplace=True)\n",
    "\n",
    "# Calculate the moving average using a rolling window of approximately 30 days\n",
    "monthly_moving_average = average_discount_per_elapsed_time.rolling(window=30).mean()\n",
    "\n",
    "# Create the line plot with the monthly moving average\n",
    "plt.figure(figsize=(10, 6))\n",
    "plt.plot(average_discount_per_elapsed_time, label='Average Discount')\n",
    "plt.plot(monthly_moving_average, label='Monthly Moving Average', linewidth=2, color='red')\n",
    "plt.xlabel('Elapsed Time (Days)')\n",
    "plt.ylabel('Average Discount')\n",
    "plt.title('Average Discount per Elapsed Time (0-2500 Days) with Monthly Moving Average')\n",
    "plt.xlim(0, 2500)\n",
    "plt.legend()\n",
    "plt.show()\n"
   ]
  },
  {
   "cell_type": "markdown",
   "id": "e0601435-9fa0-47bb-8b60-7cf63d46c34d",
   "metadata": {},
   "source": [
    "The plot shows that as the elaplsed time increases, the average discount also increases. This is what we would have expected. However, from an elapsed time of 1300 days, the average discount is relatively stable."
   ]
  },
  {
   "cell_type": "code",
   "execution_count": null,
   "id": "48c64b3f-d791-4007-ac0f-ad6b56d416f2",
   "metadata": {},
   "outputs": [],
   "source": [
    "# rel_review_tendency\n",
    "\n",
    "# more reviews more objective higher quality\n",
    "# ratio of positive reviews"
   ]
  },
  {
   "cell_type": "markdown",
   "id": "82efddda-9f5b-4c0e-a192-f9f26d2859cd",
   "metadata": {},
   "source": [
    "# Model Preparation"
   ]
  },
  {
   "cell_type": "markdown",
   "id": "bdece580-b5b6-4160-a4f0-b23f0517ec30",
   "metadata": {},
   "source": [
    "In this code, a Logistic Regression model is being used to predict whether a user would like a game or not, which is represented by the binary target variable 'y'. The dataset is first split into features (X) and target (y) and then further split into training and validation sets.\n",
    "\n",
    "Two versions of the logistic model are created and compared:\n",
    "\n",
    "The first logistic model uses a limited set of features: 'price_final', 'positive_ratio', 'hours', 'median_playtime'. A preprocessor is created using ColumnTransformer and StandardScaler to standardize these numerical features. A pipeline is created with the preprocessor and a LogisticRegression model with L2 regularization. GridSearchCV is used to optimize the penalty hyperparameter ('C') and regularization type ('penalty') over a range of values, using 10-fold cross-validation and F1 score as the evaluation metric.\n",
    "The second logistic model adds more features to the first model: 'reviews', 'products', 'discount', 'funny', 'helpful', 'user_reviews', 'price_original', 'required_age', 'achievements'. A new preprocessor is created to standardize these additional numerical features. The same pipeline, grid search, and cross-validation process from the first model is used to optimize the hyperparameters and evaluate the model.\n",
    "The performance of the second model is compared to the first model to see if adding more features improved the F1 score.\n",
    "\n",
    "In the third part, Synthetic Minority Over-sampling Technique (SMOTE) is added to the pipeline to address potential class imbalance in the target variable 'y'. A new parameter grid is created to optimize SMOTE's sampling strategy, the number of nearest neighbors, and the logistic regression penalty hyperparameter. Grid search and cross-validation are performed on this pipeline, and the model's performance is compared to the second logistic model to see if adding SMOTE improved the F1 score.\n",
    "In summary, a logistic regression model is used in this code to predict whether a user would like a game or not based on various features. The model is optimized and compared across different sets of features and with the addition of SMOTE to address class imbalance."
   ]
  },
  {
   "cell_type": "markdown",
   "id": "e93cccd7-1dd2-499c-9783-3cf18a100565",
   "metadata": {},
   "source": [
    "#### Logistic Regression Model"
   ]
  },
  {
   "cell_type": "code",
   "execution_count": null,
   "id": "9c4595d5-3a16-4cc8-8feb-6298f8554089",
   "metadata": {},
   "outputs": [],
   "source": [
    "# Consider balancing out data because of overwhelming positivity\n",
    "import warnings\n",
    "warnings.filterwarnings(\"ignore\")"
   ]
  },
  {
   "cell_type": "code",
   "execution_count": null,
   "id": "3193b710-a517-4e60-ba55-a262e56efefe",
   "metadata": {},
   "outputs": [],
   "source": [
    "print(final_df['y'].value_counts(normalize=True))"
   ]
  },
  {
   "cell_type": "code",
   "execution_count": 54,
   "id": "8be72641-5295-4fc1-baff-f883ac9d9c5b",
   "metadata": {},
   "outputs": [
    {
     "name": "stdout",
     "output_type": "stream",
     "text": [
      "Requirement already satisfied: imbalanced-learn in /opt/anaconda3/lib/python3.9/site-packages (0.10.1)\n",
      "Requirement already satisfied: scikit-learn>=1.0.2 in /opt/anaconda3/lib/python3.9/site-packages (from imbalanced-learn) (1.2.2)\n",
      "Requirement already satisfied: numpy>=1.17.3 in /opt/anaconda3/lib/python3.9/site-packages (from imbalanced-learn) (1.21.5)\n",
      "Requirement already satisfied: threadpoolctl>=2.0.0 in /opt/anaconda3/lib/python3.9/site-packages (from imbalanced-learn) (2.2.0)\n",
      "Requirement already satisfied: joblib>=1.1.1 in /opt/anaconda3/lib/python3.9/site-packages (from imbalanced-learn) (1.2.0)\n",
      "Requirement already satisfied: scipy>=1.3.2 in /opt/anaconda3/lib/python3.9/site-packages (from imbalanced-learn) (1.7.3)\n",
      "Note: you may need to restart the kernel to use updated packages.\n"
     ]
    }
   ],
   "source": [
    "pip install imbalanced-learn"
   ]
  },
  {
   "cell_type": "code",
   "execution_count": 100,
   "id": "7944a286-0826-4ae0-b795-772c19223910",
   "metadata": {},
   "outputs": [],
   "source": [
    "from sklearn.pipeline import FeatureUnion\n",
    "from sklearn.preprocessing import FunctionTransformer\n",
    "import pandas as pd\n",
    "from sklearn.model_selection import train_test_split\n",
    "from sklearn.compose import ColumnTransformer\n",
    "from sklearn.pipeline import Pipeline\n",
    "from sklearn.preprocessing import StandardScaler, OneHotEncoder, KBinsDiscretizer\n",
    "from sklearn.linear_model import LogisticRegression\n",
    "from sklearn.model_selection import cross_val_score\n",
    "from sklearn.metrics import accuracy_score, precision_score, recall_score, f1_score, make_scorer\n",
    "from sklearn.model_selection import GridSearchCV\n",
    "\n",
    "from imblearn.over_sampling import SMOTE\n",
    "from imblearn.pipeline import Pipeline as imPipeline"
   ]
  },
  {
   "cell_type": "code",
   "execution_count": 101,
   "id": "f0355765-764d-4d7a-ad11-55f4e6f3343a",
   "metadata": {},
   "outputs": [],
   "source": [
    "# split and prepare data\n",
    "X = final_df.drop(['y'], axis=1)  # Use all columns except 'y' as features\n",
    "y = final_df['y']  # Use 'y' as the target variable\n",
    "\n",
    "X_train, X_valid, y_train, y_valid = train_test_split(X, y, test_size=0.2, random_state=42, stratify=y)"
   ]
  },
  {
   "cell_type": "code",
   "execution_count": 102,
   "id": "d211fa92-f963-4cac-8f69-4c9ce79cd67f",
   "metadata": {},
   "outputs": [
    {
     "name": "stdout",
     "output_type": "stream",
     "text": [
      "Best average f1: 0.91398893\n",
      "Best hyperparameters: {'model__C': 0.0001, 'model__penalty': 'l2'}\n"
     ]
    }
   ],
   "source": [
    "# 1. logistic model\n",
    "num_features_1 = ['price_final', 'positive_ratio', 'hours', 'median_playtime']\n",
    "\n",
    "preprocessor_1 = ColumnTransformer(\n",
    "    transformers=[('num', StandardScaler(), num_features_1)])\n",
    "\n",
    "model_1 = LogisticRegression(penalty='l2', random_state=42)\n",
    "pipeline_1 = Pipeline(steps=[('preprocessor', preprocessor_1),\n",
    "                           ('model', model_1)])\n",
    "\n",
    "# Optimize the penalty hyperparameter\n",
    "param_grid = {'model__C': [1/10000, 1/1000, 1/100, 1/10, 1, 10, 100, 1000],\n",
    "              'model__penalty': ['l1', 'l2']}\n",
    "\n",
    "grid_search_1 = GridSearchCV(pipeline_1, param_grid, cv=10, scoring='f1')\n",
    "grid_search_1.fit(X_train, y_train)\n",
    "\n",
    "# Report the average score with the best hyperparameter\n",
    "print(f\"Best average f1: {grid_search_1.best_score_:.8f}\")\n",
    "print(f\"Best hyperparameters: {grid_search_1.best_params_}\")"
   ]
  },
  {
   "cell_type": "code",
   "execution_count": 103,
   "id": "61b360a4-2f7f-44ab-8a44-17a9d5ecfb36",
   "metadata": {},
   "outputs": [
    {
     "name": "stdout",
     "output_type": "stream",
     "text": [
      "Best average f1: 0.91416793\n",
      "Best hyperparameter: {'model__C': 1, 'model__penalty': 'l2'}\n",
      "\n",
      "Model performance improved: True\n"
     ]
    }
   ],
   "source": [
    "# 2. logistic model with added features\n",
    "num_features_2 = ['price_final', 'positive_ratio', 'hours', 'median_playtime', 'reviews', 'products', 'discount', 'funny',\n",
    "                 'helpful', 'user_reviews', 'price_original', 'required_age', 'achievements']\n",
    "\n",
    "preprocessor_2 = ColumnTransformer(\n",
    "    transformers=[('num', StandardScaler(), num_features_2)])\n",
    "\n",
    "model_2 = LogisticRegression(penalty='l2', random_state=42)\n",
    "\n",
    "pipeline_2 = Pipeline(steps=[('preprocessor', preprocessor_2),\n",
    "                           ('model', model_2)])\n",
    "\n",
    "\n",
    "# Optimize the penalty hyperparameter\n",
    "grid_search_2 = GridSearchCV(pipeline_2, param_grid, cv=10, scoring='f1')\n",
    "grid_search_2.fit(X_train, y_train)\n",
    "\n",
    "# Report the average score with the best hyperparameter\n",
    "print(f\"Best average f1: {grid_search_2.best_score_:.8f}\")\n",
    "print(f\"Best hyperparameter: {grid_search_2.best_params_}\")\n",
    "\n",
    "# Check if the model performance improved\n",
    "improved = grid_search_2.best_score_ > grid_search_1.best_score_  \n",
    "print(\"\\n\"f\"Model performance improved: {improved}\")"
   ]
  },
  {
   "cell_type": "code",
   "execution_count": 104,
   "id": "a8785821-8d7f-4238-91ec-462b71f08d20",
   "metadata": {},
   "outputs": [],
   "source": [
    "# Define the best model\n",
    "best_model = LogisticRegression(penalty='l2', random_state=42, C=grid_search_1.best_params_['model__C'])"
   ]
  },
  {
   "cell_type": "code",
   "execution_count": null,
   "id": "52451798-f1df-417d-8d32-244055b3bb20",
   "metadata": {},
   "outputs": [],
   "source": [
    "# 3. Add SMOTE to the pipeline\n",
    "smote_param_grid = {\n",
    "    'smote__sampling_strategy': ['auto', 0.5, 0.75],\n",
    "    'smote__k_neighbors': [3, 5, 7, 9],\n",
    "    'smote__n_jobs': [-1]\n",
    "}\n",
    "\n",
    "# Combine the SMOTE param_grid with the logistic regression param_grid\n",
    "param_grid = {\n",
    "    **smote_param_grid,\n",
    "    'model__C': [1/10000, 1/1000, 1/100, 1/10, 1, 10, 100, 1000]\n",
    "}\n",
    "\n",
    "# Create the pipeline\n",
    "pipeline_3 = imPipeline(steps=[('preprocessor', preprocessor_2),\n",
    "                              ('smote', SMOTE(random_state=42)),\n",
    "                              ('model', best_model)])\n",
    "\n",
    "# Perform the grid search\n",
    "grid_search_3 = GridSearchCV(pipeline_3, param_grid, cv=10, scoring='f1')\n",
    "grid_search_3.fit(X_train, y_train)\n",
    "\n",
    "# Report the average score with the best hyperparameter\n",
    "print(f\"Best average f1: {grid_search_3.best_score_:.8f}\")\n",
    "print(\"\\n\"f\"Best hyperparameter: {grid_search_3.best_params_}\")\n",
    "\n",
    "# Check if the model performance improved\n",
    "improved = grid_search_3.best_score_ > grid_search_2.best_score_  \n",
    "print(\"\\n\"f\"Model performance improved: {improved}\")"
   ]
  },
  {
   "cell_type": "code",
   "execution_count": null,
   "id": "d16101fb-6254-47e1-84f7-03aa5ade2b55",
   "metadata": {},
   "outputs": [],
   "source": [
    "# Check if the model performance improved\n",
    "improved = model_3.best_score_ > grid_search_2.best_score_  \n",
    "print(\"\\n\"f\"Model performance improved: {improved}\")"
   ]
  },
  {
   "cell_type": "code",
   "execution_count": null,
   "id": "6b3d1f6d-e2c9-4f73-a1f7-ba46c966fb48",
   "metadata": {},
   "outputs": [],
   "source": []
  }
 ],
 "metadata": {
  "kernelspec": {
   "display_name": "Python 3 (ipykernel)",
   "language": "python",
   "name": "python3"
  },
  "language_info": {
   "codemirror_mode": {
    "name": "ipython",
    "version": 3
   },
   "file_extension": ".py",
   "mimetype": "text/x-python",
   "name": "python",
   "nbconvert_exporter": "python",
   "pygments_lexer": "ipython3",
   "version": "3.9.12"
  }
 },
 "nbformat": 4,
 "nbformat_minor": 5
}
