{
 "cells": [
  {
   "cell_type": "markdown",
   "id": "dea93456-a96e-4d1f-99ec-0c38d40bda89",
   "metadata": {},
   "source": [
    "# **Machine Learning Group Project:** Data Exploration and Feature Engineering \n",
    "\n",
    "Make sure to **only run this notebook once the previous notebooks [a_csv_creation.ipynb](a_csv_creation.ipynb) and [b_recommender_system.ipynb](b_recommender_system.ipynb) have been run at least once.** \n",
    "\n",
    "If those notebooks have both been run at least once, the kernel may be restarted before running this in order to obtain better performance and vaster machine memory."
   ]
  },
  {
   "cell_type": "markdown",
   "id": "f2540aaf-fc28-463b-ae53-9f3af7f6b760",
   "metadata": {},
   "source": [
    "## Importing Packages "
   ]
  },
  {
   "cell_type": "code",
   "execution_count": 2,
   "id": "bacd787f",
   "metadata": {},
   "outputs": [],
   "source": [
    "import ast\n",
    "import csv\n",
    "import datetime\n",
    "import pandas as pd\n",
    "import numpy as np\n",
    "from datetime import datetime\n",
    "\n",
    "# Plotting\n",
    "import seaborn as sns\n",
    "import matplotlib.pyplot as plt\n",
    "import matplotlib.ticker as mtick\n",
    "\n",
    "# From sklearn\n",
    "from sklearn.compose import ColumnTransformer\n",
    "from sklearn.pipeline import Pipeline, FeatureUnion\n",
    "from sklearn.linear_model import LinearRegression, LogisticRegression, Ridge\n",
    "from sklearn.model_selection import train_test_split, cross_val_score, GridSearchCV\n",
    "from sklearn.metrics import accuracy_score, precision_score, recall_score, f1_score, make_scorer, mean_squared_error\n",
    "from sklearn.preprocessing import FunctionTransformer, StandardScaler, OneHotEncoder, KBinsDiscretizer, OrdinalEncoder"
   ]
  },
  {
   "cell_type": "markdown",
   "id": "c58944f8-dc00-4a5c-988c-55a0904080f7",
   "metadata": {},
   "source": [
    "## Reading DataFrame"
   ]
  },
  {
   "cell_type": "code",
   "execution_count": null,
   "id": "e4cccfbe-8970-4925-85a4-e96b4d687f9e",
   "metadata": {},
   "outputs": [],
   "source": [
    "# Import the final DataFrame\n",
    "final_df = pd.read_csv(\"data/final_df.csv\")\n",
    "\n",
    "# Import the Similarity DataFrame\n",
    "similarity_df = pd.read_csv(\"data/content_base.csv\", index_col = \"name\")"
   ]
  },
  {
   "cell_type": "code",
   "execution_count": null,
   "id": "c03789a1-de5a-497d-88a6-274cc2d3b8e0",
   "metadata": {},
   "outputs": [],
   "source": [
    "# Rearrange Columns\n",
    "final_df = final_df.reindex(columns = [\"review_id\", \"y\", \"date\", \"funny\", \"helpful\",\n",
    "                                       \"app_id\", \"title\", \"date_release\", \"rating\", \n",
    "                                       \"positive_ratio\", \"user_reviews\", \"win\", \"mac\", \"linux\", \n",
    "                                       \"price_final\", \"price_original\", \"discount\", \"description\",\n",
    "                                       \"tags\", 'english', 'developer', 'publisher', 'required_age', \n",
    "                                       'genres', 'steamspy_tags','achievements', 'average_playtime', \n",
    "                                       'median_playtime', \"owners\", \"steam_deck\",\n",
    "                                       \"user_id\", \"products\", \"reviews\", \"hours\"])\n",
    "\n",
    "# Sort by Review ID\n",
    "final_df.sort_values(by=[\"review_id\"], inplace = True)"
   ]
  },
  {
   "cell_type": "code",
   "execution_count": 43,
   "id": "c682ed0d-d694-4695-a671-9b8f506c07d8",
   "metadata": {},
   "outputs": [
    {
     "data": {
      "text/html": [
       "<div>\n",
       "<style scoped>\n",
       "    .dataframe tbody tr th:only-of-type {\n",
       "        vertical-align: middle;\n",
       "    }\n",
       "\n",
       "    .dataframe tbody tr th {\n",
       "        vertical-align: top;\n",
       "    }\n",
       "\n",
       "    .dataframe thead th {\n",
       "        text-align: right;\n",
       "    }\n",
       "</style>\n",
       "<table border=\"1\" class=\"dataframe\">\n",
       "  <thead>\n",
       "    <tr style=\"text-align: right;\">\n",
       "      <th></th>\n",
       "      <th>review_id</th>\n",
       "      <th>y</th>\n",
       "      <th>date</th>\n",
       "      <th>funny</th>\n",
       "      <th>helpful</th>\n",
       "      <th>app_id</th>\n",
       "      <th>title</th>\n",
       "      <th>date_release</th>\n",
       "      <th>rating</th>\n",
       "      <th>positive_ratio</th>\n",
       "      <th>...</th>\n",
       "      <th>steamspy_tags</th>\n",
       "      <th>achievements</th>\n",
       "      <th>average_playtime</th>\n",
       "      <th>median_playtime</th>\n",
       "      <th>owners</th>\n",
       "      <th>steam_deck</th>\n",
       "      <th>user_id</th>\n",
       "      <th>products</th>\n",
       "      <th>reviews</th>\n",
       "      <th>hours</th>\n",
       "    </tr>\n",
       "  </thead>\n",
       "  <tbody>\n",
       "    <tr>\n",
       "      <th>0</th>\n",
       "      <td>1</td>\n",
       "      <td>False</td>\n",
       "      <td>2017-02-17</td>\n",
       "      <td>0</td>\n",
       "      <td>4</td>\n",
       "      <td>304390</td>\n",
       "      <td>FOR HONOR™</td>\n",
       "      <td>2017-02-13</td>\n",
       "      <td>Mixed</td>\n",
       "      <td>68</td>\n",
       "      <td>...</td>\n",
       "      <td>Medieval;Action;Swordplay</td>\n",
       "      <td>0</td>\n",
       "      <td>951</td>\n",
       "      <td>696</td>\n",
       "      <td>2000-5000</td>\n",
       "      <td>True</td>\n",
       "      <td>1098</td>\n",
       "      <td>269</td>\n",
       "      <td>1</td>\n",
       "      <td>11.5</td>\n",
       "    </tr>\n",
       "    <tr>\n",
       "      <th>174074</th>\n",
       "      <td>5</td>\n",
       "      <td>True</td>\n",
       "      <td>2021-10-10</td>\n",
       "      <td>0</td>\n",
       "      <td>0</td>\n",
       "      <td>306130</td>\n",
       "      <td>The Elder Scrolls® Online</td>\n",
       "      <td>2017-05-22</td>\n",
       "      <td>Very Positive</td>\n",
       "      <td>83</td>\n",
       "      <td>...</td>\n",
       "      <td>RPG;Open World;MMORPG</td>\n",
       "      <td>0</td>\n",
       "      <td>10659</td>\n",
       "      <td>3143</td>\n",
       "      <td>1000-2000</td>\n",
       "      <td>True</td>\n",
       "      <td>17622</td>\n",
       "      <td>15</td>\n",
       "      <td>4</td>\n",
       "      <td>8.6</td>\n",
       "    </tr>\n",
       "    <tr>\n",
       "      <th>355245</th>\n",
       "      <td>6</td>\n",
       "      <td>True</td>\n",
       "      <td>2017-11-25</td>\n",
       "      <td>0</td>\n",
       "      <td>0</td>\n",
       "      <td>238960</td>\n",
       "      <td>Path of Exile</td>\n",
       "      <td>2013-10-23</td>\n",
       "      <td>Very Positive</td>\n",
       "      <td>87</td>\n",
       "      <td>...</td>\n",
       "      <td>Free to Play;Action RPG;Hack and Slash</td>\n",
       "      <td>120</td>\n",
       "      <td>5263</td>\n",
       "      <td>492</td>\n",
       "      <td>10000-20000</td>\n",
       "      <td>True</td>\n",
       "      <td>33969</td>\n",
       "      <td>273</td>\n",
       "      <td>1</td>\n",
       "      <td>538.8</td>\n",
       "    </tr>\n",
       "  </tbody>\n",
       "</table>\n",
       "<p>3 rows × 34 columns</p>\n",
       "</div>"
      ],
      "text/plain": [
       "        review_id      y        date  funny  helpful  app_id  \\\n",
       "0               1  False  2017-02-17      0        4  304390   \n",
       "174074          5   True  2021-10-10      0        0  306130   \n",
       "355245          6   True  2017-11-25      0        0  238960   \n",
       "\n",
       "                            title date_release         rating  positive_ratio  \\\n",
       "0                      FOR HONOR™   2017-02-13          Mixed              68   \n",
       "174074  The Elder Scrolls® Online   2017-05-22  Very Positive              83   \n",
       "355245              Path of Exile   2013-10-23  Very Positive              87   \n",
       "\n",
       "        ...                           steamspy_tags  achievements  \\\n",
       "0       ...               Medieval;Action;Swordplay             0   \n",
       "174074  ...                   RPG;Open World;MMORPG             0   \n",
       "355245  ...  Free to Play;Action RPG;Hack and Slash           120   \n",
       "\n",
       "        average_playtime  median_playtime       owners  steam_deck  user_id  \\\n",
       "0                    951              696    2000-5000        True     1098   \n",
       "174074             10659             3143    1000-2000        True    17622   \n",
       "355245              5263              492  10000-20000        True    33969   \n",
       "\n",
       "       products reviews  hours  \n",
       "0           269       1   11.5  \n",
       "174074       15       4    8.6  \n",
       "355245      273       1  538.8  \n",
       "\n",
       "[3 rows x 34 columns]"
      ]
     },
     "execution_count": 43,
     "metadata": {},
     "output_type": "execute_result"
    }
   ],
   "source": [
    "final_df.head(3)"
   ]
  },
  {
   "cell_type": "markdown",
   "id": "388c5a1e-b0b1-40fa-b3f6-4ac637f96d6c",
   "metadata": {},
   "source": [
    "## Data Exploration"
   ]
  },
  {
   "cell_type": "markdown",
   "id": "f589bde0-f093-4599-ae6b-48e5ab46e640",
   "metadata": {},
   "source": [
    "Having imported the final DataFrame, we explore its structure and data composition."
   ]
  },
  {
   "cell_type": "code",
   "execution_count": 44,
   "id": "bbc6f5cd-22bc-415e-8b5e-600fc209d7ee",
   "metadata": {},
   "outputs": [
    {
     "name": "stdout",
     "output_type": "stream",
     "text": [
      "The final dataset has \u001b[1m6564923 observations\u001b[0m and \u001b[1m34 features.\u001b[0m\n",
      "The final dataset has \u001b[1m0 NaN entries.\u001b[0m\n"
     ]
    }
   ],
   "source": [
    "# Number of Observations and Features\n",
    "print(f\"The final dataset has \\033[1m{final_df.shape[0]} observations\\033[0m and \\033[1m{final_df.shape[1]} features.\\033[0m\")\n",
    "\n",
    "# Number of Missing Valyes\n",
    "print(f\"The final dataset has \\033[1m{final_df.isna().sum().sum()} NaN entries.\\033[0m\")\n"
   ]
  },
  {
   "cell_type": "code",
   "execution_count": 45,
   "id": "3ee85ca3-d15e-4dc9-b956-e0dc5ce04656",
   "metadata": {},
   "outputs": [
    {
     "data": {
      "text/html": [
       "<div>\n",
       "<style scoped>\n",
       "    .dataframe tbody tr th:only-of-type {\n",
       "        vertical-align: middle;\n",
       "    }\n",
       "\n",
       "    .dataframe tbody tr th {\n",
       "        vertical-align: top;\n",
       "    }\n",
       "\n",
       "    .dataframe thead th {\n",
       "        text-align: right;\n",
       "    }\n",
       "</style>\n",
       "<table border=\"1\" class=\"dataframe\">\n",
       "  <thead>\n",
       "    <tr style=\"text-align: right;\">\n",
       "      <th></th>\n",
       "      <th>count</th>\n",
       "      <th>mean</th>\n",
       "      <th>std</th>\n",
       "      <th>min</th>\n",
       "      <th>10%</th>\n",
       "      <th>25%</th>\n",
       "      <th>50%</th>\n",
       "      <th>75%</th>\n",
       "      <th>90%</th>\n",
       "      <th>max</th>\n",
       "    </tr>\n",
       "  </thead>\n",
       "  <tbody>\n",
       "    <tr>\n",
       "      <th>review_id</th>\n",
       "      <td>6564923.0</td>\n",
       "      <td>5136968.74</td>\n",
       "      <td>2967648.97</td>\n",
       "      <td>1.0</td>\n",
       "      <td>1024397.2</td>\n",
       "      <td>2559700.00</td>\n",
       "      <td>5120629.00</td>\n",
       "      <td>7756637.50</td>\n",
       "      <td>9286506.60</td>\n",
       "      <td>10072269.00</td>\n",
       "    </tr>\n",
       "    <tr>\n",
       "      <th>funny</th>\n",
       "      <td>6564923.0</td>\n",
       "      <td>1.39</td>\n",
       "      <td>48.06</td>\n",
       "      <td>0.0</td>\n",
       "      <td>0.0</td>\n",
       "      <td>0.00</td>\n",
       "      <td>0.00</td>\n",
       "      <td>0.00</td>\n",
       "      <td>0.00</td>\n",
       "      <td>28088.00</td>\n",
       "    </tr>\n",
       "    <tr>\n",
       "      <th>helpful</th>\n",
       "      <td>6564923.0</td>\n",
       "      <td>3.46</td>\n",
       "      <td>58.34</td>\n",
       "      <td>0.0</td>\n",
       "      <td>0.0</td>\n",
       "      <td>0.00</td>\n",
       "      <td>0.00</td>\n",
       "      <td>0.00</td>\n",
       "      <td>3.00</td>\n",
       "      <td>29627.00</td>\n",
       "    </tr>\n",
       "    <tr>\n",
       "      <th>app_id</th>\n",
       "      <td>6564923.0</td>\n",
       "      <td>333103.39</td>\n",
       "      <td>185197.05</td>\n",
       "      <td>70.0</td>\n",
       "      <td>49520.0</td>\n",
       "      <td>238960.00</td>\n",
       "      <td>294100.00</td>\n",
       "      <td>431960.00</td>\n",
       "      <td>594650.00</td>\n",
       "      <td>1032430.00</td>\n",
       "    </tr>\n",
       "    <tr>\n",
       "      <th>positive_ratio</th>\n",
       "      <td>6564923.0</td>\n",
       "      <td>87.83</td>\n",
       "      <td>7.84</td>\n",
       "      <td>44.0</td>\n",
       "      <td>78.0</td>\n",
       "      <td>83.00</td>\n",
       "      <td>88.00</td>\n",
       "      <td>94.00</td>\n",
       "      <td>97.00</td>\n",
       "      <td>98.00</td>\n",
       "    </tr>\n",
       "    <tr>\n",
       "      <th>user_reviews</th>\n",
       "      <td>6564923.0</td>\n",
       "      <td>415855.42</td>\n",
       "      <td>1132509.05</td>\n",
       "      <td>174.0</td>\n",
       "      <td>21086.0</td>\n",
       "      <td>52226.00</td>\n",
       "      <td>105614.00</td>\n",
       "      <td>204840.00</td>\n",
       "      <td>722973.00</td>\n",
       "      <td>6941137.00</td>\n",
       "    </tr>\n",
       "    <tr>\n",
       "      <th>price_final</th>\n",
       "      <td>6564923.0</td>\n",
       "      <td>21.18</td>\n",
       "      <td>15.57</td>\n",
       "      <td>0.0</td>\n",
       "      <td>0.0</td>\n",
       "      <td>9.99</td>\n",
       "      <td>19.99</td>\n",
       "      <td>29.99</td>\n",
       "      <td>39.99</td>\n",
       "      <td>59.99</td>\n",
       "    </tr>\n",
       "    <tr>\n",
       "      <th>price_original</th>\n",
       "      <td>6564923.0</td>\n",
       "      <td>22.42</td>\n",
       "      <td>16.51</td>\n",
       "      <td>0.0</td>\n",
       "      <td>0.0</td>\n",
       "      <td>9.99</td>\n",
       "      <td>19.99</td>\n",
       "      <td>29.99</td>\n",
       "      <td>39.99</td>\n",
       "      <td>109.99</td>\n",
       "    </tr>\n",
       "    <tr>\n",
       "      <th>discount</th>\n",
       "      <td>6564923.0</td>\n",
       "      <td>4.32</td>\n",
       "      <td>17.51</td>\n",
       "      <td>0.0</td>\n",
       "      <td>0.0</td>\n",
       "      <td>0.00</td>\n",
       "      <td>0.00</td>\n",
       "      <td>0.00</td>\n",
       "      <td>0.00</td>\n",
       "      <td>90.00</td>\n",
       "    </tr>\n",
       "    <tr>\n",
       "      <th>english</th>\n",
       "      <td>6564923.0</td>\n",
       "      <td>1.00</td>\n",
       "      <td>0.00</td>\n",
       "      <td>1.0</td>\n",
       "      <td>1.0</td>\n",
       "      <td>1.00</td>\n",
       "      <td>1.00</td>\n",
       "      <td>1.00</td>\n",
       "      <td>1.00</td>\n",
       "      <td>1.00</td>\n",
       "    </tr>\n",
       "    <tr>\n",
       "      <th>required_age</th>\n",
       "      <td>6564923.0</td>\n",
       "      <td>4.37</td>\n",
       "      <td>7.59</td>\n",
       "      <td>0.0</td>\n",
       "      <td>0.0</td>\n",
       "      <td>0.00</td>\n",
       "      <td>0.00</td>\n",
       "      <td>0.00</td>\n",
       "      <td>18.00</td>\n",
       "      <td>18.00</td>\n",
       "    </tr>\n",
       "    <tr>\n",
       "      <th>achievements</th>\n",
       "      <td>6564923.0</td>\n",
       "      <td>78.24</td>\n",
       "      <td>140.19</td>\n",
       "      <td>0.0</td>\n",
       "      <td>0.0</td>\n",
       "      <td>7.00</td>\n",
       "      <td>43.00</td>\n",
       "      <td>88.00</td>\n",
       "      <td>167.00</td>\n",
       "      <td>1130.00</td>\n",
       "    </tr>\n",
       "    <tr>\n",
       "      <th>average_playtime</th>\n",
       "      <td>6564923.0</td>\n",
       "      <td>4590.54</td>\n",
       "      <td>5843.19</td>\n",
       "      <td>0.0</td>\n",
       "      <td>520.0</td>\n",
       "      <td>1084.00</td>\n",
       "      <td>2086.00</td>\n",
       "      <td>5017.00</td>\n",
       "      <td>9837.00</td>\n",
       "      <td>28897.00</td>\n",
       "    </tr>\n",
       "    <tr>\n",
       "      <th>median_playtime</th>\n",
       "      <td>6564923.0</td>\n",
       "      <td>1782.10</td>\n",
       "      <td>1969.72</td>\n",
       "      <td>0.0</td>\n",
       "      <td>166.0</td>\n",
       "      <td>492.00</td>\n",
       "      <td>1147.00</td>\n",
       "      <td>2234.00</td>\n",
       "      <td>4181.00</td>\n",
       "      <td>12434.00</td>\n",
       "    </tr>\n",
       "    <tr>\n",
       "      <th>user_id</th>\n",
       "      <td>6564923.0</td>\n",
       "      <td>3004127.70</td>\n",
       "      <td>1650810.13</td>\n",
       "      <td>0.0</td>\n",
       "      <td>614340.0</td>\n",
       "      <td>1666029.00</td>\n",
       "      <td>3047610.00</td>\n",
       "      <td>4435053.00</td>\n",
       "      <td>5229131.00</td>\n",
       "      <td>5810792.00</td>\n",
       "    </tr>\n",
       "    <tr>\n",
       "      <th>products</th>\n",
       "      <td>6564923.0</td>\n",
       "      <td>190.90</td>\n",
       "      <td>369.01</td>\n",
       "      <td>0.0</td>\n",
       "      <td>13.0</td>\n",
       "      <td>37.00</td>\n",
       "      <td>95.00</td>\n",
       "      <td>216.00</td>\n",
       "      <td>428.00</td>\n",
       "      <td>29308.00</td>\n",
       "    </tr>\n",
       "    <tr>\n",
       "      <th>reviews</th>\n",
       "      <td>6564923.0</td>\n",
       "      <td>3.94</td>\n",
       "      <td>5.72</td>\n",
       "      <td>1.0</td>\n",
       "      <td>1.0</td>\n",
       "      <td>1.00</td>\n",
       "      <td>2.00</td>\n",
       "      <td>4.00</td>\n",
       "      <td>9.00</td>\n",
       "      <td>151.00</td>\n",
       "    </tr>\n",
       "    <tr>\n",
       "      <th>hours</th>\n",
       "      <td>6564923.0</td>\n",
       "      <td>190.43</td>\n",
       "      <td>237.30</td>\n",
       "      <td>0.0</td>\n",
       "      <td>7.6</td>\n",
       "      <td>23.60</td>\n",
       "      <td>83.00</td>\n",
       "      <td>268.90</td>\n",
       "      <td>574.10</td>\n",
       "      <td>999.90</td>\n",
       "    </tr>\n",
       "  </tbody>\n",
       "</table>\n",
       "</div>"
      ],
      "text/plain": [
       "                      count        mean         std    min        10%  \\\n",
       "review_id         6564923.0  5136968.74  2967648.97    1.0  1024397.2   \n",
       "funny             6564923.0        1.39       48.06    0.0        0.0   \n",
       "helpful           6564923.0        3.46       58.34    0.0        0.0   \n",
       "app_id            6564923.0   333103.39   185197.05   70.0    49520.0   \n",
       "positive_ratio    6564923.0       87.83        7.84   44.0       78.0   \n",
       "user_reviews      6564923.0   415855.42  1132509.05  174.0    21086.0   \n",
       "price_final       6564923.0       21.18       15.57    0.0        0.0   \n",
       "price_original    6564923.0       22.42       16.51    0.0        0.0   \n",
       "discount          6564923.0        4.32       17.51    0.0        0.0   \n",
       "english           6564923.0        1.00        0.00    1.0        1.0   \n",
       "required_age      6564923.0        4.37        7.59    0.0        0.0   \n",
       "achievements      6564923.0       78.24      140.19    0.0        0.0   \n",
       "average_playtime  6564923.0     4590.54     5843.19    0.0      520.0   \n",
       "median_playtime   6564923.0     1782.10     1969.72    0.0      166.0   \n",
       "user_id           6564923.0  3004127.70  1650810.13    0.0   614340.0   \n",
       "products          6564923.0      190.90      369.01    0.0       13.0   \n",
       "reviews           6564923.0        3.94        5.72    1.0        1.0   \n",
       "hours             6564923.0      190.43      237.30    0.0        7.6   \n",
       "\n",
       "                         25%         50%         75%         90%          max  \n",
       "review_id         2559700.00  5120629.00  7756637.50  9286506.60  10072269.00  \n",
       "funny                   0.00        0.00        0.00        0.00     28088.00  \n",
       "helpful                 0.00        0.00        0.00        3.00     29627.00  \n",
       "app_id             238960.00   294100.00   431960.00   594650.00   1032430.00  \n",
       "positive_ratio         83.00       88.00       94.00       97.00        98.00  \n",
       "user_reviews        52226.00   105614.00   204840.00   722973.00   6941137.00  \n",
       "price_final             9.99       19.99       29.99       39.99        59.99  \n",
       "price_original          9.99       19.99       29.99       39.99       109.99  \n",
       "discount                0.00        0.00        0.00        0.00        90.00  \n",
       "english                 1.00        1.00        1.00        1.00         1.00  \n",
       "required_age            0.00        0.00        0.00       18.00        18.00  \n",
       "achievements            7.00       43.00       88.00      167.00      1130.00  \n",
       "average_playtime     1084.00     2086.00     5017.00     9837.00     28897.00  \n",
       "median_playtime       492.00     1147.00     2234.00     4181.00     12434.00  \n",
       "user_id           1666029.00  3047610.00  4435053.00  5229131.00   5810792.00  \n",
       "products               37.00       95.00      216.00      428.00     29308.00  \n",
       "reviews                 1.00        2.00        4.00        9.00       151.00  \n",
       "hours                  23.60       83.00      268.90      574.10       999.90  "
      ]
     },
     "execution_count": 45,
     "metadata": {},
     "output_type": "execute_result"
    }
   ],
   "source": [
    "# General DataFrame Description\n",
    "final_df.describe(percentiles=[.1, .25, .5, .75, .9]).round(2).T"
   ]
  },
  {
   "cell_type": "code",
   "execution_count": 46,
   "id": "2b436473-b285-483c-baaf-0c37a5510f16",
   "metadata": {},
   "outputs": [
    {
     "data": {
      "text/plain": [
       "review_id             int64\n",
       "y                      bool\n",
       "date                 object\n",
       "funny                 int64\n",
       "helpful               int64\n",
       "app_id                int64\n",
       "title                object\n",
       "date_release         object\n",
       "rating               object\n",
       "positive_ratio        int64\n",
       "user_reviews          int64\n",
       "win                    bool\n",
       "mac                    bool\n",
       "linux                  bool\n",
       "price_final         float64\n",
       "price_original      float64\n",
       "discount            float64\n",
       "description          object\n",
       "tags                 object\n",
       "english               int64\n",
       "developer            object\n",
       "publisher            object\n",
       "required_age          int64\n",
       "genres               object\n",
       "steamspy_tags        object\n",
       "achievements          int64\n",
       "average_playtime      int64\n",
       "median_playtime       int64\n",
       "owners               object\n",
       "steam_deck             bool\n",
       "user_id               int64\n",
       "products              int64\n",
       "reviews               int64\n",
       "hours               float64\n",
       "dtype: object"
      ]
     },
     "execution_count": 46,
     "metadata": {},
     "output_type": "execute_result"
    }
   ],
   "source": [
    "final_df.dtypes"
   ]
  },
  {
   "cell_type": "markdown",
   "id": "60938402-f4da-4a24-b93f-49f6a33074ee",
   "metadata": {},
   "source": [
    "#### Target Variable Exploration\n",
    "\n",
    "First we explore the distribution of our target variable _y_, which is a column of booleans which signal whether a given user would recommend a given game or not.\n",
    "\n",
    "In creating a countplot, we find that the dataset is rather unbalanced. Only 14.12% of observations is negative, while the remaining 85.88% is positive. This will certainly be kept in consideration when training our model, as the unbalance must be offset. With a quick calculation, we find that the ratio of positives to negatives is 6.08 approximately."
   ]
  },
  {
   "cell_type": "code",
   "execution_count": 47,
   "id": "29cfd9f5-2745-4f1f-a11f-5df75e9a7500",
   "metadata": {},
   "outputs": [
    {
     "data": {
      "text/plain": [
       "<Figure size 1000x500 with 0 Axes>"
      ]
     },
     "metadata": {},
     "output_type": "display_data"
    },
    {
     "data": {
      "image/png": "[encoded data removed]",
      "text/plain": [
       "<Figure size 640x480 with 2 Axes>"
      ]
     },
     "metadata": {},
     "output_type": "display_data"
    }
   ],
   "source": [
    "# Plotting the frequency distribution of number of recommendations\n",
    "plt.figure(figsize=(10, 5))\n",
    "plt.figure(dpi=100)\n",
    "\n",
    "ax = sns.countplot(x='y', data=final_df)\n",
    "\n",
    "plt.title('Frequency Distribution of Recommendations')\n",
    "plt.xlabel('Is the game recommended?')\n",
    "plt.ylabel('Observation Count')\n",
    "\n",
    "# Calculate percentage of each category\n",
    "percentages = final_df['y'].value_counts(normalize=True) * 100\n",
    "\n",
    "# Annotate the bars with counts and percentages\n",
    "for p in ax.patches:\n",
    "    count = int(p.get_height())\n",
    "    percentage = percentages.sort_values()[int(p.get_x() + p.get_x())]\n",
    "    ax.annotate(f'{count}\\n({percentage:.2f}%)', \n",
    "                (p.get_x() + p.get_width() / 2., p.get_height() / 2),\n",
    "                ha='center', va='center', fontsize=12, color='black')\n",
    "\n",
    "# Add percentage axis\n",
    "ax2 = ax.twinx()\n",
    "ax2.set_ylim(0, 100)\n",
    "ax2.set_ylabel('Percentage of Observations')\n",
    "ax2.yaxis.set_major_formatter(mtick.PercentFormatter())\n",
    "\n",
    "plt.show()"
   ]
  },
  {
   "cell_type": "code",
   "execution_count": 48,
   "id": "75d11377-148d-4bcf-b4a0-a0bcc89184ab",
   "metadata": {},
   "outputs": [
    {
     "name": "stdout",
     "output_type": "stream",
     "text": [
      "The \u001b[1mratio of positive to negative recommendations\u001b[0m is 6.084492603012321\n"
     ]
    }
   ],
   "source": [
    "print(\"The \\033[1mratio of positive to negative recommendations\\033[0m is\", \n",
    "     final_df['y'].value_counts()[0] / final_df['y'].value_counts()[1])"
   ]
  },
  {
   "cell_type": "markdown",
   "id": "284fdc38-89f8-491e-a56e-50ca42063e50",
   "metadata": {},
   "source": [
    "#### Steam Rating Exploration\n",
    "\n",
    "Reamining within the realm of ratings, we explore the distribution of the Steam rating system through a frequency table. Very interestingly, we observe that many of the rating categories are not in fact present in our data. It would seem that there are no games with overall negative reviews, while most games either have a _Very Positive_ or _Overwhelmingly Positive_ rating (appr. 86.24%). All in all, this is in line with the previous observation concerning the unbalanced dataset. \n",
    "\n",
    "Another noteworthy aspect of the dataset is that there are no _Positive_ reviews. The remaining 13.76% is split between _Mostly Positive_ and _Mixed_, with the former counting more observation than the latter. It is worth remembering that the Steam rating system assigns the _Positive_ rating to games that seem to have good ratings, but a review count which is not high enough to really \"consacrate\" its status as a very positively (or overwhlemingly positively) rated game. This perhaps informs us on the type of game which tends to be included in these datasets, focusing on larger more \"mainstream\" products rather than smaller lesser-known ones."
   ]
  },
  {
   "cell_type": "code",
   "execution_count": 49,
   "id": "7339f770-b75d-4df8-b82a-48a22f873eef",
   "metadata": {},
   "outputs": [
    {
     "data": {
      "text/html": [
       "<div>\n",
       "<style scoped>\n",
       "    .dataframe tbody tr th:only-of-type {\n",
       "        vertical-align: middle;\n",
       "    }\n",
       "\n",
       "    .dataframe tbody tr th {\n",
       "        vertical-align: top;\n",
       "    }\n",
       "\n",
       "    .dataframe thead th {\n",
       "        text-align: right;\n",
       "    }\n",
       "</style>\n",
       "<table border=\"1\" class=\"dataframe\">\n",
       "  <thead>\n",
       "    <tr style=\"text-align: right;\">\n",
       "      <th></th>\n",
       "      <th>Observation Count</th>\n",
       "      <th>Percentage of Observations</th>\n",
       "    </tr>\n",
       "  </thead>\n",
       "  <tbody>\n",
       "    <tr>\n",
       "      <th>Overwhelmingly Positive</th>\n",
       "      <td>1559085</td>\n",
       "      <td>23.75%</td>\n",
       "    </tr>\n",
       "    <tr>\n",
       "      <th>Very Positive</th>\n",
       "      <td>4102406</td>\n",
       "      <td>62.49%</td>\n",
       "    </tr>\n",
       "    <tr>\n",
       "      <th>Positive</th>\n",
       "      <td>0</td>\n",
       "      <td>0.00%</td>\n",
       "    </tr>\n",
       "    <tr>\n",
       "      <th>Mostly Positive</th>\n",
       "      <td>751426</td>\n",
       "      <td>11.45%</td>\n",
       "    </tr>\n",
       "    <tr>\n",
       "      <th>Mixed</th>\n",
       "      <td>152006</td>\n",
       "      <td>2.32%</td>\n",
       "    </tr>\n",
       "    <tr>\n",
       "      <th>Mostly Negative</th>\n",
       "      <td>0</td>\n",
       "      <td>0.00%</td>\n",
       "    </tr>\n",
       "    <tr>\n",
       "      <th>Negative</th>\n",
       "      <td>0</td>\n",
       "      <td>0.00%</td>\n",
       "    </tr>\n",
       "    <tr>\n",
       "      <th>Very Negative</th>\n",
       "      <td>0</td>\n",
       "      <td>0.00%</td>\n",
       "    </tr>\n",
       "    <tr>\n",
       "      <th>Overwhelmingly Negative</th>\n",
       "      <td>0</td>\n",
       "      <td>0.00%</td>\n",
       "    </tr>\n",
       "  </tbody>\n",
       "</table>\n",
       "</div>"
      ],
      "text/plain": [
       "                         Observation Count Percentage of Observations\n",
       "Overwhelmingly Positive            1559085                     23.75%\n",
       "Very Positive                      4102406                     62.49%\n",
       "Positive                                 0                      0.00%\n",
       "Mostly Positive                     751426                     11.45%\n",
       "Mixed                               152006                      2.32%\n",
       "Mostly Negative                          0                      0.00%\n",
       "Negative                                 0                      0.00%\n",
       "Very Negative                            0                      0.00%\n",
       "Overwhelmingly Negative                  0                      0.00%"
      ]
     },
     "metadata": {},
     "output_type": "display_data"
    }
   ],
   "source": [
    "# Create a frequency table\n",
    "rating_counts = pd.DataFrame(final_df['rating'].value_counts())\n",
    "\n",
    "# Rename the columns\n",
    "rating_counts.columns = ['Observation Count']\n",
    "\n",
    "# Sort the rows based on the order of rating categories\n",
    "rating_order = [\"Overwhelmingly Positive\", \"Very Positive\", \"Positive\", \n",
    "                \"Mostly Positive\", \"Mixed\", \"Mostly Negative\", \n",
    "                \"Negative\", \"Very Negative\", \"Overwhelmingly Negative\"]\n",
    "\n",
    "rating_counts = rating_counts.reindex(rating_order)\n",
    "\n",
    "# Fill NaN with 0\n",
    "rating_counts.fillna(0, inplace = True)\n",
    "\n",
    "# Add a column for percentage of observations\n",
    "rating_counts['Percentage of Observations'] = rating_counts['Observation Count'] / len(final_df) * 100\n",
    "\n",
    "# Format the percentage column\n",
    "rating_counts['Percentage of Observations'] = rating_counts['Percentage of Observations'].map('{:.2f}%'.format)\n",
    "\n",
    "# Turn to Integer\n",
    "rating_counts[\"Observation Count\"] = [int(i) for i in rating_counts[\"Observation Count\"]]\n",
    "\n",
    "display(rating_counts)"
   ]
  },
  {
   "cell_type": "markdown",
   "id": "23d7dda3-02eb-4ec4-b4ec-941ae2011870",
   "metadata": {},
   "source": [
    "#### Owners Exploration\n",
    "\n",
    "AAAAA"
   ]
  },
  {
   "cell_type": "code",
   "execution_count": 51,
   "id": "297d977d-541b-4aa3-96f3-cd3568c7737e",
   "metadata": {},
   "outputs": [
    {
     "data": {
      "text/plain": [
       "<Figure size 1000x500 with 0 Axes>"
      ]
     },
     "metadata": {},
     "output_type": "display_data"
    },
    {
     "data": {
      "image/png": "[encoded data removed]",
      "text/plain": [
       "<Figure size 640x480 with 1 Axes>"
      ]
     },
     "metadata": {},
     "output_type": "display_data"
    }
   ],
   "source": [
    "# Create Order\n",
    "order_list = [\"0-20\", \"20-50\", \"50-100\", \"100-200\", \"200-500\", \n",
    "              \"500-1000\", \"1000-2000\", \"2000-5000\", \"5000-10000\", \n",
    "              \"10000-20000\", \"20000-50000\", \"50000-100000\", \"100000-200000\"]\n",
    "\n",
    "# Plotting the frequency distribution of number of recommendations\n",
    "sns.set_theme()\n",
    "plt.figure(figsize=(10, 5))\n",
    "plt.figure(dpi=100)\n",
    "plt.xticks(rotation=90)\n",
    "\n",
    "ax = sns.countplot(x='owners', data=final_df,\n",
    "                  order = order_list)"
   ]
  },
  {
   "cell_type": "markdown",
   "id": "2954737f-2a84-4074-a28e-5965d89c9454",
   "metadata": {},
   "source": [
    "**Correlation Matrix**"
   ]
  },
  {
   "cell_type": "code",
   "execution_count": 35,
   "id": "bbb2d4b2-e700-4369-94b9-bcfdfe30c903",
   "metadata": {},
   "outputs": [
    {
     "name": "stderr",
     "output_type": "stream",
     "text": [
      "/var/folders/gs/xnyw__p94xl1dp76b2zhm0yw0000gn/T/ipykernel_57300/343985717.py:19: SettingWithCopyWarning: \n",
      "A value is trying to be set on a copy of a slice from a DataFrame.\n",
      "Try using .loc[row_indexer,col_indexer] = value instead\n",
      "\n",
      "See the caveats in the documentation: https://pandas.pydata.org/pandas-docs/stable/user_guide/indexing.html#returning-a-view-versus-a-copy\n",
      "  df_analyze['rating'] = df_analyze['rating'].map(rating_map)\n",
      "/var/folders/gs/xnyw__p94xl1dp76b2zhm0yw0000gn/T/ipykernel_57300/343985717.py:22: SettingWithCopyWarning: \n",
      "A value is trying to be set on a copy of a slice from a DataFrame.\n",
      "Try using .loc[row_indexer,col_indexer] = value instead\n",
      "\n",
      "See the caveats in the documentation: https://pandas.pydata.org/pandas-docs/stable/user_guide/indexing.html#returning-a-view-versus-a-copy\n",
      "  df_analyze['y'] = df_analyze['y'].map({True: 1, False: 0})\n"
     ]
    },
    {
     "data": {
      "image/png": "[encoded data removed]",
      "text/plain": [
       "<Figure size 720x576 with 2 Axes>"
      ]
     },
     "metadata": {},
     "output_type": "display_data"
    }
   ],
   "source": [
    "# correlations between different variables, such as price and rating, user reviews and helpful votes, or hours played and recommendation status.\n",
    "\n",
    "df_analyze = final_df[['price_final', 'rating', 'user_reviews', 'helpful', 'hours', 'y']]\n",
    "\n",
    "# Convert rating column to numerical values\n",
    "rating_map = {'Overwhelmingly Positive': 5,\n",
    "            'Very Positive': 4,\n",
    "            'Mostly Positive': 3,\n",
    "            'Mixed': 2,\n",
    "            'Mostly Negative': 1,\n",
    "            'Very Negative': 0}\n",
    "\n",
    "df_analyze['rating'] = df_analyze['rating'].map(rating_map)\n",
    "\n",
    "# Convert is_recommended column to binary values\n",
    "df_analyze['y'] = df_analyze['y'].map({True: 1, False: 0})\n",
    "\n",
    "# Calculate the correlation matrix\n",
    "corr_matrix = df_analyze.corr()\n",
    "\n",
    "# Setting seaborn style\n",
    "sns.set(style=\"white\")\n",
    "\n",
    "# Generate a mask for the upper triangle\n",
    "mask = np.triu(np.ones_like(corr_matrix, dtype=bool))\n",
    "\n",
    "f, ax = plt.subplots(figsize=(10, 8))\n",
    "\n",
    "\n",
    "cmap = sns.diverging_palette(230, 20, as_cmap=True)\n",
    "\n",
    "sns.heatmap(corr_matrix, mask=mask, cmap=cmap, vmax=1, vmin=-1, center=0, square=True, linewidths=.5, cbar_kws={\"shrink\": .5}, annot=True, fmt=\".2f\")\n",
    "plt.title('Correlation Heatmap')\n",
    "plt.show()\n"
   ]
  },
  {
   "cell_type": "markdown",
   "id": "a860f560-5516-4c1b-9544-2809642cd0c7",
   "metadata": {},
   "source": [
    "As expected, be observe the strongest positive correlations between y (recommendation status) and rating and user_reviews and hours. Hours and y (recommendation status) are also slightly correlated.\n",
    "The final price seems to have a negative influence on user_reviews and the rating."
   ]
  },
  {
   "cell_type": "markdown",
   "id": "61f5b41d-c7f6-46d7-bd02-edbd6f85fb4a",
   "metadata": {},
   "source": [
    "**Frequency Distribution of Final Prices**"
   ]
  },
  {
   "cell_type": "code",
   "execution_count": 84,
   "id": "c9a99648-2ef4-4083-a3a9-f99c3402108b",
   "metadata": {},
   "outputs": [
    {
     "data": {
      "text/plain": [
       "<Figure size 720x360 with 0 Axes>"
      ]
     },
     "metadata": {},
     "output_type": "display_data"
    },
    {
     "data": {
      "image/png": "[encoded data removed]",
      "text/plain": [
       "<Figure size 600x400 with 1 Axes>"
      ]
     },
     "metadata": {},
     "output_type": "display_data"
    }
   ],
   "source": [
    "# frequency distribution of final prices\n",
    "\n",
    "plt.figure(figsize=(10, 5))\n",
    "plt.figure(dpi=100)\n",
    "plt.hist(final_df['price_final'], bins=25, edgecolor='black', range=(0, 100))\n",
    "plt.title('Frequency Distribution of Final Prices')\n",
    "plt.xlabel('Price')\n",
    "plt.ylabel('Frequency')\n",
    "plt.xlim(0, 100)\n",
    "plt.show()"
   ]
  },
  {
   "cell_type": "markdown",
   "id": "3dded9f3-3282-470e-82f9-0886b2ad5d47",
   "metadata": {},
   "source": [
    "**Boxplot of Final Prices**"
   ]
  },
  {
   "cell_type": "code",
   "execution_count": 85,
   "id": "84e8f6bd-7430-422d-a6f5-0a40eef2b9e0",
   "metadata": {},
   "outputs": [
    {
     "data": {
      "image/png": "[encoded data removed]",
      "text/plain": [
       "<Figure size 432x288 with 1 Axes>"
      ]
     },
     "metadata": {},
     "output_type": "display_data"
    }
   ],
   "source": [
    "# boxplot of final price\n",
    "\n",
    "ax = final_df.boxplot('price_final')\n",
    "\n",
    "ax.set_ylabel('Price')\n",
    "ax.set_title('Box plot of game prices')\n",
    "\n",
    "stats = final_df['price_final'].describe()\n",
    "mean = final_df['price_final'].mean()\n",
    "std_dev = final_df['price_final'].std()\n",
    "\n",
    "# calculate outliers\n",
    "q1 = stats['25%']\n",
    "q3 = stats['75%']\n",
    "iqr = q3 - q1\n",
    "lower_bound = q1 - (1.5 * iqr)\n",
    "upper_bound = q3 + (1.5 * iqr)\n",
    "\n",
    "outliers = final_df[(final_df['price_final'] < lower_bound) | (final_df['price_final'] > upper_bound)]['price_final']\n",
    "num_outliers = outliers.count()\n",
    "\n",
    "# add statistics to the plot\n",
    "ax.text(0.7, 0.85, f\"Mean: {mean:.2f}\\nStd Dev: {std_dev:.2f}\\nMedian: {stats['50%']:.2f}\\nQ1: {stats['25%']:.2f}\\nQ3: {stats['75%']:.2f}\\nOutliers: {num_outliers}\",\n",
    "        transform=ax.transAxes, bbox=dict(facecolor='white', edgecolor='black', alpha=0.9))\n",
    "\n",
    "\n",
    "plt.show()\n"
   ]
  },
  {
   "cell_type": "markdown",
   "id": "fbdb9208-427e-41b2-8b3a-ed7755e1bfd8",
   "metadata": {},
   "source": [
    "**Frequency Distribution of Rating**"
   ]
  },
  {
   "cell_type": "code",
   "execution_count": 37,
   "id": "9f723eb4-e90a-480b-bdfb-9426208b1a04",
   "metadata": {},
   "outputs": [
    {
     "data": {
      "image/png": "[encoded data removed]",
      "text/plain": [
       "<Figure size 1008x432 with 1 Axes>"
      ]
     },
     "metadata": {},
     "output_type": "display_data"
    }
   ],
   "source": [
    "# Plotting the frequency distribution of rating\n",
    "\n",
    "plt.figure(figsize=(14, 6))\n",
    "ax = sns.countplot(x='rating', data=final_df)\n",
    "\n",
    "plt.title('Frequency Distribution of Ratings')\n",
    "plt.xlabel('Rating')\n",
    "plt.ylabel('Frequency')\n",
    "\n",
    "# Annotate bars with counts\n",
    "for p in ax.patches:\n",
    "    ax.annotate(f'{p.get_height()}', (p.get_x() + p.get_width() / 2., p.get_height()), ha='center', va='baseline')\n",
    "\n",
    "plt.show()"
   ]
  },
  {
   "cell_type": "markdown",
   "id": "a04b4d6e-d682-41ef-ba9d-90d9a67ca5a7",
   "metadata": {},
   "source": [
    "**Compatibility of Windows, Mac and Linux**"
   ]
  },
  {
   "cell_type": "code",
   "execution_count": 39,
   "id": "82756df2-8e51-47d1-8386-4e171bb0ecac",
   "metadata": {},
   "outputs": [
    {
     "data": {
      "image/png": "[encoded data removed]",
      "text/plain": [
       "<Figure size 720x360 with 1 Axes>"
      ]
     },
     "metadata": {},
     "output_type": "display_data"
    }
   ],
   "source": [
    "# compatibility with different platforms\n",
    "\n",
    "# Calculating the number of games compatible with each platform\n",
    "platform_counts = final_df[['win', 'mac', 'linux']].sum().reset_index()\n",
    "platform_counts.columns = ['Platform', 'Count']\n",
    "\n",
    "plt.figure(figsize=(10, 5))\n",
    "\n",
    "ax = sns.barplot(x='Platform', y='Count', data=platform_counts)\n",
    "\n",
    "plt.title('Number of Games Compatible with Different Platforms')\n",
    "plt.xlabel('Platform')\n",
    "plt.ylabel('Number of Games')\n",
    "\n",
    "for p in ax.patches:\n",
    "    ax.annotate(f'{p.get_height()}', (p.get_x() + p.get_width() / 2., p.get_height()), ha='center', va='baseline')\n",
    "\n",
    "plt.show()"
   ]
  },
  {
   "cell_type": "code",
   "execution_count": 40,
   "id": "c3202525-d5cf-488d-8a27-3347d15db7db",
   "metadata": {},
   "outputs": [
    {
     "name": "stdout",
     "output_type": "stream",
     "text": [
      "Number of games supporting only Windows: 2079743\n",
      "Number of games supporting Windows and Mac: 769615\n",
      "Number of games supporting Windows and Linux: 72011\n",
      "Number of games supporting Windows, Mac, and Linux: 1006153\n",
      "Number of games supporting only Mac: 0\n",
      "Number of games supporting only Linux: 0\n"
     ]
    }
   ],
   "source": [
    "# Calculate the number of games supporting each combination of platforms (windows, mac, linux)\n",
    "\n",
    "win_only = ((final_df['win'] == True) & (final_df['mac'] == False) & (final_df['linux'] == False)).sum()\n",
    "win_mac = ((final_df['win'] == True) & (final_df['mac'] == True) & (final_df['linux'] == False)).sum()\n",
    "win_linux = ((final_df['win'] == True) & (final_df['mac'] == False) & (final_df['linux'] == True)).sum()\n",
    "win_mac_linux = ((final_df['win'] == True) & (final_df['mac'] == True) & (final_df['linux'] == True)).sum()\n",
    "mac_only = ((final_df['win'] == False) & (final_df['mac'] == True) & (final_df['linux'] == False)).sum()\n",
    "linux_only = ((final_df['win'] == False) & (final_df['mac'] == False) & (final_df['linux'] == True)).sum()\n",
    "\n",
    "print(f\"Number of games supporting only Windows: {win_only}\")\n",
    "print(f\"Number of games supporting Windows and Mac: {win_mac}\")\n",
    "print(f\"Number of games supporting Windows and Linux: {win_linux}\")\n",
    "print(f\"Number of games supporting Windows, Mac, and Linux: {win_mac_linux}\")\n",
    "print(f\"Number of games supporting only Mac: {mac_only}\")\n",
    "print(f\"Number of games supporting only Linux: {linux_only}\")"
   ]
  },
  {
   "cell_type": "code",
   "execution_count": 41,
   "id": "3e7dbeb9-6685-4bc3-b498-f8e962abab3a",
   "metadata": {},
   "outputs": [
    {
     "data": {
      "image/png": "[encoded data removed]",
      "text/plain": [
       "<Figure size 432x288 with 1 Axes>"
      ]
     },
     "metadata": {},
     "output_type": "display_data"
    }
   ],
   "source": [
    "# Platform combinations and their counts\n",
    "\n",
    "platform_combinations = {\n",
    "    \"Windows Only\": win_only,\n",
    "    \"Windows & Mac\": win_mac,\n",
    "    \"Windows & Linux\": win_linux,\n",
    "    \"Windows, Mac & Linux\": win_mac_linux,\n",
    "    \"Mac Only\": mac_only,\n",
    "    \"Linux Only\": linux_only,\n",
    "}\n",
    "\n",
    "fig, ax = plt.subplots()\n",
    "ax.bar(platform_combinations.keys(), platform_combinations.values())\n",
    "\n",
    "# Add the counts above the bars\n",
    "for i, (combination, count) in enumerate(platform_combinations.items()):\n",
    "    ax.text(i, count + 10, f\"{count}\", ha='center', va='bottom')\n",
    "\n",
    "ax.set_title(\"Number of Games Supporting Platform Combinations\")\n",
    "ax.set_xlabel(\"Platform Combinations\")\n",
    "ax.set_ylabel(\"Number of Games\")\n",
    "\n",
    "plt.xticks(rotation=45, ha='right')\n",
    "plt.tight_layout()\n",
    "plt.show()"
   ]
  },
  {
   "cell_type": "markdown",
   "id": "f85b4558-ab96-4f70-bd20-fba2156cd420",
   "metadata": {},
   "source": [
    "Windows definitly dominates, when it comes to the number of games it supports. Most developers only develop for windows. However, there are still many games which run on windows, mac and linux. These results tell us that we should consider a users operating system, when recommending a game based on a user_id."
   ]
  },
  {
   "cell_type": "markdown",
   "id": "31614b29-f41f-412b-9fc6-9cdda67a7bde",
   "metadata": {},
   "source": [
    "**Most popular Tags and Genres**"
   ]
  },
  {
   "cell_type": "code",
   "execution_count": 42,
   "id": "9d82456d-9f16-40f8-856d-544abcd8743f",
   "metadata": {},
   "outputs": [
    {
     "name": "stdout",
     "output_type": "stream",
     "text": [
      "Most common steamspy_tags:\n",
      " Multiplayer     1306846\n",
      "Open World       975555\n",
      "Survival         709232\n",
      "Free to Play     528619\n",
      "Simulation       485486\n",
      "Early Access     434366\n",
      "Action           410372\n",
      "RPG              406981\n",
      "FPS              373718\n",
      "Strategy         356269\n",
      "dtype: int64\n",
      "\n",
      "Most common genres:\n",
      " Action                   2317164\n",
      "Adventure                1352712\n",
      "Indie                    1274129\n",
      "Simulation               1245893\n",
      "RPG                      1180447\n",
      "Massively Multiplayer     871115\n",
      "Strategy                  813447\n",
      "Free to Play              701041\n",
      "Early Access              434366\n",
      "Sports                    182598\n",
      "dtype: int64\n",
      "\n",
      "Popularity, sales metrics, and price_final by steamspy_tags:\n",
      "                average_playtime  reviews  price_final\n",
      "steamspy_tags                                        \n",
      "Multiplayer        10551.283588  2211400    18.785185\n",
      "Open World          5465.449322  1658514    24.866857\n",
      "Survival            7628.942128  1200746    28.686975\n",
      "Free to Play        5359.802580   897331     0.000000\n",
      "Simulation          6199.955521   823192    24.953985\n",
      "Early Access        1414.429474   737693    19.761457\n",
      "Action              5566.434730   696410    12.300642\n",
      "RPG                 7283.536539   691082    31.232606\n",
      "FPS                13021.492751   633244    20.209946\n",
      "Strategy            9503.558362   607860    24.254588\n",
      "\n",
      "Popularity, sales metrics, and price_final by genres:\n",
      "                        average_playtime  reviews  price_final\n",
      "genres                                                       \n",
      "Action                      8113.641775  3930548    21.239997\n",
      "Adventure                   6373.615942  2296000    24.792933\n",
      "Indie                       4466.312910  2161986    21.788579\n",
      "Simulation                  5403.588495  2117851    23.083389\n",
      "RPG                         7074.199678  2000496    24.123822\n",
      "Massively Multiplayer       9475.730844  1473215    19.290257\n",
      "Strategy                    8761.753417  1384993    27.757575\n",
      "Free to Play                9573.982047  1188645     3.686811\n",
      "Early Access                1414.429474   737693    19.761457\n",
      "Sports                      1645.398334   309173     7.077250\n"
     ]
    }
   ],
   "source": [
    "# Read the data\n",
    "final_df = pd.read_csv(\"data/final_df.csv\")\n",
    "\n",
    "# Split and count steamspy_tags and genres\n",
    "steamspy_tags = final_df['steamspy_tags'].str.split(';', expand=True).stack().value_counts()\n",
    "genres = final_df['genres'].str.split(';', expand=True).stack().value_counts()\n",
    "\n",
    "# Print the most common steamspy_tags and genres\n",
    "print(\"Most common steamspy_tags:\\n\", steamspy_tags.head(10))\n",
    "print(\"\\nMost common genres:\\n\", genres.head(10))\n",
    "\n",
    "# Combine the split steamspy_tags and genres back into the DataFrame\n",
    "final_df['steamspy_tags'] = final_df['steamspy_tags'].str.split(';')\n",
    "final_df['genres'] = final_df['genres'].str.split(';')\n",
    "\n",
    "# Calculate game popularity metrics, sales, and price_final\n",
    "final_df['average_playtime'] = final_df['average_playtime'].astype(float)\n",
    "final_df['reviews'] = final_df['reviews'].astype(int)\n",
    "final_df['price_final'] = final_df['price_final'].astype(float)\n",
    "\n",
    "# Group by steamspy_tags and genres, and calculate the average popularity, sales metrics, and price_final\n",
    "tags_popularity = final_df.explode('steamspy_tags').groupby('steamspy_tags').agg({\n",
    "    'average_playtime': 'mean',\n",
    "    'reviews': 'sum',\n",
    "    'price_final': 'mean'\n",
    "}).sort_values('reviews', ascending=False)\n",
    "\n",
    "genres_popularity = final_df.explode('genres').groupby('genres').agg({\n",
    "    'average_playtime': 'mean',\n",
    "    'reviews': 'sum',\n",
    "    'price_final': 'mean'\n",
    "}).sort_values('reviews', ascending=False)\n",
    "\n",
    "# Print the popularity, sales metrics, and price_final for the most common steamspy_tags and genres\n",
    "print(\"\\nPopularity, sales metrics, and price_final by steamspy_tags:\\n\", tags_popularity.head(10))\n",
    "print(\"\\nPopularity, sales metrics, and price_final by genres:\\n\", genres_popularity.head(10))\n"
   ]
  },
  {
   "cell_type": "markdown",
   "id": "6f680a8f-0bab-432f-8352-97b724c9e351",
   "metadata": {},
   "source": [
    "Games with the tags \"multiplayer\", \"open world\", \"survival\", \"free to play\" and \"simulation\" are the most popular ones based on the number of tags. \n",
    "\n",
    "The most popular genres are \"action\", \"adventure\", \" indie\", \"simulation\" and \"RPG\".\n",
    "\n",
    "The tags \"FPS\" and \"multiplayer\" lead to the longest average playtime. \n",
    "Games with the tags \"mulitplayer\" and \"open world\" have the most reviews. \n",
    "Games with the tags \"RPG\" and \"Survial\" have the higest final price.\n",
    "\n",
    "Among genres, \"free to play\" has the highest average playtime. \"Action\" has the most reviews and \"strategy\" the highest final price."
   ]
  },
  {
   "cell_type": "markdown",
   "id": "08814b95-2005-4c07-9be3-0878c779707e",
   "metadata": {},
   "source": [
    "**Trends in game releases, user reviews, and ratings over time**"
   ]
  },
  {
   "cell_type": "code",
   "execution_count": 10,
   "id": "f37a004d-58cf-4524-90bc-a01a8abca02f",
   "metadata": {},
   "outputs": [
    {
     "data": {
      "image/png": "[encoded data removed]",
      "text/plain": [
       "<Figure size 640x480 with 2 Axes>"
      ]
     },
     "metadata": {},
     "output_type": "display_data"
    },
    {
     "data": {
      "image/png": "[encoded data removed]",
      "text/plain": [
       "<Figure size 640x480 with 1 Axes>"
      ]
     },
     "metadata": {},
     "output_type": "display_data"
    }
   ],
   "source": [
    "# Trends in game releases, user reviews, and ratings over time\n",
    "\n",
    "final_df['date_release'] = pd.to_datetime(final_df['date_release'])\n",
    "final_df['date'] = pd.to_datetime(final_df['date'])\n",
    "\n",
    "game_releases_by_year = final_df.groupby(final_df['date_release'].dt.year).size()\n",
    "user_reviews_by_year = final_df.groupby(final_df['date'].dt.year)['user_reviews'].sum()\n",
    "avg_ratings_by_year = final_df.groupby(final_df['date'].dt.year)['positive_ratio'].mean()\n",
    "\n",
    "import matplotlib.pyplot as plt\n",
    "\n",
    "fig, ax1 = plt.subplots()\n",
    "\n",
    "ax1.set_xlabel('Year')\n",
    "ax1.set_ylabel('Game Releases', color='tab:blue')\n",
    "ax1.plot(game_releases_by_year.index, game_releases_by_year, color='tab:blue')\n",
    "ax1.tick_params(axis='y', labelcolor='tab:blue')\n",
    "\n",
    "ax2 = ax1.twinx()\n",
    "ax2.set_ylabel('User Reviews', color='tab:red')\n",
    "ax2.plot(user_reviews_by_year.index, user_reviews_by_year, color='tab:red')\n",
    "ax2.tick_params(axis='y', labelcolor='tab:red')\n",
    "\n",
    "fig.tight_layout()\n",
    "plt.title('Game Releases and User Reviews Over Time')\n",
    "plt.show()\n",
    "\n",
    "plt.plot(avg_ratings_by_year.index, avg_ratings_by_year)\n",
    "plt.xlabel('Year')\n",
    "plt.ylabel('Average Ratings')\n",
    "plt.title('Average Ratings Over Time')\n",
    "plt.show()"
   ]
  },
  {
   "cell_type": "markdown",
   "id": "2ee96e42-b9b8-4917-a667-b547ea16740b",
   "metadata": {},
   "source": [
    "On average, the number of game releases has increased from 2006 to 2022. There where several drop in 2013, 2018 and 2020. The last drop is most likely due to the Covid-19 pandemic. User started reviewing games since 2010. The number of reviews has strongly increased since then.\n",
    "\n",
    "The average ratings over time have decreased from 93 in the year 2010 to 84 in 2018. Later it increased again to a rating of 84 in the year 2022. This could potentially indicate that the quality in games has also decreased and user are less satisfied with their games."
   ]
  },
  {
   "cell_type": "markdown",
   "id": "049ce052-6a3f-47b8-9a09-6a6ab0552e39",
   "metadata": {},
   "source": [
    "## Feature Engineering"
   ]
  },
  {
   "cell_type": "code",
   "execution_count": 20,
   "id": "15ffcbf9-058c-4124-97df-1272d44d7de1",
   "metadata": {},
   "outputs": [],
   "source": [
    "def extra_features(X, add_elapsed = True):\n",
    "    \n",
    "    if add_elapsed:\n",
    "        elapsed_time = X[\"date\"] - X[\"date_release\"]"
   ]
  },
  {
   "cell_type": "markdown",
   "id": "348b6d25-84c9-497b-b3b6-061c8c65fd28",
   "metadata": {},
   "source": [
    "### Creating New Features"
   ]
  },
  {
   "cell_type": "markdown",
   "id": "13a4b7c4-716c-44ee-82d1-24263c0fac3b",
   "metadata": {},
   "source": [
    "**Rec System Input**"
   ]
  },
  {
   "cell_type": "code",
   "execution_count": null,
   "id": "373aa45c-d686-4d0f-8947-d87b75facae9",
   "metadata": {},
   "outputs": [],
   "source": [
    "final_df"
   ]
  },
  {
   "cell_type": "code",
   "execution_count": null,
   "id": "9b22db41-4628-44bc-ba35-d2006d6a5ac1",
   "metadata": {},
   "outputs": [],
   "source": [
    "def cos_score(title):\n",
    "    \n",
    "    "
   ]
  },
  {
   "cell_type": "markdown",
   "id": "fe12d0b8-daec-42e4-adc1-9674be5d6523",
   "metadata": {},
   "source": [
    "**Elapsed Time:** A new feature which tracks the amount of time that has elapsed between the game's release and the review being logged. This could be interested because people who purchase a game right after its release are likely to be larger fans of the genre or franchise."
   ]
  },
  {
   "cell_type": "code",
   "execution_count": 65,
   "id": "661637c9-cc8b-4a21-aa51-b9fd95739080",
   "metadata": {},
   "outputs": [],
   "source": [
    "final_df[\"elapsed_time\"] = final_df[\"date\"] - final_df[\"date_release\"]"
   ]
  },
  {
   "cell_type": "markdown",
   "id": "4e8f536e-6bf0-4ecf-8aed-5d559d6b0fcd",
   "metadata": {},
   "source": [
    "**Relative Recommendation:** Find the rate at which users rated a game positively (out of the count of games they have rated). Then, find for each review whether a recommendation is in line with user's typical reviews or not."
   ]
  },
  {
   "cell_type": "code",
   "execution_count": 66,
   "id": "cbbca433-de21-41a4-896a-01aa1ab92c1a",
   "metadata": {},
   "outputs": [],
   "source": [
    "# Count the number of reviews per user and rename column\n",
    "usr_rating_count = final_df[[\"user_id\",\"y\"]].groupby(\"user_id\").count()\n",
    "usr_rating_count.rename(columns = {\"y\":\"review_count\"}, inplace = True)\n",
    "\n",
    "# Find the number of positive reviews\n",
    "usr_rating_count[\"positive_reviews\"] = final_df[[\"user_id\",\"y\"]].groupby(\"user_id\").sum()\n",
    "\n",
    "# Find how many reviews out of total are positive\n",
    "usr_rating_count[\"positive_rate\"] = usr_rating_count[\"positive_reviews\"] / usr_rating_count[\"review_count\"]"
   ]
  },
  {
   "cell_type": "code",
   "execution_count": 67,
   "id": "ab2b4db5-7495-4a59-9586-5ca60d5313e9",
   "metadata": {},
   "outputs": [],
   "source": [
    "# Merge review_count and positive_rate to the final_df\n",
    "final_df = final_df.merge(usr_rating_count.reset_index()[[\"user_id\", \"review_count\", \"positive_rate\"]], \n",
    "                          how = \"left\", on = \"user_id\")\n",
    "\n",
    "# Use these to create an ulterior feature with recommendation relative to average recommendation\n",
    "final_df[\"relaitve_rec\"] = (final_df[\"y\"] - final_df[\"positive_rate\"])"
   ]
  },
  {
   "cell_type": "markdown",
   "id": "7dbeb36f-99c0-40ac-9503-929e42bc3a7f",
   "metadata": {},
   "source": [
    "**Tendency to Review:** People who review more often tend to..."
   ]
  },
  {
   "cell_type": "code",
   "execution_count": 68,
   "id": "bc88e6e7-c620-4dd3-9264-42a9ede92055",
   "metadata": {},
   "outputs": [],
   "source": [
    "# Find Review Tendency\n",
    "final_df[\"review_tendency\"] =  final_df[\"reviews\"] /final_df[\"products\"] \n",
    "\n",
    "# Find Tendency Relative to Median Because of Low Values\n",
    "final_df[\"rel_review_tendency\"] = (final_df[\"review_tendency\"] - final_df[\"review_tendency\"].median())/ final_df[\"review_tendency\"].median()"
   ]
  },
  {
   "cell_type": "markdown",
   "id": "e285f817-0d2f-4b83-bb57-387b6e476e4b",
   "metadata": {},
   "source": [
    "**Positive & Negative Reviews:** Here we calculate the number of positive and negative reviews for each game. This is done through the positive_ratio column."
   ]
  },
  {
   "cell_type": "code",
   "execution_count": 69,
   "id": "02547f99-c7ef-4d90-a23d-ac964599d436",
   "metadata": {},
   "outputs": [],
   "source": [
    "final_df[\"positive_reviews\"] = final_df[\"positive_ratio\"] * final_df[\"user_reviews\"]\n",
    "final_df[\"negative_reviews\"] = (1 - final_df[\"positive_ratio\"]) * final_df[\"user_reviews\"]"
   ]
  },
  {
   "cell_type": "code",
   "execution_count": 70,
   "id": "7aa366f7-7218-48f1-8ea4-7723bc11ffe3",
   "metadata": {},
   "outputs": [
    {
     "data": {
      "text/html": [
       "<div>\n",
       "<style scoped>\n",
       "    .dataframe tbody tr th:only-of-type {\n",
       "        vertical-align: middle;\n",
       "    }\n",
       "\n",
       "    .dataframe tbody tr th {\n",
       "        vertical-align: top;\n",
       "    }\n",
       "\n",
       "    .dataframe thead th {\n",
       "        text-align: right;\n",
       "    }\n",
       "</style>\n",
       "<table border=\"1\" class=\"dataframe\">\n",
       "  <thead>\n",
       "    <tr style=\"text-align: right;\">\n",
       "      <th></th>\n",
       "      <th>app_id</th>\n",
       "      <th>helpful</th>\n",
       "      <th>funny</th>\n",
       "      <th>date</th>\n",
       "      <th>y</th>\n",
       "      <th>hours</th>\n",
       "      <th>user_id</th>\n",
       "      <th>review_id</th>\n",
       "      <th>title</th>\n",
       "      <th>date_release</th>\n",
       "      <th>...</th>\n",
       "      <th>products</th>\n",
       "      <th>reviews</th>\n",
       "      <th>elapsed_time</th>\n",
       "      <th>review_count</th>\n",
       "      <th>positive_rate</th>\n",
       "      <th>relaitve_rec</th>\n",
       "      <th>review_tendency</th>\n",
       "      <th>rel_review_tendency</th>\n",
       "      <th>positive_reviews</th>\n",
       "      <th>negative_reviews</th>\n",
       "    </tr>\n",
       "  </thead>\n",
       "  <tbody>\n",
       "    <tr>\n",
       "      <th>0</th>\n",
       "      <td>304390</td>\n",
       "      <td>4</td>\n",
       "      <td>0</td>\n",
       "      <td>2017-02-17</td>\n",
       "      <td>False</td>\n",
       "      <td>11.5</td>\n",
       "      <td>797</td>\n",
       "      <td>1</td>\n",
       "      <td>FOR HONOR™</td>\n",
       "      <td>2017-02-13</td>\n",
       "      <td>...</td>\n",
       "      <td>40</td>\n",
       "      <td>1</td>\n",
       "      <td>4 days</td>\n",
       "      <td>1</td>\n",
       "      <td>0.0</td>\n",
       "      <td>0.0</td>\n",
       "      <td>0.025</td>\n",
       "      <td>0.025</td>\n",
       "      <td>5172828</td>\n",
       "      <td>-5096757</td>\n",
       "    </tr>\n",
       "    <tr>\n",
       "      <th>1</th>\n",
       "      <td>304390</td>\n",
       "      <td>2</td>\n",
       "      <td>0</td>\n",
       "      <td>2017-03-23</td>\n",
       "      <td>False</td>\n",
       "      <td>180.6</td>\n",
       "      <td>103506</td>\n",
       "      <td>26</td>\n",
       "      <td>FOR HONOR™</td>\n",
       "      <td>2017-02-13</td>\n",
       "      <td>...</td>\n",
       "      <td>10</td>\n",
       "      <td>1</td>\n",
       "      <td>38 days</td>\n",
       "      <td>2</td>\n",
       "      <td>0.0</td>\n",
       "      <td>0.0</td>\n",
       "      <td>0.100</td>\n",
       "      <td>3.100</td>\n",
       "      <td>5172828</td>\n",
       "      <td>-5096757</td>\n",
       "    </tr>\n",
       "  </tbody>\n",
       "</table>\n",
       "<p>2 rows × 43 columns</p>\n",
       "</div>"
      ],
      "text/plain": [
       "   app_id  helpful  funny       date      y  hours  user_id  review_id  \\\n",
       "0  304390        4      0 2017-02-17  False   11.5      797          1   \n",
       "1  304390        2      0 2017-03-23  False  180.6   103506         26   \n",
       "\n",
       "        title date_release  ...  products  reviews  elapsed_time review_count  \\\n",
       "0  FOR HONOR™   2017-02-13  ...        40        1        4 days            1   \n",
       "1  FOR HONOR™   2017-02-13  ...        10        1       38 days            2   \n",
       "\n",
       "   positive_rate  relaitve_rec  review_tendency  rel_review_tendency  \\\n",
       "0            0.0           0.0            0.025                0.025   \n",
       "1            0.0           0.0            0.100                3.100   \n",
       "\n",
       "   positive_reviews  negative_reviews  \n",
       "0           5172828          -5096757  \n",
       "1           5172828          -5096757  \n",
       "\n",
       "[2 rows x 43 columns]"
      ]
     },
     "execution_count": 70,
     "metadata": {},
     "output_type": "execute_result"
    }
   ],
   "source": [
    "final_df.head(2)"
   ]
  },
  {
   "cell_type": "markdown",
   "id": "6d10dbb4-3717-4bb5-b86a-c2eda034820a",
   "metadata": {},
   "source": [
    "### Transformation Pipeline"
   ]
  },
  {
   "cell_type": "code",
   "execution_count": 11,
   "id": "1c558333-a9d1-4293-b464-54df44d07b0b",
   "metadata": {},
   "outputs": [],
   "source": [
    "def diverging_encoder(x):\n",
    "    encoding = OrdinalEncoder(categories=[['Overwhelmingly Negative', \n",
    "                                           'Very Negative', 'Negative', \n",
    "                                           'Mostly Negative', \"Mixed\",\n",
    "                                           'Mostly Positive', \"Positive\",\n",
    "                                          \"Very Positive\", \"Overwhelmingly Positive\"]])\n",
    "    \n",
    "    x = encoding.fit_transform(x)\n",
    "    return (x - 5).astype(float)"
   ]
  },
  {
   "cell_type": "markdown",
   "id": "82efddda-9f5b-4c0e-a192-f9f26d2859cd",
   "metadata": {},
   "source": [
    "## Model Preparation"
   ]
  },
  {
   "cell_type": "code",
   "execution_count": 72,
   "id": "aeb36588-1b33-45ee-b713-17a611392e03",
   "metadata": {},
   "outputs": [
    {
     "name": "stdout",
     "output_type": "stream",
     "text": [
      "['app_id', 'helpful', 'funny', 'date', 'y', 'hours', 'user_id', 'review_id', 'title', 'date_release', 'win', 'mac', 'linux', 'rating', 'positive_ratio', 'user_reviews', 'price_final', 'price_original', 'discount', 'steam_deck', 'description', 'tags', 'appid', 'english', 'developer', 'publisher', 'required_age', 'genres', 'steamspy_tags', 'achievements', 'average_playtime', 'median_playtime', 'owners', 'products', 'reviews', 'elapsed_time', 'review_count', 'positive_rate', 'relaitve_rec', 'review_tendency', 'rel_review_tendency', 'positive_reviews', 'negative_reviews']\n"
     ]
    }
   ],
   "source": [
    "column_names = final_df.columns.tolist()\n",
    "print(column_names)"
   ]
  },
  {
   "cell_type": "code",
   "execution_count": 81,
   "id": "f6acaabd-689d-4037-9935-47c0c592f18f",
   "metadata": {},
   "outputs": [],
   "source": [
    "pd.set_option('display.max_columns', None)"
   ]
  },
  {
   "cell_type": "code",
   "execution_count": 4,
   "id": "04e55912-47d9-4fe5-82f3-e7b5cd05d422",
   "metadata": {},
   "outputs": [
    {
     "data": {
      "text/html": [
       "<div>\n",
       "<style scoped>\n",
       "    .dataframe tbody tr th:only-of-type {\n",
       "        vertical-align: middle;\n",
       "    }\n",
       "\n",
       "    .dataframe tbody tr th {\n",
       "        vertical-align: top;\n",
       "    }\n",
       "\n",
       "    .dataframe thead th {\n",
       "        text-align: right;\n",
       "    }\n",
       "</style>\n",
       "<table border=\"1\" class=\"dataframe\">\n",
       "  <thead>\n",
       "    <tr style=\"text-align: right;\">\n",
       "      <th></th>\n",
       "      <th>app_id</th>\n",
       "      <th>helpful</th>\n",
       "      <th>funny</th>\n",
       "      <th>date</th>\n",
       "      <th>y</th>\n",
       "      <th>hours</th>\n",
       "      <th>user_id</th>\n",
       "      <th>review_id</th>\n",
       "      <th>title</th>\n",
       "      <th>date_release</th>\n",
       "      <th>...</th>\n",
       "      <th>publisher</th>\n",
       "      <th>required_age</th>\n",
       "      <th>genres</th>\n",
       "      <th>steamspy_tags</th>\n",
       "      <th>achievements</th>\n",
       "      <th>average_playtime</th>\n",
       "      <th>median_playtime</th>\n",
       "      <th>owners</th>\n",
       "      <th>products</th>\n",
       "      <th>reviews</th>\n",
       "    </tr>\n",
       "  </thead>\n",
       "  <tbody>\n",
       "    <tr>\n",
       "      <th>2937089</th>\n",
       "      <td>252490</td>\n",
       "      <td>0</td>\n",
       "      <td>0</td>\n",
       "      <td>2022-09-01</td>\n",
       "      <td>True</td>\n",
       "      <td>34.5</td>\n",
       "      <td>1332185</td>\n",
       "      <td>2339035</td>\n",
       "      <td>Rust</td>\n",
       "      <td>2018-02-08</td>\n",
       "      <td>...</td>\n",
       "      <td>Facepunch Studios</td>\n",
       "      <td>18</td>\n",
       "      <td>Action;Adventure;Indie;Massively Multiplayer;RPG</td>\n",
       "      <td>Survival;Crafting;Multiplayer</td>\n",
       "      <td>48</td>\n",
       "      <td>9352</td>\n",
       "      <td>2234</td>\n",
       "      <td>5000000-10000000</td>\n",
       "      <td>27</td>\n",
       "      <td>3</td>\n",
       "    </tr>\n",
       "    <tr>\n",
       "      <th>512277</th>\n",
       "      <td>271590</td>\n",
       "      <td>0</td>\n",
       "      <td>0</td>\n",
       "      <td>2017-06-15</td>\n",
       "      <td>True</td>\n",
       "      <td>424.5</td>\n",
       "      <td>5571732</td>\n",
       "      <td>5013468</td>\n",
       "      <td>Grand Theft Auto V</td>\n",
       "      <td>2015-04-13</td>\n",
       "      <td>...</td>\n",
       "      <td>Rockstar Games</td>\n",
       "      <td>18</td>\n",
       "      <td>Action;Adventure</td>\n",
       "      <td>Open World;Action;Multiplayer</td>\n",
       "      <td>77</td>\n",
       "      <td>9837</td>\n",
       "      <td>4834</td>\n",
       "      <td>10000000-20000000</td>\n",
       "      <td>206</td>\n",
       "      <td>5</td>\n",
       "    </tr>\n",
       "    <tr>\n",
       "      <th>3057195</th>\n",
       "      <td>252490</td>\n",
       "      <td>0</td>\n",
       "      <td>0</td>\n",
       "      <td>2022-11-23</td>\n",
       "      <td>True</td>\n",
       "      <td>32.7</td>\n",
       "      <td>1409595</td>\n",
       "      <td>4921071</td>\n",
       "      <td>Rust</td>\n",
       "      <td>2018-02-08</td>\n",
       "      <td>...</td>\n",
       "      <td>Facepunch Studios</td>\n",
       "      <td>18</td>\n",
       "      <td>Action;Adventure;Indie;Massively Multiplayer;RPG</td>\n",
       "      <td>Survival;Crafting;Multiplayer</td>\n",
       "      <td>48</td>\n",
       "      <td>9352</td>\n",
       "      <td>2234</td>\n",
       "      <td>5000000-10000000</td>\n",
       "      <td>17</td>\n",
       "      <td>2</td>\n",
       "    </tr>\n",
       "  </tbody>\n",
       "</table>\n",
       "<p>3 rows × 35 columns</p>\n",
       "</div>"
      ],
      "text/plain": [
       "         app_id  helpful  funny        date     y  hours  user_id  review_id  \\\n",
       "2937089  252490        0      0  2022-09-01  True   34.5  1332185    2339035   \n",
       "512277   271590        0      0  2017-06-15  True  424.5  5571732    5013468   \n",
       "3057195  252490        0      0  2022-11-23  True   32.7  1409595    4921071   \n",
       "\n",
       "                      title date_release  ...          publisher  \\\n",
       "2937089                Rust   2018-02-08  ...  Facepunch Studios   \n",
       "512277   Grand Theft Auto V   2015-04-13  ...     Rockstar Games   \n",
       "3057195                Rust   2018-02-08  ...  Facepunch Studios   \n",
       "\n",
       "         required_age                                            genres  \\\n",
       "2937089            18  Action;Adventure;Indie;Massively Multiplayer;RPG   \n",
       "512277             18                                  Action;Adventure   \n",
       "3057195            18  Action;Adventure;Indie;Massively Multiplayer;RPG   \n",
       "\n",
       "                         steamspy_tags  achievements  average_playtime  \\\n",
       "2937089  Survival;Crafting;Multiplayer            48              9352   \n",
       "512277   Open World;Action;Multiplayer            77              9837   \n",
       "3057195  Survival;Crafting;Multiplayer            48              9352   \n",
       "\n",
       "         median_playtime             owners  products  reviews  \n",
       "2937089             2234   5000000-10000000        27        3  \n",
       "512277              4834  10000000-20000000       206        5  \n",
       "3057195             2234   5000000-10000000        17        2  \n",
       "\n",
       "[3 rows x 35 columns]"
      ]
     },
     "execution_count": 4,
     "metadata": {},
     "output_type": "execute_result"
    }
   ],
   "source": [
    "subset_df = final_df.sample(n=50000, random_state=42)\n",
    "subset_df.head(3)"
   ]
  },
  {
   "cell_type": "markdown",
   "id": "e93cccd7-1dd2-499c-9783-3cf18a100565",
   "metadata": {},
   "source": [
    "#### Logistic Regression Model"
   ]
  },
  {
   "cell_type": "code",
   "execution_count": 74,
   "id": "052a6b20-3e1b-44fd-acd4-612ea3e5e0a9",
   "metadata": {},
   "outputs": [],
   "source": [
    "# Consider balancing out data because of overwhelming positivity"
   ]
  },
  {
   "cell_type": "code",
   "execution_count": 75,
   "id": "7dccdc94-1e45-4197-8694-929974e89def",
   "metadata": {},
   "outputs": [
    {
     "name": "stdout",
     "output_type": "stream",
     "text": [
      "True     0.84888\n",
      "False    0.15112\n",
      "Name: y, dtype: float64\n"
     ]
    }
   ],
   "source": [
    "print(subset_df['y'].value_counts(normalize=True))"
   ]
  },
  {
   "cell_type": "code",
   "execution_count": 77,
   "id": "8eacd8fa-0683-4677-a2dc-3fc294383668",
   "metadata": {},
   "outputs": [
    {
     "name": "stdout",
     "output_type": "stream",
     "text": [
      "Cross-validation R^2: 0.07737060716969064\n",
      "\n",
      "MSE: 0.11832853538543443\n",
      "RMSE: 0.3439891500984216\n",
      "R^2: 0.07762094692449772\n"
     ]
    }
   ],
   "source": [
    "# linear model\n",
    "X = subset_df.drop(['y'], axis=1)  # Use all columns except 'y' as features\n",
    "y = subset_df['y']  # Use 'y' as the target variable\n",
    "\n",
    "X_train, X_test, y_train, y_test = train_test_split(X, y, test_size=0.2, random_state=42, stratify=y)\n",
    "\n",
    "num_features = ['price_final', 'positive_ratio', 'hours', 'median_playtime']\n",
    "\n",
    "preprocessor = ColumnTransformer(\n",
    "    transformers=[('num', StandardScaler(), num_features)])\n",
    "\n",
    "model = LinearRegression()\n",
    "\n",
    "pipeline = Pipeline(steps=[('preprocessor', preprocessor),\n",
    "                           ('model', model)])\n",
    "\n",
    "cv_scores = cross_val_score(pipeline, X_train, y_train, cv=5)\n",
    "\n",
    "print(\"Cross-validation R^2:\", np.mean(cv_scores))\n",
    "\n",
    "pipeline.fit(X_train, y_train)\n",
    "\n",
    "y_train_pred = pipeline.predict(X_train)\n",
    "\n",
    "mse = mean_squared_error(y_train, y_train_pred)\n",
    "rmse = np.sqrt(mse)\n",
    "r2 = pipeline.score(X_train, y_train)\n",
    "\n",
    "print(\"\\nMSE:\", mse)\n",
    "print(\"RMSE:\", rmse)\n",
    "print(\"R^2:\", r2)"
   ]
  },
  {
   "cell_type": "code",
   "execution_count": 78,
   "id": "1108a191-8284-44e9-a9ef-acb8ee91234c",
   "metadata": {},
   "outputs": [
    {
     "name": "stdout",
     "output_type": "stream",
     "text": [
      "Best average R^2 score: 0.0773\n",
      "Best hyperparameter: {'model__alpha': 10}\n",
      "Model performance improved: False\n",
      "Top 5 features: ['reviews', 'median_playtime', 'price_final', 'hours', 'positive_ratio']\n",
      "Unuseful features: []\n"
     ]
    }
   ],
   "source": [
    "# Update features\n",
    "num_features += ['reviews', 'products', 'discount']\n",
    "\n",
    "# Update preprocessor\n",
    "preprocessor = ColumnTransformer(\n",
    "    transformers=[('num', StandardScaler(), num_features)])\n",
    "\n",
    "# Fit preprocessor\n",
    "preprocessor.fit(X_train)\n",
    "\n",
    "# Update pipeline\n",
    "pipeline = Pipeline(steps=[('preprocessor', preprocessor),\n",
    "                           ('model', model)])\n",
    "\n",
    "# Adjust alpha with GridSearchCV\n",
    "param_grid = {'model__alpha': [0.001, 0.01, 0.1, 1, 10, 100]}\n",
    "\n",
    "grid_search = GridSearchCV(pipeline, param_grid, cv=5, scoring='r2')\n",
    "grid_search.fit(X_train, y_train)\n",
    "\n",
    "# Report the average score with the best hyperparameter\n",
    "print(f\"Best average R^2 score: {grid_search.best_score_:.4f}\")\n",
    "print(f\"Best hyperparameter: {grid_search.best_params_}\")\n",
    "\n",
    "# Check if the model performance improved\n",
    "improved = grid_search.best_score_ > np.mean(cv_scores)\n",
    "print(f\"Model performance improved: {improved}\")\n",
    "\n",
    "# Feature importance\n",
    "best_model = grid_search.best_estimator_.named_steps['model']\n",
    "feature_importances = np.abs(best_model.coef_)\n",
    "\n",
    "feature_names = num_features\n",
    "\n",
    "# Top 5 features\n",
    "top_5_features_idx = np.argsort(feature_importances)[-5:]\n",
    "top_5_features = [feature_names[i] for i in top_5_features_idx]\n",
    "print(f\"Top 5 features: {top_5_features}\")\n",
    "\n",
    "# Unuseful features (defined as features with importance close to zero)\n",
    "threshold = 1e-5\n",
    "low_importance = feature_importances < threshold\n",
    "unuseful_features = np.array(feature_names)[low_importance]\n",
    "print(f\"Unuseful features: {unuseful_features.tolist()}\")\n"
   ]
  },
  {
   "cell_type": "code",
   "execution_count": 79,
   "id": "c3642451-5393-4f1b-b59e-649174ab6126",
   "metadata": {},
   "outputs": [
    {
     "name": "stdout",
     "output_type": "stream",
     "text": [
      "Cross-validation accuracy: 0.848025\n",
      "\n",
      "Accuracy: 0.84805\n",
      "Precision: 0.8541915482936497\n",
      "Recall: 0.9899867471653659\n",
      "F1: 0.9170895400229169\n"
     ]
    }
   ],
   "source": [
    "# logistic model\n",
    "\n",
    "X = subset_df.drop(['y'], axis=1)  # Use all columns except 'y' as features\n",
    "y = subset_df['y']  # Use 'y' as the target variable\n",
    "\n",
    "X_train, X_test, y_train, y_test = train_test_split(X, y, test_size=0.2, random_state=42, stratify=y)\n",
    "\n",
    "num_features = ['price_final','positive_ratio', 'hours', 'median_playtime']\n",
    "\n",
    "preprocessor = ColumnTransformer(\n",
    "    transformers=[ ('num', StandardScaler(), num_features)])\n",
    "\n",
    "model = LogisticRegression(penalty='l2', random_state=42)\n",
    "\n",
    "pipeline = Pipeline(steps=[('preprocessor', preprocessor), \n",
    "                           ('model', model)])\n",
    "\n",
    "cv_scores = cross_val_score(pipeline, X_train, y_train, cv=5)\n",
    "print(\"Cross-validation accuracy:\", np.mean(cv_scores))\n",
    "\n",
    "\n",
    "pipeline.fit(X_train, y_train)\n",
    "\n",
    "y_train_pred = pipeline.predict(X_train)\n",
    "\n",
    "accuracy = accuracy_score(y_train, y_train_pred)\n",
    "precision = precision_score(y_train, y_train_pred)\n",
    "recall = recall_score(y_train, y_train_pred)\n",
    "f1 = f1_score(y_train, y_train_pred)\n",
    "\n",
    "print(\"\\n\"\"Accuracy:\", accuracy)\n",
    "print(\"Precision:\", precision)\n",
    "print(\"Recall:\", recall)\n",
    "print(\"F1:\", f1)"
   ]
  },
  {
   "cell_type": "code",
   "execution_count": 62,
   "id": "b9931c5e-0219-4508-83cc-4609b26736f4",
   "metadata": {},
   "outputs": [
    {
     "name": "stdout",
     "output_type": "stream",
     "text": [
      "Best average accuracy score: 0.9171\n",
      "\n",
      "Best hyperparameter: {'model__C': 1000.0}\n",
      "\n",
      "Model performance improved: True\n",
      "\n",
      "Top 5 features: ['reviews', 'discount', 'price_final', 'hours', 'positive_ratio']\n",
      "Unuseful features: []\n"
     ]
    }
   ],
   "source": [
    "# Update features\n",
    "num_features += ['reviews', 'products', 'discount']\n",
    "\n",
    "# Update preprocessor\n",
    "preprocessor = ColumnTransformer(\n",
    "    transformers=[ ('num', StandardScaler(), num_features)])\n",
    "\n",
    "# Fit preprocessor\n",
    "preprocessor.fit(X_train)\n",
    "\n",
    "\n",
    "# Logistic regression with L1\n",
    "model = LogisticRegression(penalty='l1', solver='liblinear')\n",
    "\n",
    "\n",
    "# Update pipeline\n",
    "pipeline = Pipeline(steps=[('preprocessor', preprocessor),\n",
    "                           ('model', model)])\n",
    "\n",
    "\n",
    "# Adjust alpha with GridSearchCV   # C = 1/alpha\n",
    "param_grid = {'model__C': [1/0.001, 1/0.01, 1/0.1, 1/1]} \n",
    "\n",
    "\n",
    "grid_search = GridSearchCV(pipeline, param_grid, cv=5, scoring='f1')\n",
    "grid_search.fit(X_train, y_train)\n",
    "\n",
    "# Report the average score with the best hyperparameter\n",
    "print(f\"Best average accuracy score: {grid_search.best_score_:.4f}\")\n",
    "print(\"\\n\"f\"Best hyperparameter: {grid_search.best_params_}\")\n",
    "\n",
    "# Check if the model performance improved\n",
    "improved = grid_search.best_score_ > np.mean(cv_scores)\n",
    "print(\"\\n\"f\"Model performance improved: {improved}\")\n",
    "\n",
    "# Feature importance\n",
    "best_model = grid_search.best_estimator_.named_steps['model']\n",
    "feature_importances = np.abs(best_model.coef_[0])\n",
    "\n",
    "feature_names = num_features\n",
    "\n",
    "# Top 5 features\n",
    "top_5_features_idx = np.argsort(feature_importances)[-5:]\n",
    "top_5_features = [feature_names[i] for i in top_5_features_idx]\n",
    "print(\"\\n\"f\"Top 5 features: {top_5_features}\")\n",
    "\n",
    "\n",
    "# Unuseful features (defined as features with importance of zero)\n",
    "zero_importance = feature_importances == 0\n",
    "unuseful_features = np.array(feature_names)[zero_importance]\n",
    "print(f\"Unuseful features: {unuseful_features.tolist()}\")"
   ]
  },
  {
   "cell_type": "code",
   "execution_count": 63,
   "id": "1a3e3f0b-b4e4-4f78-9452-7362e0772410",
   "metadata": {},
   "outputs": [],
   "source": [
    "# 309821\n",
    "# 2867728\n",
    "# 51774"
   ]
  },
  {
   "cell_type": "markdown",
   "id": "e795652b-0eb4-4d4f-8eb5-6f4c8f6ac447",
   "metadata": {},
   "source": [
    "#### Recommendation System"
   ]
  },
  {
   "cell_type": "code",
   "execution_count": 91,
   "id": "54536e0c-07c4-46a8-8b90-682558490fd2",
   "metadata": {},
   "outputs": [
    {
     "name": "stdin",
     "output_type": "stream",
     "text": [
      "Enter a user ID:  784757\n"
     ]
    },
    {
     "name": "stdout",
     "output_type": "stream",
     "text": [
      "title          RimWorld\n",
      "price_final       34.99\n",
      "Name: 0, dtype: object\n"
     ]
    }
   ],
   "source": [
    "# Train the logistic regression model\n",
    "numeric_features = ['price_final','positive_ratio', 'hours', 'median_playtime', 'reviews', 'products', 'discount']\n",
    "categorical_features = ['win', 'mac', 'linux']\n",
    "\n",
    "preprocessor = ColumnTransformer(transformers=[\n",
    "    ('num', StandardScaler(), numeric_features),\n",
    "    ('cat', OneHotEncoder(drop='first'), categorical_features)])\n",
    "\n",
    "model = LogisticRegression(random_state=42)\n",
    "\n",
    "pipeline = Pipeline(steps=[('preprocessor', preprocessor),\n",
    "                           ('model', model)])\n",
    "\n",
    "X = final_df.drop(columns=['y'])\n",
    "y = final_df['y']\n",
    "\n",
    "X_train, X_test, y_train, y_test = train_test_split(X, y, test_size=0.2, random_state=42, stratify=y)\n",
    "\n",
    "pipeline.fit(X_train, y_train)\n",
    "\n",
    "# Function to recommend a game to a user\n",
    "def recommend_game(user_id, all_games, n_recommendations=1):\n",
    "    \n",
    "    # Get user's reviewed games\n",
    "    user_games = all_games[all_games['user_id'] == user_id]\n",
    "    \n",
    "    if user_games.empty:\n",
    "        print(\"User not found.\")\n",
    "        return\n",
    "    \n",
    "    # Get the user's operating system\n",
    "    user_os = []\n",
    "    if user_games['win'].iloc[0]:\n",
    "        user_os.append('win')\n",
    "    if user_games['mac'].iloc[0]:\n",
    "        user_os.append('mac')\n",
    "    if user_games['linux'].iloc[0]:\n",
    "        user_os.append('linux')\n",
    "    \n",
    "    # Filter games that the user hasn't reviewed\n",
    "    unreviewed_games = all_games.drop(user_games.index)\n",
    "    \n",
    "    # Filter games that match the user's operating system\n",
    "    compatible_games = unreviewed_games[unreviewed_games[user_os].any(axis=1)]\n",
    "    \n",
    "    # Get recommendation scores\n",
    "    X_unreviewed = compatible_games.drop(columns=['y'])\n",
    "    \n",
    "    recommendation_scores = pipeline.predict_proba(X_unreviewed)[:, 1]\n",
    "    # print(recommendation_scores)\n",
    "    # Get top n_recommendations indices\n",
    "    top_indices = np.argsort(recommendation_scores)[-n_recommendations:]\n",
    "\n",
    "    # Get the recommended game\n",
    "    recommended_games = compatible_games.iloc[top_indices].reset_index(drop=True)\n",
    "    recommended_game = recommended_games.loc[0, ['title', 'price_final']]\n",
    "    \n",
    "    return recommended_game\n",
    "\n",
    "# Input user ID and get a game recommendation\n",
    "user_id = int(input(\"Enter a user ID: \"))\n",
    "recommended_game = recommend_game(user_id, final_df)\n",
    "print(recommended_game)\n"
   ]
  },
  {
   "cell_type": "code",
   "execution_count": null,
   "id": "f12fade7-6a03-4c47-bdd6-2e3dd7e5302e",
   "metadata": {},
   "outputs": [],
   "source": []
  },
  {
   "cell_type": "code",
   "execution_count": null,
   "id": "9f26931e-2318-41c6-a91a-cde02c2a05e2",
   "metadata": {},
   "outputs": [],
   "source": []
  }
 ],
 "metadata": {
  "kernelspec": {
   "display_name": "Python 3 (ipykernel)",
   "language": "python",
   "name": "python3"
  },
  "language_info": {
   "codemirror_mode": {
    "name": "ipython",
    "version": 3
   },
   "file_extension": ".py",
   "mimetype": "text/x-python",
   "name": "python",
   "nbconvert_exporter": "python",
   "pygments_lexer": "ipython3",
   "version": "3.9.16"
  }
 },
 "nbformat": 4,
 "nbformat_minor": 5
}
