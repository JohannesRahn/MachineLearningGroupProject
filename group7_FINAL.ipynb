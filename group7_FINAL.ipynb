{
 "cells": [
  {
   "cell_type": "markdown",
   "id": "9ac1d4c8-7b82-48e5-b207-ad61b9b7de88",
   "metadata": {
    "tags": []
   },
   "source": [
    "# **Machine Learning Group Project: Team 7**\n",
    "## Project overview\n",
    "\n",
    "| Student Name | Student Number | Class Group |\n",
    "| --- | --- | --- |\n",
    "| **Alessandro Maugeri** | 53067 | TA |\n",
    "| **Frank Andreas Bauer** | 53121 | TA |\n",
    "|  **Johannes Rahn** | 53958 | TB |\n",
    "| **Nicole Zoppi** | 53854 | TB |\n",
    "| **Yannick von der Heyden** | 53629 | TA |\n",
    "\n",
    "\n",
    "\n",
    "- **Course & Course Code:** Machine Learning (2487)\n",
    "- **Instructors:** Qiwei Han & Alessandro Gambetti\n",
    "- **Academic Year:** 2022/2023\n",
    "\n",
    "\n",
    "### Introduction \n",
    "\n",
    "This project was developed by Alessandro Alfio Maugeri, Frank Andreas Bauer, Johannes Rahn, Nicole Zoppi, and Yannick von der Heyden as part of Nova SBE's Machine Learning (2487) course taught during Semester 2 of the 2022/2023 academic year by Professor Qiwei Han and Teaching Assistant Alessandro Gambetti.\n",
    "\n",
    "### Structure\n",
    "\n",
    "This project involves using data from two Kaggle pages to create a machine learning pipeline with a clear business use. The data is about Steam's library and includes information on games, DLCs, user reviews, and consensus (e.g. whether a review is positive or not, what general consensus is, how many people found the review useful, etc.).\n",
    "\n",
    "The project exploits data from two distinct Kaggle pages:\n",
    "\n",
    "- **Game Recommendations on Steam**\n",
    "https://www.kaggle.com/datasets/antonkozyriev/game-recommendations-on-steam?select=games.csv\n",
    "- **Steam Store Games (Clean dataset)**\n",
    "https://www.kaggle.com/datasets/nikdavis/steam-store-games?select=steam.csv\n",
    "\n",
    "The primary dataframes final_df, textual_df and the created networks can be directly integrated into the main notebook group7.ipynb. For details on their construction, refer to the appendix_notebooks folder. The final_df is created by merging four CSV files and one JSON file, found in the appendix/raw_data folder. By examining the appendices and raw data, users can understand how these dataframes were built and contribute to the project.\n",
    "\n",
    "### Business Case \n",
    "\n",
    "The objective of this project is to develop an end-to-end Machine Learning pipeline that can predict whether a given Steam user will enjoy a game, based on the similarity of the game's content to his existing library, the user's hours spent in other games and the reviews he wrote. By identifying the best-suited model, the aim is to help Steam optimize its service by tailoring it to individual users and creating a personalized recommender system.\n",
    "\n",
    "The potential benefits of this recommendation system include providing game suggestions that better match the user's preferences, thereby increasing user engagement and satisfaction with the platform. Additionally, with the help of dynamic pricing, Steam can optimize their revenue by offering games at different prices based on a user's potential enjoyment of a game and, therefore, deduce their willingness to pay.\n",
    "\n",
    "To ensure a appropriate discount mechanism, the system will utilize a rule-based approach that offers discounts on the most recommended games for each user. These most recommended games will be displayed to the user, with full price being applied to games that the user is very likely to buy based on the ML model predictions. On the other hand, higher discounts will be applied to games that are less recommended.\n",
    "\n",
    "This approach enables Steam to not only enhance the user experience through personalized recommendations but also to strategically maximize revenue through tailored pricing strategies. By displaying only the highest recommended games and adjusting discounts accordingly, the platform can encourage users to explore and purchase games that are best suited to their preferences. Ultimately, this project aims to create a more intuitive and satisfying gaming platform for users while simultaneously boosting Steam's business performance.\n"
   ]
  },
  {
   "cell_type": "markdown",
   "id": "10ae6611-a4ee-4776-ad89-c0ab5fd98032",
   "metadata": {
    "tags": []
   },
   "source": [
    "## Importing Packages "
   ]
  },
  {
   "cell_type": "code",
   "execution_count": 4,
   "id": "92bdcf27-35b2-4124-948e-5e34b6948bb8",
   "metadata": {},
   "outputs": [],
   "source": [
    "import ast\n",
    "import csv\n",
    "import datetime\n",
    "import warnings\n",
    "import scipy\n",
    "import pandas as pd\n",
    "import numpy as np\n",
    "from datetime import datetime\n",
    "from kneed import KneeLocator\n",
    "from category_encoders import TargetEncoder\n",
    "\n",
    "# Plotting\n",
    "import seaborn as sns\n",
    "import matplotlib.pyplot as plt\n",
    "import matplotlib.ticker as mtick\n",
    "\n",
    "# From sklearn\n",
    "from sklearn.compose import ColumnTransformer\n",
    "from sklearn.decomposition import TruncatedSVD\n",
    "from sklearn.pipeline import Pipeline, FeatureUnion\n",
    "from sklearn.base import BaseEstimator, TransformerMixin\n",
    "from sklearn.feature_extraction.text import TfidfVectorizer\n",
    "from sklearn.linear_model import LinearRegression, LogisticRegression, Ridge\n",
    "from sklearn.model_selection import train_test_split, cross_val_score, GridSearchCV\n",
    "from sklearn.metrics import accuracy_score, precision_score, recall_score, f1_score, make_scorer, mean_squared_error\n",
    "from sklearn.metrics import pairwise_distances\n",
    "from sklearn.preprocessing import FunctionTransformer, StandardScaler, OneHotEncoder, KBinsDiscretizer, OrdinalEncoder\n",
    "from sklearn.preprocessing import PolynomialFeatures, MinMaxScaler\n",
    "\n",
    "# From imblearn\n",
    "from imblearn.over_sampling import SMOTE\n",
    "from imblearn.pipeline import Pipeline as imPipeline\n",
    "\n",
    "# From scipy\n",
    "from scipy.stats import chi2_contingency, pointbiserialr"
   ]
  },
  {
   "cell_type": "markdown",
   "id": "5e58733b-7de2-4a6e-b3be-6e6dda5a70a7",
   "metadata": {
    "tags": []
   },
   "source": [
    "## Reading DataFrame"
   ]
  },
  {
   "cell_type": "code",
   "execution_count": 5,
   "id": "2f05ca23-67f5-47e3-9cff-a5bc3cf26376",
   "metadata": {},
   "outputs": [],
   "source": [
    "# Optimizing datatypes for efficient DF storage\n",
    "data_types = {\n",
    "    'review_id': 'int32',\n",
    "    'y': 'bool',\n",
    "    'funny': 'int16',\n",
    "    'helpful': 'int16',\n",
    "    'app_id': 'int32',\n",
    "    'title': 'string',\n",
    "    'rating': 'category',\n",
    "    'positive_ratio': 'int16',\n",
    "    'user_reviews': 'int32',\n",
    "    'win': 'bool',\n",
    "    'mac': 'bool',\n",
    "    'linux': 'bool',\n",
    "    'price_final': 'float32',\n",
    "    'price_original': 'float32',\n",
    "    'discount': 'float32',\n",
    "    'description': 'string',\n",
    "    'tags': 'string',\n",
    "    'english': 'int8',\n",
    "    'developer': 'category',\n",
    "    'publisher': 'category',\n",
    "    'required_age': 'int8',\n",
    "    'genres': 'string',\n",
    "    'steamspy_tags': 'string',\n",
    "    'achievements': 'int16',\n",
    "    'average_playtime': 'int32',\n",
    "    'median_playtime': 'int32',\n",
    "    'owners': 'category',\n",
    "    'steam_deck': 'bool',\n",
    "    'user_id': 'int32',\n",
    "    'products': 'int16',\n",
    "    'reviews': 'int16',\n",
    "    'hours': 'float32',\n",
    "    'categories': 'string'\n",
    "}"
   ]
  },
  {
   "cell_type": "code",
   "execution_count": 6,
   "id": "90c07174-1938-4732-ae4a-d5cb2991f6fd",
   "metadata": {},
   "outputs": [],
   "source": [
    "# Import the final DataFrame\n",
    "final_df = pd.read_csv(\"data/final_df.csv\",\n",
    "                       dtype=data_types, parse_dates=['date', 'date_release'])\n",
    "\n",
    "# Import the Textual Data\n",
    "textual_df = pd.read_csv(\"data/textual_data.csv\", index_col = \"app_id\")"
   ]
  },
  {
   "cell_type": "code",
   "execution_count": 7,
   "id": "d7295c62-def4-472c-9898-1c00f5ef5ece",
   "metadata": {},
   "outputs": [],
   "source": [
    "# Rearrange Columns\n",
    "final_df = final_df.reindex(columns = [\"review_id\", \"y\", \"date\", \"funny\", \"helpful\",\n",
    "                                       \"app_id\", \"title\", \"date_release\", \"rating\", \n",
    "                                       \"positive_ratio\", \"user_reviews\", \"win\", \"mac\", \"linux\", \n",
    "                                       \"price_final\", \"price_original\", \"discount\", \"description\",\n",
    "                                       \"tags\", 'english', 'developer', 'publisher', 'required_age', \n",
    "                                       'genres', 'steamspy_tags','achievements', 'average_playtime', \n",
    "                                       'median_playtime', \"owners\", \"steam_deck\",\n",
    "                                       \"user_id\", \"products\", \"reviews\", \"hours\"])\n",
    "\n",
    "# Sort by Review ID\n",
    "final_df.sort_values(by=[\"review_id\"], inplace = True)"
   ]
  },
  {
   "cell_type": "code",
   "execution_count": 8,
   "id": "c6c3f059-7cd4-46d2-8c09-b5c9249845d1",
   "metadata": {},
   "outputs": [
    {
     "data": {
      "text/plain": [
       "(6564923, 34)"
      ]
     },
     "execution_count": 8,
     "metadata": {},
     "output_type": "execute_result"
    }
   ],
   "source": [
    "final_df.shape"
   ]
  },
  {
   "cell_type": "markdown",
   "id": "03e667b6-fcca-4fae-bf81-5bc2e8995b70",
   "metadata": {
    "tags": []
   },
   "source": [
    "## Stratified Resampling"
   ]
  },
  {
   "cell_type": "markdown",
   "id": "d96b9c70-2079-45b1-9e11-172f668956be",
   "metadata": {},
   "source": [
    "The code below performs stratified sampling on the dataset. We do not have the computing power to run all our models on the complete set. Consequently, we provide the possibility of sampling the data down to 100,000 (minimum sample), 500,000 (medium sample), or 1,000,000 (medium-high) sample. The data is stratified according to the target variable so as to prevent the further loss of negative feedback, which is already a strong minority in the set, as will be shown later in the notebook.\n",
    "\n",
    "Alternatively, by skipping the lines of code below one can use the complete dataset with 6,564,923 observations. This naturally requires the appropriate computing power. \n",
    "\n",
    "**Due to our limited computing power, we will be running the entire notebook on 100,000 observations**."
   ]
  },
  {
   "cell_type": "code",
   "execution_count": 9,
   "id": "90a1b9e4-0a2b-4c2d-ab98-f9c8415f217a",
   "metadata": {},
   "outputs": [],
   "source": [
    "n_total_samples = 100000\n",
    "#n_total_samples = 500000\n",
    "#n_total_samples = 1000000"
   ]
  },
  {
   "cell_type": "code",
   "execution_count": 10,
   "id": "812dda48-18dd-4637-a88f-2012db640734",
   "metadata": {},
   "outputs": [],
   "source": [
    "# Find Negative-Positive Ratio\n",
    "neg_pos_ratio = final_df['y'].value_counts()[0] / final_df['y'].value_counts()[1]\n",
    "\n",
    "# Determine Number of False and Number of True Samples\n",
    "n_false_samples = int(n_total_samples * neg_pos_ratio)\n",
    "n_true_samples = n_total_samples - n_false_samples\n",
    "\n",
    "# Sample On this Basis \n",
    "false_samples = final_df[final_df['y'] == False].sample(n_false_samples, random_state=70)\n",
    "true_samples = final_df[final_df['y'] == True].sample(n_true_samples, random_state=70)\n",
    "\n",
    "final_df = pd.concat([false_samples, true_samples])\n",
    "\n",
    "# shuffle the data\n",
    "final_df = final_df.sample(frac=1, random_state=70)"
   ]
  },
  {
   "cell_type": "markdown",
   "id": "a26f57c4-332e-4b72-883c-628225d6eac4",
   "metadata": {},
   "source": [
    "We drop all the data inherently describing reviews: being data collected after the user reviewed a game, it doesn't have any predictive value and cannot be used as input for the models."
   ]
  },
  {
   "cell_type": "code",
   "execution_count": 11,
   "id": "8d35d42b-a8db-4476-b880-defc8fbf402b",
   "metadata": {},
   "outputs": [],
   "source": [
    "# Drop unnecessary variables\n",
    "final_df.drop(['review_id', 'funny', 'helpful'], \n",
    "              axis = 1, inplace = True)"
   ]
  },
  {
   "cell_type": "markdown",
   "id": "bb900f6a-4dde-496b-a8d9-de7db2de1620",
   "metadata": {
    "tags": []
   },
   "source": [
    "## Data Exploration"
   ]
  },
  {
   "cell_type": "markdown",
   "id": "1887b91b-9cf4-4339-9024-5fa3e8db1e03",
   "metadata": {},
   "source": [
    "### General Analysis\n",
    "\n",
    "Before diving deep into data exploration, let's first take a high-level look at our dataset. We'll examine the number of features and column names.\n",
    "\n",
    "**Important to note**: In the final_df_prep notebook, we provide detailed definitions of each variable in the dataset. If you find any labels unclear, please refer to that notebook for clarification."
   ]
  },
  {
   "cell_type": "code",
   "execution_count": 12,
   "id": "f1db4277-7fec-4550-a5d2-9cf13d5d22aa",
   "metadata": {},
   "outputs": [
    {
     "data": {
      "text/plain": [
       "(100000, 31)"
      ]
     },
     "execution_count": 12,
     "metadata": {},
     "output_type": "execute_result"
    }
   ],
   "source": [
    "final_df.shape"
   ]
  },
  {
   "cell_type": "markdown",
   "id": "a785e450-b154-4f18-b29f-e7c042381470",
   "metadata": {},
   "source": [
    "According to our sampling decision, the number of records is now equal to 100,000. The columns are 31."
   ]
  },
  {
   "cell_type": "code",
   "execution_count": 13,
   "id": "d2a030ad-b6f2-430c-932a-f98cd1ad8655",
   "metadata": {},
   "outputs": [
    {
     "name": "stdout",
     "output_type": "stream",
     "text": [
      "['y', 'date', 'app_id', 'title', 'date_release', 'rating', 'positive_ratio', 'user_reviews', 'win', 'mac', 'linux', 'price_final', 'price_original', 'discount', 'description', 'tags', 'english', 'developer', 'publisher', 'required_age', 'genres', 'steamspy_tags', 'achievements', 'average_playtime', 'median_playtime', 'owners', 'steam_deck', 'user_id', 'products', 'reviews', 'hours']\n"
     ]
    }
   ],
   "source": [
    "column_list = final_df.columns.tolist()\n",
    "print(column_list)"
   ]
  },
  {
   "cell_type": "code",
   "execution_count": 15,
   "id": "214894ac-2bdf-4356-a53d-c6167bbe190e",
   "metadata": {},
   "outputs": [
    {
     "data": {
      "text/plain": [
       "y                             bool\n",
       "date                datetime64[ns]\n",
       "app_id                       int32\n",
       "title                       string\n",
       "date_release        datetime64[ns]\n",
       "rating                    category\n",
       "positive_ratio               int16\n",
       "user_reviews                 int32\n",
       "win                           bool\n",
       "mac                           bool\n",
       "linux                         bool\n",
       "price_final                float32\n",
       "price_original             float32\n",
       "discount                   float32\n",
       "description                 string\n",
       "tags                        string\n",
       "english                       int8\n",
       "developer                 category\n",
       "publisher                 category\n",
       "required_age                  int8\n",
       "genres                      string\n",
       "steamspy_tags               string\n",
       "achievements                 int16\n",
       "average_playtime             int32\n",
       "median_playtime              int32\n",
       "owners                    category\n",
       "steam_deck                    bool\n",
       "user_id                      int32\n",
       "products                     int16\n",
       "reviews                      int16\n",
       "hours                      float32\n",
       "dtype: object"
      ]
     },
     "execution_count": 15,
     "metadata": {},
     "output_type": "execute_result"
    }
   ],
   "source": [
    "final_df.dtypes"
   ]
  },
  {
   "cell_type": "markdown",
   "id": "ff531ff0-727c-4a39-b8cb-fe6228718a77",
   "metadata": {},
   "source": [
    "Above we notice how the variables have different datatypes and, in particular, how the target \"y\" is a boolean. This will have to be considered when analysing and handling the variables."
   ]
  },
  {
   "cell_type": "markdown",
   "id": "a5fd1070-ea7c-4315-b266-ad3fa750f30c",
   "metadata": {},
   "source": [
    "### Target Variable Exploration\n",
    "\n",
    "First we explore the distribution of our target variable _y_, which is a boolean variable which signals whether a given user would recommend a given game (True) or not (False)."
   ]
  },
  {
   "cell_type": "code",
   "execution_count": 16,
   "id": "7cd7851e-6a77-4c97-ba6e-722b3c4e0552",
   "metadata": {},
   "outputs": [
    {
     "data": {
      "text/plain": [
       "<Figure size 720x360 with 0 Axes>"
      ]
     },
     "metadata": {},
     "output_type": "display_data"
    },
    {
     "data": {
      "image/png": "[encoded data removed]",
      "text/plain": [
       "<Figure size 600x400 with 2 Axes>"
      ]
     },
     "metadata": {
      "needs_background": "light"
     },
     "output_type": "display_data"
    }
   ],
   "source": [
    "# Plotting the frequency distribution of number of recommendations\n",
    "plt.figure(figsize=(10, 5))\n",
    "plt.figure(dpi=100)\n",
    "\n",
    "ax = sns.countplot(x='y', data=final_df)\n",
    "\n",
    "plt.title('Frequency Distribution of Recommendations')\n",
    "plt.xlabel('Is the game recommended?')\n",
    "plt.ylabel('Observation Count')\n",
    "\n",
    "# Calculate percentage of each category\n",
    "percentages = final_df['y'].value_counts(normalize=True) * 100\n",
    "\n",
    "# Annotate the bars with counts and percentages\n",
    "for p in ax.patches:\n",
    "    count = int(p.get_height())\n",
    "    percentage = percentages.sort_values()[int(p.get_x() + p.get_x())]\n",
    "    ax.annotate(f'{count}\\n({percentage:.2f}%)', \n",
    "                (p.get_x() + p.get_width() / 2., p.get_height() / 2),\n",
    "                ha='center', va='center', fontsize=12, color='black')\n",
    "\n",
    "# Add percentage axis\n",
    "ax2 = ax.twinx()\n",
    "ax2.set_ylim(0, 100)\n",
    "ax2.set_ylabel('Percentage of Observations')\n",
    "ax2.yaxis.set_major_formatter(mtick.PercentFormatter())\n",
    "\n",
    "plt.show()"
   ]
  },
  {
   "cell_type": "code",
   "execution_count": 17,
   "id": "9348c4b6-ff13-49ba-b8e6-4bf73821f080",
   "metadata": {},
   "outputs": [
    {
     "name": "stdout",
     "output_type": "stream",
     "text": [
      "The \u001b[1mratio of positive to negative recommendations\u001b[0m is 5.08457560085184\n"
     ]
    }
   ],
   "source": [
    "print(\"The \\033[1mratio of positive to negative recommendations\\033[0m is\", \n",
    "     final_df['y'].value_counts()[1] / final_df['y'].value_counts()[0])"
   ]
  },
  {
   "cell_type": "markdown",
   "id": "3e7c47cf-11e9-4227-97ca-3014bb2bd4e0",
   "metadata": {},
   "source": [
    "In creating a countplot, we find that the dataset is rather unbalanced. Only 16.43% of observations is negative, while the remaining 83.56% is positive. This will certainly be kept in consideration when training our model, as the unbalance must be offset. With a quick calculation, we find that the ratio of positives to negatives is 5.08 approximately."
   ]
  },
  {
   "cell_type": "markdown",
   "id": "5b8722ed-b50a-4b14-b93b-3ea9f6a23cba",
   "metadata": {},
   "source": [
    "### Steam Rating Exploration\n",
    "\n",
    "Remaining within the realm of ratings, we explore the distribution of the Steam rating system through a frequency table. "
   ]
  },
  {
   "cell_type": "code",
   "execution_count": 16,
   "id": "61d09a2d-8667-4ec7-bcc4-a63d121cffde",
   "metadata": {},
   "outputs": [
    {
     "data": {
      "text/html": [
       "<div>\n",
       "<style scoped>\n",
       "    .dataframe tbody tr th:only-of-type {\n",
       "        vertical-align: middle;\n",
       "    }\n",
       "\n",
       "    .dataframe tbody tr th {\n",
       "        vertical-align: top;\n",
       "    }\n",
       "\n",
       "    .dataframe thead th {\n",
       "        text-align: right;\n",
       "    }\n",
       "</style>\n",
       "<table border=\"1\" class=\"dataframe\">\n",
       "  <thead>\n",
       "    <tr style=\"text-align: right;\">\n",
       "      <th></th>\n",
       "      <th>Observation Count</th>\n",
       "      <th>Percentage of Observations</th>\n",
       "    </tr>\n",
       "  </thead>\n",
       "  <tbody>\n",
       "    <tr>\n",
       "      <th>Overwhelmingly Positive</th>\n",
       "      <td>23255</td>\n",
       "      <td>23.25%</td>\n",
       "    </tr>\n",
       "    <tr>\n",
       "      <th>Very Positive</th>\n",
       "      <td>62738</td>\n",
       "      <td>62.74%</td>\n",
       "    </tr>\n",
       "    <tr>\n",
       "      <th>Positive</th>\n",
       "      <td>0</td>\n",
       "      <td>0.00%</td>\n",
       "    </tr>\n",
       "    <tr>\n",
       "      <th>Mostly Positive</th>\n",
       "      <td>11689</td>\n",
       "      <td>11.69%</td>\n",
       "    </tr>\n",
       "    <tr>\n",
       "      <th>Mixed</th>\n",
       "      <td>2318</td>\n",
       "      <td>2.32%</td>\n",
       "    </tr>\n",
       "    <tr>\n",
       "      <th>Mostly Negative</th>\n",
       "      <td>0</td>\n",
       "      <td>0.00%</td>\n",
       "    </tr>\n",
       "    <tr>\n",
       "      <th>Negative</th>\n",
       "      <td>0</td>\n",
       "      <td>0.00%</td>\n",
       "    </tr>\n",
       "    <tr>\n",
       "      <th>Very Negative</th>\n",
       "      <td>0</td>\n",
       "      <td>0.00%</td>\n",
       "    </tr>\n",
       "    <tr>\n",
       "      <th>Overwhelmingly Negative</th>\n",
       "      <td>0</td>\n",
       "      <td>0.00%</td>\n",
       "    </tr>\n",
       "  </tbody>\n",
       "</table>\n",
       "</div>"
      ],
      "text/plain": [
       "                         Observation Count Percentage of Observations\n",
       "Overwhelmingly Positive              23255                     23.25%\n",
       "Very Positive                        62738                     62.74%\n",
       "Positive                                 0                      0.00%\n",
       "Mostly Positive                      11689                     11.69%\n",
       "Mixed                                 2318                      2.32%\n",
       "Mostly Negative                          0                      0.00%\n",
       "Negative                                 0                      0.00%\n",
       "Very Negative                            0                      0.00%\n",
       "Overwhelmingly Negative                  0                      0.00%"
      ]
     },
     "metadata": {},
     "output_type": "display_data"
    }
   ],
   "source": [
    "# Create a frequency table\n",
    "rating_counts = pd.DataFrame(final_df['rating'].value_counts())\n",
    "\n",
    "# Rename the columns\n",
    "rating_counts.columns = ['Observation Count']\n",
    "\n",
    "# Sort the rows based on the order of rating categories\n",
    "rating_order = [\"Overwhelmingly Positive\", \"Very Positive\", \"Positive\", \n",
    "                \"Mostly Positive\", \"Mixed\", \"Mostly Negative\", \n",
    "                \"Negative\", \"Very Negative\", \"Overwhelmingly Negative\"]\n",
    "\n",
    "rating_counts = rating_counts.reindex(rating_order)\n",
    "\n",
    "# Fill NaN with 0\n",
    "rating_counts.fillna(0, inplace = True)\n",
    "\n",
    "# Add a column for percentage of observations\n",
    "rating_counts['Percentage of Observations'] = rating_counts['Observation Count'] / len(final_df) * 100\n",
    "\n",
    "# Format the percentage column\n",
    "rating_counts['Percentage of Observations'] = rating_counts['Percentage of Observations'].map('{:.2f}%'.format)\n",
    "\n",
    "# Turn to Integer\n",
    "rating_counts[\"Observation Count\"] = [int(i) for i in rating_counts[\"Observation Count\"]]\n",
    "\n",
    "display(rating_counts)"
   ]
  },
  {
   "cell_type": "markdown",
   "id": "10c667a7-7cf8-424b-b114-933d2f82db92",
   "metadata": {},
   "source": [
    "Very interestingly, we observe that many of the rating categories are not in fact present in our data. It would seem that there are no games with overall negative reviews, while most games either have a _Very Positive_ or _Overwhelmingly Positive_ rating (appr. 85.99%). All in all, this is in line with the previous observation concerning the unbalanced dataset. \n",
    "\n",
    "Another noteworthy aspect of the dataset is that there are no _Positive_ reviews. The remaining 13.76% is split between _Mostly Positive_ and _Mixed_, with the former counting more observation than the latter. It is worth remembering that the Steam rating system assigns the _Positive_ rating to games that seem to have good ratings, but a review count which is not high enough to really \"consacrate\" its status as a very positively (or overwhlemingly positively) rated game. This perhaps informs us on the type of game which tends to be included in these datasets, focusing on larger more \"mainstream\" products rather than smaller lesser-known ones."
   ]
  },
  {
   "cell_type": "markdown",
   "id": "14462a9c-df3b-4cef-bb8e-140811917f46",
   "metadata": {},
   "source": [
    "### Owners Exploration\n",
    "\n",
    "We plot the frequency distribution of number of owners per game. The ownership data is currently subdivided in categorical strings which simply describe the range of users which any given game has. For the purposes of our model, we will later on tranform the variable through ordinal encoding, merging some of the bins together. This may simplify our model and has the added benefit of ironing out categories which may contain a number of observations far too small compared to other categories. "
   ]
  },
  {
   "cell_type": "code",
   "execution_count": 18,
   "id": "78437eb7-bd48-4f3f-94d0-2978fc53ef7d",
   "metadata": {},
   "outputs": [
    {
     "data": {
      "text/plain": [
       "<Figure size 720x360 with 0 Axes>"
      ]
     },
     "metadata": {},
     "output_type": "display_data"
    },
    {
     "data": {
      "image/png": "[encoded data removed]",
      "text/plain": [
       "<Figure size 600x400 with 1 Axes>"
      ]
     },
     "metadata": {},
     "output_type": "display_data"
    }
   ],
   "source": [
    "# Create Order\n",
    "order_list = [\"0-20\", \"20-50\", \"50-100\", \"100-200\", \"200-500\",\n",
    "              \"500-1000\", \"1000-2000\", \"2000-5000\", \"5000-10000\",\n",
    "              \"10000-20000\", \"20000-50000\", \"50000-100000\", \n",
    "              \"100000-200000\"]\n",
    "\n",
    "# Plotting the frequency distribution of owners\n",
    "sns.set_theme()\n",
    "plt.figure(figsize=(10, 5))\n",
    "plt.figure(dpi=100)\n",
    "plt.xticks(rotation=90)\n",
    "\n",
    "ax = sns.countplot(x='owners', data=final_df,\n",
    "                  order = order_list)\n",
    "\n",
    "# Add percentages to plot\n",
    "total = len(final_df)\n",
    "for p in ax.patches:\n",
    "    percentage = '{:.1f}%'.format(100 * p.get_height() / total)\n",
    "    x = p.get_x() + p.get_width() / 2\n",
    "    y = p.get_y() + p.get_height() + 30\n",
    "    ax.annotate(percentage, (x, y), ha='center', fontsize=8, color='black')\n",
    "\n",
    "plt.title(\"Frequency Distribution of Owners per Game\")\n",
    "plt.xlabel('Number of Owners')\n",
    "plt.ylabel('Number of Games')\n",
    "plt.show()"
   ]
  },
  {
   "cell_type": "markdown",
   "id": "22f3e9b1-7a94-454d-9f39-91f03cee58c5",
   "metadata": {
    "tags": []
   },
   "source": [
    "From the results, we can observe the following insights:\n",
    "\n",
    "The distribution of game ownership is very similar to a normal distribution and the largest group of games (in terms of frequency) are those owned by 2,000 to 5,000 users each. This indicates that a significant portion of games in the dataset falls within this ownership range. Very few games have an extremely high number of owners (100,000-200,000). This implies that only a small number of games become exceptionally popular and reach a large user base. There are also a considerable number of games with a small number of owners (0-20, 20-50, and 50-100). These games might be niche titles, experimental projects, or new releases that have not yet gained popularity. These results suggest that the majority of games in the dataset have a modest user base, with only a few games achieving widespread popularity."
   ]
  },
  {
   "cell_type": "markdown",
   "id": "9b2e5b89-145c-4e4d-957b-d4cbd5b20376",
   "metadata": {},
   "source": [
    "### Discount Rates\n",
    "\n",
    "Given that discounts are part of the sales process, we attempt to establish whether the _discount_ column contains a satisfactory range of values which may allow us to appropriately enhance the model (or perhaps construct some form of additional model to predict offered discount). "
   ]
  },
  {
   "cell_type": "code",
   "execution_count": 16,
   "id": "3be6c32d-ed86-4017-bc81-3d70ef6c9244",
   "metadata": {},
   "outputs": [
    {
     "name": "stdout",
     "output_type": "stream",
     "text": [
      "Number of Unique Values in discount column: 11\n"
     ]
    }
   ],
   "source": [
    "print(\"Number of Unique Values in discount column:\", len(final_df[\"discount\"].value_counts()))"
   ]
  },
  {
   "cell_type": "code",
   "execution_count": 24,
   "id": "5015bf26-9dda-4e1a-a6d2-1b0ab75a82d3",
   "metadata": {},
   "outputs": [
    {
     "data": {
      "text/html": [
       "<div>\n",
       "<style scoped>\n",
       "    .dataframe tbody tr th:only-of-type {\n",
       "        vertical-align: middle;\n",
       "    }\n",
       "\n",
       "    .dataframe tbody tr th {\n",
       "        vertical-align: top;\n",
       "    }\n",
       "\n",
       "    .dataframe thead th {\n",
       "        text-align: right;\n",
       "    }\n",
       "</style>\n",
       "<table border=\"1\" class=\"dataframe\">\n",
       "  <thead>\n",
       "    <tr style=\"text-align: right;\">\n",
       "      <th></th>\n",
       "      <th>Discount Count</th>\n",
       "      <th>Percentage</th>\n",
       "    </tr>\n",
       "  </thead>\n",
       "  <tbody>\n",
       "    <tr>\n",
       "      <th>0.0%</th>\n",
       "      <td>94171</td>\n",
       "      <td>94.171</td>\n",
       "    </tr>\n",
       "    <tr>\n",
       "      <th>50.0%</th>\n",
       "      <td>435</td>\n",
       "      <td>0.435</td>\n",
       "    </tr>\n",
       "    <tr>\n",
       "      <th>60.0%</th>\n",
       "      <td>1100</td>\n",
       "      <td>1.100</td>\n",
       "    </tr>\n",
       "    <tr>\n",
       "      <th>65.0%</th>\n",
       "      <td>208</td>\n",
       "      <td>0.208</td>\n",
       "    </tr>\n",
       "    <tr>\n",
       "      <th>66.0%</th>\n",
       "      <td>304</td>\n",
       "      <td>0.304</td>\n",
       "    </tr>\n",
       "    <tr>\n",
       "      <th>67.0%</th>\n",
       "      <td>112</td>\n",
       "      <td>0.112</td>\n",
       "    </tr>\n",
       "    <tr>\n",
       "      <th>75.0%</th>\n",
       "      <td>1618</td>\n",
       "      <td>1.618</td>\n",
       "    </tr>\n",
       "    <tr>\n",
       "      <th>80.0%</th>\n",
       "      <td>538</td>\n",
       "      <td>0.538</td>\n",
       "    </tr>\n",
       "    <tr>\n",
       "      <th>84.0%</th>\n",
       "      <td>107</td>\n",
       "      <td>0.107</td>\n",
       "    </tr>\n",
       "    <tr>\n",
       "      <th>85.0%</th>\n",
       "      <td>134</td>\n",
       "      <td>0.134</td>\n",
       "    </tr>\n",
       "    <tr>\n",
       "      <th>90.0%</th>\n",
       "      <td>1273</td>\n",
       "      <td>1.273</td>\n",
       "    </tr>\n",
       "  </tbody>\n",
       "</table>\n",
       "</div>"
      ],
      "text/plain": [
       "       Discount Count  Percentage\n",
       "0.0%            94171      94.171\n",
       "50.0%             435       0.435\n",
       "60.0%            1100       1.100\n",
       "65.0%             208       0.208\n",
       "66.0%             304       0.304\n",
       "67.0%             112       0.112\n",
       "75.0%            1618       1.618\n",
       "80.0%             538       0.538\n",
       "84.0%             107       0.107\n",
       "85.0%             134       0.134\n",
       "90.0%            1273       1.273"
      ]
     },
     "execution_count": 24,
     "metadata": {},
     "output_type": "execute_result"
    }
   ],
   "source": [
    "discount_count = final_df[\"discount\"].value_counts()\n",
    "discount_perc = final_df[\"discount\"].value_counts(normalize=True) * 100\n",
    "discount_df = pd.DataFrame({'Discount Count': discount_count, 'Percentage': discount_perc})\n",
    "discount_df.index = [f'{round(i, 2)}%' for i in discount_df.index]\n",
    "discount_df.sort_index(ascending=True, inplace=True)\n",
    "discount_df"
   ]
  },
  {
   "cell_type": "markdown",
   "id": "68d36392-6a1a-4f66-b010-ebc627e6b1a9",
   "metadata": {},
   "source": [
    "The results here are rather disappointing due to the limited range of unique values which this column takes (11), which almost makes it more of a discrete variable than continuous one. Furthermore, only discounts above 50% were retained in this dataset and they are a very large minority compared to games which were purchased at full price.\n",
    "\n",
    "It would seem that the rich range of possible discounts which were found to exist in [a_csv_creation.ipynb](a_csv_creation.ipynb) were lost in the merging process, particularly when merging the recommendations dataset. This is problematic given that the dataframe is the only truly indispensible one for our model, therefore we cannot run any join that would force games into the dataframe which it does not contain any data for. In that case, we would be foregoing the game-user pairing which is intrinsicially necessary to building our analysis. We do not believe building a model based on the games.csv alone would be useful, as discounts on these platforms are not solely based on game characteristics, but also whether a user is deemed to a good fit for a certain special offer. \n",
    "\n",
    "Given these considerations, we will later build a rule-based discount determiner as opposed to a fully automated machine-learning algorithm."
   ]
  },
  {
   "cell_type": "markdown",
   "id": "b39ba775-9ffb-4974-b107-acabf207419a",
   "metadata": {},
   "source": [
    "### **Final Prices**"
   ]
  },
  {
   "cell_type": "markdown",
   "id": "6a7ffd86-7c24-477a-acde-e7070336cd45",
   "metadata": {},
   "source": [
    "This boxplot provides us with a visual summary of the distribution of the final prices in the dataset. It shows the median, lower quartile, upper quartile, and any potential outliers in the data. This helps us to understand the range and spread of the final prices, which can provide insights into pricing strategies or market conditions. Through the boxplot, we can also identify potential outliers in the data. Those outliers may indicate errors, unusual pricing patterns, or unique market conditions. Identifying these outliers can help us better understand the data and decide how to handle them in further analysis."
   ]
  },
  {
   "cell_type": "code",
   "execution_count": 25,
   "id": "41ad7e6c-b3fe-4b4b-866e-f4da5dd83b8f",
   "metadata": {},
   "outputs": [
    {
     "data": {
      "image/png": "[encoded data removed]",
      "text/plain": [
       "<Figure size 432x288 with 1 Axes>"
      ]
     },
     "metadata": {},
     "output_type": "display_data"
    }
   ],
   "source": [
    "# boxplot of final price\n",
    "ax = final_df.boxplot('price_final')\n",
    "\n",
    "ax.set_ylabel('Price')\n",
    "ax.set_title('Box plot of game prices')\n",
    "\n",
    "stats = final_df['price_final'].describe()\n",
    "mean = final_df['price_final'].mean()\n",
    "std_dev = final_df['price_final'].std()\n",
    "\n",
    "# calculate outliers\n",
    "q1 = stats['25%']\n",
    "q3 = stats['75%']\n",
    "iqr = q3 - q1\n",
    "lower_bound = q1 - (1.5 * iqr)\n",
    "upper_bound = q3 + (1.5 * iqr)\n",
    "\n",
    "outliers = final_df[(final_df['price_final'] < lower_bound) | (final_df['price_final'] > upper_bound)]['price_final']\n",
    "num_outliers = outliers.count()\n",
    "\n",
    "# add statistics to the plot\n",
    "ax.text(0.7, 0.85, f\"Mean: {mean:.2f}\\nStd Dev: {std_dev:.2f}\\nMedian: {stats['50%']:.2f}\\nQ1: {stats['25%']:.2f}\\nQ3: {stats['75%']:.2f}\\nOutliers: {num_outliers}\",\n",
    "        transform=ax.transAxes, bbox=dict(facecolor='white', edgecolor='black', alpha=0.9))\n",
    "\n",
    "\n",
    "plt.show()"
   ]
  },
  {
   "cell_type": "markdown",
   "id": "18ec909c-f406-44d4-8bcd-6d8bad298e6e",
   "metadata": {},
   "source": [
    "The mean (average) of the data is 20.82, which means that the typical value in the dataset is around 21.32. The median (middle value) is 19.99, which suggests that half of the data points are below 19.99 and half are above it. Since the mean and median are close to each other, this implies that the data distribution might be roughly symmetrical.\n",
    "\n",
    "The standard deviation (Std. Dev.) of 16.95 indicates that the data points are spread out over a range of approximately 16.95 units from the mean. A larger standard deviation suggests greater variability in the dataset.\n",
    "\n",
    "The first quartile (Q1) is 7.99, which means that 25% of the data points are below 7.99. The third quartile (Q3) is 29.99, indicating that 75% of the data points are below 29.99.\n",
    "\n",
    "There are no outliers in this dataset, which means that all data points fall within a reasonable range and there are no extreme values that could potentially skew the interpretation."
   ]
  },
  {
   "cell_type": "markdown",
   "id": "f1e95fc9-6851-4856-aab0-6c0420e02fd2",
   "metadata": {},
   "source": [
    "### Game developers and publishers"
   ]
  },
  {
   "cell_type": "markdown",
   "id": "587b1126-6373-4060-bed2-aa65930123c0",
   "metadata": {},
   "source": [
    "In this section we explore the top 10 developers and publishers (number of games published and rating). It is important to note that developers can match or be different from publishers."
   ]
  },
  {
   "cell_type": "markdown",
   "id": "5b51578f-bb83-46af-b57b-4082a266b6b6",
   "metadata": {},
   "source": [
    "#### Top 10 ranking of number of unique games released by developers and publisher"
   ]
  },
  {
   "cell_type": "code",
   "execution_count": 19,
   "id": "796199a2-2899-47ce-ba2f-6c62bd5f8f5b",
   "metadata": {},
   "outputs": [
    {
     "data": {
      "text/html": [
       "<div>\n",
       "<style scoped>\n",
       "    .dataframe tbody tr th:only-of-type {\n",
       "        vertical-align: middle;\n",
       "    }\n",
       "\n",
       "    .dataframe tbody tr th {\n",
       "        vertical-align: top;\n",
       "    }\n",
       "\n",
       "    .dataframe thead tr th {\n",
       "        text-align: left;\n",
       "    }\n",
       "</style>\n",
       "<table border=\"1\" class=\"dataframe\">\n",
       "  <thead>\n",
       "    <tr>\n",
       "      <th></th>\n",
       "      <th colspan=\"2\" halign=\"left\">Developers</th>\n",
       "      <th colspan=\"2\" halign=\"left\">Publishers</th>\n",
       "    </tr>\n",
       "    <tr>\n",
       "      <th></th>\n",
       "      <th>developer</th>\n",
       "      <th>unique_games</th>\n",
       "      <th>publisher</th>\n",
       "      <th>unique_games</th>\n",
       "    </tr>\n",
       "  </thead>\n",
       "  <tbody>\n",
       "    <tr>\n",
       "      <th>0</th>\n",
       "      <td>Valve</td>\n",
       "      <td>6</td>\n",
       "      <td>Ubisoft</td>\n",
       "      <td>10</td>\n",
       "    </tr>\n",
       "    <tr>\n",
       "      <th>1</th>\n",
       "      <td>Bethesda Game Studios</td>\n",
       "      <td>6</td>\n",
       "      <td>Bethesda Softworks</td>\n",
       "      <td>10</td>\n",
       "    </tr>\n",
       "    <tr>\n",
       "      <th>2</th>\n",
       "      <td>KOEI TECMO GAMES CO., LTD.</td>\n",
       "      <td>4</td>\n",
       "      <td>Paradox Interactive</td>\n",
       "      <td>8</td>\n",
       "    </tr>\n",
       "    <tr>\n",
       "      <th>3</th>\n",
       "      <td>Spike Chunsoft Co., Ltd.</td>\n",
       "      <td>4</td>\n",
       "      <td>SEGA</td>\n",
       "      <td>8</td>\n",
       "    </tr>\n",
       "    <tr>\n",
       "      <th>4</th>\n",
       "      <td>CAPCOM Co., Ltd.</td>\n",
       "      <td>4</td>\n",
       "      <td>Valve</td>\n",
       "      <td>8</td>\n",
       "    </tr>\n",
       "    <tr>\n",
       "      <th>5</th>\n",
       "      <td>Paradox Development Studio</td>\n",
       "      <td>4</td>\n",
       "      <td>Spike Chunsoft Co., Ltd.</td>\n",
       "      <td>8</td>\n",
       "    </tr>\n",
       "    <tr>\n",
       "      <th>6</th>\n",
       "      <td>Square Enix</td>\n",
       "      <td>3</td>\n",
       "      <td>BANDAI NAMCO Entertainment</td>\n",
       "      <td>6</td>\n",
       "    </tr>\n",
       "    <tr>\n",
       "      <th>7</th>\n",
       "      <td>Obsidian Entertainment</td>\n",
       "      <td>3</td>\n",
       "      <td>Activision</td>\n",
       "      <td>5</td>\n",
       "    </tr>\n",
       "    <tr>\n",
       "      <th>8</th>\n",
       "      <td>Treyarch</td>\n",
       "      <td>3</td>\n",
       "      <td>Square Enix</td>\n",
       "      <td>5</td>\n",
       "    </tr>\n",
       "    <tr>\n",
       "      <th>9</th>\n",
       "      <td>Capcom</td>\n",
       "      <td>3</td>\n",
       "      <td>2K;Aspyr (Mac);Aspyr (Linux)</td>\n",
       "      <td>4</td>\n",
       "    </tr>\n",
       "  </tbody>\n",
       "</table>\n",
       "</div>"
      ],
      "text/plain": [
       "                   Developers                                 Publishers  \\\n",
       "                    developer unique_games                     publisher   \n",
       "0                       Valve            6                       Ubisoft   \n",
       "1       Bethesda Game Studios            6            Bethesda Softworks   \n",
       "2  KOEI TECMO GAMES CO., LTD.            4           Paradox Interactive   \n",
       "3    Spike Chunsoft Co., Ltd.            4                          SEGA   \n",
       "4            CAPCOM Co., Ltd.            4                         Valve   \n",
       "5  Paradox Development Studio            4      Spike Chunsoft Co., Ltd.   \n",
       "6                 Square Enix            3    BANDAI NAMCO Entertainment   \n",
       "7      Obsidian Entertainment            3                    Activision   \n",
       "8                    Treyarch            3                   Square Enix   \n",
       "9                      Capcom            3  2K;Aspyr (Mac);Aspyr (Linux)   \n",
       "\n",
       "                \n",
       "  unique_games  \n",
       "0           10  \n",
       "1           10  \n",
       "2            8  \n",
       "3            8  \n",
       "4            8  \n",
       "5            8  \n",
       "6            6  \n",
       "7            5  \n",
       "8            5  \n",
       "9            4  "
      ]
     },
     "execution_count": 19,
     "metadata": {},
     "output_type": "execute_result"
    }
   ],
   "source": [
    "# Count the number of unique games released by each developer\n",
    "developer_counts = final_df.groupby('developer')['title'].nunique()\n",
    "\n",
    "# Sort the developers by the number of unique games in descending order and get the top 10\n",
    "top_10_developers = developer_counts.sort_values(ascending=False).head(10)\n",
    "\n",
    "# Count the number of unique games released by each developer\n",
    "publisher_counts = final_df.groupby('publisher')['title'].nunique()\n",
    "\n",
    "# Sort the developers by the number of unique games in descending order and get the top 10\n",
    "top_10_publishers = publisher_counts.sort_values(ascending=False).head(10)\n",
    "\n",
    "# Combine top 10 developers and top 10 publishers DataFrames\n",
    "top_10_developers_df = top_10_developers.to_frame().reset_index().rename(columns={'title': 'unique_games'})\n",
    "top_10_publishers_df = top_10_publishers.to_frame().reset_index().rename(columns={'title': 'unique_games'})\n",
    "combined_df = pd.concat([top_10_developers_df, top_10_publishers_df], axis=1, keys=['Developers', 'Publishers'])\n",
    "\n",
    "# Print the top 10 developers and top 10 publishers side by side\n",
    "combined_df"
   ]
  },
  {
   "cell_type": "code",
   "execution_count": 20,
   "id": "d2d1a574-c5fd-49ea-98b4-232a1f223279",
   "metadata": {},
   "outputs": [
    {
     "name": "stdout",
     "output_type": "stream",
     "text": [
      "Number of unique games: 299\n"
     ]
    }
   ],
   "source": [
    "unique_games = final_df['title'].nunique()\n",
    "print(f\"Number of unique games: {unique_games}\")"
   ]
  },
  {
   "cell_type": "code",
   "execution_count": 21,
   "id": "1c82ebff-96e9-4b90-a2b7-3945c0ee5304",
   "metadata": {},
   "outputs": [
    {
     "name": "stdout",
     "output_type": "stream",
     "text": [
      "Number of unique developers: 251\n"
     ]
    }
   ],
   "source": [
    "unique_developers = final_df['developer'].nunique()\n",
    "print(f\"Number of unique developers: {unique_developers}\")\n"
   ]
  },
  {
   "cell_type": "code",
   "execution_count": 22,
   "id": "57bb6109-0abe-4ce0-b0c6-459364d90ccb",
   "metadata": {},
   "outputs": [
    {
     "name": "stdout",
     "output_type": "stream",
     "text": [
      "Number of unique publishers: 197\n"
     ]
    }
   ],
   "source": [
    "unique_publishers = final_df['publisher'].nunique()\n",
    "print(f\"Number of unique publishers: {unique_publishers}\")\n"
   ]
  },
  {
   "cell_type": "markdown",
   "id": "685082ea-0bde-4790-98b3-8a2cf73f1d4f",
   "metadata": {},
   "source": [
    "From the data, we can see that Valve and Ubisoft are the most prolific developers and publishers respectively, having developed and published 6 and 10 unique games each. Bethesda Game Studios and Bethesda Softworks follow closely with 6 unique games each.\n",
    "\n",
    "Overall, we can state that both the publishers and the developers are not highly concentrated: we can't identify major players, but small - and probably - independent ones."
   ]
  },
  {
   "cell_type": "markdown",
   "id": "c659200a-6755-40d9-a371-91fed4856600",
   "metadata": {},
   "source": [
    "#### Top 10 ranking of developers with best positive rating"
   ]
  },
  {
   "cell_type": "code",
   "execution_count": 23,
   "id": "d518ca7d-f544-4ca5-8225-16bd633e644c",
   "metadata": {},
   "outputs": [
    {
     "data": {
      "text/plain": [
       "developer\n",
       "Kristjan Skutta          98.0\n",
       "Ludeon Studios           98.0\n",
       "ConcernedApe             98.0\n",
       "Bevan McKechnie          97.0\n",
       "Matt Makes Games Inc.    97.0\n",
       "Monomi Park              97.0\n",
       "Lucas Pope               97.0\n",
       "Nicalis, Inc.            97.0\n",
       "Ninja Kiwi               97.0\n",
       "Re-Logic                 97.0\n",
       "Name: positive_ratio, dtype: float64"
      ]
     },
     "execution_count": 23,
     "metadata": {},
     "output_type": "execute_result"
    }
   ],
   "source": [
    "# Calculate the average positive rating for each developer\n",
    "average_positive_ratings = final_df.groupby('developer')['positive_ratio'].mean()\n",
    "\n",
    "# Sort the developers by the average positive rating in descending order and get the top 10\n",
    "top_10_developers_positive_ratings = average_positive_ratings.sort_values(ascending=False).head(10)\n",
    "\n",
    "# Print the top 10 developers with the best average positive ratings\n",
    "top_10_developers_positive_ratings\n"
   ]
  },
  {
   "cell_type": "markdown",
   "id": "ad177836-a1fb-4684-b116-aaba27efa3a9",
   "metadata": {},
   "source": [
    "The results of the top 10 developers with the most unique games don't match the list of the top 10 developers based on best positive ratings. Therefore, we can conclude that a developer who has developed more games does not necesarrely develop better rated games."
   ]
  },
  {
   "cell_type": "markdown",
   "id": "6f216a58-9d65-4011-a129-96d7597cecee",
   "metadata": {},
   "source": [
    "### **Relationship between Products Owned and Number of Reviews**"
   ]
  },
  {
   "cell_type": "markdown",
   "id": "21856edd-1342-4f4c-9354-7380713b7022",
   "metadata": {},
   "source": [
    "Looking at the relationship between products owned and the number of reviews can give insight into user engagement with a product."
   ]
  },
  {
   "cell_type": "code",
   "execution_count": 24,
   "id": "6e0a2ed1-e04d-4d30-9630-db547a0d0438",
   "metadata": {},
   "outputs": [
    {
     "data": {
      "image/png": "[encoded data removed]",
      "text/plain": [
       "<Figure size 864x432 with 1 Axes>"
      ]
     },
     "metadata": {},
     "output_type": "display_data"
    },
    {
     "name": "stdout",
     "output_type": "stream",
     "text": [
      "Correlation coefficient between Products Owned and Number of Reviews: 0.32\n"
     ]
    }
   ],
   "source": [
    "plt.figure(figsize=(12, 6))\n",
    "plt.scatter(final_df['products'], final_df['reviews'], alpha=0.5)\n",
    "plt.xlabel('Products Owned')\n",
    "plt.ylabel('Number of Reviews')\n",
    "plt.title('Relationship between Products Owned and Number of Reviews')\n",
    "plt.show()\n",
    "\n",
    "correlation = final_df['products'].corr(final_df['reviews'])\n",
    "print(f\"Correlation coefficient between Products Owned and Number of Reviews: {correlation:.2f}\")"
   ]
  },
  {
   "cell_type": "markdown",
   "id": "7a5d59a1-d752-464d-9985-492d8a25faed",
   "metadata": {},
   "source": [
    "The correlation coefficient of 0.32 indicates a weak positive relationship between the number of products owned and the number of reviews written. This means that, in general, as the number of products owned increases, there is a slight tendency for the number of reviews written to increase as well.\n",
    "\n",
    "Some of the reasons for this weak positive correlation could be:\n",
    "\n",
    "- **Time constraints**: users who own a large number of games might not have enough time to play all of them extensively, and thus may not feel confident in writing a review for each game.\n",
    "- **Review motivation**: different users might have varying motivations for writing reviews. Some might only write reviews for games they are passionate about, while others might review games they had a negative experience with. The number of products owned may not directly influence these motivations.\n",
    "- **Game quality and user preferences**: not all games are equally engaging, and users might only write reviews for games that align with their preferences or that they find exceptionally good or bad.\n",
    "- **Review-writing habits**: some users might be more inclined to write reviews than others, regardless of the number of games they own. For example, a user who is an active participant in the Steam community might write more reviews than someone who mainly uses the platform to play games."
   ]
  },
  {
   "cell_type": "markdown",
   "id": "b69d2725-2cb3-4593-9118-26e6e5087a35",
   "metadata": {},
   "source": [
    "### **Compatibility of Windows, Mac and Linux**"
   ]
  },
  {
   "cell_type": "markdown",
   "id": "5165057e-fff5-4455-9e59-92973e73646e",
   "metadata": {},
   "source": [
    "Analyzing the compatibility between different operating systems helps us to understand the market distribution of each platform. Each operating system has a different market share, and understanding the distribution can inform us about a potential correlation between the platforms where a game is available and its review score. "
   ]
  },
  {
   "cell_type": "code",
   "execution_count": 26,
   "id": "4f6c915e-d7c8-4366-9c3a-c0f1a7046f59",
   "metadata": {},
   "outputs": [
    {
     "data": {
      "image/png": "[encoded data removed]",
      "text/plain": [
       "<Figure size 432x288 with 1 Axes>"
      ]
     },
     "metadata": {},
     "output_type": "display_data"
    }
   ],
   "source": [
    "# Calculate the number of games supporting each combination of platforms (windows, mac, linux)\n",
    "\n",
    "win_only = ((final_df['win'] == True) & (final_df['mac'] == False) & (final_df['linux'] == False)).sum()\n",
    "win_mac = ((final_df['win'] == True) & (final_df['mac'] == True) & (final_df['linux'] == False)).sum()\n",
    "win_linux = ((final_df['win'] == True) & (final_df['mac'] == False) & (final_df['linux'] == True)).sum()\n",
    "win_mac_linux = ((final_df['win'] == True) & (final_df['mac'] == True) & (final_df['linux'] == True)).sum()\n",
    "mac_only = ((final_df['win'] == False) & (final_df['mac'] == True) & (final_df['linux'] == False)).sum()\n",
    "linux_only = ((final_df['win'] == False) & (final_df['mac'] == False) & (final_df['linux'] == True)).sum()\n",
    "\n",
    "# Platform combinations and their counts\n",
    "\n",
    "platform_combinations = {\n",
    "    \"Windows Only\": win_only,\n",
    "    \"Windows & Mac\": win_mac,\n",
    "    \"Windows & Linux\": win_linux,\n",
    "    \"Windows, Mac & Linux\": win_mac_linux,\n",
    "    \"Mac Only\": mac_only,\n",
    "    \"Linux Only\": linux_only,\n",
    "}\n",
    "\n",
    "fig, ax = plt.subplots()\n",
    "ax.bar(platform_combinations.keys(), platform_combinations.values())\n",
    "\n",
    "# Add the counts above the bars\n",
    "for i, (combination, count) in enumerate(platform_combinations.items()):\n",
    "    ax.text(i, count + 10, f\"{count}\", ha='center', va='bottom')\n",
    "\n",
    "ax.set_title(\"Number of Games Supporting Platform Combinations\")\n",
    "ax.set_xlabel(\"Platform Combinations\")\n",
    "ax.set_ylabel(\"Number of Games\")\n",
    "\n",
    "plt.xticks(rotation=45, ha='right')\n",
    "plt.tight_layout()\n",
    "plt.show()"
   ]
  },
  {
   "cell_type": "markdown",
   "id": "b48ea6df-2d24-470e-a327-d5a59f31dacb",
   "metadata": {},
   "source": [
    "The plot shows that Windows definitly dominates when it comes to the number of games it supports: indeed, most developers only develop for windows. However, there are still many games which run on 2 or more operating systems: for this reason we will later on create dummy variables for compatibility data in order to further develop interaction variables."
   ]
  },
  {
   "cell_type": "markdown",
   "id": "cfd88e12-0282-48c7-a37d-f7125038e7f3",
   "metadata": {},
   "source": [
    "### **Trends in game releases, user reviews, and ratings over time**"
   ]
  },
  {
   "cell_type": "markdown",
   "id": "e172ebbc-6162-468c-9e2e-c89a5158d779",
   "metadata": {},
   "source": [
    "Analyzing the follwing trends helps us to identify patterns in the gaming industry, such as seasonal variations in game releases and user reviews. Examining the number of games released, of user reviews and the average rating over time can help us identify whether the release date has an impact in the users' perception of a game."
   ]
  },
  {
   "cell_type": "code",
   "execution_count": 26,
   "id": "133eda2e-d126-4b60-8f29-7984edd7d40c",
   "metadata": {},
   "outputs": [
    {
     "data": {
      "image/png": "[encoded data removed]",
      "text/plain": [
       "<Figure size 864x360 with 3 Axes>"
      ]
     },
     "metadata": {},
     "output_type": "display_data"
    }
   ],
   "source": [
    "# Trends in game releases, user reviews, and ratings over time\n",
    "\n",
    "final_df['date_release'] = pd.to_datetime(final_df['date_release'])\n",
    "final_df['date'] = pd.to_datetime(final_df['date'])\n",
    "\n",
    "game_releases_by_year = final_df.groupby(final_df['date_release'].dt.year).size()\n",
    "user_reviews_by_year = final_df.groupby(final_df['date'].dt.year)['user_reviews'].size()\n",
    "\n",
    "avg_ratings_by_year = final_df.groupby(final_df['date'].dt.year)['positive_ratio'].mean()\n",
    "\n",
    "fig, (ax1, ax3) = plt.subplots(1, 2, figsize=(12, 5))\n",
    "\n",
    "# Plot Game Releases and User Reviews Over Time\n",
    "ax1.set_xlabel('Year')\n",
    "ax1.set_ylabel('Game Releases', color='tab:blue')\n",
    "ax1.plot(game_releases_by_year.index, game_releases_by_year, color='tab:blue')\n",
    "ax1.tick_params(axis='y', labelcolor='tab:blue')\n",
    "\n",
    "ax2 = ax1.twinx()\n",
    "ax2.set_ylabel('User Reviews', color='tab:red')\n",
    "ax2.plot(user_reviews_by_year.index, user_reviews_by_year, color='tab:red')\n",
    "ax2.tick_params(axis='y', labelcolor='tab:red')\n",
    "\n",
    "ax1.set_title('Game Releases per year and User Reviews per year Over Time')\n",
    "\n",
    "# Plot Average Ratings Over Time\n",
    "ax3.plot(avg_ratings_by_year.index, avg_ratings_by_year)\n",
    "ax3.set_xlabel('Year')\n",
    "ax3.set_ylabel('Average Ratings')\n",
    "ax3.set_title('Average Ratings per year Over Time')\n",
    "\n",
    "fig.tight_layout()\n",
    "plt.show()"
   ]
  },
  {
   "cell_type": "markdown",
   "id": "f4f30b4b-323d-4eb2-89cd-d89e4e034c59",
   "metadata": {},
   "source": [
    "From our plot, we can observe the following trends:\n",
    "\n",
    "- **Game releases**: The number of game releases increased from 2006 to 2018, indicating a growing interest in gaming and game development over this period. However, there was a significant drop in game releases after 2018. This drop could be due to various reasons, such as market saturation, a shift in focus towards higher-quality games with longer development cycles, or the rise of alternative gaming platforms like mobile and VR.\n",
    "- **User reviews**: The number of user reviews saw a strong increase since their introduction in 2013, peaking in 2022. This could be attributed to the growing gaming community and the increasing importance of user feedback in the gaming industry. As more people got into gaming and online platforms became more accessible, users became more likely to share their opinions and experiences. This trend suggests that user reviews have become a critical factor for gamers when deciding to purchase or play a game.\n",
    "- **Average ratings**: The average rating decreased from 2010 to 2018, possibly because of the increasing number of game releases, which might have led to a higher proportion of lower-quality games. This decrease could also be attributed to gamers becoming more critical and discerning over time. However, the average rating started to slightly increase again from 2018 to 2022. This trend might be due to the gaming industry's response to user feedback, leading to improvements in game quality and an increased focus on satisfying gamers' expectations."
   ]
  },
  {
   "cell_type": "markdown",
   "id": "20b542ce-eadc-4660-8e89-2644ae9b5cc6",
   "metadata": {},
   "source": [
    "### **Comparison of mean playtime and median playtime in terms of skewness**"
   ]
  },
  {
   "cell_type": "markdown",
   "id": "a7fa7e2d-1db2-4c3a-835b-b98fb90a8890",
   "metadata": {},
   "source": [
    "We compare mean and median playtime in terms of skewness to gain a better understanding of the distribution of the 'hours' column. This helps use to decide whether to use the mean or median for further analysis."
   ]
  },
  {
   "cell_type": "code",
   "execution_count": 27,
   "id": "e76a2b51-394b-4f45-a04e-cfabb1e97dd2",
   "metadata": {},
   "outputs": [
    {
     "name": "stdout",
     "output_type": "stream",
     "text": [
      "Number of outliers in 'hours' column: 8130\n",
      "Skewness of 'hours' column: 1.6005194187164307\n",
      "The 'hours' column is highly skewed. It is recommended to use the median for further analysis.\n"
     ]
    },
    {
     "data": {
      "image/png": "[encoded data removed]",
      "text/plain": [
       "<Figure size 432x288 with 1 Axes>"
      ]
     },
     "metadata": {},
     "output_type": "display_data"
    }
   ],
   "source": [
    "# Step 1: Assess the distribution of the 'hours' column\n",
    "skewness = final_df['hours'].skew()\n",
    "\n",
    "# Step 2: Use a for loop to identify outliers (using the IQR method)\n",
    "Q1 = final_df['hours'].quantile(0.25)\n",
    "Q3 = final_df['hours'].quantile(0.75)\n",
    "IQR = Q3 - Q1\n",
    "\n",
    "outliers = []\n",
    "for hours in final_df['hours']:\n",
    "    if (hours < (Q1 - 1.5 * IQR)) or (hours > (Q3 + 1.5 * IQR)):\n",
    "        outliers.append(hours)\n",
    "\n",
    "# Print the number of outliers and skewness value\n",
    "print(f\"Number of outliers in 'hours' column: {len(outliers)}\")\n",
    "print(f\"Skewness of 'hours' column: {skewness}\")\n",
    "\n",
    "# Step 3: Decide whether to use the median or the mean for further analysis\n",
    "if skewness > 1 or skewness < -1:\n",
    "    print(\"The 'hours' column is highly skewed. It is recommended to use the median for further analysis.\")\n",
    "else:\n",
    "    print(\"The 'hours' column is not highly skewed. It is recommended to use the mean for further analysis.\")\n",
    "\n",
    "\n",
    "# Create a kernel density estimation plot for the 'hours' column\n",
    "sns.kdeplot(final_df['hours'], shade=True)\n",
    "\n",
    "# Add labels and title\n",
    "plt.xlabel('Hours Played')\n",
    "plt.ylabel('Density')\n",
    "plt.title('Kernel Density Estimation Plot of Hours Played')\n",
    "\n",
    "# Show the plot\n",
    "plt.show()"
   ]
  },
  {
   "cell_type": "markdown",
   "id": "81ba4338-d56a-4d00-8378-25ebeb6badfd",
   "metadata": {},
   "source": [
    "There are 8130 data points in the 'hours' column that are considered outliers, based on the Interquartile Range (IQR) method. These data points lie outside the typical range of values, and they might have a significant impact on the mean and standard deviation.\n",
    "\n",
    "The 'hours' column is highly skewed. The skewness of the 'hours' column is either greater than 1, indicating that the distribution is not symmetric and has a significant tail on one side. In this case, the tail is likely on the right side, meaning that there are a few games with extremely high playtimes compared to the majority. \n",
    "\n",
    "Given these results, it is recommended to use the median instead of the mean for further analysis of the 'hours' column. The median is less sensitive to outliers and provides a more accurate representation of the central tendency of the data. By using the median, you can mitigate the impact of extreme values and better understand the typical playtime for games in the dataset."
   ]
  },
  {
   "cell_type": "markdown",
   "id": "4ebd9d60-35bf-4cad-9fa7-77598405debc",
   "metadata": {
    "tags": []
   },
   "source": [
    "## Correlation"
   ]
  },
  {
   "cell_type": "markdown",
   "id": "894fcca6-5254-46e9-a34e-a5589d272641",
   "metadata": {},
   "source": [
    "Since the variable 'y' is binary, and the dataset is composed of categorical, binary and continuous variable, we calculated the correlations with different coefficients."
   ]
  },
  {
   "cell_type": "markdown",
   "id": "45a4b6ff-ad64-4218-8acc-72ef33f1351d",
   "metadata": {
    "tags": []
   },
   "source": [
    "### Continuous Variables\n",
    "To calculate the correlation between \"y\" and continous variables, we use the point-biserial correlation coefficient. \n",
    "The point biserial correlation is the value of Pearson's product moment correlation when one of the variables is dichotomous, taking on only two possible values, and the other variable is metric (interval or ratio). The metric variable should be approximately normally distributed for both groups (_Kornbrot, Diana. \"Point biserial correlation.\" Wiley StatsRef: Statistics Reference Online (2014)_).\n",
    "\n",
    "We verify that the variables meet the requirements for the point-biserial correlation examinating each of them throught an histogram to check for the distribution."
   ]
  },
  {
   "cell_type": "code",
   "execution_count": 28,
   "id": "0000f874-3d18-4bb4-8860-4f947bd581fb",
   "metadata": {},
   "outputs": [],
   "source": [
    "# Define the numeric variables\n",
    "num_variables = ['price_final', 'positive_ratio', 'hours', 'median_playtime', 'user_reviews',\n",
    "                'price_original', 'discount', 'products', 'reviews']"
   ]
  },
  {
   "cell_type": "code",
   "execution_count": 30,
   "id": "09d4e1c6-93a2-410a-b623-8575858b244f",
   "metadata": {},
   "outputs": [
    {
     "data": {
      "image/png": "[encoded data removed]",
      "text/plain": [
       "<Figure size 576x288 with 1 Axes>"
      ]
     },
     "metadata": {},
     "output_type": "display_data"
    },
    {
     "data": {
      "image/png": "[encoded data removed]",
      "text/plain": [
       "<Figure size 576x288 with 1 Axes>"
      ]
     },
     "metadata": {},
     "output_type": "display_data"
    },
    {
     "data": {
      "image/png": "[encoded data removed]",
      "text/plain": [
       "<Figure size 576x288 with 1 Axes>"
      ]
     },
     "metadata": {},
     "output_type": "display_data"
    },
    {
     "data": {
      "image/png": "[encoded data removed]",
      "text/plain": [
       "<Figure size 576x288 with 1 Axes>"
      ]
     },
     "metadata": {},
     "output_type": "display_data"
    },
    {
     "data": {
      "image/png": "[encoded data removed]",
      "text/plain": [
       "<Figure size 576x288 with 1 Axes>"
      ]
     },
     "metadata": {},
     "output_type": "display_data"
    },
    {
     "data": {
      "image/png": "[encoded data removed]",
      "text/plain": [
       "<Figure size 576x288 with 1 Axes>"
      ]
     },
     "metadata": {},
     "output_type": "display_data"
    },
    {
     "data": {
      "image/png": "[encoded data removed]",
      "text/plain": [
       "<Figure size 576x288 with 1 Axes>"
      ]
     },
     "metadata": {},
     "output_type": "display_data"
    },
    {
     "data": {
      "image/png": "[encoded data removed]",
      "text/plain": [
       "<Figure size 576x288 with 1 Axes>"
      ]
     },
     "metadata": {},
     "output_type": "display_data"
    },
    {
     "data": {
      "image/png": "[encoded data removed]",
      "text/plain": [
       "<Figure size 576x288 with 1 Axes>"
      ]
     },
     "metadata": {},
     "output_type": "display_data"
    }
   ],
   "source": [
    "# loop through the numeric variables\n",
    "def check_req(df, variable_list):\n",
    "    for var in variable_list:\n",
    "        fig, axs = plt.subplots(1, 1, figsize=(8, 4))\n",
    "\n",
    "        axs.hist(df[var])\n",
    "        axs.set_title(\"Distribution\")\n",
    "\n",
    "        plt.suptitle(var, fontsize=14)\n",
    "        fig.subplots_adjust(top=0.8)\n",
    "\n",
    "        plt.show()\n",
    "        \n",
    "check_req(final_df, num_variables)"
   ]
  },
  {
   "cell_type": "markdown",
   "id": "a82ebb4f-bfbb-4926-8ea6-f525adf653bb",
   "metadata": {},
   "source": [
    "In most cases, the distribution of our continuous variable does not resemble a bell curve or normal distribution, which may impact the reliability of our analysis. \n",
    "\n",
    "To address this issue and better meet the assumptions of the models we employ, we have decided to normalize the data. This transformation will help account for the non-normal distribution of the continuous variable, ultimately improving the validity of our findings."
   ]
  },
  {
   "cell_type": "code",
   "execution_count": 31,
   "id": "dfa567d1-09ea-40a4-9598-75177b406ee3",
   "metadata": {},
   "outputs": [],
   "source": [
    "# Create a new DataFrame to store the normalized variables\n",
    "final_df_log = pd.DataFrame()\n",
    "\n",
    "var_to_norm = ['hours', 'median_playtime', 'user_reviews',\n",
    "                'products', 'reviews']\n",
    "\n",
    "# Loop over the variables and apply log transformation to each one\n",
    "for col in var_to_norm:\n",
    "    final_df_log[col] = np.log(final_df[col] + 0.0001)\n",
    "    \n",
    "final_df_norm = pd.concat([final_df.drop(var_to_norm, axis=1), final_df_log], axis=1)"
   ]
  },
  {
   "cell_type": "code",
   "execution_count": 32,
   "id": "8a0bc125-a517-4db7-8fcc-5686bb4340ee",
   "metadata": {},
   "outputs": [
    {
     "data": {
      "text/html": [
       "<div>\n",
       "<style scoped>\n",
       "    .dataframe tbody tr th:only-of-type {\n",
       "        vertical-align: middle;\n",
       "    }\n",
       "\n",
       "    .dataframe tbody tr th {\n",
       "        vertical-align: top;\n",
       "    }\n",
       "\n",
       "    .dataframe thead th {\n",
       "        text-align: right;\n",
       "    }\n",
       "</style>\n",
       "<table border=\"1\" class=\"dataframe\">\n",
       "  <thead>\n",
       "    <tr style=\"text-align: right;\">\n",
       "      <th></th>\n",
       "      <th>Variable name</th>\n",
       "      <th>corr</th>\n",
       "      <th>p-value</th>\n",
       "    </tr>\n",
       "  </thead>\n",
       "  <tbody>\n",
       "    <tr>\n",
       "      <th>1</th>\n",
       "      <td>positive_ratio</td>\n",
       "      <td>0.264822</td>\n",
       "      <td>0.000000e+00</td>\n",
       "    </tr>\n",
       "    <tr>\n",
       "      <th>2</th>\n",
       "      <td>hours</td>\n",
       "      <td>0.172609</td>\n",
       "      <td>0.000000e+00</td>\n",
       "    </tr>\n",
       "    <tr>\n",
       "      <th>7</th>\n",
       "      <td>products</td>\n",
       "      <td>0.085274</td>\n",
       "      <td>9.876050e-161</td>\n",
       "    </tr>\n",
       "    <tr>\n",
       "      <th>8</th>\n",
       "      <td>reviews</td>\n",
       "      <td>0.061251</td>\n",
       "      <td>9.908749e-84</td>\n",
       "    </tr>\n",
       "    <tr>\n",
       "      <th>4</th>\n",
       "      <td>user_reviews</td>\n",
       "      <td>0.034498</td>\n",
       "      <td>1.005455e-27</td>\n",
       "    </tr>\n",
       "    <tr>\n",
       "      <th>0</th>\n",
       "      <td>price_final</td>\n",
       "      <td>0.033896</td>\n",
       "      <td>8.039414e-27</td>\n",
       "    </tr>\n",
       "    <tr>\n",
       "      <th>5</th>\n",
       "      <td>price_original</td>\n",
       "      <td>0.025275</td>\n",
       "      <td>1.307406e-15</td>\n",
       "    </tr>\n",
       "    <tr>\n",
       "      <th>3</th>\n",
       "      <td>median_playtime</td>\n",
       "      <td>0.003413</td>\n",
       "      <td>2.804626e-01</td>\n",
       "    </tr>\n",
       "    <tr>\n",
       "      <th>6</th>\n",
       "      <td>discount</td>\n",
       "      <td>0.003025</td>\n",
       "      <td>3.387933e-01</td>\n",
       "    </tr>\n",
       "  </tbody>\n",
       "</table>\n",
       "</div>"
      ],
      "text/plain": [
       "     Variable name      corr        p-value\n",
       "1   positive_ratio  0.264822   0.000000e+00\n",
       "2            hours  0.172609   0.000000e+00\n",
       "7         products  0.085274  9.876050e-161\n",
       "8          reviews  0.061251   9.908749e-84\n",
       "4     user_reviews  0.034498   1.005455e-27\n",
       "0      price_final  0.033896   8.039414e-27\n",
       "5   price_original  0.025275   1.307406e-15\n",
       "3  median_playtime  0.003413   2.804626e-01\n",
       "6         discount  0.003025   3.387933e-01"
      ]
     },
     "metadata": {},
     "output_type": "display_data"
    }
   ],
   "source": [
    "# Calculate correlation based on the normalized dataset \n",
    "cor_matrix = []\n",
    "\n",
    "for variable in num_variables:\n",
    "    r_pb, p_value = pointbiserialr(final_df_norm['y'], final_df_norm[variable])\n",
    "    cor_matrix.append({'Variable name': variable, 'corr': r_pb, 'p-value': p_value})\n",
    "\n",
    "cor_df = pd.DataFrame(cor_matrix)\n",
    "cor_df['corr'] = abs(cor_df['corr'])\n",
    "display(cor_df.sort_values(by=\"corr\", ascending = False))"
   ]
  },
  {
   "cell_type": "markdown",
   "id": "705e4e78-b3f0-4273-8aeb-971cf037de8a",
   "metadata": {},
   "source": [
    "Making the correlation coefficient absolute, we can state the the variables more with a stronger correlation to y are positive_ratio and hours. The ones that follow in the dataset are still correlated (all the p-values are <0.5), but with coefficients lower than 10%.\n",
    "\n",
    "In any case, we notice that the correlations are not strong across all the variables, with values that don't go over 25%. Plus, we are aware that the normality requirement is slightly flawned."
   ]
  },
  {
   "cell_type": "markdown",
   "id": "a302749e-7e57-49c1-b964-4ffa04b5f23b",
   "metadata": {
    "tags": []
   },
   "source": [
    "### Binary variables\n",
    "Phi is a measure for the strength of an association between two categorical variables in a 2 × 2 contingency table. It is calculated by taking the chi-square value, dividing it by the sample size, and then taking the square root of this value. It varies between 0 and 1 without any negative values."
   ]
  },
  {
   "cell_type": "code",
   "execution_count": 32,
   "id": "bc336b9b-9079-4287-b964-1043074faa9b",
   "metadata": {},
   "outputs": [],
   "source": [
    "# Define binary variables\n",
    "bin_variables = ['mac', 'linux']"
   ]
  },
  {
   "cell_type": "code",
   "execution_count": 33,
   "id": "bb801010-d076-47a8-8a6f-779e03da3bf5",
   "metadata": {},
   "outputs": [
    {
     "name": "stdout",
     "output_type": "stream",
     "text": [
      "mac [False  True]\n",
      "linux [False  True]\n"
     ]
    }
   ],
   "source": [
    "# Check that they all have two different values\n",
    "for var in bin_variables: \n",
    "    print(var, final_df[var].unique())"
   ]
  },
  {
   "cell_type": "code",
   "execution_count": 34,
   "id": "6acc232a-488d-4c84-8085-8af215a1a14b",
   "metadata": {},
   "outputs": [
    {
     "data": {
      "text/html": [
       "<div>\n",
       "<style scoped>\n",
       "    .dataframe tbody tr th:only-of-type {\n",
       "        vertical-align: middle;\n",
       "    }\n",
       "\n",
       "    .dataframe tbody tr th {\n",
       "        vertical-align: top;\n",
       "    }\n",
       "\n",
       "    .dataframe thead th {\n",
       "        text-align: right;\n",
       "    }\n",
       "</style>\n",
       "<table border=\"1\" class=\"dataframe\">\n",
       "  <thead>\n",
       "    <tr style=\"text-align: right;\">\n",
       "      <th></th>\n",
       "      <th>Variable name</th>\n",
       "      <th>corr</th>\n",
       "      <th>p-value</th>\n",
       "    </tr>\n",
       "  </thead>\n",
       "  <tbody>\n",
       "    <tr>\n",
       "      <th>0</th>\n",
       "      <td>mac</td>\n",
       "      <td>0.083813</td>\n",
       "      <td>0.0</td>\n",
       "    </tr>\n",
       "    <tr>\n",
       "      <th>1</th>\n",
       "      <td>linux</td>\n",
       "      <td>0.090717</td>\n",
       "      <td>0.0</td>\n",
       "    </tr>\n",
       "  </tbody>\n",
       "</table>\n",
       "</div>"
      ],
      "text/plain": [
       "  Variable name      corr p-value\n",
       "0           mac  0.083813     0.0\n",
       "1         linux  0.090717     0.0"
      ]
     },
     "metadata": {},
     "output_type": "display_data"
    }
   ],
   "source": [
    "# Calculate their phi value and its p-value\n",
    "warnings.filterwarnings(\"ignore\", category=FutureWarning)\n",
    "\n",
    "phi_df = pd.DataFrame(columns=['Variable name', 'corr', 'p-value'])\n",
    "\n",
    "for var in bin_variables:\n",
    "    contingency = pd.crosstab(final_df['y'], final_df[var])\n",
    "    ChiSqResult = chi2_contingency(contingency)\n",
    "    n = contingency.values.sum()\n",
    "    phi = np.sqrt(ChiSqResult[0] / n)\n",
    "    p_value = ChiSqResult[1]\n",
    "    \n",
    "    phi_df = phi_df.append({'Variable name': var, 'corr': phi, 'p-value': p_value}, ignore_index=True)\n",
    "\n",
    "display(phi_df)"
   ]
  },
  {
   "cell_type": "markdown",
   "id": "0e7738c4-2920-45e1-9d69-75f3bdbfd275",
   "metadata": {},
   "source": [
    "Once again, we notice that the correlation values are very low. Plus, the p-value gets rounded to 0: this could be both because it has an extremely low value, or because the calculation of the chi-square value fails to calculate an accurate result."
   ]
  },
  {
   "cell_type": "markdown",
   "id": "26cc903e-7341-42d5-922d-ab01be1f6edd",
   "metadata": {
    "tags": []
   },
   "source": [
    "### Categorical variables\n",
    "Cramer's V is an alternative to phi in tables bigger than 2 × 2 tabulation. Cramer's V varies between 0 and 1 without any negative values. Similar to Pearson's r, a value close to 0 means no association. However, a value bigger than 0.25 is named as a very strong relationship for the Cramer's V."
   ]
  },
  {
   "cell_type": "code",
   "execution_count": 35,
   "id": "f6739779-a791-4460-9010-09bca1426693",
   "metadata": {},
   "outputs": [],
   "source": [
    "# Define categorical variables\n",
    "cat_variables = ['rating', 'developer', 'publisher', 'achievements']"
   ]
  },
  {
   "cell_type": "code",
   "execution_count": 36,
   "id": "731cef3f-d658-4134-b859-f55064e99caf",
   "metadata": {},
   "outputs": [
    {
     "name": "stdout",
     "output_type": "stream",
     "text": [
      "rating 4\n",
      "developer 251\n",
      "publisher 197\n",
      "achievements 113\n"
     ]
    }
   ],
   "source": [
    "# Check that they all have more than two different values\n",
    "for var in cat_variables: \n",
    "    print(var, final_df[var].nunique())"
   ]
  },
  {
   "cell_type": "code",
   "execution_count": 37,
   "id": "34bfd487-5609-4670-9948-ae722d044b18",
   "metadata": {},
   "outputs": [
    {
     "data": {
      "text/html": [
       "<div>\n",
       "<style scoped>\n",
       "    .dataframe tbody tr th:only-of-type {\n",
       "        vertical-align: middle;\n",
       "    }\n",
       "\n",
       "    .dataframe tbody tr th {\n",
       "        vertical-align: top;\n",
       "    }\n",
       "\n",
       "    .dataframe thead th {\n",
       "        text-align: right;\n",
       "    }\n",
       "</style>\n",
       "<table border=\"1\" class=\"dataframe\">\n",
       "  <thead>\n",
       "    <tr style=\"text-align: right;\">\n",
       "      <th></th>\n",
       "      <th>Variable name</th>\n",
       "      <th>corr</th>\n",
       "      <th>p-value</th>\n",
       "    </tr>\n",
       "  </thead>\n",
       "  <tbody>\n",
       "    <tr>\n",
       "      <th>1</th>\n",
       "      <td>developer</td>\n",
       "      <td>0.286049</td>\n",
       "      <td>0.0</td>\n",
       "    </tr>\n",
       "    <tr>\n",
       "      <th>2</th>\n",
       "      <td>publisher</td>\n",
       "      <td>0.275078</td>\n",
       "      <td>0.0</td>\n",
       "    </tr>\n",
       "    <tr>\n",
       "      <th>0</th>\n",
       "      <td>rating</td>\n",
       "      <td>0.235758</td>\n",
       "      <td>0.0</td>\n",
       "    </tr>\n",
       "    <tr>\n",
       "      <th>3</th>\n",
       "      <td>achievements</td>\n",
       "      <td>0.209119</td>\n",
       "      <td>0.0</td>\n",
       "    </tr>\n",
       "  </tbody>\n",
       "</table>\n",
       "</div>"
      ],
      "text/plain": [
       "  Variable name      corr  p-value\n",
       "1     developer  0.286049      0.0\n",
       "2     publisher  0.275078      0.0\n",
       "0        rating  0.235758      0.0\n",
       "3  achievements  0.209119      0.0"
      ]
     },
     "metadata": {},
     "output_type": "display_data"
    }
   ],
   "source": [
    "# calculate Cramer V coefficient for each variable and y\n",
    "results = []\n",
    "for var in cat_variables:\n",
    "    contingency = pd.crosstab(final_df['y'], final_df[var])\n",
    "    chi2 = chi2_contingency(contingency)[0]\n",
    "    N = len(final_df)\n",
    "    minimum_dimension = (min(contingency.shape)-1)\n",
    "    result = np.sqrt((chi2/N) / minimum_dimension)\n",
    "    p_value = chi2_contingency(contingency)[1]\n",
    "    results.append({'Variable name': var, 'corr': result, 'p-value': p_value})\n",
    "\n",
    "# create dataframe with results\n",
    "results_df = pd.DataFrame(results).sort_values(by='corr', ascending=False)\n",
    "\n",
    "display(results_df)"
   ]
  },
  {
   "cell_type": "markdown",
   "id": "89f26301-54f9-4b01-974f-b1d922b594ea",
   "metadata": {},
   "source": [
    "In this case, the correlation values are slightly higher. However, the problem with the p-value constantly equal to 0 persists."
   ]
  },
  {
   "cell_type": "markdown",
   "id": "703bf12d-d19c-44ce-bcec-f1484c933816",
   "metadata": {},
   "source": [
    "### Conclusions\n",
    "Given the low values of correlation coefficients and the small calculation flawns, we will use other techniques to assess whether we should include or not a feature in our models. In particular, we will use L1 regularization to remove completely unrelevant features and to understand which ones have a stronger impact."
   ]
  },
  {
   "cell_type": "markdown",
   "id": "354ce994-ceaa-4f4a-bd61-2e8ab681bb96",
   "metadata": {
    "id": "354ce994-ceaa-4f4a-bd61-2e8ab681bb96"
   },
   "source": [
    "## Custom Pipeline Class Construction\n",
    "\n",
    "Below we construct a group of classes which can be used in the ML Pipelines we build. They are built to be flexible and allow for experimentation with various model configurations. Some have been built and tested in the notebook creation process, but were utlimately scrapped so as to not clutter the notebook with too much exploration. We kept them in the notebook for flexibility in future efforts. Besides, we have computing power issues which prevent us from running everything in the same notebook. Unfortunately our ambitions to build models often exceeded our effective capabilities as far as hardware goes.\n",
    "\n",
    "Nevertheless, we build and experiment with some pipelines below."
   ]
  },
  {
   "cell_type": "markdown",
   "id": "672a8da8-6f62-4ce4-820b-69abe2e5c3d5",
   "metadata": {
    "id": "672a8da8-6f62-4ce4-820b-69abe2e5c3d5"
   },
   "source": [
    "### Feature Engineering\n",
    "\n",
    "#### Elapsed Time\n",
    "Here we construct the custom pipeline class ElapsedTimeTransformer, which creates a new feature called _elapsed_time_. This is the amount of time which has passed since a product's release date and the user purchasing it. This could be a proxy for how \"into a product\" a given user could be. The class takes the following arguments:\n",
    "- **add_elapsed**: Receives a boolean to determine whether to create the new column. Deafult is True\n",
    "- **drop_features**: Receives a boolean to determine whether to drop _date_ and _date_release_ columns after having created _add_elapsed_. These variables are not particularly useful for the regression so it may be worthwhile to remove them from the DataFrame. Default is True."
   ]
  },
  {
   "cell_type": "code",
   "execution_count": 79,
   "id": "75577bf5-44e7-47e9-be1c-896e4ce73002",
   "metadata": {
    "id": "75577bf5-44e7-47e9-be1c-896e4ce73002"
   },
   "outputs": [],
   "source": [
    "class ElapsedTimeTransformer(BaseEstimator, TransformerMixin):\n",
    "    def __init__(self, add_elapsed=True, drop_features=True):\n",
    "        self.add_elapsed = add_elapsed\n",
    "        self.drop_features = drop_features\n",
    "\n",
    "    def fit(self, X, y=None):\n",
    "        return self\n",
    "\n",
    "    def transform(self, X, y=None):\n",
    "        if self.add_elapsed:\n",
    "            X = X.copy()\n",
    "            elapsed_time = (pd.to_datetime(X[\"date\"]) - pd.to_datetime(X[\"date_release\"])).dt.days\n",
    "            X = X.assign(elapsed_time=elapsed_time)\n",
    "\n",
    "        if self.drop_features:\n",
    "            X = X.drop(['date', 'date_release'], axis=1)\n",
    "\n",
    "        return X"
   ]
  },
  {
   "cell_type": "markdown",
   "id": "734763fc-374c-494e-87a5-e210ec32dc8d",
   "metadata": {
    "id": "734763fc-374c-494e-87a5-e210ec32dc8d"
   },
   "source": [
    "#### Ordinally Encoded Steam Rating\n",
    "Here we construct the custom pipeline class SteamRatingEncoder. Its purpose is to transform the Steam categorical ratings in the _rating_ column (whose meanings are better explained in a_csv_creation.ipynb) into an ordinally encoded feature. However, given that the categories follow a diverging pattern (where \"Mixed\" is a middle ground and games can have varying degrees of Positive or Negative feedback), we encode them as such. We give users the possibility of encoding them with a standard scale that goes from -4 to 4, or a slightly more weighted one which attempts to numerically translate the large difference between being simply \"Mostly Positive\" (or Negative) and being \"Positive\" (or Negative). The class has the following arguments:\n",
    "\n",
    "- **drop_rating**: Receives a boolean to determine whether to drop the _rating_ categorical column. Deafult is True.\n",
    "- **standard_diverging_scale**: Receives a boolean to determine whether to use the standard scale instead of the weighted one. Default is True."
   ]
  },
  {
   "cell_type": "code",
   "execution_count": 80,
   "id": "d3eab8e0-ef73-42c8-a663-fa6dcde1e373",
   "metadata": {
    "id": "d3eab8e0-ef73-42c8-a663-fa6dcde1e373"
   },
   "outputs": [],
   "source": [
    "class SteamRatingEncoder(BaseEstimator, TransformerMixin):\n",
    "    \n",
    "    def __init__(self, drop_rating=True, standard_diverging_scale=True):\n",
    "        \n",
    "        self.drop_rating = drop_rating\n",
    "        self.standard_diverging_scale = standard_diverging_scale\n",
    "        \n",
    "        if standard_diverging_scale:\n",
    "            self.rating_dict = {\n",
    "                \"Overwhelmingly Positive\": 4,\n",
    "                \"Very Positive\": 3,\n",
    "                \"Positive\": 2,\n",
    "                \"Mostly Positive\": 1,\n",
    "                \"Mixed\": 0,\n",
    "                \"Mostly Negative\": -1,\n",
    "                \"Negative\": -2,\n",
    "                \"Very Negative\": -3,\n",
    "                \"Overwhelmingly Negative\": -4\n",
    "            }\n",
    "        else:\n",
    "            self.rating_dict = {\n",
    "                \"Overwhelmingly Positive\": 9,\n",
    "                \"Very Positive\": 8,\n",
    "                \"Positive\": 7,\n",
    "                \"Mostly Positive\": 4,\n",
    "                \"Mixed\": 0,\n",
    "                \"Mostly Negative\": -4,\n",
    "                \"Negative\": -7,\n",
    "                \"Very Negative\": -8,\n",
    "                \"Overwhelmingly Negative\": -9\n",
    "            }\n",
    "            \n",
    "        self.drop_rating = drop_rating\n",
    "\n",
    "    def fit(self, X, y=None):\n",
    "        return self\n",
    "\n",
    "    def transform(self, X, y=None):\n",
    "        X = X.copy()\n",
    "        X['rating_encoded'] = X['rating'].map(self.rating_dict)\n",
    "        if self.drop_rating:\n",
    "            X = X.drop(['rating'], axis=1)\n",
    "        return X"
   ]
  },
  {
   "cell_type": "markdown",
   "id": "f87f33bc-3381-49de-925b-d2aad3058f69",
   "metadata": {
    "id": "f87f33bc-3381-49de-925b-d2aad3058f69"
   },
   "source": [
    "#### Tendency to Review\n",
    "Here we construct the custom pipeline class TendencyToReview. Its purpose is to create a new feature _tendency_to_review_ which is the ratio between reviews by a user and number of products. It allows us to gauge how often a user leaves reviews. People tend to rarely leave reviews, as shown in the exploratory data analysis above. Consequently, the class standardises the resulting data. The arguments are the following:\n",
    "- **drop_columns**: Receives a boolean to determine whether to drop _products_ column. Deafult is True.\n",
    "- **standardize**: Receives a boolean to determine whether to standarsize the resulting data or not. Default is True."
   ]
  },
  {
   "cell_type": "code",
   "execution_count": 81,
   "id": "80603657-397a-4c4d-b664-087fd2953251",
   "metadata": {
    "id": "80603657-397a-4c4d-b664-087fd2953251"
   },
   "outputs": [],
   "source": [
    "class TendencyToReview(BaseEstimator, TransformerMixin):\n",
    "    \n",
    "    def __init__(self, drop_words=True, standardize=True):\n",
    "        \n",
    "        self.drop_words = drop_words\n",
    "        self.standardize = standardize\n",
    "\n",
    "    def fit(self, X, y=None):\n",
    "        return self\n",
    "\n",
    "    def transform(self, X, y=None):\n",
    "        X = X.copy()\n",
    "        X[\"tendency_to_review\"] = (X[\"reviews\"]) / (X[\"products\"])\n",
    "        if self.drop_words:\n",
    "            X = X.drop(\"products\", axis=1)\n",
    "        if self.standardize:\n",
    "            scaler = MinMaxScaler()\n",
    "            X[\"tendency_to_review\"] = scaler.fit_transform(X[[\"tendency_to_review\"]])\n",
    "        return X"
   ]
  },
  {
   "cell_type": "markdown",
   "id": "0dfb5a6f-31d0-4696-91c5-e6c04a9de201",
   "metadata": {
    "id": "0dfb5a6f-31d0-4696-91c5-e6c04a9de201"
   },
   "source": [
    "#### Developer and Distributor Metrics\n",
    "Here we construct the custom pipeline class DevDisTransformer. Depending on the arguments which are passed to it, it can create up to three new features. It utilizes target encoding on both the developer and distributor columns and has gives the users the possibility to also create an interaction feature between these two variables. The idea is that there may be developers which tend to put out better games than others, or distributors which tend to pick up better games than others. Sometimes, it is the collaboration between a particular developer and distributor which creates true \"videogaming gold\". Consequently, we give the possibility of creating an interaction term. The class' arguments are the following:\n",
    "- **y**: Receives the y values corresponding to the dataset being transformed. Needed for Target Encoding.\n",
    "- **encode_dev**: Receives a boolean to determine whether to target encode the _developer_ column. Deafult is True.\n",
    "- **encode_dis**: Receives a boolean to determine whether to target encode the _distributor_ column. Deafult is True.\n",
    "- **drop_cols**: Receives a boolean to determine whether to drop the _developer_ and _distributor_ columns after the transformation. Default is True.\n",
    "- **interaction**: Receives a boolean to determine whether to create interaction term or not. Default is True."
   ]
  },
  {
   "cell_type": "code",
   "execution_count": 82,
   "id": "f6a182e5-16af-4581-a617-97ce0146fe9f",
   "metadata": {
    "id": "f6a182e5-16af-4581-a617-97ce0146fe9f"
   },
   "outputs": [],
   "source": [
    "class TargetEncoderTransformer(BaseEstimator, TransformerMixin):\n",
    "    def __init__(self, y, encode_dev=True, encode_pub=True, drop_cols=True, interaction=True):\n",
    "        self.encode_dev = encode_dev\n",
    "        self.encode_pub = encode_pub\n",
    "        self.drop_cols = drop_cols\n",
    "        self.interaction = interaction\n",
    "        self.y = y\n",
    "        self.encoder_dev = TargetEncoder()\n",
    "        self.encoder_pub = TargetEncoder()\n",
    "\n",
    "    def fit(self, X, y=None):\n",
    "        if self.encode_dev:\n",
    "            self.encoder_dev.fit(X_train[\"developer\"], self.y)\n",
    "        if self.encode_pub:\n",
    "            self.encoder_pub.fit(X_train[\"publisher\"], self.y)\n",
    "        return self\n",
    "\n",
    "    def transform(self, X, y=None):\n",
    "        X = X.copy()\n",
    "        if self.encode_dev:\n",
    "            X[\"targ_encode_dev\"] = self.encoder_dev.transform(X[\"developer\"])\n",
    "        if self.encode_pub:\n",
    "            X[\"targ_encode_pub\"] = self.encoder_pub.transform(X[\"publisher\"])\n",
    "        if self.interaction:\n",
    "            X[\"dev_pub_interaction\"] = X[\"targ_encode_dev\"] * X[\"targ_encode_pub\"]\n",
    "        if self.drop_cols:\n",
    "            X.drop(columns=[\"developer\", \"publisher\"], inplace=True)\n",
    "        return X"
   ]
  },
  {
   "cell_type": "markdown",
   "id": "d91deeae-b4b1-4228-980f-bd0388e0573f",
   "metadata": {
    "id": "d91deeae-b4b1-4228-980f-bd0388e0573f"
   },
   "source": [
    "#### Genre Dummy Interactions\n",
    "\n",
    "Here we construct the custom pipeline class InteractionsTransformer. When called, it finds the maximum number of genre dummies which are positive across all rows. Based on what it finds, it calls a PolynomialFeatures with the approriate degree to capture every single interaction without making the features overly complex (e.g. by setting a higher degree than necessary to capture all interactions). The PolynomialFeatures only returns the interaction terms (no quadratic terms) and adds them to the DataFrame. This can be used for both the genre dummies and the OS dummies. The argument is only one:\n",
    "- **columns:** Receives the columns with dummies. If not specified, the list of genres in our dataset is used."
   ]
  },
  {
   "cell_type": "code",
   "execution_count": 83,
   "id": "45d2dc04-d0f9-42a5-9a98-c1a10844828a",
   "metadata": {
    "id": "45d2dc04-d0f9-42a5-9a98-c1a10844828a"
   },
   "outputs": [],
   "source": [
    "class InteractionsTransformer(BaseEstimator, TransformerMixin):\n",
    "    \n",
    "    def __init__(self, columns=None):\n",
    "        if columns is None:\n",
    "            columns = ['Action', 'Adventure', 'Animation & Modeling', 'Casual',\n",
    "                       'Design & Illustration', 'Early Access', 'Free to Play', 'Gore',\n",
    "                       'Indie', 'Massively Multiplayer', 'Nudity', 'RPG', 'Racing',\n",
    "                       'Sexual Content', 'Simulation', 'Sports', 'Strategy',\n",
    "                       'Utilities', 'Violent', 'Web Publishing']\n",
    "        self.columns = columns\n",
    "    \n",
    "    def fit(self, X, y=None):\n",
    "        # Extract the relevant columns and find the maximum number of positive dummies\n",
    "        X_cols = X.loc[:, self.columns]\n",
    "        max_positives = X_cols.sum(axis=1).max()\n",
    "        \n",
    "        # Set the degree of PolynomialFeatures to the maximum number of positive dummies\n",
    "        self.poly = PolynomialFeatures(interaction_only=True, degree=max_positives)\n",
    "        \n",
    "        # Fit the PolynomialFeatures transformer\n",
    "        self.poly.fit(X_cols)\n",
    "        \n",
    "        return self\n",
    "    \n",
    "    def transform(self, X):\n",
    "        # Apply the PolynomialFeatures transformer to the relevant columns\n",
    "        X_cols = X.loc[:, self.columns]\n",
    "        X_poly_cols = self.poly.transform(X_cols)\n",
    "        \n",
    "        # Concatenate the transformed features with the original input data\n",
    "        X_poly = np.concatenate([X.drop(columns=self.columns).values, X_poly_cols], axis=1)\n",
    "        \n",
    "        return X_poly"
   ]
  },
  {
   "cell_type": "markdown",
   "id": "eaba6398-038e-4625-9b73-58613e8d74d2",
   "metadata": {
    "id": "eaba6398-038e-4625-9b73-58613e8d74d2"
   },
   "source": [
    "#### Owners Transformer\n",
    "\n",
    "Here we construct the custom pipeline class OwnersTransformer. When called, it ordinally encodes the _owners_ column, which contains the range of owners for a given game in string format. We do not run standard ordinal encoding due to some categories having far too few datapoints. Instead, we encode according to order of magnitude of users (e.g. 0-100 users is one category, 100-1000 another, and so on). We give the possibility of creating another feature which interacts the ordinally encoded user count with the _Massively Multiplayer_ dummy. The idea is that games which rely on user interaction as a key mechanic may be more likely to receive better ratings. The class receives the following argumnets: \n",
    "- **inter_term:** Receives a boolean to determine whether to create the interaction term. True by default.\n",
    "- **owner_drop:** Receives a boolean to determine whether to drop the _owners_ column after creating the new features. True by default."
   ]
  },
  {
   "cell_type": "code",
   "execution_count": 84,
   "id": "5172c51a-2a7d-4f80-89f9-0282cb4ed9de",
   "metadata": {
    "id": "5172c51a-2a7d-4f80-89f9-0282cb4ed9de"
   },
   "outputs": [],
   "source": [
    "class OwnersTransformer(BaseEstimator, TransformerMixin):\n",
    "    \n",
    "    def __init__(self, inter_term=True, owner_drop=True):\n",
    "        self.inter_term = inter_term\n",
    "        self.owner_drop = owner_drop\n",
    "        self.ordinal_encode_dict = {\n",
    "            '0-20': 0,\n",
    "            '20-50': 0,\n",
    "            '50-100': 0,\n",
    "            '100-200': 1,\n",
    "            '200-500': 1,\n",
    "            '500-1000': 1,\n",
    "            '1000-2000': 2,\n",
    "            '2000-5000': 2,\n",
    "            '5000-10000': 2,\n",
    "            '10000-20000': 3,\n",
    "            '20000-50000': 3,\n",
    "            '50000-100000': 3,\n",
    "            '100000-200000': 4\n",
    "        }\n",
    "        \n",
    "    def fit(self, X, y=None):\n",
    "        return self\n",
    "    \n",
    "    def transform(self, X):\n",
    "        # Ordinal encoding of owners column\n",
    "        X[\"encoded_owners\"] = X[\"owners\"].map(self.ordinal_encode_dict)\n",
    "\n",
    "        # Interaction term between encoded_owners and Massive Multiplayer column\n",
    "        if self.inter_term:\n",
    "            X[\"owner_multiplayer_int\"] = X[\"encoded_owners\"] * X[\"Massively Multiplayer\"]\n",
    "\n",
    "        # Drop owners column\n",
    "        if self.owner_drop:\n",
    "            X = X.drop(\"owners\", axis=1)\n",
    "\n",
    "        return X"
   ]
  },
  {
   "cell_type": "markdown",
   "id": "653f488f-2e94-4835-926b-30643239a485",
   "metadata": {
    "id": "653f488f-2e94-4835-926b-30643239a485"
   },
   "source": [
    "### Feature Transformers"
   ]
  },
  {
   "cell_type": "markdown",
   "id": "f2be73d0-d998-4c55-9806-ff5b92207d6f",
   "metadata": {
    "id": "f2be73d0-d998-4c55-9806-ff5b92207d6f"
   },
   "source": [
    "#### Dropping Columns\n",
    "Here we construct the custom pipeline class DropColumns. It receives a list of strings and drops from the DataFrame any column whose name is in the list. This class only receives one argument:\n",
    "- **drop_columns**: Receives a list of strings telling the function which columns to drop. Default is None."
   ]
  },
  {
   "cell_type": "code",
   "execution_count": 85,
   "id": "33136849-64d4-4092-aab4-6e3c9ab3b914",
   "metadata": {
    "id": "33136849-64d4-4092-aab4-6e3c9ab3b914"
   },
   "outputs": [],
   "source": [
    "class DropColumns(BaseEstimator, TransformerMixin):\n",
    "    \n",
    "    def __init__(self, drop_columns=None):\n",
    "        self.drop_columns = drop_columns\n",
    "        \n",
    "    def fit(self, X, y=None):\n",
    "        return self\n",
    "    \n",
    "    def transform(self, X, y=None):\n",
    "        if self.drop_columns:\n",
    "            X = X.drop(columns=self.drop_columns)\n",
    "        return X"
   ]
  },
  {
   "cell_type": "markdown",
   "id": "840b3e08-e26e-484b-8de6-5e8f7c61ff5e",
   "metadata": {
    "tags": []
   },
   "source": [
    "## Additional Data Exploration after Feature Engeneering"
   ]
  },
  {
   "cell_type": "markdown",
   "id": "91aeb117-497e-45ab-9d41-5682d6963692",
   "metadata": {},
   "source": [
    "To analyze the engineered features _elapsed_time_ and _tendency_to_review_, we create a new dataset where we apply the respective pipelines defined above."
   ]
  },
  {
   "cell_type": "code",
   "execution_count": 46,
   "id": "d221f47f-226a-429e-84df-a867df50eab2",
   "metadata": {},
   "outputs": [],
   "source": [
    "# Apply the pipeline to generate the \"elapsed_time\" and the \"tendency_to_review\" variables\n",
    "analysis_pipeline = Pipeline([\n",
    "    ('tendency_to_review', TendencyToReview(drop_words=True, standardize=False)),\n",
    "    ('elapsed_time', ElapsedTimeTransformer(add_elapsed=True, drop_features=False))\n",
    "])\n",
    "\n",
    "analysis_df = analysis_pipeline.fit_transform(final_df)"
   ]
  },
  {
   "cell_type": "markdown",
   "id": "a7c9fb9a-076e-4622-abcc-c04bcc88fec6",
   "metadata": {},
   "source": [
    "### Exploration of elapsed time"
   ]
  },
  {
   "cell_type": "markdown",
   "id": "5eefac95-db66-4b1f-adf2-263b30cea9ba",
   "metadata": {},
   "source": [
    "By analyzing the elapsed time, we can gain a better understanding about when users are most likely to write reviews, whether they tend to review games soon after release or after a significant amount of time has passed."
   ]
  },
  {
   "cell_type": "code",
   "execution_count": 50,
   "id": "2ac6be20-b457-4a69-b573-8eee8999cb88",
   "metadata": {},
   "outputs": [
    {
     "data": {
      "text/plain": [
       "count    100000.000000\n",
       "mean       1326.708310\n",
       "std        1240.146153\n",
       "min       -3372.000000\n",
       "25%         468.750000\n",
       "50%        1243.000000\n",
       "75%        2001.000000\n",
       "max        8819.000000\n",
       "Name: elapsed_time, dtype: float64"
      ]
     },
     "execution_count": 50,
     "metadata": {},
     "output_type": "execute_result"
    }
   ],
   "source": [
    "analysis_df['elapsed_time'].describe()"
   ]
  },
  {
   "cell_type": "code",
   "execution_count": 59,
   "id": "209f4012-adb7-4e69-a435-42e5f92412ac",
   "metadata": {},
   "outputs": [
    {
     "data": {
      "image/png": "[encoded data removed]",
      "text/plain": [
       "<Figure size 360x360 with 1 Axes>"
      ]
     },
     "metadata": {},
     "output_type": "display_data"
    }
   ],
   "source": [
    "# Plotting the distribution of elapsed_time\n",
    "sns.displot(analysis_df['elapsed_time'])\n",
    "\n",
    "plt.title('Distribution of Elapsed Time')\n",
    "plt.xlabel('Elapsed Time in days')\n",
    "plt.ylabel('Frequency')\n",
    "\n",
    "plt.show()"
   ]
  },
  {
   "cell_type": "code",
   "execution_count": 58,
   "id": "aec8b90e-d78f-4cc6-8340-884a33786853",
   "metadata": {},
   "outputs": [
    {
     "data": {
      "text/html": [
       "<div>\n",
       "<style scoped>\n",
       "    .dataframe tbody tr th:only-of-type {\n",
       "        vertical-align: middle;\n",
       "    }\n",
       "\n",
       "    .dataframe tbody tr th {\n",
       "        vertical-align: top;\n",
       "    }\n",
       "\n",
       "    .dataframe thead th {\n",
       "        text-align: right;\n",
       "    }\n",
       "</style>\n",
       "<table border=\"1\" class=\"dataframe\">\n",
       "  <thead>\n",
       "    <tr style=\"text-align: right;\">\n",
       "      <th></th>\n",
       "      <th>y</th>\n",
       "      <th>date</th>\n",
       "      <th>app_id</th>\n",
       "      <th>title</th>\n",
       "      <th>date_release</th>\n",
       "      <th>rating</th>\n",
       "      <th>positive_ratio</th>\n",
       "      <th>user_reviews</th>\n",
       "      <th>win</th>\n",
       "      <th>mac</th>\n",
       "      <th>...</th>\n",
       "      <th>achievements</th>\n",
       "      <th>average_playtime</th>\n",
       "      <th>median_playtime</th>\n",
       "      <th>owners</th>\n",
       "      <th>steam_deck</th>\n",
       "      <th>user_id</th>\n",
       "      <th>reviews</th>\n",
       "      <th>hours</th>\n",
       "      <th>tendency_to_review</th>\n",
       "      <th>elapsed_time</th>\n",
       "    </tr>\n",
       "  </thead>\n",
       "  <tbody>\n",
       "    <tr>\n",
       "      <th>4345435</th>\n",
       "      <td>False</td>\n",
       "      <td>2017-01-27</td>\n",
       "      <td>305620</td>\n",
       "      <td>The Long Dark</td>\n",
       "      <td>2017-08-01</td>\n",
       "      <td>Very Positive</td>\n",
       "      <td>91</td>\n",
       "      <td>83883</td>\n",
       "      <td>True</td>\n",
       "      <td>True</td>\n",
       "      <td>...</td>\n",
       "      <td>40</td>\n",
       "      <td>760</td>\n",
       "      <td>227</td>\n",
       "      <td>1000-2000</td>\n",
       "      <td>True</td>\n",
       "      <td>848585</td>\n",
       "      <td>3</td>\n",
       "      <td>124.699997</td>\n",
       "      <td>0.040541</td>\n",
       "      <td>-186</td>\n",
       "    </tr>\n",
       "    <tr>\n",
       "      <th>5484968</th>\n",
       "      <td>True</td>\n",
       "      <td>2018-10-25</td>\n",
       "      <td>646570</td>\n",
       "      <td>Slay the Spire</td>\n",
       "      <td>2019-01-23</td>\n",
       "      <td>Overwhelmingly Positive</td>\n",
       "      <td>97</td>\n",
       "      <td>108391</td>\n",
       "      <td>True</td>\n",
       "      <td>True</td>\n",
       "      <td>...</td>\n",
       "      <td>43</td>\n",
       "      <td>3034</td>\n",
       "      <td>1857</td>\n",
       "      <td>1000-2000</td>\n",
       "      <td>True</td>\n",
       "      <td>4674587</td>\n",
       "      <td>3</td>\n",
       "      <td>373.500000</td>\n",
       "      <td>0.008929</td>\n",
       "      <td>-90</td>\n",
       "    </tr>\n",
       "    <tr>\n",
       "      <th>1237873</th>\n",
       "      <td>True</td>\n",
       "      <td>2017-06-28</td>\n",
       "      <td>431960</td>\n",
       "      <td>Wallpaper Engine</td>\n",
       "      <td>2018-11-01</td>\n",
       "      <td>Overwhelmingly Positive</td>\n",
       "      <td>98</td>\n",
       "      <td>572319</td>\n",
       "      <td>True</td>\n",
       "      <td>False</td>\n",
       "      <td>...</td>\n",
       "      <td>17</td>\n",
       "      <td>1731</td>\n",
       "      <td>542</td>\n",
       "      <td>5000-10000</td>\n",
       "      <td>True</td>\n",
       "      <td>4669421</td>\n",
       "      <td>4</td>\n",
       "      <td>4.300000</td>\n",
       "      <td>0.011628</td>\n",
       "      <td>-491</td>\n",
       "    </tr>\n",
       "    <tr>\n",
       "      <th>3266365</th>\n",
       "      <td>False</td>\n",
       "      <td>2016-09-04</td>\n",
       "      <td>346110</td>\n",
       "      <td>ARK: Survival Evolved</td>\n",
       "      <td>2017-08-27</td>\n",
       "      <td>Very Positive</td>\n",
       "      <td>83</td>\n",
       "      <td>465818</td>\n",
       "      <td>True</td>\n",
       "      <td>True</td>\n",
       "      <td>...</td>\n",
       "      <td>32</td>\n",
       "      <td>14154</td>\n",
       "      <td>1470</td>\n",
       "      <td>5000-10000</td>\n",
       "      <td>True</td>\n",
       "      <td>5042927</td>\n",
       "      <td>7</td>\n",
       "      <td>0.200000</td>\n",
       "      <td>0.004909</td>\n",
       "      <td>-357</td>\n",
       "    </tr>\n",
       "    <tr>\n",
       "      <th>1979623</th>\n",
       "      <td>True</td>\n",
       "      <td>2016-09-18</td>\n",
       "      <td>435150</td>\n",
       "      <td>Divinity: Original Sin 2 - Definitive Edition</td>\n",
       "      <td>2017-09-14</td>\n",
       "      <td>Overwhelmingly Positive</td>\n",
       "      <td>95</td>\n",
       "      <td>137279</td>\n",
       "      <td>True</td>\n",
       "      <td>True</td>\n",
       "      <td>...</td>\n",
       "      <td>97</td>\n",
       "      <td>2938</td>\n",
       "      <td>1953</td>\n",
       "      <td>2000-5000</td>\n",
       "      <td>True</td>\n",
       "      <td>5530028</td>\n",
       "      <td>3</td>\n",
       "      <td>11.500000</td>\n",
       "      <td>0.011364</td>\n",
       "      <td>-361</td>\n",
       "    </tr>\n",
       "    <tr>\n",
       "      <th>...</th>\n",
       "      <td>...</td>\n",
       "      <td>...</td>\n",
       "      <td>...</td>\n",
       "      <td>...</td>\n",
       "      <td>...</td>\n",
       "      <td>...</td>\n",
       "      <td>...</td>\n",
       "      <td>...</td>\n",
       "      <td>...</td>\n",
       "      <td>...</td>\n",
       "      <td>...</td>\n",
       "      <td>...</td>\n",
       "      <td>...</td>\n",
       "      <td>...</td>\n",
       "      <td>...</td>\n",
       "      <td>...</td>\n",
       "      <td>...</td>\n",
       "      <td>...</td>\n",
       "      <td>...</td>\n",
       "      <td>...</td>\n",
       "      <td>...</td>\n",
       "    </tr>\n",
       "    <tr>\n",
       "      <th>4949707</th>\n",
       "      <td>False</td>\n",
       "      <td>2020-01-02</td>\n",
       "      <td>794260</td>\n",
       "      <td>Outward Definitive Edition</td>\n",
       "      <td>2022-05-17</td>\n",
       "      <td>Mostly Positive</td>\n",
       "      <td>73</td>\n",
       "      <td>17234</td>\n",
       "      <td>True</td>\n",
       "      <td>False</td>\n",
       "      <td>...</td>\n",
       "      <td>44</td>\n",
       "      <td>1373</td>\n",
       "      <td>2315</td>\n",
       "      <td>100-200</td>\n",
       "      <td>True</td>\n",
       "      <td>2099539</td>\n",
       "      <td>2</td>\n",
       "      <td>30.200001</td>\n",
       "      <td>0.009434</td>\n",
       "      <td>-866</td>\n",
       "    </tr>\n",
       "    <tr>\n",
       "      <th>5074235</th>\n",
       "      <td>False</td>\n",
       "      <td>2018-07-28</td>\n",
       "      <td>313120</td>\n",
       "      <td>Stranded Deep</td>\n",
       "      <td>2022-08-10</td>\n",
       "      <td>Mostly Positive</td>\n",
       "      <td>75</td>\n",
       "      <td>36171</td>\n",
       "      <td>True</td>\n",
       "      <td>True</td>\n",
       "      <td>...</td>\n",
       "      <td>8</td>\n",
       "      <td>272</td>\n",
       "      <td>246</td>\n",
       "      <td>500-1000</td>\n",
       "      <td>True</td>\n",
       "      <td>5620014</td>\n",
       "      <td>13</td>\n",
       "      <td>0.600000</td>\n",
       "      <td>0.232143</td>\n",
       "      <td>-1474</td>\n",
       "    </tr>\n",
       "    <tr>\n",
       "      <th>5136551</th>\n",
       "      <td>True</td>\n",
       "      <td>2015-12-15</td>\n",
       "      <td>313120</td>\n",
       "      <td>Stranded Deep</td>\n",
       "      <td>2022-08-10</td>\n",
       "      <td>Mostly Positive</td>\n",
       "      <td>75</td>\n",
       "      <td>36171</td>\n",
       "      <td>True</td>\n",
       "      <td>True</td>\n",
       "      <td>...</td>\n",
       "      <td>8</td>\n",
       "      <td>272</td>\n",
       "      <td>246</td>\n",
       "      <td>500-1000</td>\n",
       "      <td>True</td>\n",
       "      <td>1380457</td>\n",
       "      <td>1</td>\n",
       "      <td>15.000000</td>\n",
       "      <td>0.032258</td>\n",
       "      <td>-2430</td>\n",
       "    </tr>\n",
       "    <tr>\n",
       "      <th>1132440</th>\n",
       "      <td>True</td>\n",
       "      <td>2015-06-25</td>\n",
       "      <td>252490</td>\n",
       "      <td>Rust</td>\n",
       "      <td>2018-02-08</td>\n",
       "      <td>Very Positive</td>\n",
       "      <td>87</td>\n",
       "      <td>722973</td>\n",
       "      <td>True</td>\n",
       "      <td>True</td>\n",
       "      <td>...</td>\n",
       "      <td>48</td>\n",
       "      <td>9352</td>\n",
       "      <td>2234</td>\n",
       "      <td>5000-10000</td>\n",
       "      <td>True</td>\n",
       "      <td>1105053</td>\n",
       "      <td>2</td>\n",
       "      <td>201.300003</td>\n",
       "      <td>0.037736</td>\n",
       "      <td>-959</td>\n",
       "    </tr>\n",
       "    <tr>\n",
       "      <th>740182</th>\n",
       "      <td>True</td>\n",
       "      <td>2015-12-10</td>\n",
       "      <td>291550</td>\n",
       "      <td>Brawlhalla</td>\n",
       "      <td>2017-10-17</td>\n",
       "      <td>Very Positive</td>\n",
       "      <td>83</td>\n",
       "      <td>314261</td>\n",
       "      <td>True</td>\n",
       "      <td>True</td>\n",
       "      <td>...</td>\n",
       "      <td>39</td>\n",
       "      <td>724</td>\n",
       "      <td>146</td>\n",
       "      <td>10000-20000</td>\n",
       "      <td>True</td>\n",
       "      <td>1284924</td>\n",
       "      <td>1</td>\n",
       "      <td>32.900002</td>\n",
       "      <td>0.011765</td>\n",
       "      <td>-677</td>\n",
       "    </tr>\n",
       "  </tbody>\n",
       "</table>\n",
       "<p>7629 rows × 32 columns</p>\n",
       "</div>"
      ],
      "text/plain": [
       "             y       date  app_id  \\\n",
       "4345435  False 2017-01-27  305620   \n",
       "5484968   True 2018-10-25  646570   \n",
       "1237873   True 2017-06-28  431960   \n",
       "3266365  False 2016-09-04  346110   \n",
       "1979623   True 2016-09-18  435150   \n",
       "...        ...        ...     ...   \n",
       "4949707  False 2020-01-02  794260   \n",
       "5074235  False 2018-07-28  313120   \n",
       "5136551   True 2015-12-15  313120   \n",
       "1132440   True 2015-06-25  252490   \n",
       "740182    True 2015-12-10  291550   \n",
       "\n",
       "                                                 title date_release  \\\n",
       "4345435                                  The Long Dark   2017-08-01   \n",
       "5484968                                 Slay the Spire   2019-01-23   \n",
       "1237873                               Wallpaper Engine   2018-11-01   \n",
       "3266365                          ARK: Survival Evolved   2017-08-27   \n",
       "1979623  Divinity: Original Sin 2 - Definitive Edition   2017-09-14   \n",
       "...                                                ...          ...   \n",
       "4949707                     Outward Definitive Edition   2022-05-17   \n",
       "5074235                                  Stranded Deep   2022-08-10   \n",
       "5136551                                  Stranded Deep   2022-08-10   \n",
       "1132440                                           Rust   2018-02-08   \n",
       "740182                                      Brawlhalla   2017-10-17   \n",
       "\n",
       "                          rating  positive_ratio  user_reviews   win    mac  \\\n",
       "4345435            Very Positive              91         83883  True   True   \n",
       "5484968  Overwhelmingly Positive              97        108391  True   True   \n",
       "1237873  Overwhelmingly Positive              98        572319  True  False   \n",
       "3266365            Very Positive              83        465818  True   True   \n",
       "1979623  Overwhelmingly Positive              95        137279  True   True   \n",
       "...                          ...             ...           ...   ...    ...   \n",
       "4949707          Mostly Positive              73         17234  True  False   \n",
       "5074235          Mostly Positive              75         36171  True   True   \n",
       "5136551          Mostly Positive              75         36171  True   True   \n",
       "1132440            Very Positive              87        722973  True   True   \n",
       "740182             Very Positive              83        314261  True   True   \n",
       "\n",
       "         ...  achievements  average_playtime  median_playtime       owners  \\\n",
       "4345435  ...            40               760              227    1000-2000   \n",
       "5484968  ...            43              3034             1857    1000-2000   \n",
       "1237873  ...            17              1731              542   5000-10000   \n",
       "3266365  ...            32             14154             1470   5000-10000   \n",
       "1979623  ...            97              2938             1953    2000-5000   \n",
       "...      ...           ...               ...              ...          ...   \n",
       "4949707  ...            44              1373             2315      100-200   \n",
       "5074235  ...             8               272              246     500-1000   \n",
       "5136551  ...             8               272              246     500-1000   \n",
       "1132440  ...            48              9352             2234   5000-10000   \n",
       "740182   ...            39               724              146  10000-20000   \n",
       "\n",
       "        steam_deck  user_id  reviews       hours tendency_to_review  \\\n",
       "4345435       True   848585        3  124.699997           0.040541   \n",
       "5484968       True  4674587        3  373.500000           0.008929   \n",
       "1237873       True  4669421        4    4.300000           0.011628   \n",
       "3266365       True  5042927        7    0.200000           0.004909   \n",
       "1979623       True  5530028        3   11.500000           0.011364   \n",
       "...            ...      ...      ...         ...                ...   \n",
       "4949707       True  2099539        2   30.200001           0.009434   \n",
       "5074235       True  5620014       13    0.600000           0.232143   \n",
       "5136551       True  1380457        1   15.000000           0.032258   \n",
       "1132440       True  1105053        2  201.300003           0.037736   \n",
       "740182        True  1284924        1   32.900002           0.011765   \n",
       "\n",
       "         elapsed_time  \n",
       "4345435          -186  \n",
       "5484968           -90  \n",
       "1237873          -491  \n",
       "3266365          -357  \n",
       "1979623          -361  \n",
       "...               ...  \n",
       "4949707          -866  \n",
       "5074235         -1474  \n",
       "5136551         -2430  \n",
       "1132440          -959  \n",
       "740182           -677  \n",
       "\n",
       "[7629 rows x 32 columns]"
      ]
     },
     "metadata": {},
     "output_type": "display_data"
    }
   ],
   "source": [
    "# Display games with negative elapsed_time\n",
    "negative_elapsed_time_rows = analysis_df[analysis_df[\"elapsed_time\"] < 0]\n",
    "display(negative_elapsed_time_rows)"
   ]
  },
  {
   "cell_type": "markdown",
   "id": "274c0c5f-2c63-4faf-b83e-4d1172a28ca6",
   "metadata": {},
   "source": [
    "The distribution of elapsed time looks pretty much like a normal distribution, with some peculiar aspects: \n",
    "- An high number of records have an elapsed time equal to 0. This means that the users reviewed the games on the same release date, which shows an high engagement with the community;\n",
    "- Upper outliers reach values up to 8000 days, showing that some users review - and probably also buy - games way after their release; \n",
    "- A small number of games with a negative elapsed time of nearly -2000 days. This indicates that some users submitted reviews for games prior to their official release date. It's important to consider that Steam offers early access or beta versions of certain games, allowing users to play and provide feedback ahead of the game's full launch. In such cases, reviews can be submitted even though the final release date has yet to arrive. This phenomenon might explain the presence of negative elapsed times in our dataset, reflecting the unique nature of game distribution and player engagement on the Steam platform. "
   ]
  },
  {
   "cell_type": "markdown",
   "id": "0d658119-bab9-4b1c-a50b-502a2192b208",
   "metadata": {},
   "source": [
    "### Exploration of review tendency"
   ]
  },
  {
   "cell_type": "code",
   "execution_count": 51,
   "id": "fa6b9f22-f3d2-4bab-a7a8-c0446c8be11f",
   "metadata": {},
   "outputs": [
    {
     "data": {
      "text/plain": [
       "count    100000.000000\n",
       "mean          0.070451\n",
       "std           0.186838\n",
       "min           0.000106\n",
       "25%           0.012346\n",
       "50%           0.028571\n",
       "75%           0.066667\n",
       "max           3.200000\n",
       "Name: tendency_to_review, dtype: float64"
      ]
     },
     "execution_count": 51,
     "metadata": {},
     "output_type": "execute_result"
    }
   ],
   "source": [
    "# Describe the variable\n",
    "analysis_df[\"tendency_to_review\"].describe()"
   ]
  },
  {
   "cell_type": "code",
   "execution_count": 52,
   "id": "d6b7f0ab-0602-4278-9922-132325e42069",
   "metadata": {},
   "outputs": [
    {
     "data": {
      "image/png": "[encoded data removed]",
      "text/plain": [
       "<Figure size 432x288 with 1 Axes>"
      ]
     },
     "metadata": {},
     "output_type": "display_data"
    }
   ],
   "source": [
    "# Create a histogram of review_tendency variable in the first subplot\n",
    "plt.hist(analysis_df[\"tendency_to_review\"], bins=50)\n",
    "plt.title(\"Review Tendency Distribution\")\n",
    "plt.xlabel(\"Review Tendency\")\n",
    "plt.show()"
   ]
  },
  {
   "cell_type": "markdown",
   "id": "26cbbaf0-9d90-46d7-8478-25761d733042",
   "metadata": {},
   "source": [
    "The distribution of the variable review_tendency suggests that users tend to review a relatively small number of games. The mean value of 0.054 and the median value of 0.027 indicate that on average, users leave a review for only a small fraction of the games they own. Moreover, we need to take into account that every user recorded in the dataset has left at least one review. This suggests that the value of tendency to review calculated on the whole population would be considerely lower.\n",
    "\n",
    "We can assume, as a consequence, that users only review games when they have a strong opinion about it."
   ]
  },
  {
   "cell_type": "markdown",
   "id": "e5f4102d-d569-4c38-b921-ec1f09b99679",
   "metadata": {
    "id": "1d304c4f-773c-4514-8053-4824837c31e5"
   },
   "source": [
    "## Model Construction\n",
    "\n",
    "In this section we construct and train three distinct types of model which attempt to predict whether a certain user is likely to enjoy a game or not:\n",
    "- **Model 1:** A content-based recommender system through TruncatedSVD algorithm. The output of this model could be used for predictive purposes, but will also be employed as a feature when training other models.\n",
    "- **Model 2:** A logistic regression model capable of predicting whether an individual will enjoy a certain game or not. From this model we will also extract predictions concerning the probability that a given user will enjoy the game.\n",
    "- **Model 3:** We attempt to build a better model using bagging and boosting techniques such as XGBoost.\n",
    "\n",
    "For each of these models, we explore multiple different configurations and optimize for hyperparameters. Having split the data in training and validation sets, we use cross-validation techniques to identify the optimal model configuration based on the perfomance on iteratively and arbitrarily selected test sets. We further utilize ensemble methods in order to find the best possible model.\n",
    "\n",
    "Having selected the optimal configuration for all models, we compare their performances on the validation set and elect the optimal approach to predicting user appreciation of games."
   ]
  },
  {
   "cell_type": "markdown",
   "id": "4a6e1ba7-10c3-4b8b-a2f3-bdd3e485d013",
   "metadata": {
    "id": "4a6e1ba7-10c3-4b8b-a2f3-bdd3e485d013"
   },
   "source": [
    "### Train-Validation Split\n",
    "\n",
    "Ahead of the models' creation, we split the data into train and validation sets with validation at 20% of the set."
   ]
  },
  {
   "cell_type": "code",
   "execution_count": 127,
   "id": "a90ba16d-838d-4bc9-ad7e-e7990de7718a",
   "metadata": {
    "id": "a90ba16d-838d-4bc9-ad7e-e7990de7718a"
   },
   "outputs": [],
   "source": [
    "# Split final_df into X and y\n",
    "X_var = final_df.drop('y', axis=1)\n",
    "y_var = final_df['y']\n",
    "\n",
    "# Split X and y into training and testing sets\n",
    "X_train, X_val, y_train, y_val = train_test_split(X_var, y_var, test_size=0.2, random_state=70)"
   ]
  },
  {
   "cell_type": "markdown",
   "id": "af67657d-b332-48e4-9a31-47797d2bf712",
   "metadata": {
    "id": "af67657d-b332-48e4-9a31-47797d2bf712"
   },
   "source": [
    "### Model 1: Content Similarity Score\n",
    "\n",
    "This model makes use of the of the textual_df data created in the [textual_df_prep.ipynb](\"appendix_notebooks/tetxual_df_prep.ipynb\"), please refer to it for a more in-depth understanding of how the DataFrame is built. As is shown below, its index is the _app_id_ to identify the game and it contains a single column: _full_text_. This column contains a combination of all textual data available for each game. This is comprised of the _tags_, _steamspy_tags_, _description_, and _genres_ columns. In the construction of the DataFrame in the _textual_df_prep.ipynb_, we remove stopwords and homegenize the manner in which they are written across columns. \n",
    "\n",
    "The textual_df_prep.ipynb also contains an exploratory analysis of this textual data which is not contained in this notebook for conciseness."
   ]
  },
  {
   "cell_type": "markdown",
   "id": "b601174c-5855-4cfa-b61c-067da3941b8a",
   "metadata": {
    "id": "b601174c-5855-4cfa-b61c-067da3941b8a"
   },
   "source": [
    "#### SVD-Based Game Similarity\n",
    "\n",
    "In order to identify the knee point, we use the [_kneed_](https://pypi.org/project/kneed/) library, which is based on the [_kneedle algorithm_](https://raghavan.usc.edu//papers/kneedle-simplex11.pdf) developed by Ville Satopaa, Jeannie Albrecht, David Irwin, and Barath Raghavan. We want to explain a minimum of 90% of variance, so we optimize for an elbow past that point.\n",
    "\n",
    "The code below utilizes a Pipeline to Vectorize the text using TF (as opposed to TF-IDF) in the textual_df dataset, which helps emphasize niche words, like \"2.5D,\" by considering term frequency and inverse document frequency at the same time. Popular words like \"action\" or \"multiplayer\" appear more frequently in multiple columns, which make them more common in the concatenated \"full_text\" column. Also, TF-IDF doesn't boost these popular words as much, balancing their importance with niche tags. This approach leads to better differentiation between niche and popular game genres, potentially improving recommendations and offering a diverse range of game suggestions. The Pipeline's following step is running TruncatedSVD with 300 components."
   ]
  },
  {
   "cell_type": "code",
   "execution_count": 174,
   "id": "e0a666e7-80e6-4224-beae-76bc80579c24",
   "metadata": {
    "id": "e0a666e7-80e6-4224-beae-76bc80579c24"
   },
   "outputs": [],
   "source": [
    "# Create the pipeline\n",
    "SVD_pipeline = Pipeline([\n",
    "    ('tfidf', TfidfVectorizer(stop_words='english', strip_accents='ascii', use_idf=True)),\n",
    "    ('svd', TruncatedSVD(n_components=300, random_state=70))\n",
    "])\n",
    "\n",
    "# Fit the pipeline on the full text data\n",
    "SVD_pipeline.fit(textual_df['full_text'])\n",
    "\n",
    "# Find Cumulative Explained Variance Percentage\n",
    "cum_variance = np.cumsum(SVD_pipeline.named_steps['svd'].explained_variance_ratio_)\n",
    "\n",
    "# Identify First Instance of Expl. Variance Above 90%\n",
    "ninety_threshold = np.argmax(cum_variance >= 0.9) \n",
    "\n",
    "# Obtain Explained Variance\n",
    "expl_variance = SVD_pipeline.named_steps['svd'].explained_variance_"
   ]
  },
  {
   "cell_type": "markdown",
   "id": "53f7b9c9-acec-40c4-b3be-a33f8fc95b64",
   "metadata": {
    "id": "53f7b9c9-acec-40c4-b3be-a33f8fc95b64"
   },
   "source": [
    "Having applied the Pipeline, we find the 90% threshold and identify the elbow point after it. We plot the Scree Plot."
   ]
  },
  {
   "cell_type": "code",
   "execution_count": 176,
   "id": "b9a409ac-228b-4c07-bb91-5230fb6164d0",
   "metadata": {
    "colab": {
     "base_uri": "https://localhost:8080/",
     "height": 498
    },
    "id": "b9a409ac-228b-4c07-bb91-5230fb6164d0",
    "outputId": "40039998-1906-4c3a-b1e2-933d1f077be1"
   },
   "outputs": [
    {
     "data": {
      "text/plain": [
       "[<matplotlib.lines.Line2D at 0x7f539de3e920>]"
      ]
     },
     "execution_count": 176,
     "metadata": {},
     "output_type": "execute_result"
    },
    {
     "data": {
      "image/png": "[encoded data removed]",
      "text/plain": [
       "<Figure size 640x480 with 1 Axes>"
      ]
     },
     "metadata": {},
     "output_type": "display_data"
    }
   ],
   "source": [
    "# Find Elbow Point\n",
    "kneedle = KneeLocator(np.arange(ninety_threshold + 1, len(expl_variance)+ 1), \n",
    "                      expl_variance[ninety_threshold:], curve='convex', \n",
    "                      direction='decreasing')\n",
    "\n",
    "elbow_location = kneedle.elbow\n",
    "\n",
    "# Plot Elbow\n",
    "sns.set_theme()\n",
    "\n",
    "plt.plot(np.arange(1, len(expl_variance)+1),\n",
    "         expl_variance[0:],\n",
    "         label = \"Explained Variance\")\n",
    "\n",
    "# Add Title and Axis Labels\n",
    "plt.title(\"Scree Test for SVD Analysis\")\n",
    "plt.ylabel(\"Explained Variance\")\n",
    "plt.xlabel(\"Number of Components\")\n",
    "plt.legend()\n",
    "\n",
    "# Add Annotation and Point to Show Location of 90%\n",
    "plt.annotate(f\"90% of Variance Explained at {ninety_threshold + 1} Components\", \n",
    "             xy=(ninety_threshold + 1, expl_variance[ninety_threshold]),\n",
    "             xytext=(40, (expl_variance[ninety_threshold] + 0.01)),\n",
    "             arrowprops=dict(arrowstyle=\"-\",\n",
    "                             color = \"black\"), fontsize=10)\n",
    "\n",
    "plt.plot(ninety_threshold + 1, expl_variance[ninety_threshold], \"ko\",\n",
    "         label = \"Elbow Point\")\n",
    "\n",
    "# Add Annotation and Point to Show Location of Elbow\n",
    "plt.annotate(f\"Post-90% Elbow at {elbow_location} Components\", \n",
    "             xy=(elbow_location, expl_variance[elbow_location - 1]),\n",
    "             xytext=(250, (expl_variance[elbow_location] + 0.005)),\n",
    "             arrowprops=dict(arrowstyle=\"-\",\n",
    "                             color = \"black\"), fontsize=10)\n",
    "\n",
    "plt.plot(elbow_location, expl_variance[elbow_location - 1], \"ko\",\n",
    "         label = \"Elbow Point\")"
   ]
  },
  {
   "cell_type": "markdown",
   "id": "2201915a-3c47-465f-b9da-f8fa5d143057",
   "metadata": {
    "id": "2201915a-3c47-465f-b9da-f8fa5d143057"
   },
   "source": [
    "Based on the elbow point, we build a content similarity dataframe."
   ]
  },
  {
   "cell_type": "code",
   "execution_count": 177,
   "id": "60ee5b09-29fb-4b07-8d39-dac951b1e0b9",
   "metadata": {
    "id": "60ee5b09-29fb-4b07-8d39-dac951b1e0b9"
   },
   "outputs": [],
   "source": [
    "# Compute the similarity matrix on the full text data\n",
    "reduced_features = SVD_pipeline.transform(textual_df['full_text'])[:, :elbow_location]\n",
    "\n",
    "# Calculate Similarity Matrix\n",
    "similarity_matrix = 1 - pairwise_distances(reduced_features, metric='cosine')\n",
    "\n",
    "content_similarity_df = pd.DataFrame(similarity_matrix, columns = textual_df.index,\n",
    "                            index = textual_df.index)"
   ]
  },
  {
   "cell_type": "markdown",
   "id": "11722186-4ee8-4dfe-91fe-123293d4b046",
   "metadata": {
    "id": "11722186-4ee8-4dfe-91fe-123293d4b046"
   },
   "source": [
    "#### Similarity Feature\n",
    "\n",
    "We now attempt to build a _similarity_ metric for any given game-user pairing. We do so as follows:\n",
    "- For a given user-game pairing, we identify every game the user has reviewed within the dataset.\n",
    "- We utilize the _content_similarity_df_ to identify the similarity of the assessed with every other game the user has reviewed.\n",
    "- We take the average of these, with games that were negatively reviewed by the user having their similarity rating negativised.\n",
    "\n",
    "This method, however, does not allow us to identify the similarity score of users which only have one rating in the dataset. In order to do this, we calculate a similarity metric across users. We could not do this with TruncatedSVD (matrix based on ratings) due to lack of processing power. In replacement, we calculated user similarity by constructing a rule-based network which can be found in the appendix notebooks. For users with only one rating, we identify the most similar user with more than one review and utilize him as a \"surrogate\" to calculate the similarity metric. \n",
    "\n",
    "We do not build the network model here so as to not clutter the notebook, as it is not striclty a machine learning model. We import its output from a csv, but should you wish to see how the network was constructed please refer to the appendix."
   ]
  },
  {
   "cell_type": "code",
   "execution_count": 178,
   "id": "e51cc951-ad0c-4218-9c70-8b315472df6f",
   "metadata": {
    "colab": {
     "base_uri": "https://localhost:8080/",
     "height": 407
    },
    "id": "e51cc951-ad0c-4218-9c70-8b315472df6f",
    "outputId": "72379bc4-c377-4cf3-898c-7a9597cb833e"
   },
   "outputs": [
    {
     "ename": "FileNotFoundError",
     "evalue": "ignored",
     "output_type": "error",
     "traceback": [
      "\u001b[0;31m---------------------------------------------------------------------------\u001b[0m",
      "\u001b[0;31mFileNotFoundError\u001b[0m                         Traceback (most recent call last)",
      "\u001b[0;32m<ipython-input-178-58bfe8c5e03f>\u001b[0m in \u001b[0;36m<cell line: 2>\u001b[0;34m()\u001b[0m\n\u001b[1;32m      1\u001b[0m \u001b[0;31m# Import Similarity\u001b[0m\u001b[0;34m\u001b[0m\u001b[0;34m\u001b[0m\u001b[0m\n\u001b[0;32m----> 2\u001b[0;31m \u001b[0muser_similarity_df\u001b[0m \u001b[0;34m=\u001b[0m \u001b[0mpd\u001b[0m\u001b[0;34m.\u001b[0m\u001b[0mread_csv\u001b[0m\u001b[0;34m(\u001b[0m\u001b[0;34m\"data/similar_users.csv\"\u001b[0m\u001b[0;34m)\u001b[0m\u001b[0;34m\u001b[0m\u001b[0;34m\u001b[0m\u001b[0m\n\u001b[0m\u001b[1;32m      3\u001b[0m \u001b[0;34m\u001b[0m\u001b[0m\n\u001b[1;32m      4\u001b[0m \u001b[0;31m# Identify Single-Review and Multi-Review Users\u001b[0m\u001b[0;34m\u001b[0m\u001b[0;34m\u001b[0m\u001b[0m\n\u001b[1;32m      5\u001b[0m \u001b[0mduplicated_user_ids\u001b[0m \u001b[0;34m=\u001b[0m \u001b[0mfinal_df\u001b[0m\u001b[0;34m[\u001b[0m\u001b[0mfinal_df\u001b[0m\u001b[0;34m.\u001b[0m\u001b[0mduplicated\u001b[0m\u001b[0;34m(\u001b[0m\u001b[0msubset\u001b[0m\u001b[0;34m=\u001b[0m\u001b[0;34m[\u001b[0m\u001b[0;34m\"user_id\"\u001b[0m\u001b[0;34m]\u001b[0m\u001b[0;34m,\u001b[0m \u001b[0mkeep\u001b[0m\u001b[0;34m=\u001b[0m\u001b[0;32mFalse\u001b[0m\u001b[0;34m)\u001b[0m\u001b[0;34m]\u001b[0m\u001b[0;34m[\u001b[0m\u001b[0;34m\"user_id\"\u001b[0m\u001b[0;34m]\u001b[0m\u001b[0;34m.\u001b[0m\u001b[0munique\u001b[0m\u001b[0;34m(\u001b[0m\u001b[0;34m)\u001b[0m\u001b[0;34m\u001b[0m\u001b[0;34m\u001b[0m\u001b[0m\n",
      "\u001b[0;32m/usr/local/lib/python3.10/dist-packages/pandas/util/_decorators.py\u001b[0m in \u001b[0;36mwrapper\u001b[0;34m(*args, **kwargs)\u001b[0m\n\u001b[1;32m    209\u001b[0m                 \u001b[0;32melse\u001b[0m\u001b[0;34m:\u001b[0m\u001b[0;34m\u001b[0m\u001b[0;34m\u001b[0m\u001b[0m\n\u001b[1;32m    210\u001b[0m                     \u001b[0mkwargs\u001b[0m\u001b[0;34m[\u001b[0m\u001b[0mnew_arg_name\u001b[0m\u001b[0;34m]\u001b[0m \u001b[0;34m=\u001b[0m \u001b[0mnew_arg_value\u001b[0m\u001b[0;34m\u001b[0m\u001b[0;34m\u001b[0m\u001b[0m\n\u001b[0;32m--> 211\u001b[0;31m             \u001b[0;32mreturn\u001b[0m \u001b[0mfunc\u001b[0m\u001b[0;34m(\u001b[0m\u001b[0;34m*\u001b[0m\u001b[0margs\u001b[0m\u001b[0;34m,\u001b[0m \u001b[0;34m**\u001b[0m\u001b[0mkwargs\u001b[0m\u001b[0;34m)\u001b[0m\u001b[0;34m\u001b[0m\u001b[0;34m\u001b[0m\u001b[0m\n\u001b[0m\u001b[1;32m    212\u001b[0m \u001b[0;34m\u001b[0m\u001b[0m\n\u001b[1;32m    213\u001b[0m         \u001b[0;32mreturn\u001b[0m \u001b[0mcast\u001b[0m\u001b[0;34m(\u001b[0m\u001b[0mF\u001b[0m\u001b[0;34m,\u001b[0m \u001b[0mwrapper\u001b[0m\u001b[0;34m)\u001b[0m\u001b[0;34m\u001b[0m\u001b[0;34m\u001b[0m\u001b[0m\n",
      "\u001b[0;32m/usr/local/lib/python3.10/dist-packages/pandas/util/_decorators.py\u001b[0m in \u001b[0;36mwrapper\u001b[0;34m(*args, **kwargs)\u001b[0m\n\u001b[1;32m    329\u001b[0m                     \u001b[0mstacklevel\u001b[0m\u001b[0;34m=\u001b[0m\u001b[0mfind_stack_level\u001b[0m\u001b[0;34m(\u001b[0m\u001b[0;34m)\u001b[0m\u001b[0;34m,\u001b[0m\u001b[0;34m\u001b[0m\u001b[0;34m\u001b[0m\u001b[0m\n\u001b[1;32m    330\u001b[0m                 )\n\u001b[0;32m--> 331\u001b[0;31m             \u001b[0;32mreturn\u001b[0m \u001b[0mfunc\u001b[0m\u001b[0;34m(\u001b[0m\u001b[0;34m*\u001b[0m\u001b[0margs\u001b[0m\u001b[0;34m,\u001b[0m \u001b[0;34m**\u001b[0m\u001b[0mkwargs\u001b[0m\u001b[0;34m)\u001b[0m\u001b[0;34m\u001b[0m\u001b[0;34m\u001b[0m\u001b[0m\n\u001b[0m\u001b[1;32m    332\u001b[0m \u001b[0;34m\u001b[0m\u001b[0m\n\u001b[1;32m    333\u001b[0m         \u001b[0;31m# error: \"Callable[[VarArg(Any), KwArg(Any)], Any]\" has no\u001b[0m\u001b[0;34m\u001b[0m\u001b[0;34m\u001b[0m\u001b[0m\n",
      "\u001b[0;32m/usr/local/lib/python3.10/dist-packages/pandas/io/parsers/readers.py\u001b[0m in \u001b[0;36mread_csv\u001b[0;34m(filepath_or_buffer, sep, delimiter, header, names, index_col, usecols, squeeze, prefix, mangle_dupe_cols, dtype, engine, converters, true_values, false_values, skipinitialspace, skiprows, skipfooter, nrows, na_values, keep_default_na, na_filter, verbose, skip_blank_lines, parse_dates, infer_datetime_format, keep_date_col, date_parser, dayfirst, cache_dates, iterator, chunksize, compression, thousands, decimal, lineterminator, quotechar, quoting, doublequote, escapechar, comment, encoding, encoding_errors, dialect, error_bad_lines, warn_bad_lines, on_bad_lines, delim_whitespace, low_memory, memory_map, float_precision, storage_options)\u001b[0m\n\u001b[1;32m    948\u001b[0m     \u001b[0mkwds\u001b[0m\u001b[0;34m.\u001b[0m\u001b[0mupdate\u001b[0m\u001b[0;34m(\u001b[0m\u001b[0mkwds_defaults\u001b[0m\u001b[0;34m)\u001b[0m\u001b[0;34m\u001b[0m\u001b[0;34m\u001b[0m\u001b[0m\n\u001b[1;32m    949\u001b[0m \u001b[0;34m\u001b[0m\u001b[0m\n\u001b[0;32m--> 950\u001b[0;31m     \u001b[0;32mreturn\u001b[0m \u001b[0m_read\u001b[0m\u001b[0;34m(\u001b[0m\u001b[0mfilepath_or_buffer\u001b[0m\u001b[0;34m,\u001b[0m \u001b[0mkwds\u001b[0m\u001b[0;34m)\u001b[0m\u001b[0;34m\u001b[0m\u001b[0;34m\u001b[0m\u001b[0m\n\u001b[0m\u001b[1;32m    951\u001b[0m \u001b[0;34m\u001b[0m\u001b[0m\n\u001b[1;32m    952\u001b[0m \u001b[0;34m\u001b[0m\u001b[0m\n",
      "\u001b[0;32m/usr/local/lib/python3.10/dist-packages/pandas/io/parsers/readers.py\u001b[0m in \u001b[0;36m_read\u001b[0;34m(filepath_or_buffer, kwds)\u001b[0m\n\u001b[1;32m    603\u001b[0m \u001b[0;34m\u001b[0m\u001b[0m\n\u001b[1;32m    604\u001b[0m     \u001b[0;31m# Create the parser.\u001b[0m\u001b[0;34m\u001b[0m\u001b[0;34m\u001b[0m\u001b[0m\n\u001b[0;32m--> 605\u001b[0;31m     \u001b[0mparser\u001b[0m \u001b[0;34m=\u001b[0m \u001b[0mTextFileReader\u001b[0m\u001b[0;34m(\u001b[0m\u001b[0mfilepath_or_buffer\u001b[0m\u001b[0;34m,\u001b[0m \u001b[0;34m**\u001b[0m\u001b[0mkwds\u001b[0m\u001b[0;34m)\u001b[0m\u001b[0;34m\u001b[0m\u001b[0;34m\u001b[0m\u001b[0m\n\u001b[0m\u001b[1;32m    606\u001b[0m \u001b[0;34m\u001b[0m\u001b[0m\n\u001b[1;32m    607\u001b[0m     \u001b[0;32mif\u001b[0m \u001b[0mchunksize\u001b[0m \u001b[0;32mor\u001b[0m \u001b[0miterator\u001b[0m\u001b[0;34m:\u001b[0m\u001b[0;34m\u001b[0m\u001b[0;34m\u001b[0m\u001b[0m\n",
      "\u001b[0;32m/usr/local/lib/python3.10/dist-packages/pandas/io/parsers/readers.py\u001b[0m in \u001b[0;36m__init__\u001b[0;34m(self, f, engine, **kwds)\u001b[0m\n\u001b[1;32m   1440\u001b[0m \u001b[0;34m\u001b[0m\u001b[0m\n\u001b[1;32m   1441\u001b[0m         \u001b[0mself\u001b[0m\u001b[0;34m.\u001b[0m\u001b[0mhandles\u001b[0m\u001b[0;34m:\u001b[0m \u001b[0mIOHandles\u001b[0m \u001b[0;34m|\u001b[0m \u001b[0;32mNone\u001b[0m \u001b[0;34m=\u001b[0m \u001b[0;32mNone\u001b[0m\u001b[0;34m\u001b[0m\u001b[0;34m\u001b[0m\u001b[0m\n\u001b[0;32m-> 1442\u001b[0;31m         \u001b[0mself\u001b[0m\u001b[0;34m.\u001b[0m\u001b[0m_engine\u001b[0m \u001b[0;34m=\u001b[0m \u001b[0mself\u001b[0m\u001b[0;34m.\u001b[0m\u001b[0m_make_engine\u001b[0m\u001b[0;34m(\u001b[0m\u001b[0mf\u001b[0m\u001b[0;34m,\u001b[0m \u001b[0mself\u001b[0m\u001b[0;34m.\u001b[0m\u001b[0mengine\u001b[0m\u001b[0;34m)\u001b[0m\u001b[0;34m\u001b[0m\u001b[0;34m\u001b[0m\u001b[0m\n\u001b[0m\u001b[1;32m   1443\u001b[0m \u001b[0;34m\u001b[0m\u001b[0m\n\u001b[1;32m   1444\u001b[0m     \u001b[0;32mdef\u001b[0m \u001b[0mclose\u001b[0m\u001b[0;34m(\u001b[0m\u001b[0mself\u001b[0m\u001b[0;34m)\u001b[0m \u001b[0;34m->\u001b[0m \u001b[0;32mNone\u001b[0m\u001b[0;34m:\u001b[0m\u001b[0;34m\u001b[0m\u001b[0;34m\u001b[0m\u001b[0m\n",
      "\u001b[0;32m/usr/local/lib/python3.10/dist-packages/pandas/io/parsers/readers.py\u001b[0m in \u001b[0;36m_make_engine\u001b[0;34m(self, f, engine)\u001b[0m\n\u001b[1;32m   1733\u001b[0m                 \u001b[0;32mif\u001b[0m \u001b[0;34m\"b\"\u001b[0m \u001b[0;32mnot\u001b[0m \u001b[0;32min\u001b[0m \u001b[0mmode\u001b[0m\u001b[0;34m:\u001b[0m\u001b[0;34m\u001b[0m\u001b[0;34m\u001b[0m\u001b[0m\n\u001b[1;32m   1734\u001b[0m                     \u001b[0mmode\u001b[0m \u001b[0;34m+=\u001b[0m \u001b[0;34m\"b\"\u001b[0m\u001b[0;34m\u001b[0m\u001b[0;34m\u001b[0m\u001b[0m\n\u001b[0;32m-> 1735\u001b[0;31m             self.handles = get_handle(\n\u001b[0m\u001b[1;32m   1736\u001b[0m                 \u001b[0mf\u001b[0m\u001b[0;34m,\u001b[0m\u001b[0;34m\u001b[0m\u001b[0;34m\u001b[0m\u001b[0m\n\u001b[1;32m   1737\u001b[0m                 \u001b[0mmode\u001b[0m\u001b[0;34m,\u001b[0m\u001b[0;34m\u001b[0m\u001b[0;34m\u001b[0m\u001b[0m\n",
      "\u001b[0;32m/usr/local/lib/python3.10/dist-packages/pandas/io/common.py\u001b[0m in \u001b[0;36mget_handle\u001b[0;34m(path_or_buf, mode, encoding, compression, memory_map, is_text, errors, storage_options)\u001b[0m\n\u001b[1;32m    854\u001b[0m         \u001b[0;32mif\u001b[0m \u001b[0mioargs\u001b[0m\u001b[0;34m.\u001b[0m\u001b[0mencoding\u001b[0m \u001b[0;32mand\u001b[0m \u001b[0;34m\"b\"\u001b[0m \u001b[0;32mnot\u001b[0m \u001b[0;32min\u001b[0m \u001b[0mioargs\u001b[0m\u001b[0;34m.\u001b[0m\u001b[0mmode\u001b[0m\u001b[0;34m:\u001b[0m\u001b[0;34m\u001b[0m\u001b[0;34m\u001b[0m\u001b[0m\n\u001b[1;32m    855\u001b[0m             \u001b[0;31m# Encoding\u001b[0m\u001b[0;34m\u001b[0m\u001b[0;34m\u001b[0m\u001b[0m\n\u001b[0;32m--> 856\u001b[0;31m             handle = open(\n\u001b[0m\u001b[1;32m    857\u001b[0m                 \u001b[0mhandle\u001b[0m\u001b[0;34m,\u001b[0m\u001b[0;34m\u001b[0m\u001b[0;34m\u001b[0m\u001b[0m\n\u001b[1;32m    858\u001b[0m                 \u001b[0mioargs\u001b[0m\u001b[0;34m.\u001b[0m\u001b[0mmode\u001b[0m\u001b[0;34m,\u001b[0m\u001b[0;34m\u001b[0m\u001b[0;34m\u001b[0m\u001b[0m\n",
      "\u001b[0;31mFileNotFoundError\u001b[0m: [Errno 2] No such file or directory: 'data/similar_users.csv'"
     ]
    }
   ],
   "source": [
    "# Import Similarity\n",
    "user_similarity_df = pd.read_csv(\"data/similar_users.csv\")\n",
    "\n",
    "# Identify Single-Review and Multi-Review Users\n",
    "duplicated_user_ids = final_df[final_df.duplicated(subset=[\"user_id\"], keep=False)][\"user_id\"].unique()\n",
    "multi_review = final_df[final_df[\"user_id\"].isin(duplicated_user_ids)].reset_index(drop=True)[[\"user_id\", \"app_id\", \"y\"]]\n",
    "\n",
    "duplicated_user_ids = final_df[final_df.duplicated(subset=[\"user_id\"], keep=False)][\"user_id\"].unique()\n",
    "single_review = final_df[final_df[\"user_id\"].isin(set(final_df[\"user_id\"]) - set(duplicated_user_ids))]\\\n",
    ".reset_index(drop=True)[[\"user_id\", \"app_id\", \"y\"]]"
   ]
  },
  {
   "cell_type": "code",
   "execution_count": null,
   "id": "IYZ3uLoagHQN",
   "metadata": {
    "id": "IYZ3uLoagHQN"
   },
   "outputs": [],
   "source": [
    "# Find Average Similarity\n",
    "def AverageSimilarityCalculator(user, game):\n",
    "    \n",
    "    user_ratings = multi_review[multi_review[\"user_id\"] == user]\n",
    "    other_games = user_ratings[user_ratings['app_id'] != game]\n",
    "    \n",
    "    other_games_titles = other_games['app_id']\n",
    "    filtered_game_similarity_df = content_similarity_df.loc[game, other_games_titles] * other_games.set_index('app_id')[\"y\"]\n",
    "    \n",
    "    return filtered_game_similarity_df.mean()\n",
    "\n",
    "# Create Compiler of Avg Sim\n",
    "def SimilarityGenerator(users = multi_review, \n",
    "                     similarity = content_similarity_df):\n",
    "    \n",
    "    similarities = []\n",
    "    for i in range(0, len(users)):\n",
    "        \n",
    "        sim = AverageSimilarityCalculator(users.at[i, 'user_id'],\n",
    "                      users.at[i, 'app_id'])\n",
    "        \n",
    "        similarities.append(sim)\n",
    "    \n",
    "    return similarities\n",
    "\n",
    "# Generate Similarities\n",
    "multi_similarity = SimilarityGenerator()\n",
    "multi_review[\"similarity\"] = multi_similarity"
   ]
  },
  {
   "cell_type": "code",
   "execution_count": null,
   "id": "ynmYci4lgK68",
   "metadata": {
    "id": "ynmYci4lgK68"
   },
   "outputs": [],
   "source": [
    "# Find Most Similary User\n",
    "def UserPairer(user,\n",
    "              user_similarity = user_similarity_df):\n",
    "    \n",
    "    return int(user_similarity_df[user_similarity_df[\"user_id\"] == user].iloc[0, 1][1:])\n",
    "    \n",
    "# Create Similarity Imputer\n",
    "def SimilarityImputer(users = single_review):\n",
    "    \n",
    "    sim_list = []\n",
    "    for i in range(0, len(users)):\n",
    "        similar_user = UserPairer(users.at[i, \"user_id\"])\n",
    "        \n",
    "        sim = AverageSimilarityCalculator(similar_user,\n",
    "                                   users.at[i, \"app_id\"])\n",
    "        \n",
    "        sim_list.append(sim_list)\n",
    "    \n",
    "    return sim_list\n",
    "\n",
    "# Generate Similarities\n",
    "single_imputer = SimilarityImputer()\n",
    "single_review[\"similarity\"] = single_imputer"
   ]
  },
  {
   "cell_type": "code",
   "execution_count": null,
   "id": "JfwOe3n6gkSz",
   "metadata": {
    "id": "JfwOe3n6gkSz"
   },
   "outputs": [],
   "source": [
    "similarity_merge = pd.concat(single_review, multi_review)\n",
    "\n",
    "final_df = final_df.merge(similarity_merge, on=['app_id', 'user_id'])"
   ]
  },
  {
   "cell_type": "markdown",
   "id": "18e051b6-73e4-40fe-88ec-10d1e420e219",
   "metadata": {
    "id": "18e051b6-73e4-40fe-88ec-10d1e420e219"
   },
   "source": [
    "After this, we add the similarity as a column to single_review and multi_review and merge based on app_id and game_id."
   ]
  },
  {
   "cell_type": "markdown",
   "id": "12548407-32cb-4120-9cf8-0cea2d9b98bd",
   "metadata": {
    "id": "4d0fb828-22fb-4f60-aeae-9ccb8c444406"
   },
   "source": [
    "### Model 2: Logistic Regression\n",
    "\n",
    "**Lasso Regression:**\n",
    "\n",
    "We first run a model with _l1_ regularization due to its stronger penalty which can drive coefficients with little relevance down to 0. We optimize the hyperparamters C and class_weight with GridSearch.\n",
    "\n",
    "We use log_loss as main scoring metric because we want to reward the model for predicting a percentage as close as possible to a True Positive. In assessing the model we print Accuracy, Log Loss, and F1.\n",
    "\n",
    "For model 2, we use Log Loss and F1 as our primary metrics for a few reasons:\n",
    "\n",
    "- Log Loss: This metric quantifies how well the predicted probabilities agree with the actual labels, penalizing incorrect predictions with a high degree of confidence. This ensures that the model not only makes accurate predictions, but also provides reliable probability estimates. These probabilities can be valuable for decision-making, especially when offering personalized discounts or recommendations. Although false positives can increase the chances of finding relevant items, having a high level of confidence in them can harm the client relationship if they result in recommending games that do not meet the client's expectations. In such a scenario, the client may end up buying a recommended game but still be dissatisfied.\n",
    "\n",
    "- F1 Score: The F1 score is a harmonic mean of precision and recall, which balances the importance of identifying true positives while minimizing false positives and false negatives. In the context of our problem, a high F1 score means the model is successful at identifying games that users will enjoy without making too many incorrect recommendations. This is essential for maintaining user satisfaction and trust in the platform. \n",
    "\n",
    "We look at both, aim to both predict recommendations use probabibility for discount. Good to be aware how model deals with both metrics. The model might be good to predict categories overall but fails to accuratly  predict the actual probability. \n"
   ]
  },
  {
   "cell_type": "code",
   "execution_count": 97,
   "id": "8d1c5179-6715-4e93-8ba8-83c24086f382",
   "metadata": {
    "colab": {
     "base_uri": "https://localhost:8080/"
    },
    "id": "8d1c5179-6715-4e93-8ba8-83c24086f382",
    "outputId": "7ccac409-33ca-430b-be43-bff5c1becd57"
   },
   "outputs": [
    {
     "name": "stdout",
     "output_type": "stream",
     "text": [
      "The optimal normalization term is: 1\n",
      "The optimal class weight is: {0: 4, 1: 1}\n",
      "The model's coefficients are:\n",
      " [[ 2.34953662e-02  1.72686592e-04 -1.60257133e-03 -2.89345454e-06\n",
      "   2.09971054e-01  1.41948004e-04 -3.99529670e-02 -4.59130417e+00\n",
      "  -8.00472722e+00  1.19165147e+01 -6.79582584e-02 -2.61140247e-02]]\n"
     ]
    }
   ],
   "source": [
    "# Define the columns to be dropped\n",
    "columns_to_drop = [\"app_id\", \"title\", \"price_original\", \"average_playtime\", \"hours\", \"achievements\", \n",
    "                   'win', 'mac', 'linux',\n",
    "                   \"user_reviews\",\n",
    "                   \"required_age\", 'user_id', 'products', 'reviews',\n",
    "                   \"english\", \"Action\", 'Adventure', 'Animation & Modeling', \n",
    "                   'Casual','Design & Illustration', 'Early Access', \n",
    "                   'Free to Play', 'Gore','Indie', \"Massively Multiplayer\",\n",
    "                   'Nudity', 'RPG', 'Racing','Sexual Content', 'Simulation', \n",
    "                   'Sports', 'Strategy','Utilities', 'Violent', 'Web Publishing']\n",
    "\n",
    "# Define the pipeline\n",
    "l1_pipeline = Pipeline([\n",
    "    ('elapsed_time', ElapsedTimeTransformer()),\n",
    "    ('steam_rating', SteamRatingEncoder(standard_diverging_scale=True)),\n",
    "    (\"target_encode\", TargetEncoderTransformer(y = y_train)),\n",
    "    ('owners_trans', OwnersTransformer()),\n",
    "    ('drop_columns', DropColumns(columns_to_drop)),\n",
    "    ('classifier', LogisticRegression(penalty = \"l1\", solver='liblinear', \n",
    "                                      random_state=70, max_iter = 1000))\n",
    "])\n",
    "\n",
    "\n",
    "# Define the grid of hyperparameters to search\n",
    "param_grid = {\n",
    "    'classifier__C': [0.1, 1, 10, 100],\n",
    "    'classifier__class_weight': [{0: 4, 1: 1}, {0: 5, 1: 1},\n",
    "     {0: 6, 1: 1}, {0: 7, 1: 1}]\n",
    "}\n",
    "\n",
    "# Define the grid search object\n",
    "grid_search = GridSearchCV(l1_pipeline, param_grid=param_grid, cv=5,\n",
    "                           scoring = 'neg_log_loss')\n",
    "\n",
    "# Fit the grid search on the data\n",
    "grid_search.fit(X_train, y_train)\n",
    "\n",
    "# Find Optimal Parameters\n",
    "opt_parameters = grid_search.best_estimator_.named_steps['classifier'].get_params()\n",
    "opt_norm = opt_parameters[\"C\"]\n",
    "opt_weight = opt_parameters[\"class_weight\"]\n",
    "l1_coefficients = grid_search.best_estimator_.named_steps['classifier'].coef_\n",
    "\n",
    "# Print Optimal Parameters\n",
    "print(f\"The optimal normalization term is: {opt_norm}\")\n",
    "print(f\"The optimal class weight is: {opt_weight}\")\n",
    "print(f\"The model's coefficients are:\\n {l1_coefficients}\")"
   ]
  },
  {
   "cell_type": "markdown",
   "id": "6e26fd97-e385-4394-9d1d-e04132a0968b",
   "metadata": {},
   "source": [
    "We can see from the results that there are no zeros among the coefficients, it indicates that Lasso regression did not completely eliminate any features from the model. All features contribute to the target variable prediction to some extent, but their impacts vary."
   ]
  },
  {
   "cell_type": "markdown",
   "id": "4M52Z-K7ogWx",
   "metadata": {
    "id": "4M52Z-K7ogWx"
   },
   "source": [
    "We take the optimized hyperparamters and check the F-Score, Log Loss, and Accuracy."
   ]
  },
  {
   "cell_type": "code",
   "execution_count": 149,
   "id": "qIb3wL3Fjavs",
   "metadata": {
    "colab": {
     "base_uri": "https://localhost:8080/"
    },
    "id": "qIb3wL3Fjavs",
    "outputId": "ad1d48ac-03a1-42fc-9016-de933752bcee"
   },
   "outputs": [
    {
     "name": "stdout",
     "output_type": "stream",
     "text": [
      "Accuracy: 0.714 +/- 0.002\n",
      "Log loss: 0.557 +/- 0.001\n",
      "F1 score: 0.813 +/- 0.001\n"
     ]
    }
   ],
   "source": [
    "opt_l1_pipeline = Pipeline([\n",
    "    ('elapsed_time', ElapsedTimeTransformer()),\n",
    "    ('steam_rating', SteamRatingEncoder(standard_diverging_scale=True)),\n",
    "    (\"target_encode\", TargetEncoderTransformer(y = y_train)),\n",
    "    ('owners_trans', OwnersTransformer()),\n",
    "    ('drop_columns', DropColumns(columns_to_drop)),\n",
    "    ('classifier', LogisticRegression(penalty = \"l1\", solver='liblinear', \n",
    "                                      random_state=70, max_iter = 1000,\n",
    "                                      C = opt_norm, class_weight = opt_weight))\n",
    "])\n",
    "\n",
    "# Find F1, Log Loss, and Accuracy\n",
    "scoring = {'f1': 'f1', \n",
    "           'accuracy': 'accuracy', \n",
    "           'log_loss': make_scorer(log_loss, needs_proba=True)}\n",
    "scores = cross_validate(opt_l1_pipeline, X_train, y_train, cv=5, scoring=scoring)\n",
    "\n",
    "# Print Results\n",
    "print(f\"Accuracy: {scores['test_accuracy'].mean():.3f} +/- {scores['test_accuracy'].std():.3f}\")\n",
    "print(f\"Log loss: {scores['test_log_loss'].mean():.3f} +/- {scores['test_log_loss'].std():.3f}\")\n",
    "print(f\"F1 score: {scores['test_f1'].mean():.3f} +/- {scores['test_f1'].std():.3f}\")"
   ]
  },
  {
   "cell_type": "markdown",
   "id": "fc2d1f3b-8f10-4eb7-81cb-307ab524ac8a",
   "metadata": {
    "id": "_7pwkhxCo9ti"
   },
   "source": [
    "From our Lasso regression, we see the following results: \n",
    "\n",
    "- Accuracy: The model achieves an average accuracy of 0.714 with a standard deviation of 0.002 across the 5 folds. This indicates that our model can correctly predict whether a user will like a game or not about 71.4% of the time. While this is a decent level of performance, accuracy alone may not be the best metric to evaluate the model, as it doesn't take into account false positives and false negatives.\n",
    "- Log Loss: The model achieves an average log loss of 0.557 with a standard deviation of 0.001. Log loss measures the performance of a classification model by penalizing false predictions, with lower values indicating better performance. In our case, the log loss of 0.557 suggests that our model is providing relatively well-calibrated probability estimates for user preferences, helping to optimize the user experience on the platform. We would have hoped to get a better value for log loss.\n",
    "- F1 Score: The model achieves an average F1 score of 0.813 with a standard deviation of 0.001. The F1 score is the harmonic mean of precision and recall, which balances these two metrics. A higher F1 score indicates that the model is performing well in terms of both precision (identifying games that users will like) and recall (not missing out on any games that users might enjoy). The F1 score of 0.813 suggests that our model is striking a good balance between precision and recall, leading to a better overall recommendation system.\n",
    "\n",
    "Still, in order to provide a final judgement on the model, we would have to see how it performs on negatives. This is done later when testing the model against the validation set. \n",
    "\n",
    "**Ridge Regression:**\n",
    "\n",
    "Having checked the performance of l1 normalization and seen that none of the features take a coefficient of 0, we run the same model and optimize in a similar manner with l2 regularization to see which one of the two performs best."
   ]
  },
  {
   "cell_type": "code",
   "execution_count": null,
   "id": "trCibLQdqRY9",
   "metadata": {
    "colab": {
     "base_uri": "https://localhost:8080/"
    },
    "id": "trCibLQdqRY9",
    "outputId": "393930d0-82d5-4ab5-e32f-75eb3c321b23"
   },
   "outputs": [
    {
     "name": "stdout",
     "output_type": "stream",
     "text": [
      "The optimal normalization term is: 10\n",
      "The optimal class weight is: {0: 4, 1: 1}\n",
      "The model's coefficients are:\n",
      " [[ 3.28571364e-02 -1.39885450e-03 -2.10246448e-03  5.21254081e-06\n",
      "  -1.92112403e+00  1.16708920e-04  3.20590960e+00 -9.51424219e-02\n",
      "   1.48943897e-01 -2.94107677e+00  5.52910183e+00 -7.12198793e-02\n",
      "  -1.41326241e-02]]\n"
     ]
    }
   ],
   "source": [
    "# Define the columns to be dropped\n",
    "columns_to_drop_l2 = [\"app_id\", \"title\", \"price_original\", \"average_playtime\", \"hours\", \"achievements\", \n",
    "                   'win', 'mac', 'linux',\n",
    "                   \"user_reviews\",\n",
    "                   \"required_age\", 'user_id',\n",
    "                   \"english\", \"Action\", 'Adventure', 'Animation & Modeling', \n",
    "                   'Casual','Design & Illustration', 'Early Access', \n",
    "                   'Free to Play', 'Gore','Indie', \"Massively Multiplayer\",\n",
    "                   'Nudity', 'RPG', 'Racing','Sexual Content', 'Simulation', \n",
    "                   'Sports', 'Strategy','Utilities', 'Violent', 'Web Publishing']\n",
    "\n",
    "# Define the pipeline\n",
    "l2_pipeline = Pipeline([\n",
    "    ('elapsed_time', ElapsedTimeTransformer()),\n",
    "    (\"rev_tend\", TendencyToReview()),\n",
    "    ('steam_rating', SteamRatingEncoder(standard_diverging_scale=True)),\n",
    "    (\"target_encode\", TargetEncoderTransformer(y = y_train)),\n",
    "    ('owners_trans', OwnersTransformer()),\n",
    "    ('drop_columns', DropColumns(columns_to_drop_l2)),\n",
    "    ('classifier', LogisticRegression(penalty = \"l2\", solver='liblinear', \n",
    "                                      random_state=70, max_iter = 1000))\n",
    "])\n",
    "\n",
    "\n",
    "# Define the grid of hyperparameters to search\n",
    "param_grid = {\n",
    "    'classifier__C': [0.1, 1, 10, 100],\n",
    "    'classifier__class_weight': [{0: 4, 1: 1}, {0: 6, 1: 1},\n",
    "                                 {0: 7, 1: 1}]\n",
    "}\n",
    "\n",
    "# Define the grid search object\n",
    "grid_search_l2 = GridSearchCV(l2_pipeline, param_grid=param_grid, cv=5,\n",
    "                           scoring = 'neg_log_loss')\n",
    "\n",
    "# Fit the grid search on the data\n",
    "grid_search_l2.fit(X_train, y_train)\n",
    "\n",
    "# Find Optimal Parameters\n",
    "opt_parameters_l2 = grid_search_l2.best_estimator_.named_steps['classifier'].get_params()\n",
    "opt_norm_l2 = opt_parameters_l2[\"C\"]\n",
    "opt_weight_l2 = opt_parameters_l2[\"class_weight\"]\n",
    "l1_coefficients_l2 = grid_search_l2.best_estimator_.named_steps['classifier'].coef_\n",
    "\n",
    "# Print Optimal Parameters\n",
    "print(f\"The optimal normalization term is: {opt_norm_l2}\")\n",
    "print(f\"The optimal class weight is: {opt_weight_l2}\")\n",
    "print(f\"The model's coefficients are:\\n {l1_coefficients_l2}\")"
   ]
  },
  {
   "cell_type": "markdown",
   "id": "57cf2137-7f4f-40de-bc80-332df044c77c",
   "metadata": {},
   "source": [
    "The model's coefficients are non-zero, indicating that all the features contribute to the model. When comparing the Ridge Regression model with the L1-regularized logistic regression model, it's essential to consider their performance metrics (accuracy, log loss, and F1 score) to determine which model is better suited for the Steam game recommendation system."
   ]
  },
  {
   "cell_type": "markdown",
   "id": "IV3kvivityus",
   "metadata": {
    "id": "IV3kvivityus"
   },
   "source": [
    "With the optimized hyperparamters we run the model and check the performance metrics."
   ]
  },
  {
   "cell_type": "code",
   "execution_count": 148,
   "id": "-_jvMSXbtzbB",
   "metadata": {
    "colab": {
     "base_uri": "https://localhost:8080/"
    },
    "id": "-_jvMSXbtzbB",
    "outputId": "802ede91-f258-465e-da9c-77fc5332beee"
   },
   "outputs": [
    {
     "name": "stdout",
     "output_type": "stream",
     "text": [
      "Accuracy: 0.726 +/- 0.002\n",
      "Log loss: 0.558 +/- 0.001\n",
      "F1 score: 0.823 +/- 0.001\n"
     ]
    }
   ],
   "source": [
    "opt_l2_pipeline = Pipeline([\n",
    "    ('elapsed_time', ElapsedTimeTransformer()),\n",
    "    ('steam_rating', SteamRatingEncoder(standard_diverging_scale=True)),\n",
    "    (\"target_encode\", TargetEncoderTransformer(y = y_train)),\n",
    "    ('owners_trans', OwnersTransformer()),\n",
    "    ('drop_columns', DropColumns(columns_to_drop)),\n",
    "    ('classifier', LogisticRegression(penalty = \"l2\", solver='liblinear', \n",
    "                                      random_state=70, max_iter = 1000,\n",
    "                                      C = opt_norm_l2, class_weight = opt_weight_l2))\n",
    "])\n",
    "\n",
    "# Find F1 and Log Loss\n",
    "scoring = {'f1': 'f1', \n",
    "           'accuracy': 'accuracy', \n",
    "           'log_loss': make_scorer(log_loss, needs_proba=True)}\n",
    "scores = cross_validate(opt_l2_pipeline, X_train, y_train, cv=5, scoring=scoring)\n",
    "\n",
    "# Print Results\n",
    "print(f\"Accuracy: {scores['test_accuracy'].mean():.3f} +/- {scores['test_accuracy'].std():.3f}\")\n",
    "print(f\"Log loss: {scores['test_log_loss'].mean():.3f} +/- {scores['test_log_loss'].std():.3f}\")\n",
    "print(f\"F1 score: {scores['test_f1'].mean():.3f} +/- {scores['test_f1'].std():.3f}\")"
   ]
  },
  {
   "cell_type": "markdown",
   "id": "1acd4552-35f8-4b0e-b753-eb57e266bd06",
   "metadata": {
    "id": "cPp4k1h7xdpB"
   },
   "source": [
    "When comparing the L1 and L2-regularized logistic regression models, the L1 model has an accuracy of 71.4%, log loss of 0.557, and F1 score of 0.813, while the L2 model has an accuracy of 72.6%, log loss of 0.558, and F1 score of 0.823. Although the differences in performance metrics are relatively small, the L2 model has a slightly higher accuracy and F1 score, while the L1 model has a marginally lower log loss. Depending on the specific use case and the importance of each performance metric, either the L1 or L2 model could be chosen for the Steam game recommendation system.\n",
    "\n",
    "**ADABoost Ridge:**\n",
    "\n",
    "We attempt to use ADABoost"
   ]
  },
  {
   "cell_type": "code",
   "execution_count": null,
   "id": "lezmIYIkxfBF",
   "metadata": {
    "colab": {
     "base_uri": "https://localhost:8080/"
    },
    "id": "lezmIYIkxfBF",
    "outputId": "3546e45e-fef8-4f7e-ac83-bd0fd540ed46"
   },
   "outputs": [
    {
     "name": "stdout",
     "output_type": "stream",
     "text": [
      "The selected learning rate is: 0.01\n",
      "The selected number of estimators is: 50\n",
      "The optimal normalization term is: 100\n"
     ]
    }
   ],
   "source": [
    "# Define the columns to be dropped\n",
    "columns_to_drop_ADA = [\"app_id\", \"title\", \"price_original\", \"average_playtime\", \"hours\", \"achievements\", \n",
    "                   'win', 'mac', 'linux',\n",
    "                   \"user_reviews\",\n",
    "                   \"required_age\", 'user_id',\n",
    "                   \"english\", \"Action\", 'Adventure', 'Animation & Modeling', \n",
    "                   'Casual','Design & Illustration', 'Early Access', \n",
    "                   'Free to Play', 'Gore','Indie', \"Massively Multiplayer\",\n",
    "                   'Nudity', 'RPG', 'Racing','Sexual Content', 'Simulation', \n",
    "                   'Sports', 'Strategy','Utilities', 'Violent', 'Web Publishing']\n",
    "\n",
    "# Define the pipeline\n",
    "ADA_pipeline = Pipeline([\n",
    "    ('elapsed_time', ElapsedTimeTransformer()),\n",
    "    (\"rev_tend\", TendencyToReview()),\n",
    "    ('steam_rating', SteamRatingEncoder(standard_diverging_scale=True)),\n",
    "    (\"target_encode\", TargetEncoderTransformer(y = y_train)),\n",
    "    ('owners_trans', OwnersTransformer()),\n",
    "    ('drop_columns', DropColumns(columns_to_drop_l2)),\n",
    "    ('classifier', AdaBoostClassifier(estimator=LogisticRegression(penalty='l2', solver='liblinear', \n",
    "                                                                        max_iter=1000, class_weight = {0: 4, 1: 1}),\n",
    "                                       random_state=70))\n",
    "])\n",
    "\n",
    "\n",
    "# Define the grid of hyperparameters to search\n",
    "ADA_param_grid = {\n",
    "    'classifier__n_estimators': [50, 100, 200],\n",
    "    'classifier__learning_rate': [0.01, 0.1, 1.0],\n",
    "    'classifier__estimator__C': [0.1, 1, 10, 100]\n",
    "}\n",
    "\n",
    "# Define the grid search object\n",
    "grid_search_ADA = GridSearchCV(ADA_pipeline, param_grid=ADA_param_grid, cv=5,\n",
    "                           scoring = 'neg_log_loss')\n",
    "\n",
    "# Fit the grid search on the data\n",
    "grid_search_ADA.fit(X_train, y_train)\n",
    "\n",
    "# Find Optimal Parameters\n",
    "opt_parameters_ADA = grid_search_ADA.best_estimator_.named_steps['classifier'].get_params()\n",
    "opt_norm_ADA = opt_parameters_ADA[\"estimator__C\"]\n",
    "opt_learning_rate_ADA = opt_parameters_ADA['learning_rate']\n",
    "opt_n_estimators_ADA = opt_parameters_ADA['n_estimators']\n",
    "\n",
    "# Print Optimal Parameters\n",
    "print(f\"The selected learning rate is: {opt_learning_rate_ADA}\")\n",
    "print(f\"The selected number of estimators is: {opt_n_estimators_ADA}\")\n",
    "print(f\"The optimal normalization term is: {opt_norm_ADA}\")"
   ]
  },
  {
   "cell_type": "markdown",
   "id": "32d7f63e-5b37-4d0c-9959-154925f5ddf1",
   "metadata": {},
   "source": [
    "The GridSearchCV for the ADABoost Ridge model helps to find the optimal hyperparameters for the classifier. \n",
    "\n",
    "The outputs lead to the following conclusions:\n",
    "\n",
    "- The selected learning rate: 0.01 - The learning rate is a parameter that controls the contribution of each estimator to the final model. A smaller learning rate means that each estimator has a smaller weight, leading to a slower convergence but potentially more accurate results.\n",
    "- The selected number of estimators: 50 - The number of estimators refers to the number of weak learners (in this case, Ridge Regression models) used in the ensemble. A higher number of estimators can lead to better performance but may also increase the risk of overfitting and the computational cost.\n",
    "- The optimal normalization term (C): 100 - This parameter is the inverse of the regularization strength for the Ridge Regression models used as the weak learners. A smaller value of C increases the regularization strength, leading to a more constrained model and helping to prevent overfitting."
   ]
  },
  {
   "cell_type": "markdown",
   "id": "00414333-eb25-4126-bd5c-8e8cbb9e6946",
   "metadata": {
    "id": "fAJWYeUrHRp7"
   },
   "source": [
    "With the optimized parameters, we build the model and assess it based on the scoring metrics."
   ]
  },
  {
   "cell_type": "code",
   "execution_count": null,
   "id": "q3nokGXGHShu",
   "metadata": {
    "colab": {
     "base_uri": "https://localhost:8080/"
    },
    "id": "q3nokGXGHShu",
    "outputId": "f02bb1cf-76e4-419e-d786-0eb315739512"
   },
   "outputs": [
    {
     "name": "stdout",
     "output_type": "stream",
     "text": [
      "Accuracy: 0.765 +/- 0.001\n",
      "Log loss: 0.579 +/- 0.001\n",
      "F1 score: 0.856 +/- 0.001\n"
     ]
    }
   ],
   "source": [
    "# Define Pipeline with HyperParamters\n",
    "opt_ADA_pipeline = Pipeline([\n",
    "    ('elapsed_time', ElapsedTimeTransformer()),\n",
    "    (\"rev_tend\", TendencyToReview()),\n",
    "    ('steam_rating', SteamRatingEncoder(standard_diverging_scale=True)),\n",
    "    (\"target_encode\", TargetEncoderTransformer(y = y_train)),\n",
    "    ('owners_trans', OwnersTransformer()),\n",
    "    ('drop_columns', DropColumns(columns_to_drop_l2)),\n",
    "    ('classifier', AdaBoostClassifier(estimator=LogisticRegression(penalty='l2', solver='liblinear', \n",
    "                                                                        max_iter=1000, class_weight = {0: 4, 1: 1},\n",
    "                                                                   C = opt_norm_ADA),\n",
    "                                       random_state=70, n_estimators = opt_n_estimators_ADA,\n",
    "                                      learning_rate = opt_learning_rate_ADA))\n",
    "])\n",
    "\n",
    "# Find F1 and Log Loss\n",
    "scoring = {'f1': 'f1', \n",
    "           'accuracy': 'accuracy', \n",
    "           'log_loss': make_scorer(log_loss, needs_proba=True)}\n",
    "scores = cross_validate(opt_ADA_pipeline, X_train, y_train, cv=5, scoring=scoring)\n",
    "\n",
    "# Print Results\n",
    "print(f\"Accuracy: {scores['test_accuracy'].mean():.3f} +/- {scores['test_accuracy'].std():.3f}\")\n",
    "print(f\"Log loss: {scores['test_log_loss'].mean():.3f} +/- {scores['test_log_loss'].std():.3f}\")\n",
    "print(f\"F1 score: {scores['test_f1'].mean():.3f} +/- {scores['test_f1'].std():.3f}\")"
   ]
  },
  {
   "cell_type": "markdown",
   "id": "a2fca5f8-de1d-4af3-b3ad-6d63d6e6536c",
   "metadata": {
    "id": "QBTGbZYgK3Gk"
   },
   "source": [
    "The ADABoost Ridge model, with the optimal hyperparameters (learning rate: 0.01, number of estimators: 50, and normalization term: 100), shows an improvement in overall performance when compared to the L1-regularized logistic regression model. The model achieves an accuracy of 0.765, log loss of 0.579, and an F1 score of 0.856. The increased accuracy and F1 score indicate better prediction capability and improved balance between precision and recall. \n",
    "\n",
    "From the comparison of all three models, we can observe that the ADABoost Ridge model has the highest accuracy and F1 score. The log loss for the ADABoost Ridge model is slightly higher than the other two models. However, since the primary focus is on identifying positives with the highest probability and optimizing user experience, F1 score carries more importance in our evaluation.\n",
    "\n",
    "Considering the performance metrics, the ADABoost Ridge model appears to be the best choice for our case. It has the highest accuracy and F1 score, indicating its superior ability to identify true positives and balance precision and recall."
   ]
  },
  {
   "cell_type": "markdown",
   "id": "ed6f6c0d-2066-4773-95ba-8a52df42f217",
   "metadata": {
    "id": "ed6f6c0d-2066-4773-95ba-8a52df42f217"
   },
   "source": [
    "### Model 3: Random Forest\n",
    "\n",
    "Model 3 aims to enhance the performance of a prediction model by exploring different techniques. This model specifically examines the effects of utilizing bagging methods alone and the combination of both bagging and boosting techniques. The primary objective is to determine which configuration yields better results in terms of relevant evaluation metrics, such as accuracy, log loss, and F1 score.\n",
    "\n",
    "#### Configuration 1: No Boosting\n",
    "\n",
    "This configuration focuses on the use of the Random Forest classifier as a bagging technique. This approach involves constructing multiple decision trees to reduce overfitting and improve the model's predictive capabilities. Furthermore, Configuration 1 employs resampling and undersampling methods to balance the dataset, effectively addressing class imbalance. By doing so, the model is less likely to be biased towards the majority class and will be more proficient in predicting less frequent classes. This configuration serves as a baseline for comparison with Configuration 2, which combines both bagging and boosting techniques."
   ]
  },
  {
   "cell_type": "code",
   "execution_count": 132,
   "id": "ab59c7e2-b0c7-426c-85b8-954e732b226a",
   "metadata": {
    "id": "ab59c7e2-b0c7-426c-85b8-954e732b226a"
   },
   "outputs": [],
   "source": [
    "# Define Feature Columns\n",
    "feature_columns = [\n",
    "    'positive_ratio', 'user_reviews', 'price_final', 'discount', 'date_release',\n",
    "    'products', 'reviews', 'required_age', 'median_playtime', \"date\",\n",
    "    'Action', 'Adventure','Animation & Modeling', 'Casual', 'Design & Illustration',\n",
    "    'Early Access', 'Free to Play', 'Gore', 'Indie',\n",
    "    'Massively Multiplayer', 'Nudity', 'RPG', 'Racing', 'Sexual Content',\n",
    "    'Simulation', 'Sports', 'Strategy', 'Utilities', 'Violent',\n",
    "    'Web Publishing', 'developer', 'publisher', 'win', 'mac', 'linux', 'english'\n",
    "]\n",
    "\n",
    "# Get Other Column Names to Drop in Pipeline\n",
    "other_columns = [col for col in final_df.columns if col not in feature_columns and col != \"y\"]"
   ]
  },
  {
   "cell_type": "code",
   "execution_count": 141,
   "id": "BrANKSbXAvhj",
   "metadata": {
    "colab": {
     "base_uri": "https://localhost:8080/"
    },
    "id": "BrANKSbXAvhj",
    "outputId": "5af575b5-5183-4201-e3ff-39b3f1676ca5"
   },
   "outputs": [
    {
     "name": "stdout",
     "output_type": "stream",
     "text": [
      "The optimal number of estimators is: 200\n",
      "The optimal max depth is: 7\n",
      "The optimal min samples split is: 2\n",
      "The optimal min samples leaf is: 1\n"
     ]
    }
   ],
   "source": [
    "# Create Resampling Pipeline\n",
    "resampling_pipeline = imPipeline([\n",
    "    ('elapsed_time', ElapsedTimeTransformer()),\n",
    "     ('target_encoder', TargetEncoderTransformer(y=y_train)),\n",
    "    ('drop_columns', DropColumns(other_columns)),\n",
    "    ('smote', SMOTE(sampling_strategy=0.6, random_state=29)),\n",
    "    ('under_sampler', RandomUnderSampler(sampling_strategy=1, random_state=29))\n",
    "])\n",
    "\n",
    "# Resample the dataset\n",
    "X_train_resampled, y_train_resampled = resampling_pipeline.fit_resample(X_train, y_train)\n",
    "\n",
    "# Build Model Pipeline\n",
    "rf_pipeline = Pipeline([\n",
    "    ('interactions', InteractionsTransformer([\"win\", \"mac\", \"linux\"])),\n",
    "    ('random_forest', RandomForestClassifier(random_state=70))\n",
    "])\n",
    "\n",
    "# Define the grid of hyperparameters to search\n",
    "rf_param_grid = {\n",
    "    'random_forest__n_estimators': [100, 200],\n",
    "    'random_forest__max_depth': [3, 5, 7],\n",
    "    'random_forest__min_samples_split': [2, 5],\n",
    "    'random_forest__min_samples_leaf': [1, 2]\n",
    "}\n",
    "\n",
    "# Define the grid search object\n",
    "rf_grid_search = GridSearchCV(rf_pipeline, param_grid=rf_param_grid, \n",
    "                              cv=5, scoring='f1')\n",
    "\n",
    "# Fit the grid search on the data\n",
    "rf_grid_search.fit(X_train_resampled, y_train_resampled)\n",
    "\n",
    "# Find optimal parameters\n",
    "rf_opt_params = rf_grid_search.best_params_\n",
    "rf_opt_estimators = rf_opt_params['random_forest__n_estimators']\n",
    "rf_opt_max_depth = rf_opt_params['random_forest__max_depth']\n",
    "rf_opt_min_samples_split = rf_opt_params['random_forest__min_samples_split']\n",
    "rf_opt_min_samples_leaf = rf_opt_params['random_forest__min_samples_leaf']\n",
    "\n",
    "# Print optimal parameters\n",
    "print(f\"The optimal number of estimators is: {rf_opt_estimators}\")\n",
    "print(f\"The optimal max depth is: {rf_opt_max_depth}\")\n",
    "print(f\"The optimal min samples split is: {rf_opt_min_samples_split}\")\n",
    "print(f\"The optimal min samples leaf is: {rf_opt_min_samples_leaf}\")"
   ]
  },
  {
   "cell_type": "markdown",
   "id": "9FT9wr7-sLdZ",
   "metadata": {
    "id": "9FT9wr7-sLdZ"
   },
   "source": [
    "Now we run the optimized model and assess its performance."
   ]
  },
  {
   "cell_type": "code",
   "execution_count": 143,
   "id": "ygnj-zP1sPeJ",
   "metadata": {
    "colab": {
     "base_uri": "https://localhost:8080/"
    },
    "id": "ygnj-zP1sPeJ",
    "outputId": "d0a5a2b6-5536-4c16-d1d0-e39765848752"
   },
   "outputs": [
    {
     "name": "stdout",
     "output_type": "stream",
     "text": [
      "Accuracy: 0.682 +/- 0.006\n",
      "Log loss: 0.588 +/- -0.005\n",
      "F1 score: 0.674 +/- 0.006\n"
     ]
    }
   ],
   "source": [
    "# Build Pipeline with Optimized Parameters\n",
    "rf_pipeline = Pipeline([\n",
    "    ('interactions', InteractionsTransformer([\"win\", \"mac\", \"linux\"])),\n",
    "    ('random_forest', RandomForestClassifier(random_state=70,\n",
    "                                             n_estimators =rf_opt_estimators,\n",
    "                                             max_depth = rf_opt_max_depth,\n",
    "                                             min_samples_split = rf_opt_min_samples_split,\n",
    "                                             min_samples_leaf = rf_opt_min_samples_leaf))\n",
    "])\n",
    "\n",
    "# Run cross-validation and print results\n",
    "scoring = ['accuracy', 'neg_log_loss', 'f1']\n",
    "cv_results = cross_validate(rf_pipeline, X_train_resampled, y_train_resampled, \n",
    "                            cv=5, scoring=scoring)\n",
    "\n",
    "print(f\"Accuracy: {cv_results['test_accuracy'].mean():.3f} +/- {cv_results['test_accuracy'].std():.3f}\")\n",
    "print(f\"Log loss: {-cv_results['test_neg_log_loss'].mean():.3f} +/- {-cv_results['test_neg_log_loss'].std():.3f}\")\n",
    "print(f\"F1 score: {cv_results['test_f1'].mean():.3f} +/- {cv_results['test_f1'].std():.3f}\")"
   ]
  },
  {
   "cell_type": "markdown",
   "id": "ch-MGaWQG6UR",
   "metadata": {
    "id": "ch-MGaWQG6UR"
   },
   "source": [
    "#### Configuration 2: RF with XGBoost\n",
    "\n",
    "We attempt to improve the model by running XGBoost."
   ]
  },
  {
   "cell_type": "code",
   "execution_count": 182,
   "id": "-YByq-uwHSS7",
   "metadata": {
    "colab": {
     "base_uri": "https://localhost:8080/"
    },
    "id": "-YByq-uwHSS7",
    "outputId": "15a4a695-5eab-4cce-c21a-fce830b61e07"
   },
   "outputs": [
    {
     "name": "stdout",
     "output_type": "stream",
     "text": [
      "The optimal number of estimators is: 200\n",
      "The optimal max depth is: 10\n",
      "The optimal min child weight is: 1\n",
      "The optimal learning rate is: 0.3\n"
     ]
    }
   ],
   "source": [
    "# Define the pipeline\n",
    "xgb_pipeline = Pipeline([\n",
    "    ('interactions', InteractionsTransformer([\"win\", \"mac\", \"linux\"])),\n",
    "    ('xgb', XGBClassifier(random_state=70))\n",
    "])\n",
    "\n",
    "# Define the grid of hyperparameters to search\n",
    "xgb_param_grid = {\n",
    "    'xgb__n_estimators': [100, 200],\n",
    "    'xgb__max_depth': [5, 10],\n",
    "    'xgb__min_child_weight': [1, 5],\n",
    "    'xgb__learning_rate': [0.1, 0.3]\n",
    "}\n",
    "\n",
    "# Define the grid search object\n",
    "xgb_grid_search = GridSearchCV(estimator=xgb_pipeline, \n",
    "                               param_grid=xgb_param_grid, cv=3, scoring='f1')\n",
    "\n",
    "\n",
    "# Fit the grid search on the data\n",
    "xgb_grid_search.fit(X_train_resampled, y_train_resampled)\n",
    "\n",
    "# Find optimal parameters\n",
    "xgb_opt_params = xgb_grid_search.best_params_\n",
    "xgb_opt_estimators = xgb_opt_params['xgb__n_estimators']\n",
    "xgb_opt_max_depth = xgb_opt_params['xgb__max_depth']\n",
    "xgb_opt_min_child_weight = xgb_opt_params['xgb__min_child_weight']\n",
    "xgb_opt_learning_rate = xgb_opt_params['xgb__learning_rate']\n",
    "\n",
    "# Print optimal parameters\n",
    "print(f\"The optimal number of estimators is: {xgb_opt_estimators}\")\n",
    "print(f\"The optimal max depth is: {xgb_opt_max_depth}\")\n",
    "print(f\"The optimal min child weight is: {xgb_opt_min_child_weight}\")\n",
    "print(f\"The optimal learning rate is: {xgb_opt_learning_rate}\")"
   ]
  },
  {
   "cell_type": "markdown",
   "id": "oRRx9PubFr3Q",
   "metadata": {
    "id": "oRRx9PubFr3Q"
   },
   "source": [
    "Run the model."
   ]
  },
  {
   "cell_type": "code",
   "execution_count": 184,
   "id": "RvmkwrnWFntm",
   "metadata": {
    "colab": {
     "base_uri": "https://localhost:8080/"
    },
    "id": "RvmkwrnWFntm",
    "outputId": "ad659c2d-0606-4859-d5d2-954ae101f1f4"
   },
   "outputs": [
    {
     "name": "stdout",
     "output_type": "stream",
     "text": [
      "Accuracy: 0.803 +/- 0.074\n",
      "Log loss: 0.434 +/- -0.131\n",
      "F1 score: 0.811 +/- 0.050\n"
     ]
    }
   ],
   "source": [
    "# Define the pipeline\n",
    "opt_xgb_pipeline = Pipeline([\n",
    "    ('interactions', InteractionsTransformer([\"win\", \"mac\", \"linux\"])),\n",
    "    ('xgb', XGBClassifier(random_state=70,\n",
    "                          n_estimators = xgb_opt_estimators,\n",
    "                          max_depth = xgb_opt_max_depth,\n",
    "                          min_child_weight = xgb_opt_min_child_weight,\n",
    "                          learning_rate = xgb_opt_learning_rate))\n",
    "])\n",
    "\n",
    "# Run cross-validation and print results\n",
    "scoring = ['accuracy', 'neg_log_loss', 'f1']\n",
    "cv_results_xgb = cross_validate(opt_xgb_pipeline, X_train_resampled, y_train_resampled, \n",
    "                            cv=5, scoring=scoring)\n",
    "\n",
    "print(f\"Accuracy: {cv_results_xgb['test_accuracy'].mean():.3f} +/- {cv_results_xgb['test_accuracy'].std():.3f}\")\n",
    "print(f\"Log loss: {-cv_results_xgb['test_neg_log_loss'].mean():.3f} +/- {-cv_results_xgb['test_neg_log_loss'].std():.3f}\")\n",
    "print(f\"F1 score: {cv_results_xgb['test_f1'].mean():.3f} +/- {cv_results_xgb['test_f1'].std():.3f}\")"
   ]
  },
  {
   "cell_type": "markdown",
   "id": "d44d1284-4030-4746-82d6-738c93d1e86d",
   "metadata": {
    "id": "d44d1284-4030-4746-82d6-738c93d1e86d"
   },
   "source": [
    "## Model Evaluation & Selection\n",
    "\n",
    "Having constructed and tested multiple specifications of different models, we take the best-performing model from the Bagging Strategy and Logistic Regression. With these models, we test their performance on the validation sets, which have so far been completely out of the training process. The best-performing model of the two is finally used in the deployment function as the \"best model\" we have constructed.\n",
    "\n",
    "Of course, we are aware that both models have room for improvements. We hope to have also suggested throughout the work in what ways we believe this could have been achieved."
   ]
  },
  {
   "cell_type": "markdown",
   "id": "0997ae35-3875-480e-88e6-4591c91b3359",
   "metadata": {
    "id": "_2lt5HOZjoBl"
   },
   "source": [
    "### ADABoost Model\n",
    "\n",
    "This performed best out of the logistic models."
   ]
  },
  {
   "cell_type": "code",
   "execution_count": 155,
   "id": "lsXVl2CdBjY0",
   "metadata": {
    "colab": {
     "base_uri": "https://localhost:8080/"
    },
    "id": "lsXVl2CdBjY0",
    "outputId": "c9256690-3fcf-464f-81a0-1594227733bf"
   },
   "outputs": [
    {
     "name": "stdout",
     "output_type": "stream",
     "text": [
      "              precision    recall  f1-score   support\n",
      "\n",
      "       False       0.33      0.42      0.37      3245\n",
      "        True       0.88      0.83      0.86     16755\n",
      "\n",
      "    accuracy                           0.77     20000\n",
      "   macro avg       0.60      0.63      0.61     20000\n",
      "weighted avg       0.79      0.77      0.78     20000\n",
      "\n",
      "Log loss: 0.579145013249325\n"
     ]
    }
   ],
   "source": [
    "# Fit with train\n",
    "opt_ADA_pipeline.fit(X_train, y_train)\n",
    "\n",
    "# Make predictions on validation set\n",
    "y_pred_ADA = opt_ADA_pipeline.predict(X_val)\n",
    "\n",
    "# Generate classification report\n",
    "print(classification_report(y_val, y_pred_ADA))\n",
    "\n",
    "# Compute log loss\n",
    "y_pred_proba_ADA = opt_ADA_pipeline.predict_proba(X_val)\n",
    "print(f\"Log loss: {log_loss(y_val, y_pred_proba_ADA)}\")\n"
   ]
  },
  {
   "cell_type": "markdown",
   "id": "8141ad60-5986-4d38-a0e5-61e6c30065ea",
   "metadata": {},
   "source": [
    "The AdaBoost model demonstrated an overall accuracy of 77%, suggesting it correctly predicted 77% of the instances in the validation set. It performed better in identifying 'True' instances with a precision, recall, and F1-score of 0.88, 0.83, and 0.86 respectively. However, the model struggled to correctly classify 'False' instances, reflected in significantly lower scores (precision of 0.33, recall of 0.42, and F1-score of 0.37). The model's log loss was 0.579, indicating a moderate level of uncertainty in the probabilistic predictions. The underperformance in predicting 'False' instances might be due to class imbalance in the data, requiring further steps to address this issue."
   ]
  },
  {
   "cell_type": "markdown",
   "id": "b35bb438-3e9f-4d4b-b540-fa1ec2968b7d",
   "metadata": {
    "id": "ncm5B0vlqE1z"
   },
   "source": [
    "### XGBoost Model\n",
    "\n",
    "This performed best out of the bagging models."
   ]
  },
  {
   "cell_type": "code",
   "execution_count": 186,
   "id": "W8UzYwItqrSR",
   "metadata": {
    "colab": {
     "base_uri": "https://localhost:8080/"
    },
    "id": "W8UzYwItqrSR",
    "outputId": "95dac441-8829-4202-b987-44de76626343"
   },
   "outputs": [
    {
     "name": "stdout",
     "output_type": "stream",
     "text": [
      "              precision    recall  f1-score   support\n",
      "\n",
      "       False       0.81      0.74      0.77     10053\n",
      "        True       0.76      0.82      0.79     10053\n",
      "\n",
      "    accuracy                           0.78     20106\n",
      "   macro avg       0.78      0.78      0.78     20106\n",
      "weighted avg       0.78      0.78      0.78     20106\n",
      "\n",
      "Log loss: 0.47423047661866313\n"
     ]
    }
   ],
   "source": [
    "# Resample Validation in Same Way as Train \n",
    "X_val_resampled, y_val_resampled = resampling_pipeline.fit_resample(X_val, y_val)\n",
    "\n",
    "# Make predictions on validation set\n",
    "opt_xgb_pipeline.fit(X_train_resampled, y_train_resampled)\n",
    "y_pred_xgb = opt_xgb_pipeline.predict(X_val_resampled)\n",
    "\n",
    "# Generate classification report\n",
    "print(classification_report(y_val_resampled, y_pred_xgb))\n",
    "\n",
    "# Compute log loss\n",
    "y_pred_proba_xgb = opt_xgb_pipeline.predict_proba(X_val_resampled)\n",
    "print(f\"Log loss: {log_loss(y_val_resampled, y_pred_proba_xgb)}\")\n"
   ]
  },
  {
   "cell_type": "markdown",
   "id": "a358dce1-98f7-42f4-bec7-7b97925fee07",
   "metadata": {},
   "source": [
    "The results indicate that the XGBoost model performs fairly well with an overall accuracy of 78% on the resampled validation set. Unlike the previous model, this one shows more balanced performance across both classes. For the 'False' class, the model has a precision of 0.81, recall of 0.74, and an F1-score of 0.77. For the 'True' class, the precision is 0.76, recall is 0.82, and the F1-score is 0.79. These scores suggest that the model is slightly better at identifying 'True' instances, but the difference is minimal, indicating that the model has a good balance in predicting both classes. The log loss is 0.474, which is better (lower) than the previous model, suggesting that the XGBoost model's probabilistic predictions are more accurate. Overall, this model demonstrates good performance, with balanced precision, recall, and F1-scores for both classes and a relatively low log loss."
   ]
  },
  {
   "cell_type": "markdown",
   "id": "6FQbCoUbBly-",
   "metadata": {
    "id": "6FQbCoUbBly-"
   },
   "source": [
    "## Deployment Function\n",
    "\n",
    "Below, we propose a tentative rule-based function which is underpinned by the ML models we developed and selected.\n",
    "\n",
    "BELOW REPLACE FINAL_MODEL WITH THE MODEL WHICH PERFORMS BETTER OUT OF THE TWO. "
   ]
  },
  {
   "cell_type": "code",
   "execution_count": null,
   "id": "608d21c3-aa9f-4520-a99c-86b16bb49962",
   "metadata": {},
   "outputs": [],
   "source": [
    "class GameDiscountRecommender:\n",
    "    \n",
    "    def __init__(self,no_discount_threshold=0.8, ten_threshold=0.75, \n",
    "                 forty_threshold=0.65, sixty_threshold=0.55, \n",
    "                 eighty_threshold=0.5):\n",
    "      \n",
    "        self.no_discount_threshold = no_discount_threshold\n",
    "        self.ten_threshold = ten_threshold\n",
    "        self.forty_threshold = forty_threshold\n",
    "        self.sixty_threshold = sixty_threshold\n",
    "        self.eighty_threshold = eighty_threshold\n",
    "        self.prediction = None\n",
    "        self.positivity_prob = None\n",
    "        self.model = opt_xgb_pipeline\n",
    "        \n",
    "    def fit(self, X, y):\n",
    "        # Fit the model\n",
    "        X_resampled, y_resampled = resampling_pipeline.fit_resample(X, y)\n",
    "        self.model.fit(X_resampled, y_resampled)\n",
    "        \n",
    "    def recommend(self, user, app):\n",
    "        # Find the row in final_df that corresponds to the given user and app IDs\n",
    "        self.user_row = final_df[(final_df['user_id'] == user) & (final_df['app_id'] == app)]\n",
    "\n",
    "\n",
    "        # Make a prediction with the model\n",
    "        self.prediction = self.model.predict(X)[0]\n",
    "        return self.model.prediction(X)[0] == 1\n",
    "    \n",
    "    def discount_rate(self, X):\n",
    "        # Determine which discount rate to offer based on the positivity probability\n",
    "        self.positivity_prob = self.model.predict_proba(X)[0]\n",
    "        prob_liking = self.positivity_prob\n",
    "        if prob_liking >= self.no_discount_threshold:\n",
    "            return 1\n",
    "        elif prob_liking >= self.ten_threshold:\n",
    "            return 0.9\n",
    "        elif prob_liking >= self.forty_threshold:\n",
    "            return 0.6\n",
    "        elif prob_liking >= self.sixty_threshold:\n",
    "            return 0.4\n",
    "        elif prob_liking >= self.eighty_threshold:\n",
    "            return 0.2\n",
    "        else:\n",
    "            return 0"
   ]
  },
  {
   "cell_type": "code",
   "execution_count": 183,
   "id": "qfBWtOI9G9o3",
   "metadata": {
    "id": "qfBWtOI9G9o3"
   },
   "outputs": [],
   "source": [
    "class GameDiscountRecommender:\n",
    "    \n",
    "    def __init__(self,no_discount_threshold=0.8, ten_threshold=0.75, \n",
    "                 forty_threshold=0.65, sixty_threshold=0.55, \n",
    "                 eighty_threshold=0.5):\n",
    "      \n",
    "        self.no_discount_threshold = no_discount_threshold\n",
    "        self.ten_threshold = ten_threshold\n",
    "        self.forty_threshold = forty_threshold\n",
    "        self.sixty_threshold = sixty_threshold\n",
    "        self.eighty_threshold = eighty_threshold\n",
    "        self.positivity_prob = None\n",
    "        self.model = None\n",
    "        \n",
    "    def fit(self, X, y):\n",
    "        # Fit the model\n",
    "        self.model = opt_ADA_pipeline()\n",
    "        self.model.fit(X, y)\n",
    "        \n",
    "    def recommend(self, user, app):\n",
    "        # Make a prediction with the model\n",
    "        self.prediction = self.model.predict(X)[0]\n",
    "        return self.model.prediction(X)[0] == 1\n",
    "    \n",
    "    def discount_rate(self, X):\n",
    "        # Determine which discount rate to offer based on the positivity probability\n",
    "        self.positivity_prob = self.model.predict_proba(X)[0]\n",
    "        prob_liking = self.positivity_prob\n",
    "        if prob_liking >= self.no_discount_threshold:\n",
    "            return 1\n",
    "        elif prob_liking >= self.ten_threshold:\n",
    "            return 0.9\n",
    "        elif prob_liking >= self.forty_threshold:\n",
    "            return 0.6\n",
    "        elif prob_liking >= self.sixty_threshold:\n",
    "            return 0.4\n",
    "        elif prob_liking >= self.eighty_threshold:\n",
    "            return 0.2\n",
    "        else:\n",
    "            return 0"
   ]
  },
  {
   "cell_type": "code",
   "execution_count": null,
   "id": "cDFRtiISJTaR",
   "metadata": {
    "id": "cDFRtiISJTaR"
   },
   "outputs": [],
   "source": []
  },
  {
   "cell_type": "code",
   "execution_count": 168,
   "id": "e6f8fbd3-f379-47be-8b3a-7a326f7558c5",
   "metadata": {
    "id": "e6f8fbd3-f379-47be-8b3a-7a326f7558c5"
   },
   "outputs": [],
   "source": [
    "def discount_selector(user, app, \n",
    "                       no_discount_threshold=0.8, ten_threshold=0.75, \n",
    "                       forty_threshold=0.65, sixty_threshold=0.55, \n",
    "                       eighty_threshold=0.5):\n",
    "    \n",
    "    # Fit Model\n",
    "    ADA_pipeline.fit(X_var, y_var)\n",
    "\n",
    "    # Find the row in final_df that corresponds to the given user and app IDs\n",
    "    user_row = final_df[(final_df['user_id'] == user) & (final_df['app_id'] == app)]\n",
    "    \n",
    "    if len(user_row) == 0:\n",
    "        raise ValueError(\"User and app ID combination not found in dataframe.\")\n",
    "    \n",
    "    # Make a prediction with the final model using the features from the user_row\n",
    "    liking_prediction = ADA_pipeline.predict(user_row.drop(['y'], axis=1))\n",
    "\n",
    "    if liking_prediction[0] == 0:\n",
    "      print(\"Do not offer game.\")\n",
    "      return None\n",
    "\n",
    "    else:\n",
    "      # Find Probability of Liking\n",
    "      prob_liking = ADA_pipeline.predict_proba(user_row.drop(['y'], axis=1))[0][1]\n",
    "\n",
    "      # Determine which discount to offer based on the probability of liking the game\n",
    "      if prob_liking >= no_discount_threshold:\n",
    "        print(f\"\"\"Customer has a probability of liking the selected game of {prob_liking*100}%. \n",
    "        \\nOffer no discount\"\"\")\n",
    "\n",
    "        return 1\n",
    "    \n",
    "      elif prob_liking >= ten_threshold:\n",
    "        print(f\"\"\"Customer has a probability of liking the selected game of {prob_liking*100}%. \n",
    "        \\nOffer a 20% discount\"\"\")\n",
    "\n",
    "        return 0.9\n",
    "    \n",
    "      elif prob_liking >= forty_threshold:\n",
    "        print(f\"\"\"Customer has a probability of liking the selected game of {prob_liking*100}%. \n",
    "        \\nOffer a 40% discount\"\"\")\n",
    "\n",
    "        return 0.6        \n",
    "    \n",
    "      elif prob_liking >= sixty_threshold:\n",
    "        print(f\"\"\"Customer has a probability of liking the selected game of {prob_liking*100}%. \n",
    "        \\nOffer a 60% discount\"\"\")\n",
    "\n",
    "        return 0.4\n",
    "    \n",
    "      elif prob_liking >= eighty_threshold:\n",
    "        print(f\"\"\"Customer has a probability of liking the selected game of {prob_liking*100}%. \n",
    "        \\nOffer a 80% discount\"\"\")\n",
    "\n",
    "        return 0.2"
   ]
  },
  {
   "cell_type": "code",
   "execution_count": 173,
   "id": "ldGi2rh56u98",
   "metadata": {
    "colab": {
     "base_uri": "https://localhost:8080/"
    },
    "id": "ldGi2rh56u98",
    "outputId": "6c1d5a72-1ea3-4ddf-fa08-135ba420dd52"
   },
   "outputs": [
    {
     "name": "stdout",
     "output_type": "stream",
     "text": [
      "Customer has a probability of liking the selected game of 58.8360096761361%. \n",
      "        \n",
      "Offer a 60% discount\n"
     ]
    },
    {
     "data": {
      "text/plain": [
       "0.4"
      ]
     },
     "execution_count": 173,
     "metadata": {},
     "output_type": "execute_result"
    }
   ],
   "source": [
    "discount_selector(1006136, 359550)"
   ]
  },
  {
   "cell_type": "code",
   "execution_count": null,
   "id": "NW6DJWN8EbJm",
   "metadata": {
    "id": "NW6DJWN8EbJm"
   },
   "outputs": [],
   "source": [
    "def find_most_similar_user(target_user_id):\n",
    "    # Find all users who reviewed the same game as the target user with the same value for y\n",
    "    target_user_game = final_df[final_df['user_id'] == target_user_id]['game_id'].iloc[0]\n",
    "    target_user_y = final_df[final_df['user_id'] == target_user_id]['y'].iloc[0]\n",
    "    similar_users = final_df[(final_df['game_id'] == target_user_game) & (final_df['y'] == target_user_y)]['user_id'].unique()\n",
    "\n",
    "    # Find the count of common games they reviewed with other users with the same 'y' value for each of these users\n",
    "    user_common_counts = {}\n",
    "    for user in similar_users:\n",
    "        user_games = set(final_df[(final_df['user_id'] == user) & (final_df['y'] == target_user_y)]['game_id'])\n",
    "        if len(user_games) < 2:  # discard users who reviewed less than two different games\n",
    "            continue\n",
    "        common_counts = final_df[final_df['game_id'].isin(user_games) & (final_df['y'] == target_user_y)]['user_id'].value_counts()\n",
    "        user_common_counts[user] = common_counts.sum()\n",
    "\n",
    "    # Select the user with the maximum count of common games\n",
    "    if user_common_counts:  # Check if there is at least one user who reviewed at least two different games\n",
    "        most_similar_user = max(user_common_counts, key=user_common_counts.get)\n",
    "    else:\n",
    "        most_similar_user = None\n",
    "\n",
    "    return most_similar_user\n",
    "\n",
    "# get a count of the unique values in the 'name' column\n",
    "value_counts = final_df[user_id].value_counts()\n",
    "\n",
    "# create a Boolean mask to select only the values that appear once\n",
    "mask = value_counts == 1\n",
    "\n",
    "# use the Boolean mask to filter the DataFrame\n",
    "one_review_users = final_df[final_df['user_id'].isin(value_counts[mask].index)]['user_id']\n",
    "\n",
    "most_similar_users = {}\n",
    "\n",
    "for user in one_review_users:\n",
    "\tmost_similar_user[user] =  find_most_similar_user(user)"
   ]
  }
 ],
 "metadata": {
  "colab": {
   "machine_shape": "hm",
   "provenance": []
  },
  "gpuClass": "standard",
  "kernelspec": {
   "display_name": "Python 3 (ipykernel)",
   "language": "python",
   "name": "python3"
  },
  "language_info": {
   "codemirror_mode": {
    "name": "ipython",
    "version": 3
   },
   "file_extension": ".py",
   "mimetype": "text/x-python",
   "name": "python",
   "nbconvert_exporter": "python",
   "pygments_lexer": "ipython3",
   "version": "3.9.12"
  }
 },
 "nbformat": 4,
 "nbformat_minor": 5
}
