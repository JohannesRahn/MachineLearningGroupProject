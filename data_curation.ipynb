{
 "cells": [
  {
   "cell_type": "markdown",
   "id": "dea93456-a96e-4d1f-99ec-0c38d40bda89",
   "metadata": {},
   "source": [
    "# Machine Learning Group Project \n",
    "\n",
    "User game rating prediction & systematic discount offering on Steam. Project developed by Team XX composed by:\n",
    "| Student Name | Student Number | Class Group |\n",
    "| --- | --- | --- |\n",
    "| **Alessandro Maugeri** | 53067 | TA |\n",
    "| **Frank Andreas Bauer** | XXXX | XX |\n",
    "|  **Johannes Rahn** | 53958 | TB |\n",
    "| **Nicole Zoppi** | XXXX | XX |\n",
    "| **Yannick von der Heyden** | XXXX | XX |"
   ]
  },
  {
   "cell_type": "markdown",
   "id": "f2540aaf-fc28-463b-ae53-9f3af7f6b760",
   "metadata": {},
   "source": [
    "## Importing Packages"
   ]
  },
  {
   "cell_type": "code",
   "execution_count": 2,
   "id": "bacd787f",
   "metadata": {},
   "outputs": [],
   "source": [
    "import ast\n",
    "import pandas as pd\n",
    "import numpy as np\n",
    "from datetime import datetime"
   ]
  },
  {
   "cell_type": "markdown",
   "id": "efd8095d-9205-4fde-89e3-63d700bd310f",
   "metadata": {},
   "source": [
    "## Importing Data"
   ]
  },
  {
   "cell_type": "markdown",
   "id": "7bda29c7-9d5a-4e3d-b4dd-365bc91541a7",
   "metadata": {},
   "source": [
    "The data for this project was retrieved from [Kaggle](https://www.kaggle.com/datasets/antonkozyriev/game-recommendations-on-steam?select=games.csv) and stored in the \"data\" folder found in the notebook's directory. The folder includes **five data files**:\n",
    "\n",
    "The CSV file **[games.csv](data/games.csv)** presents data concerning individual games in the Steam library:\n",
    "\n",
    "| Column | Description | Example|\n",
    "| --- | --- | --- |\n",
    "| **app_id** | Product ID on Steam | 620 |\n",
    "| **title** | Product Commercial Title | Portal 2|\n",
    "|  **date_release** | Release Date of Title (y-m-d) | 2011-04-18 |\n",
    "| **win** | Boolean Denoting Compatibility to Windows Computers | True |\n",
    "| **mac** | Boolean Denoting Compatibility to Mac Computers  | True | \n",
    "| **linux** | Boolean Denoting Compatibility to Linux Computers  | True |\n",
    "| **rating** | Categorical Rating of Product (e.g. \"Positive\")| Overwhelmingly Positive |\n",
    "| **positive_ratio** | Ratio of Postive Feedback for Game  | 98 |\n",
    "| **user_reviews** | Number of Reviews  | 267142 |\n",
    "| **price_final** | Final Price in USD | 9.99 |\n",
    "| **price_original** | Price Before Discounts in USD | 9.99 |\n",
    "| **discount** | Applied Discount | 0 |\n",
    "| **steam_deck** | Compatible with [Steam Deck](https://store.steampowered.com/steamdeck)? | True |\n",
    "\n"
   ]
  },
  {
   "cell_type": "code",
   "execution_count": 3,
   "id": "c671eed4-b30e-438b-8c0e-be1a060af029",
   "metadata": {},
   "outputs": [
    {
     "data": {
      "text/html": [
       "<div>\n",
       "<style scoped>\n",
       "    .dataframe tbody tr th:only-of-type {\n",
       "        vertical-align: middle;\n",
       "    }\n",
       "\n",
       "    .dataframe tbody tr th {\n",
       "        vertical-align: top;\n",
       "    }\n",
       "\n",
       "    .dataframe thead th {\n",
       "        text-align: right;\n",
       "    }\n",
       "</style>\n",
       "<table border=\"1\" class=\"dataframe\">\n",
       "  <thead>\n",
       "    <tr style=\"text-align: right;\">\n",
       "      <th></th>\n",
       "      <th>app_id</th>\n",
       "      <th>title</th>\n",
       "      <th>date_release</th>\n",
       "      <th>win</th>\n",
       "      <th>mac</th>\n",
       "      <th>linux</th>\n",
       "      <th>rating</th>\n",
       "      <th>positive_ratio</th>\n",
       "      <th>user_reviews</th>\n",
       "      <th>price_final</th>\n",
       "      <th>price_original</th>\n",
       "      <th>discount</th>\n",
       "      <th>steam_deck</th>\n",
       "    </tr>\n",
       "  </thead>\n",
       "  <tbody>\n",
       "    <tr>\n",
       "      <th>0</th>\n",
       "      <td>10090</td>\n",
       "      <td>Call of Duty: World at War</td>\n",
       "      <td>2008-11-18</td>\n",
       "      <td>True</td>\n",
       "      <td>False</td>\n",
       "      <td>False</td>\n",
       "      <td>Very Positive</td>\n",
       "      <td>92</td>\n",
       "      <td>37039</td>\n",
       "      <td>19.99</td>\n",
       "      <td>19.99</td>\n",
       "      <td>0.0</td>\n",
       "      <td>True</td>\n",
       "    </tr>\n",
       "    <tr>\n",
       "      <th>1</th>\n",
       "      <td>13500</td>\n",
       "      <td>Prince of Persia: Warrior Within™</td>\n",
       "      <td>2008-11-21</td>\n",
       "      <td>True</td>\n",
       "      <td>False</td>\n",
       "      <td>False</td>\n",
       "      <td>Very Positive</td>\n",
       "      <td>84</td>\n",
       "      <td>2199</td>\n",
       "      <td>9.99</td>\n",
       "      <td>9.99</td>\n",
       "      <td>0.0</td>\n",
       "      <td>True</td>\n",
       "    </tr>\n",
       "  </tbody>\n",
       "</table>\n",
       "</div>"
      ],
      "text/plain": [
       "   app_id                              title date_release   win    mac  linux  \\\n",
       "0   10090         Call of Duty: World at War   2008-11-18  True  False  False   \n",
       "1   13500  Prince of Persia: Warrior Within™   2008-11-21  True  False  False   \n",
       "\n",
       "          rating  positive_ratio  user_reviews  price_final  price_original  \\\n",
       "0  Very Positive              92         37039        19.99           19.99   \n",
       "1  Very Positive              84          2199         9.99            9.99   \n",
       "\n",
       "   discount  steam_deck  \n",
       "0       0.0        True  \n",
       "1       0.0        True  "
      ]
     },
     "execution_count": 3,
     "metadata": {},
     "output_type": "execute_result"
    }
   ],
   "source": [
    "df_games_data = pd.read_csv(\"data/games.csv\")\n",
    "df_games_data.head(2)"
   ]
  },
  {
   "cell_type": "markdown",
   "id": "7c1cc07c-e858-4b7a-97d8-59dcea1af68f",
   "metadata": {},
   "source": [
    "----\n",
    "The **CSV file [users.csv](data/users.csv)** presents data concerning individual users found in the datasets:\n",
    "\n",
    "| Column | Description | Example|\n",
    "| --- | --- | --- |\n",
    "| **user_id** | User ID on Steam | 5693478 |\n",
    "| **products** | Number of Products from Steam Library Owned | 156 |\n",
    "|  **reviews** | Number of Reviews Published | 1 |"
   ]
  },
  {
   "cell_type": "code",
   "execution_count": 4,
   "id": "9fb065ea-808b-4a4c-acb0-962032648917",
   "metadata": {},
   "outputs": [
    {
     "data": {
      "text/html": [
       "<div>\n",
       "<style scoped>\n",
       "    .dataframe tbody tr th:only-of-type {\n",
       "        vertical-align: middle;\n",
       "    }\n",
       "\n",
       "    .dataframe tbody tr th {\n",
       "        vertical-align: top;\n",
       "    }\n",
       "\n",
       "    .dataframe thead th {\n",
       "        text-align: right;\n",
       "    }\n",
       "</style>\n",
       "<table border=\"1\" class=\"dataframe\">\n",
       "  <thead>\n",
       "    <tr style=\"text-align: right;\">\n",
       "      <th></th>\n",
       "      <th>user_id</th>\n",
       "      <th>products</th>\n",
       "      <th>reviews</th>\n",
       "    </tr>\n",
       "  </thead>\n",
       "  <tbody>\n",
       "    <tr>\n",
       "      <th>0</th>\n",
       "      <td>5693478</td>\n",
       "      <td>156</td>\n",
       "      <td>1</td>\n",
       "    </tr>\n",
       "    <tr>\n",
       "      <th>1</th>\n",
       "      <td>3595958</td>\n",
       "      <td>329</td>\n",
       "      <td>3</td>\n",
       "    </tr>\n",
       "  </tbody>\n",
       "</table>\n",
       "</div>"
      ],
      "text/plain": [
       "   user_id  products  reviews\n",
       "0  5693478       156        1\n",
       "1  3595958       329        3"
      ]
     },
     "execution_count": 4,
     "metadata": {},
     "output_type": "execute_result"
    }
   ],
   "source": [
    "df_users = pd.read_csv(\"data/users.csv\")\n",
    "df_users.head(2)"
   ]
  },
  {
   "cell_type": "markdown",
   "id": "3aae2244-d400-442b-958d-dc6cb3400c89",
   "metadata": {},
   "source": [
    "----\n",
    "The **CSV file [recommendations.csv](data/recommendations.csv)** has a many-to-many relationship to both users.csv and games.csv and contains data concerning user reviews of specific games:\n",
    "\n",
    "| Column | Description | Example|\n",
    "| --- | --- | --- |\n",
    "| **app_id** | Product ID on Steam | 620 |\n",
    "| **helpful** | Number of Users Who Found Review Helpful | 0 |\n",
    "|  **funny** | Number of Users Who Found Review Funny | 0 |\n",
    "| **date** | Date in Which Review was Published (y-m-d) | 2022-12-12 |\n",
    "| **is_recommended** | Does the User Recommend the Title | True | \n",
    "| **hours** | Hours Spent by User Playing Game  | 36.3 |\n",
    "| **user_id** | User ID of Review Author | 19954 |\n",
    "| **review_id** | ID of Individual Review  | 0 |"
   ]
  },
  {
   "cell_type": "code",
   "execution_count": 5,
   "id": "8f9bad72-5d5f-498a-80d4-6a5b64f20cc8",
   "metadata": {},
   "outputs": [
    {
     "data": {
      "text/html": [
       "<div>\n",
       "<style scoped>\n",
       "    .dataframe tbody tr th:only-of-type {\n",
       "        vertical-align: middle;\n",
       "    }\n",
       "\n",
       "    .dataframe tbody tr th {\n",
       "        vertical-align: top;\n",
       "    }\n",
       "\n",
       "    .dataframe thead th {\n",
       "        text-align: right;\n",
       "    }\n",
       "</style>\n",
       "<table border=\"1\" class=\"dataframe\">\n",
       "  <thead>\n",
       "    <tr style=\"text-align: right;\">\n",
       "      <th></th>\n",
       "      <th>app_id</th>\n",
       "      <th>helpful</th>\n",
       "      <th>funny</th>\n",
       "      <th>date</th>\n",
       "      <th>is_recommended</th>\n",
       "      <th>hours</th>\n",
       "      <th>user_id</th>\n",
       "      <th>review_id</th>\n",
       "    </tr>\n",
       "  </thead>\n",
       "  <tbody>\n",
       "    <tr>\n",
       "      <th>0</th>\n",
       "      <td>975370</td>\n",
       "      <td>0</td>\n",
       "      <td>0</td>\n",
       "      <td>2022-12-12</td>\n",
       "      <td>True</td>\n",
       "      <td>36.3</td>\n",
       "      <td>19954</td>\n",
       "      <td>0</td>\n",
       "    </tr>\n",
       "    <tr>\n",
       "      <th>1</th>\n",
       "      <td>304390</td>\n",
       "      <td>4</td>\n",
       "      <td>0</td>\n",
       "      <td>2017-02-17</td>\n",
       "      <td>False</td>\n",
       "      <td>11.5</td>\n",
       "      <td>1098</td>\n",
       "      <td>1</td>\n",
       "    </tr>\n",
       "  </tbody>\n",
       "</table>\n",
       "</div>"
      ],
      "text/plain": [
       "   app_id  helpful  funny        date  is_recommended  hours  user_id  \\\n",
       "0  975370        0      0  2022-12-12            True   36.3    19954   \n",
       "1  304390        4      0  2017-02-17           False   11.5     1098   \n",
       "\n",
       "   review_id  \n",
       "0          0  \n",
       "1          1  "
      ]
     },
     "execution_count": 5,
     "metadata": {},
     "output_type": "execute_result"
    }
   ],
   "source": [
    "df_recommendations = pd.read_csv(\"data/recommendations.csv\")\n",
    "df_recommendations.head(2)"
   ]
  },
  {
   "cell_type": "markdown",
   "id": "3eabca0b-30fd-45a5-9ac2-2a07af7979cd",
   "metadata": {},
   "source": [
    "----\n",
    "Finally, the folder includes a **JSON file [games_metadata.json](data/games_metadata.json)** containing metadata on individual games:\n",
    "\n",
    "| Column | Description | Example|\n",
    "| --- | --- | --- |\n",
    "| **app_id** | Product ID on Steam | 304430 |\n",
    "| **description** | Game Description on Steam | \"Hunted and alone, a boy finds himself drawn into the center of a dark project. INSIDE is a dark, narrative-driven platformer combining intense action with challenging puzzles. It has been critically acclaimed for its moody art style, ambient soundtrack and unsettling atmosphere.\" |\n",
    "|  **tags** | Additional Tags on Steam Platform | [\"2.5D\", \"Story Rich\", \"Puzzle Platformer\" , \"Atmospheric\" , \"Adventure\" , \"Indie\" , \"Dark\" , \"Horror\" , \"Singleplayer\" , \"Action-Adventure\" , \"Puzzle\" , \"Multiple Endings\" , \"Exploration\" , \"2D Platformer\" , \"Platformer\" , \"Controller\" , \"Soundtrack\" , \"Ambient\" , \"Action\" , \"Narrative\"] |"
   ]
  },
  {
   "cell_type": "code",
   "execution_count": 6,
   "id": "e10381bb",
   "metadata": {
    "tags": []
   },
   "outputs": [
    {
     "data": {
      "text/html": [
       "<div>\n",
       "<style scoped>\n",
       "    .dataframe tbody tr th:only-of-type {\n",
       "        vertical-align: middle;\n",
       "    }\n",
       "\n",
       "    .dataframe tbody tr th {\n",
       "        vertical-align: top;\n",
       "    }\n",
       "\n",
       "    .dataframe thead th {\n",
       "        text-align: right;\n",
       "    }\n",
       "</style>\n",
       "<table border=\"1\" class=\"dataframe\">\n",
       "  <thead>\n",
       "    <tr style=\"text-align: right;\">\n",
       "      <th></th>\n",
       "      <th>app_id</th>\n",
       "      <th>description</th>\n",
       "      <th>tags</th>\n",
       "    </tr>\n",
       "  </thead>\n",
       "  <tbody>\n",
       "    <tr>\n",
       "      <th>0</th>\n",
       "      <td>10090</td>\n",
       "      <td>Call of Duty is back, redefining war like you'...</td>\n",
       "      <td>[Zombies, World War II, FPS, Multiplayer, Acti...</td>\n",
       "    </tr>\n",
       "    <tr>\n",
       "      <th>1</th>\n",
       "      <td>13500</td>\n",
       "      <td>Enter the dark underworld of Prince of Persia ...</td>\n",
       "      <td>[Action, Adventure, Parkour, Third Person, Gre...</td>\n",
       "    </tr>\n",
       "  </tbody>\n",
       "</table>\n",
       "</div>"
      ],
      "text/plain": [
       "   app_id                                        description  \\\n",
       "0   10090  Call of Duty is back, redefining war like you'...   \n",
       "1   13500  Enter the dark underworld of Prince of Persia ...   \n",
       "\n",
       "                                                tags  \n",
       "0  [Zombies, World War II, FPS, Multiplayer, Acti...  \n",
       "1  [Action, Adventure, Parkour, Third Person, Gre...  "
      ]
     },
     "execution_count": 6,
     "metadata": {},
     "output_type": "execute_result"
    }
   ],
   "source": [
    "df_games_meta_data = pd.read_json('data/games_metadata.json', lines=True)\n",
    "df_games_meta_data.head(2)"
   ]
  },
  {
   "cell_type": "markdown",
   "id": "42143f34-bd62-49e9-bb0a-488eaa653fa2",
   "metadata": {},
   "source": [
    "----\n",
    "Two additional data files are utilized from a separate [Kaggle page](https://www.kaggle.com/datasets/nikdavis/steam-store-games?select=steam.csv) to enrich the analysis. These are imported below.\n",
    "\n",
    "\n",
    "The **CSV file [steam.csv](data/steam.csv)** provides additional data on the games:\n",
    "\n",
    "| Column | Description | Example|\n",
    "| --- | --- | --- |\n",
    "| **appid** | Product ID on Steam| 10 |\n",
    "| **name** | Name of Game | Counter-Strike |\n",
    "|  **release_date** | Release Date of Title (y-m-d) | 2000-11-01 |\n",
    "|  **english** | Is the Game Available in English? | 1 |\n",
    "|  **developer** | Developer Company of Game | Valve |\n",
    "|  **publisher** | Publishing Company of Game | Valve |\n",
    "|  **platforms** | Semicolon-Delimited List of Systems that Can Run the Game | windows;mac;linux |\n",
    "|  **required_age** | Minimum Age Required to Play by PEGI UK (0 Means Unsupplied) | 0 |\n",
    "|  **categories** | Game Categorisation (Semicolon Delimited) | Multi-player;Online Multi-Player... |\n",
    "|  **genres** | Game's Genre (Semicolon Delimteted) | Action |\n",
    "|  **steamspy_tags** | Tags from [Steamspy API](https://steamspy.com/) (Semicolon Delimited) | Action;FPS;Multiplayer |\n",
    "|  **achievements** | Number of In-Game Achievements (If Any) | 0 |\n",
    "|  **positive_ratings** | Number of Positive Ratings | 124534 |\n",
    "|  **negative_ratings** | Number of Negative Ratings | 3339 |\n",
    "|  **average_playtime** | Average Playtime by User in Minutes| 17612 |\n",
    "|  **median_playtime** | Median Playtime by User in Minutes | 317 |\n",
    "|  **owners** | Number of Users that Own the Game (Bracket) | 10000000-20000000 |\n",
    "|  **price** | Price of Game | 7.19 |\n",
    "\n"
   ]
  },
  {
   "cell_type": "code",
   "execution_count": 7,
   "id": "8cc1f806-3299-4d7d-9d9a-38b7d96a09e3",
   "metadata": {},
   "outputs": [
    {
     "data": {
      "text/html": [
       "<div>\n",
       "<style scoped>\n",
       "    .dataframe tbody tr th:only-of-type {\n",
       "        vertical-align: middle;\n",
       "    }\n",
       "\n",
       "    .dataframe tbody tr th {\n",
       "        vertical-align: top;\n",
       "    }\n",
       "\n",
       "    .dataframe thead th {\n",
       "        text-align: right;\n",
       "    }\n",
       "</style>\n",
       "<table border=\"1\" class=\"dataframe\">\n",
       "  <thead>\n",
       "    <tr style=\"text-align: right;\">\n",
       "      <th></th>\n",
       "      <th>appid</th>\n",
       "      <th>name</th>\n",
       "      <th>release_date</th>\n",
       "      <th>english</th>\n",
       "      <th>developer</th>\n",
       "      <th>publisher</th>\n",
       "      <th>platforms</th>\n",
       "      <th>required_age</th>\n",
       "      <th>categories</th>\n",
       "      <th>genres</th>\n",
       "      <th>steamspy_tags</th>\n",
       "      <th>achievements</th>\n",
       "      <th>positive_ratings</th>\n",
       "      <th>negative_ratings</th>\n",
       "      <th>average_playtime</th>\n",
       "      <th>median_playtime</th>\n",
       "      <th>owners</th>\n",
       "      <th>price</th>\n",
       "    </tr>\n",
       "  </thead>\n",
       "  <tbody>\n",
       "    <tr>\n",
       "      <th>0</th>\n",
       "      <td>10</td>\n",
       "      <td>Counter-Strike</td>\n",
       "      <td>2000-11-01</td>\n",
       "      <td>1</td>\n",
       "      <td>Valve</td>\n",
       "      <td>Valve</td>\n",
       "      <td>windows;mac;linux</td>\n",
       "      <td>0</td>\n",
       "      <td>Multi-player;Online Multi-Player;Local Multi-P...</td>\n",
       "      <td>Action</td>\n",
       "      <td>Action;FPS;Multiplayer</td>\n",
       "      <td>0</td>\n",
       "      <td>124534</td>\n",
       "      <td>3339</td>\n",
       "      <td>17612</td>\n",
       "      <td>317</td>\n",
       "      <td>10000000-20000000</td>\n",
       "      <td>7.19</td>\n",
       "    </tr>\n",
       "    <tr>\n",
       "      <th>1</th>\n",
       "      <td>20</td>\n",
       "      <td>Team Fortress Classic</td>\n",
       "      <td>1999-04-01</td>\n",
       "      <td>1</td>\n",
       "      <td>Valve</td>\n",
       "      <td>Valve</td>\n",
       "      <td>windows;mac;linux</td>\n",
       "      <td>0</td>\n",
       "      <td>Multi-player;Online Multi-Player;Local Multi-P...</td>\n",
       "      <td>Action</td>\n",
       "      <td>Action;FPS;Multiplayer</td>\n",
       "      <td>0</td>\n",
       "      <td>3318</td>\n",
       "      <td>633</td>\n",
       "      <td>277</td>\n",
       "      <td>62</td>\n",
       "      <td>5000000-10000000</td>\n",
       "      <td>3.99</td>\n",
       "    </tr>\n",
       "  </tbody>\n",
       "</table>\n",
       "</div>"
      ],
      "text/plain": [
       "   appid                   name release_date  english developer publisher  \\\n",
       "0     10         Counter-Strike   2000-11-01        1     Valve     Valve   \n",
       "1     20  Team Fortress Classic   1999-04-01        1     Valve     Valve   \n",
       "\n",
       "           platforms  required_age  \\\n",
       "0  windows;mac;linux             0   \n",
       "1  windows;mac;linux             0   \n",
       "\n",
       "                                          categories  genres  \\\n",
       "0  Multi-player;Online Multi-Player;Local Multi-P...  Action   \n",
       "1  Multi-player;Online Multi-Player;Local Multi-P...  Action   \n",
       "\n",
       "            steamspy_tags  achievements  positive_ratings  negative_ratings  \\\n",
       "0  Action;FPS;Multiplayer             0            124534              3339   \n",
       "1  Action;FPS;Multiplayer             0              3318               633   \n",
       "\n",
       "   average_playtime  median_playtime             owners  price  \n",
       "0             17612              317  10000000-20000000   7.19  \n",
       "1               277               62   5000000-10000000   3.99  "
      ]
     },
     "execution_count": 7,
     "metadata": {},
     "output_type": "execute_result"
    }
   ],
   "source": [
    "df_games_additional = pd.read_csv(\"data/steam.csv\")\n",
    "df_games_additional.head(2)"
   ]
  },
  {
   "cell_type": "markdown",
   "id": "f30fab8c-18ac-4c7a-bc58-f13d393956f9",
   "metadata": {},
   "source": [
    "### JOEY'S TASK\n",
    "The **CSV file [blabla.csv](data/steam.csv)** contains information about system requirements in order to run the games:\n",
    "\n",
    "| Column | Description | Example|\n",
    "| --- | --- | --- |\n",
    "| **JOEY** | Product ID on Steam| 10 |\n",
    "| **JOEY** | Name of Game | Counter-Strike |\n",
    "|  **JOEY** | Release Date of Title (y-m-d) | 2000-11-01 |\n",
    "|  **JOEY** | Is the Game Available in English? | 1 |"
   ]
  },
  {
   "cell_type": "code",
   "execution_count": 8,
   "id": "58dfca4b-5d4b-4b82-a021-71d16fa958fa",
   "metadata": {},
   "outputs": [],
   "source": [
    "# File Import "
   ]
  },
  {
   "cell_type": "markdown",
   "id": "e223689f-0688-471c-8600-9e44df389c6d",
   "metadata": {},
   "source": [
    "## Preliminary Data Exploration"
   ]
  },
  {
   "cell_type": "code",
   "execution_count": 9,
   "id": "fa1878f3-8fed-47dc-a09d-b08370842f59",
   "metadata": {},
   "outputs": [
    {
     "data": {
      "text/plain": [
       "array(['Very Positive', 'Positive', 'Mixed', 'Mostly Positive',\n",
       "       'Overwhelmingly Positive', 'Mostly Negative',\n",
       "       'Overwhelmingly Negative', 'Negative', 'Very Negative'],\n",
       "      dtype=object)"
      ]
     },
     "execution_count": 9,
     "metadata": {},
     "output_type": "execute_result"
    }
   ],
   "source": [
    "df_games_data[\"rating\"].unique()"
   ]
  },
  {
   "cell_type": "code",
   "execution_count": 10,
   "id": "9c7102df-294a-47cf-b157-1126286d6c45",
   "metadata": {},
   "outputs": [
    {
     "data": {
      "text/plain": [
       "array(['10000000-20000000', '5000000-10000000', '2000000-5000000',\n",
       "       '20000000-50000000', '100000000-200000000', '50000000-100000000',\n",
       "       '20000-50000', '500000-1000000', '100000-200000', '50000-100000',\n",
       "       '1000000-2000000', '200000-500000', '0-20000'], dtype=object)"
      ]
     },
     "execution_count": 10,
     "metadata": {},
     "output_type": "execute_result"
    }
   ],
   "source": [
    "df_games_additional[\"owners\"].unique()"
   ]
  },
  {
   "cell_type": "code",
   "execution_count": 11,
   "id": "b3547065-9cfa-43c7-a82d-3e14b5932195",
   "metadata": {},
   "outputs": [
    {
     "data": {
      "text/plain": [
       "Choice of Games               94\n",
       "KOEI TECMO GAMES CO., LTD.    72\n",
       "Ripknot Systems               62\n",
       "Laush Dmitriy Sergeevich      51\n",
       "Nikita \"Ghost_RUS\"            50\n",
       "                              ..\n",
       "CRAPPY ZOMBIE GAME STUDIO      1\n",
       "Ramon Mujica                   1\n",
       "Oomst Games                    1\n",
       "Joe Censored Games             1\n",
       "Adept Studios GD               1\n",
       "Name: developer, Length: 17113, dtype: int64"
      ]
     },
     "execution_count": 11,
     "metadata": {},
     "output_type": "execute_result"
    }
   ],
   "source": [
    "df_games_additional[\"developer\"].value_counts()"
   ]
  },
  {
   "cell_type": "markdown",
   "id": "746a74da-b868-4e0f-a0df-71b398091fd5",
   "metadata": {},
   "source": [
    "## Data Preparation"
   ]
  },
  {
   "cell_type": "markdown",
   "id": "59e0645e-00ba-45b4-9429-6c282bf0cf7f",
   "metadata": {
    "tags": []
   },
   "source": [
    "#### Games Data\n",
    "- Turning relevant columns to datetime objects\n",
    "- **AA IF ANYTHING ELSE PLEASE ADD**"
   ]
  },
  {
   "cell_type": "code",
   "execution_count": 12,
   "id": "cb67f7ea-bd82-4f19-9b02-6719dec83a56",
   "metadata": {},
   "outputs": [],
   "source": [
    "# Turn date_release column to Pandas DateTime\n",
    "df_games_data[\"date_release\"] = pd.to_datetime(df_games_data[\"date_release\"])"
   ]
  },
  {
   "cell_type": "markdown",
   "id": "cc6842bb-d646-4b01-beee-4276d5f680e8",
   "metadata": {},
   "source": [
    "#### Additional Game Data\n",
    "- Drop features that are redundant with df_games_data"
   ]
  },
  {
   "cell_type": "code",
   "execution_count": 13,
   "id": "7af1e3ff-f835-4170-ba58-d62cc293c4c9",
   "metadata": {},
   "outputs": [],
   "source": [
    "# Drop Redundant Columns\n",
    "df_games_additional.drop([\"name\",\"platforms\", \"release_date\", \"price\", \n",
    "                          \"positive_ratings\", \"negative_ratings\", \"categories\"], axis = 1, inplace = True)"
   ]
  },
  {
   "cell_type": "code",
   "execution_count": 14,
   "id": "018ecfb7-e923-4397-8369-d98200906074",
   "metadata": {},
   "outputs": [
    {
     "data": {
      "text/html": [
       "<div>\n",
       "<style scoped>\n",
       "    .dataframe tbody tr th:only-of-type {\n",
       "        vertical-align: middle;\n",
       "    }\n",
       "\n",
       "    .dataframe tbody tr th {\n",
       "        vertical-align: top;\n",
       "    }\n",
       "\n",
       "    .dataframe thead th {\n",
       "        text-align: right;\n",
       "    }\n",
       "</style>\n",
       "<table border=\"1\" class=\"dataframe\">\n",
       "  <thead>\n",
       "    <tr style=\"text-align: right;\">\n",
       "      <th></th>\n",
       "      <th>appid</th>\n",
       "      <th>english</th>\n",
       "      <th>developer</th>\n",
       "      <th>publisher</th>\n",
       "      <th>required_age</th>\n",
       "      <th>genres</th>\n",
       "      <th>steamspy_tags</th>\n",
       "      <th>achievements</th>\n",
       "      <th>average_playtime</th>\n",
       "      <th>median_playtime</th>\n",
       "      <th>owners</th>\n",
       "    </tr>\n",
       "  </thead>\n",
       "  <tbody>\n",
       "    <tr>\n",
       "      <th>0</th>\n",
       "      <td>10</td>\n",
       "      <td>1</td>\n",
       "      <td>Valve</td>\n",
       "      <td>Valve</td>\n",
       "      <td>0</td>\n",
       "      <td>Action</td>\n",
       "      <td>Action;FPS;Multiplayer</td>\n",
       "      <td>0</td>\n",
       "      <td>17612</td>\n",
       "      <td>317</td>\n",
       "      <td>10000000-20000000</td>\n",
       "    </tr>\n",
       "  </tbody>\n",
       "</table>\n",
       "</div>"
      ],
      "text/plain": [
       "   appid  english developer publisher  required_age  genres  \\\n",
       "0     10        1     Valve     Valve             0  Action   \n",
       "\n",
       "            steamspy_tags  achievements  average_playtime  median_playtime  \\\n",
       "0  Action;FPS;Multiplayer             0             17612              317   \n",
       "\n",
       "              owners  \n",
       "0  10000000-20000000  "
      ]
     },
     "execution_count": 14,
     "metadata": {},
     "output_type": "execute_result"
    }
   ],
   "source": [
    "df_games_additional.head(1)"
   ]
  },
  {
   "cell_type": "markdown",
   "id": "96c4fdfc-b58b-41f3-9f72-5149633af2ec",
   "metadata": {},
   "source": [
    "#### Recommendations Data\n",
    "- Turn date features into datetime objects\n",
    "- Rename is_recommended to y, to signal it is the target variable"
   ]
  },
  {
   "cell_type": "code",
   "execution_count": 15,
   "id": "1b737fdd-c1e2-43ac-9be7-86adf2ad7896",
   "metadata": {},
   "outputs": [],
   "source": [
    "# Turn to DateTime\n",
    "df_recommendations[\"date\"] = pd.to_datetime(df_recommendations[\"date\"])\n",
    "\n",
    "# Rename column\n",
    "df_recommendations.rename(columns = {\"is_recommended\": \"y\"}, inplace = True)"
   ]
  },
  {
   "cell_type": "markdown",
   "id": "ad43c63c-d3c2-4705-a0e0-09673b56d54a",
   "metadata": {},
   "source": [
    "#### Games Metadata"
   ]
  },
  {
   "cell_type": "code",
   "execution_count": 16,
   "id": "97f35611-d470-4679-b21a-82d6715e6080",
   "metadata": {},
   "outputs": [],
   "source": [
    "# Turn the Tags Column Into a List\n",
    "df_games_meta_data[\"tags\"] = df_games_meta_data[\"tags\"].astype(str).apply(ast.literal_eval)"
   ]
  },
  {
   "cell_type": "markdown",
   "id": "d5fee129-c1e7-43d2-b379-3eda177cc02e",
   "metadata": {},
   "source": [
    "## Merging Datasets\n",
    "\n",
    "We merge the data into one single final DataFrame."
   ]
  },
  {
   "cell_type": "code",
   "execution_count": 17,
   "id": "0eb0104e",
   "metadata": {},
   "outputs": [],
   "source": [
    "# Merge all information on games to one DataFrame\n",
    "games_df = df_games_data.merge(df_games_meta_data, how = \"inner\")\n",
    "games_df = games_df.merge(df_games_additional, how = \"inner\",\n",
    "                          left_on = \"app_id\", right_on = \"appid\")\n",
    "\n",
    "# Merge game information into the recommendations DataFrame\n",
    "recs_df = df_recommendations.merge(games_df, how = \"inner\", on = \"app_id\")\n",
    "\n",
    "# Merge all information on users into a final DataFrame\n",
    "final_df = recs_df.merge(df_users, how=\"inner\", on = \"user_id\")"
   ]
  },
  {
   "cell_type": "code",
   "execution_count": null,
   "id": "7f842fd7-2f6e-4d10-b927-242d0b18afe3",
   "metadata": {},
   "outputs": [],
   "source": [
    "final_df.describe()\n",
    "\n",
    "# Save df to file\n",
    "final_df.to_csv('data/final_df.csv', index = False)"
   ]
  },
  {
   "cell_type": "markdown",
   "id": "388c5a1e-b0b1-40fa-b3f6-4ac637f96d6c",
   "metadata": {},
   "source": [
    "## Data Exploration"
   ]
  },
  {
   "cell_type": "code",
   "execution_count": 18,
   "id": "bbc6f5cd-22bc-415e-8b5e-600fc209d7ee",
   "metadata": {},
   "outputs": [
    {
     "data": {
      "text/plain": [
       "(6564923, 35)"
      ]
     },
     "execution_count": 18,
     "metadata": {},
     "output_type": "execute_result"
    }
   ],
   "source": [
    "final_df.shape"
   ]
  },
  {
   "cell_type": "code",
   "execution_count": 19,
   "id": "e292b75d-e7ce-41fe-8693-cf3a94dd1209",
   "metadata": {},
   "outputs": [
    {
     "name": "stdout",
     "output_type": "stream",
     "text": [
      "Total NaNs in the final_df DataFrame: 0\n"
     ]
    }
   ],
   "source": [
    "total_nans = final_df.isna().sum().sum()\n",
    "print(f\"Total NaNs in the final_df DataFrame: {total_nans}\")"
   ]
  },
  {
   "cell_type": "code",
   "execution_count": 20,
   "id": "3ee85ca3-d15e-4dc9-b956-e0dc5ce04656",
   "metadata": {},
   "outputs": [
    {
     "data": {
      "text/html": [
       "<div>\n",
       "<style scoped>\n",
       "    .dataframe tbody tr th:only-of-type {\n",
       "        vertical-align: middle;\n",
       "    }\n",
       "\n",
       "    .dataframe tbody tr th {\n",
       "        vertical-align: top;\n",
       "    }\n",
       "\n",
       "    .dataframe thead th {\n",
       "        text-align: right;\n",
       "    }\n",
       "</style>\n",
       "<table border=\"1\" class=\"dataframe\">\n",
       "  <thead>\n",
       "    <tr style=\"text-align: right;\">\n",
       "      <th></th>\n",
       "      <th>count</th>\n",
       "      <th>mean</th>\n",
       "      <th>std</th>\n",
       "      <th>min</th>\n",
       "      <th>10%</th>\n",
       "      <th>25%</th>\n",
       "      <th>50%</th>\n",
       "      <th>75%</th>\n",
       "      <th>90%</th>\n",
       "      <th>max</th>\n",
       "    </tr>\n",
       "  </thead>\n",
       "  <tbody>\n",
       "    <tr>\n",
       "      <th>app_id</th>\n",
       "      <td>6564923.0</td>\n",
       "      <td>333103.39</td>\n",
       "      <td>185197.05</td>\n",
       "      <td>70.0</td>\n",
       "      <td>49520.0</td>\n",
       "      <td>238960.00</td>\n",
       "      <td>294100.00</td>\n",
       "      <td>431960.00</td>\n",
       "      <td>594650.00</td>\n",
       "      <td>1032430.00</td>\n",
       "    </tr>\n",
       "    <tr>\n",
       "      <th>helpful</th>\n",
       "      <td>6564923.0</td>\n",
       "      <td>3.46</td>\n",
       "      <td>58.34</td>\n",
       "      <td>0.0</td>\n",
       "      <td>0.0</td>\n",
       "      <td>0.00</td>\n",
       "      <td>0.00</td>\n",
       "      <td>0.00</td>\n",
       "      <td>3.00</td>\n",
       "      <td>29627.00</td>\n",
       "    </tr>\n",
       "    <tr>\n",
       "      <th>funny</th>\n",
       "      <td>6564923.0</td>\n",
       "      <td>1.39</td>\n",
       "      <td>48.06</td>\n",
       "      <td>0.0</td>\n",
       "      <td>0.0</td>\n",
       "      <td>0.00</td>\n",
       "      <td>0.00</td>\n",
       "      <td>0.00</td>\n",
       "      <td>0.00</td>\n",
       "      <td>28088.00</td>\n",
       "    </tr>\n",
       "    <tr>\n",
       "      <th>hours</th>\n",
       "      <td>6564923.0</td>\n",
       "      <td>190.43</td>\n",
       "      <td>237.30</td>\n",
       "      <td>0.0</td>\n",
       "      <td>7.6</td>\n",
       "      <td>23.60</td>\n",
       "      <td>83.00</td>\n",
       "      <td>268.90</td>\n",
       "      <td>574.10</td>\n",
       "      <td>999.90</td>\n",
       "    </tr>\n",
       "    <tr>\n",
       "      <th>user_id</th>\n",
       "      <td>6564923.0</td>\n",
       "      <td>3004127.70</td>\n",
       "      <td>1650810.13</td>\n",
       "      <td>0.0</td>\n",
       "      <td>614340.0</td>\n",
       "      <td>1666029.00</td>\n",
       "      <td>3047610.00</td>\n",
       "      <td>4435053.00</td>\n",
       "      <td>5229131.00</td>\n",
       "      <td>5810792.00</td>\n",
       "    </tr>\n",
       "    <tr>\n",
       "      <th>review_id</th>\n",
       "      <td>6564923.0</td>\n",
       "      <td>5136968.74</td>\n",
       "      <td>2967648.97</td>\n",
       "      <td>1.0</td>\n",
       "      <td>1024397.2</td>\n",
       "      <td>2559700.00</td>\n",
       "      <td>5120629.00</td>\n",
       "      <td>7756637.50</td>\n",
       "      <td>9286506.60</td>\n",
       "      <td>10072269.00</td>\n",
       "    </tr>\n",
       "    <tr>\n",
       "      <th>positive_ratio</th>\n",
       "      <td>6564923.0</td>\n",
       "      <td>87.83</td>\n",
       "      <td>7.84</td>\n",
       "      <td>44.0</td>\n",
       "      <td>78.0</td>\n",
       "      <td>83.00</td>\n",
       "      <td>88.00</td>\n",
       "      <td>94.00</td>\n",
       "      <td>97.00</td>\n",
       "      <td>98.00</td>\n",
       "    </tr>\n",
       "    <tr>\n",
       "      <th>user_reviews</th>\n",
       "      <td>6564923.0</td>\n",
       "      <td>415855.42</td>\n",
       "      <td>1132509.05</td>\n",
       "      <td>174.0</td>\n",
       "      <td>21086.0</td>\n",
       "      <td>52226.00</td>\n",
       "      <td>105614.00</td>\n",
       "      <td>204840.00</td>\n",
       "      <td>722973.00</td>\n",
       "      <td>6941137.00</td>\n",
       "    </tr>\n",
       "    <tr>\n",
       "      <th>price_final</th>\n",
       "      <td>6564923.0</td>\n",
       "      <td>21.18</td>\n",
       "      <td>15.57</td>\n",
       "      <td>0.0</td>\n",
       "      <td>0.0</td>\n",
       "      <td>9.99</td>\n",
       "      <td>19.99</td>\n",
       "      <td>29.99</td>\n",
       "      <td>39.99</td>\n",
       "      <td>59.99</td>\n",
       "    </tr>\n",
       "    <tr>\n",
       "      <th>price_original</th>\n",
       "      <td>6564923.0</td>\n",
       "      <td>22.42</td>\n",
       "      <td>16.51</td>\n",
       "      <td>0.0</td>\n",
       "      <td>0.0</td>\n",
       "      <td>9.99</td>\n",
       "      <td>19.99</td>\n",
       "      <td>29.99</td>\n",
       "      <td>39.99</td>\n",
       "      <td>109.99</td>\n",
       "    </tr>\n",
       "    <tr>\n",
       "      <th>discount</th>\n",
       "      <td>6564923.0</td>\n",
       "      <td>4.32</td>\n",
       "      <td>17.51</td>\n",
       "      <td>0.0</td>\n",
       "      <td>0.0</td>\n",
       "      <td>0.00</td>\n",
       "      <td>0.00</td>\n",
       "      <td>0.00</td>\n",
       "      <td>0.00</td>\n",
       "      <td>90.00</td>\n",
       "    </tr>\n",
       "    <tr>\n",
       "      <th>appid</th>\n",
       "      <td>6564923.0</td>\n",
       "      <td>333103.39</td>\n",
       "      <td>185197.05</td>\n",
       "      <td>70.0</td>\n",
       "      <td>49520.0</td>\n",
       "      <td>238960.00</td>\n",
       "      <td>294100.00</td>\n",
       "      <td>431960.00</td>\n",
       "      <td>594650.00</td>\n",
       "      <td>1032430.00</td>\n",
       "    </tr>\n",
       "    <tr>\n",
       "      <th>english</th>\n",
       "      <td>6564923.0</td>\n",
       "      <td>1.00</td>\n",
       "      <td>0.00</td>\n",
       "      <td>1.0</td>\n",
       "      <td>1.0</td>\n",
       "      <td>1.00</td>\n",
       "      <td>1.00</td>\n",
       "      <td>1.00</td>\n",
       "      <td>1.00</td>\n",
       "      <td>1.00</td>\n",
       "    </tr>\n",
       "    <tr>\n",
       "      <th>required_age</th>\n",
       "      <td>6564923.0</td>\n",
       "      <td>4.37</td>\n",
       "      <td>7.59</td>\n",
       "      <td>0.0</td>\n",
       "      <td>0.0</td>\n",
       "      <td>0.00</td>\n",
       "      <td>0.00</td>\n",
       "      <td>0.00</td>\n",
       "      <td>18.00</td>\n",
       "      <td>18.00</td>\n",
       "    </tr>\n",
       "    <tr>\n",
       "      <th>achievements</th>\n",
       "      <td>6564923.0</td>\n",
       "      <td>78.24</td>\n",
       "      <td>140.19</td>\n",
       "      <td>0.0</td>\n",
       "      <td>0.0</td>\n",
       "      <td>7.00</td>\n",
       "      <td>43.00</td>\n",
       "      <td>88.00</td>\n",
       "      <td>167.00</td>\n",
       "      <td>1130.00</td>\n",
       "    </tr>\n",
       "    <tr>\n",
       "      <th>average_playtime</th>\n",
       "      <td>6564923.0</td>\n",
       "      <td>4590.54</td>\n",
       "      <td>5843.19</td>\n",
       "      <td>0.0</td>\n",
       "      <td>520.0</td>\n",
       "      <td>1084.00</td>\n",
       "      <td>2086.00</td>\n",
       "      <td>5017.00</td>\n",
       "      <td>9837.00</td>\n",
       "      <td>28897.00</td>\n",
       "    </tr>\n",
       "    <tr>\n",
       "      <th>median_playtime</th>\n",
       "      <td>6564923.0</td>\n",
       "      <td>1782.10</td>\n",
       "      <td>1969.72</td>\n",
       "      <td>0.0</td>\n",
       "      <td>166.0</td>\n",
       "      <td>492.00</td>\n",
       "      <td>1147.00</td>\n",
       "      <td>2234.00</td>\n",
       "      <td>4181.00</td>\n",
       "      <td>12434.00</td>\n",
       "    </tr>\n",
       "    <tr>\n",
       "      <th>products</th>\n",
       "      <td>6564923.0</td>\n",
       "      <td>190.90</td>\n",
       "      <td>369.01</td>\n",
       "      <td>0.0</td>\n",
       "      <td>13.0</td>\n",
       "      <td>37.00</td>\n",
       "      <td>95.00</td>\n",
       "      <td>216.00</td>\n",
       "      <td>428.00</td>\n",
       "      <td>29308.00</td>\n",
       "    </tr>\n",
       "    <tr>\n",
       "      <th>reviews</th>\n",
       "      <td>6564923.0</td>\n",
       "      <td>3.94</td>\n",
       "      <td>5.72</td>\n",
       "      <td>1.0</td>\n",
       "      <td>1.0</td>\n",
       "      <td>1.00</td>\n",
       "      <td>2.00</td>\n",
       "      <td>4.00</td>\n",
       "      <td>9.00</td>\n",
       "      <td>151.00</td>\n",
       "    </tr>\n",
       "  </tbody>\n",
       "</table>\n",
       "</div>"
      ],
      "text/plain": [
       "                      count        mean         std    min        10%  \\\n",
       "app_id            6564923.0   333103.39   185197.05   70.0    49520.0   \n",
       "helpful           6564923.0        3.46       58.34    0.0        0.0   \n",
       "funny             6564923.0        1.39       48.06    0.0        0.0   \n",
       "hours             6564923.0      190.43      237.30    0.0        7.6   \n",
       "user_id           6564923.0  3004127.70  1650810.13    0.0   614340.0   \n",
       "review_id         6564923.0  5136968.74  2967648.97    1.0  1024397.2   \n",
       "positive_ratio    6564923.0       87.83        7.84   44.0       78.0   \n",
       "user_reviews      6564923.0   415855.42  1132509.05  174.0    21086.0   \n",
       "price_final       6564923.0       21.18       15.57    0.0        0.0   \n",
       "price_original    6564923.0       22.42       16.51    0.0        0.0   \n",
       "discount          6564923.0        4.32       17.51    0.0        0.0   \n",
       "appid             6564923.0   333103.39   185197.05   70.0    49520.0   \n",
       "english           6564923.0        1.00        0.00    1.0        1.0   \n",
       "required_age      6564923.0        4.37        7.59    0.0        0.0   \n",
       "achievements      6564923.0       78.24      140.19    0.0        0.0   \n",
       "average_playtime  6564923.0     4590.54     5843.19    0.0      520.0   \n",
       "median_playtime   6564923.0     1782.10     1969.72    0.0      166.0   \n",
       "products          6564923.0      190.90      369.01    0.0       13.0   \n",
       "reviews           6564923.0        3.94        5.72    1.0        1.0   \n",
       "\n",
       "                         25%         50%         75%         90%          max  \n",
       "app_id             238960.00   294100.00   431960.00   594650.00   1032430.00  \n",
       "helpful                 0.00        0.00        0.00        3.00     29627.00  \n",
       "funny                   0.00        0.00        0.00        0.00     28088.00  \n",
       "hours                  23.60       83.00      268.90      574.10       999.90  \n",
       "user_id           1666029.00  3047610.00  4435053.00  5229131.00   5810792.00  \n",
       "review_id         2559700.00  5120629.00  7756637.50  9286506.60  10072269.00  \n",
       "positive_ratio         83.00       88.00       94.00       97.00        98.00  \n",
       "user_reviews        52226.00   105614.00   204840.00   722973.00   6941137.00  \n",
       "price_final             9.99       19.99       29.99       39.99        59.99  \n",
       "price_original          9.99       19.99       29.99       39.99       109.99  \n",
       "discount                0.00        0.00        0.00        0.00        90.00  \n",
       "appid              238960.00   294100.00   431960.00   594650.00   1032430.00  \n",
       "english                 1.00        1.00        1.00        1.00         1.00  \n",
       "required_age            0.00        0.00        0.00       18.00        18.00  \n",
       "achievements            7.00       43.00       88.00      167.00      1130.00  \n",
       "average_playtime     1084.00     2086.00     5017.00     9837.00     28897.00  \n",
       "median_playtime       492.00     1147.00     2234.00     4181.00     12434.00  \n",
       "products               37.00       95.00      216.00      428.00     29308.00  \n",
       "reviews                 1.00        2.00        4.00        9.00       151.00  "
      ]
     },
     "execution_count": 20,
     "metadata": {},
     "output_type": "execute_result"
    }
   ],
   "source": [
    "# describe final_df\n",
    "final_df.describe(percentiles=[.1, .25, .5, .75, .9]).round(2).T"
   ]
  },
  {
   "cell_type": "markdown",
   "id": "2954737f-2a84-4074-a28e-5965d89c9454",
   "metadata": {},
   "source": [
    "**Correlation Matrix**"
   ]
  },
  {
   "cell_type": "code",
   "execution_count": 21,
   "id": "bbb2d4b2-e700-4369-94b9-bcfdfe30c903",
   "metadata": {},
   "outputs": [
    {
     "name": "stderr",
     "output_type": "stream",
     "text": [
      "/var/folders/jb/9xp08w9911z54x3w83qfzx2w0000gn/T/ipykernel_89926/1089923943.py:20: SettingWithCopyWarning: \n",
      "A value is trying to be set on a copy of a slice from a DataFrame.\n",
      "Try using .loc[row_indexer,col_indexer] = value instead\n",
      "\n",
      "See the caveats in the documentation: https://pandas.pydata.org/pandas-docs/stable/user_guide/indexing.html#returning-a-view-versus-a-copy\n",
      "  df_analyze['rating'] = df_analyze['rating'].map(rating_map)\n",
      "/var/folders/jb/9xp08w9911z54x3w83qfzx2w0000gn/T/ipykernel_89926/1089923943.py:23: SettingWithCopyWarning: \n",
      "A value is trying to be set on a copy of a slice from a DataFrame.\n",
      "Try using .loc[row_indexer,col_indexer] = value instead\n",
      "\n",
      "See the caveats in the documentation: https://pandas.pydata.org/pandas-docs/stable/user_guide/indexing.html#returning-a-view-versus-a-copy\n",
      "  df_analyze['y'] = df_analyze['y'].map({True: 1, False: 0})\n"
     ]
    },
    {
     "data": {
      "image/png": "[encoded data removed]",
      "text/plain": [
       "<Figure size 1000x800 with 2 Axes>"
      ]
     },
     "metadata": {},
     "output_type": "display_data"
    }
   ],
   "source": [
    "# correlations between different variables, such as price and rating, user reviews and helpful votes, or hours played and recommendation status.\n",
    "\n",
    "import csv\n",
    "import matplotlib.pyplot as plt\n",
    "import seaborn as sns\n",
    "import datetime\n",
    "\n",
    "\n",
    "df_analyze = final_df[['price_final', 'rating', 'user_reviews', 'helpful', 'hours', 'y']]\n",
    "\n",
    "# Convert rating column to numerical values\n",
    "rating_map = {\n",
    "    'Overwhelmingly Positive': 5,\n",
    "    'Very Positive': 4,\n",
    "    'Mostly Positive': 3,\n",
    "    'Mixed': 2,\n",
    "    'Mostly Negative': 1,\n",
    "    'Very Negative': 0\n",
    "}\n",
    "df_analyze['rating'] = df_analyze['rating'].map(rating_map)\n",
    "\n",
    "# Convert is_recommended column to binary values\n",
    "df_analyze['y'] = df_analyze['y'].map({True: 1, False: 0})\n",
    "\n",
    "# Calculate the correlation matrix\n",
    "corr_matrix = df_analyze.corr()\n",
    "\n",
    "# Setting seaborn style\n",
    "sns.set(style=\"white\")\n",
    "\n",
    "# Generate a mask for the upper triangle\n",
    "mask = np.triu(np.ones_like(corr_matrix, dtype=bool))\n",
    "\n",
    "f, ax = plt.subplots(figsize=(10, 8))\n",
    "\n",
    "\n",
    "cmap = sns.diverging_palette(230, 20, as_cmap=True)\n",
    "\n",
    "sns.heatmap(corr_matrix, mask=mask, cmap=cmap, vmax=1, vmin=-1, center=0, square=True, linewidths=.5, cbar_kws={\"shrink\": .5}, annot=True, fmt=\".2f\")\n",
    "plt.title('Correlation Heatmap')\n",
    "plt.show()\n"
   ]
  },
  {
   "cell_type": "markdown",
   "id": "a860f560-5516-4c1b-9544-2809642cd0c7",
   "metadata": {},
   "source": [
    "As expected, be observe the strongest positive correlations between is_recommended and rating and user_reviews and hours. Hours and is_recommended are also slightly correlated.\n",
    "The final price seems to have a negative influence on user_reviews and the rating."
   ]
  },
  {
   "cell_type": "markdown",
   "id": "61f5b41d-c7f6-46d7-bd02-edbd6f85fb4a",
   "metadata": {},
   "source": [
    "**Frequency Distribution of Final Prices**"
   ]
  },
  {
   "cell_type": "code",
   "execution_count": 22,
   "id": "c9a99648-2ef4-4083-a3a9-f99c3402108b",
   "metadata": {},
   "outputs": [
    {
     "data": {
      "text/plain": [
       "<Figure size 1000x500 with 0 Axes>"
      ]
     },
     "metadata": {},
     "output_type": "display_data"
    },
    {
     "data": {
      "image/png": "[encoded data removed]",
      "text/plain": [
       "<Figure size 640x480 with 1 Axes>"
      ]
     },
     "metadata": {},
     "output_type": "display_data"
    }
   ],
   "source": [
    "# frequency distribution of final prices\n",
    "\n",
    "plt.figure(figsize=(10, 5))\n",
    "plt.figure(dpi=100)\n",
    "plt.hist(final_df['price_final'], bins=25, edgecolor='black', range=(0, 100))\n",
    "plt.title('Frequency Distribution of Final Prices')\n",
    "plt.xlabel('Price')\n",
    "plt.ylabel('Frequency')\n",
    "plt.xlim(0, 100)  # Set the x-axis limits to 0 and 110\n",
    "plt.show()"
   ]
  },
  {
   "cell_type": "markdown",
   "id": "3dded9f3-3282-470e-82f9-0886b2ad5d47",
   "metadata": {},
   "source": [
    "**Boxplot of Final Prices**"
   ]
  },
  {
   "cell_type": "code",
   "execution_count": 23,
   "id": "84e8f6bd-7430-422d-a6f5-0a40eef2b9e0",
   "metadata": {},
   "outputs": [
    {
     "data": {
      "image/png": "[encoded data removed]",
      "text/plain": [
       "<Figure size 640x480 with 1 Axes>"
      ]
     },
     "metadata": {},
     "output_type": "display_data"
    }
   ],
   "source": [
    "# boxplot of final price\n",
    "\n",
    "ax = final_df.boxplot('price_final')\n",
    "\n",
    "ax.set_ylabel('Price')\n",
    "ax.set_title('Box plot of game prices')\n",
    "\n",
    "stats = final_df['price_final'].describe()\n",
    "mean = final_df['price_final'].mean()\n",
    "std_dev = final_df['price_final'].std()\n",
    "\n",
    "# calculate outliers\n",
    "q1 = stats['25%']\n",
    "q3 = stats['75%']\n",
    "iqr = q3 - q1\n",
    "lower_bound = q1 - (1.5 * iqr)\n",
    "upper_bound = q3 + (1.5 * iqr)\n",
    "\n",
    "outliers = final_df[(final_df['price_final'] < lower_bound) | (final_df['price_final'] > upper_bound)]['price_final']\n",
    "num_outliers = outliers.count()\n",
    "\n",
    "# add statistics to the plot\n",
    "ax.text(0.7, 0.85, f\"Mean: {mean:.2f}\\nStd Dev: {std_dev:.2f}\\nMedian: {stats['50%']:.2f}\\nQ1: {stats['25%']:.2f}\\nQ3: {stats['75%']:.2f}\\nOutliers: {num_outliers}\",\n",
    "        transform=ax.transAxes, bbox=dict(facecolor='white', edgecolor='black', alpha=0.9))\n",
    "\n",
    "\n",
    "plt.show()\n"
   ]
  },
  {
   "cell_type": "markdown",
   "id": "fbdb9208-427e-41b2-8b3a-ed7755e1bfd8",
   "metadata": {},
   "source": [
    "**Frequency Distribution of Rating**"
   ]
  },
  {
   "cell_type": "code",
   "execution_count": 24,
   "id": "9f723eb4-e90a-480b-bdfb-9426208b1a04",
   "metadata": {},
   "outputs": [
    {
     "data": {
      "image/png": "[encoded data removed]",
      "text/plain": [
       "<Figure size 1800x1000 with 1 Axes>"
      ]
     },
     "metadata": {},
     "output_type": "display_data"
    }
   ],
   "source": [
    "# Plotting the frequency distribution of rating\n",
    "\n",
    "plt.figure(figsize=(18, 10))\n",
    "ax = sns.countplot(x='rating', data=final_df)\n",
    "plt.title('Frequency Distribution of Ratings')\n",
    "plt.xlabel('Rating')\n",
    "plt.ylabel('Frequency')\n",
    "\n",
    "# Annotate bars with counts\n",
    "for p in ax.patches:\n",
    "    ax.annotate(f'{p.get_height()}', (p.get_x() + p.get_width() / 2., p.get_height()), ha='center', va='baseline')\n",
    "\n",
    "plt.show()"
   ]
  },
  {
   "cell_type": "markdown",
   "id": "00d4313c-f633-490e-964f-9683a5e1863a",
   "metadata": {},
   "source": [
    "**Frequency Distribution of Recommendations**"
   ]
  },
  {
   "cell_type": "code",
   "execution_count": 25,
   "id": "d4dd2f29-fcfd-49b0-aa77-53b99b4ccfc2",
   "metadata": {},
   "outputs": [
    {
     "data": {
      "text/plain": [
       "<Figure size 1000x500 with 0 Axes>"
      ]
     },
     "metadata": {},
     "output_type": "display_data"
    },
    {
     "data": {
      "image/png": "[encoded data removed]",
      "text/plain": [
       "<Figure size 640x480 with 1 Axes>"
      ]
     },
     "metadata": {},
     "output_type": "display_data"
    }
   ],
   "source": [
    "# Plotting the frequency distribution of number of recommendations\n",
    "\n",
    "plt.figure(figsize=(10, 5))\n",
    "plt.figure(dpi=100)\n",
    "ax = sns.countplot(x='y', data=final_df)\n",
    "plt.title('Frequency Distribution of Recommendations')\n",
    "plt.xlabel('Is Recommended')\n",
    "plt.ylabel('Frequency')\n",
    "\n",
    "# Annotate the bars with counts\n",
    "for p in ax.patches:\n",
    "    ax.annotate(f'{p.get_height()}', (p.get_x() + p.get_width() / 2., p.get_height()), ha='center', va='baseline')\n",
    "\n",
    "plt.show()"
   ]
  },
  {
   "cell_type": "markdown",
   "id": "a04b4d6e-d682-41ef-ba9d-90d9a67ca5a7",
   "metadata": {},
   "source": [
    "**Compatibility of Windows, Mac and Linux**"
   ]
  },
  {
   "cell_type": "code",
   "execution_count": 26,
   "id": "82756df2-8e51-47d1-8386-4e171bb0ecac",
   "metadata": {},
   "outputs": [
    {
     "data": {
      "image/png": "[encoded data removed]",
      "text/plain": [
       "<Figure size 1000x500 with 1 Axes>"
      ]
     },
     "metadata": {},
     "output_type": "display_data"
    }
   ],
   "source": [
    "# compatibility with different platforms\n",
    "\n",
    "# Calculating the number of games compatible with each platform\n",
    "platform_counts = final_df[['win', 'mac', 'linux']].sum().reset_index()\n",
    "platform_counts.columns = ['Platform', 'Count']\n",
    "\n",
    "plt.figure(figsize=(10, 5))\n",
    "\n",
    "ax = sns.barplot(x='Platform', y='Count', data=platform_counts)\n",
    "plt.title('Number of Games Compatible with Different Platforms')\n",
    "plt.xlabel('Platform')\n",
    "plt.ylabel('Number of Games')\n",
    "\n",
    "for p in ax.patches:\n",
    "    ax.annotate(f'{p.get_height()}', (p.get_x() + p.get_width() / 2., p.get_height()), ha='center', va='baseline')\n",
    "\n",
    "plt.show()"
   ]
  },
  {
   "cell_type": "code",
   "execution_count": 27,
   "id": "c3202525-d5cf-488d-8a27-3347d15db7db",
   "metadata": {},
   "outputs": [
    {
     "name": "stdout",
     "output_type": "stream",
     "text": [
      "Number of games supporting only Windows: 3433718\n",
      "Number of games supporting Windows and Mac: 1058793\n",
      "Number of games supporting Windows and Linux: 138860\n",
      "Number of games supporting Windows, Mac, and Linux: 1933552\n",
      "Number of games supporting only Mac: 0\n",
      "Number of games supporting only Linux: 0\n"
     ]
    }
   ],
   "source": [
    "# Calculate the number of games supporting each combination of platforms (windows, mac, linux)\n",
    "\n",
    "win_only = ((final_df['win'] == True) & (final_df['mac'] == False) & (final_df['linux'] == False)).sum()\n",
    "win_mac = ((final_df['win'] == True) & (final_df['mac'] == True) & (final_df['linux'] == False)).sum()\n",
    "win_linux = ((final_df['win'] == True) & (final_df['mac'] == False) & (final_df['linux'] == True)).sum()\n",
    "win_mac_linux = ((final_df['win'] == True) & (final_df['mac'] == True) & (final_df['linux'] == True)).sum()\n",
    "mac_only = ((final_df['win'] == False) & (final_df['mac'] == True) & (final_df['linux'] == False)).sum()\n",
    "linux_only = ((final_df['win'] == False) & (final_df['mac'] == False) & (final_df['linux'] == True)).sum()\n",
    "\n",
    "print(f\"Number of games supporting only Windows: {win_only}\")\n",
    "print(f\"Number of games supporting Windows and Mac: {win_mac}\")\n",
    "print(f\"Number of games supporting Windows and Linux: {win_linux}\")\n",
    "print(f\"Number of games supporting Windows, Mac, and Linux: {win_mac_linux}\")\n",
    "print(f\"Number of games supporting only Mac: {mac_only}\")\n",
    "print(f\"Number of games supporting only Linux: {linux_only}\")"
   ]
  },
  {
   "cell_type": "code",
   "execution_count": 28,
   "id": "3e7dbeb9-6685-4bc3-b498-f8e962abab3a",
   "metadata": {},
   "outputs": [
    {
     "data": {
      "image/png": "[encoded data removed]",
      "text/plain": [
       "<Figure size 640x480 with 1 Axes>"
      ]
     },
     "metadata": {},
     "output_type": "display_data"
    }
   ],
   "source": [
    "# Platform combinations and their counts\n",
    "\n",
    "platform_combinations = {\n",
    "    \"Windows Only\": win_only,\n",
    "    \"Windows & Mac\": win_mac,\n",
    "    \"Windows & Linux\": win_linux,\n",
    "    \"Windows, Mac & Linux\": win_mac_linux,\n",
    "    \"Mac Only\": mac_only,\n",
    "    \"Linux Only\": linux_only,\n",
    "}\n",
    "\n",
    "fig, ax = plt.subplots()\n",
    "ax.bar(platform_combinations.keys(), platform_combinations.values())\n",
    "\n",
    "# Add the counts above the bars\n",
    "for i, (combination, count) in enumerate(platform_combinations.items()):\n",
    "    ax.text(i, count + 10, f\"{count}\", ha='center', va='bottom')\n",
    "\n",
    "ax.set_title(\"Number of Games Supporting Platform Combinations\")\n",
    "ax.set_xlabel(\"Platform Combinations\")\n",
    "ax.set_ylabel(\"Number of Games\")\n",
    "\n",
    "plt.xticks(rotation=45, ha='right')\n",
    "plt.tight_layout()\n",
    "plt.show()"
   ]
  },
  {
   "cell_type": "markdown",
   "id": "f85b4558-ab96-4f70-bd20-fba2156cd420",
   "metadata": {},
   "source": [
    "Windows definitly dominates, when it comes to the number of games it supports. Most developers only develop for windows. However, there are still many games which run on windows, mac and linux. These results tell us that we should consider a users operating system, when recommending a game based on a user_id."
   ]
  },
  {
   "cell_type": "markdown",
   "id": "31614b29-f41f-412b-9fc6-9cdda67a7bde",
   "metadata": {},
   "source": [
    "**Most popular Tags**"
   ]
  },
  {
   "cell_type": "code",
   "execution_count": null,
   "id": "7836f7a1-6f32-42b7-87a0-37f1fe321420",
   "metadata": {},
   "outputs": [
    {
     "name": "stdout",
     "output_type": "stream",
     "text": [
      "\n",
      "Most common tags: [('Singleplayer', 5306563), ('Action', 5290682), ('Multiplayer', 4688427), ('Adventure', 3726893), ('Co-op', 3532838), ('Open World', 3302693), ('First-Person', 2971991), ('Simulation', 2961854), ('Sandbox', 2919883), ('Atmospheric', 2848759)]\n"
     ]
    }
   ],
   "source": [
    "# Most common tags, and the impact of tags on game popularity and sales (prices and discounts)\n",
    "\n",
    "from collections import Counter\n",
    "\n",
    "# Extract tags and genres\n",
    "tags = final_df['tags'].explode().dropna()\n",
    "\n",
    "# Count occurrences of each tag and genre\n",
    "tag_counts = Counter(tags)\n",
    "\n",
    "# Find most common tags\n",
    "most_common_tags = tag_counts.most_common(10)\n",
    "print('\\n'\"Most common tags:\", most_common_tags)\n",
    "\n",
    "# Analyze the impact of tags on game popularity and sales\n",
    "tag_popularity = final_df.explode('tags').groupby('tags').agg({\n",
    "    'user_reviews': 'mean',\n",
    "    'positive_ratio': 'mean',\n",
    "    'price_final': 'mean',\n",
    "    'price_original': 'mean',\n",
    "    'discount': 'mean'\n",
    "}).sort_values(by='user_reviews', ascending=False)\n",
    "\n",
    "print('\\n'\"Impact of tags on game popularity, and sales:\")\n",
    "tag_popularity.head(10)"
   ]
  },
  {
   "cell_type": "markdown",
   "id": "057d76df-95ba-40c9-b70a-fefdb93b7a74",
   "metadata": {},
   "source": [
    "Games with the tags \"action\", \"singleplayer\", \"multiplayer\", \"co-op\" and \"adventure\" are the most popular ones based on the number of tags. \n",
    "\n",
    "We also observe the impact of tags on game popularity and sales. \n",
    "The tag \"trading\" leads to the most user_reviews. Games with the tags \"military\" and \"war\" have the highest average final price and original price. Games with the tags \"war\" and \"tactical\" have the highest average discount."
   ]
  },
  {
   "cell_type": "markdown",
   "id": "08814b95-2005-4c07-9be3-0878c779707e",
   "metadata": {},
   "source": [
    "**Trends in game releases, user reviews, and ratings over time**"
   ]
  },
  {
   "cell_type": "code",
   "execution_count": null,
   "id": "f37a004d-58cf-4524-90bc-a01a8abca02f",
   "metadata": {},
   "outputs": [],
   "source": [
    "# Trends in game releases, user reviews, and ratings over time\n",
    "\n",
    "final_df['date_release'] = pd.to_datetime(final_df['date_release'])\n",
    "final_df['date'] = pd.to_datetime(final_df['date'])\n",
    "\n",
    "game_releases_by_year = final_df.groupby(final_df['date_release'].dt.year).size()\n",
    "user_reviews_by_year = final_df.groupby(final_df['date'].dt.year)['user_reviews'].sum()\n",
    "avg_ratings_by_year = final_df.groupby(final_df['date'].dt.year)['positive_ratio'].mean()\n",
    "\n",
    "import matplotlib.pyplot as plt\n",
    "\n",
    "fig, ax1 = plt.subplots()\n",
    "\n",
    "ax1.set_xlabel('Year')\n",
    "ax1.set_ylabel('Game Releases', color='tab:blue')\n",
    "ax1.plot(game_releases_by_year.index, game_releases_by_year, color='tab:blue')\n",
    "ax1.tick_params(axis='y', labelcolor='tab:blue')\n",
    "\n",
    "ax2 = ax1.twinx()\n",
    "ax2.set_ylabel('User Reviews', color='tab:red')\n",
    "ax2.plot(user_reviews_by_year.index, user_reviews_by_year, color='tab:red')\n",
    "ax2.tick_params(axis='y', labelcolor='tab:red')\n",
    "\n",
    "fig.tight_layout()\n",
    "plt.title('Game Releases and User Reviews Over Time')\n",
    "plt.show()\n",
    "\n",
    "plt.plot(avg_ratings_by_year.index, avg_ratings_by_year)\n",
    "plt.xlabel('Year')\n",
    "plt.ylabel('Average Ratings')\n",
    "plt.title('Average Ratings Over Time')\n",
    "plt.show()"
   ]
  },
  {
   "cell_type": "markdown",
   "id": "2ee96e42-b9b8-4917-a667-b547ea16740b",
   "metadata": {},
   "source": [
    "On average, the number of game releases has increased from 2006 to 2022. There where several drop in 2013, 2018 and 2020. The last drop is most likely due to the Covid-19 pandemic. User started reviewing games since 2010. The number of reviews has strongly increased since then.\n",
    "\n",
    "The average ratings over time have decreased from 93 in the year 2010 to a rating of 84 in the year 2022. This could potentially indicate that the quality in games has also decreased and user are less satisfied with their games."
   ]
  },
  {
   "cell_type": "markdown",
   "id": "049ce052-6a3f-47b8-9a09-6a6ab0552e39",
   "metadata": {},
   "source": [
    "## Feature Engineering"
   ]
  },
  {
   "cell_type": "markdown",
   "id": "fe12d0b8-daec-42e4-adc1-9674be5d6523",
   "metadata": {},
   "source": [
    "**Elapsed Time:** A new feature which tracks the amount of time that has elapsed between the game's release and the review being logged. This could be interested because people who purchase a game right after its release are likely to be larger fans of the genre or franchise."
   ]
  },
  {
   "cell_type": "code",
   "execution_count": null,
   "id": "661637c9-cc8b-4a21-aa51-b9fd95739080",
   "metadata": {},
   "outputs": [],
   "source": [
    "final_df[\"elapsed_time\"] = final_df[\"date\"] - final_df[\"date_release\"]"
   ]
  },
  {
   "cell_type": "markdown",
   "id": "4e8f536e-6bf0-4ecf-8aed-5d559d6b0fcd",
   "metadata": {},
   "source": [
    "**Relative Recommendation:** Find the rate at which users rated a game positively (out of the count of games they have rated). Then, find for each review whether a recommendation is in line with user's typical reviews or not."
   ]
  },
  {
   "cell_type": "code",
   "execution_count": null,
   "id": "cbbca433-de21-41a4-896a-01aa1ab92c1a",
   "metadata": {},
   "outputs": [],
   "source": [
    "# Count the number of reviews per user and rename column\n",
    "usr_rating_count = final_df[[\"user_id\",\"y\"]].groupby(\"user_id\").count()\n",
    "usr_rating_count.rename(columns = {\"y\":\"review_count\"}, inplace = True)\n",
    "\n",
    "# Find the number of positive reviews\n",
    "usr_rating_count[\"positive_reviews\"] = final_df[[\"user_id\",\"y\"]].groupby(\"user_id\").sum()\n",
    "\n",
    "# Find how many reviews out of total are positive\n",
    "usr_rating_count[\"positive_rate\"] = usr_rating_count[\"positive_reviews\"] / usr_rating_count[\"review_count\"]"
   ]
  },
  {
   "cell_type": "code",
   "execution_count": null,
   "id": "ab2b4db5-7495-4a59-9586-5ca60d5313e9",
   "metadata": {},
   "outputs": [],
   "source": [
    "# Merge review_count and positive_rate to the final_df\n",
    "final_df = final_df.merge(usr_rating_count.reset_index()[[\"user_id\", \"review_count\", \"positive_rate\"]], \n",
    "                          how = \"left\", on = \"user_id\")\n",
    "\n",
    "# Use these to create an ulterior feature with recommendation relative to average recommendation\n",
    "final_df[\"relaitve_rec\"] = (final_df[\"y\"] - final_df[\"positive_rate\"])"
   ]
  },
  {
   "cell_type": "markdown",
   "id": "7dbeb36f-99c0-40ac-9503-929e42bc3a7f",
   "metadata": {},
   "source": [
    "**Tendency to Review:** People who review more often tend to..."
   ]
  },
  {
   "cell_type": "code",
   "execution_count": null,
   "id": "bc88e6e7-c620-4dd3-9264-42a9ede92055",
   "metadata": {},
   "outputs": [],
   "source": [
    "# Find Review Tendency\n",
    "final_df[\"review_tendency\"] =  final_df[\"reviews\"] /final_df[\"products\"] \n",
    "\n",
    "# Find Tendency Relative to Median Because of Low Values\n",
    "final_df[\"rel_review_tendency\"] = (final_df[\"review_tendency\"] - final_df[\"review_tendency\"].median())/ final_df[\"review_tendency\"].median()"
   ]
  },
  {
   "cell_type": "markdown",
   "id": "e285f817-0d2f-4b83-bb57-387b6e476e4b",
   "metadata": {},
   "source": [
    "**Positive & Negative Reviews:** Here we calculate the number of positive and negative reviews for each game. This is done through the positive_ratio column."
   ]
  },
  {
   "cell_type": "code",
   "execution_count": null,
   "id": "02547f99-c7ef-4d90-a23d-ac964599d436",
   "metadata": {},
   "outputs": [],
   "source": [
    "final_df[\"positive_reviews\"] = final_df[\"positive_ratio\"] * final_df[\"user_reviews\"]\n",
    "final_df[\"negative_reviews\"] = (1 - final_df[\"positive_ratio\"]) * final_df[\"user_reviews\"]"
   ]
  },
  {
   "cell_type": "code",
   "execution_count": null,
   "id": "7aa366f7-7218-48f1-8ea4-7723bc11ffe3",
   "metadata": {},
   "outputs": [],
   "source": [
    "final_df.head(2)"
   ]
  },
  {
   "cell_type": "markdown",
   "id": "46a8bb17-d1e4-49d7-b595-7ade338c14aa",
   "metadata": {},
   "source": [
    "## Final Dataset Exploration"
   ]
  },
  {
   "cell_type": "code",
   "execution_count": null,
   "id": "0d8d4bf3-43e1-43e9-a69c-fb40553df8ac",
   "metadata": {},
   "outputs": [],
   "source": [
    "# We see how many positive and negative recommendations there are\n",
    "print(df_recommendations[\"y\"].value_counts())\n",
    "\n",
    "# What is their ratio?\n",
    "print(\"\\nHow many positive reviews for each negative one?\")\n",
    "df_recommendations[\"y\"].value_counts()[0]/df_recommendations[\"y\"].value_counts()[1]"
   ]
  },
  {
   "cell_type": "markdown",
   "id": "82efddda-9f5b-4c0e-a192-f9f26d2859cd",
   "metadata": {},
   "source": [
    "## Model Preparation"
   ]
  },
  {
   "cell_type": "code",
   "execution_count": null,
   "id": "aeb36588-1b33-45ee-b713-17a611392e03",
   "metadata": {},
   "outputs": [],
   "source": []
  },
  {
   "cell_type": "markdown",
   "id": "e93cccd7-1dd2-499c-9783-3cf18a100565",
   "metadata": {},
   "source": [
    "#### Logistic Regression Model"
   ]
  },
  {
   "cell_type": "code",
   "execution_count": null,
   "id": "052a6b20-3e1b-44fd-acd4-612ea3e5e0a9",
   "metadata": {},
   "outputs": [],
   "source": [
    "# Consider balancing out data because of overwhelming positivity"
   ]
  }
 ],
 "metadata": {
  "kernelspec": {
   "display_name": "Python 3 (ipykernel)",
   "language": "python",
   "name": "python3"
  },
  "language_info": {
   "codemirror_mode": {
    "name": "ipython",
    "version": 3
   },
   "file_extension": ".py",
   "mimetype": "text/x-python",
   "name": "python",
   "nbconvert_exporter": "python",
   "pygments_lexer": "ipython3",
   "version": "3.10.9"
  }
 },
 "nbformat": 4,
 "nbformat_minor": 5
}
