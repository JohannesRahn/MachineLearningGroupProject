{
 "cells": [
  {
   "cell_type": "markdown",
   "id": "dea93456-a96e-4d1f-99ec-0c38d40bda89",
   "metadata": {},
   "source": [
    "# Machine Learning Group Project \n",
    "\n",
    "User game rating prediction & systematic discount offering on Steam. Project developed by Team XX composed by:\n",
    "| Student Name | Student Number | Class Group |\n",
    "| --- | --- | --- |\n",
    "| **Alessandro Maugeri** | 53067 | TA |\n",
    "| **Frank Andreas Bauer** | XXXX | XX |\n",
    "|  **Johannes Rahn** | XXXX | XX |\n",
    "| **Nicole Zoppi** | XXXX | XX |\n",
    "| **Yannick von der Heyden** | 53629 | XX |"
   ]
  },
  {
   "cell_type": "markdown",
   "id": "f2540aaf-fc28-463b-ae53-9f3af7f6b760",
   "metadata": {},
   "source": [
    "## Importing Packages"
   ]
  },
  {
   "cell_type": "code",
<<<<<<< Updated upstream
   "execution_count": 42,
=======
   "execution_count": 1,
>>>>>>> Stashed changes
   "id": "bacd787f",
   "metadata": {},
   "outputs": [],
   "source": [
    "import ast\n",
    "import pandas as pd\n",
    "import numpy as np\n",
    "import matplotlib.pyplot as plt\n",
    "from datetime import datetime"
   ]
  },
  {
   "cell_type": "markdown",
   "id": "efd8095d-9205-4fde-89e3-63d700bd310f",
   "metadata": {},
   "source": [
    "## Importing Data"
   ]
  },
  {
   "cell_type": "markdown",
   "id": "7bda29c7-9d5a-4e3d-b4dd-365bc91541a7",
   "metadata": {},
   "source": [
    "The data for this project was retrieved from [Kaggle](https://www.kaggle.com/datasets/antonkozyriev/game-recommendations-on-steam?select=games.csv) and stored in the \"data\" folder found in the notebook's directory. The folder includes **five data files**:\n",
    "\n",
    "The CSV file **[games.csv](data/games.csv)** presents data concerning individual games in the Steam library:\n",
    "\n",
    "| Column | Description | Example|\n",
    "| --- | --- | --- |\n",
    "| **app_id** | Product ID on Steam | 620 |\n",
    "| **title** | Product Commercial Title | Portal 2|\n",
    "|  **date_release** | Release Date of Title (y-m-d) | 2011-04-18 |\n",
    "| **win** | Boolean Denoting Compatibility to Windows Computers | True |\n",
    "| **mac** | Boolean Denoting Compatibility to Mac Computers  | True | \n",
    "| **linux** | Boolean Denoting Compatibility to Linux Computers  | True |\n",
    "| **rating** | Categorical Rating of Product (e.g. \"Positive\")| Overwhelmingly Positive |\n",
    "| **positive_ratio** | Ratio of Postive Feedback for Game  | 98 |\n",
    "| **user_reviews** | Number of Reviews  | 267142 |\n",
    "| **price_final** | Final Price in USD | 9.99 |\n",
    "| **price_original** | Price Before Discounts in USD | 9.99 |\n",
    "| **discount** | Applied Discount | 0 |\n",
    "| **steam_deck** | Compatible with [Steam Deck](https://store.steampowered.com/steamdeck)? | True |\n",
    "\n"
   ]
  },
  {
   "cell_type": "code",
<<<<<<< Updated upstream
   "execution_count": 43,
=======
   "execution_count": 39,
>>>>>>> Stashed changes
   "id": "c671eed4-b30e-438b-8c0e-be1a060af029",
   "metadata": {},
   "outputs": [
    {
     "data": {
      "text/html": [
       "<div>\n",
       "<style scoped>\n",
       "    .dataframe tbody tr th:only-of-type {\n",
       "        vertical-align: middle;\n",
       "    }\n",
       "\n",
       "    .dataframe tbody tr th {\n",
       "        vertical-align: top;\n",
       "    }\n",
       "\n",
       "    .dataframe thead th {\n",
       "        text-align: right;\n",
       "    }\n",
       "</style>\n",
       "<table border=\"1\" class=\"dataframe\">\n",
       "  <thead>\n",
       "    <tr style=\"text-align: right;\">\n",
       "      <th></th>\n",
       "      <th>app_id</th>\n",
       "      <th>title</th>\n",
       "      <th>date_release</th>\n",
       "      <th>win</th>\n",
       "      <th>mac</th>\n",
       "      <th>linux</th>\n",
       "      <th>rating</th>\n",
       "      <th>positive_ratio</th>\n",
       "      <th>user_reviews</th>\n",
       "      <th>price_final</th>\n",
       "      <th>price_original</th>\n",
       "      <th>discount</th>\n",
       "      <th>steam_deck</th>\n",
       "    </tr>\n",
       "  </thead>\n",
       "  <tbody>\n",
       "    <tr>\n",
       "      <th>0</th>\n",
       "      <td>10090</td>\n",
       "      <td>Call of Duty: World at War</td>\n",
       "      <td>2008-11-18</td>\n",
       "      <td>True</td>\n",
       "      <td>False</td>\n",
       "      <td>False</td>\n",
       "      <td>Very Positive</td>\n",
       "      <td>92</td>\n",
       "      <td>37039</td>\n",
       "      <td>19.99</td>\n",
       "      <td>19.99</td>\n",
       "      <td>0.0</td>\n",
       "      <td>True</td>\n",
       "    </tr>\n",
       "    <tr>\n",
       "      <th>1</th>\n",
       "      <td>13500</td>\n",
       "      <td>Prince of Persia: Warrior Within™</td>\n",
       "      <td>2008-11-21</td>\n",
       "      <td>True</td>\n",
       "      <td>False</td>\n",
       "      <td>False</td>\n",
       "      <td>Very Positive</td>\n",
       "      <td>84</td>\n",
       "      <td>2199</td>\n",
       "      <td>9.99</td>\n",
       "      <td>9.99</td>\n",
       "      <td>0.0</td>\n",
       "      <td>True</td>\n",
       "    </tr>\n",
       "  </tbody>\n",
       "</table>\n",
       "</div>"
      ],
      "text/plain": [
       "   app_id                              title date_release   win    mac  linux  \\\n",
       "0   10090         Call of Duty: World at War   2008-11-18  True  False  False   \n",
       "1   13500  Prince of Persia: Warrior Within™   2008-11-21  True  False  False   \n",
       "\n",
       "          rating  positive_ratio  user_reviews  price_final  price_original  \\\n",
       "0  Very Positive              92         37039        19.99           19.99   \n",
       "1  Very Positive              84          2199         9.99            9.99   \n",
       "\n",
       "   discount  steam_deck  \n",
       "0       0.0        True  \n",
       "1       0.0        True  "
      ]
     },
<<<<<<< Updated upstream
     "execution_count": 43,
=======
     "execution_count": 39,
>>>>>>> Stashed changes
     "metadata": {},
     "output_type": "execute_result"
    }
   ],
   "source": [
    "df_games_data = pd.read_csv(\"data/games.csv\")\n",
    "df_games_data.head(2)"
   ]
  },
  {
   "cell_type": "markdown",
   "id": "7c1cc07c-e858-4b7a-97d8-59dcea1af68f",
   "metadata": {},
   "source": [
    "----\n",
    "The **CSV file [users.csv](data/users.csv)** presents data concerning individual users found in the datasets:\n",
    "\n",
    "| Column | Description | Example|\n",
    "| --- | --- | --- |\n",
    "| **user_id** | User ID on Steam | 5693478 |\n",
    "| **products** | Number of Products from Steam Library Owned | 156 |\n",
    "|  **reviews** | Number of Reviews Published | 1 |"
   ]
  },
  {
   "cell_type": "code",
<<<<<<< Updated upstream
   "execution_count": 44,
=======
   "execution_count": 3,
>>>>>>> Stashed changes
   "id": "9fb065ea-808b-4a4c-acb0-962032648917",
   "metadata": {},
   "outputs": [
    {
     "data": {
      "text/html": [
       "<div>\n",
       "<style scoped>\n",
       "    .dataframe tbody tr th:only-of-type {\n",
       "        vertical-align: middle;\n",
       "    }\n",
       "\n",
       "    .dataframe tbody tr th {\n",
       "        vertical-align: top;\n",
       "    }\n",
       "\n",
       "    .dataframe thead th {\n",
       "        text-align: right;\n",
       "    }\n",
       "</style>\n",
       "<table border=\"1\" class=\"dataframe\">\n",
       "  <thead>\n",
       "    <tr style=\"text-align: right;\">\n",
       "      <th></th>\n",
       "      <th>user_id</th>\n",
       "      <th>products</th>\n",
       "      <th>reviews</th>\n",
       "    </tr>\n",
       "  </thead>\n",
       "  <tbody>\n",
       "    <tr>\n",
       "      <th>0</th>\n",
       "      <td>5693478</td>\n",
       "      <td>156</td>\n",
       "      <td>1</td>\n",
       "    </tr>\n",
       "    <tr>\n",
       "      <th>1</th>\n",
       "      <td>3595958</td>\n",
       "      <td>329</td>\n",
       "      <td>3</td>\n",
       "    </tr>\n",
       "  </tbody>\n",
       "</table>\n",
       "</div>"
      ],
      "text/plain": [
       "   user_id  products  reviews\n",
       "0  5693478       156        1\n",
       "1  3595958       329        3"
      ]
     },
<<<<<<< Updated upstream
     "execution_count": 44,
=======
     "execution_count": 3,
>>>>>>> Stashed changes
     "metadata": {},
     "output_type": "execute_result"
    }
   ],
   "source": [
    "df_users = pd.read_csv(\"data/users.csv\")\n",
    "df_users.head(2)"
   ]
  },
  {
   "cell_type": "markdown",
   "id": "3aae2244-d400-442b-958d-dc6cb3400c89",
   "metadata": {},
   "source": [
    "----\n",
    "The **CSV file [recommendations.csv](data/recommendations.csv)** has a many-to-many relationship to both users.csv and games.csv and contains data concerning user reviews of specific games:\n",
    "\n",
    "| Column | Description | Example|\n",
    "| --- | --- | --- |\n",
    "| **app_id** | Product ID on Steam | 620 |\n",
    "| **helpful** | Number of Users Who Found Review Helpful | 0 |\n",
    "|  **funny** | Number of Users Who Found Review Funny | 0 |\n",
    "| **date** | Date in Which Review was Published (y-m-d) | 2022-12-12 |\n",
    "| **is_recommended** | Does the User Recommend the Title | True | \n",
    "| **hours** | Hours Spent by User Playing Game  | 36.3 |\n",
    "| **user_id** | User ID of Review Author | 19954 |\n",
    "| **review_id** | ID of Individual Review  | 0 |"
   ]
  },
  {
   "cell_type": "code",
<<<<<<< Updated upstream
   "execution_count": 45,
=======
   "execution_count": 4,
>>>>>>> Stashed changes
   "id": "8f9bad72-5d5f-498a-80d4-6a5b64f20cc8",
   "metadata": {},
   "outputs": [
    {
     "data": {
      "text/html": [
       "<div>\n",
       "<style scoped>\n",
       "    .dataframe tbody tr th:only-of-type {\n",
       "        vertical-align: middle;\n",
       "    }\n",
       "\n",
       "    .dataframe tbody tr th {\n",
       "        vertical-align: top;\n",
       "    }\n",
       "\n",
       "    .dataframe thead th {\n",
       "        text-align: right;\n",
       "    }\n",
       "</style>\n",
       "<table border=\"1\" class=\"dataframe\">\n",
       "  <thead>\n",
       "    <tr style=\"text-align: right;\">\n",
       "      <th></th>\n",
       "      <th>app_id</th>\n",
       "      <th>helpful</th>\n",
       "      <th>funny</th>\n",
       "      <th>date</th>\n",
       "      <th>is_recommended</th>\n",
       "      <th>hours</th>\n",
       "      <th>user_id</th>\n",
       "      <th>review_id</th>\n",
       "    </tr>\n",
       "  </thead>\n",
       "  <tbody>\n",
       "    <tr>\n",
       "      <th>0</th>\n",
       "      <td>975370</td>\n",
       "      <td>0</td>\n",
       "      <td>0</td>\n",
       "      <td>2022-12-12</td>\n",
       "      <td>True</td>\n",
       "      <td>36.3</td>\n",
       "      <td>14546</td>\n",
       "      <td>0</td>\n",
       "    </tr>\n",
       "    <tr>\n",
       "      <th>1</th>\n",
       "      <td>304390</td>\n",
       "      <td>4</td>\n",
       "      <td>0</td>\n",
       "      <td>2017-02-17</td>\n",
       "      <td>False</td>\n",
       "      <td>11.5</td>\n",
       "      <td>797</td>\n",
       "      <td>1</td>\n",
       "    </tr>\n",
       "  </tbody>\n",
       "</table>\n",
       "</div>"
      ],
      "text/plain": [
       "   app_id  helpful  funny        date  is_recommended  hours  user_id  \\\n",
       "0  975370        0      0  2022-12-12            True   36.3    14546   \n",
       "1  304390        4      0  2017-02-17           False   11.5      797   \n",
       "\n",
       "   review_id  \n",
       "0          0  \n",
       "1          1  "
      ]
     },
<<<<<<< Updated upstream
     "execution_count": 45,
=======
     "execution_count": 4,
>>>>>>> Stashed changes
     "metadata": {},
     "output_type": "execute_result"
    }
   ],
   "source": [
    "df_recommendations = pd.read_csv(\"data/recommendations.csv\")\n",
    "df_recommendations.head(2)"
   ]
  },
  {
   "cell_type": "markdown",
   "id": "3eabca0b-30fd-45a5-9ac2-2a07af7979cd",
   "metadata": {},
   "source": [
    "----\n",
    "Finally, the folder includes a **JSON file [games_metadata.json](data/games_metadata.json)** containing metadata on individual games:\n",
    "\n",
    "| Column | Description | Example|\n",
    "| --- | --- | --- |\n",
    "| **app_id** | Product ID on Steam | 304430 |\n",
    "| **description** | Game Description on Steam | \"Hunted and alone, a boy finds himself drawn into the center of a dark project. INSIDE is a dark, narrative-driven platformer combining intense action with challenging puzzles. It has been critically acclaimed for its moody art style, ambient soundtrack and unsettling atmosphere.\" |\n",
    "|  **tags** | Additional Tags on Steam Platform | [\"2.5D\", \"Story Rich\", \"Puzzle Platformer\" , \"Atmospheric\" , \"Adventure\" , \"Indie\" , \"Dark\" , \"Horror\" , \"Singleplayer\" , \"Action-Adventure\" , \"Puzzle\" , \"Multiple Endings\" , \"Exploration\" , \"2D Platformer\" , \"Platformer\" , \"Controller\" , \"Soundtrack\" , \"Ambient\" , \"Action\" , \"Narrative\"] |"
   ]
  },
  {
   "cell_type": "code",
<<<<<<< Updated upstream
   "execution_count": 46,
=======
   "execution_count": 5,
>>>>>>> Stashed changes
   "id": "e10381bb",
   "metadata": {
    "tags": []
   },
   "outputs": [
    {
     "data": {
      "text/html": [
       "<div>\n",
       "<style scoped>\n",
       "    .dataframe tbody tr th:only-of-type {\n",
       "        vertical-align: middle;\n",
       "    }\n",
       "\n",
       "    .dataframe tbody tr th {\n",
       "        vertical-align: top;\n",
       "    }\n",
       "\n",
       "    .dataframe thead th {\n",
       "        text-align: right;\n",
       "    }\n",
       "</style>\n",
       "<table border=\"1\" class=\"dataframe\">\n",
       "  <thead>\n",
       "    <tr style=\"text-align: right;\">\n",
       "      <th></th>\n",
       "      <th>app_id</th>\n",
       "      <th>description</th>\n",
       "      <th>tags</th>\n",
       "    </tr>\n",
       "  </thead>\n",
       "  <tbody>\n",
       "    <tr>\n",
       "      <th>0</th>\n",
       "      <td>10090</td>\n",
       "      <td>Call of Duty is back, redefining war like you'...</td>\n",
       "      <td>[Zombies, World War II, FPS, Multiplayer, Acti...</td>\n",
       "    </tr>\n",
       "    <tr>\n",
       "      <th>1</th>\n",
       "      <td>13500</td>\n",
       "      <td>Enter the dark underworld of Prince of Persia ...</td>\n",
       "      <td>[Action, Adventure, Parkour, Third Person, Gre...</td>\n",
       "    </tr>\n",
       "  </tbody>\n",
       "</table>\n",
       "</div>"
      ],
      "text/plain": [
       "   app_id                                        description  \\\n",
       "0   10090  Call of Duty is back, redefining war like you'...   \n",
       "1   13500  Enter the dark underworld of Prince of Persia ...   \n",
       "\n",
       "                                                tags  \n",
       "0  [Zombies, World War II, FPS, Multiplayer, Acti...  \n",
       "1  [Action, Adventure, Parkour, Third Person, Gre...  "
      ]
     },
<<<<<<< Updated upstream
     "execution_count": 46,
=======
     "execution_count": 5,
>>>>>>> Stashed changes
     "metadata": {},
     "output_type": "execute_result"
    }
   ],
   "source": [
    "df_games_meta_data = pd.read_json('data/games_metadata.json', lines=True)\n",
    "df_games_meta_data.head(2)"
   ]
  },
  {
   "cell_type": "markdown",
   "id": "42143f34-bd62-49e9-bb0a-488eaa653fa2",
   "metadata": {},
   "source": [
<<<<<<< Updated upstream
    "----\n",
    "Two additional data files are utilized from a separate [Kaggle page](https://www.kaggle.com/datasets/nikdavis/steam-store-games?select=steam.csv) to enrich the analysis. These are imported below.\n",
    "\n",
=======
    "## Preliminary Data Exploration"
   ]
  },
  {
   "cell_type": "markdown",
   "id": "edd26fdd-e6a0-4d26-9776-e59f0c3ffc8b",
   "metadata": {},
   "source": [
    "First, we look at the various values of the specific features of each file."
   ]
  },
  {
   "cell_type": "code",
   "execution_count": 6,
   "id": "64ffb841-f96b-41ff-b84f-9dbdf56e2289",
   "metadata": {},
   "outputs": [
    {
     "data": {
      "text/html": [
       "<div>\n",
       "<style scoped>\n",
       "    .dataframe tbody tr th:only-of-type {\n",
       "        vertical-align: middle;\n",
       "    }\n",
       "\n",
       "    .dataframe tbody tr th {\n",
       "        vertical-align: top;\n",
       "    }\n",
       "\n",
       "    .dataframe thead th {\n",
       "        text-align: right;\n",
       "    }\n",
       "</style>\n",
       "<table border=\"1\" class=\"dataframe\">\n",
       "  <thead>\n",
       "    <tr style=\"text-align: right;\">\n",
       "      <th></th>\n",
       "      <th>count</th>\n",
       "      <th>mean</th>\n",
       "      <th>std</th>\n",
       "      <th>min</th>\n",
       "      <th>10%</th>\n",
       "      <th>25%</th>\n",
       "      <th>50%</th>\n",
       "      <th>75%</th>\n",
       "      <th>90%</th>\n",
       "      <th>max</th>\n",
       "    </tr>\n",
       "  </thead>\n",
       "  <tbody>\n",
       "    <tr>\n",
       "      <th>app_id</th>\n",
       "      <td>46068.0</td>\n",
       "      <td>986443.12</td>\n",
       "      <td>567048.71</td>\n",
       "      <td>10.0</td>\n",
       "      <td>311867.0</td>\n",
       "      <td>501722.75</td>\n",
       "      <td>916285.00</td>\n",
       "      <td>1422157.50</td>\n",
       "      <td>1822837.00</td>\n",
       "      <td>2319990.00</td>\n",
       "    </tr>\n",
       "    <tr>\n",
       "      <th>positive_ratio</th>\n",
       "      <td>46068.0</td>\n",
       "      <td>76.76</td>\n",
       "      <td>18.20</td>\n",
       "      <td>0.0</td>\n",
       "      <td>50.0</td>\n",
       "      <td>66.00</td>\n",
       "      <td>81.00</td>\n",
       "      <td>91.00</td>\n",
       "      <td>96.00</td>\n",
       "      <td>100.00</td>\n",
       "    </tr>\n",
       "    <tr>\n",
       "      <th>user_reviews</th>\n",
       "      <td>46068.0</td>\n",
       "      <td>1843.20</td>\n",
       "      <td>39086.56</td>\n",
       "      <td>10.0</td>\n",
       "      <td>13.0</td>\n",
       "      <td>20.00</td>\n",
       "      <td>53.00</td>\n",
       "      <td>226.00</td>\n",
       "      <td>1186.00</td>\n",
       "      <td>6941137.00</td>\n",
       "    </tr>\n",
       "    <tr>\n",
       "      <th>price_final</th>\n",
       "      <td>46068.0</td>\n",
       "      <td>8.75</td>\n",
       "      <td>11.36</td>\n",
       "      <td>0.0</td>\n",
       "      <td>0.0</td>\n",
       "      <td>1.38</td>\n",
       "      <td>4.99</td>\n",
       "      <td>11.99</td>\n",
       "      <td>19.99</td>\n",
       "      <td>299.99</td>\n",
       "    </tr>\n",
       "    <tr>\n",
       "      <th>price_original</th>\n",
       "      <td>46068.0</td>\n",
       "      <td>9.30</td>\n",
       "      <td>11.67</td>\n",
       "      <td>0.0</td>\n",
       "      <td>0.0</td>\n",
       "      <td>1.99</td>\n",
       "      <td>5.99</td>\n",
       "      <td>12.99</td>\n",
       "      <td>19.99</td>\n",
       "      <td>299.99</td>\n",
       "    </tr>\n",
       "    <tr>\n",
       "      <th>discount</th>\n",
       "      <td>46068.0</td>\n",
       "      <td>5.19</td>\n",
       "      <td>18.19</td>\n",
       "      <td>0.0</td>\n",
       "      <td>0.0</td>\n",
       "      <td>0.00</td>\n",
       "      <td>0.00</td>\n",
       "      <td>0.00</td>\n",
       "      <td>0.00</td>\n",
       "      <td>90.00</td>\n",
       "    </tr>\n",
       "  </tbody>\n",
       "</table>\n",
       "</div>"
      ],
      "text/plain": [
       "                  count       mean        std   min       10%        25%  \\\n",
       "app_id          46068.0  986443.12  567048.71  10.0  311867.0  501722.75   \n",
       "positive_ratio  46068.0      76.76      18.20   0.0      50.0      66.00   \n",
       "user_reviews    46068.0    1843.20   39086.56  10.0      13.0      20.00   \n",
       "price_final     46068.0       8.75      11.36   0.0       0.0       1.38   \n",
       "price_original  46068.0       9.30      11.67   0.0       0.0       1.99   \n",
       "discount        46068.0       5.19      18.19   0.0       0.0       0.00   \n",
       "\n",
       "                      50%         75%         90%         max  \n",
       "app_id          916285.00  1422157.50  1822837.00  2319990.00  \n",
       "positive_ratio      81.00       91.00       96.00      100.00  \n",
       "user_reviews        53.00      226.00     1186.00  6941137.00  \n",
       "price_final          4.99       11.99       19.99      299.99  \n",
       "price_original       5.99       12.99       19.99      299.99  \n",
       "discount             0.00        0.00        0.00       90.00  "
      ]
     },
     "execution_count": 6,
     "metadata": {},
     "output_type": "execute_result"
    }
   ],
   "source": [
    "df_games_data.describe(percentiles=[.1, .25, .5, .75, .9]).round(2).T"
   ]
  },
  {
   "cell_type": "code",
   "execution_count": 7,
   "id": "5c7ba0ee-84cb-4139-a472-e5b949136cb6",
   "metadata": {},
   "outputs": [
    {
     "data": {
      "text/html": [
       "<div>\n",
       "<style scoped>\n",
       "    .dataframe tbody tr th:only-of-type {\n",
       "        vertical-align: middle;\n",
       "    }\n",
       "\n",
       "    .dataframe tbody tr th {\n",
       "        vertical-align: top;\n",
       "    }\n",
       "\n",
       "    .dataframe thead th {\n",
       "        text-align: right;\n",
       "    }\n",
       "</style>\n",
       "<table border=\"1\" class=\"dataframe\">\n",
       "  <thead>\n",
       "    <tr style=\"text-align: right;\">\n",
       "      <th></th>\n",
       "      <th>count</th>\n",
       "      <th>mean</th>\n",
       "      <th>std</th>\n",
       "      <th>min</th>\n",
       "      <th>10%</th>\n",
       "      <th>25%</th>\n",
       "      <th>50%</th>\n",
       "      <th>75%</th>\n",
       "      <th>90%</th>\n",
       "      <th>max</th>\n",
       "    </tr>\n",
       "  </thead>\n",
       "  <tbody>\n",
       "    <tr>\n",
       "      <th>user_id</th>\n",
       "      <td>5810794.0</td>\n",
       "      <td>2905396.50</td>\n",
       "      <td>1677431.88</td>\n",
       "      <td>0.0</td>\n",
       "      <td>581079.3</td>\n",
       "      <td>1452698.25</td>\n",
       "      <td>2905396.5</td>\n",
       "      <td>4358094.75</td>\n",
       "      <td>5229713.7</td>\n",
       "      <td>5810793.0</td>\n",
       "    </tr>\n",
       "    <tr>\n",
       "      <th>products</th>\n",
       "      <td>5810794.0</td>\n",
       "      <td>132.25</td>\n",
       "      <td>262.36</td>\n",
       "      <td>0.0</td>\n",
       "      <td>8.0</td>\n",
       "      <td>23.00</td>\n",
       "      <td>62.0</td>\n",
       "      <td>151.00</td>\n",
       "      <td>306.0</td>\n",
       "      <td>29308.0</td>\n",
       "    </tr>\n",
       "    <tr>\n",
       "      <th>reviews</th>\n",
       "      <td>5810794.0</td>\n",
       "      <td>1.73</td>\n",
       "      <td>2.00</td>\n",
       "      <td>0.0</td>\n",
       "      <td>1.0</td>\n",
       "      <td>1.00</td>\n",
       "      <td>1.0</td>\n",
       "      <td>2.00</td>\n",
       "      <td>3.0</td>\n",
       "      <td>151.0</td>\n",
       "    </tr>\n",
       "  </tbody>\n",
       "</table>\n",
       "</div>"
      ],
      "text/plain": [
       "              count        mean         std  min       10%         25%  \\\n",
       "user_id   5810794.0  2905396.50  1677431.88  0.0  581079.3  1452698.25   \n",
       "products  5810794.0      132.25      262.36  0.0       8.0       23.00   \n",
       "reviews   5810794.0        1.73        2.00  0.0       1.0        1.00   \n",
       "\n",
       "                50%         75%        90%        max  \n",
       "user_id   2905396.5  4358094.75  5229713.7  5810793.0  \n",
       "products       62.0      151.00      306.0    29308.0  \n",
       "reviews         1.0        2.00        3.0      151.0  "
      ]
     },
     "execution_count": 7,
     "metadata": {},
     "output_type": "execute_result"
    }
   ],
   "source": [
    "df_users.describe(percentiles=[.1, .25, .5, .75, .9]).round(2).T"
   ]
  },
  {
   "cell_type": "code",
   "execution_count": 8,
   "id": "cedd5010-bb78-4cbe-a2c3-5ecefe9fcb36",
   "metadata": {},
   "outputs": [
    {
     "data": {
      "text/html": [
       "<div>\n",
       "<style scoped>\n",
       "    .dataframe tbody tr th:only-of-type {\n",
       "        vertical-align: middle;\n",
       "    }\n",
       "\n",
       "    .dataframe tbody tr th {\n",
       "        vertical-align: top;\n",
       "    }\n",
       "\n",
       "    .dataframe thead th {\n",
       "        text-align: right;\n",
       "    }\n",
       "</style>\n",
       "<table border=\"1\" class=\"dataframe\">\n",
       "  <thead>\n",
       "    <tr style=\"text-align: right;\">\n",
       "      <th></th>\n",
       "      <th>count</th>\n",
       "      <th>mean</th>\n",
       "      <th>std</th>\n",
       "      <th>min</th>\n",
       "      <th>10%</th>\n",
       "      <th>25%</th>\n",
       "      <th>50%</th>\n",
       "      <th>75%</th>\n",
       "      <th>90%</th>\n",
       "      <th>max</th>\n",
       "    </tr>\n",
       "  </thead>\n",
       "  <tbody>\n",
       "    <tr>\n",
       "      <th>app_id</th>\n",
       "      <td>6126803.0</td>\n",
       "      <td>619681.31</td>\n",
       "      <td>505651.14</td>\n",
       "      <td>440.0</td>\n",
       "      <td>218620.0</td>\n",
       "      <td>255710.0</td>\n",
       "      <td>394360.0</td>\n",
       "      <td>1091500.0</td>\n",
       "      <td>1332010.0</td>\n",
       "      <td>2208920.0</td>\n",
       "    </tr>\n",
       "    <tr>\n",
       "      <th>helpful</th>\n",
       "      <td>6126803.0</td>\n",
       "      <td>3.47</td>\n",
       "      <td>65.33</td>\n",
       "      <td>0.0</td>\n",
       "      <td>0.0</td>\n",
       "      <td>0.0</td>\n",
       "      <td>0.0</td>\n",
       "      <td>0.0</td>\n",
       "      <td>3.0</td>\n",
       "      <td>29627.0</td>\n",
       "    </tr>\n",
       "    <tr>\n",
       "      <th>funny</th>\n",
       "      <td>6126803.0</td>\n",
       "      <td>1.24</td>\n",
       "      <td>47.99</td>\n",
       "      <td>-6.0</td>\n",
       "      <td>0.0</td>\n",
       "      <td>0.0</td>\n",
       "      <td>0.0</td>\n",
       "      <td>0.0</td>\n",
       "      <td>0.0</td>\n",
       "      <td>28088.0</td>\n",
       "    </tr>\n",
       "    <tr>\n",
       "      <th>hours</th>\n",
       "      <td>6126803.0</td>\n",
       "      <td>201.22</td>\n",
       "      <td>236.85</td>\n",
       "      <td>0.0</td>\n",
       "      <td>10.1</td>\n",
       "      <td>31.0</td>\n",
       "      <td>100.4</td>\n",
       "      <td>284.5</td>\n",
       "      <td>582.7</td>\n",
       "      <td>999.9</td>\n",
       "    </tr>\n",
       "    <tr>\n",
       "      <th>user_id</th>\n",
       "      <td>6126803.0</td>\n",
       "      <td>2165477.41</td>\n",
       "      <td>1216668.25</td>\n",
       "      <td>0.0</td>\n",
       "      <td>434576.2</td>\n",
       "      <td>1133890.0</td>\n",
       "      <td>2191020.0</td>\n",
       "      <td>3226141.0</td>\n",
       "      <td>3816665.8</td>\n",
       "      <td>4240752.0</td>\n",
       "    </tr>\n",
       "    <tr>\n",
       "      <th>review_id</th>\n",
       "      <td>6126803.0</td>\n",
       "      <td>3063401.00</td>\n",
       "      <td>1768655.83</td>\n",
       "      <td>0.0</td>\n",
       "      <td>612680.2</td>\n",
       "      <td>1531700.5</td>\n",
       "      <td>3063401.0</td>\n",
       "      <td>4595101.5</td>\n",
       "      <td>5514121.8</td>\n",
       "      <td>6126802.0</td>\n",
       "    </tr>\n",
       "  </tbody>\n",
       "</table>\n",
       "</div>"
      ],
      "text/plain": [
       "               count        mean         std    min       10%        25%  \\\n",
       "app_id     6126803.0   619681.31   505651.14  440.0  218620.0   255710.0   \n",
       "helpful    6126803.0        3.47       65.33    0.0       0.0        0.0   \n",
       "funny      6126803.0        1.24       47.99   -6.0       0.0        0.0   \n",
       "hours      6126803.0      201.22      236.85    0.0      10.1       31.0   \n",
       "user_id    6126803.0  2165477.41  1216668.25    0.0  434576.2  1133890.0   \n",
       "review_id  6126803.0  3063401.00  1768655.83    0.0  612680.2  1531700.5   \n",
       "\n",
       "                 50%        75%        90%        max  \n",
       "app_id      394360.0  1091500.0  1332010.0  2208920.0  \n",
       "helpful          0.0        0.0        3.0    29627.0  \n",
       "funny            0.0        0.0        0.0    28088.0  \n",
       "hours          100.4      284.5      582.7      999.9  \n",
       "user_id    2191020.0  3226141.0  3816665.8  4240752.0  \n",
       "review_id  3063401.0  4595101.5  5514121.8  6126802.0  "
      ]
     },
     "execution_count": 8,
     "metadata": {},
     "output_type": "execute_result"
    }
   ],
   "source": [
    "df_redommendations.describe(percentiles=[.1, .25, .5, .75, .9]).round(2).T"
   ]
  },
  {
   "cell_type": "code",
   "execution_count": 9,
   "id": "fa1878f3-8fed-47dc-a09d-b08370842f59",
   "metadata": {},
   "outputs": [
    {
     "data": {
      "text/html": [
       "<div>\n",
       "<style scoped>\n",
       "    .dataframe tbody tr th:only-of-type {\n",
       "        vertical-align: middle;\n",
       "    }\n",
       "\n",
       "    .dataframe tbody tr th {\n",
       "        vertical-align: top;\n",
       "    }\n",
       "\n",
       "    .dataframe thead th {\n",
       "        text-align: right;\n",
       "    }\n",
       "</style>\n",
       "<table border=\"1\" class=\"dataframe\">\n",
       "  <thead>\n",
       "    <tr style=\"text-align: right;\">\n",
       "      <th></th>\n",
       "      <th>count</th>\n",
       "      <th>mean</th>\n",
       "      <th>std</th>\n",
       "      <th>min</th>\n",
       "      <th>10%</th>\n",
       "      <th>25%</th>\n",
       "      <th>50%</th>\n",
       "      <th>75%</th>\n",
       "      <th>90%</th>\n",
       "      <th>max</th>\n",
       "    </tr>\n",
       "  </thead>\n",
       "  <tbody>\n",
       "    <tr>\n",
       "      <th>app_id</th>\n",
       "      <td>46068.0</td>\n",
       "      <td>986443.12</td>\n",
       "      <td>567048.71</td>\n",
       "      <td>10.0</td>\n",
       "      <td>311867.0</td>\n",
       "      <td>501722.75</td>\n",
       "      <td>916285.0</td>\n",
       "      <td>1422157.5</td>\n",
       "      <td>1822837.0</td>\n",
       "      <td>2319990.0</td>\n",
       "    </tr>\n",
       "  </tbody>\n",
       "</table>\n",
       "</div>"
      ],
      "text/plain": [
       "          count       mean        std   min       10%        25%       50%  \\\n",
       "app_id  46068.0  986443.12  567048.71  10.0  311867.0  501722.75  916285.0   \n",
       "\n",
       "              75%        90%        max  \n",
       "app_id  1422157.5  1822837.0  2319990.0  "
      ]
     },
     "execution_count": 9,
     "metadata": {},
     "output_type": "execute_result"
    }
   ],
   "source": [
    "df_games_meta_data.describe(percentiles=[.1, .25, .5, .75, .9]).round(2).T"
   ]
  },
  {
   "cell_type": "code",
   "execution_count": 47,
   "id": "f121a1af-5ebf-42a5-886a-745919f77ad4",
   "metadata": {},
   "outputs": [
    {
     "name": "stdout",
     "output_type": "stream",
     "text": [
      "Total NaNs in the df_redommendations DataFrame: 0\n"
     ]
    }
   ],
   "source": [
    "total_nans = df_redommendations.isna().sum().sum()\n",
    "print(f\"Total NaNs in the df_redommendations DataFrame: {total_nans}\")"
   ]
  },
  {
   "cell_type": "code",
   "execution_count": 48,
   "id": "e2903de4-d6cc-4aab-bb99-efa7bcaa866d",
   "metadata": {},
   "outputs": [
    {
     "name": "stdout",
     "output_type": "stream",
     "text": [
      "Total NaNs in the df_games_meta_data DataFrame: 0\n"
     ]
    }
   ],
   "source": [
    "total_nans = df_games_meta_data.isna().sum().sum()\n",
    "print(f\"Total NaNs in the df_games_meta_data DataFrame: {total_nans}\")"
   ]
  },
  {
   "cell_type": "code",
   "execution_count": null,
   "id": "ca1af3f6-32bc-422f-9a56-0d8dadd5fbcd",
   "metadata": {},
   "outputs": [],
   "source": []
  },
  {
   "cell_type": "markdown",
   "id": "746a74da-b868-4e0f-a0df-71b398091fd5",
   "metadata": {},
   "source": [
    "## Data Preparation\n",
    "\n",
    "Below we prepare the individuals datasets for the analysis."
   ]
  },
  {
   "cell_type": "markdown",
   "id": "59e0645e-00ba-45b4-9429-6c282bf0cf7f",
   "metadata": {},
   "source": [
    "#### Games Data"
   ]
  },
  {
   "cell_type": "code",
   "execution_count": 10,
   "id": "cb67f7ea-bd82-4f19-9b02-6719dec83a56",
   "metadata": {},
   "outputs": [
    {
     "data": {
      "text/plain": [
       "Timestamp('2008-11-18 00:00:00')"
      ]
     },
     "execution_count": 10,
     "metadata": {},
     "output_type": "execute_result"
    }
   ],
   "source": [
    "# Turn date_release column to Pandas DateTime\n",
    "df_games_data[\"date_release\"] = pd.to_datetime(df_games_data[\"date_release\"])\n",
>>>>>>> Stashed changes
    "\n",
    "The **CSV file [steam.csv](data/steam.csv)** provides additional data on the games:\n",
    "\n",
    "| Column | Description | Example|\n",
    "| --- | --- | --- |\n",
    "| **appid** | Product ID on Steam| 10 |\n",
    "| **name** | Name of Game | Counter-Strike |\n",
    "|  **release_date** | Release Date of Title (y-m-d) | 2000-11-01 |\n",
    "|  **english** | Is the Game Available in English? | 1 |\n",
    "|  **developer** | Developer Company of Game | Valve |\n",
    "|  **publisher** | Publishing Company of Game | Valve |\n",
    "|  **platforms** | Semicolon-Delimited List of Systems that Can Run the Game | windows;mac;linux |\n",
    "|  **required_age** | Minimum Age Required to Play by PEGI UK (0 Means Unsupplied) | 0 |\n",
    "|  **categories** | Game Categorisation (Semicolon Delimited) | Multi-player;Online Multi-Player... |\n",
    "|  **genres** | Game's Genre (Semicolon Delimteted) | Action |\n",
    "|  **steamspy_tags** | Tags from [Steamspy API](https://steamspy.com/) (Semicolon Delimited) | Action;FPS;Multiplayer |\n",
    "|  **achievements** | Number of In-Game Achievements (If Any) | 0 |\n",
    "|  **positive_ratings** | Number of Positive Ratings | 124534 |\n",
    "|  **negative_ratings** | Number of Negative Ratings | 3339 |\n",
    "|  **average_playtime** | Average Playtime by User in Minutes| 17612 |\n",
    "|  **median_playtime** | Median Playtime by User in Minutes | 317 |\n",
    "|  **owners** | Number of Users that Own the Game (Bracket) | 10000000-20000000 |\n",
    "|  **price** | Price of Game | 7.19 |\n",
    "\n"
   ]
  },
  {
   "cell_type": "code",
<<<<<<< Updated upstream
   "execution_count": 47,
   "id": "8cc1f806-3299-4d7d-9d9a-38b7d96a09e3",
=======
   "execution_count": null,
   "id": "2b113318-ebef-457f-a511-205285da881a",
   "metadata": {},
   "outputs": [],
   "source": []
  },
  {
   "cell_type": "markdown",
   "id": "96c4fdfc-b58b-41f3-9f72-5149633af2ec",
   "metadata": {},
   "source": [
    "#### Recommendations Data"
   ]
  },
  {
   "cell_type": "code",
   "execution_count": 11,
   "id": "1b737fdd-c1e2-43ac-9be7-86adf2ad7896",
   "metadata": {},
   "outputs": [],
   "source": [
    "df_redommendations[\"date\"] = pd.to_datetime(df_redommendations[\"date\"])"
   ]
  },
  {
   "cell_type": "markdown",
   "id": "ad43c63c-d3c2-4705-a0e0-09673b56d54a",
   "metadata": {},
   "source": [
    "#### Games Metadata"
   ]
  },
  {
   "cell_type": "code",
   "execution_count": 12,
   "id": "97f35611-d470-4679-b21a-82d6715e6080",
>>>>>>> Stashed changes
   "metadata": {},
   "outputs": [
    {
     "data": {
      "text/html": [
       "<div>\n",
       "<style scoped>\n",
       "    .dataframe tbody tr th:only-of-type {\n",
       "        vertical-align: middle;\n",
       "    }\n",
       "\n",
       "    .dataframe tbody tr th {\n",
       "        vertical-align: top;\n",
       "    }\n",
       "\n",
       "    .dataframe thead th {\n",
       "        text-align: right;\n",
       "    }\n",
       "</style>\n",
       "<table border=\"1\" class=\"dataframe\">\n",
       "  <thead>\n",
       "    <tr style=\"text-align: right;\">\n",
       "      <th></th>\n",
       "      <th>appid</th>\n",
       "      <th>name</th>\n",
       "      <th>release_date</th>\n",
       "      <th>english</th>\n",
       "      <th>developer</th>\n",
       "      <th>publisher</th>\n",
       "      <th>platforms</th>\n",
       "      <th>required_age</th>\n",
       "      <th>categories</th>\n",
       "      <th>genres</th>\n",
       "      <th>steamspy_tags</th>\n",
       "      <th>achievements</th>\n",
       "      <th>positive_ratings</th>\n",
       "      <th>negative_ratings</th>\n",
       "      <th>average_playtime</th>\n",
       "      <th>median_playtime</th>\n",
       "      <th>owners</th>\n",
       "      <th>price</th>\n",
       "    </tr>\n",
       "  </thead>\n",
       "  <tbody>\n",
       "    <tr>\n",
       "      <th>0</th>\n",
       "      <td>10</td>\n",
       "      <td>Counter-Strike</td>\n",
       "      <td>2000-11-01</td>\n",
       "      <td>1</td>\n",
       "      <td>Valve</td>\n",
       "      <td>Valve</td>\n",
       "      <td>windows;mac;linux</td>\n",
       "      <td>0</td>\n",
       "      <td>Multi-player;Online Multi-Player;Local Multi-P...</td>\n",
       "      <td>Action</td>\n",
       "      <td>Action;FPS;Multiplayer</td>\n",
       "      <td>0</td>\n",
       "      <td>124534</td>\n",
       "      <td>3339</td>\n",
       "      <td>17612</td>\n",
       "      <td>317</td>\n",
       "      <td>10000000-20000000</td>\n",
       "      <td>7.19</td>\n",
       "    </tr>\n",
       "    <tr>\n",
       "      <th>1</th>\n",
       "      <td>20</td>\n",
       "      <td>Team Fortress Classic</td>\n",
       "      <td>1999-04-01</td>\n",
       "      <td>1</td>\n",
       "      <td>Valve</td>\n",
       "      <td>Valve</td>\n",
       "      <td>windows;mac;linux</td>\n",
       "      <td>0</td>\n",
       "      <td>Multi-player;Online Multi-Player;Local Multi-P...</td>\n",
       "      <td>Action</td>\n",
       "      <td>Action;FPS;Multiplayer</td>\n",
       "      <td>0</td>\n",
       "      <td>3318</td>\n",
       "      <td>633</td>\n",
       "      <td>277</td>\n",
       "      <td>62</td>\n",
       "      <td>5000000-10000000</td>\n",
       "      <td>3.99</td>\n",
       "    </tr>\n",
       "  </tbody>\n",
       "</table>\n",
       "</div>"
      ],
      "text/plain": [
       "   appid                   name release_date  english developer publisher  \\\n",
       "0     10         Counter-Strike   2000-11-01        1     Valve     Valve   \n",
       "1     20  Team Fortress Classic   1999-04-01        1     Valve     Valve   \n",
       "\n",
       "           platforms  required_age  \\\n",
       "0  windows;mac;linux             0   \n",
       "1  windows;mac;linux             0   \n",
       "\n",
       "                                          categories  genres  \\\n",
       "0  Multi-player;Online Multi-Player;Local Multi-P...  Action   \n",
       "1  Multi-player;Online Multi-Player;Local Multi-P...  Action   \n",
       "\n",
       "            steamspy_tags  achievements  positive_ratings  negative_ratings  \\\n",
       "0  Action;FPS;Multiplayer             0            124534              3339   \n",
       "1  Action;FPS;Multiplayer             0              3318               633   \n",
       "\n",
       "   average_playtime  median_playtime             owners  price  \n",
       "0             17612              317  10000000-20000000   7.19  \n",
       "1               277               62   5000000-10000000   3.99  "
      ]
     },
<<<<<<< Updated upstream
     "execution_count": 47,
=======
     "execution_count": 12,
>>>>>>> Stashed changes
     "metadata": {},
     "output_type": "execute_result"
    }
   ],
   "source": [
    "df_games_additional = pd.read_csv(\"data/steam.csv\")\n",
    "df_games_additional.head(2)"
   ]
  },
  {
   "cell_type": "markdown",
   "id": "f30fab8c-18ac-4c7a-bc58-f13d393956f9",
   "metadata": {},
   "source": [
    "### JOEY'S TASK\n",
    "The **CSV file [blabla.csv](data/steam.csv)** contains information about system requirements in order to run the games:\n",
    "\n",
    "| Column | Description | Example|\n",
    "| --- | --- | --- |\n",
    "| **JOEY** | Product ID on Steam| 10 |\n",
    "| **JOEY** | Name of Game | Counter-Strike |\n",
    "|  **JOEY** | Release Date of Title (y-m-d) | 2000-11-01 |\n",
    "|  **JOEY** | Is the Game Available in English? | 1 |"
   ]
  },
  {
   "cell_type": "code",
   "execution_count": 48,
   "id": "58dfca4b-5d4b-4b82-a021-71d16fa958fa",
   "metadata": {},
   "outputs": [],
   "source": [
    "# File Import "
   ]
  },
  {
   "cell_type": "markdown",
   "id": "e223689f-0688-471c-8600-9e44df389c6d",
   "metadata": {},
   "source": [
    "## Preliminary Data Exploration"
   ]
  },
  {
   "cell_type": "code",
   "execution_count": 49,
   "id": "fa1878f3-8fed-47dc-a09d-b08370842f59",
   "metadata": {},
   "outputs": [
    {
     "data": {
      "text/plain": [
       "array(['Very Positive', 'Positive', 'Mixed', 'Mostly Positive',\n",
       "       'Overwhelmingly Positive', 'Mostly Negative',\n",
       "       'Overwhelmingly Negative', 'Negative', 'Very Negative'],\n",
       "      dtype=object)"
      ]
     },
     "execution_count": 49,
     "metadata": {},
     "output_type": "execute_result"
    }
   ],
   "source": [
    "df_games_data[\"rating\"].unique()"
   ]
  },
  {
   "cell_type": "code",
   "execution_count": 50,
   "id": "9c7102df-294a-47cf-b157-1126286d6c45",
   "metadata": {},
   "outputs": [
    {
     "data": {
      "text/plain": [
       "array(['10000000-20000000', '5000000-10000000', '2000000-5000000',\n",
       "       '20000000-50000000', '100000000-200000000', '50000000-100000000',\n",
       "       '20000-50000', '500000-1000000', '100000-200000', '50000-100000',\n",
       "       '1000000-2000000', '200000-500000', '0-20000'], dtype=object)"
      ]
     },
     "execution_count": 50,
     "metadata": {},
     "output_type": "execute_result"
    }
   ],
   "source": [
    "df_games_additional[\"owners\"].unique()"
   ]
  },
  {
   "cell_type": "code",
   "execution_count": 51,
   "id": "b3547065-9cfa-43c7-a82d-3e14b5932195",
   "metadata": {},
   "outputs": [
    {
     "data": {
      "text/plain": [
       "Choice of Games               94\n",
       "KOEI TECMO GAMES CO., LTD.    72\n",
       "Ripknot Systems               62\n",
       "Laush Dmitriy Sergeevich      51\n",
       "Nikita \"Ghost_RUS\"            50\n",
       "                              ..\n",
       "CRAPPY ZOMBIE GAME STUDIO      1\n",
       "Ramon Mujica                   1\n",
       "Oomst Games                    1\n",
       "Joe Censored Games             1\n",
       "Adept Studios GD               1\n",
       "Name: developer, Length: 17113, dtype: int64"
      ]
     },
     "execution_count": 51,
     "metadata": {},
     "output_type": "execute_result"
    }
   ],
   "source": [
    "df_games_additional[\"developer\"].value_counts()"
   ]
  },
  {
   "cell_type": "markdown",
   "id": "746a74da-b868-4e0f-a0df-71b398091fd5",
   "metadata": {},
   "source": [
    "## Data Preparation"
   ]
  },
  {
   "cell_type": "markdown",
   "id": "59e0645e-00ba-45b4-9429-6c282bf0cf7f",
   "metadata": {
    "tags": []
   },
   "source": [
    "#### Games Data\n",
    "- Turning relevant columns to datetime objects\n",
    "- **AA IF ANYTHING ELSE PLEASE ADD**"
   ]
  },
  {
   "cell_type": "code",
   "execution_count": 52,
   "id": "cb67f7ea-bd82-4f19-9b02-6719dec83a56",
   "metadata": {},
   "outputs": [],
   "source": [
    "# Turn date_release column to Pandas DateTime\n",
    "df_games_data[\"date_release\"] = pd.to_datetime(df_games_data[\"date_release\"])"
   ]
  },
  {
   "cell_type": "markdown",
   "id": "cc6842bb-d646-4b01-beee-4276d5f680e8",
   "metadata": {},
   "source": [
    "#### Additional Game Data\n",
    "- Drop features that are redundant with df_games_data"
   ]
  },
  {
   "cell_type": "code",
   "execution_count": 53,
   "id": "7af1e3ff-f835-4170-ba58-d62cc293c4c9",
   "metadata": {},
   "outputs": [],
   "source": [
    "# Drop Redundant Columns\n",
    "df_games_additional.drop([\"name\",\"platforms\", \"release_date\", \"price\", \n",
    "                          \"positive_ratings\", \"negative_ratings\", \"categories\"], axis = 1, inplace = True)"
   ]
  },
  {
   "cell_type": "code",
   "execution_count": 54,
   "id": "018ecfb7-e923-4397-8369-d98200906074",
   "metadata": {},
   "outputs": [
    {
     "data": {
      "text/html": [
       "<div>\n",
       "<style scoped>\n",
       "    .dataframe tbody tr th:only-of-type {\n",
       "        vertical-align: middle;\n",
       "    }\n",
       "\n",
       "    .dataframe tbody tr th {\n",
       "        vertical-align: top;\n",
       "    }\n",
       "\n",
       "    .dataframe thead th {\n",
       "        text-align: right;\n",
       "    }\n",
       "</style>\n",
       "<table border=\"1\" class=\"dataframe\">\n",
       "  <thead>\n",
       "    <tr style=\"text-align: right;\">\n",
       "      <th></th>\n",
       "      <th>appid</th>\n",
       "      <th>english</th>\n",
       "      <th>developer</th>\n",
       "      <th>publisher</th>\n",
       "      <th>required_age</th>\n",
       "      <th>genres</th>\n",
       "      <th>steamspy_tags</th>\n",
       "      <th>achievements</th>\n",
       "      <th>average_playtime</th>\n",
       "      <th>median_playtime</th>\n",
       "      <th>owners</th>\n",
       "    </tr>\n",
       "  </thead>\n",
       "  <tbody>\n",
       "    <tr>\n",
       "      <th>0</th>\n",
       "      <td>10</td>\n",
       "      <td>1</td>\n",
       "      <td>Valve</td>\n",
       "      <td>Valve</td>\n",
       "      <td>0</td>\n",
       "      <td>Action</td>\n",
       "      <td>Action;FPS;Multiplayer</td>\n",
       "      <td>0</td>\n",
       "      <td>17612</td>\n",
       "      <td>317</td>\n",
       "      <td>10000000-20000000</td>\n",
       "    </tr>\n",
       "  </tbody>\n",
       "</table>\n",
       "</div>"
      ],
      "text/plain": [
       "   appid  english developer publisher  required_age  genres  \\\n",
       "0     10        1     Valve     Valve             0  Action   \n",
       "\n",
       "            steamspy_tags  achievements  average_playtime  median_playtime  \\\n",
       "0  Action;FPS;Multiplayer             0             17612              317   \n",
       "\n",
       "              owners  \n",
       "0  10000000-20000000  "
      ]
     },
     "execution_count": 54,
     "metadata": {},
     "output_type": "execute_result"
    }
   ],
   "source": [
    "df_games_additional.head(1)"
   ]
  },
  {
   "cell_type": "markdown",
   "id": "96c4fdfc-b58b-41f3-9f72-5149633af2ec",
   "metadata": {},
   "source": [
    "#### Recommendations Data\n",
    "- Turn date features into datetime objects\n",
    "- Rename is_recommended to y, to signal it is the target variable"
   ]
  },
  {
   "cell_type": "code",
   "execution_count": 55,
   "id": "1b737fdd-c1e2-43ac-9be7-86adf2ad7896",
   "metadata": {},
   "outputs": [],
   "source": [
    "# Turn to DateTime\n",
    "df_recommendations[\"date\"] = pd.to_datetime(df_recommendations[\"date\"])\n",
    "\n",
    "# Rename column\n",
    "df_recommendations.rename(columns = {\"is_recommended\": \"y\"}, inplace = True)"
   ]
  },
  {
   "cell_type": "markdown",
   "id": "ad43c63c-d3c2-4705-a0e0-09673b56d54a",
   "metadata": {},
   "source": [
    "#### Games Metadata"
   ]
  },
  {
   "cell_type": "code",
   "execution_count": 56,
   "id": "97f35611-d470-4679-b21a-82d6715e6080",
   "metadata": {},
   "outputs": [],
   "source": [
    "# Turn the Tags Column Into a List\n",
    "df_games_meta_data[\"tags\"] = df_games_meta_data[\"tags\"].astype(str).apply(ast.literal_eval)"
   ]
  },
  {
   "cell_type": "markdown",
   "id": "d5fee129-c1e7-43d2-b379-3eda177cc02e",
   "metadata": {},
   "source": [
    "## Merging Datasets\n",
    "\n",
    "We merge the data into one single final DataFrame."
   ]
  },
  {
   "cell_type": "code",
<<<<<<< Updated upstream
   "execution_count": 57,
=======
   "execution_count": 13,
>>>>>>> Stashed changes
   "id": "0eb0104e",
   "metadata": {},
   "outputs": [],
   "source": [
    "# Merge all information on games to one DataFrame\n",
    "games_df = df_games_data.merge(df_games_meta_data, how = \"inner\")\n",
    "games_df = games_df.merge(df_games_additional, how = \"inner\",\n",
    "                          left_on = \"app_id\", right_on = \"appid\")\n",
    "\n",
    "# Merge game information into the recommendations DataFrame\n",
    "recs_df = df_recommendations.merge(games_df, how = \"inner\", on = \"app_id\")\n",
    "\n",
    "# Merge all information on users into a final DataFrame\n",
    "final_df = recs_df.merge(df_users, how=\"inner\", on = \"user_id\")"
   ]
  },
  {
   "cell_type": "code",
<<<<<<< Updated upstream
   "execution_count": 58,
=======
   "execution_count": 14,
>>>>>>> Stashed changes
   "id": "7f842fd7-2f6e-4d10-b927-242d0b18afe3",
   "metadata": {},
   "outputs": [
    {
     "data": {
      "text/html": [
       "<div>\n",
       "<style scoped>\n",
       "    .dataframe tbody tr th:only-of-type {\n",
       "        vertical-align: middle;\n",
       "    }\n",
       "\n",
       "    .dataframe tbody tr th {\n",
       "        vertical-align: top;\n",
       "    }\n",
       "\n",
       "    .dataframe thead th {\n",
       "        text-align: right;\n",
       "    }\n",
       "</style>\n",
       "<table border=\"1\" class=\"dataframe\">\n",
       "  <thead>\n",
       "    <tr style=\"text-align: right;\">\n",
       "      <th></th>\n",
       "      <th>app_id</th>\n",
       "      <th>helpful</th>\n",
       "      <th>funny</th>\n",
       "      <th>hours</th>\n",
       "      <th>user_id</th>\n",
       "      <th>review_id</th>\n",
       "      <th>positive_ratio</th>\n",
       "      <th>user_reviews</th>\n",
       "      <th>price_final</th>\n",
       "      <th>price_original</th>\n",
       "      <th>discount</th>\n",
       "      <th>appid</th>\n",
       "      <th>english</th>\n",
       "      <th>required_age</th>\n",
       "      <th>achievements</th>\n",
       "      <th>average_playtime</th>\n",
       "      <th>median_playtime</th>\n",
       "      <th>products</th>\n",
       "      <th>reviews</th>\n",
       "    </tr>\n",
       "  </thead>\n",
       "  <tbody>\n",
       "    <tr>\n",
<<<<<<< Updated upstream
       "      <th>count</th>\n",
       "      <td>6.564923e+06</td>\n",
       "      <td>6.564923e+06</td>\n",
       "      <td>6.564923e+06</td>\n",
       "      <td>6.564923e+06</td>\n",
       "      <td>6.564923e+06</td>\n",
       "      <td>6.564923e+06</td>\n",
       "      <td>6.564923e+06</td>\n",
       "      <td>6.564923e+06</td>\n",
       "      <td>6.564923e+06</td>\n",
       "      <td>6.564923e+06</td>\n",
       "      <td>6.564923e+06</td>\n",
       "      <td>6.564923e+06</td>\n",
       "      <td>6564923.0</td>\n",
       "      <td>6.564923e+06</td>\n",
       "      <td>6.564923e+06</td>\n",
       "      <td>6.564923e+06</td>\n",
       "      <td>6.564923e+06</td>\n",
       "      <td>6.564923e+06</td>\n",
       "      <td>6.564923e+06</td>\n",
       "    </tr>\n",
       "    <tr>\n",
       "      <th>mean</th>\n",
       "      <td>3.331034e+05</td>\n",
       "      <td>3.460131e+00</td>\n",
       "      <td>1.394521e+00</td>\n",
       "      <td>1.904277e+02</td>\n",
       "      <td>3.004128e+06</td>\n",
       "      <td>5.136969e+06</td>\n",
       "      <td>8.782816e+01</td>\n",
       "      <td>4.158554e+05</td>\n",
       "      <td>2.118282e+01</td>\n",
       "      <td>2.241527e+01</td>\n",
       "      <td>4.317842e+00</td>\n",
       "      <td>3.331034e+05</td>\n",
       "      <td>1.0</td>\n",
       "      <td>4.369392e+00</td>\n",
       "      <td>7.823956e+01</td>\n",
       "      <td>4.590540e+03</td>\n",
       "      <td>1.782105e+03</td>\n",
       "      <td>1.909035e+02</td>\n",
       "      <td>3.940238e+00</td>\n",
       "    </tr>\n",
       "    <tr>\n",
       "      <th>std</th>\n",
       "      <td>1.851971e+05</td>\n",
       "      <td>5.834303e+01</td>\n",
       "      <td>4.805631e+01</td>\n",
       "      <td>2.373007e+02</td>\n",
       "      <td>1.650810e+06</td>\n",
       "      <td>2.967649e+06</td>\n",
       "      <td>7.836649e+00</td>\n",
       "      <td>1.132509e+06</td>\n",
       "      <td>1.556509e+01</td>\n",
       "      <td>1.650911e+01</td>\n",
       "      <td>1.751457e+01</td>\n",
       "      <td>1.851971e+05</td>\n",
       "      <td>0.0</td>\n",
       "      <td>7.590032e+00</td>\n",
       "      <td>1.401946e+02</td>\n",
       "      <td>5.843187e+03</td>\n",
       "      <td>1.969718e+03</td>\n",
       "      <td>3.690130e+02</td>\n",
       "      <td>5.721762e+00</td>\n",
       "    </tr>\n",
       "    <tr>\n",
       "      <th>min</th>\n",
       "      <td>7.000000e+01</td>\n",
       "      <td>0.000000e+00</td>\n",
       "      <td>0.000000e+00</td>\n",
       "      <td>0.000000e+00</td>\n",
       "      <td>0.000000e+00</td>\n",
       "      <td>1.000000e+00</td>\n",
       "      <td>4.400000e+01</td>\n",
       "      <td>1.740000e+02</td>\n",
       "      <td>0.000000e+00</td>\n",
       "      <td>0.000000e+00</td>\n",
       "      <td>0.000000e+00</td>\n",
       "      <td>7.000000e+01</td>\n",
       "      <td>1.0</td>\n",
       "      <td>0.000000e+00</td>\n",
       "      <td>0.000000e+00</td>\n",
       "      <td>0.000000e+00</td>\n",
       "      <td>0.000000e+00</td>\n",
       "      <td>0.000000e+00</td>\n",
       "      <td>1.000000e+00</td>\n",
       "    </tr>\n",
       "    <tr>\n",
       "      <th>25%</th>\n",
       "      <td>2.389600e+05</td>\n",
       "      <td>0.000000e+00</td>\n",
       "      <td>0.000000e+00</td>\n",
       "      <td>2.360000e+01</td>\n",
       "      <td>1.666029e+06</td>\n",
       "      <td>2.559700e+06</td>\n",
       "      <td>8.300000e+01</td>\n",
       "      <td>5.222600e+04</td>\n",
       "      <td>9.990000e+00</td>\n",
       "      <td>9.990000e+00</td>\n",
       "      <td>0.000000e+00</td>\n",
       "      <td>2.389600e+05</td>\n",
       "      <td>1.0</td>\n",
       "      <td>0.000000e+00</td>\n",
       "      <td>7.000000e+00</td>\n",
       "      <td>1.084000e+03</td>\n",
       "      <td>4.920000e+02</td>\n",
       "      <td>3.700000e+01</td>\n",
       "      <td>1.000000e+00</td>\n",
       "    </tr>\n",
       "    <tr>\n",
       "      <th>50%</th>\n",
       "      <td>2.941000e+05</td>\n",
       "      <td>0.000000e+00</td>\n",
       "      <td>0.000000e+00</td>\n",
       "      <td>8.300000e+01</td>\n",
       "      <td>3.047610e+06</td>\n",
       "      <td>5.120629e+06</td>\n",
       "      <td>8.800000e+01</td>\n",
       "      <td>1.056140e+05</td>\n",
       "      <td>1.999000e+01</td>\n",
       "      <td>1.999000e+01</td>\n",
       "      <td>0.000000e+00</td>\n",
       "      <td>2.941000e+05</td>\n",
       "      <td>1.0</td>\n",
       "      <td>0.000000e+00</td>\n",
       "      <td>4.300000e+01</td>\n",
       "      <td>2.086000e+03</td>\n",
       "      <td>1.147000e+03</td>\n",
       "      <td>9.500000e+01</td>\n",
       "      <td>2.000000e+00</td>\n",
       "    </tr>\n",
       "    <tr>\n",
       "      <th>75%</th>\n",
       "      <td>4.319600e+05</td>\n",
       "      <td>0.000000e+00</td>\n",
       "      <td>0.000000e+00</td>\n",
       "      <td>2.689000e+02</td>\n",
       "      <td>4.435053e+06</td>\n",
       "      <td>7.756638e+06</td>\n",
       "      <td>9.400000e+01</td>\n",
       "      <td>2.048400e+05</td>\n",
       "      <td>2.999000e+01</td>\n",
       "      <td>2.999000e+01</td>\n",
       "      <td>0.000000e+00</td>\n",
       "      <td>4.319600e+05</td>\n",
       "      <td>1.0</td>\n",
       "      <td>0.000000e+00</td>\n",
       "      <td>8.800000e+01</td>\n",
       "      <td>5.017000e+03</td>\n",
       "      <td>2.234000e+03</td>\n",
       "      <td>2.160000e+02</td>\n",
       "      <td>4.000000e+00</td>\n",
       "    </tr>\n",
       "    <tr>\n",
       "      <th>max</th>\n",
       "      <td>1.032430e+06</td>\n",
       "      <td>2.962700e+04</td>\n",
       "      <td>2.808800e+04</td>\n",
       "      <td>9.999000e+02</td>\n",
       "      <td>5.810792e+06</td>\n",
       "      <td>1.007227e+07</td>\n",
       "      <td>9.800000e+01</td>\n",
       "      <td>6.941137e+06</td>\n",
       "      <td>5.999000e+01</td>\n",
       "      <td>1.099900e+02</td>\n",
       "      <td>9.000000e+01</td>\n",
       "      <td>1.032430e+06</td>\n",
       "      <td>1.0</td>\n",
       "      <td>1.800000e+01</td>\n",
       "      <td>1.130000e+03</td>\n",
       "      <td>2.889700e+04</td>\n",
       "      <td>1.243400e+04</td>\n",
       "      <td>2.930800e+04</td>\n",
       "      <td>1.510000e+02</td>\n",
=======
       "      <th>0</th>\n",
       "      <td>975370</td>\n",
       "      <td>0</td>\n",
       "      <td>0</td>\n",
       "      <td>2022-12-12</td>\n",
       "      <td>True</td>\n",
       "      <td>36.3</td>\n",
       "      <td>14546</td>\n",
       "      <td>0</td>\n",
       "      <td>Dwarf Fortress</td>\n",
       "      <td>2022-12-06</td>\n",
       "      <td>...</td>\n",
       "      <td>95</td>\n",
       "      <td>17773</td>\n",
       "      <td>29.99</td>\n",
       "      <td>29.99</td>\n",
       "      <td>0.0</td>\n",
       "      <td>True</td>\n",
       "      <td>The deepest, most intricate simulation of a wo...</td>\n",
       "      <td>[Colony Sim, Indie, Pixel Graphics, Simulation...</td>\n",
       "      <td>24</td>\n",
       "      <td>0</td>\n",
       "    </tr>\n",
       "    <tr>\n",
       "      <th>1</th>\n",
       "      <td>304390</td>\n",
       "      <td>4</td>\n",
       "      <td>0</td>\n",
       "      <td>2017-02-17</td>\n",
       "      <td>False</td>\n",
       "      <td>11.5</td>\n",
       "      <td>797</td>\n",
       "      <td>1</td>\n",
       "      <td>FOR HONOR™</td>\n",
       "      <td>2017-02-13</td>\n",
       "      <td>...</td>\n",
       "      <td>68</td>\n",
       "      <td>76071</td>\n",
       "      <td>14.99</td>\n",
       "      <td>14.99</td>\n",
       "      <td>0.0</td>\n",
       "      <td>True</td>\n",
       "      <td>Carve a path of destruction through an intense...</td>\n",
       "      <td>[Medieval, Swordplay, Action, Multiplayer, PvP...</td>\n",
       "      <td>40</td>\n",
       "      <td>1</td>\n",
>>>>>>> Stashed changes
       "    </tr>\n",
       "  </tbody>\n",
       "</table>\n",
       "</div>"
      ],
      "text/plain": [
<<<<<<< Updated upstream
       "             app_id       helpful         funny         hours       user_id  \\\n",
       "count  6.564923e+06  6.564923e+06  6.564923e+06  6.564923e+06  6.564923e+06   \n",
       "mean   3.331034e+05  3.460131e+00  1.394521e+00  1.904277e+02  3.004128e+06   \n",
       "std    1.851971e+05  5.834303e+01  4.805631e+01  2.373007e+02  1.650810e+06   \n",
       "min    7.000000e+01  0.000000e+00  0.000000e+00  0.000000e+00  0.000000e+00   \n",
       "25%    2.389600e+05  0.000000e+00  0.000000e+00  2.360000e+01  1.666029e+06   \n",
       "50%    2.941000e+05  0.000000e+00  0.000000e+00  8.300000e+01  3.047610e+06   \n",
       "75%    4.319600e+05  0.000000e+00  0.000000e+00  2.689000e+02  4.435053e+06   \n",
       "max    1.032430e+06  2.962700e+04  2.808800e+04  9.999000e+02  5.810792e+06   \n",
=======
       "   app_id  helpful  funny       date  is_recommended  hours  user_id  \\\n",
       "0  975370        0      0 2022-12-12            True   36.3    14546   \n",
       "1  304390        4      0 2017-02-17           False   11.5      797   \n",
>>>>>>> Stashed changes
       "\n",
       "          review_id  positive_ratio  user_reviews   price_final  \\\n",
       "count  6.564923e+06    6.564923e+06  6.564923e+06  6.564923e+06   \n",
       "mean   5.136969e+06    8.782816e+01  4.158554e+05  2.118282e+01   \n",
       "std    2.967649e+06    7.836649e+00  1.132509e+06  1.556509e+01   \n",
       "min    1.000000e+00    4.400000e+01  1.740000e+02  0.000000e+00   \n",
       "25%    2.559700e+06    8.300000e+01  5.222600e+04  9.990000e+00   \n",
       "50%    5.120629e+06    8.800000e+01  1.056140e+05  1.999000e+01   \n",
       "75%    7.756638e+06    9.400000e+01  2.048400e+05  2.999000e+01   \n",
       "max    1.007227e+07    9.800000e+01  6.941137e+06  5.999000e+01   \n",
       "\n",
       "       price_original      discount         appid    english  required_age  \\\n",
       "count    6.564923e+06  6.564923e+06  6.564923e+06  6564923.0  6.564923e+06   \n",
       "mean     2.241527e+01  4.317842e+00  3.331034e+05        1.0  4.369392e+00   \n",
       "std      1.650911e+01  1.751457e+01  1.851971e+05        0.0  7.590032e+00   \n",
       "min      0.000000e+00  0.000000e+00  7.000000e+01        1.0  0.000000e+00   \n",
       "25%      9.990000e+00  0.000000e+00  2.389600e+05        1.0  0.000000e+00   \n",
       "50%      1.999000e+01  0.000000e+00  2.941000e+05        1.0  0.000000e+00   \n",
       "75%      2.999000e+01  0.000000e+00  4.319600e+05        1.0  0.000000e+00   \n",
       "max      1.099900e+02  9.000000e+01  1.032430e+06        1.0  1.800000e+01   \n",
       "\n",
       "       achievements  average_playtime  median_playtime      products  \\\n",
       "count  6.564923e+06      6.564923e+06     6.564923e+06  6.564923e+06   \n",
       "mean   7.823956e+01      4.590540e+03     1.782105e+03  1.909035e+02   \n",
       "std    1.401946e+02      5.843187e+03     1.969718e+03  3.690130e+02   \n",
       "min    0.000000e+00      0.000000e+00     0.000000e+00  0.000000e+00   \n",
       "25%    7.000000e+00      1.084000e+03     4.920000e+02  3.700000e+01   \n",
       "50%    4.300000e+01      2.086000e+03     1.147000e+03  9.500000e+01   \n",
       "75%    8.800000e+01      5.017000e+03     2.234000e+03  2.160000e+02   \n",
       "max    1.130000e+03      2.889700e+04     1.243400e+04  2.930800e+04   \n",
       "\n",
<<<<<<< Updated upstream
       "            reviews  \n",
       "count  6.564923e+06  \n",
       "mean   3.940238e+00  \n",
       "std    5.721762e+00  \n",
       "min    1.000000e+00  \n",
       "25%    1.000000e+00  \n",
       "50%    2.000000e+00  \n",
       "75%    4.000000e+00  \n",
       "max    1.510000e+02  "
      ]
     },
     "execution_count": 58,
=======
       "                                                tags  products  reviews  \n",
       "0  [Colony Sim, Indie, Pixel Graphics, Simulation...        24        0  \n",
       "1  [Medieval, Swordplay, Action, Multiplayer, PvP...        40        1  \n",
       "\n",
       "[2 rows x 24 columns]"
      ]
     },
     "execution_count": 14,
>>>>>>> Stashed changes
     "metadata": {},
     "output_type": "execute_result"
    }
   ],
   "source": [
    "final_df.describe()"
   ]
  },
  {
   "cell_type": "markdown",
   "id": "22d793f0-3291-4799-955c-ee8e6d8c8848",
   "metadata": {},
   "source": [
    "## Data Exploration"
   ]
  },
  {
   "cell_type": "code",
   "execution_count": 15,
   "id": "c0f38e68-3c56-4aec-9472-8e3641a27f0c",
   "metadata": {},
   "outputs": [
    {
     "data": {
      "text/plain": [
       "(6126803, 24)"
      ]
     },
     "execution_count": 15,
     "metadata": {},
     "output_type": "execute_result"
    }
   ],
   "source": [
    "final_df.shape"
   ]
  },
  {
   "cell_type": "code",
   "execution_count": 49,
   "id": "ecd81e26-82bb-4a3a-a636-e6a7dfe115be",
   "metadata": {},
   "outputs": [
    {
     "name": "stdout",
     "output_type": "stream",
     "text": [
      "Total NaNs in the final_df DataFrame: 0\n"
     ]
    }
   ],
   "source": [
    "total_nans = final_df.isna().sum().sum()\n",
    "print(f\"Total NaNs in the final_df DataFrame: {total_nans}\")"
   ]
  },
  {
   "cell_type": "markdown",
   "id": "dfb84c92-bb28-4637-83f9-1bfbd7a89302",
   "metadata": {},
   "source": [
    "After merging all information into a final dataframe, we look at the various values of the specific features."
   ]
  },
  {
   "cell_type": "code",
   "execution_count": 16,
   "id": "bd8380ad-7cc5-412c-b9aa-85ce6f23849a",
   "metadata": {},
   "outputs": [
    {
     "data": {
      "text/html": [
       "<div>\n",
       "<style scoped>\n",
       "    .dataframe tbody tr th:only-of-type {\n",
       "        vertical-align: middle;\n",
       "    }\n",
       "\n",
       "    .dataframe tbody tr th {\n",
       "        vertical-align: top;\n",
       "    }\n",
       "\n",
       "    .dataframe thead th {\n",
       "        text-align: right;\n",
       "    }\n",
       "</style>\n",
       "<table border=\"1\" class=\"dataframe\">\n",
       "  <thead>\n",
       "    <tr style=\"text-align: right;\">\n",
       "      <th></th>\n",
       "      <th>count</th>\n",
       "      <th>mean</th>\n",
       "      <th>std</th>\n",
       "      <th>min</th>\n",
       "      <th>10%</th>\n",
       "      <th>25%</th>\n",
       "      <th>50%</th>\n",
       "      <th>75%</th>\n",
       "      <th>90%</th>\n",
       "      <th>max</th>\n",
       "    </tr>\n",
       "  </thead>\n",
       "  <tbody>\n",
       "    <tr>\n",
       "      <th>app_id</th>\n",
       "      <td>6126803.0</td>\n",
       "      <td>619681.31</td>\n",
       "      <td>505651.14</td>\n",
       "      <td>440.0</td>\n",
       "      <td>218620.0</td>\n",
       "      <td>255710.00</td>\n",
       "      <td>394360.00</td>\n",
       "      <td>1091500.00</td>\n",
       "      <td>1332010.00</td>\n",
       "      <td>2208920.00</td>\n",
       "    </tr>\n",
       "    <tr>\n",
       "      <th>helpful</th>\n",
       "      <td>6126803.0</td>\n",
       "      <td>3.47</td>\n",
       "      <td>65.33</td>\n",
       "      <td>0.0</td>\n",
       "      <td>0.0</td>\n",
       "      <td>0.00</td>\n",
       "      <td>0.00</td>\n",
       "      <td>0.00</td>\n",
       "      <td>3.00</td>\n",
       "      <td>29627.00</td>\n",
       "    </tr>\n",
       "    <tr>\n",
       "      <th>funny</th>\n",
       "      <td>6126803.0</td>\n",
       "      <td>1.24</td>\n",
       "      <td>47.99</td>\n",
       "      <td>-6.0</td>\n",
       "      <td>0.0</td>\n",
       "      <td>0.00</td>\n",
       "      <td>0.00</td>\n",
       "      <td>0.00</td>\n",
       "      <td>0.00</td>\n",
       "      <td>28088.00</td>\n",
       "    </tr>\n",
       "    <tr>\n",
       "      <th>hours</th>\n",
       "      <td>6126803.0</td>\n",
       "      <td>201.22</td>\n",
       "      <td>236.85</td>\n",
       "      <td>0.0</td>\n",
       "      <td>10.1</td>\n",
       "      <td>31.00</td>\n",
       "      <td>100.40</td>\n",
       "      <td>284.50</td>\n",
       "      <td>582.70</td>\n",
       "      <td>999.90</td>\n",
       "    </tr>\n",
       "    <tr>\n",
       "      <th>user_id</th>\n",
       "      <td>6126803.0</td>\n",
       "      <td>2165477.41</td>\n",
       "      <td>1216668.25</td>\n",
       "      <td>0.0</td>\n",
       "      <td>434576.2</td>\n",
       "      <td>1133890.00</td>\n",
       "      <td>2191020.00</td>\n",
       "      <td>3226141.00</td>\n",
       "      <td>3816665.80</td>\n",
       "      <td>4240752.00</td>\n",
       "    </tr>\n",
       "    <tr>\n",
       "      <th>review_id</th>\n",
       "      <td>6126803.0</td>\n",
       "      <td>3063401.00</td>\n",
       "      <td>1768655.83</td>\n",
       "      <td>0.0</td>\n",
       "      <td>612680.2</td>\n",
       "      <td>1531700.50</td>\n",
       "      <td>3063401.00</td>\n",
       "      <td>4595101.50</td>\n",
       "      <td>5514121.80</td>\n",
       "      <td>6126802.00</td>\n",
       "    </tr>\n",
       "    <tr>\n",
       "      <th>positive_ratio</th>\n",
       "      <td>6126803.0</td>\n",
       "      <td>86.28</td>\n",
       "      <td>9.51</td>\n",
       "      <td>48.0</td>\n",
       "      <td>73.0</td>\n",
       "      <td>82.00</td>\n",
       "      <td>88.00</td>\n",
       "      <td>93.00</td>\n",
       "      <td>97.00</td>\n",
       "      <td>98.00</td>\n",
       "    </tr>\n",
       "    <tr>\n",
       "      <th>user_reviews</th>\n",
       "      <td>6126803.0</td>\n",
       "      <td>480536.79</td>\n",
       "      <td>1159956.83</td>\n",
       "      <td>339.0</td>\n",
       "      <td>40649.0</td>\n",
       "      <td>78089.00</td>\n",
       "      <td>175903.00</td>\n",
       "      <td>396801.00</td>\n",
       "      <td>722973.00</td>\n",
       "      <td>6941137.00</td>\n",
       "    </tr>\n",
       "    <tr>\n",
       "      <th>price_final</th>\n",
       "      <td>6126803.0</td>\n",
       "      <td>26.76</td>\n",
       "      <td>19.89</td>\n",
       "      <td>0.0</td>\n",
       "      <td>0.0</td>\n",
       "      <td>9.99</td>\n",
       "      <td>24.99</td>\n",
       "      <td>39.99</td>\n",
       "      <td>59.99</td>\n",
       "      <td>69.99</td>\n",
       "    </tr>\n",
       "    <tr>\n",
       "      <th>price_original</th>\n",
       "      <td>6126803.0</td>\n",
       "      <td>28.57</td>\n",
       "      <td>21.46</td>\n",
       "      <td>0.0</td>\n",
       "      <td>0.0</td>\n",
       "      <td>9.99</td>\n",
       "      <td>29.99</td>\n",
       "      <td>39.99</td>\n",
       "      <td>59.99</td>\n",
       "      <td>109.99</td>\n",
       "    </tr>\n",
       "    <tr>\n",
       "      <th>discount</th>\n",
       "      <td>6126803.0</td>\n",
       "      <td>4.24</td>\n",
       "      <td>16.50</td>\n",
       "      <td>0.0</td>\n",
       "      <td>0.0</td>\n",
       "      <td>0.00</td>\n",
       "      <td>0.00</td>\n",
       "      <td>0.00</td>\n",
       "      <td>0.00</td>\n",
       "      <td>90.00</td>\n",
       "    </tr>\n",
       "    <tr>\n",
       "      <th>products</th>\n",
       "      <td>6126803.0</td>\n",
       "      <td>117.18</td>\n",
       "      <td>243.09</td>\n",
       "      <td>0.0</td>\n",
       "      <td>7.0</td>\n",
       "      <td>20.00</td>\n",
       "      <td>56.00</td>\n",
       "      <td>131.00</td>\n",
       "      <td>266.00</td>\n",
       "      <td>29308.00</td>\n",
       "    </tr>\n",
       "    <tr>\n",
       "      <th>reviews</th>\n",
       "      <td>6126803.0</td>\n",
       "      <td>1.70</td>\n",
       "      <td>1.94</td>\n",
       "      <td>0.0</td>\n",
       "      <td>1.0</td>\n",
       "      <td>1.00</td>\n",
       "      <td>1.00</td>\n",
       "      <td>2.00</td>\n",
       "      <td>3.00</td>\n",
       "      <td>151.00</td>\n",
       "    </tr>\n",
       "  </tbody>\n",
       "</table>\n",
       "</div>"
      ],
      "text/plain": [
       "                    count        mean         std    min       10%  \\\n",
       "app_id          6126803.0   619681.31   505651.14  440.0  218620.0   \n",
       "helpful         6126803.0        3.47       65.33    0.0       0.0   \n",
       "funny           6126803.0        1.24       47.99   -6.0       0.0   \n",
       "hours           6126803.0      201.22      236.85    0.0      10.1   \n",
       "user_id         6126803.0  2165477.41  1216668.25    0.0  434576.2   \n",
       "review_id       6126803.0  3063401.00  1768655.83    0.0  612680.2   \n",
       "positive_ratio  6126803.0       86.28        9.51   48.0      73.0   \n",
       "user_reviews    6126803.0   480536.79  1159956.83  339.0   40649.0   \n",
       "price_final     6126803.0       26.76       19.89    0.0       0.0   \n",
       "price_original  6126803.0       28.57       21.46    0.0       0.0   \n",
       "discount        6126803.0        4.24       16.50    0.0       0.0   \n",
       "products        6126803.0      117.18      243.09    0.0       7.0   \n",
       "reviews         6126803.0        1.70        1.94    0.0       1.0   \n",
       "\n",
       "                       25%         50%         75%         90%         max  \n",
       "app_id           255710.00   394360.00  1091500.00  1332010.00  2208920.00  \n",
       "helpful               0.00        0.00        0.00        3.00    29627.00  \n",
       "funny                 0.00        0.00        0.00        0.00    28088.00  \n",
       "hours                31.00      100.40      284.50      582.70      999.90  \n",
       "user_id         1133890.00  2191020.00  3226141.00  3816665.80  4240752.00  \n",
       "review_id       1531700.50  3063401.00  4595101.50  5514121.80  6126802.00  \n",
       "positive_ratio       82.00       88.00       93.00       97.00       98.00  \n",
       "user_reviews      78089.00   175903.00   396801.00   722973.00  6941137.00  \n",
       "price_final           9.99       24.99       39.99       59.99       69.99  \n",
       "price_original        9.99       29.99       39.99       59.99      109.99  \n",
       "discount              0.00        0.00        0.00        0.00       90.00  \n",
       "products             20.00       56.00      131.00      266.00    29308.00  \n",
       "reviews               1.00        1.00        2.00        3.00      151.00  "
      ]
     },
     "execution_count": 16,
     "metadata": {},
     "output_type": "execute_result"
    }
   ],
   "source": [
    "# describe final_df\n",
    "final_df.describe(percentiles=[.1, .25, .5, .75, .9]).round(2).T"
   ]
  },
  {
   "cell_type": "code",
   "execution_count": 36,
   "id": "73b4262f-a6d7-451d-b977-6a70c99df8fb",
   "metadata": {},
   "outputs": [
    {
     "name": "stderr",
     "output_type": "stream",
     "text": [
      "/var/folders/gs/xnyw__p94xl1dp76b2zhm0yw0000gn/T/ipykernel_5004/3683234857.py:20: SettingWithCopyWarning: \n",
      "A value is trying to be set on a copy of a slice from a DataFrame.\n",
      "Try using .loc[row_indexer,col_indexer] = value instead\n",
      "\n",
      "See the caveats in the documentation: https://pandas.pydata.org/pandas-docs/stable/user_guide/indexing.html#returning-a-view-versus-a-copy\n",
      "  df_analyze['rating'] = df_analyze['rating'].map(rating_map)\n",
      "/var/folders/gs/xnyw__p94xl1dp76b2zhm0yw0000gn/T/ipykernel_5004/3683234857.py:23: SettingWithCopyWarning: \n",
      "A value is trying to be set on a copy of a slice from a DataFrame.\n",
      "Try using .loc[row_indexer,col_indexer] = value instead\n",
      "\n",
      "See the caveats in the documentation: https://pandas.pydata.org/pandas-docs/stable/user_guide/indexing.html#returning-a-view-versus-a-copy\n",
      "  df_analyze['is_recommended'] = df_analyze['is_recommended'].map({True: 1, False: 0})\n"
     ]
    },
    {
     "data": {
      "image/png": "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\n",
      "text/plain": [
       "<Figure size 720x576 with 2 Axes>"
      ]
     },
     "metadata": {},
     "output_type": "display_data"
    }
   ],
   "source": [
    "# correlations between different variables, such as price and rating, user reviews and helpful votes, or hours played and recommendation status.\n",
    "\n",
    "import csv\n",
    "import matplotlib.pyplot as plt\n",
    "import seaborn as sns\n",
    "import datetime\n",
    "\n",
    "\n",
    "df_analyze = final_df[['price_final', 'rating', 'user_reviews', 'helpful', 'hours', 'is_recommended']]\n",
    "\n",
    "# Convert rating column to numerical values\n",
    "rating_map = {\n",
    "    'Overwhelmingly Positive': 5,\n",
    "    'Very Positive': 4,\n",
    "    'Mostly Positive': 3,\n",
    "    'Mixed': 2,\n",
    "    'Mostly Negative': 1,\n",
    "    'Very Negative': 0\n",
    "}\n",
    "df_analyze['rating'] = df_analyze['rating'].map(rating_map)\n",
    "\n",
    "# Convert is_recommended column to binary values\n",
    "df_analyze['is_recommended'] = df_analyze['is_recommended'].map({True: 1, False: 0})\n",
    "\n",
    "# Calculate the correlation matrix\n",
    "corr_matrix = df_analyze.corr()\n",
    "\n",
    "# Setting seaborn style\n",
    "sns.set(style=\"white\")\n",
    "\n",
    "# Generate a mask for the upper triangle\n",
    "mask = np.triu(np.ones_like(corr_matrix, dtype=bool))\n",
    "\n",
    "f, ax = plt.subplots(figsize=(10, 8))\n",
    "\n",
    "\n",
    "cmap = sns.diverging_palette(230, 20, as_cmap=True)\n",
    "\n",
    "sns.heatmap(corr_matrix, mask=mask, cmap=cmap, vmax=1, vmin=-1, center=0, square=True, linewidths=.5, cbar_kws={\"shrink\": .5}, annot=True, fmt=\".2f\")\n",
    "plt.title('Correlation Heatmap')\n",
    "plt.show()\n"
   ]
  },
  {
   "cell_type": "markdown",
   "id": "8249ee2e-3185-484a-a6b9-ffe54b34bd30",
   "metadata": {},
   "source": [
    "As expected, be observe the strongest positive correlations between is_recommended and rating and user_reviews and hours. Hours and is_recommended are also slightly correlated.\n",
    "The final price seems to have a negative influence on user_reviews and the rating."
   ]
  },
  {
   "cell_type": "code",
   "execution_count": 18,
   "id": "d937f224-3b0c-471d-9769-23eb4f79fa60",
   "metadata": {},
   "outputs": [
    {
     "data": {
      "text/plain": [
       "<Figure size 720x360 with 0 Axes>"
      ]
     },
     "metadata": {},
     "output_type": "display_data"
    },
    {
     "data": {
      "image/png": "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\n",
      "text/plain": [
       "<Figure size 600x400 with 1 Axes>"
      ]
     },
     "metadata": {},
     "output_type": "display_data"
    }
   ],
   "source": [
    "# frequency distribution of final prices\n",
    "\n",
    "plt.figure(figsize=(10, 5))\n",
    "plt.figure(dpi=100)\n",
    "plt.hist(final_df['price_final'], bins=25, edgecolor='black', range=(0, 100))\n",
    "plt.title('Frequency Distribution of Final Prices')\n",
    "plt.xlabel('Price')\n",
    "plt.ylabel('Frequency')\n",
    "plt.xlim(0, 100)  # Set the x-axis limits to 0 and 110\n",
    "plt.show()"
   ]
  },
  {
   "cell_type": "code",
   "execution_count": 19,
   "id": "f73bd11c-5d1b-4d9a-b72d-4d7ca26121ea",
   "metadata": {},
   "outputs": [
    {
     "data": {
      "image/png": "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\n",
      "text/plain": [
       "<Figure size 432x288 with 1 Axes>"
      ]
     },
     "metadata": {},
     "output_type": "display_data"
    }
   ],
   "source": [
    "# boxplot of final price\n",
    "\n",
    "ax = final_df.boxplot('price_final')\n",
    "\n",
    "ax.set_ylabel('Price')\n",
    "ax.set_title('Box plot of game prices')\n",
    "\n",
    "stats = final_df['price_final'].describe()\n",
    "mean = final_df['price_final'].mean()\n",
    "std_dev = final_df['price_final'].std()\n",
    "\n",
    "# calculate outliers\n",
    "q1 = stats['25%']\n",
    "q3 = stats['75%']\n",
    "iqr = q3 - q1\n",
    "lower_bound = q1 - (1.5 * iqr)\n",
    "upper_bound = q3 + (1.5 * iqr)\n",
    "\n",
    "outliers = final_df[(final_df['price_final'] < lower_bound) | (final_df['price_final'] > upper_bound)]['price_final']\n",
    "num_outliers = outliers.count()\n",
    "\n",
    "# add statistics to the plot\n",
    "ax.text(0.7, 0.85, f\"Mean: {mean:.2f}\\nStd Dev: {std_dev:.2f}\\nMedian: {stats['50%']:.2f}\\nQ1: {stats['25%']:.2f}\\nQ3: {stats['75%']:.2f}\\nOutliers: {num_outliers}\",\n",
    "        transform=ax.transAxes, bbox=dict(facecolor='white', edgecolor='black', alpha=0.9))\n",
    "\n",
    "\n",
    "plt.show()\n"
   ]
  },
  {
   "cell_type": "code",
   "execution_count": 20,
   "id": "e592575c-2d55-4c11-b4dd-9ebf8008d725",
   "metadata": {},
   "outputs": [
    {
     "data": {
      "image/png": "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\n",
      "text/plain": [
       "<Figure size 1296x720 with 1 Axes>"
      ]
     },
     "metadata": {},
     "output_type": "display_data"
    }
   ],
   "source": [
    "# Plotting the frequency distribution of rating\n",
    "\n",
    "plt.figure(figsize=(18, 10))\n",
    "ax = sns.countplot(x='rating', data=final_df)\n",
    "plt.title('Frequency Distribution of Ratings')\n",
    "plt.xlabel('Rating')\n",
    "plt.ylabel('Frequency')\n",
    "\n",
    "# Annotate bars with counts\n",
    "for p in ax.patches:\n",
    "    ax.annotate(f'{p.get_height()}', (p.get_x() + p.get_width() / 2., p.get_height()), ha='center', va='baseline')\n",
    "\n",
    "plt.show()"
   ]
  },
  {
   "cell_type": "code",
   "execution_count": 21,
   "id": "10ffdf26-8f00-4237-99dd-a4a36174ee9e",
   "metadata": {},
   "outputs": [
    {
     "data": {
      "text/plain": [
       "<Figure size 720x360 with 0 Axes>"
      ]
     },
     "metadata": {},
     "output_type": "display_data"
    },
    {
     "data": {
      "image/png": "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\n",
      "text/plain": [
       "<Figure size 600x400 with 1 Axes>"
      ]
     },
     "metadata": {},
     "output_type": "display_data"
    }
   ],
   "source": [
    "# Plotting the frequency distribution of number of recommendations\n",
    "\n",
    "plt.figure(figsize=(10, 5))\n",
    "plt.figure(dpi=100)\n",
    "ax = sns.countplot(x='is_recommended', data=final_df)\n",
    "plt.title('Frequency Distribution of Recommendations')\n",
    "plt.xlabel('Is Recommended')\n",
    "plt.ylabel('Frequency')\n",
    "\n",
    "# Annotate the bars with counts\n",
    "for p in ax.patches:\n",
    "    ax.annotate(f'{p.get_height()}', (p.get_x() + p.get_width() / 2., p.get_height()), ha='center', va='baseline')\n",
    "\n",
    "plt.show()\n"
   ]
  },
  {
   "cell_type": "code",
   "execution_count": 22,
   "id": "dac67e00-97ad-4b21-86b2-2249440a6e0e",
   "metadata": {},
   "outputs": [
    {
     "data": {
      "image/png": "iVBORw0KGgoAAAANSUhEUgAAAloAAAFNCAYAAADYYMFUAAAAOXRFWHRTb2Z0d2FyZQBNYXRwbG90bGliIHZlcnNpb24zLjUuMSwgaHR0cHM6Ly9tYXRwbG90bGliLm9yZy/YYfK9AAAACXBIWXMAAAsTAAALEwEAmpwYAAA6Z0lEQVR4nO3deXxN1/7/8feJhBiqqki0VEsNLWpqEcQUU2OImGKsUtWqoZNqVFqlEkJc473F5ZaihlYoV41xa1bVGqKXooooCaUiEpnOWb8//JyvlEjq2pm8no9HH7XX2Wftzz7ZSd5Ze+29bcYYIwAAANx3LtldAAAAQF5F0AIAALAIQQsAAMAiBC0AAACLELQAAAAsQtACAACwCEELucbZs2dVuXJlffnll2na582bp8DAwPu2nebNmysyMvK+9Xc3165dU/fu3dW2bVtt3Ljxttd/++03BQYGqnXr1mrbtq1at26tKVOmKCUlJUvqy6yYmBgFBgaqffv26tChg7p27arNmzdnd1kKCgrS4cOHJUmjRo3Srl27dPbsWdWqVeuO68+YMUNjx469rzXExMSoe/fukqSoqCgNHTpUku5ax59VrlxZ7du3l5+fnzp06KBOnTpp8eLFzteXLFmiOXPmSJJ27NihZs2aqUuXLtq/f79atGihTp066ezZs/d1v+6kf//+unz58m3t4eHhqlOnjvz8/NSxY0f5+fmpe/fu2r9/vyQpMDBQ8+bNu2vfcXFxeumll9L02bRpU73yyiv3dyeA+8w1uwsA/goXFxeFhoaqTp06Kl++fHaX8z87cuSILl26pE2bNt32WkxMjAICAjRs2DCNHz9eNptN8fHxCgwMVGhoqIKCgrKh4ttdvnxZ3bt315tvvums8+jRo+rXr58KFiyohg0bZlttu3btUkBAgCQpODhYkrIkcNzKw8NDS5culSSdO3dOv/766z31s2DBAhUvXlzSjc/89ddfV1JSkvr3768ePXo411u7dq26du2qN954QzNnzlS9evWc+261nTt3pvva888/r9mzZzuXt2zZoqFDh+rbb7/NVN+xsbFp/gBatWqV3n77bfn5+d1zvUBWIGghV3F3d1e/fv00fPhwLV26VPnz50/zemBgoCpWrOj8K/fW5ebNm6tdu3bas2ePYmNjNWDAAP3444/66aef5Orqqk8//VQeHh6SpC+++EJHjx5VcnKy+vXrpy5duki68cvh008/VUpKitzd3fX++++rVq1amjFjhg4cOKALFy6ocuXKCgsLS1PX5s2bNXPmTDkcDhUuXFgjR45UkSJF9MEHHygmJkZ+fn5atmyZ3N3dne+ZM2eOWrVqpW7dujnbChcurA8//FAbNmyQJCUkJOjjjz/W6dOndeXKFRUuXFhhYWEqX768+vTpo6pVq+rAgQO6fPmyunXrpt9//1179+7V9evXNXXqVFWuXFlxcXEKDg7WsWPHlJKSIi8vL40YMUKurq6aPn26Nm3aJDc3Nz3yyCMaP368SpUqlWbfvvjiC9WuXVsdO3Z0tlWpUkXTp09X0aJFJUn79u3TxIkTdf36dbm5uemtt95S48aNFR4ero0bN8rhcOjcuXPy8PBQt27dtGjRIp06dUr9+vVT//79FR4ervXr16dZb8KECfLw8NCBAwc0adIkJScn6+LFi2rQoIFCQkI0ZcoUXbhwQcOHD9fEiRMVFhamXr16qVq1anI4HBo1apTzax8UFKSaNWum2a+YmBiNHTtW58+fV0pKitq2bavXX3/9tq/rv/71L33xxReS5Bx5HDZsmKKjo9WlSxctWbJEHTp00L59+xQUFKSYmBi98sorGjNmjOx2uz766CNFRkYqLi5O7733nlq3bp3h90Hx4sUVGBioYcOGqV+/fpo5c6b++OMPPfbYY4qIiFCBAgW0atUqxcfHy263KzExUZMnT9aXX36pJUuWyOFwqFixYvrwww9VoUIFBQYG6sqVK4qKilLTpk315ptvKiwsTN9//73sdrueffZZBQUFqUiRImrevLn8/f21e/dunT9/Xn5+fnrrrbc0cuRISVLfvn01Z84clS5d+q774OXlpYsXL+rq1atp2r/66istW7ZMKSkpio2N1auvvqqePXtq5MiRSkxMlJ+fn+rVq6fIyEidPXtWf/zxhzp37qwxY8bo6NGjstls8vb21jvvvCNXV1dVq1ZNPj4+Onr0qMLCwtSzZ0/169dPu3btUkJCgoYMGaL169fr2LFjKlWqlGbNmqVChQpl6tgHMsXkYHFxcaZt27YmKirqruv98ssvpnfv3qZ9+/amf//+5sqVK1lUIbJSVFSUqVmzprHb7aZXr15mwoQJxhhj5s6da95//31jjDHvv/++mTt3rvM9ty43a9bMhISEGGOMWbt2ralSpYo5cuSIMcaYN954w3z66afO9UaPHm2MMSY6Otp4eXmZY8eOmV9//dW0a9fOXL582RhjzLFjx0zDhg1NfHy8mT59umndurVJSUm5re4TJ06YBg0amDNnzhhjjNm1a5dp2LChiYuLM3v27DFt27a94/526NDBRERE3PUzWbdunfnkk0+cyx9++KEZO3asMcaY3r17myFDhhhjjDlw4ICpVKmSs7/g4GATFBRkjDEmMDDQfP7558YYY1JTU83w4cPNnDlzzLlz50zt2rVNUlKSMcaYefPmmU2bNt1Ww2uvvWYWLVqUbo2XL182Xl5e5sCBA8aYG59b3bp1zZkzZ8yKFStMnTp1zLlz54zdbje+vr5m6NChxm63myNHjpjq1asbu91uVqxYYWrWrGlOnjxpjDFm0qRJZujQocYYY95++22zZ88eY4wx165dM/Xq1TORkZHGmBtfy0OHDjk/j3Xr1pmoqChTqVIls3btWmOMMdu3bzeNGzc2SUlJZvr06WbMmDHGGGP69Onj/LwSExNNnz59nO+56fr166Z27domNjbWREVFmYYNG5qAgABjjDGLFi0yo0ePdh63xpg0X++bdaxfv94YY8zGjRuNj4/PHT/DSpUqmUuXLqVpi4+Pd7bfWvetx/yt7d99953p2bOnSUhIcO53mzZtnO/p27evs+8ZM2aYCRMmGIfDYYwxZvLkyc7viWbNmjm/96Kjo0316tWdx/ad6jTGmBUrVpiBAwc6lx0Oh/nss89Mu3bt0tR87do1061bN+f32P79+52f3a2fozH/9/U0xpgRI0aYTz75xDgcDpOUlGT69+9vZs+e7axp5cqVaT7LBQsWGGOMmT17tqlVq5aJjo42drvd+Pv7m9WrV2f62AcyI8eOaB08eFBBQUE6derUXdczxmjQoEEaNWqUGjdurLCwMM2ZM0fvvfde1hSKLOfi4qJJkyapY8eOatSo0V96b6tWrSRJZcuWVYkSJVSlShVJ0hNPPKHY2Fjnejfn1Hh4eKhhw4bavXu38uXLpwsXLujll192rmez2XTmzBlJUs2aNeXqevu31J49e1S/fn2VLVtW0o2/5IsXL67Dhw/LZrOlW6sxJs3rc+fO1Zo1ayRJv//+u9auXas2bdqobNmyWrhwoU6fPq29e/emmffTsmVL5/5Kkre3t3N/9+7dK0n69ttvFRkZqa+++kqSlJiY6Nz3KlWqyN/fX40bN1bjxo3l5eV1W502m03mLk/yOnTokJ544gnVqFFDklSxYkXVrl1be/fulc1mU/Xq1Z2jH2XKlFGjRo3k4uKismXLKikpSdevX5ckNWzYUE899ZQkqVu3bs5TRhMmTNC2bds0a9YsnTx5UklJSUpISEi3HkkqWrSofH19Jcl5DJ08edL5ekJCgr7//nvFxsZq2rRpzrajR4863yfdGGFt0KCBdu7cqT/++EMBAQFatmyZ4uLitGXLFg0YMOCudbi5uTlHsKpUqaJLly7ddf1b3Tw2ChQokKn1v/32W50+fdp5bEvS1atXdeXKFUlSnTp10qwbFxenXbt2SZJSUlL06KOPOl/38fGRdOMYefTRRxUbG+s8xtKzb98++fn5yWazKTk5WeXLl9f06dPTrFO4cGHNmjVLW7du1alTp3T06NEMv5aStG3bNi1ZskQ2m0358+dX9+7dtWDBAg0cOFDSjdOWt7r5mT/xxBOqVKmScyS7TJkyio2NzfSxD2RGjg1ay5cv1+jRozVixAhn26pVq7RgwQI5HA5VrVpVo0eP1vHjx1WoUCE1btxYkvT666/fNhSNvKd06dIaM2aM3n///TSnrP78S//Pk8ZvPdXo5uaWbv8uLv93nYjD4ZCrq6vsdru8vLw0depU52vnz59XqVKltGnTJhUqVOiOfTkcjtsClTFGqampd62hVq1a2rt3r5o1ayZJGjBggPMXd+XKleVwOPTFF19o+fLl6tWrl9q3b69ixYqlmYP051Ord9qew+HQtGnTVKFCBUk3fvnabDa5uLho0aJFioyM1O7duxUSEiJvb+8035PSjYB54MAB9e7dO0370qVLdf36dZUrV+6u+//nGu8UViUpX758aWq+udy7d29VrlxZ3t7eevHFF3Xw4MG7Bj8p7df3Zn+3fjYOh0PGGC1dulQFCxaUdGNe1J1CTYsWLbRt2zZdvXpVAwYM0MmTJ7V582YdO3ZMdevW1fnz59Ot49Zt3i1030lkZKTKlCmjwoULZ2p9h8MhPz8/5x+hDodDFy5c0MMPPyxJaY5fh8OhDz74QE2aNJEkxcfHKykpyfn6rZ9DRkH7pj/P0bqT6OhoBQQEqFu3bqpTp47atGmj//znP5nat1s/P4fDodTUVOfyn783b/3c7/Q9kdljH8iMHHvVYXBwcJq/Qo4fP67ly5dr6dKl+vrrr/Xoo49q3rx5OnPmjEqUKKEPPvhA/v7+Gj16dLq/8JC3tGnTRo0bN9aCBQucbY888ojzKrOYmBjnqM1ftXLlSkk3Ji/v3r1bXl5e8vLy0s6dO/XLL79IkrZu3aoOHTo4R4DS4+XlpR07digqKkqSnHNbbo7wpGfQoEFat26dVq1aJbvdLklKTU3VN998I+nGL4MdO3bI399fXbt21VNPPaUtW7Y4182sRo0aaf78+TLGKDk5WYMGDdKiRYt09OhRtWvXThUqVNBrr72ml19++Y5XYwYEBGjv3r1avXq18xfu4cOHNX36dFWqVEk1a9bUyZMndejQIUk3vpe///571a1b9y/VuWfPHsXExEi6EeKaNWumq1evKjIyUsOHD1erVq0UHR2tM2fOyOFwSLoRzm79hXvTlStXnL/At2zZInd3d5UrV875epEiRVSzZk199tlnkm6Ezx49eigiIuK2vpo3b67du3fryJEjeu6559SwYUNNmzZNjRs3ThMOb9ZzP64YjYmJUVhYmPr375/p9zRq1Ehr167VhQsXJN24UrFv377prrt48WIlJyfL4XDoww8/1N/+9rcMt5He551Zhw8fVvHixfXGG2+oUaNGzq+R3W53/rFzp1DXqFEjLVq0yHkML1++XA0aNLjnOjJ77AOZkWNHtP7su+++0+nTp50Tg1NSUvTss8+qTJky2rt3rxYtWqTq1atr6tSpmjBhgiZMmJDNFSMrBAUF6YcffnAu9+nTR8OHD1fr1q1VpkwZ1a9f/576TUpKkr+/v1JSUhQUFOQ8ZTV27Fi98847MsY4J9BnNKLw9NNPa/To0RoyZIjsdrvc3d01a9YsPfTQQ3d9n6enp5YtW6aZM2c6L32Pj49XzZo1tXz5chUrVkz9+/fXRx995DztV7NmTR07duwv7euoUaMUHBys9u3bKyUlRQ0aNNCAAQPk5uamF198UZ07d1ahQoXk7u5+xysdixUrpoULF2rSpEmaPXu2XFxcVLBgQQUHBzuvOJw2bZo++eQTJSYmymazafz48Xrqqaecl/dnhoeHh9577z1dvHhRTz/9tMaOHauiRYtq4MCB8vf3V6FCheTh4aHatWvr9OnT8vLyUsuWLfXee+/p448/TtPXo48+qo0bN2rq1KkqWLCgZsyYcdtIWlhYmD755BO1b99eycnJateunTp06HBbXQ899JAqVKigggULKl++fPL29taoUaOcp6lv9fTTT6tAgQLq0qWLpkyZkul9l25MMndxcXGGt86dO6tXr16Zfn+jRo306quvqn///rLZbCpSpIhmzpx5x5G0N954Q6GhofL395fdbtczzzyTqVuotGnTRn369NGMGTNUqVKlzO/c/9ewYUN99dVXatOmjWw2m+rWravixYvr9OnTKleunJ577jm1bds2za0tpBs/B8aNG+c8hr29vW+7cOGvqFKlSqaOfSAzbCYzY77ZqHnz5vr8888VERGhqKgo58F+82qan376SePHj9fq1aslSSdOnNCwYcOcf/UDyP3Cw8O1YcOGDE89AUBOk2NPHf5ZvXr1tGnTJl26dEnGGH388cdasGCBatWqpcuXL+vo0aOSbpwGqFq1ajZXCwAAkItGtMqUKaMvv/zSORn+mWeeUUhIiAoUKKCDBw/qk08+0fXr1+Xp6amJEyemuUIGAAAgO+T4oAUAAJBb5ZpThwAAALlNjrvqMDExUYcPH1bJkiVvuzQaAAAgJ7Hb7bp48aKqVauW5jFqN+W4oHX48OG/dMkyAABAdlu8ePFtTyGQcmDQKlmypKQbBXt6emZzNQAAAOmLjo5Wr169nPnlz3Jc0Lp5utDT01NlypTJ5moAAAAylt50JybDAwAAWISgBQAAYBGCVg72888/q0+fPurYsaM6derkfFiyJJ0/f17e3t66fPmys+3QoUPq3r27/Pz81L59e3399dfO177//nt169ZNHTp0UK9evZwPOI6Pj9ebb76pdu3aydfX1/lMPUk6ePCgOnfurBdffFF9+/Z1Pow2OTlZH330kXx9feXr66sJEyak+yDj2bNnq02bNmrZsqVmzJhxxwfCAgCQZ5kcJioqylSqVMlERUVldynZKiEhwTRs2NB8++23xhhjNm3aZFq3bm2MMWblypWmWbNmplKlSubSpUvGGGMcDodp0qSJ2blzpzHGmPPnz5v69eubX3/91Zw/f97UrVvXHD582BhjzPz5803//v2NMcZMnz7djBgxwhhjTFxcnGncuLE5ePCgSUpKMo0bNzb79u0zxhizePFiM2DAAGOMMf/617/M4MGDjd1uNykpKaZbt25mzZo1t+3Dt99+a/z8/Ex8fLxJTEw0vXr1MmvXrrXqIwMAIMtllFsY0cqhdu7cqbJly6pJkyaSJB8fH02dOlUxMTHavHlzmpEn6cYo0+DBg9WgQQNJNy4mKF68uKKjo7V+/Xp5e3s7nwHZvXt3ffDBB5Ju3P8jPj5eqampSkpKksPhUP78+RUZGakiRYqoTp06kqQuXbpo9+7d+uOPP9SvXz9NmTJFLi4uunLliq5evaqHH374tn3YtGmT2rVrp0KFCqlAgQLq1KmT8+HfAAA8CAhaOdSvv/6qkiVL6oMPPlCnTp3Ur18/2e12eXh4aObMmXrqqafSrF+gQAF17drVubxs2TLFx8erZs2aOnXqlAoVKqS3335bHTt21FtvvaX8+fNLkgYMGKDffvtN3t7eatq0qdq2basqVaooOjo6ze018ufPr+LFiysmJkaS5ObmprCwMLVs2VIlSpS4471Dzp8/r9KlSzuXPT09ne8HAOBBQNDKoVJTU7V161YFBAQoPDxcvXv31sCBA5WcnJzhe+fMmaMZM2Zo1qxZcnd3V2pqqiIiIvTmm29q1apV8vLy0pAhQyRJY8eOVcOGDbVz505FRERo+/bt2rBhgxwOh2w2W5p+jTFpLl8dPny49u7dq8cff1wff/zxbXUYY9L0YYyRiwuHHADgwcFvvRyqVKlSqlChgmrUqCFJatGihex2u3MS+50kJyfrnXfe0b///W8tXbpUVapUcfZVu3ZtPfnkk5JunAY8evSoEhMTtWnTJgUEBMjFxUWlSpVSmzZt9N1336l06dLOye+SlJKSoitXrsjDw0M//PCDfv31V0k3Rrb8/f313//+97Z6/tzHhQsXuAktAOCBQtDKoRo3bqyzZ886rzT8/vvvZbPZ7noT1+HDh+vatWtaunRpmvVatmypH3/80RnSNm7cqIoVK8rd3V3PPvus1q1bJ0lKSEjQ9u3bVaNGDdWoUUNXrlzRjz/+KElasWKFatasqaJFi2rPnj0aP368UlNT5XA4tGbNGtWrV++2enx8fLR69WolJCQoOTlZ4eHhatGixX37jAAAyOly3J3h76fkFLvyu+XOB1OXLFlSf//73zVmzBhdv35d+fPn14wZM1SgQIE7rr9//35t2LBBTz75pHr06OFsHz58uLy9vTV69GgNGTJEqampKlq0qKZNmyZJCg0N1dixY7Vq1Sq5uLjoxRdflJ+fnyRp5syZGjt2rK5fv65ixYopNDRUkvTqq68qJCREfn5+cnFxUe3atfXuu+9KkpYsWaLDhw8rODhYzZs317Fjx9S1a1elpKTIx8dHHTt2tPBTs15uPqYAAFnPZkzOurHR2bNn5ePjo4iIiPvyCJ6eIxbfh6qAG76YyAPPAQD/J6PcwqlDAAAAi1gatLZs2aJOnTrpxRdf1Lhx46zcFAAAQI5jWdCKiorS6NGj9Y9//EOrV6/Wf//7X23dutWqzQEAAOQ4lk2G37Rpk3x9fZ2X80+ZMiXdidwAAAB5kWUjWqdPn5bdbtfrr78uPz8/ffHFF3d8TAsAAEBeZVnQstvt2r17t0JCQrRs2TIdOnRIK1eutGpzAAAAOY5lQatEiRLy8vJS8eLF5e7urhYtWujQoUNWbQ4AACDHsSxoNWvWTDt27NDVq1dlt9u1fft2Va1a1arNAQAA5DiWTYavUaOGBgwYoJ49eyolJUUNGzZU586drdocAABAjmPpI3i6dOmiLl26WLkJAACAHIs7wwMAAFiEoAUAAGARghYAAIBFCFoAAAAWIWgBAABYhKAFAABgEYIWAACARQhaAAAAFiFoAQAAWISgBQAAYBGCFgAAgEUIWgAAABYhaAEAAFiEoAUAAGARghYAAIBFCFoAAAAWIWgBAABYhKAFAABgEYIWAACARQhaAAAAFiFoAQAAWISgBQAAYBGCFgAAgEUIWgAAABYhaAEAAFiEoAUAAGARghYAAIBFCFoAAAAWIWgBAABYhKAFAABgEYIWAACARQhaAAAAFiFoAQAAWMTVys779Omjy5cvy9X1xmbGjh2rGjVqWLlJAACAHMOyoGWM0alTp/Sf//zHGbQAAAAeJJadOjx58qQkqX///urQoYMWLVpk1aYAAAByJMuGmq5evSovLy99+OGHSklJ0UsvvaSnnnpKDRs2tGqTAAAAOYplQatWrVqqVauWc7lLly7aunUrQQsAADwwLDt1uG/fPu3evdu5bIxhrhYAAHigWBa04uLiNHHiRCUlJenatWtauXKlWrZsadXmAAAAchzLhpiaNWumgwcPqmPHjnI4HOrZs2eaU4kAAAB5naXn8t566y299dZbVm4CAAAgx+LO8AAAABYhaAEAAFiEoAUAAGARghYAAIBFCFoAAAAWIWgBAABYhKAFAABgEYIWAACARQhaAAAAFiFoAQAAWISgBQAAYBGCFgAAgEUIWgAAABYhaAEAAFiEoAUAAGARghYAAIBFCFoAAAAWIWgBAABYhKAFAABgEYIWAACARQhaAAAAFiFoAQAAWCTDoPX7778rIiJCkjRp0iT17dtXR48etbwwAACA3C7DoBUYGKioqCjt3r1b27dvl5+fn8aNG5cVtQEAAORqGQatK1eu6OWXX9a2bdvUrl07derUSdevX8+K2gAAAHK1DINWSkqKUlJStH37djVo0EDXr19XQkJCVtQGAACQq2UYtHx8fOTl5aVHHnlE1apVU9euXdWuXbusqA0AACBXc81ohWHDhqlbt27y9PSUJIWFhalKlSqWFwYAAJDbZTii5XA4tHbtWgUGBuratWvaunWr7HZ7VtQGAACQq2UYtCZOnKiff/5ZBw8elCRt375d48ePt7wwAACA3C7DoLV7925NmDBBBQoUUJEiRfSvf/1LO3fuzIraAAAAcrUMg5arq6tcXP5vtfz588vVNcOpXQAAAA+8DBNTpUqVtHjxYtntdp08eVLz589nMjwAAEAmZDiiNWrUKP3000+6dOmSevToofj4eH3wwQeZ3kBoaKgCAwP/pyIBAAByowxHtIoUKaKQkJB76nz37t1auXKlmjZtek/vBwAAyM0yDFrHjx/XwoULFRsbm6Z92rRpd33flStXNGXKFL3++us8hBoAADyQMgxab731lho1aqTKlSv/pY4/+ugjvf322zp//vw9FwcAAJCbZRi03N3dNXLkyL/U6ZdffqnSpUvLy8tL4eHh91wcAABAbpZh0Kpbt662bt2qRo0aKV++fJnq9JtvvtHFixfl5+en2NhYJSQkKCQk5C9NogcAAMjtMgxaJUqU0GuvvSabzSZJMsbIZrPpyJEj6b7ns88+c/47PDxce/fuJWQBAIAHToZBa/ny5Vq+fLnKli2bFfUAAADkGRkGreLFi+u555675w106tRJnTp1uuf3AwAA5FYZBq2aNWtq2LBhatWqlfLnz+9sb9WqlaWFAQAA5HYZBq3Dhw9LkpYtW+Zss9lsBC0AAIAMZBi0Fi5cmBV1AAAA5DkZBq1Tp05p0aJFSkhIkDFGDodDp0+f1tKlS7OiPgAAgFwrw4dKv/vuu0pJSdH+/fv1+OOP68SJE6pUqVJW1AYAAJCrZRi04uPjNWbMGDVq1EiNGzfWZ599pgMHDmRBaQAAALlbhkGrWLFikqRy5crp+PHjKlq0qPPmpQAAAEhfhnO0ypUrp+DgYPn7+2vUqFFKSEhQampqVtQGAACQq2U4ovXxxx/r+eef17PPPquuXbtqz549Gjt2bFbUBgAAkKtlOKJVsGBBtW7dWlevXpWvr6/atWunokWLZkVtAAAAuVq6I1qpqakKDg7W4sWLJUm+vr6qX7++6tWrp8jIyCwrEAAAILdKN2jNnDlTMTExat26tSSpRIkSOnr0qCZPnqz58+dnVX0AAAC5VrpBa/369QoNDVWJEiXStLdu3ZrbOwAAAGRCukHLzc1NBQsWdC63b99ekpQvXz4VKlTI+soAAAByuXSDVnJycprlV155RZLkcDi4jxYAAEAmpBu0ateura+++uq29jVr1qhmzZpW1gQAAJAnpHt7h6FDh6pbt246evSoGjVqJJvNpj179mjDhg1atmxZVtYIAACQK6U7ovXYY49pxYoVkqSpU6fqb3/7mxITE7VkyRKVLFkyywoEAADIre56w1IPDw8FBQVlVS0AAAB5SoaP4AEAAMC9IWgBAABYJN2gtXnzZkm33+YBAAAAmZNu0Jo2bZokKSAgIMuKAQAAyEvSnQxfuHBhtW7dWjExMc67wt9qzZo1lhYGAACQ26UbtObOnasjR45o1KhR+vDDD7OyJgAAgDwh3aBVpEgRvfDCC5o9e7ZKlSqln376SampqXruuedUpEiRrKwRAAAgV7rrfbQkKS4uTn369FGJEiVkt9sVExOjWbNmqXbt2llRHwAAQK6VYdAKDQ1VWFiY6tevL0navXu3JkyYoOXLl1teHAAAQG6W4X204uPjnSFLkry8vHT9+nVLiwIAAMgLMgxaNptNv/32m3P57Nmzypcvn6VFAQAA5AUZnjocPHiwAgIC5OXlJZvNph07dmj06NFZURsAAECulmHQatGihcqXL689e/bI4XDotddeU4UKFbKiNgAAgFwtw6AlSeXLl1f58uWtrgUAACBPsfSh0tOmTZOvr6/atm2rzz77zMpNAQAA5DiZGtG6F3v37tWePXu0evVqpaamytfXV02aNGFkDAAAPDAyHNEaMWLEPXVct25dff7553J1ddWlS5dkt9tVqFChe+oLAAAgN8owaB05ckTGmHvq3M3NTdOnT1fbtm3l5eUlDw+Pe+oHAAAgN8rw1GGpUqXUtm1b1ahRQ4ULF3a2BwUFZWoDw4YN06uvvqrXX39dy5cvV0BAwL1XCwAAkItkGLRq1aqlWrVq/eWOf/nlFyUnJ+uZZ55RwYIF1apVK/3888/3VCQAAEBulGHQGjJkiBITE3X69GlVrFhRSUlJKliwYIYdnz17VtOnT9eSJUskSREREercufP/XjEAAEAukeEcrYMHD6pFixZ67bXXdOHCBTVt2lQ//vhjhh03adJETZs2VceOHdW5c2fVqlVLbdu2vS9FAwAA5AYZBq3Q0FDNnz9fxYoVk6enpyZOnKjg4OBMdT506FB98803WrNmjYYOHfo/FwsAAJCbZBi0EhMT9fTTTzuXmzRpIrvdbmlRAAAAeUGGQcvV1VWxsbGy2WySpJMnT1peFAAAQF6Q4WT4QYMGqXfv3rp48aLeeecd7dy5U2PHjs2K2gAAAHK1DINWs2bNVL58ee3cuVMOh0ODBw9WhQoVsqI2AACAXC1TD5VOTU2Vw+GQq6urXF0tezwiAABAnpJh0FqxYoVeeuklRUZGat++ferVq5c2bNiQFbUBAADkahkOT82fP18rV65UqVKlJEnnzp3Ta6+9ptatW1teHAAAQG6W4YiWm5ubM2RJ0mOPPSY3NzdLiwIAAMgL0h3R+umnnyRJlStX1tixYxUQEKB8+fIpPDxctWvXzrICAQAAcqt0g9af7+T+7bffOv9ts9kUFBRkWVEAAAB5QbpBa8uWLVlZBwAAQJ6T4WT4ixcvauXKlbpy5Uqa9hEjRlhVEwAAQJ6Q4WT4QYMG6dChQzLGpPkPAAAAd5fhiFZKSopmzpyZFbUAAADkKRmOaFWtWlXHjh3LiloAAADylAxHtGrXrq2OHTuqZMmSaR6/ExERYWlhAAAAuV2GQWvevHkKCwvTE088kRX1AAAA5BkZBq2iRYvK19c3K2oBAADIUzIMWvXr11doaKhatWql/PnzO9urVq1qaWEAAAC5XYZBa82aNZKkDRs2ONtsNhtztAAAADKQYdDiDvEAAAD3JsOg9dlnn92xvV+/fve9GAAAgLwkw6B16z20kpOT9f3338vLy8vSogAAAPKCDIPW+PHj0yzHxMRo1KhRlhUEAACQV2R4Z/g/8/Dw0G+//WZFLQAAAHnKX5qjZYzR4cOH9eijj1paFAAAQF7wl+ZoSVLp0qU1YsQIywoCAADIK/7yHC0AAABkTrpBa+TIkem+yWazKSQkxJKCADxYvv76a82bN082m00FCxbUqFGj9Oyzz2rChAnavn277Ha7+vfvrx49ekiSDh06pJCQEF2/fl0Oh0MDBgyQn5+f5syZo7Vr1zr7vXz5suLj4/Xjjz8625KTk9WrVy+1adNGr7zySpo6pk2bptjYWH300Ue31RgcHKwzZ85o9uzZd9yH2bNna+XKlbLb7erQoYOGDBkim812Pz4eALlcukGrYsWKt7X98ccfWrBggR5//HFLiwLwYDh58qQmTZqk8PBwlSpVSlu3btXQoUP16quv6tSpU/r3v/+t+Ph4BQQEqGrVqqpevbqGDRumkJAQNWjQQNHR0fL391eNGjU0cOBADRw4UJJ09epVde3aVePGjUuzvZCQEEVFRaVpi46OVkhIiLZt26ZOnTrdVuM333yjNWvWqEaNGnfch61bt2rdunUKDw9Xvnz59Morr6hChQo8IxaApLsErf79+6dZ3rVrl95//321b99eQUFBlhcGIO/Lnz+/xo0bp1KlSkmSqlWrpt9//13r169Xz5495erqqocfflht27bV6tWrVblyZQ0ePFgNGjSQJHl6eqp48eKKjo7Wk08+6ew3NDRU3t7eatKkibNt1apViouLU9OmTdPU8NVXX6lu3bqqUKGCYmNj07z2yy+/aO7cuRo8eLB27Nhxx33YtGmT2rVrp0KFCkmSOnXqpNWrVxO0AEjKxO0dUlNTFRoaqnfeeUdBQUEKDg5WwYIFs6I2AHlcmTJlnMHHGKPx48erefPmunjxokqXLu1cz9PTU9HR0SpQoIC6du3qbF+2bJni4+NVs2ZNZ9uJEye0efNmvfnmm862n3/+WZ9//rk++eST22oYMmSIevfuLReXtD8O4+Pj9d5772nChAkqXLhwuvtw/vz522qNiYnJ9GcAIG+7a9A6deqUunXrpsOHD2vVqlVq3bp1VtUF4AGSkJCgN998U2fOnNG4ceNkjEkzx8kYc1sQmjNnjmbMmKFZs2bJ3d3d2b5gwQL17t1bDz30kCQpLi5O77//viZOnOgcdcqMUaNGqU+fPqpUqdJd18tMrQAeXOmeOlyxYoVCQ0PVr18/DRo0KCtrAvAAOXfunF5//XVVqFBBn3/+udzd3VW6dGlduHDBuc6FCxfk6ekp6caE9sDAQJ04cUJLly5VmTJlnOvZ7XZt3LhRK1ascLZt375dV69e1bvvvivpxgjUzp07de3atTSjXreKjo7Wvn379Ouvv2r+/PmKjY1VXFycXn31Vf3zn/9Ms+7dagWAdIPWqFGj5OLiojlz5qT5wXLzr7dbr+RJz8yZM7Vu3TpJUpMmTbj/FoA0rl27pj59+sjf319Dhgxxtvv4+GjFihVq1qyZEhIStHbtWo0ZM0aSNHz4cCUmJmrp0qW3jVAdO3ZMRYsWTRO+fH1908yXCgwMVMWKFW+76vBWnp6eaeZkhYeHa8OGDXe86tDHx0czZ85Ut27d5OrqqvDw8DtOqgfwYEo3aEVERPxPHe/atUs7duzQypUrZbPZNGDAAG3atEktW7b8n/oFkHcsXrxY586d06ZNm7Rp0yZn+7x583TmzBn5+fkpJSVFAQEBqlu3rvbv368NGzboySefdN7uQboRvry9vXXq1KksuSp6yZIlOnz4sIKDg9W8eXMdO3ZMXbt2VUpKinx8fNSxY0fLawCQO9iMMcaKjo8fP55mkurYsWNVrlw59e3b967vO3v2rHx8fBQREZHmr9J71XPE4v+5D+CmLyb2yu4SbuNITZGLq1t2l4E8hGMKyLyMckuGd4a/V7feh+vUqVNat26dlixZYtXmgAeWi6ubfpg4ILvLQB5SZ8Tc7C4ByDMsvzTm+PHj6t+/v0aMGJHmPjcAAAB5naVB64cfftDLL7+sd999V/7+/lZuCgAAIMex7NTh+fPnNXjwYE2ZMkVeXl5WbQYAACDHsixozZs3T0lJSZowYYKzrXv37mmuFAIAAMjLLAtaQUFBPBMRAAA80HhOBAAAgEUIWgAAABYhaAEAAFiEoAUAAGARghYAAIBFCFoAAAAWIWgBAABYhKAFAABgEYIWAACARQhaAAAAFiFoAQAAWISgBQAAYBGCFgAAgEUIWgAAABYhaAEAAFiEoAUAAGARghYAAIBFCFoAAAAWIWgBAABYhKAFAABgEYIWAACARQhaAAAAFiFoAQCQBYwxev/99zVv3jxn29WrV9W+fXtFRkY6l/38/NL898wzz+izzz6TJH377bdq3769WrdurWHDhunatWu3bWfIkCEaO3asc3nPnj3q1KmTOnTooG7duunQoUPO17766iv5+vqqVatWGj16tFJSUu5Ye2bXw+0IWgAAWOyXX35R3759tWHDBmfb1q1b1bVrV/3666/OtqJFi+rrr792/telSxfVqVNHvXv31uXLlzVy5EjNmDFDGzZsUNmyZRUWFpZmO//85z+1b98+53JycrLefvttjRs3TqtXr9agQYP03nvvSZKOHTumGTNmaNGiRVq/fr3i4uI0f/7822rP7Hq4M4IWAAAWW7x4sbp27ao2bdo42z7//HNNmjRJpUqVuuN7Tp8+rU8//VQTJ06Um5ubduzYoerVq+vJJ5+UJPXo0UNr1qyRMUaS9N1332n79u3q3r27s4/8+fNr27ZtevbZZ2WMUVRUlB555BFJUkREhJo3b67ixYvLxcVFAQEBWr169W11ZHY93JlrdhcAAEBe99FHH0mSdu7c6Wy79RTinUyZMkW9e/fWY489JkmKjo6Wp6en83VPT09du3ZN8fHxio+PV3BwsObOnatly5al6cfNzU2///67/P399ccff2jq1KmSpPPnz6tMmTJp+ouJibmtjsyuhzsjaAEAkMOcP39eO3bs0Lhx45xtDodDNpvttnWNMXr33Xc1cuTIdEfHSpQooe3bt+unn37Syy+/rAoVKjhHwm7tx8Xl9hNdmV0Pd0bQAgAgh9mwYYNatmypIkWKONtKly6tgwcPOpdjYmL08MMP68SJE4qKitKECRMkSb///rvsdruSkpIUGBioPXv2qGXLlpKkqlWrqkqVKjp27JhKly6tCxcuOPu7cOFCmhGzW7ebmfVwZ0RSAABymL1796p+/fpp2ho1aqSDBw/q1KlTkqSlS5fKx8dHtWrV0tatW50T6Lt37y5fX18FBwfLxcVFH3zwgX744QdJ0vHjx3Xy5EnVqFFDzZs315YtW3Tp0iUZY7Rs2TK1aNHitloyux7ujBEtAECOl5yaovyubtldRpY5ffq0Hn/88TRtjz76qMaPH69hw4YpJSVFTzzxhEJDQ+/aT+HChfX3v/9dISEhSk1NVf78+RUWFiZPT095enpq8ODB6tu3r1JSUlSjRg29+uqrkm5MgF+6dKn++c9/qkqVKumul5tl1TFlM38++ZrNzp49Kx8fH0VERKSZfHeveo5YfB+qAm74YmKv7C7hjn6YOCC7S0AeUmfE3Owu4Y5e/uzN7C4Becj8ftPuSz8Z5RZOHQIAAFiEoAUAAGARS4PWtWvX1K5dO509e9bKzQAAAORIlgWtgwcPqkePHs6rIwAAAB40lgWt5cuXa/To0enePA0AACCvs+z2DsHBwVZ1DQAAkCswGR4AAMAiBC0AAACLELQAAAAsQtACAACwiOXPOtyyZYvVmwAAAMiRGNECAACwCEELAADAIgQtAAAAixC0AAAALELQAgAAsAhBCwAAwCIELQAAAIsQtAAAACxC0AIAALAIQQsAAMAiBC0AAACLELQAAAAsQtACAACwCEELAADAIgQtAAAAixC0AAAALELQAgAAsAhBCwAAwCIELQAAAIsQtAAAACxC0AIAALAIQQsAAMAiBC0AAACLELQAAAAsQtACAACwCEELAADAIgQtAAAAixC0AAAALELQAgAAsAhBCwAAwCIELQAAAIsQtAAAACxC0AIAALCIpUFrzZo18vX1VatWrbR48WIrNwUAAJDjuFrVcUxMjKZMmaLw8HDlz59f3bt3V7169fT0009btUkAAIAcxbKgtWvXLtWvX1/FihWTJLVu3Vrr16/XkCFD7vo+u90uSYqOjr4vdSQlXLkv/QCSdPbs2ewu4Y4uxiVmdwnIQ3LqcZ54JSG7S0Aecr+O85t55WZ++TPLgtaFCxdUsmRJ53KpUqV06NChDN938eJFSVKvXr2sKg24Zz6bpmd3CYD1lvtkdwWA5Xxm3d/j/OLFiypXrtxt7ZYFLYfDIZvN5lw2xqRZTk+1atW0ePFilSxZUvny5bOqPAAAgP+Z3W7XxYsXVa1atTu+blnQ8vT01L59+5zLFy9eVKlSpTJ8n7u7u55//nmrygIAALiv7jSSdZNlVx02aNBAu3fv1uXLl3X9+nVt3LhRjRs3tmpzAAAAOY5lI1oeHh56++239dJLLyklJUVdunTRc889Z9XmAAAAchybMcZkdxEAAAB5EXeGBwAAsAhBCwAAwCIELQAAAIsQtAAAACxC0AIAALAIQQuKjIzUqFGjsrsMAEA6vvvuO/Xp00ejRo1SZGRkdpeDv8Cy+2gh96hevbqqV6+e3WUAADIQHByc3SXgLyJoPSDat2+vqVOnqkKFCnr33XdVpEgRjRkzRvv371e/fv1UvXp1LVy4UH369FH16tX1ww8/6PLlywoKClKTJk2yu3zgrr777jvNmjVLbm5uOnv2rJo3b65ChQpp8+bNkqQ5c+Zo/fr1+vrrr3X9+nW5ublp8uTJKl++vHbt2qUJEybIGKPHHntMkydPVpEiRbJ5j4A769Onj4YMGSJJmj17ttzd3fXLL7+ocuXKCgsL04ULF/TSSy9py5YtkqQZM2ZIkpo3b66BAwdqzZo1cnFxkb+/v/7xj3/omWeeybZ9eVBw6vAB0aRJE+3evVuSdOzYMf3444+SpO3bt2vEiBFp1k1JSdGyZcs0cuRITZs2LctrBe7FwYMHNWbMGK1YsUKLFy9W8eLFFR4ersqVK2vt2rXavHmzFi5cqH//+99q2rSpFi9erOTkZA0fPlyhoaFas2aNKlWqpJUrV2b3rgCZsn//fn300Udat26dzp07px07dqS7btWqVRUQEKCJEyfqk08+UY8ePQhZWYSg9YC4GbROnDihp59+Wi4uLrp06ZK2bdumQoUKpVnX29tbklSxYkVduXIlG6oF/rpKlSqpdOnSKliwoB555BF5eXlJkh577DFdvXpVkydP1tq1azV58mT95z//UUJCgn7++Wd5eHg4f+G8++676tOnT3buBpBpFStWlKenp1xcXFShQgXFxsbedf1Bgwbpv//9r6KiojRgwIAsqhIErQdErVq1dPToUe3atUt169bVCy+8oPXr1ys1NVWlS5dOs26BAgUkSTabLTtKBe6Jm5tbmuV8+fI5/33+/HkFBAQoLi5OjRs3lr+/v4wxcnNzS3Ocx8XFKTo6OstqBv4XN39WSzd+XhtjnP+/KTU11fnvuLg4xcfH69KlS/wRnYUIWg8IV1dXPffcc1q4cKHq1q2r+vXra9asWcy/wgMhMjJS5cqV08svv6zq1atr8+bNstvteuqpp3Tp0iWdOHFCkjR37lwtWbIkm6sF7l3RokV15coVXb58WcnJydq+fbvztTFjxqh3797q2bOnxowZk41VPliYDP8AadKkib7//ntVqFBBJUuW1KVLl9S0aVMlJydnd2mApRo1aqSjR4/K19dXxhi98MILOn78uAoUKKBJkyZpxIgRSklJ0RNPPKGJEydmd7nAPXvooYc0YMAAdenSRZ6ens4ryr/55htFRUXpb3/7m4wx6ty5s7755hv5+vpmc8V5n83cOsYIAACA+4ZThwAAABYhaAEAAFiEoAUAAGARghYAAIBFCFoAAAAW4fYOAHKcs2fPqmXLlqpUqZKzzRijl156SS4uLtqwYYNmz5591z6CgoLUvXt3VatWTUeOHNHQoUNVtGhRTZ8+XWXKlLF6FwBAEkELQA7l7u6ur7/+2rkcExOjdu3aaejQoZl6/65duxQQECBJioiIUL169RQcHGxJrQCQHoIWgFzBw8ND5cqVU0pKirPtwIEDmjRpkpKTk3Xx4kU1aNBAISEhmjJlii5cuKDhw4erffv2WrJkiex2uxITEzV58mT9/e9/19q1a5UvXz499dRT+vDDD1WyZEn16dNHDz/8sE6ePKkePXpo48aNqlq1qg4cOKDLly+rW7du+v3337V3715dv35dU6dOVeXKlbPxUwGQ0zFHC0CusH//fp05c0aJiYnOts8//1zDhg3Tl19+qbVr12rLli06fPiw3n77bZUqVUphYWEaMmSIunfvLl9fX02ePFkrVqzQ9u3b9dVXX2nNmjWqWLGiAgMDnX0WLVpU33zzjfPh0r/99puWLl2qSZMmadKkSapbt67Cw8Pl7e2tRYsWZfnnACB3YUQLQI6UmJgoPz8/SZLdbtcjjzyiSZMm6dKlSzp06JAkacKECdq2bZtmzZqlkydPKikpSQkJCXftd9u2berUqZMKFSokSXrppZc0a9Ys56Oonn/++TTrt2zZUpJUtmxZSZK3t7ck6YknntDevXvv094CyKsIWgBypD/P0bopPDzc+e/evXurcuXK8vb21osvvqiDBw8qo6eKORwO2Wy2NMupqanO5ZsB7Kb8+fOnWXZzc/tL+wHgwcapQwC50tWrVxUZGanhw4erVatWio6O1pkzZ+RwOCRJ+fLlSxOgbvL29taKFSucI18LFy7UCy+8cFugAoD7gREtALlS0aJFNXDgQPn7+6tQoULy8PBQ7dq1dfr0aXl5eally5Z677339PHHH6d5X5cuXXT+/Hl17dpVDodD5cqVU1hYWPbsBIA8z2YyGmcHAADAPeHUIQAAgEUIWgAAABYhaAEAAFiEoAUAAGARghYAAIBFCFoAAAAWIWgBAABY5P8B4Rtjm5St8GcAAAAASUVORK5CYII=\n",
      "text/plain": [
       "<Figure size 720x360 with 1 Axes>"
      ]
     },
     "metadata": {},
     "output_type": "display_data"
    }
   ],
   "source": [
    "# compatibility with different platforms\n",
    "\n",
    "# Calculating the number of games compatible with each platform\n",
    "platform_counts = final_df[['win', 'mac', 'linux']].sum().reset_index()\n",
    "platform_counts.columns = ['Platform', 'Count']\n",
    "\n",
    "plt.figure(figsize=(10, 5))\n",
    "\n",
    "ax = sns.barplot(x='Platform', y='Count', data=platform_counts)\n",
    "plt.title('Number of Games Compatible with Different Platforms')\n",
    "plt.xlabel('Platform')\n",
    "plt.ylabel('Number of Games')\n",
    "\n",
    "for p in ax.patches:\n",
    "    ax.annotate(f'{p.get_height()}', (p.get_x() + p.get_width() / 2., p.get_height()), ha='center', va='baseline')\n",
    "\n",
    "plt.show()\n"
   ]
  },
  {
   "cell_type": "code",
   "execution_count": 23,
   "id": "ba6574e9-7806-4d18-8a34-ad66cfa5080b",
   "metadata": {},
   "outputs": [
    {
     "name": "stdout",
     "output_type": "stream",
     "text": [
      "Number of games supporting only Windows: 4026983\n",
      "Number of games supporting Windows and Mac: 929390\n",
      "Number of games supporting Windows and Linux: 72406\n",
      "Number of games supporting Windows, Mac, and Linux: 1098024\n",
      "Number of games supporting only Mac: 0\n",
      "Number of games supporting only Linux: 0\n"
     ]
    }
   ],
   "source": [
    "# Calculate the number of games supporting each combination of platforms (windows, mac, linux)\n",
    "\n",
    "win_only = ((final_df['win'] == True) & (final_df['mac'] == False) & (final_df['linux'] == False)).sum()\n",
    "win_mac = ((final_df['win'] == True) & (final_df['mac'] == True) & (final_df['linux'] == False)).sum()\n",
    "win_linux = ((final_df['win'] == True) & (final_df['mac'] == False) & (final_df['linux'] == True)).sum()\n",
    "win_mac_linux = ((final_df['win'] == True) & (final_df['mac'] == True) & (final_df['linux'] == True)).sum()\n",
    "mac_only = ((final_df['win'] == False) & (final_df['mac'] == True) & (final_df['linux'] == False)).sum()\n",
    "linux_only = ((final_df['win'] == False) & (final_df['mac'] == False) & (final_df['linux'] == True)).sum()\n",
    "\n",
    "print(f\"Number of games supporting only Windows: {win_only}\")\n",
    "print(f\"Number of games supporting Windows and Mac: {win_mac}\")\n",
    "print(f\"Number of games supporting Windows and Linux: {win_linux}\")\n",
    "print(f\"Number of games supporting Windows, Mac, and Linux: {win_mac_linux}\")\n",
    "print(f\"Number of games supporting only Mac: {mac_only}\")\n",
    "print(f\"Number of games supporting only Linux: {linux_only}\")"
   ]
  },
  {
   "cell_type": "code",
   "execution_count": 24,
   "id": "737b331c-72bb-4e54-bd10-b6b53a780864",
   "metadata": {},
   "outputs": [
    {
     "data": {
      "image/png": "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\n",
      "text/plain": [
       "<Figure size 432x288 with 1 Axes>"
      ]
     },
     "metadata": {},
     "output_type": "display_data"
    }
   ],
   "source": [
    "# Platform combinations and their counts\n",
    "\n",
    "platform_combinations = {\n",
    "    \"Windows Only\": win_only,\n",
    "    \"Windows & Mac\": win_mac,\n",
    "    \"Windows & Linux\": win_linux,\n",
    "    \"Windows, Mac & Linux\": win_mac_linux,\n",
    "    \"Mac Only\": mac_only,\n",
    "    \"Linux Only\": linux_only,\n",
    "}\n",
    "\n",
    "fig, ax = plt.subplots()\n",
    "ax.bar(platform_combinations.keys(), platform_combinations.values())\n",
    "\n",
    "# Add the counts above the bars\n",
    "for i, (combination, count) in enumerate(platform_combinations.items()):\n",
    "    ax.text(i, count + 10, f\"{count}\", ha='center', va='bottom')\n",
    "\n",
    "ax.set_title(\"Number of Games Supporting Platform Combinations\")\n",
    "ax.set_xlabel(\"Platform Combinations\")\n",
    "ax.set_ylabel(\"Number of Games\")\n",
    "\n",
    "plt.xticks(rotation=45, ha='right')\n",
    "plt.tight_layout()\n",
    "plt.show()"
   ]
  },
  {
   "cell_type": "markdown",
   "id": "dd29b27a-f0df-444a-ba22-c6d42a2eec6f",
   "metadata": {},
   "source": [
    "Windows definitly dominates, when it comes to the number of games it supports. Most developers only develop for windows. However, there are still many games which run on windows, mac and linux. These results tell us that we should consider a users operating system, when recommending a game based on a user_id."
   ]
  },
  {
   "cell_type": "code",
   "execution_count": 37,
   "id": "7f41c16e-cc62-46ee-b491-80f71735213d",
   "metadata": {},
   "outputs": [
    {
     "name": "stdout",
     "output_type": "stream",
     "text": [
      "\n",
      "Most common tags: [('Action', 5070577), ('Singleplayer', 4745084), ('Multiplayer', 4617078), ('Co-op', 3416030), ('Adventure', 3406640), ('First-Person', 3309944), ('Open World', 3306558), ('Atmospheric', 2795996), ('Simulation', 2513573), ('Sandbox', 2501821)]\n",
      "\n",
      "Impact of tags on game popularity, and sales:\n"
     ]
    },
    {
     "data": {
      "text/html": [
       "<div>\n",
       "<style scoped>\n",
       "    .dataframe tbody tr th:only-of-type {\n",
       "        vertical-align: middle;\n",
       "    }\n",
       "\n",
       "    .dataframe tbody tr th {\n",
       "        vertical-align: top;\n",
       "    }\n",
       "\n",
       "    .dataframe thead th {\n",
       "        text-align: right;\n",
       "    }\n",
       "</style>\n",
       "<table border=\"1\" class=\"dataframe\">\n",
       "  <thead>\n",
       "    <tr style=\"text-align: right;\">\n",
       "      <th></th>\n",
       "      <th>user_reviews</th>\n",
       "      <th>positive_ratio</th>\n",
       "      <th>price_final</th>\n",
       "      <th>price_original</th>\n",
       "      <th>discount</th>\n",
       "    </tr>\n",
       "    <tr>\n",
       "      <th>tags</th>\n",
       "      <th></th>\n",
       "      <th></th>\n",
       "      <th></th>\n",
       "      <th></th>\n",
       "      <th></th>\n",
       "    </tr>\n",
       "  </thead>\n",
       "  <tbody>\n",
       "    <tr>\n",
       "      <th>Trading</th>\n",
       "      <td>6.308171e+06</td>\n",
       "      <td>86.793033</td>\n",
       "      <td>15.215609</td>\n",
       "      <td>3.980500</td>\n",
       "      <td>4.291674</td>\n",
       "    </tr>\n",
       "    <tr>\n",
       "      <th>Fast-Paced</th>\n",
       "      <td>4.643443e+06</td>\n",
       "      <td>90.461685</td>\n",
       "      <td>20.545021</td>\n",
       "      <td>12.180528</td>\n",
       "      <td>2.100043</td>\n",
       "    </tr>\n",
       "    <tr>\n",
       "      <th>Competitive</th>\n",
       "      <td>3.229734e+06</td>\n",
       "      <td>81.059993</td>\n",
       "      <td>8.406216</td>\n",
       "      <td>3.811186</td>\n",
       "      <td>0.873300</td>\n",
       "    </tr>\n",
       "    <tr>\n",
       "      <th>eSports</th>\n",
       "      <td>3.100898e+06</td>\n",
       "      <td>82.476584</td>\n",
       "      <td>9.794679</td>\n",
       "      <td>5.328729</td>\n",
       "      <td>1.863841</td>\n",
       "    </tr>\n",
       "    <tr>\n",
       "      <th>Team-Based</th>\n",
       "      <td>1.816791e+06</td>\n",
       "      <td>83.400394</td>\n",
       "      <td>18.890228</td>\n",
       "      <td>16.275437</td>\n",
       "      <td>0.443576</td>\n",
       "    </tr>\n",
       "    <tr>\n",
       "      <th>Military</th>\n",
       "      <td>1.809921e+06</td>\n",
       "      <td>82.802693</td>\n",
       "      <td>30.548155</td>\n",
       "      <td>31.434141</td>\n",
       "      <td>6.427634</td>\n",
       "    </tr>\n",
       "    <tr>\n",
       "      <th>Difficult</th>\n",
       "      <td>1.739836e+06</td>\n",
       "      <td>88.498237</td>\n",
       "      <td>24.913003</td>\n",
       "      <td>22.468289</td>\n",
       "      <td>0.464626</td>\n",
       "    </tr>\n",
       "    <tr>\n",
       "      <th>Tower Defense</th>\n",
       "      <td>1.643874e+06</td>\n",
       "      <td>83.231393</td>\n",
       "      <td>3.754245</td>\n",
       "      <td>3.754245</td>\n",
       "      <td>0.000000</td>\n",
       "    </tr>\n",
       "    <tr>\n",
       "      <th>Tactical</th>\n",
       "      <td>1.408897e+06</td>\n",
       "      <td>82.757081</td>\n",
       "      <td>25.031328</td>\n",
       "      <td>29.722311</td>\n",
       "      <td>11.009775</td>\n",
       "    </tr>\n",
       "    <tr>\n",
       "      <th>War</th>\n",
       "      <td>1.367072e+06</td>\n",
       "      <td>81.742045</td>\n",
       "      <td>28.382628</td>\n",
       "      <td>33.964795</td>\n",
       "      <td>13.201729</td>\n",
       "    </tr>\n",
       "  </tbody>\n",
       "</table>\n",
       "</div>"
      ],
      "text/plain": [
       "               user_reviews  positive_ratio  price_final  price_original  \\\n",
       "tags                                                                       \n",
       "Trading        6.308171e+06       86.793033    15.215609        3.980500   \n",
       "Fast-Paced     4.643443e+06       90.461685    20.545021       12.180528   \n",
       "Competitive    3.229734e+06       81.059993     8.406216        3.811186   \n",
       "eSports        3.100898e+06       82.476584     9.794679        5.328729   \n",
       "Team-Based     1.816791e+06       83.400394    18.890228       16.275437   \n",
       "Military       1.809921e+06       82.802693    30.548155       31.434141   \n",
       "Difficult      1.739836e+06       88.498237    24.913003       22.468289   \n",
       "Tower Defense  1.643874e+06       83.231393     3.754245        3.754245   \n",
       "Tactical       1.408897e+06       82.757081    25.031328       29.722311   \n",
       "War            1.367072e+06       81.742045    28.382628       33.964795   \n",
       "\n",
       "                discount  \n",
       "tags                      \n",
       "Trading         4.291674  \n",
       "Fast-Paced      2.100043  \n",
       "Competitive     0.873300  \n",
       "eSports         1.863841  \n",
       "Team-Based      0.443576  \n",
       "Military        6.427634  \n",
       "Difficult       0.464626  \n",
       "Tower Defense   0.000000  \n",
       "Tactical       11.009775  \n",
       "War            13.201729  "
      ]
     },
     "execution_count": 37,
     "metadata": {},
     "output_type": "execute_result"
    }
   ],
   "source": [
    "# Most common tags, and the impact of tags on game popularity and sales (prices and discounts)\n",
    "\n",
    "from collections import Counter\n",
    "\n",
    "# Extract tags and genres\n",
    "tags = final_df['tags'].explode().dropna()\n",
    "\n",
    "# Count occurrences of each tag and genre\n",
    "tag_counts = Counter(tags)\n",
    "\n",
    "# Find most common tags\n",
    "most_common_tags = tag_counts.most_common(10)\n",
    "print('\\n'\"Most common tags:\", most_common_tags)\n",
    "\n",
    "# Analyze the impact of tags on game popularity and sales\n",
    "tag_popularity = final_df.explode('tags').groupby('tags').agg({\n",
    "    'user_reviews': 'mean',\n",
    "    'positive_ratio': 'mean',\n",
    "    'price_final': 'mean',\n",
    "    'price_original': 'mean',\n",
    "    'discount': 'mean'\n",
    "}).sort_values(by='user_reviews', ascending=False)\n",
    "\n",
    "print('\\n'\"Impact of tags on game popularity, and sales:\")\n",
    "tag_popularity.head(10)\n"
   ]
  },
  {
   "cell_type": "markdown",
   "id": "db4d9d7f-2e96-4a64-ac11-fce5d2020ffb",
   "metadata": {},
   "source": [
    "Games with the tags \"action\", \"singleplayer\", \"multiplayer\", \"co-op\" and \"adventure\" are the most popular ones based on the number of tags. \n",
    "\n",
    "We also observe the impact of tags on game popularity and sales. \n",
    "The tag \"trading\" leads to the most user_reviews. Games with the tags \"military\" and \"war\" have the highest average final price and original price. Games with the tags \"war\" and \"tactical\" have the highest average discount."
   ]
  },
  {
   "cell_type": "code",
   "execution_count": 38,
   "id": "62175f27-f474-4b85-94ce-8084ffea407c",
   "metadata": {},
   "outputs": [
    {
     "data": {
      "image/png": "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\n",
      "text/plain": [
       "<Figure size 432x288 with 2 Axes>"
      ]
     },
     "metadata": {},
     "output_type": "display_data"
    },
    {
     "data": {
      "image/png": "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\n",
      "text/plain": [
       "<Figure size 432x288 with 1 Axes>"
      ]
     },
     "metadata": {},
     "output_type": "display_data"
    }
   ],
   "source": [
    "# Trends in game releases, user reviews, and ratings over time\n",
    "\n",
    "final_df['date_release'] = pd.to_datetime(final_df['date_release'])\n",
    "final_df['date'] = pd.to_datetime(final_df['date'])\n",
    "\n",
    "game_releases_by_year = final_df.groupby(final_df['date_release'].dt.year).size()\n",
    "user_reviews_by_year = final_df.groupby(final_df['date'].dt.year)['user_reviews'].sum()\n",
    "avg_ratings_by_year = final_df.groupby(final_df['date'].dt.year)['positive_ratio'].mean()\n",
    "\n",
    "import matplotlib.pyplot as plt\n",
    "\n",
    "fig, ax1 = plt.subplots()\n",
    "\n",
    "ax1.set_xlabel('Year')\n",
    "ax1.set_ylabel('Game Releases', color='tab:blue')\n",
    "ax1.plot(game_releases_by_year.index, game_releases_by_year, color='tab:blue')\n",
    "ax1.tick_params(axis='y', labelcolor='tab:blue')\n",
    "\n",
    "ax2 = ax1.twinx()\n",
    "ax2.set_ylabel('User Reviews', color='tab:red')\n",
    "ax2.plot(user_reviews_by_year.index, user_reviews_by_year, color='tab:red')\n",
    "ax2.tick_params(axis='y', labelcolor='tab:red')\n",
    "\n",
    "fig.tight_layout()\n",
    "plt.title('Game Releases and User Reviews Over Time')\n",
    "plt.show()\n",
    "\n",
    "plt.plot(avg_ratings_by_year.index, avg_ratings_by_year)\n",
    "plt.xlabel('Year')\n",
    "plt.ylabel('Average Ratings')\n",
    "plt.title('Average Ratings Over Time')\n",
    "plt.show()\n"
   ]
  },
  {
   "cell_type": "markdown",
   "id": "3faf3859-d203-4c27-afd0-9a1aebc90e96",
   "metadata": {},
   "source": [
    "On average, the number of game releases has increased from 2006 to 2022. There where several drop in 2013, 2018 and 2020. The last drop is most likely due to the Covid-19 pandemic. User started reviewing games since 2010. The number of reviews has strongly increased since then.\n",
    "\n",
    "The average ratings over time have decreased from 93 in the year 2010 to a rating of 84 in the year 2022. This could potentially indicate that the quality in games has also decreased and user are less satisfied with their games."
   ]
  },
  {
   "cell_type": "code",
   "execution_count": null,
   "id": "6a7c884c-87c7-4334-8b13-f25704e1dd10",
   "metadata": {},
   "outputs": [],
   "source": []
  },
  {
   "cell_type": "markdown",
   "id": "049ce052-6a3f-47b8-9a09-6a6ab0552e39",
   "metadata": {},
   "source": [
    "## Feature Engineering"
   ]
  },
  {
   "cell_type": "markdown",
   "id": "fe12d0b8-daec-42e4-adc1-9674be5d6523",
   "metadata": {},
   "source": [
    "**Elapsed Time:** A new feature which tracks the amount of time that has elapsed between the game's release and the review being logged. This could be interested because people who purchase a game right after its release are likely to be larger fans of the genre or franchise."
   ]
  },
  {
   "cell_type": "code",
   "execution_count": 59,
   "id": "661637c9-cc8b-4a21-aa51-b9fd95739080",
   "metadata": {},
   "outputs": [],
   "source": [
    "final_df[\"elapsed_time\"] = final_df[\"date\"] - final_df[\"date_release\"]"
   ]
  },
  {
   "cell_type": "markdown",
   "id": "4e8f536e-6bf0-4ecf-8aed-5d559d6b0fcd",
   "metadata": {},
   "source": [
    "**Relative Recommendation:** Find the rate at which users rated a game positively (out of the count of games they have rated). Then, find for each review whether a recommendation is in line with user's typical reviews or not."
   ]
  },
  {
   "cell_type": "code",
   "execution_count": 60,
   "id": "cbbca433-de21-41a4-896a-01aa1ab92c1a",
   "metadata": {},
   "outputs": [],
   "source": [
    "# Count the number of reviews per user and rename column\n",
    "usr_rating_count = final_df[[\"user_id\",\"y\"]].groupby(\"user_id\").count()\n",
    "usr_rating_count.rename(columns = {\"y\":\"review_count\"}, inplace = True)\n",
    "\n",
    "# Find the number of positive reviews\n",
    "usr_rating_count[\"positive_reviews\"] = final_df[[\"user_id\",\"y\"]].groupby(\"user_id\").sum()\n",
    "\n",
    "# Find how many reviews out of total are positive\n",
    "usr_rating_count[\"positive_rate\"] = usr_rating_count[\"positive_reviews\"] / usr_rating_count[\"review_count\"]"
   ]
  },
  {
   "cell_type": "code",
   "execution_count": 61,
   "id": "ab2b4db5-7495-4a59-9586-5ca60d5313e9",
   "metadata": {},
   "outputs": [],
   "source": [
    "# Merge review_count and positive_rate to the final_df\n",
    "final_df = final_df.merge(usr_rating_count.reset_index()[[\"user_id\", \"review_count\", \"positive_rate\"]], \n",
    "                          how = \"left\", on = \"user_id\")\n",
    "\n",
    "# Use these to create an ulterior feature with recommendation relative to average recommendation\n",
    "final_df[\"relaitve_rec\"] = (final_df[\"y\"] - final_df[\"positive_rate\"])"
   ]
  },
  {
   "cell_type": "markdown",
   "id": "7dbeb36f-99c0-40ac-9503-929e42bc3a7f",
   "metadata": {},
   "source": [
    "**Tendency to Review:** People who review more often tend to..."
   ]
  },
  {
   "cell_type": "code",
   "execution_count": 82,
   "id": "bc88e6e7-c620-4dd3-9264-42a9ede92055",
   "metadata": {},
   "outputs": [],
   "source": [
    "# Find Review Tendency\n",
    "final_df[\"review_tendency\"] =  final_df[\"reviews\"] /final_df[\"products\"] \n",
    "\n",
    "# Find Tendency Relative to Median Because of Low Values\n",
    "final_df[\"rel_review_tendency\"] = (final_df[\"review_tendency\"] - final_df[\"review_tendency\"].median())/ final_df[\"review_tendency\"].median()"
   ]
  },
  {
   "cell_type": "markdown",
   "id": "e285f817-0d2f-4b83-bb57-387b6e476e4b",
   "metadata": {},
   "source": [
    "**Positive & Negative Reviews:** Here we calculate the number of positive and negative reviews for each game. This is done through the positive_ratio column."
   ]
  },
  {
   "cell_type": "code",
   "execution_count": 62,
   "id": "02547f99-c7ef-4d90-a23d-ac964599d436",
   "metadata": {},
   "outputs": [],
   "source": [
    "final_df[\"positive_reviews\"] = final_df[\"positive_ratio\"] * final_df[\"user_reviews\"]\n",
    "final_df[\"negative_reviews\"] = (1 - final_df[\"positive_ratio\"]) * final_df[\"user_reviews\"]"
   ]
  },
  {
   "cell_type": "code",
   "execution_count": 64,
   "id": "7aa366f7-7218-48f1-8ea4-7723bc11ffe3",
   "metadata": {},
   "outputs": [
    {
     "data": {
      "text/html": [
       "<div>\n",
       "<style scoped>\n",
       "    .dataframe tbody tr th:only-of-type {\n",
       "        vertical-align: middle;\n",
       "    }\n",
       "\n",
       "    .dataframe tbody tr th {\n",
       "        vertical-align: top;\n",
       "    }\n",
       "\n",
       "    .dataframe thead th {\n",
       "        text-align: right;\n",
       "    }\n",
       "</style>\n",
       "<table border=\"1\" class=\"dataframe\">\n",
       "  <thead>\n",
       "    <tr style=\"text-align: right;\">\n",
       "      <th></th>\n",
       "      <th>app_id</th>\n",
       "      <th>helpful</th>\n",
       "      <th>funny</th>\n",
       "      <th>date</th>\n",
       "      <th>y</th>\n",
       "      <th>hours</th>\n",
       "      <th>user_id</th>\n",
       "      <th>review_id</th>\n",
       "      <th>title</th>\n",
       "      <th>date_release</th>\n",
       "      <th>...</th>\n",
       "      <th>median_playtime</th>\n",
       "      <th>owners</th>\n",
       "      <th>products</th>\n",
       "      <th>reviews</th>\n",
       "      <th>elapsed_time</th>\n",
       "      <th>review_count</th>\n",
       "      <th>positive_rate</th>\n",
       "      <th>relaitve_rec</th>\n",
       "      <th>positive_reviews</th>\n",
       "      <th>negative_reviews</th>\n",
       "    </tr>\n",
       "  </thead>\n",
       "  <tbody>\n",
       "    <tr>\n",
       "      <th>0</th>\n",
       "      <td>304390</td>\n",
       "      <td>4</td>\n",
       "      <td>0</td>\n",
       "      <td>2017-02-17</td>\n",
       "      <td>False</td>\n",
       "      <td>11.5</td>\n",
       "      <td>1098</td>\n",
       "      <td>1</td>\n",
       "      <td>FOR HONOR™</td>\n",
       "      <td>2017-02-13</td>\n",
       "      <td>...</td>\n",
       "      <td>696</td>\n",
       "      <td>2000000-5000000</td>\n",
       "      <td>269</td>\n",
       "      <td>1</td>\n",
       "      <td>4 days</td>\n",
       "      <td>1</td>\n",
       "      <td>0.0</td>\n",
       "      <td>0.0</td>\n",
       "      <td>5172828</td>\n",
       "      <td>-5096757</td>\n",
       "    </tr>\n",
       "    <tr>\n",
       "      <th>1</th>\n",
       "      <td>304390</td>\n",
       "      <td>2</td>\n",
       "      <td>0</td>\n",
       "      <td>2017-03-23</td>\n",
       "      <td>False</td>\n",
       "      <td>180.6</td>\n",
       "      <td>140776</td>\n",
       "      <td>26</td>\n",
       "      <td>FOR HONOR™</td>\n",
       "      <td>2017-02-13</td>\n",
       "      <td>...</td>\n",
       "      <td>696</td>\n",
       "      <td>2000000-5000000</td>\n",
       "      <td>110</td>\n",
       "      <td>2</td>\n",
       "      <td>38 days</td>\n",
       "      <td>2</td>\n",
       "      <td>0.0</td>\n",
       "      <td>0.0</td>\n",
       "      <td>5172828</td>\n",
       "      <td>-5096757</td>\n",
       "    </tr>\n",
       "  </tbody>\n",
       "</table>\n",
       "<p>2 rows × 41 columns</p>\n",
       "</div>"
      ],
      "text/plain": [
       "   app_id  helpful  funny       date      y  hours  user_id  review_id  \\\n",
       "0  304390        4      0 2017-02-17  False   11.5     1098          1   \n",
       "1  304390        2      0 2017-03-23  False  180.6   140776         26   \n",
       "\n",
       "        title date_release  ...  median_playtime           owners  products  \\\n",
       "0  FOR HONOR™   2017-02-13  ...              696  2000000-5000000       269   \n",
       "1  FOR HONOR™   2017-02-13  ...              696  2000000-5000000       110   \n",
       "\n",
       "  reviews  elapsed_time  review_count  positive_rate  relaitve_rec  \\\n",
       "0       1        4 days             1            0.0           0.0   \n",
       "1       2       38 days             2            0.0           0.0   \n",
       "\n",
       "   positive_reviews  negative_reviews  \n",
       "0           5172828          -5096757  \n",
       "1           5172828          -5096757  \n",
       "\n",
       "[2 rows x 41 columns]"
      ]
     },
     "execution_count": 64,
     "metadata": {},
     "output_type": "execute_result"
    }
   ],
   "source": [
    "final_df.head(2)"
   ]
  },
  {
   "cell_type": "markdown",
   "id": "46a8bb17-d1e4-49d7-b595-7ade338c14aa",
   "metadata": {},
   "source": [
    "## Final Dataset Exploration"
   ]
  },
  {
   "cell_type": "code",
   "execution_count": 65,
   "id": "0d8d4bf3-43e1-43e9-a69c-fb40553df8ac",
   "metadata": {},
   "outputs": [
    {
     "name": "stdout",
     "output_type": "stream",
     "text": [
      "True     8599822\n",
      "False    1472448\n",
      "Name: y, dtype: int64\n",
      "\n",
      "How many positive reviews for each negative one?\n"
     ]
    },
    {
     "data": {
      "text/plain": [
       "5.840492839135915"
      ]
     },
     "execution_count": 65,
     "metadata": {},
     "output_type": "execute_result"
    }
   ],
   "source": [
    "# We see how many positive and negative recommendations there are\n",
    "print(df_recommendations[\"y\"].value_counts())\n",
    "\n",
    "# What is their ratio?\n",
    "print(\"\\nHow many positive reviews for each negative one?\")\n",
    "df_recommendations[\"y\"].value_counts()[0]/df_recommendations[\"y\"].value_counts()[1]"
   ]
  },
  {
   "cell_type": "markdown",
   "id": "82efddda-9f5b-4c0e-a192-f9f26d2859cd",
   "metadata": {},
   "source": [
    "## Model Preparation"
   ]
  },
  {
   "cell_type": "code",
   "execution_count": 24,
   "id": "aeb36588-1b33-45ee-b713-17a611392e03",
   "metadata": {},
   "outputs": [],
   "source": [
    "# train_test_split with validation set"
   ]
  },
  {
   "cell_type": "markdown",
   "id": "e93cccd7-1dd2-499c-9783-3cf18a100565",
   "metadata": {},
   "source": [
    "#### Logistic Regression Model"
   ]
  },
  {
   "cell_type": "code",
   "execution_count": 25,
   "id": "052a6b20-3e1b-44fd-acd4-612ea3e5e0a9",
   "metadata": {},
   "outputs": [],
   "source": [
    "# Consider balancing out data because of overwhelming positivity"
   ]
  },
  {
   "cell_type": "code",
   "execution_count": 26,
   "id": "f12072c8-c0f8-417d-b247-82476efcb7e7",
   "metadata": {},
   "outputs": [],
   "source": [
    "test = games_df = games_df.merge(df_games_additional, how = \"inner\",\n",
    "                          left_on = \"app_id\", right_on = \"appid\")"
   ]
  },
  {
   "cell_type": "code",
   "execution_count": null,
   "id": "bad96a45-6abe-4df7-bc19-d613b372ac14",
   "metadata": {},
   "outputs": [],
   "source": []
  }
 ],
 "metadata": {
  "kernelspec": {
   "display_name": "Python 3 (ipykernel)",
   "language": "python",
   "name": "python3"
  },
  "language_info": {
   "codemirror_mode": {
    "name": "ipython",
    "version": 3
   },
   "file_extension": ".py",
   "mimetype": "text/x-python",
   "name": "python",
   "nbconvert_exporter": "python",
   "pygments_lexer": "ipython3",
   "version": "3.9.12"
  }
 },
 "nbformat": 4,
 "nbformat_minor": 5
}
