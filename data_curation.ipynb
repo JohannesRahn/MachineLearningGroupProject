{
 "cells": [
  {
   "cell_type": "markdown",
   "id": "dea93456-a96e-4d1f-99ec-0c38d40bda89",
   "metadata": {},
   "source": [
    "# Machine Learning Group Project \n",
    "\n",
    "User game rating prediction & systematic discount offering on Steam. Project developed by Team XX composed by:\n",
    "| Student Name | Student Number | Class Group |\n",
    "| --- | --- | --- |\n",
    "| **Alessandro Maugeri** | 53067 | TA |\n",
    "| **Frank Andreas Bauer** | XXXX | XX |\n",
    "|  **Johannes Rahn** | XXXX | XX |\n",
    "| **Nicole Zoppi** | XXXX | XX |\n",
    "| **Yannick von der Heyden** | XXXX | XX |"
   ]
  },
  {
   "cell_type": "markdown",
   "id": "f2540aaf-fc28-463b-ae53-9f3af7f6b760",
   "metadata": {},
   "source": [
    "## Importing Packages"
   ]
  },
  {
   "cell_type": "code",
   "execution_count": 42,
   "id": "bacd787f",
   "metadata": {},
   "outputs": [],
   "source": [
    "import ast\n",
    "import pandas as pd\n",
    "import numpy as np\n",
    "from datetime import datetime"
   ]
  },
  {
   "cell_type": "markdown",
   "id": "efd8095d-9205-4fde-89e3-63d700bd310f",
   "metadata": {},
   "source": [
    "## Importing Data"
   ]
  },
  {
   "cell_type": "markdown",
   "id": "7bda29c7-9d5a-4e3d-b4dd-365bc91541a7",
   "metadata": {},
   "source": [
    "The data for this project was retrieved from [Kaggle](https://www.kaggle.com/datasets/antonkozyriev/game-recommendations-on-steam?select=games.csv) and stored in the \"data\" folder found in the notebook's directory. The folder includes **five data files**:\n",
    "\n",
    "The CSV file **[games.csv](data/games.csv)** presents data concerning individual games in the Steam library:\n",
    "\n",
    "| Column | Description | Example|\n",
    "| --- | --- | --- |\n",
    "| **app_id** | Product ID on Steam | 620 |\n",
    "| **title** | Product Commercial Title | Portal 2|\n",
    "|  **date_release** | Release Date of Title (y-m-d) | 2011-04-18 |\n",
    "| **win** | Boolean Denoting Compatibility to Windows Computers | True |\n",
    "| **mac** | Boolean Denoting Compatibility to Mac Computers  | True | \n",
    "| **linux** | Boolean Denoting Compatibility to Linux Computers  | True |\n",
    "| **rating** | Categorical Rating of Product (e.g. \"Positive\")| Overwhelmingly Positive |\n",
    "| **positive_ratio** | Ratio of Postive Feedback for Game  | 98 |\n",
    "| **user_reviews** | Number of Reviews  | 267142 |\n",
    "| **price_final** | Final Price in USD | 9.99 |\n",
    "| **price_original** | Price Before Discounts in USD | 9.99 |\n",
    "| **discount** | Applied Discount | 0 |\n",
    "| **steam_deck** | Compatible with [Steam Deck](https://store.steampowered.com/steamdeck)? | True |\n",
    "\n"
   ]
  },
  {
   "cell_type": "code",
   "execution_count": 43,
   "id": "c671eed4-b30e-438b-8c0e-be1a060af029",
   "metadata": {},
   "outputs": [
    {
     "data": {
      "text/html": [
       "<div>\n",
       "<style scoped>\n",
       "    .dataframe tbody tr th:only-of-type {\n",
       "        vertical-align: middle;\n",
       "    }\n",
       "\n",
       "    .dataframe tbody tr th {\n",
       "        vertical-align: top;\n",
       "    }\n",
       "\n",
       "    .dataframe thead th {\n",
       "        text-align: right;\n",
       "    }\n",
       "</style>\n",
       "<table border=\"1\" class=\"dataframe\">\n",
       "  <thead>\n",
       "    <tr style=\"text-align: right;\">\n",
       "      <th></th>\n",
       "      <th>app_id</th>\n",
       "      <th>title</th>\n",
       "      <th>date_release</th>\n",
       "      <th>win</th>\n",
       "      <th>mac</th>\n",
       "      <th>linux</th>\n",
       "      <th>rating</th>\n",
       "      <th>positive_ratio</th>\n",
       "      <th>user_reviews</th>\n",
       "      <th>price_final</th>\n",
       "      <th>price_original</th>\n",
       "      <th>discount</th>\n",
       "      <th>steam_deck</th>\n",
       "    </tr>\n",
       "  </thead>\n",
       "  <tbody>\n",
       "    <tr>\n",
       "      <th>0</th>\n",
       "      <td>10090</td>\n",
       "      <td>Call of Duty: World at War</td>\n",
       "      <td>2008-11-18</td>\n",
       "      <td>True</td>\n",
       "      <td>False</td>\n",
       "      <td>False</td>\n",
       "      <td>Very Positive</td>\n",
       "      <td>92</td>\n",
       "      <td>37039</td>\n",
       "      <td>19.99</td>\n",
       "      <td>19.99</td>\n",
       "      <td>0.0</td>\n",
       "      <td>True</td>\n",
       "    </tr>\n",
       "    <tr>\n",
       "      <th>1</th>\n",
       "      <td>13500</td>\n",
       "      <td>Prince of Persia: Warrior Within™</td>\n",
       "      <td>2008-11-21</td>\n",
       "      <td>True</td>\n",
       "      <td>False</td>\n",
       "      <td>False</td>\n",
       "      <td>Very Positive</td>\n",
       "      <td>84</td>\n",
       "      <td>2199</td>\n",
       "      <td>9.99</td>\n",
       "      <td>9.99</td>\n",
       "      <td>0.0</td>\n",
       "      <td>True</td>\n",
       "    </tr>\n",
       "  </tbody>\n",
       "</table>\n",
       "</div>"
      ],
      "text/plain": [
       "   app_id                              title date_release   win    mac  linux  \\\n",
       "0   10090         Call of Duty: World at War   2008-11-18  True  False  False   \n",
       "1   13500  Prince of Persia: Warrior Within™   2008-11-21  True  False  False   \n",
       "\n",
       "          rating  positive_ratio  user_reviews  price_final  price_original  \\\n",
       "0  Very Positive              92         37039        19.99           19.99   \n",
       "1  Very Positive              84          2199         9.99            9.99   \n",
       "\n",
       "   discount  steam_deck  \n",
       "0       0.0        True  \n",
       "1       0.0        True  "
      ]
     },
     "execution_count": 43,
     "metadata": {},
     "output_type": "execute_result"
    }
   ],
   "source": [
    "df_games_data = pd.read_csv(\"data/games.csv\")\n",
    "df_games_data.head(2)"
   ]
  },
  {
   "cell_type": "markdown",
   "id": "7c1cc07c-e858-4b7a-97d8-59dcea1af68f",
   "metadata": {},
   "source": [
    "----\n",
    "The **CSV file [users.csv](data/users.csv)** presents data concerning individual users found in the datasets:\n",
    "\n",
    "| Column | Description | Example|\n",
    "| --- | --- | --- |\n",
    "| **user_id** | User ID on Steam | 5693478 |\n",
    "| **products** | Number of Products from Steam Library Owned | 156 |\n",
    "|  **reviews** | Number of Reviews Published | 1 |"
   ]
  },
  {
   "cell_type": "code",
   "execution_count": 44,
   "id": "9fb065ea-808b-4a4c-acb0-962032648917",
   "metadata": {},
   "outputs": [
    {
     "data": {
      "text/html": [
       "<div>\n",
       "<style scoped>\n",
       "    .dataframe tbody tr th:only-of-type {\n",
       "        vertical-align: middle;\n",
       "    }\n",
       "\n",
       "    .dataframe tbody tr th {\n",
       "        vertical-align: top;\n",
       "    }\n",
       "\n",
       "    .dataframe thead th {\n",
       "        text-align: right;\n",
       "    }\n",
       "</style>\n",
       "<table border=\"1\" class=\"dataframe\">\n",
       "  <thead>\n",
       "    <tr style=\"text-align: right;\">\n",
       "      <th></th>\n",
       "      <th>user_id</th>\n",
       "      <th>products</th>\n",
       "      <th>reviews</th>\n",
       "    </tr>\n",
       "  </thead>\n",
       "  <tbody>\n",
       "    <tr>\n",
       "      <th>0</th>\n",
       "      <td>5693478</td>\n",
       "      <td>156</td>\n",
       "      <td>1</td>\n",
       "    </tr>\n",
       "    <tr>\n",
       "      <th>1</th>\n",
       "      <td>3595958</td>\n",
       "      <td>329</td>\n",
       "      <td>3</td>\n",
       "    </tr>\n",
       "  </tbody>\n",
       "</table>\n",
       "</div>"
      ],
      "text/plain": [
       "   user_id  products  reviews\n",
       "0  5693478       156        1\n",
       "1  3595958       329        3"
      ]
     },
     "execution_count": 44,
     "metadata": {},
     "output_type": "execute_result"
    }
   ],
   "source": [
    "df_users = pd.read_csv(\"data/users.csv\")\n",
    "df_users.head(2)"
   ]
  },
  {
   "cell_type": "markdown",
   "id": "3aae2244-d400-442b-958d-dc6cb3400c89",
   "metadata": {},
   "source": [
    "----\n",
    "The **CSV file [recommendations.csv](data/recommendations.csv)** has a many-to-many relationship to both users.csv and games.csv and contains data concerning user reviews of specific games:\n",
    "\n",
    "| Column | Description | Example|\n",
    "| --- | --- | --- |\n",
    "| **app_id** | Product ID on Steam | 620 |\n",
    "| **helpful** | Number of Users Who Found Review Helpful | 0 |\n",
    "|  **funny** | Number of Users Who Found Review Funny | 0 |\n",
    "| **date** | Date in Which Review was Published (y-m-d) | 2022-12-12 |\n",
    "| **is_recommended** | Does the User Recommend the Title | True | \n",
    "| **hours** | Hours Spent by User Playing Game  | 36.3 |\n",
    "| **user_id** | User ID of Review Author | 19954 |\n",
    "| **review_id** | ID of Individual Review  | 0 |"
   ]
  },
  {
   "cell_type": "code",
   "execution_count": 45,
   "id": "8f9bad72-5d5f-498a-80d4-6a5b64f20cc8",
   "metadata": {},
   "outputs": [
    {
     "data": {
      "text/html": [
       "<div>\n",
       "<style scoped>\n",
       "    .dataframe tbody tr th:only-of-type {\n",
       "        vertical-align: middle;\n",
       "    }\n",
       "\n",
       "    .dataframe tbody tr th {\n",
       "        vertical-align: top;\n",
       "    }\n",
       "\n",
       "    .dataframe thead th {\n",
       "        text-align: right;\n",
       "    }\n",
       "</style>\n",
       "<table border=\"1\" class=\"dataframe\">\n",
       "  <thead>\n",
       "    <tr style=\"text-align: right;\">\n",
       "      <th></th>\n",
       "      <th>app_id</th>\n",
       "      <th>helpful</th>\n",
       "      <th>funny</th>\n",
       "      <th>date</th>\n",
       "      <th>is_recommended</th>\n",
       "      <th>hours</th>\n",
       "      <th>user_id</th>\n",
       "      <th>review_id</th>\n",
       "    </tr>\n",
       "  </thead>\n",
       "  <tbody>\n",
       "    <tr>\n",
       "      <th>0</th>\n",
       "      <td>975370</td>\n",
       "      <td>0</td>\n",
       "      <td>0</td>\n",
       "      <td>2022-12-12</td>\n",
       "      <td>True</td>\n",
       "      <td>36.3</td>\n",
       "      <td>19954</td>\n",
       "      <td>0</td>\n",
       "    </tr>\n",
       "    <tr>\n",
       "      <th>1</th>\n",
       "      <td>304390</td>\n",
       "      <td>4</td>\n",
       "      <td>0</td>\n",
       "      <td>2017-02-17</td>\n",
       "      <td>False</td>\n",
       "      <td>11.5</td>\n",
       "      <td>1098</td>\n",
       "      <td>1</td>\n",
       "    </tr>\n",
       "  </tbody>\n",
       "</table>\n",
       "</div>"
      ],
      "text/plain": [
       "   app_id  helpful  funny        date  is_recommended  hours  user_id  \\\n",
       "0  975370        0      0  2022-12-12            True   36.3    19954   \n",
       "1  304390        4      0  2017-02-17           False   11.5     1098   \n",
       "\n",
       "   review_id  \n",
       "0          0  \n",
       "1          1  "
      ]
     },
     "execution_count": 45,
     "metadata": {},
     "output_type": "execute_result"
    }
   ],
   "source": [
    "df_recommendations = pd.read_csv(\"data/recommendations.csv\")\n",
    "df_recommendations.head(2)"
   ]
  },
  {
   "cell_type": "markdown",
   "id": "3eabca0b-30fd-45a5-9ac2-2a07af7979cd",
   "metadata": {},
   "source": [
    "----\n",
    "Finally, the folder includes a **JSON file [games_metadata.json](data/games_metadata.json)** containing metadata on individual games:\n",
    "\n",
    "| Column | Description | Example|\n",
    "| --- | --- | --- |\n",
    "| **app_id** | Product ID on Steam | 304430 |\n",
    "| **description** | Game Description on Steam | \"Hunted and alone, a boy finds himself drawn into the center of a dark project. INSIDE is a dark, narrative-driven platformer combining intense action with challenging puzzles. It has been critically acclaimed for its moody art style, ambient soundtrack and unsettling atmosphere.\" |\n",
    "|  **tags** | Additional Tags on Steam Platform | [\"2.5D\", \"Story Rich\", \"Puzzle Platformer\" , \"Atmospheric\" , \"Adventure\" , \"Indie\" , \"Dark\" , \"Horror\" , \"Singleplayer\" , \"Action-Adventure\" , \"Puzzle\" , \"Multiple Endings\" , \"Exploration\" , \"2D Platformer\" , \"Platformer\" , \"Controller\" , \"Soundtrack\" , \"Ambient\" , \"Action\" , \"Narrative\"] |"
   ]
  },
  {
   "cell_type": "code",
   "execution_count": 46,
   "id": "e10381bb",
   "metadata": {
    "tags": []
   },
   "outputs": [
    {
     "data": {
      "text/html": [
       "<div>\n",
       "<style scoped>\n",
       "    .dataframe tbody tr th:only-of-type {\n",
       "        vertical-align: middle;\n",
       "    }\n",
       "\n",
       "    .dataframe tbody tr th {\n",
       "        vertical-align: top;\n",
       "    }\n",
       "\n",
       "    .dataframe thead th {\n",
       "        text-align: right;\n",
       "    }\n",
       "</style>\n",
       "<table border=\"1\" class=\"dataframe\">\n",
       "  <thead>\n",
       "    <tr style=\"text-align: right;\">\n",
       "      <th></th>\n",
       "      <th>app_id</th>\n",
       "      <th>description</th>\n",
       "      <th>tags</th>\n",
       "    </tr>\n",
       "  </thead>\n",
       "  <tbody>\n",
       "    <tr>\n",
       "      <th>0</th>\n",
       "      <td>10090</td>\n",
       "      <td>Call of Duty is back, redefining war like you'...</td>\n",
       "      <td>[Zombies, World War II, FPS, Multiplayer, Acti...</td>\n",
       "    </tr>\n",
       "    <tr>\n",
       "      <th>1</th>\n",
       "      <td>13500</td>\n",
       "      <td>Enter the dark underworld of Prince of Persia ...</td>\n",
       "      <td>[Action, Adventure, Parkour, Third Person, Gre...</td>\n",
       "    </tr>\n",
       "  </tbody>\n",
       "</table>\n",
       "</div>"
      ],
      "text/plain": [
       "   app_id                                        description  \\\n",
       "0   10090  Call of Duty is back, redefining war like you'...   \n",
       "1   13500  Enter the dark underworld of Prince of Persia ...   \n",
       "\n",
       "                                                tags  \n",
       "0  [Zombies, World War II, FPS, Multiplayer, Acti...  \n",
       "1  [Action, Adventure, Parkour, Third Person, Gre...  "
      ]
     },
     "execution_count": 46,
     "metadata": {},
     "output_type": "execute_result"
    }
   ],
   "source": [
    "df_games_meta_data = pd.read_json('data/games_metadata.json', lines=True)\n",
    "df_games_meta_data.head(2)"
   ]
  },
  {
   "cell_type": "markdown",
   "id": "42143f34-bd62-49e9-bb0a-488eaa653fa2",
   "metadata": {},
   "source": [
    "----\n",
    "Two additional data files are utilized from a separate [Kaggle page](https://www.kaggle.com/datasets/nikdavis/steam-store-games?select=steam.csv) to enrich the analysis. These are imported below.\n",
    "\n",
    "\n",
    "The **CSV file [steam.csv](data/steam.csv)** provides additional data on the games:\n",
    "\n",
    "| Column | Description | Example|\n",
    "| --- | --- | --- |\n",
    "| **appid** | Product ID on Steam| 10 |\n",
    "| **name** | Name of Game | Counter-Strike |\n",
    "|  **release_date** | Release Date of Title (y-m-d) | 2000-11-01 |\n",
    "|  **english** | Is the Game Available in English? | 1 |\n",
    "|  **developer** | Developer Company of Game | Valve |\n",
    "|  **publisher** | Publishing Company of Game | Valve |\n",
    "|  **platforms** | Semicolon-Delimited List of Systems that Can Run the Game | windows;mac;linux |\n",
    "|  **required_age** | Minimum Age Required to Play by PEGI UK (0 Means Unsupplied) | 0 |\n",
    "|  **categories** | Game Categorisation (Semicolon Delimited) | Multi-player;Online Multi-Player... |\n",
    "|  **genres** | Game's Genre (Semicolon Delimteted) | Action |\n",
    "|  **steamspy_tags** | Tags from [Steamspy API](https://steamspy.com/) (Semicolon Delimited) | Action;FPS;Multiplayer |\n",
    "|  **achievements** | Number of In-Game Achievements (If Any) | 0 |\n",
    "|  **positive_ratings** | Number of Positive Ratings | 124534 |\n",
    "|  **negative_ratings** | Number of Negative Ratings | 3339 |\n",
    "|  **average_playtime** | Average Playtime by User in Minutes| 17612 |\n",
    "|  **median_playtime** | Median Playtime by User in Minutes | 317 |\n",
    "|  **owners** | Number of Users that Own the Game (Bracket) | 10000000-20000000 |\n",
    "|  **price** | Price of Game | 7.19 |\n",
    "\n"
   ]
  },
  {
   "cell_type": "code",
   "execution_count": 47,
   "id": "8cc1f806-3299-4d7d-9d9a-38b7d96a09e3",
   "metadata": {},
   "outputs": [
    {
     "data": {
      "text/html": [
       "<div>\n",
       "<style scoped>\n",
       "    .dataframe tbody tr th:only-of-type {\n",
       "        vertical-align: middle;\n",
       "    }\n",
       "\n",
       "    .dataframe tbody tr th {\n",
       "        vertical-align: top;\n",
       "    }\n",
       "\n",
       "    .dataframe thead th {\n",
       "        text-align: right;\n",
       "    }\n",
       "</style>\n",
       "<table border=\"1\" class=\"dataframe\">\n",
       "  <thead>\n",
       "    <tr style=\"text-align: right;\">\n",
       "      <th></th>\n",
       "      <th>appid</th>\n",
       "      <th>name</th>\n",
       "      <th>release_date</th>\n",
       "      <th>english</th>\n",
       "      <th>developer</th>\n",
       "      <th>publisher</th>\n",
       "      <th>platforms</th>\n",
       "      <th>required_age</th>\n",
       "      <th>categories</th>\n",
       "      <th>genres</th>\n",
       "      <th>steamspy_tags</th>\n",
       "      <th>achievements</th>\n",
       "      <th>positive_ratings</th>\n",
       "      <th>negative_ratings</th>\n",
       "      <th>average_playtime</th>\n",
       "      <th>median_playtime</th>\n",
       "      <th>owners</th>\n",
       "      <th>price</th>\n",
       "    </tr>\n",
       "  </thead>\n",
       "  <tbody>\n",
       "    <tr>\n",
       "      <th>0</th>\n",
       "      <td>10</td>\n",
       "      <td>Counter-Strike</td>\n",
       "      <td>2000-11-01</td>\n",
       "      <td>1</td>\n",
       "      <td>Valve</td>\n",
       "      <td>Valve</td>\n",
       "      <td>windows;mac;linux</td>\n",
       "      <td>0</td>\n",
       "      <td>Multi-player;Online Multi-Player;Local Multi-P...</td>\n",
       "      <td>Action</td>\n",
       "      <td>Action;FPS;Multiplayer</td>\n",
       "      <td>0</td>\n",
       "      <td>124534</td>\n",
       "      <td>3339</td>\n",
       "      <td>17612</td>\n",
       "      <td>317</td>\n",
       "      <td>10000000-20000000</td>\n",
       "      <td>7.19</td>\n",
       "    </tr>\n",
       "    <tr>\n",
       "      <th>1</th>\n",
       "      <td>20</td>\n",
       "      <td>Team Fortress Classic</td>\n",
       "      <td>1999-04-01</td>\n",
       "      <td>1</td>\n",
       "      <td>Valve</td>\n",
       "      <td>Valve</td>\n",
       "      <td>windows;mac;linux</td>\n",
       "      <td>0</td>\n",
       "      <td>Multi-player;Online Multi-Player;Local Multi-P...</td>\n",
       "      <td>Action</td>\n",
       "      <td>Action;FPS;Multiplayer</td>\n",
       "      <td>0</td>\n",
       "      <td>3318</td>\n",
       "      <td>633</td>\n",
       "      <td>277</td>\n",
       "      <td>62</td>\n",
       "      <td>5000000-10000000</td>\n",
       "      <td>3.99</td>\n",
       "    </tr>\n",
       "  </tbody>\n",
       "</table>\n",
       "</div>"
      ],
      "text/plain": [
       "   appid                   name release_date  english developer publisher  \\\n",
       "0     10         Counter-Strike   2000-11-01        1     Valve     Valve   \n",
       "1     20  Team Fortress Classic   1999-04-01        1     Valve     Valve   \n",
       "\n",
       "           platforms  required_age  \\\n",
       "0  windows;mac;linux             0   \n",
       "1  windows;mac;linux             0   \n",
       "\n",
       "                                          categories  genres  \\\n",
       "0  Multi-player;Online Multi-Player;Local Multi-P...  Action   \n",
       "1  Multi-player;Online Multi-Player;Local Multi-P...  Action   \n",
       "\n",
       "            steamspy_tags  achievements  positive_ratings  negative_ratings  \\\n",
       "0  Action;FPS;Multiplayer             0            124534              3339   \n",
       "1  Action;FPS;Multiplayer             0              3318               633   \n",
       "\n",
       "   average_playtime  median_playtime             owners  price  \n",
       "0             17612              317  10000000-20000000   7.19  \n",
       "1               277               62   5000000-10000000   3.99  "
      ]
     },
     "execution_count": 47,
     "metadata": {},
     "output_type": "execute_result"
    }
   ],
   "source": [
    "df_games_additional = pd.read_csv(\"data/steam.csv\")\n",
    "df_games_additional.head(2)"
   ]
  },
  {
   "cell_type": "markdown",
   "id": "f30fab8c-18ac-4c7a-bc58-f13d393956f9",
   "metadata": {},
   "source": [
    "### JOEY'S TASK\n",
    "The **CSV file [blabla.csv](data/steam.csv)** contains information about system requirements in order to run the games:\n",
    "\n",
    "| Column | Description | Example|\n",
    "| --- | --- | --- |\n",
    "| **JOEY** | Product ID on Steam| 10 |\n",
    "| **JOEY** | Name of Game | Counter-Strike |\n",
    "|  **JOEY** | Release Date of Title (y-m-d) | 2000-11-01 |\n",
    "|  **JOEY** | Is the Game Available in English? | 1 |"
   ]
  },
  {
   "cell_type": "code",
   "execution_count": 48,
   "id": "58dfca4b-5d4b-4b82-a021-71d16fa958fa",
   "metadata": {},
   "outputs": [],
   "source": [
    "# File Import "
   ]
  },
  {
   "cell_type": "markdown",
   "id": "e223689f-0688-471c-8600-9e44df389c6d",
   "metadata": {},
   "source": [
    "## Preliminary Data Exploration"
   ]
  },
  {
   "cell_type": "code",
   "execution_count": 49,
   "id": "fa1878f3-8fed-47dc-a09d-b08370842f59",
   "metadata": {},
   "outputs": [
    {
     "data": {
      "text/plain": [
       "array(['Very Positive', 'Positive', 'Mixed', 'Mostly Positive',\n",
       "       'Overwhelmingly Positive', 'Mostly Negative',\n",
       "       'Overwhelmingly Negative', 'Negative', 'Very Negative'],\n",
       "      dtype=object)"
      ]
     },
     "execution_count": 49,
     "metadata": {},
     "output_type": "execute_result"
    }
   ],
   "source": [
    "df_games_data[\"rating\"].unique()"
   ]
  },
  {
   "cell_type": "code",
   "execution_count": 50,
   "id": "9c7102df-294a-47cf-b157-1126286d6c45",
   "metadata": {},
   "outputs": [
    {
     "data": {
      "text/plain": [
       "array(['10000000-20000000', '5000000-10000000', '2000000-5000000',\n",
       "       '20000000-50000000', '100000000-200000000', '50000000-100000000',\n",
       "       '20000-50000', '500000-1000000', '100000-200000', '50000-100000',\n",
       "       '1000000-2000000', '200000-500000', '0-20000'], dtype=object)"
      ]
     },
     "execution_count": 50,
     "metadata": {},
     "output_type": "execute_result"
    }
   ],
   "source": [
    "df_games_additional[\"owners\"].unique()"
   ]
  },
  {
   "cell_type": "code",
   "execution_count": 51,
   "id": "b3547065-9cfa-43c7-a82d-3e14b5932195",
   "metadata": {},
   "outputs": [
    {
     "data": {
      "text/plain": [
       "Choice of Games               94\n",
       "KOEI TECMO GAMES CO., LTD.    72\n",
       "Ripknot Systems               62\n",
       "Laush Dmitriy Sergeevich      51\n",
       "Nikita \"Ghost_RUS\"            50\n",
       "                              ..\n",
       "CRAPPY ZOMBIE GAME STUDIO      1\n",
       "Ramon Mujica                   1\n",
       "Oomst Games                    1\n",
       "Joe Censored Games             1\n",
       "Adept Studios GD               1\n",
       "Name: developer, Length: 17113, dtype: int64"
      ]
     },
     "execution_count": 51,
     "metadata": {},
     "output_type": "execute_result"
    }
   ],
   "source": [
    "df_games_additional[\"developer\"].value_counts()"
   ]
  },
  {
   "cell_type": "markdown",
   "id": "746a74da-b868-4e0f-a0df-71b398091fd5",
   "metadata": {},
   "source": [
    "## Data Preparation"
   ]
  },
  {
   "cell_type": "markdown",
   "id": "59e0645e-00ba-45b4-9429-6c282bf0cf7f",
   "metadata": {
    "tags": []
   },
   "source": [
    "#### Games Data\n",
    "- Turning relevant columns to datetime objects\n",
    "- **AA IF ANYTHING ELSE PLEASE ADD**"
   ]
  },
  {
   "cell_type": "code",
   "execution_count": 52,
   "id": "cb67f7ea-bd82-4f19-9b02-6719dec83a56",
   "metadata": {},
   "outputs": [],
   "source": [
    "# Turn date_release column to Pandas DateTime\n",
    "df_games_data[\"date_release\"] = pd.to_datetime(df_games_data[\"date_release\"])"
   ]
  },
  {
   "cell_type": "markdown",
   "id": "cc6842bb-d646-4b01-beee-4276d5f680e8",
   "metadata": {},
   "source": [
    "#### Additional Game Data\n",
    "- Drop features that are redundant with df_games_data"
   ]
  },
  {
   "cell_type": "code",
   "execution_count": 53,
   "id": "7af1e3ff-f835-4170-ba58-d62cc293c4c9",
   "metadata": {},
   "outputs": [],
   "source": [
    "# Drop Redundant Columns\n",
    "df_games_additional.drop([\"name\",\"platforms\", \"release_date\", \"price\", \n",
    "                          \"positive_ratings\", \"negative_ratings\", \"categories\"], axis = 1, inplace = True)"
   ]
  },
  {
   "cell_type": "code",
   "execution_count": 54,
   "id": "018ecfb7-e923-4397-8369-d98200906074",
   "metadata": {},
   "outputs": [
    {
     "data": {
      "text/html": [
       "<div>\n",
       "<style scoped>\n",
       "    .dataframe tbody tr th:only-of-type {\n",
       "        vertical-align: middle;\n",
       "    }\n",
       "\n",
       "    .dataframe tbody tr th {\n",
       "        vertical-align: top;\n",
       "    }\n",
       "\n",
       "    .dataframe thead th {\n",
       "        text-align: right;\n",
       "    }\n",
       "</style>\n",
       "<table border=\"1\" class=\"dataframe\">\n",
       "  <thead>\n",
       "    <tr style=\"text-align: right;\">\n",
       "      <th></th>\n",
       "      <th>appid</th>\n",
       "      <th>english</th>\n",
       "      <th>developer</th>\n",
       "      <th>publisher</th>\n",
       "      <th>required_age</th>\n",
       "      <th>genres</th>\n",
       "      <th>steamspy_tags</th>\n",
       "      <th>achievements</th>\n",
       "      <th>average_playtime</th>\n",
       "      <th>median_playtime</th>\n",
       "      <th>owners</th>\n",
       "    </tr>\n",
       "  </thead>\n",
       "  <tbody>\n",
       "    <tr>\n",
       "      <th>0</th>\n",
       "      <td>10</td>\n",
       "      <td>1</td>\n",
       "      <td>Valve</td>\n",
       "      <td>Valve</td>\n",
       "      <td>0</td>\n",
       "      <td>Action</td>\n",
       "      <td>Action;FPS;Multiplayer</td>\n",
       "      <td>0</td>\n",
       "      <td>17612</td>\n",
       "      <td>317</td>\n",
       "      <td>10000000-20000000</td>\n",
       "    </tr>\n",
       "  </tbody>\n",
       "</table>\n",
       "</div>"
      ],
      "text/plain": [
       "   appid  english developer publisher  required_age  genres  \\\n",
       "0     10        1     Valve     Valve             0  Action   \n",
       "\n",
       "            steamspy_tags  achievements  average_playtime  median_playtime  \\\n",
       "0  Action;FPS;Multiplayer             0             17612              317   \n",
       "\n",
       "              owners  \n",
       "0  10000000-20000000  "
      ]
     },
     "execution_count": 54,
     "metadata": {},
     "output_type": "execute_result"
    }
   ],
   "source": [
    "df_games_additional.head(1)"
   ]
  },
  {
   "cell_type": "markdown",
   "id": "96c4fdfc-b58b-41f3-9f72-5149633af2ec",
   "metadata": {},
   "source": [
    "#### Recommendations Data\n",
    "- Turn date features into datetime objects\n",
    "- Rename is_recommended to y, to signal it is the target variable"
   ]
  },
  {
   "cell_type": "code",
   "execution_count": 55,
   "id": "1b737fdd-c1e2-43ac-9be7-86adf2ad7896",
   "metadata": {},
   "outputs": [],
   "source": [
    "# Turn to DateTime\n",
    "df_recommendations[\"date\"] = pd.to_datetime(df_recommendations[\"date\"])\n",
    "\n",
    "# Rename column\n",
    "df_recommendations.rename(columns = {\"is_recommended\": \"y\"}, inplace = True)"
   ]
  },
  {
   "cell_type": "markdown",
   "id": "ad43c63c-d3c2-4705-a0e0-09673b56d54a",
   "metadata": {},
   "source": [
    "#### Games Metadata"
   ]
  },
  {
   "cell_type": "code",
   "execution_count": 56,
   "id": "97f35611-d470-4679-b21a-82d6715e6080",
   "metadata": {},
   "outputs": [],
   "source": [
    "# Turn the Tags Column Into a List\n",
    "df_games_meta_data[\"tags\"] = df_games_meta_data[\"tags\"].astype(str).apply(ast.literal_eval)"
   ]
  },
  {
   "cell_type": "markdown",
   "id": "d5fee129-c1e7-43d2-b379-3eda177cc02e",
   "metadata": {},
   "source": [
    "## Merging Datasets\n",
    "\n",
    "We merge the data into one single final DataFrame."
   ]
  },
  {
   "cell_type": "code",
   "execution_count": 57,
   "id": "0eb0104e",
   "metadata": {},
   "outputs": [],
   "source": [
    "# Merge all information on games to one DataFrame\n",
    "games_df = df_games_data.merge(df_games_meta_data, how = \"inner\")\n",
    "games_df = games_df.merge(df_games_additional, how = \"inner\",\n",
    "                          left_on = \"app_id\", right_on = \"appid\")\n",
    "\n",
    "# Merge game information into the recommendations DataFrame\n",
    "recs_df = df_recommendations.merge(games_df, how = \"inner\", on = \"app_id\")\n",
    "\n",
    "# Merge all information on users into a final DataFrame\n",
    "final_df = recs_df.merge(df_users, how=\"inner\", on = \"user_id\")"
   ]
  },
  {
   "cell_type": "code",
   "execution_count": 58,
   "id": "7f842fd7-2f6e-4d10-b927-242d0b18afe3",
   "metadata": {},
   "outputs": [
    {
     "data": {
      "text/html": [
       "<div>\n",
       "<style scoped>\n",
       "    .dataframe tbody tr th:only-of-type {\n",
       "        vertical-align: middle;\n",
       "    }\n",
       "\n",
       "    .dataframe tbody tr th {\n",
       "        vertical-align: top;\n",
       "    }\n",
       "\n",
       "    .dataframe thead th {\n",
       "        text-align: right;\n",
       "    }\n",
       "</style>\n",
       "<table border=\"1\" class=\"dataframe\">\n",
       "  <thead>\n",
       "    <tr style=\"text-align: right;\">\n",
       "      <th></th>\n",
       "      <th>app_id</th>\n",
       "      <th>helpful</th>\n",
       "      <th>funny</th>\n",
       "      <th>hours</th>\n",
       "      <th>user_id</th>\n",
       "      <th>review_id</th>\n",
       "      <th>positive_ratio</th>\n",
       "      <th>user_reviews</th>\n",
       "      <th>price_final</th>\n",
       "      <th>price_original</th>\n",
       "      <th>discount</th>\n",
       "      <th>appid</th>\n",
       "      <th>english</th>\n",
       "      <th>required_age</th>\n",
       "      <th>achievements</th>\n",
       "      <th>average_playtime</th>\n",
       "      <th>median_playtime</th>\n",
       "      <th>products</th>\n",
       "      <th>reviews</th>\n",
       "    </tr>\n",
       "  </thead>\n",
       "  <tbody>\n",
       "    <tr>\n",
       "      <th>count</th>\n",
       "      <td>6.564923e+06</td>\n",
       "      <td>6.564923e+06</td>\n",
       "      <td>6.564923e+06</td>\n",
       "      <td>6.564923e+06</td>\n",
       "      <td>6.564923e+06</td>\n",
       "      <td>6.564923e+06</td>\n",
       "      <td>6.564923e+06</td>\n",
       "      <td>6.564923e+06</td>\n",
       "      <td>6.564923e+06</td>\n",
       "      <td>6.564923e+06</td>\n",
       "      <td>6.564923e+06</td>\n",
       "      <td>6.564923e+06</td>\n",
       "      <td>6564923.0</td>\n",
       "      <td>6.564923e+06</td>\n",
       "      <td>6.564923e+06</td>\n",
       "      <td>6.564923e+06</td>\n",
       "      <td>6.564923e+06</td>\n",
       "      <td>6.564923e+06</td>\n",
       "      <td>6.564923e+06</td>\n",
       "    </tr>\n",
       "    <tr>\n",
       "      <th>mean</th>\n",
       "      <td>3.331034e+05</td>\n",
       "      <td>3.460131e+00</td>\n",
       "      <td>1.394521e+00</td>\n",
       "      <td>1.904277e+02</td>\n",
       "      <td>3.004128e+06</td>\n",
       "      <td>5.136969e+06</td>\n",
       "      <td>8.782816e+01</td>\n",
       "      <td>4.158554e+05</td>\n",
       "      <td>2.118282e+01</td>\n",
       "      <td>2.241527e+01</td>\n",
       "      <td>4.317842e+00</td>\n",
       "      <td>3.331034e+05</td>\n",
       "      <td>1.0</td>\n",
       "      <td>4.369392e+00</td>\n",
       "      <td>7.823956e+01</td>\n",
       "      <td>4.590540e+03</td>\n",
       "      <td>1.782105e+03</td>\n",
       "      <td>1.909035e+02</td>\n",
       "      <td>3.940238e+00</td>\n",
       "    </tr>\n",
       "    <tr>\n",
       "      <th>std</th>\n",
       "      <td>1.851971e+05</td>\n",
       "      <td>5.834303e+01</td>\n",
       "      <td>4.805631e+01</td>\n",
       "      <td>2.373007e+02</td>\n",
       "      <td>1.650810e+06</td>\n",
       "      <td>2.967649e+06</td>\n",
       "      <td>7.836649e+00</td>\n",
       "      <td>1.132509e+06</td>\n",
       "      <td>1.556509e+01</td>\n",
       "      <td>1.650911e+01</td>\n",
       "      <td>1.751457e+01</td>\n",
       "      <td>1.851971e+05</td>\n",
       "      <td>0.0</td>\n",
       "      <td>7.590032e+00</td>\n",
       "      <td>1.401946e+02</td>\n",
       "      <td>5.843187e+03</td>\n",
       "      <td>1.969718e+03</td>\n",
       "      <td>3.690130e+02</td>\n",
       "      <td>5.721762e+00</td>\n",
       "    </tr>\n",
       "    <tr>\n",
       "      <th>min</th>\n",
       "      <td>7.000000e+01</td>\n",
       "      <td>0.000000e+00</td>\n",
       "      <td>0.000000e+00</td>\n",
       "      <td>0.000000e+00</td>\n",
       "      <td>0.000000e+00</td>\n",
       "      <td>1.000000e+00</td>\n",
       "      <td>4.400000e+01</td>\n",
       "      <td>1.740000e+02</td>\n",
       "      <td>0.000000e+00</td>\n",
       "      <td>0.000000e+00</td>\n",
       "      <td>0.000000e+00</td>\n",
       "      <td>7.000000e+01</td>\n",
       "      <td>1.0</td>\n",
       "      <td>0.000000e+00</td>\n",
       "      <td>0.000000e+00</td>\n",
       "      <td>0.000000e+00</td>\n",
       "      <td>0.000000e+00</td>\n",
       "      <td>0.000000e+00</td>\n",
       "      <td>1.000000e+00</td>\n",
       "    </tr>\n",
       "    <tr>\n",
       "      <th>25%</th>\n",
       "      <td>2.389600e+05</td>\n",
       "      <td>0.000000e+00</td>\n",
       "      <td>0.000000e+00</td>\n",
       "      <td>2.360000e+01</td>\n",
       "      <td>1.666029e+06</td>\n",
       "      <td>2.559700e+06</td>\n",
       "      <td>8.300000e+01</td>\n",
       "      <td>5.222600e+04</td>\n",
       "      <td>9.990000e+00</td>\n",
       "      <td>9.990000e+00</td>\n",
       "      <td>0.000000e+00</td>\n",
       "      <td>2.389600e+05</td>\n",
       "      <td>1.0</td>\n",
       "      <td>0.000000e+00</td>\n",
       "      <td>7.000000e+00</td>\n",
       "      <td>1.084000e+03</td>\n",
       "      <td>4.920000e+02</td>\n",
       "      <td>3.700000e+01</td>\n",
       "      <td>1.000000e+00</td>\n",
       "    </tr>\n",
       "    <tr>\n",
       "      <th>50%</th>\n",
       "      <td>2.941000e+05</td>\n",
       "      <td>0.000000e+00</td>\n",
       "      <td>0.000000e+00</td>\n",
       "      <td>8.300000e+01</td>\n",
       "      <td>3.047610e+06</td>\n",
       "      <td>5.120629e+06</td>\n",
       "      <td>8.800000e+01</td>\n",
       "      <td>1.056140e+05</td>\n",
       "      <td>1.999000e+01</td>\n",
       "      <td>1.999000e+01</td>\n",
       "      <td>0.000000e+00</td>\n",
       "      <td>2.941000e+05</td>\n",
       "      <td>1.0</td>\n",
       "      <td>0.000000e+00</td>\n",
       "      <td>4.300000e+01</td>\n",
       "      <td>2.086000e+03</td>\n",
       "      <td>1.147000e+03</td>\n",
       "      <td>9.500000e+01</td>\n",
       "      <td>2.000000e+00</td>\n",
       "    </tr>\n",
       "    <tr>\n",
       "      <th>75%</th>\n",
       "      <td>4.319600e+05</td>\n",
       "      <td>0.000000e+00</td>\n",
       "      <td>0.000000e+00</td>\n",
       "      <td>2.689000e+02</td>\n",
       "      <td>4.435053e+06</td>\n",
       "      <td>7.756638e+06</td>\n",
       "      <td>9.400000e+01</td>\n",
       "      <td>2.048400e+05</td>\n",
       "      <td>2.999000e+01</td>\n",
       "      <td>2.999000e+01</td>\n",
       "      <td>0.000000e+00</td>\n",
       "      <td>4.319600e+05</td>\n",
       "      <td>1.0</td>\n",
       "      <td>0.000000e+00</td>\n",
       "      <td>8.800000e+01</td>\n",
       "      <td>5.017000e+03</td>\n",
       "      <td>2.234000e+03</td>\n",
       "      <td>2.160000e+02</td>\n",
       "      <td>4.000000e+00</td>\n",
       "    </tr>\n",
       "    <tr>\n",
       "      <th>max</th>\n",
       "      <td>1.032430e+06</td>\n",
       "      <td>2.962700e+04</td>\n",
       "      <td>2.808800e+04</td>\n",
       "      <td>9.999000e+02</td>\n",
       "      <td>5.810792e+06</td>\n",
       "      <td>1.007227e+07</td>\n",
       "      <td>9.800000e+01</td>\n",
       "      <td>6.941137e+06</td>\n",
       "      <td>5.999000e+01</td>\n",
       "      <td>1.099900e+02</td>\n",
       "      <td>9.000000e+01</td>\n",
       "      <td>1.032430e+06</td>\n",
       "      <td>1.0</td>\n",
       "      <td>1.800000e+01</td>\n",
       "      <td>1.130000e+03</td>\n",
       "      <td>2.889700e+04</td>\n",
       "      <td>1.243400e+04</td>\n",
       "      <td>2.930800e+04</td>\n",
       "      <td>1.510000e+02</td>\n",
       "    </tr>\n",
       "  </tbody>\n",
       "</table>\n",
       "</div>"
      ],
      "text/plain": [
       "             app_id       helpful         funny         hours       user_id  \\\n",
       "count  6.564923e+06  6.564923e+06  6.564923e+06  6.564923e+06  6.564923e+06   \n",
       "mean   3.331034e+05  3.460131e+00  1.394521e+00  1.904277e+02  3.004128e+06   \n",
       "std    1.851971e+05  5.834303e+01  4.805631e+01  2.373007e+02  1.650810e+06   \n",
       "min    7.000000e+01  0.000000e+00  0.000000e+00  0.000000e+00  0.000000e+00   \n",
       "25%    2.389600e+05  0.000000e+00  0.000000e+00  2.360000e+01  1.666029e+06   \n",
       "50%    2.941000e+05  0.000000e+00  0.000000e+00  8.300000e+01  3.047610e+06   \n",
       "75%    4.319600e+05  0.000000e+00  0.000000e+00  2.689000e+02  4.435053e+06   \n",
       "max    1.032430e+06  2.962700e+04  2.808800e+04  9.999000e+02  5.810792e+06   \n",
       "\n",
       "          review_id  positive_ratio  user_reviews   price_final  \\\n",
       "count  6.564923e+06    6.564923e+06  6.564923e+06  6.564923e+06   \n",
       "mean   5.136969e+06    8.782816e+01  4.158554e+05  2.118282e+01   \n",
       "std    2.967649e+06    7.836649e+00  1.132509e+06  1.556509e+01   \n",
       "min    1.000000e+00    4.400000e+01  1.740000e+02  0.000000e+00   \n",
       "25%    2.559700e+06    8.300000e+01  5.222600e+04  9.990000e+00   \n",
       "50%    5.120629e+06    8.800000e+01  1.056140e+05  1.999000e+01   \n",
       "75%    7.756638e+06    9.400000e+01  2.048400e+05  2.999000e+01   \n",
       "max    1.007227e+07    9.800000e+01  6.941137e+06  5.999000e+01   \n",
       "\n",
       "       price_original      discount         appid    english  required_age  \\\n",
       "count    6.564923e+06  6.564923e+06  6.564923e+06  6564923.0  6.564923e+06   \n",
       "mean     2.241527e+01  4.317842e+00  3.331034e+05        1.0  4.369392e+00   \n",
       "std      1.650911e+01  1.751457e+01  1.851971e+05        0.0  7.590032e+00   \n",
       "min      0.000000e+00  0.000000e+00  7.000000e+01        1.0  0.000000e+00   \n",
       "25%      9.990000e+00  0.000000e+00  2.389600e+05        1.0  0.000000e+00   \n",
       "50%      1.999000e+01  0.000000e+00  2.941000e+05        1.0  0.000000e+00   \n",
       "75%      2.999000e+01  0.000000e+00  4.319600e+05        1.0  0.000000e+00   \n",
       "max      1.099900e+02  9.000000e+01  1.032430e+06        1.0  1.800000e+01   \n",
       "\n",
       "       achievements  average_playtime  median_playtime      products  \\\n",
       "count  6.564923e+06      6.564923e+06     6.564923e+06  6.564923e+06   \n",
       "mean   7.823956e+01      4.590540e+03     1.782105e+03  1.909035e+02   \n",
       "std    1.401946e+02      5.843187e+03     1.969718e+03  3.690130e+02   \n",
       "min    0.000000e+00      0.000000e+00     0.000000e+00  0.000000e+00   \n",
       "25%    7.000000e+00      1.084000e+03     4.920000e+02  3.700000e+01   \n",
       "50%    4.300000e+01      2.086000e+03     1.147000e+03  9.500000e+01   \n",
       "75%    8.800000e+01      5.017000e+03     2.234000e+03  2.160000e+02   \n",
       "max    1.130000e+03      2.889700e+04     1.243400e+04  2.930800e+04   \n",
       "\n",
       "            reviews  \n",
       "count  6.564923e+06  \n",
       "mean   3.940238e+00  \n",
       "std    5.721762e+00  \n",
       "min    1.000000e+00  \n",
       "25%    1.000000e+00  \n",
       "50%    2.000000e+00  \n",
       "75%    4.000000e+00  \n",
       "max    1.510000e+02  "
      ]
     },
     "execution_count": 58,
     "metadata": {},
     "output_type": "execute_result"
    }
   ],
   "source": [
    "final_df.describe()"
   ]
  },
  {
   "cell_type": "markdown",
   "id": "049ce052-6a3f-47b8-9a09-6a6ab0552e39",
   "metadata": {},
   "source": [
    "## Feature Engineering"
   ]
  },
  {
   "cell_type": "markdown",
   "id": "fe12d0b8-daec-42e4-adc1-9674be5d6523",
   "metadata": {},
   "source": [
    "**Elapsed Time:** A new feature which tracks the amount of time that has elapsed between the game's release and the review being logged. This could be interested because people who purchase a game right after its release are likely to be larger fans of the genre or franchise."
   ]
  },
  {
   "cell_type": "code",
   "execution_count": 59,
   "id": "661637c9-cc8b-4a21-aa51-b9fd95739080",
   "metadata": {},
   "outputs": [],
   "source": [
    "final_df[\"elapsed_time\"] = final_df[\"date\"] - final_df[\"date_release\"]"
   ]
  },
  {
   "cell_type": "markdown",
   "id": "4e8f536e-6bf0-4ecf-8aed-5d559d6b0fcd",
   "metadata": {},
   "source": [
    "**Relative Recommendation:** Find the rate at which users rated a game positively (out of the count of games they have rated). Then, find for each review whether a recommendation is in line with user's typical reviews or not."
   ]
  },
  {
   "cell_type": "code",
   "execution_count": 60,
   "id": "cbbca433-de21-41a4-896a-01aa1ab92c1a",
   "metadata": {},
   "outputs": [],
   "source": [
    "# Count the number of reviews per user and rename column\n",
    "usr_rating_count = final_df[[\"user_id\",\"y\"]].groupby(\"user_id\").count()\n",
    "usr_rating_count.rename(columns = {\"y\":\"review_count\"}, inplace = True)\n",
    "\n",
    "# Find the number of positive reviews\n",
    "usr_rating_count[\"positive_reviews\"] = final_df[[\"user_id\",\"y\"]].groupby(\"user_id\").sum()\n",
    "\n",
    "# Find how many reviews out of total are positive\n",
    "usr_rating_count[\"positive_rate\"] = usr_rating_count[\"positive_reviews\"] / usr_rating_count[\"review_count\"]"
   ]
  },
  {
   "cell_type": "code",
   "execution_count": 61,
   "id": "ab2b4db5-7495-4a59-9586-5ca60d5313e9",
   "metadata": {},
   "outputs": [],
   "source": [
    "# Merge review_count and positive_rate to the final_df\n",
    "final_df = final_df.merge(usr_rating_count.reset_index()[[\"user_id\", \"review_count\", \"positive_rate\"]], \n",
    "                          how = \"left\", on = \"user_id\")\n",
    "\n",
    "# Use these to create an ulterior feature with recommendation relative to average recommendation\n",
    "final_df[\"relaitve_rec\"] = (final_df[\"y\"] - final_df[\"positive_rate\"])"
   ]
  },
  {
   "cell_type": "markdown",
   "id": "7dbeb36f-99c0-40ac-9503-929e42bc3a7f",
   "metadata": {},
   "source": [
    "**Tendency to Review:** People who review more often tend to..."
   ]
  },
  {
   "cell_type": "code",
   "execution_count": 82,
   "id": "bc88e6e7-c620-4dd3-9264-42a9ede92055",
   "metadata": {},
   "outputs": [],
   "source": [
    "# Find Review Tendency\n",
    "final_df[\"review_tendency\"] =  final_df[\"reviews\"] /final_df[\"products\"] \n",
    "\n",
    "# Find Tendency Relative to Median Because of Low Values\n",
    "final_df[\"rel_review_tendency\"] = (final_df[\"review_tendency\"] - final_df[\"review_tendency\"].median())/ final_df[\"review_tendency\"].median()"
   ]
  },
  {
   "cell_type": "markdown",
   "id": "e285f817-0d2f-4b83-bb57-387b6e476e4b",
   "metadata": {},
   "source": [
    "**Positive & Negative Reviews:** Here we calculate the number of positive and negative reviews for each game. This is done through the positive_ratio column."
   ]
  },
  {
   "cell_type": "code",
   "execution_count": 62,
   "id": "02547f99-c7ef-4d90-a23d-ac964599d436",
   "metadata": {},
   "outputs": [],
   "source": [
    "final_df[\"positive_reviews\"] = final_df[\"positive_ratio\"] * final_df[\"user_reviews\"]\n",
    "final_df[\"negative_reviews\"] = (1 - final_df[\"positive_ratio\"]) * final_df[\"user_reviews\"]"
   ]
  },
  {
   "cell_type": "code",
   "execution_count": 64,
   "id": "7aa366f7-7218-48f1-8ea4-7723bc11ffe3",
   "metadata": {},
   "outputs": [
    {
     "data": {
      "text/html": [
       "<div>\n",
       "<style scoped>\n",
       "    .dataframe tbody tr th:only-of-type {\n",
       "        vertical-align: middle;\n",
       "    }\n",
       "\n",
       "    .dataframe tbody tr th {\n",
       "        vertical-align: top;\n",
       "    }\n",
       "\n",
       "    .dataframe thead th {\n",
       "        text-align: right;\n",
       "    }\n",
       "</style>\n",
       "<table border=\"1\" class=\"dataframe\">\n",
       "  <thead>\n",
       "    <tr style=\"text-align: right;\">\n",
       "      <th></th>\n",
       "      <th>app_id</th>\n",
       "      <th>helpful</th>\n",
       "      <th>funny</th>\n",
       "      <th>date</th>\n",
       "      <th>y</th>\n",
       "      <th>hours</th>\n",
       "      <th>user_id</th>\n",
       "      <th>review_id</th>\n",
       "      <th>title</th>\n",
       "      <th>date_release</th>\n",
       "      <th>...</th>\n",
       "      <th>median_playtime</th>\n",
       "      <th>owners</th>\n",
       "      <th>products</th>\n",
       "      <th>reviews</th>\n",
       "      <th>elapsed_time</th>\n",
       "      <th>review_count</th>\n",
       "      <th>positive_rate</th>\n",
       "      <th>relaitve_rec</th>\n",
       "      <th>positive_reviews</th>\n",
       "      <th>negative_reviews</th>\n",
       "    </tr>\n",
       "  </thead>\n",
       "  <tbody>\n",
       "    <tr>\n",
       "      <th>0</th>\n",
       "      <td>304390</td>\n",
       "      <td>4</td>\n",
       "      <td>0</td>\n",
       "      <td>2017-02-17</td>\n",
       "      <td>False</td>\n",
       "      <td>11.5</td>\n",
       "      <td>1098</td>\n",
       "      <td>1</td>\n",
       "      <td>FOR HONOR™</td>\n",
       "      <td>2017-02-13</td>\n",
       "      <td>...</td>\n",
       "      <td>696</td>\n",
       "      <td>2000000-5000000</td>\n",
       "      <td>269</td>\n",
       "      <td>1</td>\n",
       "      <td>4 days</td>\n",
       "      <td>1</td>\n",
       "      <td>0.0</td>\n",
       "      <td>0.0</td>\n",
       "      <td>5172828</td>\n",
       "      <td>-5096757</td>\n",
       "    </tr>\n",
       "    <tr>\n",
       "      <th>1</th>\n",
       "      <td>304390</td>\n",
       "      <td>2</td>\n",
       "      <td>0</td>\n",
       "      <td>2017-03-23</td>\n",
       "      <td>False</td>\n",
       "      <td>180.6</td>\n",
       "      <td>140776</td>\n",
       "      <td>26</td>\n",
       "      <td>FOR HONOR™</td>\n",
       "      <td>2017-02-13</td>\n",
       "      <td>...</td>\n",
       "      <td>696</td>\n",
       "      <td>2000000-5000000</td>\n",
       "      <td>110</td>\n",
       "      <td>2</td>\n",
       "      <td>38 days</td>\n",
       "      <td>2</td>\n",
       "      <td>0.0</td>\n",
       "      <td>0.0</td>\n",
       "      <td>5172828</td>\n",
       "      <td>-5096757</td>\n",
       "    </tr>\n",
       "  </tbody>\n",
       "</table>\n",
       "<p>2 rows × 41 columns</p>\n",
       "</div>"
      ],
      "text/plain": [
       "   app_id  helpful  funny       date      y  hours  user_id  review_id  \\\n",
       "0  304390        4      0 2017-02-17  False   11.5     1098          1   \n",
       "1  304390        2      0 2017-03-23  False  180.6   140776         26   \n",
       "\n",
       "        title date_release  ...  median_playtime           owners  products  \\\n",
       "0  FOR HONOR™   2017-02-13  ...              696  2000000-5000000       269   \n",
       "1  FOR HONOR™   2017-02-13  ...              696  2000000-5000000       110   \n",
       "\n",
       "  reviews  elapsed_time  review_count  positive_rate  relaitve_rec  \\\n",
       "0       1        4 days             1            0.0           0.0   \n",
       "1       2       38 days             2            0.0           0.0   \n",
       "\n",
       "   positive_reviews  negative_reviews  \n",
       "0           5172828          -5096757  \n",
       "1           5172828          -5096757  \n",
       "\n",
       "[2 rows x 41 columns]"
      ]
     },
     "execution_count": 64,
     "metadata": {},
     "output_type": "execute_result"
    }
   ],
   "source": [
    "final_df.head(2)"
   ]
  },
  {
   "cell_type": "markdown",
   "id": "46a8bb17-d1e4-49d7-b595-7ade338c14aa",
   "metadata": {},
   "source": [
    "## Final Dataset Exploration"
   ]
  },
  {
   "cell_type": "code",
   "execution_count": 65,
   "id": "0d8d4bf3-43e1-43e9-a69c-fb40553df8ac",
   "metadata": {},
   "outputs": [
    {
     "name": "stdout",
     "output_type": "stream",
     "text": [
      "True     8599822\n",
      "False    1472448\n",
      "Name: y, dtype: int64\n",
      "\n",
      "How many positive reviews for each negative one?\n"
     ]
    },
    {
     "data": {
      "text/plain": [
       "5.840492839135915"
      ]
     },
     "execution_count": 65,
     "metadata": {},
     "output_type": "execute_result"
    }
   ],
   "source": [
    "# We see how many positive and negative recommendations there are\n",
    "print(df_recommendations[\"y\"].value_counts())\n",
    "\n",
    "# What is their ratio?\n",
    "print(\"\\nHow many positive reviews for each negative one?\")\n",
    "df_recommendations[\"y\"].value_counts()[0]/df_recommendations[\"y\"].value_counts()[1]"
   ]
  },
  {
   "cell_type": "markdown",
   "id": "82efddda-9f5b-4c0e-a192-f9f26d2859cd",
   "metadata": {},
   "source": [
    "## Model Preparation"
   ]
  },
  {
   "cell_type": "code",
   "execution_count": 24,
   "id": "aeb36588-1b33-45ee-b713-17a611392e03",
   "metadata": {},
   "outputs": [],
   "source": [
    "# train_test_split with validation set"
   ]
  },
  {
   "cell_type": "markdown",
   "id": "e93cccd7-1dd2-499c-9783-3cf18a100565",
   "metadata": {},
   "source": [
    "#### Logistic Regression Model"
   ]
  },
  {
   "cell_type": "code",
   "execution_count": 25,
   "id": "052a6b20-3e1b-44fd-acd4-612ea3e5e0a9",
   "metadata": {},
   "outputs": [],
   "source": [
    "# Consider balancing out data because of overwhelming positivity"
   ]
  },
  {
   "cell_type": "code",
   "execution_count": 26,
   "id": "f12072c8-c0f8-417d-b247-82476efcb7e7",
   "metadata": {},
   "outputs": [],
   "source": [
    "test = games_df = games_df.merge(df_games_additional, how = \"inner\",\n",
    "                          left_on = \"app_id\", right_on = \"appid\")"
   ]
  },
  {
   "cell_type": "code",
   "execution_count": null,
   "id": "bad96a45-6abe-4df7-bc19-d613b372ac14",
   "metadata": {},
   "outputs": [],
   "source": []
  }
 ],
 "metadata": {
  "kernelspec": {
   "display_name": "Python 3 (ipykernel)",
   "language": "python",
   "name": "python3"
  },
  "language_info": {
   "codemirror_mode": {
    "name": "ipython",
    "version": 3
   },
   "file_extension": ".py",
   "mimetype": "text/x-python",
   "name": "python",
   "nbconvert_exporter": "python",
   "pygments_lexer": "ipython3",
   "version": "3.10.9"
  }
 },
 "nbformat": 4,
 "nbformat_minor": 5
}
