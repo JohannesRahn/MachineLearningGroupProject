{
  "cells": [
    {
      "cell_type": "markdown",
      "metadata": {
        "id": "dea93456-a96e-4d1f-99ec-0c38d40bda89"
      },
      "source": [
        "# **Machine Learning Group Project: Team 7**\n",
        "# Project introduction\n",
        "\n",
        "| Student Name | Student Number | Class Group |\n",
        "| --- | --- | --- |\n",
        "| **Alessandro Maugeri** | 53067 | TA |\n",
        "| **Frank Andreas Bauer** | 53121 | TA |\n",
        "|  **Johannes Rahn** | 53958 | TB |\n",
        "| **Nicole Zoppi** | 53854 | TB |\n",
        "| **Yannick von der Heyden** | 53629 | TA |\n",
        "\n",
        "\n",
        "\n",
        "- **Course & Course Code:** Machine Learning (2487)\n",
        "- **Instructors:** Qiwei Han & Alessandro Gambetti\n",
        "- **Academic Year:** 2022/2023\n",
        "\n",
        "\n",
        "This project was developed by Alessandro Alfio Maugeri, Frank Andreas Bauer, Johannes Rahn, Nicole Zoppi, and Yannick von der Heyden as part of Nova SBE's Machine Learning course taught during Semester 2 of the 2022/2023 academic year by Qiwei Han and Alessandro Gambetti. The purpose of the group work is to develop an end-to-end Machine Learning project with data of our choice, clearly highlighting the business use for our model.\n",
        "\n",
        "The project exploits data from two distinct Kaggle pages (\"Game Recommendations on Steam\" and \"Steam Store Games (Clean dataset)\") which contain data on content published to the **Steam libary** (e.g. games and DLCs) and user-generated content associated with it (e.g. whether a review is positive or not, what general consensus is, how many people found the review useful, etc.). The final work merges data from 4 distinct CSV files and 1 JSON, all of which can be found in the data folder and all of whose contents are covered in detail in the current Notebook.\n",
        "\n",
        "The objective is to develop a Machine Learning pipeline from beginning to end whose output has a clear, pertinent, and useful business use. In this project, we explore multiple models in order to identify the one which is best-suited for **predicting whether a given Steam user will enjoy a game or not**. This should allow Steam to optimize its service by tailoring it to individual clients and fine-tuning their recommender systems.\n",
        "\n",
        "To guarantee a better computing perfomance, we split the project steps into 3 distinct Notebooks, meant to be run in succession. \n",
        "\n",
        "1. **a_csv_creation**. The current notebook presents the outline of the projects and reads data from the various datasets used, merging them into a final one (final_df) used for the following Notebooks.\n",
        "2. **b_recommender_system**. The purpose of this notebook is to extract content-based similarities across different products on the basis of the plethora of of textual data contained in descriptive columns such as tags, genres, description, or steamspy_tags. These findings can later be utilized when building other models.\n",
        "3. **c_data_exploration** TO ADD\n",
        "\n",
        "---- \n",
        "Make sure to **only run this notebook once the previous notebooks [a_csv_creation.ipynb](a_csv_creation.ipynb) and [b_recommender_system.ipynb](b_recommender_system.ipynb) have been run at least once.** \n",
        "\n",
        "If those notebooks have both been run at least once, the kernel may be restarted before running this in order to obtain better performance and vaster machine memory."
      ],
      "id": "dea93456-a96e-4d1f-99ec-0c38d40bda89"
    },
    {
      "cell_type": "markdown",
      "metadata": {
        "id": "f2540aaf-fc28-463b-ae53-9f3af7f6b760"
      },
      "source": [
        "## Importing Packages "
      ],
      "id": "f2540aaf-fc28-463b-ae53-9f3af7f6b760"
    },
    {
      "cell_type": "code",
      "execution_count": 69,
      "metadata": {
        "colab": {
          "base_uri": "https://localhost:8080/"
        },
        "id": "TkhPBIx0yEVa",
        "outputId": "364dc285-c703-43c4-f7d3-ad1f233d4590"
      },
      "outputs": [
        {
          "output_type": "stream",
          "name": "stdout",
          "text": [
            "Looking in indexes: https://pypi.org/simple, https://us-python.pkg.dev/colab-wheels/public/simple/\n",
            "Requirement already satisfied: category_encoders in /usr/local/lib/python3.10/dist-packages (2.6.0)\n",
            "Requirement already satisfied: numpy>=1.14.0 in /usr/local/lib/python3.10/dist-packages (from category_encoders) (1.22.4)\n",
            "Requirement already satisfied: scikit-learn>=0.20.0 in /usr/local/lib/python3.10/dist-packages (from category_encoders) (1.2.2)\n",
            "Requirement already satisfied: scipy>=1.0.0 in /usr/local/lib/python3.10/dist-packages (from category_encoders) (1.10.1)\n",
            "Requirement already satisfied: statsmodels>=0.9.0 in /usr/local/lib/python3.10/dist-packages (from category_encoders) (0.13.5)\n",
            "Requirement already satisfied: pandas>=1.0.5 in /usr/local/lib/python3.10/dist-packages (from category_encoders) (1.5.3)\n",
            "Requirement already satisfied: patsy>=0.5.1 in /usr/local/lib/python3.10/dist-packages (from category_encoders) (0.5.3)\n",
            "Requirement already satisfied: python-dateutil>=2.8.1 in /usr/local/lib/python3.10/dist-packages (from pandas>=1.0.5->category_encoders) (2.8.2)\n",
            "Requirement already satisfied: pytz>=2020.1 in /usr/local/lib/python3.10/dist-packages (from pandas>=1.0.5->category_encoders) (2022.7.1)\n",
            "Requirement already satisfied: six in /usr/local/lib/python3.10/dist-packages (from patsy>=0.5.1->category_encoders) (1.16.0)\n",
            "Requirement already satisfied: joblib>=1.1.1 in /usr/local/lib/python3.10/dist-packages (from scikit-learn>=0.20.0->category_encoders) (1.2.0)\n",
            "Requirement already satisfied: threadpoolctl>=2.0.0 in /usr/local/lib/python3.10/dist-packages (from scikit-learn>=0.20.0->category_encoders) (3.1.0)\n",
            "Requirement already satisfied: packaging>=21.3 in /usr/local/lib/python3.10/dist-packages (from statsmodels>=0.9.0->category_encoders) (23.1)\n"
          ]
        }
      ],
      "source": [
        "pip install category_encoders"
      ],
      "id": "TkhPBIx0yEVa"
    },
    {
      "cell_type": "code",
      "execution_count": 70,
      "metadata": {
        "colab": {
          "base_uri": "https://localhost:8080/"
        },
        "id": "IpUH7rlqx_9d",
        "outputId": "0ac12536-2f9b-4834-df09-2ee808a29b7d"
      },
      "outputs": [
        {
          "output_type": "stream",
          "name": "stdout",
          "text": [
            "Looking in indexes: https://pypi.org/simple, https://us-python.pkg.dev/colab-wheels/public/simple/\n",
            "Requirement already satisfied: kneed in /usr/local/lib/python3.10/dist-packages (0.8.3)\n",
            "Requirement already satisfied: numpy>=1.14.2 in /usr/local/lib/python3.10/dist-packages (from kneed) (1.22.4)\n",
            "Requirement already satisfied: scipy>=1.0.0 in /usr/local/lib/python3.10/dist-packages (from kneed) (1.10.1)\n"
          ]
        }
      ],
      "source": [
        "pip install kneed"
      ],
      "id": "IpUH7rlqx_9d"
    },
    {
      "cell_type": "code",
      "execution_count": 102,
      "metadata": {
        "id": "bacd787f"
      },
      "outputs": [],
      "source": [
        "import ast\n",
        "import csv\n",
        "import datetime\n",
        "import warnings\n",
        "import scipy\n",
        "import pandas as pd\n",
        "import numpy as np\n",
        "from datetime import datetime\n",
        "from kneed import KneeLocator\n",
        "from category_encoders import TargetEncoder\n",
        "\n",
        "# Plotting\n",
        "import seaborn as sns\n",
        "import matplotlib.pyplot as plt\n",
        "import matplotlib.ticker as mtick\n",
        "\n",
        "# From sklearn\n",
        "from sklearn.compose import ColumnTransformer\n",
        "from sklearn.decomposition import TruncatedSVD\n",
        "from sklearn.pipeline import Pipeline, FeatureUnion\n",
        "from sklearn.base import BaseEstimator, TransformerMixin\n",
        "from sklearn.feature_extraction.text import TfidfVectorizer\n",
        "from sklearn.linear_model import LinearRegression, LogisticRegression, Ridge\n",
        "from sklearn.model_selection import train_test_split, cross_val_score, GridSearchCV\n",
        "from sklearn.metrics import accuracy_score, precision_score, recall_score, f1_score, make_scorer, mean_squared_error\n",
        "from sklearn.metrics import pairwise_distances,make_scorer, classification_report\n",
        "from sklearn.preprocessing import FunctionTransformer, StandardScaler, OneHotEncoder, KBinsDiscretizer, OrdinalEncoder\n",
        "from sklearn.preprocessing import PolynomialFeatures, MinMaxScaler\n",
        "from sklearn.model_selection import RandomizedSearchCV, cross_validate\n",
        "from sklearn.ensemble import AdaBoostClassifier, RandomForestClassifier\n",
        "\n",
        "# Compute log loss\n",
        "y_pred_proba = ADA_pipeline.predict_proba(X_val)\n",
        "print(f\"Log loss: {log_loss(y_val, y_pred_proba)}\")\n",
        "\n",
        "# From imblearn\n",
        "from imblearn.over_sampling import SMOTE\n",
        "from imblearn.pipeline import Pipeline as imPipeline\n",
        "from imblearn.under_sampling import RandomUnderSampler\n",
        "\n",
        "# From scipy\n",
        "from scipy.stats import chi2_contingency, pointbiserialr"
      ],
      "id": "bacd787f"
    },
    {
      "cell_type": "markdown",
      "metadata": {
        "id": "c58944f8-dc00-4a5c-988c-55a0904080f7"
      },
      "source": [
        "## Reading DataFrame"
      ],
      "id": "c58944f8-dc00-4a5c-988c-55a0904080f7"
    },
    {
      "cell_type": "code",
      "execution_count": 72,
      "metadata": {
        "id": "e4cccfbe-8970-4925-85a4-e96b4d687f9e"
      },
      "outputs": [],
      "source": [
        "# Optimizing datatypes for efficient DF storage\n",
        "data_types = {\n",
        "    'review_id': 'int32',\n",
        "    'y': 'bool',\n",
        "    'funny': 'int16',\n",
        "    'helpful': 'int16',\n",
        "    'app_id': 'int32',\n",
        "    'title': 'string',\n",
        "    'rating': 'category',\n",
        "    'positive_ratio': 'int16',\n",
        "    'user_reviews': 'int32',\n",
        "    'win': 'bool',\n",
        "    'mac': 'bool',\n",
        "    'linux': 'bool',\n",
        "    'price_final': 'float32',\n",
        "    'price_original': 'float32',\n",
        "    'discount': 'float32',\n",
        "    'description': 'string',\n",
        "    'tags': 'string',\n",
        "    'english': 'int8',\n",
        "    'developer': 'category',\n",
        "    'publisher': 'category',\n",
        "    'required_age': 'int8',\n",
        "    'genres': 'string',\n",
        "    'steamspy_tags': 'string',\n",
        "    'achievements': 'int16',\n",
        "    'average_playtime': 'int32',\n",
        "    'median_playtime': 'int32',\n",
        "    'owners': 'category',\n",
        "    'steam_deck': 'bool',\n",
        "    'user_id': 'int32',\n",
        "    'products': 'int16',\n",
        "    'reviews': 'int16',\n",
        "    'hours': 'float32',\n",
        "    'categories': 'string'\n",
        "}"
      ],
      "id": "e4cccfbe-8970-4925-85a4-e96b4d687f9e"
    },
    {
      "cell_type": "code",
      "execution_count": 101,
      "metadata": {
        "colab": {
          "base_uri": "https://localhost:8080/"
        },
        "id": "Cyt0t3yyshMW",
        "outputId": "16839ca8-87a1-4286-ae59-9f0a4e1a0475"
      },
      "outputs": [
        {
          "output_type": "stream",
          "name": "stdout",
          "text": [
            "Drive already mounted at /content/drive; to attempt to forcibly remount, call drive.mount(\"/content/drive\", force_remount=True).\n"
          ]
        }
      ],
      "source": [
        "from google.colab import drive\n",
        "drive.mount('/content/drive')\n",
        "\n",
        "final_df = pd.read_csv('drive/MyDrive/Colab_Notebooks/MLGroup/data/final_df.csv',\n",
        "                       parse_dates=['date', 'date_release'])\n",
        "\n",
        "textual_df =pd.read_csv('drive/MyDrive/Colab_Notebooks/MLGroup/data/textual_data.csv')"
      ],
      "id": "Cyt0t3yyshMW"
    },
    {
      "cell_type": "code",
      "execution_count": null,
      "metadata": {
        "colab": {
          "base_uri": "https://localhost:8080/",
          "height": 407
        },
        "id": "9b44ccfe-4733-494a-bdfd-c8d01d2e682e",
        "outputId": "756f95ff-762c-4250-c3f4-a7b85a50efb1"
      },
      "outputs": [
        {
          "ename": "FileNotFoundError",
          "evalue": "ignored",
          "output_type": "error",
          "traceback": [
            "\u001b[0;31m---------------------------------------------------------------------------\u001b[0m",
            "\u001b[0;31mFileNotFoundError\u001b[0m                         Traceback (most recent call last)",
            "\u001b[0;32m<ipython-input-6-066064929d20>\u001b[0m in \u001b[0;36m<cell line: 2>\u001b[0;34m()\u001b[0m\n\u001b[1;32m      1\u001b[0m \u001b[0;31m# Import the final DataFrame\u001b[0m\u001b[0;34m\u001b[0m\u001b[0;34m\u001b[0m\u001b[0m\n\u001b[0;32m----> 2\u001b[0;31m final_df = pd.read_csv(\"data/final_df.csv\",\n\u001b[0m\u001b[1;32m      3\u001b[0m                        dtype=data_types, parse_dates=['date', 'date_release'])\n\u001b[1;32m      4\u001b[0m \u001b[0;34m\u001b[0m\u001b[0m\n\u001b[1;32m      5\u001b[0m \u001b[0;31m# Import the Textual Data\u001b[0m\u001b[0;34m\u001b[0m\u001b[0;34m\u001b[0m\u001b[0m\n",
            "\u001b[0;32m/usr/local/lib/python3.10/dist-packages/pandas/util/_decorators.py\u001b[0m in \u001b[0;36mwrapper\u001b[0;34m(*args, **kwargs)\u001b[0m\n\u001b[1;32m    209\u001b[0m                 \u001b[0;32melse\u001b[0m\u001b[0;34m:\u001b[0m\u001b[0;34m\u001b[0m\u001b[0;34m\u001b[0m\u001b[0m\n\u001b[1;32m    210\u001b[0m                     \u001b[0mkwargs\u001b[0m\u001b[0;34m[\u001b[0m\u001b[0mnew_arg_name\u001b[0m\u001b[0;34m]\u001b[0m \u001b[0;34m=\u001b[0m \u001b[0mnew_arg_value\u001b[0m\u001b[0;34m\u001b[0m\u001b[0;34m\u001b[0m\u001b[0m\n\u001b[0;32m--> 211\u001b[0;31m             \u001b[0;32mreturn\u001b[0m \u001b[0mfunc\u001b[0m\u001b[0;34m(\u001b[0m\u001b[0;34m*\u001b[0m\u001b[0margs\u001b[0m\u001b[0;34m,\u001b[0m \u001b[0;34m**\u001b[0m\u001b[0mkwargs\u001b[0m\u001b[0;34m)\u001b[0m\u001b[0;34m\u001b[0m\u001b[0;34m\u001b[0m\u001b[0m\n\u001b[0m\u001b[1;32m    212\u001b[0m \u001b[0;34m\u001b[0m\u001b[0m\n\u001b[1;32m    213\u001b[0m         \u001b[0;32mreturn\u001b[0m \u001b[0mcast\u001b[0m\u001b[0;34m(\u001b[0m\u001b[0mF\u001b[0m\u001b[0;34m,\u001b[0m \u001b[0mwrapper\u001b[0m\u001b[0;34m)\u001b[0m\u001b[0;34m\u001b[0m\u001b[0;34m\u001b[0m\u001b[0m\n",
            "\u001b[0;32m/usr/local/lib/python3.10/dist-packages/pandas/util/_decorators.py\u001b[0m in \u001b[0;36mwrapper\u001b[0;34m(*args, **kwargs)\u001b[0m\n\u001b[1;32m    329\u001b[0m                     \u001b[0mstacklevel\u001b[0m\u001b[0;34m=\u001b[0m\u001b[0mfind_stack_level\u001b[0m\u001b[0;34m(\u001b[0m\u001b[0;34m)\u001b[0m\u001b[0;34m,\u001b[0m\u001b[0;34m\u001b[0m\u001b[0;34m\u001b[0m\u001b[0m\n\u001b[1;32m    330\u001b[0m                 )\n\u001b[0;32m--> 331\u001b[0;31m             \u001b[0;32mreturn\u001b[0m \u001b[0mfunc\u001b[0m\u001b[0;34m(\u001b[0m\u001b[0;34m*\u001b[0m\u001b[0margs\u001b[0m\u001b[0;34m,\u001b[0m \u001b[0;34m**\u001b[0m\u001b[0mkwargs\u001b[0m\u001b[0;34m)\u001b[0m\u001b[0;34m\u001b[0m\u001b[0;34m\u001b[0m\u001b[0m\n\u001b[0m\u001b[1;32m    332\u001b[0m \u001b[0;34m\u001b[0m\u001b[0m\n\u001b[1;32m    333\u001b[0m         \u001b[0;31m# error: \"Callable[[VarArg(Any), KwArg(Any)], Any]\" has no\u001b[0m\u001b[0;34m\u001b[0m\u001b[0;34m\u001b[0m\u001b[0m\n",
            "\u001b[0;32m/usr/local/lib/python3.10/dist-packages/pandas/io/parsers/readers.py\u001b[0m in \u001b[0;36mread_csv\u001b[0;34m(filepath_or_buffer, sep, delimiter, header, names, index_col, usecols, squeeze, prefix, mangle_dupe_cols, dtype, engine, converters, true_values, false_values, skipinitialspace, skiprows, skipfooter, nrows, na_values, keep_default_na, na_filter, verbose, skip_blank_lines, parse_dates, infer_datetime_format, keep_date_col, date_parser, dayfirst, cache_dates, iterator, chunksize, compression, thousands, decimal, lineterminator, quotechar, quoting, doublequote, escapechar, comment, encoding, encoding_errors, dialect, error_bad_lines, warn_bad_lines, on_bad_lines, delim_whitespace, low_memory, memory_map, float_precision, storage_options)\u001b[0m\n\u001b[1;32m    948\u001b[0m     \u001b[0mkwds\u001b[0m\u001b[0;34m.\u001b[0m\u001b[0mupdate\u001b[0m\u001b[0;34m(\u001b[0m\u001b[0mkwds_defaults\u001b[0m\u001b[0;34m)\u001b[0m\u001b[0;34m\u001b[0m\u001b[0;34m\u001b[0m\u001b[0m\n\u001b[1;32m    949\u001b[0m \u001b[0;34m\u001b[0m\u001b[0m\n\u001b[0;32m--> 950\u001b[0;31m     \u001b[0;32mreturn\u001b[0m \u001b[0m_read\u001b[0m\u001b[0;34m(\u001b[0m\u001b[0mfilepath_or_buffer\u001b[0m\u001b[0;34m,\u001b[0m \u001b[0mkwds\u001b[0m\u001b[0;34m)\u001b[0m\u001b[0;34m\u001b[0m\u001b[0;34m\u001b[0m\u001b[0m\n\u001b[0m\u001b[1;32m    951\u001b[0m \u001b[0;34m\u001b[0m\u001b[0m\n\u001b[1;32m    952\u001b[0m \u001b[0;34m\u001b[0m\u001b[0m\n",
            "\u001b[0;32m/usr/local/lib/python3.10/dist-packages/pandas/io/parsers/readers.py\u001b[0m in \u001b[0;36m_read\u001b[0;34m(filepath_or_buffer, kwds)\u001b[0m\n\u001b[1;32m    603\u001b[0m \u001b[0;34m\u001b[0m\u001b[0m\n\u001b[1;32m    604\u001b[0m     \u001b[0;31m# Create the parser.\u001b[0m\u001b[0;34m\u001b[0m\u001b[0;34m\u001b[0m\u001b[0m\n\u001b[0;32m--> 605\u001b[0;31m     \u001b[0mparser\u001b[0m \u001b[0;34m=\u001b[0m \u001b[0mTextFileReader\u001b[0m\u001b[0;34m(\u001b[0m\u001b[0mfilepath_or_buffer\u001b[0m\u001b[0;34m,\u001b[0m \u001b[0;34m**\u001b[0m\u001b[0mkwds\u001b[0m\u001b[0;34m)\u001b[0m\u001b[0;34m\u001b[0m\u001b[0;34m\u001b[0m\u001b[0m\n\u001b[0m\u001b[1;32m    606\u001b[0m \u001b[0;34m\u001b[0m\u001b[0m\n\u001b[1;32m    607\u001b[0m     \u001b[0;32mif\u001b[0m \u001b[0mchunksize\u001b[0m \u001b[0;32mor\u001b[0m \u001b[0miterator\u001b[0m\u001b[0;34m:\u001b[0m\u001b[0;34m\u001b[0m\u001b[0;34m\u001b[0m\u001b[0m\n",
            "\u001b[0;32m/usr/local/lib/python3.10/dist-packages/pandas/io/parsers/readers.py\u001b[0m in \u001b[0;36m__init__\u001b[0;34m(self, f, engine, **kwds)\u001b[0m\n\u001b[1;32m   1440\u001b[0m \u001b[0;34m\u001b[0m\u001b[0m\n\u001b[1;32m   1441\u001b[0m         \u001b[0mself\u001b[0m\u001b[0;34m.\u001b[0m\u001b[0mhandles\u001b[0m\u001b[0;34m:\u001b[0m \u001b[0mIOHandles\u001b[0m \u001b[0;34m|\u001b[0m \u001b[0;32mNone\u001b[0m \u001b[0;34m=\u001b[0m \u001b[0;32mNone\u001b[0m\u001b[0;34m\u001b[0m\u001b[0;34m\u001b[0m\u001b[0m\n\u001b[0;32m-> 1442\u001b[0;31m         \u001b[0mself\u001b[0m\u001b[0;34m.\u001b[0m\u001b[0m_engine\u001b[0m \u001b[0;34m=\u001b[0m \u001b[0mself\u001b[0m\u001b[0;34m.\u001b[0m\u001b[0m_make_engine\u001b[0m\u001b[0;34m(\u001b[0m\u001b[0mf\u001b[0m\u001b[0;34m,\u001b[0m \u001b[0mself\u001b[0m\u001b[0;34m.\u001b[0m\u001b[0mengine\u001b[0m\u001b[0;34m)\u001b[0m\u001b[0;34m\u001b[0m\u001b[0;34m\u001b[0m\u001b[0m\n\u001b[0m\u001b[1;32m   1443\u001b[0m \u001b[0;34m\u001b[0m\u001b[0m\n\u001b[1;32m   1444\u001b[0m     \u001b[0;32mdef\u001b[0m \u001b[0mclose\u001b[0m\u001b[0;34m(\u001b[0m\u001b[0mself\u001b[0m\u001b[0;34m)\u001b[0m \u001b[0;34m->\u001b[0m \u001b[0;32mNone\u001b[0m\u001b[0;34m:\u001b[0m\u001b[0;34m\u001b[0m\u001b[0;34m\u001b[0m\u001b[0m\n",
            "\u001b[0;32m/usr/local/lib/python3.10/dist-packages/pandas/io/parsers/readers.py\u001b[0m in \u001b[0;36m_make_engine\u001b[0;34m(self, f, engine)\u001b[0m\n\u001b[1;32m   1733\u001b[0m                 \u001b[0;32mif\u001b[0m \u001b[0;34m\"b\"\u001b[0m \u001b[0;32mnot\u001b[0m \u001b[0;32min\u001b[0m \u001b[0mmode\u001b[0m\u001b[0;34m:\u001b[0m\u001b[0;34m\u001b[0m\u001b[0;34m\u001b[0m\u001b[0m\n\u001b[1;32m   1734\u001b[0m                     \u001b[0mmode\u001b[0m \u001b[0;34m+=\u001b[0m \u001b[0;34m\"b\"\u001b[0m\u001b[0;34m\u001b[0m\u001b[0;34m\u001b[0m\u001b[0m\n\u001b[0;32m-> 1735\u001b[0;31m             self.handles = get_handle(\n\u001b[0m\u001b[1;32m   1736\u001b[0m                 \u001b[0mf\u001b[0m\u001b[0;34m,\u001b[0m\u001b[0;34m\u001b[0m\u001b[0;34m\u001b[0m\u001b[0m\n\u001b[1;32m   1737\u001b[0m                 \u001b[0mmode\u001b[0m\u001b[0;34m,\u001b[0m\u001b[0;34m\u001b[0m\u001b[0;34m\u001b[0m\u001b[0m\n",
            "\u001b[0;32m/usr/local/lib/python3.10/dist-packages/pandas/io/common.py\u001b[0m in \u001b[0;36mget_handle\u001b[0;34m(path_or_buf, mode, encoding, compression, memory_map, is_text, errors, storage_options)\u001b[0m\n\u001b[1;32m    854\u001b[0m         \u001b[0;32mif\u001b[0m \u001b[0mioargs\u001b[0m\u001b[0;34m.\u001b[0m\u001b[0mencoding\u001b[0m \u001b[0;32mand\u001b[0m \u001b[0;34m\"b\"\u001b[0m \u001b[0;32mnot\u001b[0m \u001b[0;32min\u001b[0m \u001b[0mioargs\u001b[0m\u001b[0;34m.\u001b[0m\u001b[0mmode\u001b[0m\u001b[0;34m:\u001b[0m\u001b[0;34m\u001b[0m\u001b[0;34m\u001b[0m\u001b[0m\n\u001b[1;32m    855\u001b[0m             \u001b[0;31m# Encoding\u001b[0m\u001b[0;34m\u001b[0m\u001b[0;34m\u001b[0m\u001b[0m\n\u001b[0;32m--> 856\u001b[0;31m             handle = open(\n\u001b[0m\u001b[1;32m    857\u001b[0m                 \u001b[0mhandle\u001b[0m\u001b[0;34m,\u001b[0m\u001b[0;34m\u001b[0m\u001b[0;34m\u001b[0m\u001b[0m\n\u001b[1;32m    858\u001b[0m                 \u001b[0mioargs\u001b[0m\u001b[0;34m.\u001b[0m\u001b[0mmode\u001b[0m\u001b[0;34m,\u001b[0m\u001b[0;34m\u001b[0m\u001b[0;34m\u001b[0m\u001b[0m\n",
            "\u001b[0;31mFileNotFoundError\u001b[0m: [Errno 2] No such file or directory: 'data/final_df.csv'"
          ]
        }
      ],
      "source": [
        "# Import the final DataFrame\n",
        "final_df = pd.read_csv(\"data/final_df.csv\",\n",
        "                       dtype=data_types, parse_dates=['date', 'date_release'])\n",
        "\n",
        "# Import the Textual Data\n",
        "textual_df = pd.read_csv(\"data/textual_data.csv\", index_col = \"app_id\")"
      ],
      "id": "9b44ccfe-4733-494a-bdfd-c8d01d2e682e"
    },
    {
      "cell_type": "code",
      "execution_count": 122,
      "metadata": {
        "id": "c03789a1-de5a-497d-88a6-274cc2d3b8e0"
      },
      "outputs": [],
      "source": [
        "# Rearrange Columns\n",
        "final_df = final_df.reindex(columns = [\"review_id\", \"y\", \"date\", \"funny\", \"helpful\",\n",
        "                                       \"app_id\", \"title\", \"date_release\", \"rating\", \n",
        "                                       \"positive_ratio\", \"user_reviews\", \"win\", \"mac\", \"linux\", \n",
        "                                       \"price_final\", \"price_original\", \"discount\", \"description\",\n",
        "                                       \"tags\", 'english', 'developer', 'publisher', 'required_age', \n",
        "                                       'genres', 'steamspy_tags','achievements', 'average_playtime', \n",
        "                                       'median_playtime', \"owners\", \"steam_deck\",\n",
        "                                       \"user_id\", \"products\", \"reviews\", \"hours\"])\n",
        "\n",
        "# Sort by Review ID\n",
        "final_df.sort_values(by=[\"review_id\"], inplace = True)"
      ],
      "id": "c03789a1-de5a-497d-88a6-274cc2d3b8e0"
    },
    {
      "cell_type": "markdown",
      "metadata": {
        "id": "2bfeb8dc-67f4-4022-b621-51db6001900a"
      },
      "source": [
        "## Stratified Resampling\n",
        "\n",
        "The code below performs stratified sampling on the dataset. We do not have the computing power to run all our models on the complete set. Consequently, we provide the possibility of sampling the data down to 100,000 (minimum sample), 500,000 (medium sample), or 1,000,000 (medium-high) sample, should the computing power be sufficient. The data is stratified according to the target variable so as to prevent the further loss of negative feedback, which is already a strong minority in the set, as will be shown later in the notebook.\n",
        "\n",
        "Alternatively, by skipping the lines of code below one can use the complete dataset with 6,564,923 observations. This naturally requires the appropriate computing power. **Due to our limited computing power, we will be running the entire notebook on 500,000 observations.**"
      ],
      "id": "2bfeb8dc-67f4-4022-b621-51db6001900a"
    },
    {
      "cell_type": "code",
      "execution_count": 123,
      "metadata": {
        "id": "da7d4fda-39a2-4964-9bb7-a435bc12c4ea"
      },
      "outputs": [],
      "source": [
        "n_total_samples = 100000\n",
        "#n_total_samples = 500000\n",
        "#n_total_samples = 1000000"
      ],
      "id": "da7d4fda-39a2-4964-9bb7-a435bc12c4ea"
    },
    {
      "cell_type": "code",
      "execution_count": 124,
      "metadata": {
        "id": "7e679599-1522-4358-a1bd-c0360e779750"
      },
      "outputs": [],
      "source": [
        "# Find Negative-Positive Ratio\n",
        "neg_pos_ratio = final_df['y'].value_counts()[1] / final_df['y'].value_counts()[0]\n",
        "\n",
        "# Determine Number of False and Number of True Samples\n",
        "n_false_samples = int(n_total_samples * neg_pos_ratio)\n",
        "n_true_samples = n_total_samples - n_false_samples\n",
        "\n",
        "# Sample On this Basis \n",
        "false_samples = final_df[final_df['y'] == False].sample(n_false_samples, random_state=70)\n",
        "true_samples = final_df[final_df['y'] == True].sample(n_true_samples, random_state=70)\n",
        "\n",
        "final_df = pd.concat([false_samples, true_samples])\n",
        "\n",
        "# shuffle the data\n",
        "final_df = final_df.sample(frac=1, random_state=70)"
      ],
      "id": "7e679599-1522-4358-a1bd-c0360e779750"
    },
    {
      "cell_type": "markdown",
      "metadata": {
        "id": "7cfdc752-9fca-4dc2-92f4-0de3b39c3f88"
      },
      "source": [
        "**EXPLANATION NEEDED FOR HANDLING OF TEXTUAL DATA FRANK**\n",
        "\n",
        "We remove textual from dataframe given that they are in textual_df, but we create dummy for genres"
      ],
      "id": "7cfdc752-9fca-4dc2-92f4-0de3b39c3f88"
    },
    {
      "cell_type": "code",
      "execution_count": 125,
      "metadata": {
        "id": "721c9ff5-0f80-4a0d-a7f9-3c10864ebd35"
      },
      "outputs": [],
      "source": [
        "# Create Dummy Columns for Genres\n",
        "genres_dummies = final_df['genres'].str.get_dummies(sep=';')\n",
        "final_df = pd.concat([final_df, genres_dummies], axis=1)\n",
        "\n",
        "# Optimize Memory Usage\n",
        "for elem in genres_dummies.columns:\n",
        "    final_df[elem] = final_df[elem].astype(\"int16\")\n",
        "\n",
        "# Drop Tags, SteamSpy Tags, Description, Genres (as Single-Column List)\n",
        "final_df.drop([\"tags\", \"steamspy_tags\", \"description\", \"genres\"], \n",
        "              axis = 1, inplace = True)"
      ],
      "id": "721c9ff5-0f80-4a0d-a7f9-3c10864ebd35"
    },
    {
      "cell_type": "markdown",
      "metadata": {
        "id": "538987b2-3e4e-4ca8-bb69-7d6e6d6e2d07"
      },
      "source": [
        "**EXPLANATION FOR HANDLING OF REVIEW-RELATED DATA**\n",
        "\n",
        "We drop all the data inherently describing reviews because they cannot be used as inputs for the models (it is data collected after the acquisition of a game)"
      ],
      "id": "538987b2-3e4e-4ca8-bb69-7d6e6d6e2d07"
    },
    {
      "cell_type": "code",
      "execution_count": 126,
      "metadata": {
        "id": "43b63882-627a-4c6a-b2c8-fcdda4ec0773"
      },
      "outputs": [],
      "source": [
        "# Drop Tags, SteamSpy Tags, Description, Genres (as Single-Column List)\n",
        "final_df.drop(['review_id', 'funny', 'helpful'], \n",
        "              axis = 1, inplace = True)"
      ],
      "id": "43b63882-627a-4c6a-b2c8-fcdda4ec0773"
    },
    {
      "cell_type": "markdown",
      "metadata": {
        "id": "388c5a1e-b0b1-40fa-b3f6-4ac637f96d6c"
      },
      "source": [
        "## Data Exploration"
      ],
      "id": "388c5a1e-b0b1-40fa-b3f6-4ac637f96d6c"
    },
    {
      "cell_type": "markdown",
      "metadata": {
        "id": "f589bde0-f093-4599-ae6b-48e5ab46e640"
      },
      "source": [
        "#### General Analysis\n",
        "\n",
        "**VERY HIGH-LEVEL DATA EXPLORATION FIRST**\n",
        "\n",
        "E.G. AMOUNT OF DIFFERENT FEATURES, COLUMN NAMES\n",
        "\n",
        "IMPORTANT TO SAY: WE DEFINE IN DETAIL WHAT EACH COLUMN MEANS IN THE FINAL_DF_PREP NOTEBOOK. SO IF SOME LABELS ARE UNCLEAR, REFER TO THAT."
      ],
      "id": "f589bde0-f093-4599-ae6b-48e5ab46e640"
    },
    {
      "cell_type": "code",
      "execution_count": null,
      "metadata": {
        "id": "5b78a773-e4fc-4274-ac15-05e52c921006",
        "outputId": "aa0808d0-a6e7-45bf-de3f-37ae21530929"
      },
      "outputs": [
        {
          "name": "stdout",
          "output_type": "stream",
          "text": [
            "['review_id', 'date', 'funny', 'helpful', 'app_id', 'title', 'date_release', 'rating', 'positive_ratio', 'user_reviews', 'win', 'mac', 'linux', 'price_final', 'price_original', 'discount', 'english', 'developer', 'publisher', 'required_age', 'genres', 'achievements', 'average_playtime', 'median_playtime', 'owners', 'steam_deck', 'user_id', 'products', 'reviews', 'hours', 'y', 'Action', 'Adventure', 'Animation & Modeling', 'Casual', 'Design & Illustration', 'Early Access', 'Free to Play', 'Gore', 'Indie', 'Massively Multiplayer', 'Nudity', 'RPG', 'Racing', 'Sexual Content', 'Simulation', 'Sports', 'Strategy', 'Utilities', 'Violent', 'Web Publishing']\n"
          ]
        }
      ],
      "source": [
        "column_list = final_df.columns.tolist()\n",
        "print(column_list)"
      ],
      "id": "5b78a773-e4fc-4274-ac15-05e52c921006"
    },
    {
      "cell_type": "code",
      "execution_count": null,
      "metadata": {
        "id": "d6ef64e0-14c4-4010-92f7-272db834ba7e",
        "outputId": "9480d78e-1a21-4520-923f-d0caf9d7c1da"
      },
      "outputs": [
        {
          "name": "stdout",
          "output_type": "stream",
          "text": [
            "54\n"
          ]
        }
      ],
      "source": [
        "print(len(column_list))"
      ],
      "id": "d6ef64e0-14c4-4010-92f7-272db834ba7e"
    },
    {
      "cell_type": "code",
      "execution_count": null,
      "metadata": {
        "id": "0343b12d-f345-4af1-86ee-bed7f067a3c9",
        "outputId": "65527b8b-5dc3-4e47-b7d6-4eba2f3eac26"
      },
      "outputs": [
        {
          "data": {
            "text/plain": [
              "review_id                         int32\n",
              "y                                  bool\n",
              "date                     datetime64[ns]\n",
              "funny                             int16\n",
              "helpful                           int16\n",
              "app_id                            int32\n",
              "title                    string[python]\n",
              "date_release             datetime64[ns]\n",
              "rating                         category\n",
              "positive_ratio                    int16\n",
              "user_reviews                      int32\n",
              "win                                bool\n",
              "mac                                bool\n",
              "linux                              bool\n",
              "price_final                     float32\n",
              "price_original                  float32\n",
              "discount                        float32\n",
              "description              string[python]\n",
              "tags                     string[python]\n",
              "english                            int8\n",
              "developer                      category\n",
              "publisher                      category\n",
              "required_age                       int8\n",
              "genres                   string[python]\n",
              "steamspy_tags            string[python]\n",
              "achievements                      int16\n",
              "average_playtime                  int32\n",
              "median_playtime                   int32\n",
              "owners                         category\n",
              "steam_deck                         bool\n",
              "user_id                           int32\n",
              "products                          int16\n",
              "reviews                           int16\n",
              "hours                           float32\n",
              "Action                            int64\n",
              "Adventure                         int64\n",
              "Animation & Modeling              int64\n",
              "Casual                            int64\n",
              "Design & Illustration             int64\n",
              "Early Access                      int64\n",
              "Free to Play                      int64\n",
              "Gore                              int64\n",
              "Indie                             int64\n",
              "Massively Multiplayer             int64\n",
              "Nudity                            int64\n",
              "RPG                               int64\n",
              "Racing                            int64\n",
              "Sexual Content                    int64\n",
              "Simulation                        int64\n",
              "Sports                            int64\n",
              "Strategy                          int64\n",
              "Utilities                         int64\n",
              "Violent                           int64\n",
              "Web Publishing                    int64\n",
              "dtype: object"
            ]
          },
          "execution_count": 12,
          "metadata": {},
          "output_type": "execute_result"
        }
      ],
      "source": [
        "final_df.dtypes"
      ],
      "id": "0343b12d-f345-4af1-86ee-bed7f067a3c9"
    },
    {
      "cell_type": "markdown",
      "metadata": {
        "id": "60938402-f4da-4a24-b93f-49f6a33074ee"
      },
      "source": [
        "#### Target Variable Exploration\n",
        "\n",
        "First we explore the distribution of our target variable _y_, which is a column of booleans which signal whether a given user would recommend a given game or not.\n",
        "\n",
        "In creating a countplot, we find that the dataset is rather unbalanced. Only 14.12% of observations is negative, while the remaining 85.88% is positive. This will certainly be kept in consideration when training our model, as the unbalance must be offset. With a quick calculation, we find that the ratio of positives to negatives is 6.08 approximately."
      ],
      "id": "60938402-f4da-4a24-b93f-49f6a33074ee"
    },
    {
      "cell_type": "code",
      "execution_count": null,
      "metadata": {
        "id": "29cfd9f5-2745-4f1f-a11f-5df75e9a7500",
        "outputId": "56d08e55-55e1-414d-ca85-a54c9f1f606d"
      },
      "outputs": [
        {
          "data": {
            "text/plain": [
              "<Figure size 720x360 with 0 Axes>"
            ]
          },
          "metadata": {},
          "output_type": "display_data"
        },
        {
          "data": {
            "image/png": "[encoded data removed]",
            "text/plain": [
              "<Figure size 600x400 with 2 Axes>"
            ]
          },
          "metadata": {},
          "output_type": "display_data"
        }
      ],
      "source": [
        "# Plotting the frequency distribution of number of recommendations\n",
        "plt.figure(figsize=(10, 5))\n",
        "plt.figure(dpi=100)\n",
        "\n",
        "ax = sns.countplot(x='y', data=final_df)\n",
        "\n",
        "plt.title('Frequency Distribution of Recommendations')\n",
        "plt.xlabel('Is the game recommended?')\n",
        "plt.ylabel('Observation Count')\n",
        "\n",
        "# Calculate percentage of each category\n",
        "percentages = final_df['y'].value_counts(normalize=True) * 100\n",
        "\n",
        "# Annotate the bars with counts and percentages\n",
        "for p in ax.patches:\n",
        "    count = int(p.get_height())\n",
        "    percentage = percentages.sort_values()[int(p.get_x() + p.get_x())]\n",
        "    ax.annotate(f'{count}\\n({percentage:.2f}%)', \n",
        "                (p.get_x() + p.get_width() / 2., p.get_height() / 2),\n",
        "                ha='center', va='center', fontsize=12, color='black')\n",
        "\n",
        "# Add percentage axis\n",
        "ax2 = ax.twinx()\n",
        "ax2.set_ylim(0, 100)\n",
        "ax2.set_ylabel('Percentage of Observations')\n",
        "ax2.yaxis.set_major_formatter(mtick.PercentFormatter())\n",
        "\n",
        "plt.show()"
      ],
      "id": "29cfd9f5-2745-4f1f-a11f-5df75e9a7500"
    },
    {
      "cell_type": "code",
      "execution_count": null,
      "metadata": {
        "id": "75d11377-148d-4bcf-b4a0-a0bcc89184ab",
        "outputId": "ff6e64dc-a292-4a48-f7b5-1acc6f36f8b3"
      },
      "outputs": [
        {
          "name": "stdout",
          "output_type": "stream",
          "text": [
            "The \u001b[1mratio of positive to negative recommendations\u001b[0m is 6.084492603012321\n"
          ]
        }
      ],
      "source": [
        "print(\"The \\033[1mratio of positive to negative recommendations\\033[0m is\", \n",
        "     final_df['y'].value_counts()[0] / final_df['y'].value_counts()[1])"
      ],
      "id": "75d11377-148d-4bcf-b4a0-a0bcc89184ab"
    },
    {
      "cell_type": "markdown",
      "metadata": {
        "id": "284fdc38-89f8-491e-a56e-50ca42063e50"
      },
      "source": [
        "#### Steam Rating Exploration\n",
        "\n",
        "Reamining within the realm of ratings, we explore the distribution of the Steam rating system through a frequency table. Very interestingly, we observe that many of the rating categories are not in fact present in our data. It would seem that there are no games with overall negative reviews, while most games either have a _Very Positive_ or _Overwhelmingly Positive_ rating (appr. 86.24%). All in all, this is in line with the previous observation concerning the unbalanced dataset. \n",
        "\n",
        "Another noteworthy aspect of the dataset is that there are no _Positive_ reviews. The remaining 13.76% is split between _Mostly Positive_ and _Mixed_, with the former counting more observation than the latter. It is worth remembering that the Steam rating system assigns the _Positive_ rating to games that seem to have good ratings, but a review count which is not high enough to really \"consacrate\" its status as a very positively (or overwhlemingly positively) rated game. This perhaps informs us on the type of game which tends to be included in these datasets, focusing on larger more \"mainstream\" products rather than smaller lesser-known ones."
      ],
      "id": "284fdc38-89f8-491e-a56e-50ca42063e50"
    },
    {
      "cell_type": "code",
      "execution_count": null,
      "metadata": {
        "id": "7339f770-b75d-4df8-b82a-48a22f873eef",
        "outputId": "9f9f27d4-0e46-41a6-cd12-3be747d829ab"
      },
      "outputs": [
        {
          "data": {
            "text/html": [
              "<div>\n",
              "<style scoped>\n",
              "    .dataframe tbody tr th:only-of-type {\n",
              "        vertical-align: middle;\n",
              "    }\n",
              "\n",
              "    .dataframe tbody tr th {\n",
              "        vertical-align: top;\n",
              "    }\n",
              "\n",
              "    .dataframe thead th {\n",
              "        text-align: right;\n",
              "    }\n",
              "</style>\n",
              "<table border=\"1\" class=\"dataframe\">\n",
              "  <thead>\n",
              "    <tr style=\"text-align: right;\">\n",
              "      <th></th>\n",
              "      <th>Observation Count</th>\n",
              "      <th>Percentage of Observations</th>\n",
              "    </tr>\n",
              "    <tr>\n",
              "      <th>rating</th>\n",
              "      <th></th>\n",
              "      <th></th>\n",
              "    </tr>\n",
              "  </thead>\n",
              "  <tbody>\n",
              "    <tr>\n",
              "      <th>Overwhelmingly Positive</th>\n",
              "      <td>23255</td>\n",
              "      <td>23.25%</td>\n",
              "    </tr>\n",
              "    <tr>\n",
              "      <th>Very Positive</th>\n",
              "      <td>62738</td>\n",
              "      <td>62.74%</td>\n",
              "    </tr>\n",
              "    <tr>\n",
              "      <th>Positive</th>\n",
              "      <td>0</td>\n",
              "      <td>0.00%</td>\n",
              "    </tr>\n",
              "    <tr>\n",
              "      <th>Mostly Positive</th>\n",
              "      <td>11689</td>\n",
              "      <td>11.69%</td>\n",
              "    </tr>\n",
              "    <tr>\n",
              "      <th>Mixed</th>\n",
              "      <td>2318</td>\n",
              "      <td>2.32%</td>\n",
              "    </tr>\n",
              "    <tr>\n",
              "      <th>Mostly Negative</th>\n",
              "      <td>0</td>\n",
              "      <td>0.00%</td>\n",
              "    </tr>\n",
              "    <tr>\n",
              "      <th>Negative</th>\n",
              "      <td>0</td>\n",
              "      <td>0.00%</td>\n",
              "    </tr>\n",
              "    <tr>\n",
              "      <th>Very Negative</th>\n",
              "      <td>0</td>\n",
              "      <td>0.00%</td>\n",
              "    </tr>\n",
              "    <tr>\n",
              "      <th>Overwhelmingly Negative</th>\n",
              "      <td>0</td>\n",
              "      <td>0.00%</td>\n",
              "    </tr>\n",
              "  </tbody>\n",
              "</table>\n",
              "</div>"
            ],
            "text/plain": [
              "                         Observation Count Percentage of Observations\n",
              "rating                                                               \n",
              "Overwhelmingly Positive              23255                     23.25%\n",
              "Very Positive                        62738                     62.74%\n",
              "Positive                                 0                      0.00%\n",
              "Mostly Positive                      11689                     11.69%\n",
              "Mixed                                 2318                      2.32%\n",
              "Mostly Negative                          0                      0.00%\n",
              "Negative                                 0                      0.00%\n",
              "Very Negative                            0                      0.00%\n",
              "Overwhelmingly Negative                  0                      0.00%"
            ]
          },
          "metadata": {},
          "output_type": "display_data"
        }
      ],
      "source": [
        "# Create a frequency table\n",
        "rating_counts = pd.DataFrame(final_df['rating'].value_counts())\n",
        "\n",
        "# Rename the columns\n",
        "rating_counts.columns = ['Observation Count']\n",
        "\n",
        "# Sort the rows based on the order of rating categories\n",
        "rating_order = [\"Overwhelmingly Positive\", \"Very Positive\", \"Positive\", \n",
        "                \"Mostly Positive\", \"Mixed\", \"Mostly Negative\", \n",
        "                \"Negative\", \"Very Negative\", \"Overwhelmingly Negative\"]\n",
        "\n",
        "rating_counts = rating_counts.reindex(rating_order)\n",
        "\n",
        "# Fill NaN with 0\n",
        "rating_counts.fillna(0, inplace = True)\n",
        "\n",
        "# Add a column for percentage of observations\n",
        "rating_counts['Percentage of Observations'] = rating_counts['Observation Count'] / len(final_df) * 100\n",
        "\n",
        "# Format the percentage column\n",
        "rating_counts['Percentage of Observations'] = rating_counts['Percentage of Observations'].map('{:.2f}%'.format)\n",
        "\n",
        "# Turn to Integer\n",
        "rating_counts[\"Observation Count\"] = [int(i) for i in rating_counts[\"Observation Count\"]]\n",
        "\n",
        "display(rating_counts)"
      ],
      "id": "7339f770-b75d-4df8-b82a-48a22f873eef"
    },
    {
      "cell_type": "markdown",
      "metadata": {
        "id": "23d7dda3-02eb-4ec4-b4ec-941ae2011870"
      },
      "source": [
        "#### Owners Exploration\n",
        "\n",
        "We plot the ownership data, which is currently subdivided in categorical strings which simply describe the range of users which any given game has. For the purposes of our model, this will clearly have to be transformed through some form of ordinal encoding. We look at the distribution of these games to gain actionable insights on how data is distributed across these categories, and whether some of these categories can be \"condensed\" together. This may simplify our eventual model and has the added benefit of ironing out categories which may contain a number of observations far too small compared to other categories. The implication here being that if the data were too unbalanced, it would become more difficult for an eventual regression to truly establish clear statistically significant links.\n",
        "\n",
        "\n",
        "CHOOSE ONE OF THE PLOTS BELOW AND EXPAND ON IT."
      ],
      "id": "23d7dda3-02eb-4ec4-b4ec-941ae2011870"
    },
    {
      "cell_type": "code",
      "execution_count": null,
      "metadata": {
        "id": "42dc77b4-93d8-42a8-9a90-bc16efdf6fa3",
        "outputId": "fd9acaca-21ce-4b69-a51a-30a5d20d6218"
      },
      "outputs": [
        {
          "data": {
            "text/plain": [
              "<Figure size 720x360 with 0 Axes>"
            ]
          },
          "metadata": {},
          "output_type": "display_data"
        },
        {
          "data": {
            "image/png": "[encoded data removed]",
            "text/plain": [
              "<Figure size 600x400 with 1 Axes>"
            ]
          },
          "metadata": {},
          "output_type": "display_data"
        }
      ],
      "source": [
        "# Drop duplicates based on app_id\n",
        "final_df = final_df.drop_duplicates(subset=['app_id'])\n",
        "\n",
        "# Create Order\n",
        "order_list = [\"0-20\", \"20-50\", \"50-100\", \"100-200\", \"200-500\",\n",
        "              \"500-1000\", \"1000-2000\", \"2000-5000\", \"5000-10000\",\n",
        "              \"10000-20000\", \"20000-50000\", \"50000-100000\", \n",
        "              \"100000-200000\"]\n",
        "\n",
        "# Plotting the frequency distribution of number of recommendations\n",
        "sns.set_theme()\n",
        "plt.figure(figsize=(10, 5))\n",
        "plt.figure(dpi=100)\n",
        "plt.xticks(rotation=90)\n",
        "\n",
        "ax = sns.countplot(x='owners', data=final_df,\n",
        "                  order = order_list)\n",
        "\n",
        "# Add percentages to plot\n",
        "total = len(final_df)\n",
        "for p in ax.patches:\n",
        "    percentage = '{:.1f}%'.format(100 * p.get_height() / total)\n",
        "    x = p.get_x() + p.get_width() / 2\n",
        "    y = p.get_y() + p.get_height() + (total/1000)\n",
        "    ax.annotate(percentage, (x, y), ha='center', fontsize=8, color='black')\n",
        "    \n",
        "# Add axis labels and title\n",
        "plt.xlabel('Owners (1000s)')\n",
        "plt.ylabel('Count')\n",
        "plt.title('Frequency Distribution of Game Ownership (Unique Games)')\n",
        "\n",
        "plt.show()"
      ],
      "id": "42dc77b4-93d8-42a8-9a90-bc16efdf6fa3"
    },
    {
      "cell_type": "code",
      "execution_count": null,
      "metadata": {
        "id": "297d977d-541b-4aa3-96f3-cd3568c7737e",
        "outputId": "e4f7350b-a76a-4ba7-ecca-f22a481203dd"
      },
      "outputs": [
        {
          "data": {
            "text/plain": [
              "<Figure size 720x360 with 0 Axes>"
            ]
          },
          "metadata": {},
          "output_type": "display_data"
        },
        {
          "data": {
            "image/png": "[encoded data removed]",
            "text/plain": [
              "<Figure size 600x400 with 1 Axes>"
            ]
          },
          "metadata": {},
          "output_type": "display_data"
        }
      ],
      "source": [
        "# Create Order\n",
        "order_list = [\"0-20\", \"20-50\", \"50-100\", \"100-200\", \"200-500\",\n",
        "              \"500-1000\", \"1000-2000\", \"2000-5000\", \"5000-10000\",\n",
        "              \"10000-20000\", \"20000-50000\", \"50000-100000\", \n",
        "              \"100000-200000\"]\n",
        "\n",
        "# Plotting the frequency distribution of number of recommendations\n",
        "sns.set_theme()\n",
        "plt.figure(figsize=(10, 5))\n",
        "plt.figure(dpi=100)\n",
        "plt.xticks(rotation=90)\n",
        "\n",
        "ax = sns.countplot(x='owners', data=final_df,\n",
        "                  order = order_list)\n",
        "\n",
        "# Add percentages to plot\n",
        "total = len(final_df)\n",
        "for p in ax.patches:\n",
        "    percentage = '{:.1f}%'.format(100 * p.get_height() / total)\n",
        "    x = p.get_x() + p.get_width() / 2\n",
        "    y = p.get_y() + p.get_height() + 30\n",
        "    ax.annotate(percentage, (x, y), ha='center', fontsize=8, color='black')\n",
        "    \n",
        "plt.show()"
      ],
      "id": "297d977d-541b-4aa3-96f3-cd3568c7737e"
    },
    {
      "cell_type": "markdown",
      "metadata": {
        "id": "7cfca13c-1a0b-43e3-b55a-d7cac57d0e83"
      },
      "source": [
        "#### Discount Rates\n",
        "\n",
        "Given that discounts are part of the sales process, we attempt to establish whether the _discount_ column contains a satisfactory range of values which may allow us to appropriately enhance the model (or perhaps construct some form of additional model to predict offered discount). \n",
        "\n",
        "The results here are rather disappointing due to the limited range of unique values which this column takes (11), which almost makes it more of a discrete variable than continuous one. Furthermore, only discounts above 50% were retained in this dataset and they are a very large minority compared to games which were purchased at full price.\n",
        "\n",
        "It would seem that the rich range of possible discounts which were found to exist in [a_csv_creation.ipynb](a_csv_creation.ipynb) were lost in the merging process, particularly when merging the recommendations dataset. This is problematic given that the dataframe is the only truly indispensible one for our model, therefore we cannot run any join that would force games into the dataframe which it does not contain any data for. In that case, we would be foregoing the game-user pairing which is intrinsicially necessary to building our analysis. We do not believe building a model based on the games.csv alone would be useful, as discounts on these platforms are not solely based on game characteristics, but also whether a user is deemed to a good fit for a certain special offer. \n",
        "\n",
        "Given these considerations, we will later build a rule-based discount determiner as opposed to a fully automated machine-learning algorithm."
      ],
      "id": "7cfca13c-1a0b-43e3-b55a-d7cac57d0e83"
    },
    {
      "cell_type": "code",
      "execution_count": null,
      "metadata": {
        "id": "1a11b0e5-bda9-4db2-a551-a7d07b29fa0c",
        "outputId": "bb91586f-c0e3-4a29-8e4b-97f650dc6300"
      },
      "outputs": [
        {
          "name": "stdout",
          "output_type": "stream",
          "text": [
            "Number of Unique Values in discount column: 11\n"
          ]
        }
      ],
      "source": [
        "print(\"Number of Unique Values in discount column:\", len(final_df[\"discount\"].value_counts()))"
      ],
      "id": "1a11b0e5-bda9-4db2-a551-a7d07b29fa0c"
    },
    {
      "cell_type": "code",
      "execution_count": null,
      "metadata": {
        "id": "c7f1ba73-3a00-4f5e-87e6-e070c8b302da",
        "outputId": "94833994-c49b-4434-c688-ed2cd954936b"
      },
      "outputs": [
        {
          "data": {
            "text/html": [
              "<div>\n",
              "<style scoped>\n",
              "    .dataframe tbody tr th:only-of-type {\n",
              "        vertical-align: middle;\n",
              "    }\n",
              "\n",
              "    .dataframe tbody tr th {\n",
              "        vertical-align: top;\n",
              "    }\n",
              "\n",
              "    .dataframe thead th {\n",
              "        text-align: right;\n",
              "    }\n",
              "</style>\n",
              "<table border=\"1\" class=\"dataframe\">\n",
              "  <thead>\n",
              "    <tr style=\"text-align: right;\">\n",
              "      <th></th>\n",
              "      <th>0.0%</th>\n",
              "      <th>50.0%</th>\n",
              "      <th>60.0%</th>\n",
              "      <th>65.0%</th>\n",
              "      <th>66.0%</th>\n",
              "      <th>67.0%</th>\n",
              "      <th>75.0%</th>\n",
              "      <th>80.0%</th>\n",
              "      <th>84.0%</th>\n",
              "      <th>85.0%</th>\n",
              "      <th>90.0%</th>\n",
              "    </tr>\n",
              "  </thead>\n",
              "  <tbody>\n",
              "    <tr>\n",
              "      <th>Discount Count</th>\n",
              "      <td>94171.000</td>\n",
              "      <td>435.000</td>\n",
              "      <td>1100.0</td>\n",
              "      <td>208.000</td>\n",
              "      <td>304.000</td>\n",
              "      <td>112.000</td>\n",
              "      <td>1618.000</td>\n",
              "      <td>538.000</td>\n",
              "      <td>107.000</td>\n",
              "      <td>134.000</td>\n",
              "      <td>1273.000</td>\n",
              "    </tr>\n",
              "    <tr>\n",
              "      <th>Discount Percentage</th>\n",
              "      <td>94.171</td>\n",
              "      <td>0.435</td>\n",
              "      <td>1.1</td>\n",
              "      <td>0.208</td>\n",
              "      <td>0.304</td>\n",
              "      <td>0.112</td>\n",
              "      <td>1.618</td>\n",
              "      <td>0.538</td>\n",
              "      <td>0.107</td>\n",
              "      <td>0.134</td>\n",
              "      <td>1.273</td>\n",
              "    </tr>\n",
              "  </tbody>\n",
              "</table>\n",
              "</div>"
            ],
            "text/plain": [
              "                          0.0%    50.0%   60.0%    65.0%    66.0%    67.0%   \n",
              "Discount Count       94171.000  435.000  1100.0  208.000  304.000  112.000  \\\n",
              "Discount Percentage     94.171    0.435     1.1    0.208    0.304    0.112   \n",
              "\n",
              "                        75.0%    80.0%    84.0%    85.0%     90.0%  \n",
              "Discount Count       1618.000  538.000  107.000  134.000  1273.000  \n",
              "Discount Percentage     1.618    0.538    0.107    0.134     1.273  "
            ]
          },
          "execution_count": 22,
          "metadata": {},
          "output_type": "execute_result"
        }
      ],
      "source": [
        "discount_count = final_df[\"discount\"].value_counts()\n",
        "discount_perc = final_df[\"discount\"].value_counts(normalize=True) * 100\n",
        "discount_df = pd.DataFrame({'Discount Count': discount_count, 'Discount Percentage': discount_perc})\n",
        "discount_df.index = [f'{round(i, 2)}%' for i in discount_df.index]\n",
        "discount_df.sort_index(ascending=True, inplace=True)\n",
        "discount_df.T"
      ],
      "id": "c7f1ba73-3a00-4f5e-87e6-e070c8b302da"
    },
    {
      "cell_type": "markdown",
      "metadata": {
        "id": "3dded9f3-3282-470e-82f9-0886b2ad5d47"
      },
      "source": [
        "**Boxplot of Final Prices**"
      ],
      "id": "3dded9f3-3282-470e-82f9-0886b2ad5d47"
    },
    {
      "cell_type": "markdown",
      "metadata": {
        "id": "73246ad4-23b1-4654-b8f9-4b4b14abbc78"
      },
      "source": [
        "The Boxplot provides us with a visual summary of the distribution of the final prices in the dataset. It shows the median, lower quartile, upper quartile, and any potential outliers in the data. This helps us to understand the range and spread of the final prices, which can provide insights into pricing strategies or market conditions.\n",
        "\n",
        "It also helps us to identify potential outliers in the data. Those outliers may indicate errors, unusual pricing patterns, or unique market conditions. Identifying these outliers can help you better understand the data and decide how to handle them in further analysis."
      ],
      "id": "73246ad4-23b1-4654-b8f9-4b4b14abbc78"
    },
    {
      "cell_type": "code",
      "execution_count": null,
      "metadata": {
        "id": "84e8f6bd-7430-422d-a6f5-0a40eef2b9e0",
        "outputId": "ac2f8321-b788-4f2d-fe1b-537c3579df43"
      },
      "outputs": [
        {
          "data": {
            "image/png": "[encoded data removed]",
            "text/plain": [
              "<Figure size 432x288 with 1 Axes>"
            ]
          },
          "metadata": {},
          "output_type": "display_data"
        }
      ],
      "source": [
        "# boxplot of final price\n",
        "\n",
        "ax = final_df.boxplot('price_final')\n",
        "\n",
        "ax.set_ylabel('Price')\n",
        "ax.set_title('Box plot of game prices')\n",
        "\n",
        "stats = final_df['price_final'].describe()\n",
        "mean = final_df['price_final'].mean()\n",
        "std_dev = final_df['price_final'].std()\n",
        "\n",
        "# calculate outliers\n",
        "q1 = stats['25%']\n",
        "q3 = stats['75%']\n",
        "iqr = q3 - q1\n",
        "lower_bound = q1 - (1.5 * iqr)\n",
        "upper_bound = q3 + (1.5 * iqr)\n",
        "\n",
        "outliers = final_df[(final_df['price_final'] < lower_bound) | (final_df['price_final'] > upper_bound)]['price_final']\n",
        "num_outliers = outliers.count()\n",
        "\n",
        "# add statistics to the plot\n",
        "ax.text(0.7, 0.85, f\"Mean: {mean:.2f}\\nStd Dev: {std_dev:.2f}\\nMedian: {stats['50%']:.2f}\\nQ1: {stats['25%']:.2f}\\nQ3: {stats['75%']:.2f}\\nOutliers: {num_outliers}\",\n",
        "        transform=ax.transAxes, bbox=dict(facecolor='white', edgecolor='black', alpha=0.9))\n",
        "\n",
        "\n",
        "plt.show()\n"
      ],
      "id": "84e8f6bd-7430-422d-a6f5-0a40eef2b9e0"
    },
    {
      "cell_type": "markdown",
      "metadata": {
        "id": "7356a4f6-703a-4ef6-89ab-2078ea60b12b"
      },
      "source": [
        "The mean (average) of the data is 21.32, which means that the typical value in the dataset is around 21.32.\n",
        "The median (middle value) is 19.99, which suggests that half of the data points are below 19.99 and half are above it. Since the mean and median are close to each other, this implies that the data distribution might be roughly symmetrical.\n",
        "\n",
        "The standard deviation (Std. Dev.) is 16.95, indicating that the data points are spread out over a range of approximately 16.95 units from the mean. A larger standard deviation suggests greater variability in the dataset.\n",
        "\n",
        "The first quartile (Q1) is 7.99, which means that 25% of the data points are below 7.99.\n",
        "The third quartile (Q3) is 29.99, indicating that 75% of the data points are below 29.99.\n",
        "The interquartile range (IQR), which represents the range of the middle 50% of the data, can be calculated as Q3 - Q1 = 29.99 - 7.99 = 22. This suggests that the middle 50% of the data points have a spread of 22 units.\n",
        "\n",
        "There are no outliers in this dataset, which means that all data points fall within a reasonable range and there are no extreme values that could potentially skew the interpretation."
      ],
      "id": "7356a4f6-703a-4ef6-89ab-2078ea60b12b"
    },
    {
      "cell_type": "markdown",
      "metadata": {
        "id": "9535f3f8-a7f5-4a3c-b621-157be1b9de45"
      },
      "source": [
        "**Exploration of game developers**"
      ],
      "id": "9535f3f8-a7f5-4a3c-b621-157be1b9de45"
    },
    {
      "cell_type": "markdown",
      "metadata": {
        "id": "a28df5f0-bcdd-498f-ac5f-bc5d265a1e9d"
      },
      "source": [
        "In this section we explore the top 10 developers (number of games published and rating). It is important to note that developers can match or be different from publishers."
      ],
      "id": "a28df5f0-bcdd-498f-ac5f-bc5d265a1e9d"
    },
    {
      "cell_type": "code",
      "execution_count": null,
      "metadata": {
        "id": "e1dd8251-7e83-4faf-9a67-c6b4d8ca3c99",
        "outputId": "4c1f9515-eb19-4634-9238-303112467fdf"
      },
      "outputs": [
        {
          "data": {
            "text/plain": [
              "developer\n",
              "Valve                         6\n",
              "Bethesda Game Studios         6\n",
              "KOEI TECMO GAMES CO., LTD.    4\n",
              "Spike Chunsoft Co., Ltd.      4\n",
              "CAPCOM Co., Ltd.              4\n",
              "Paradox Development Studio    4\n",
              "Square Enix                   3\n",
              "Obsidian Entertainment        3\n",
              "Treyarch                      3\n",
              "Capcom                        3\n",
              "Name: title, dtype: int64"
            ]
          },
          "metadata": {},
          "output_type": "display_data"
        }
      ],
      "source": [
        "# Count the number of unique games released by each developer\n",
        "developer_counts = final_df.groupby('developer')['title'].nunique()\n",
        "\n",
        "# Sort the developers by the number of unique games in descending order and get the top 10\n",
        "top_10_developers = developer_counts.sort_values(ascending=False).head(10)\n",
        "\n",
        "# Print the top 10 developers\n",
        "print(top_10_developers)"
      ],
      "id": "e1dd8251-7e83-4faf-9a67-c6b4d8ca3c99"
    },
    {
      "cell_type": "code",
      "execution_count": null,
      "metadata": {
        "id": "971ab62e-9e34-4d1f-b4ba-4044d0dedc5c",
        "outputId": "5b3dd673-268d-4944-9b69-a6fd748ae034"
      },
      "outputs": [
        {
          "name": "stdout",
          "output_type": "stream",
          "text": [
            "Number of unique games: 305\n"
          ]
        }
      ],
      "source": [
        "unique_games = final_df['title'].nunique()\n",
        "print(f\"Number of unique games: {unique_games}\")"
      ],
      "id": "971ab62e-9e34-4d1f-b4ba-4044d0dedc5c"
    },
    {
      "cell_type": "code",
      "execution_count": null,
      "metadata": {
        "id": "0d4b22f6-0f3a-444f-b39d-92cb97f1e210",
        "outputId": "6f723bf9-1922-43c2-c810-cfe994323c6d"
      },
      "outputs": [
        {
          "name": "stdout",
          "output_type": "stream",
          "text": [
            "Number of unique developers: 253\n"
          ]
        }
      ],
      "source": [
        "unique_developers = final_df['developer'].nunique()\n",
        "print(f\"Number of unique developers: {unique_developers}\")\n"
      ],
      "id": "0d4b22f6-0f3a-444f-b39d-92cb97f1e210"
    },
    {
      "cell_type": "code",
      "execution_count": null,
      "metadata": {
        "id": "a5d23a1d-3f0a-470f-b422-b3941b1ec1ea",
        "outputId": "a4de817c-056d-423a-cc81-d66eca6e419c"
      },
      "outputs": [
        {
          "name": "stdout",
          "output_type": "stream",
          "text": [
            "developer\n",
            "ConcernedApe       98.0\n",
            "Kristjan Skutta    98.0\n",
            "Ludeon Studios     98.0\n",
            "Mega Crit Games    97.0\n",
            "Team Cherry        97.0\n",
            "Petroglyph         97.0\n",
            "BeamNG             97.0\n",
            "Ninja Kiwi         97.0\n",
            "Nicalis, Inc.      97.0\n",
            "Doborog Games      97.0\n",
            "Name: positive_ratio, dtype: float64\n"
          ]
        }
      ],
      "source": [
        "# Calculate the average positive rating for each developer\n",
        "average_positive_ratings = final_df.groupby('developer')['positive_ratio'].mean()\n",
        "\n",
        "# Sort the developers by the average positive rating in descending order and get the top 10\n",
        "top_10_developers_positive_ratings = average_positive_ratings.sort_values(ascending=False).head(10)\n",
        "\n",
        "# Print the top 10 developers with the best average positive ratings\n",
        "print(top_10_developers_positive_ratings)\n"
      ],
      "id": "a5d23a1d-3f0a-470f-b422-b3941b1ec1ea"
    },
    {
      "cell_type": "markdown",
      "metadata": {
        "id": "bddb1eb4-a0bb-48ac-b375-e05b989d8934"
      },
      "source": [
        "**Exploration of game publishers**"
      ],
      "id": "bddb1eb4-a0bb-48ac-b375-e05b989d8934"
    },
    {
      "cell_type": "markdown",
      "metadata": {
        "id": "0df3b8ef-caa6-4d2a-ad75-5abbacb915b1"
      },
      "source": [
        "Similar to the developers, we also investigate the top 10 game publishers."
      ],
      "id": "0df3b8ef-caa6-4d2a-ad75-5abbacb915b1"
    },
    {
      "cell_type": "code",
      "execution_count": null,
      "metadata": {
        "id": "1314839d-50e2-45e3-9979-e5474232cab6",
        "outputId": "2b1573eb-e808-4c17-d42b-b2d6996a8315"
      },
      "outputs": [
        {
          "name": "stdout",
          "output_type": "stream",
          "text": [
            "publisher\n",
            "Ubisoft                       11\n",
            "Valve                         10\n",
            "Bethesda Softworks            10\n",
            "SEGA                           8\n",
            "Paradox Interactive            8\n",
            "Spike Chunsoft Co., Ltd.       8\n",
            "BANDAI NAMCO Entertainment     6\n",
            "KOEI TECMO GAMES CO., LTD.     6\n",
            "Activision                     5\n",
            "Square Enix                    5\n",
            "Name: title, dtype: int64\n"
          ]
        }
      ],
      "source": [
        "# Count the number of unique games released by each developer\n",
        "publisher_counts = final_df.groupby('publisher')['title'].nunique()\n",
        "\n",
        "# Sort the developers by the number of unique games in descending order and get the top 10\n",
        "top_10_publishers = publisher_counts.sort_values(ascending=False).head(10)\n",
        "\n",
        "# Print the top 10 developers\n",
        "print(top_10_publishers)"
      ],
      "id": "1314839d-50e2-45e3-9979-e5474232cab6"
    },
    {
      "cell_type": "code",
      "execution_count": null,
      "metadata": {
        "id": "f5ada8cb-5147-427c-a818-ef7803f7ac7a",
        "outputId": "6635ec52-85ee-4b54-b21f-c622a92c66e7"
      },
      "outputs": [
        {
          "name": "stdout",
          "output_type": "stream",
          "text": [
            "Number of unique publishers: 198\n"
          ]
        }
      ],
      "source": [
        "unique_publishers = final_df['publisher'].nunique()\n",
        "print(f\"Number of unique publishers: {unique_publishers}\")\n"
      ],
      "id": "f5ada8cb-5147-427c-a818-ef7803f7ac7a"
    },
    {
      "cell_type": "markdown",
      "metadata": {
        "id": "100b0c73-e400-4514-aad2-8ea11c0a96ca"
      },
      "source": [
        "**Relationship between Products Owned and Number of Reviews**"
      ],
      "id": "100b0c73-e400-4514-aad2-8ea11c0a96ca"
    },
    {
      "cell_type": "markdown",
      "metadata": {
        "id": "3707cab3-7aa0-4543-85ac-00daa2cb60c9"
      },
      "source": [
        "Looking at the relationship between products owned and the number of reviews can give insight into user engagement with a product. If a product has a high number of reviews relative to the number of products owned, it suggests that users are more actively engaged with the product and may have strong opinions about it. This also gives an indication about the popularity of a product. If a product has a high number of products owned but a low number of reviews, it may suggest that the product is popular but users are less likely to leave reviews."
      ],
      "id": "3707cab3-7aa0-4543-85ac-00daa2cb60c9"
    },
    {
      "cell_type": "code",
      "execution_count": null,
      "metadata": {
        "id": "e474bf37-5bd2-4460-b303-1799910ac49b",
        "outputId": "8af28ac0-6599-4e65-e5da-f3d865f27f5b"
      },
      "outputs": [
        {
          "data": {
            "image/png": "[encoded data removed]",
            "text/plain": [
              "<Figure size 864x432 with 1 Axes>"
            ]
          },
          "metadata": {},
          "output_type": "display_data"
        },
        {
          "name": "stdout",
          "output_type": "stream",
          "text": [
            "Correlation coefficient between Products Owned and Number of Reviews: 0.32\n"
          ]
        }
      ],
      "source": [
        "plt.figure(figsize=(12, 6))\n",
        "plt.scatter(final_df['products'], final_df['reviews'])\n",
        "plt.xlabel('Products Owned')\n",
        "plt.ylabel('Number of Reviews')\n",
        "plt.title('Relationship between Products Owned and Number of Reviews')\n",
        "plt.show()\n",
        "\n",
        "correlation = final_df['products'].corr(final_df['reviews'])\n",
        "print(f\"Correlation coefficient between Products Owned and Number of Reviews: {correlation:.2f}\")"
      ],
      "id": "e474bf37-5bd2-4460-b303-1799910ac49b"
    },
    {
      "cell_type": "markdown",
      "metadata": {
        "id": "4ce8614b-73bf-4d39-b05c-c132a032608c"
      },
      "source": [
        "The plot shows that users are more likely to leave a review when they own fewer products.\n",
        "\n",
        "There could be a few reasons for this:\n",
        "\n",
        "- Selection bias: People who own fewer products may be more passionate or invested in those products and therefore more likely to leave a review. They may have had a stronger emotional connection to the product or found it to be more impactful on their lives.\n",
        "- Time constraints: People who own more products may have less time to leave a review for each product they own, whereas those who own fewer products may have more time to leave reviews.\n",
        "- Product quality: People who own fewer products may be more discerning in their purchases and therefore more likely to leave a review to share their experience with others. They may also have higher expectations for the products they purchase, making them more likely to leave a review if the product meets or exceeds those expectations.\n",
        "- Product type: It's possible that certain types of products, such as luxury items or niche products, are more likely to be reviewed by people who own fewer products. These products may be more novel or unique, leading to a higher likelihood of leaving a review."
      ],
      "id": "4ce8614b-73bf-4d39-b05c-c132a032608c"
    },
    {
      "cell_type": "markdown",
      "metadata": {
        "id": "a04b4d6e-d682-41ef-ba9d-90d9a67ca5a7"
      },
      "source": [
        "**Compatibility of Windows, Mac and Linux**"
      ],
      "id": "a04b4d6e-d682-41ef-ba9d-90d9a67ca5a7"
    },
    {
      "cell_type": "markdown",
      "metadata": {
        "id": "5a90ce05-907b-4a52-8ca8-f522a0be051a"
      },
      "source": [
        "Analyzing the compatibility between different operating systems helps us to understand the market distribution of each platform. Each operating system has a different market share, and understanding the distribution can inform developers about potential target audiences and which platforms are more popular among users. Different user groups may have preferences for specific platforms due to factors such as available software, hardware compatibility, or personal taste. Analyzing compatibility can also help to identify patterns or trends in user preferences and behavior across different platforms. In addition, compatibility data can provide insights into which platforms have higher demand or user base, helping developers make informed decisions."
      ],
      "id": "5a90ce05-907b-4a52-8ca8-f522a0be051a"
    },
    {
      "cell_type": "code",
      "execution_count": null,
      "metadata": {
        "id": "3e7dbeb9-6685-4bc3-b498-f8e962abab3a",
        "outputId": "072d8acf-4340-4e29-f1f3-90a9c42b0014"
      },
      "outputs": [
        {
          "data": {
            "image/png": "[encoded data removed]",
            "text/plain": [
              "<Figure size 432x288 with 1 Axes>"
            ]
          },
          "metadata": {},
          "output_type": "display_data"
        }
      ],
      "source": [
        "# Calculate the number of games supporting each combination of platforms (windows, mac, linux)\n",
        "\n",
        "win_only = ((final_df['win'] == True) & (final_df['mac'] == False) & (final_df['linux'] == False)).sum()\n",
        "win_mac = ((final_df['win'] == True) & (final_df['mac'] == True) & (final_df['linux'] == False)).sum()\n",
        "win_linux = ((final_df['win'] == True) & (final_df['mac'] == False) & (final_df['linux'] == True)).sum()\n",
        "win_mac_linux = ((final_df['win'] == True) & (final_df['mac'] == True) & (final_df['linux'] == True)).sum()\n",
        "mac_only = ((final_df['win'] == False) & (final_df['mac'] == True) & (final_df['linux'] == False)).sum()\n",
        "linux_only = ((final_df['win'] == False) & (final_df['mac'] == False) & (final_df['linux'] == True)).sum()\n",
        "\n",
        "# Platform combinations and their counts\n",
        "\n",
        "platform_combinations = {\n",
        "    \"Windows Only\": win_only,\n",
        "    \"Windows & Mac\": win_mac,\n",
        "    \"Windows & Linux\": win_linux,\n",
        "    \"Windows, Mac & Linux\": win_mac_linux,\n",
        "    \"Mac Only\": mac_only,\n",
        "    \"Linux Only\": linux_only,\n",
        "}\n",
        "\n",
        "fig, ax = plt.subplots()\n",
        "ax.bar(platform_combinations.keys(), platform_combinations.values())\n",
        "\n",
        "# Add the counts above the bars\n",
        "for i, (combination, count) in enumerate(platform_combinations.items()):\n",
        "    ax.text(i, count + 10, f\"{count}\", ha='center', va='bottom')\n",
        "\n",
        "ax.set_title(\"Number of Games Supporting Platform Combinations\")\n",
        "ax.set_xlabel(\"Platform Combinations\")\n",
        "ax.set_ylabel(\"Number of Games\")\n",
        "\n",
        "plt.xticks(rotation=45, ha='right')\n",
        "plt.tight_layout()\n",
        "plt.show()"
      ],
      "id": "3e7dbeb9-6685-4bc3-b498-f8e962abab3a"
    },
    {
      "cell_type": "markdown",
      "metadata": {
        "id": "f85b4558-ab96-4f70-bd20-fba2156cd420"
      },
      "source": [
        "Windows definitly dominates, when it comes to the number of games it supports. Most developers only develop for windows. However, there are still many games which run on windows, mac and linux. These results tell us that we should consider a users operating system, when recommending a game based on a user_id."
      ],
      "id": "f85b4558-ab96-4f70-bd20-fba2156cd420"
    },
    {
      "cell_type": "markdown",
      "metadata": {
        "id": "08814b95-2005-4c07-9be3-0878c779707e"
      },
      "source": [
        "**Trends in game releases, user reviews, and ratings over time**"
      ],
      "id": "08814b95-2005-4c07-9be3-0878c779707e"
    },
    {
      "cell_type": "markdown",
      "metadata": {
        "id": "de40dada-9eb3-43c6-aada-e96d971ef66d"
      },
      "source": [
        "Analyzing these trends helps us to identify patterns in the gaming industry, such as seasonal variations in game releases and user reviews. Understanding these patterns can help stakeholders make informed decisions and tailor their strategies accordingly. Examining user ratings over time can help us to identify any patterns or changes in user sentiment which is important to understand if the general perception of a product or service is improving, declining, or remaining stable.\n",
        "\n",
        "Moreover, looking at the user reviews and ratings over time can provide us with insights into how user preferences change and evolve. This information can be valuable for game developers and publishers to adjust their products and marketing efforts to meet user demands and expectations better."
      ],
      "id": "de40dada-9eb3-43c6-aada-e96d971ef66d"
    },
    {
      "cell_type": "code",
      "execution_count": null,
      "metadata": {
        "id": "f37a004d-58cf-4524-90bc-a01a8abca02f",
        "outputId": "e17bf079-2adb-4c47-9b60-70f26d0f4d72"
      },
      "outputs": [
        {
          "data": {
            "image/png": "[encoded data removed]",
            "text/plain": [
              "<Figure size 432x288 with 2 Axes>"
            ]
          },
          "metadata": {},
          "output_type": "display_data"
        },
        {
          "data": {
            "image/png": "[encoded data removed]",
            "text/plain": [
              "<Figure size 432x288 with 1 Axes>"
            ]
          },
          "metadata": {},
          "output_type": "display_data"
        }
      ],
      "source": [
        "# Trends in game releases, user reviews, and ratings over time\n",
        "\n",
        "final_df['date_release'] = pd.to_datetime(final_df['date_release'])\n",
        "final_df['date'] = pd.to_datetime(final_df['date'])\n",
        "\n",
        "game_releases_by_year = final_df.groupby(final_df['date_release'].dt.year).size()\n",
        "user_reviews_by_year = final_df.groupby(final_df['date'].dt.year)['user_reviews'].sum()\n",
        "avg_ratings_by_year = final_df.groupby(final_df['date'].dt.year)['positive_ratio'].mean()\n",
        "\n",
        "fig, ax1 = plt.subplots()\n",
        "\n",
        "ax1.set_xlabel('Year')\n",
        "ax1.set_ylabel('Game Releases', color='tab:blue')\n",
        "ax1.plot(game_releases_by_year.index, game_releases_by_year, color='tab:blue')\n",
        "ax1.tick_params(axis='y', labelcolor='tab:blue')\n",
        "\n",
        "ax2 = ax1.twinx()\n",
        "ax2.set_ylabel('User Reviews', color='tab:red')\n",
        "ax2.plot(user_reviews_by_year.index, user_reviews_by_year, color='tab:red')\n",
        "ax2.tick_params(axis='y', labelcolor='tab:red')\n",
        "\n",
        "fig.tight_layout()\n",
        "plt.title('Game Releases and User Reviews Over Time')\n",
        "plt.show()\n",
        "\n",
        "plt.plot(avg_ratings_by_year.index, avg_ratings_by_year)\n",
        "plt.xlabel('Year')\n",
        "plt.ylabel('Average Ratings')\n",
        "plt.title('Average Ratings Over Time')\n",
        "plt.show()"
      ],
      "id": "f37a004d-58cf-4524-90bc-a01a8abca02f"
    },
    {
      "cell_type": "markdown",
      "metadata": {
        "id": "2ee96e42-b9b8-4917-a667-b547ea16740b"
      },
      "source": [
        "On average, the number of game releases has increased from 2006 to 2022. There where several drop in 2013, 2018 and 2020. The last drop is most likely due to the Covid-19 pandemic. User started reviewing games since 2010. The number of reviews has strongly increased since then.\n",
        "\n",
        "The average ratings over time have decreased from 93 in the year 2010 to 84 in 2018. Later it increased again to a rating of 84 in the year 2022. \n",
        "\n",
        "These results could be due to the following reasons:\n",
        "\n",
        "Game Releases: The plot shows an increase in the number of game releases from 2006 to 2022. \n",
        "This could be attributed to several factors such as:\n",
        "- Growing popularity of gaming: As gaming continues to gain popularity as a form of entertainment, more game developers are entering the market, leading to an increase in the number of game releases.\n",
        "- Ease of developing and distributing games: With the rise of digital distribution platforms, it has become easier for game developers to develop and distribute games, which has led to an increase in the number of game releases.\n",
        "- Advances in technology: The increasing availability of advanced game engines, tools, and resources has made it easier for game developers to create and release games.\n",
        "\n",
        "User Reviews: The plot shows an increase in the number of user reviews since 2010. \n",
        "This could be attributed to several factors such as:\n",
        "- Rise of online platforms: The rise of online platforms such as Steam, GOG, and Itch.io has made it easier for users to share their experiences and opinions on games.\n",
        "- Social media: The increasing use of social media has made it easier for users to connect with each other and share their experiences with games, leading to an increase in user reviews.\n",
        "- Importance of user feedback: Game developers have increasingly recognized the importance of user feedback in improving the quality of games, leading to an increase in the number of user reviews.\n",
        "\n",
        "Average Ratings: The plot shows a decrease in average ratings from 2010 to 2018, followed by an increase in ratings from 2018 to 2022. \n",
        "This could be attributed to several factors such as:\n",
        "- Increased competition: With more games being released every year, there is increased competition among game developers to produce high-quality games, which could have led to a decline in average ratings from 2010 to 2018.\n",
        "- Changing user preferences: User preferences for games may have changed over time, leading to a decline in ratings for certain types of games.\n",
        "- Increased focus on quality: Game developers may have focused more on improving the quality of their games in recent years, leading to an increase in average ratings from 2018 to 2022."
      ],
      "id": "2ee96e42-b9b8-4917-a667-b547ea16740b"
    },
    {
      "cell_type": "markdown",
      "metadata": {
        "id": "354ce994-ceaa-4f4a-bd61-2e8ab681bb96"
      },
      "source": [
        "## Custom Pipeline Class Construction\n",
        "\n",
        "Below we construct a group of classes which can be used in the ML Pipelines we build. They are built to be flexible and allow for experimentation with various model configurations. Some have been built and tested in the notebook creation process, but were utlimately scrapped so as to not clutter the notebook with too much exploration. We kept them in the notebook for flexibility in future efforts. Besides, we have computing power issues which prevent us from running everything in the same notebook. Unfortunately our ambitions to build models often exceeded our effective capabilities as far as hardware goes.\n",
        "\n",
        "Nevertheless, we build and experiment with some pipelines below."
      ],
      "id": "354ce994-ceaa-4f4a-bd61-2e8ab681bb96"
    },
    {
      "cell_type": "markdown",
      "metadata": {
        "id": "672a8da8-6f62-4ce4-820b-69abe2e5c3d5"
      },
      "source": [
        "### Feature Engineering\n",
        "\n",
        "#### Elapsed Time\n",
        "Here we construct the custom pipeline class ElapsedTimeTransformer, which creates a new feature called _elapsed_time_. This is the amount of time which has passed since a product's release date and the user purchasing it. This could be a proxy for how \"into a product\" a given user could be. The class takes the following arguments:\n",
        "- **add_elapsed**: Receives a boolean to determine whether to create the new column. Deafult is True\n",
        "- **drop_features**: Receives a boolean to determine whether to drop _date_ and _date_release_ columns after having created _add_elapsed_. These variables are not particularly useful for the regression so it may be worthwhile to remove them from the DataFrame. Default is True."
      ],
      "id": "672a8da8-6f62-4ce4-820b-69abe2e5c3d5"
    },
    {
      "cell_type": "code",
      "execution_count": 79,
      "metadata": {
        "id": "75577bf5-44e7-47e9-be1c-896e4ce73002"
      },
      "outputs": [],
      "source": [
        "class ElapsedTimeTransformer(BaseEstimator, TransformerMixin):\n",
        "    def __init__(self, add_elapsed=True, drop_features=True):\n",
        "        self.add_elapsed = add_elapsed\n",
        "        self.drop_features = drop_features\n",
        "\n",
        "    def fit(self, X, y=None):\n",
        "        return self\n",
        "\n",
        "    def transform(self, X, y=None):\n",
        "        if self.add_elapsed:\n",
        "            X = X.copy()\n",
        "            elapsed_time = (pd.to_datetime(X[\"date\"]) - pd.to_datetime(X[\"date_release\"])).dt.days\n",
        "            X = X.assign(elapsed_time=elapsed_time)\n",
        "\n",
        "        if self.drop_features:\n",
        "            X = X.drop(['date', 'date_release'], axis=1)\n",
        "\n",
        "        return X"
      ],
      "id": "75577bf5-44e7-47e9-be1c-896e4ce73002"
    },
    {
      "cell_type": "markdown",
      "metadata": {
        "id": "734763fc-374c-494e-87a5-e210ec32dc8d"
      },
      "source": [
        "#### Ordinally Encoded Steam Rating\n",
        "Here we construct the custom pipeline class SteamRatingEncoder. Its purpose is to transform the Steam categorical ratings in the _rating_ column (whose meanings are better explained in a_csv_creation.ipynb) into an ordinally encoded feature. However, given that the categories follow a diverging pattern (where \"Mixed\" is a middle ground and games can have varying degrees of Positive or Negative feedback), we encode them as such. We give users the possibility of encoding them with a standard scale that goes from -4 to 4, or a slightly more weighted one which attempts to numerically translate the large difference between being simply \"Mostly Positive\" (or Negative) and being \"Positive\" (or Negative). The class has the following arguments:\n",
        "\n",
        "- **drop_rating**: Receives a boolean to determine whether to drop the _rating_ categorical column. Deafult is True.\n",
        "- **standard_diverging_scale**: Receives a boolean to determine whether to use the standard scale instead of the weighted one. Default is True."
      ],
      "id": "734763fc-374c-494e-87a5-e210ec32dc8d"
    },
    {
      "cell_type": "code",
      "execution_count": 80,
      "metadata": {
        "id": "d3eab8e0-ef73-42c8-a663-fa6dcde1e373"
      },
      "outputs": [],
      "source": [
        "class SteamRatingEncoder(BaseEstimator, TransformerMixin):\n",
        "    \n",
        "    def __init__(self, drop_rating=True, standard_diverging_scale=True):\n",
        "        \n",
        "        self.drop_rating = drop_rating\n",
        "        self.standard_diverging_scale = standard_diverging_scale\n",
        "        \n",
        "        if standard_diverging_scale:\n",
        "            self.rating_dict = {\n",
        "                \"Overwhelmingly Positive\": 4,\n",
        "                \"Very Positive\": 3,\n",
        "                \"Positive\": 2,\n",
        "                \"Mostly Positive\": 1,\n",
        "                \"Mixed\": 0,\n",
        "                \"Mostly Negative\": -1,\n",
        "                \"Negative\": -2,\n",
        "                \"Very Negative\": -3,\n",
        "                \"Overwhelmingly Negative\": -4\n",
        "            }\n",
        "        else:\n",
        "            self.rating_dict = {\n",
        "                \"Overwhelmingly Positive\": 9,\n",
        "                \"Very Positive\": 8,\n",
        "                \"Positive\": 7,\n",
        "                \"Mostly Positive\": 4,\n",
        "                \"Mixed\": 0,\n",
        "                \"Mostly Negative\": -4,\n",
        "                \"Negative\": -7,\n",
        "                \"Very Negative\": -8,\n",
        "                \"Overwhelmingly Negative\": -9\n",
        "            }\n",
        "            \n",
        "        self.drop_rating = drop_rating\n",
        "\n",
        "    def fit(self, X, y=None):\n",
        "        return self\n",
        "\n",
        "    def transform(self, X, y=None):\n",
        "        X = X.copy()\n",
        "        X['rating_encoded'] = X['rating'].map(self.rating_dict)\n",
        "        if self.drop_rating:\n",
        "            X = X.drop(['rating'], axis=1)\n",
        "        return X"
      ],
      "id": "d3eab8e0-ef73-42c8-a663-fa6dcde1e373"
    },
    {
      "cell_type": "markdown",
      "metadata": {
        "id": "f87f33bc-3381-49de-925b-d2aad3058f69"
      },
      "source": [
        "#### Tendency to Review\n",
        "Here we construct the custom pipeline class TendencyToReview. Its purpose is to create a new feature _tendency_to_review_ which is the ratio between reviews by a user and number of products. It allows us to gauge how often a user leaves reviews. People tend to rarely leave reviews, as shown in the exploratory data analysis above. Consequently, the class standardises the resulting data. The arguments are the following:\n",
        "- **drop_columns**: Receives a boolean to determine whether to drop _products_ column. Deafult is True.\n",
        "- **standardize**: Receives a boolean to determine whether to standarsize the resulting data or not. Default is True."
      ],
      "id": "f87f33bc-3381-49de-925b-d2aad3058f69"
    },
    {
      "cell_type": "code",
      "execution_count": 81,
      "metadata": {
        "id": "80603657-397a-4c4d-b664-087fd2953251"
      },
      "outputs": [],
      "source": [
        "class TendencyToReview(BaseEstimator, TransformerMixin):\n",
        "    \n",
        "    def __init__(self, drop_words=True, standardize=True):\n",
        "        \n",
        "        self.drop_words = drop_words\n",
        "        self.standardize = standardize\n",
        "\n",
        "    def fit(self, X, y=None):\n",
        "        return self\n",
        "\n",
        "    def transform(self, X, y=None):\n",
        "        X = X.copy()\n",
        "        X[\"tendency_to_review\"] = (X[\"reviews\"]) / (X[\"products\"])\n",
        "        if self.drop_words:\n",
        "            X = X.drop(\"products\", axis=1)\n",
        "        if self.standardize:\n",
        "            scaler = MinMaxScaler()\n",
        "            X[\"tendency_to_review\"] = scaler.fit_transform(X[[\"tendency_to_review\"]])\n",
        "        return X"
      ],
      "id": "80603657-397a-4c4d-b664-087fd2953251"
    },
    {
      "cell_type": "markdown",
      "metadata": {
        "id": "0dfb5a6f-31d0-4696-91c5-e6c04a9de201"
      },
      "source": [
        "#### Developer and Distributor Metrics\n",
        "Here we construct the custom pipeline class DevDisTransformer. Depending on the arguments which are passed to it, it can create up to three new features. It utilizes target encoding on both the developer and distributor columns and has gives the users the possibility to also create an interaction feature between these two variables. The idea is that there may be developers which tend to put out better games than others, or distributors which tend to pick up better games than others. Sometimes, it is the collaboration between a particular developer and distributor which creates true \"videogaming gold\". Consequently, we give the possibility of creating an interaction term. The class' arguments are the following:\n",
        "- **y**: Receives the y values corresponding to the dataset being transformed. Needed for Target Encoding.\n",
        "- **encode_dev**: Receives a boolean to determine whether to target encode the _developer_ column. Deafult is True.\n",
        "- **encode_dis**: Receives a boolean to determine whether to target encode the _distributor_ column. Deafult is True.\n",
        "- **drop_cols**: Receives a boolean to determine whether to drop the _developer_ and _distributor_ columns after the transformation. Default is True.\n",
        "- **interaction**: Receives a boolean to determine whether to create interaction term or not. Default is True."
      ],
      "id": "0dfb5a6f-31d0-4696-91c5-e6c04a9de201"
    },
    {
      "cell_type": "code",
      "execution_count": 82,
      "metadata": {
        "id": "f6a182e5-16af-4581-a617-97ce0146fe9f"
      },
      "outputs": [],
      "source": [
        "class TargetEncoderTransformer(BaseEstimator, TransformerMixin):\n",
        "    def __init__(self, y, encode_dev=True, encode_pub=True, drop_cols=True, interaction=True):\n",
        "        self.encode_dev = encode_dev\n",
        "        self.encode_pub = encode_pub\n",
        "        self.drop_cols = drop_cols\n",
        "        self.interaction = interaction\n",
        "        self.y = y\n",
        "        self.encoder_dev = TargetEncoder()\n",
        "        self.encoder_pub = TargetEncoder()\n",
        "\n",
        "    def fit(self, X, y=None):\n",
        "        if self.encode_dev:\n",
        "            self.encoder_dev.fit(X_train[\"developer\"], self.y)\n",
        "        if self.encode_pub:\n",
        "            self.encoder_pub.fit(X_train[\"publisher\"], self.y)\n",
        "        return self\n",
        "\n",
        "    def transform(self, X, y=None):\n",
        "        X = X.copy()\n",
        "        if self.encode_dev:\n",
        "            X[\"targ_encode_dev\"] = self.encoder_dev.transform(X[\"developer\"])\n",
        "        if self.encode_pub:\n",
        "            X[\"targ_encode_pub\"] = self.encoder_pub.transform(X[\"publisher\"])\n",
        "        if self.interaction:\n",
        "            X[\"dev_pub_interaction\"] = X[\"targ_encode_dev\"] * X[\"targ_encode_pub\"]\n",
        "        if self.drop_cols:\n",
        "            X.drop(columns=[\"developer\", \"publisher\"], inplace=True)\n",
        "        return X"
      ],
      "id": "f6a182e5-16af-4581-a617-97ce0146fe9f"
    },
    {
      "cell_type": "markdown",
      "metadata": {
        "id": "d91deeae-b4b1-4228-980f-bd0388e0573f"
      },
      "source": [
        "#### Genre Dummy Interactions\n",
        "\n",
        "Here we construct the custom pipeline class InteractionsTransformer. When called, it finds the maximum number of genre dummies which are positive across all rows. Based on what it finds, it calls a PolynomialFeatures with the approriate degree to capture every single interaction without making the features overly complex (e.g. by setting a higher degree than necessary to capture all interactions). The PolynomialFeatures only returns the interaction terms (no quadratic terms) and adds them to the DataFrame. This can be used for both the genre dummies and the OS dummies. The argument is only one:\n",
        "- **columns:** Receives the columns with dummies. If not specified, the list of genres in our dataset is used."
      ],
      "id": "d91deeae-b4b1-4228-980f-bd0388e0573f"
    },
    {
      "cell_type": "code",
      "execution_count": 83,
      "metadata": {
        "id": "45d2dc04-d0f9-42a5-9a98-c1a10844828a"
      },
      "outputs": [],
      "source": [
        "class InteractionsTransformer(BaseEstimator, TransformerMixin):\n",
        "    \n",
        "    def __init__(self, columns=None):\n",
        "        if columns is None:\n",
        "            columns = ['Action', 'Adventure', 'Animation & Modeling', 'Casual',\n",
        "                       'Design & Illustration', 'Early Access', 'Free to Play', 'Gore',\n",
        "                       'Indie', 'Massively Multiplayer', 'Nudity', 'RPG', 'Racing',\n",
        "                       'Sexual Content', 'Simulation', 'Sports', 'Strategy',\n",
        "                       'Utilities', 'Violent', 'Web Publishing']\n",
        "        self.columns = columns\n",
        "    \n",
        "    def fit(self, X, y=None):\n",
        "        # Extract the relevant columns and find the maximum number of positive dummies\n",
        "        X_cols = X.loc[:, self.columns]\n",
        "        max_positives = X_cols.sum(axis=1).max()\n",
        "        \n",
        "        # Set the degree of PolynomialFeatures to the maximum number of positive dummies\n",
        "        self.poly = PolynomialFeatures(interaction_only=True, degree=max_positives)\n",
        "        \n",
        "        # Fit the PolynomialFeatures transformer\n",
        "        self.poly.fit(X_cols)\n",
        "        \n",
        "        return self\n",
        "    \n",
        "    def transform(self, X):\n",
        "        # Apply the PolynomialFeatures transformer to the relevant columns\n",
        "        X_cols = X.loc[:, self.columns]\n",
        "        X_poly_cols = self.poly.transform(X_cols)\n",
        "        \n",
        "        # Concatenate the transformed features with the original input data\n",
        "        X_poly = np.concatenate([X.drop(columns=self.columns).values, X_poly_cols], axis=1)\n",
        "        \n",
        "        return X_poly"
      ],
      "id": "45d2dc04-d0f9-42a5-9a98-c1a10844828a"
    },
    {
      "cell_type": "markdown",
      "metadata": {
        "id": "eaba6398-038e-4625-9b73-58613e8d74d2"
      },
      "source": [
        "#### Owners Transformer\n",
        "\n",
        "Here we construct the custom pipeline class OwnersTransformer. When called, it ordinally encodes the _owners_ column, which contains the range of owners for a given game in string format. We do not run standard ordinal encoding due to some categories having far too few datapoints. Instead, we encode according to order of magnitude of users (e.g. 0-100 users is one category, 100-1000 another, and so on). We give the possibility of creating another feature which interacts the ordinally encoded user count with the _Massively Multiplayer_ dummy. The idea is that games which rely on user interaction as a key mechanic may be more likely to receive better ratings. The class receives the following argumnets: \n",
        "- **inter_term:** Receives a boolean to determine whether to create the interaction term. True by default.\n",
        "- **owner_drop:** Receives a boolean to determine whether to drop the _owners_ column after creating the new features. True by default."
      ],
      "id": "eaba6398-038e-4625-9b73-58613e8d74d2"
    },
    {
      "cell_type": "code",
      "execution_count": 84,
      "metadata": {
        "id": "5172c51a-2a7d-4f80-89f9-0282cb4ed9de"
      },
      "outputs": [],
      "source": [
        "class OwnersTransformer(BaseEstimator, TransformerMixin):\n",
        "    \n",
        "    def __init__(self, inter_term=True, owner_drop=True):\n",
        "        self.inter_term = inter_term\n",
        "        self.owner_drop = owner_drop\n",
        "        self.ordinal_encode_dict = {\n",
        "            '0-20': 0,\n",
        "            '20-50': 0,\n",
        "            '50-100': 0,\n",
        "            '100-200': 1,\n",
        "            '200-500': 1,\n",
        "            '500-1000': 1,\n",
        "            '1000-2000': 2,\n",
        "            '2000-5000': 2,\n",
        "            '5000-10000': 2,\n",
        "            '10000-20000': 3,\n",
        "            '20000-50000': 3,\n",
        "            '50000-100000': 3,\n",
        "            '100000-200000': 4\n",
        "        }\n",
        "        \n",
        "    def fit(self, X, y=None):\n",
        "        return self\n",
        "    \n",
        "    def transform(self, X):\n",
        "        # Ordinal encoding of owners column\n",
        "        X[\"encoded_owners\"] = X[\"owners\"].map(self.ordinal_encode_dict)\n",
        "\n",
        "        # Interaction term between encoded_owners and Massive Multiplayer column\n",
        "        if self.inter_term:\n",
        "            X[\"owner_multiplayer_int\"] = X[\"encoded_owners\"] * X[\"Massively Multiplayer\"]\n",
        "\n",
        "        # Drop owners column\n",
        "        if self.owner_drop:\n",
        "            X = X.drop(\"owners\", axis=1)\n",
        "\n",
        "        return X"
      ],
      "id": "5172c51a-2a7d-4f80-89f9-0282cb4ed9de"
    },
    {
      "cell_type": "markdown",
      "metadata": {
        "id": "653f488f-2e94-4835-926b-30643239a485"
      },
      "source": [
        "### Feature Transformers"
      ],
      "id": "653f488f-2e94-4835-926b-30643239a485"
    },
    {
      "cell_type": "markdown",
      "metadata": {
        "id": "f2be73d0-d998-4c55-9806-ff5b92207d6f"
      },
      "source": [
        "#### Dropping Columns\n",
        "Here we construct the custom pipeline class DropColumns. It receives a list of strings and drops from the DataFrame any column whose name is in the list. This class only receives one argument:\n",
        "- **drop_columns**: Receives a list of strings telling the function which columns to drop. Default is None."
      ],
      "id": "f2be73d0-d998-4c55-9806-ff5b92207d6f"
    },
    {
      "cell_type": "code",
      "execution_count": 85,
      "metadata": {
        "id": "33136849-64d4-4092-aab4-6e3c9ab3b914"
      },
      "outputs": [],
      "source": [
        "class DropColumns(BaseEstimator, TransformerMixin):\n",
        "    \n",
        "    def __init__(self, drop_columns=None):\n",
        "        self.drop_columns = drop_columns\n",
        "        \n",
        "    def fit(self, X, y=None):\n",
        "        return self\n",
        "    \n",
        "    def transform(self, X, y=None):\n",
        "        if self.drop_columns:\n",
        "            X = X.drop(columns=self.drop_columns)\n",
        "        return X"
      ],
      "id": "33136849-64d4-4092-aab4-6e3c9ab3b914"
    },
    {
      "cell_type": "markdown",
      "metadata": {
        "id": "1d304c4f-773c-4514-8053-4824837c31e5"
      },
      "source": [
        "## Model Construction\n",
        "\n",
        "In this section we construct and train three distinct types of model which attempt to predict whether a certain user is likely to enjoy a game or not:\n",
        "- **Model 1:** A content-based recommender system through TruncatedSVD algorithm. The output of this model could be used for predictive purposes, but will also be employed as a feature when training other models.\n",
        "- **Model 2:** A logistic regression model capable of predicting whether an individual will enjoy a certain game or not. From this model we will also extract predictions concerning the probability that a given user will enjoy the game.\n",
        "- **Model 3:** We attempt to build a better model using bagging and boosting techniques such as XGBoost.\n",
        "\n",
        "For each of these models, we explore multiple different configurations and optimize for hyperparameters. Having split the data in training and validation sets, we use cross-validation techniques to identify the optimal model configuration based on the perfomance on iteratively and arbitrarily selected test sets. We further utilize ensemble methods in order to find the best possible model.\n",
        "\n",
        "Having selected the optimal configuration for all models, we compare their performances on the validation set and elect the optimal approach to predicting user appreciation of games."
      ],
      "id": "1d304c4f-773c-4514-8053-4824837c31e5"
    },
    {
      "cell_type": "markdown",
      "metadata": {
        "id": "4a6e1ba7-10c3-4b8b-a2f3-bdd3e485d013"
      },
      "source": [
        "### Train-Validation Split\n",
        "\n",
        "Ahead of the models' creation, we split the data into train and validation sets with validation at 20% of the set."
      ],
      "id": "4a6e1ba7-10c3-4b8b-a2f3-bdd3e485d013"
    },
    {
      "cell_type": "code",
      "execution_count": 127,
      "metadata": {
        "id": "a90ba16d-838d-4bc9-ad7e-e7990de7718a"
      },
      "outputs": [],
      "source": [
        "# Split final_df into X and y\n",
        "X_var = final_df.drop('y', axis=1)\n",
        "y_var = final_df['y']\n",
        "\n",
        "# Split X and y into training and testing sets\n",
        "X_train, X_val, y_train, y_val = train_test_split(X_var, y_var, test_size=0.2, random_state=70)"
      ],
      "id": "a90ba16d-838d-4bc9-ad7e-e7990de7718a"
    },
    {
      "cell_type": "markdown",
      "metadata": {
        "id": "af67657d-b332-48e4-9a31-47797d2bf712"
      },
      "source": [
        "### Model 1: Content Similarity Score\n",
        "\n",
        "This model makes use of the of the textual_df data created in the [textual_df_prep.ipynb](\"appendix_notebooks/tetxual_df_prep.ipynb\"), please refer to it for a more in-depth understanding of how the DataFrame is built. As is shown below, its index is the _app_id_ to identify the game and it contains a single column: _full_text_. This column contains a combination of all textual data available for each game. This is comprised of the _tags_, _steamspy_tags_, _description_, and _genres_ columns. In the construction of the DataFrame in the _textual_df_prep.ipynb_, we remove stopwords and homegenize the manner in which they are written across columns. \n",
        "\n",
        "The textual_df_prep.ipynb also contains an exploratory analysis of this textual data which is not contained in this notebook for conciseness."
      ],
      "id": "af67657d-b332-48e4-9a31-47797d2bf712"
    },
    {
      "cell_type": "markdown",
      "metadata": {
        "id": "b601174c-5855-4cfa-b61c-067da3941b8a"
      },
      "source": [
        "#### SVD-Based Game Similarity\n",
        "\n",
        "In order to identify the knee point, we use the [_kneed_](https://pypi.org/project/kneed/) library, which is based on the [_kneedle algorithm_](https://raghavan.usc.edu//papers/kneedle-simplex11.pdf) developed by Ville Satopaa, Jeannie Albrecht, David Irwin, and Barath Raghavan. We want to explain a minimum of 90% of variance, so we optimize for an elbow past that point.\n",
        "\n",
        "The code below utilizes a Pipeline to Vectorize the text using TF (as opposed to TF-IDF). **The reason for this is explained in the other Notebook, FRANK COULD YOU TYPE THIS EXPLANATION UP?**. The Pipeline's following step is running TruncatedSVD with 300 components."
      ],
      "id": "b601174c-5855-4cfa-b61c-067da3941b8a"
    },
    {
      "cell_type": "code",
      "execution_count": null,
      "metadata": {
        "id": "e0a666e7-80e6-4224-beae-76bc80579c24"
      },
      "outputs": [],
      "source": [
        "# Create the pipeline\n",
        "SVD_pipeline = Pipeline([\n",
        "    ('tfidf', TfidfVectorizer(stop_words='english', strip_accents='ascii', use_idf=False)),\n",
        "    ('svd', TruncatedSVD(n_components=300, random_state=70))\n",
        "])\n",
        "\n",
        "# Fit the pipeline on the full text data\n",
        "SVD_pipeline.fit(textual_df['full_text'])\n",
        "\n",
        "# Find Cumulative Explained Variance Percentage\n",
        "cum_variance = np.cumsum(SVD_pipeline.named_steps['svd'].explained_variance_ratio_)\n",
        "\n",
        "# Identify First Instance of Expl. Variance Above 90%\n",
        "ninety_threshold = np.argmax(cum_variance >= 0.9) \n",
        "\n",
        "# Obtain Explained Variance\n",
        "expl_variance = SVD_pipeline.named_steps['svd'].explained_variance_"
      ],
      "id": "e0a666e7-80e6-4224-beae-76bc80579c24"
    },
    {
      "cell_type": "markdown",
      "metadata": {
        "id": "53f7b9c9-acec-40c4-b3be-a33f8fc95b64"
      },
      "source": [
        "Having applied the Pipeline, we find the 90% threshold and identify the elbow point after it. We plot the Scree Plot."
      ],
      "id": "53f7b9c9-acec-40c4-b3be-a33f8fc95b64"
    },
    {
      "cell_type": "code",
      "execution_count": null,
      "metadata": {
        "id": "b9a409ac-228b-4c07-bb91-5230fb6164d0",
        "outputId": "6674c9c6-2939-4b6b-f87c-58122b631ca7"
      },
      "outputs": [
        {
          "data": {
            "text/plain": [
              "[<matplotlib.lines.Line2D at 0x14fb7afa0>]"
            ]
          },
          "execution_count": 91,
          "metadata": {},
          "output_type": "execute_result"
        },
        {
          "data": {
            "image/png": "[encoded data removed]",
            "text/plain": [
              "<Figure size 640x480 with 1 Axes>"
            ]
          },
          "metadata": {},
          "output_type": "display_data"
        }
      ],
      "source": [
        "# Find Elbow Point\n",
        "kneedle = KneeLocator(np.arange(ninety_threshold + 1, len(expl_variance)+ 1), \n",
        "                      expl_variance[ninety_threshold:], curve='convex', \n",
        "                      direction='decreasing')\n",
        "\n",
        "elbow_location = kneedle.elbow\n",
        "\n",
        "# Plot Elbow\n",
        "sns.set_theme()\n",
        "\n",
        "plt.plot(np.arange(1, len(expl_variance)+1),\n",
        "         expl_variance[0:],\n",
        "         label = \"Explained Variance\")\n",
        "\n",
        "# Add Title and Axis Labels\n",
        "plt.title(\"Scree Test for SVD Analysis\")\n",
        "plt.ylabel(\"Explained Variance\")\n",
        "plt.xlabel(\"Number of Components\")\n",
        "plt.legend()\n",
        "\n",
        "# Add Annotation and Point to Show Location of 90%\n",
        "plt.annotate(f\"90% of Variance Explained at {ninety_threshold + 1} Components\", \n",
        "             xy=(ninety_threshold + 1, expl_variance[ninety_threshold]),\n",
        "             xytext=(40, (expl_variance[ninety_threshold] + 0.005)),\n",
        "             arrowprops=dict(arrowstyle=\"-\",\n",
        "                             color = \"black\"), fontsize=10)\n",
        "\n",
        "plt.plot(ninety_threshold + 1, expl_variance[ninety_threshold], \"ko\",\n",
        "         label = \"Elbow Point\")\n",
        "\n",
        "# Add Annotation and Point to Show Location of Elbow\n",
        "plt.annotate(f\"Post-90% Elbow at {elbow_location} Components\", \n",
        "             xy=(elbow_location, expl_variance[elbow_location - 1]),\n",
        "             xytext=(250, (expl_variance[elbow_location] + 0.005)),\n",
        "             arrowprops=dict(arrowstyle=\"-\",\n",
        "                             color = \"black\"), fontsize=10)\n",
        "\n",
        "plt.plot(elbow_location, expl_variance[elbow_location - 1], \"ko\",\n",
        "         label = \"Elbow Point\")"
      ],
      "id": "b9a409ac-228b-4c07-bb91-5230fb6164d0"
    },
    {
      "cell_type": "markdown",
      "metadata": {
        "id": "2201915a-3c47-465f-b9da-f8fa5d143057"
      },
      "source": [
        "Based on the elbow point, we build a content similarity dataframe."
      ],
      "id": "2201915a-3c47-465f-b9da-f8fa5d143057"
    },
    {
      "cell_type": "code",
      "execution_count": null,
      "metadata": {
        "id": "60ee5b09-29fb-4b07-8d39-dac951b1e0b9"
      },
      "outputs": [],
      "source": [
        "# Compute the similarity matrix on the full text data\n",
        "reduced_features = SVD_pipeline.transform(textual_df['full_text'])[:, :elbow_location]\n",
        "\n",
        "# Calculate Similarity Matrix\n",
        "similarity_matrix = 1 - pairwise_distances(reduced_features, metric='cosine')\n",
        "\n",
        "content_similarity_df = pd.DataFrame(similarity_matrix, columns = textual_df.index,\n",
        "                            index = textual_df.index)"
      ],
      "id": "60ee5b09-29fb-4b07-8d39-dac951b1e0b9"
    },
    {
      "cell_type": "markdown",
      "metadata": {
        "id": "11722186-4ee8-4dfe-91fe-123293d4b046"
      },
      "source": [
        "#### Similarity Feature\n",
        "\n",
        "We now attempt to build a _similarity_ metric for any given game-user pairing. We do so as follows:\n",
        "- For a given user-game pairing, we identify every game the user has reviewed within the dataset.\n",
        "- We utilize the _content_similarity_df_ to identify the similarity of the assessed with every other game the user has reviewed.\n",
        "- We take the average of these, with games that were negatively reviewed by the user having their similarity rating negativised.\n",
        "\n",
        "This method, however, does not allow us to identify the similarity score of users which only have one rating in the dataset. In order to do this, we calculate a similarity metric across users. We could not do this with TruncatedSVD (matrix based on ratings) due to lack of processing power. In replacement, we calculated user similarity by constructing a rule-based network which can be found in the appendix notebooks. For users with only one rating, we identify the most similar user with more than one review and utilize him as a \"surrogate\" to calculate the similarity metric. \n",
        "\n",
        "We do not build the network model here so as to not clutter the notebook, as it is not striclty a machine learning model. We import its output from a csv, but should you wish to see how the network was constructed please refer to the appendix."
      ],
      "id": "11722186-4ee8-4dfe-91fe-123293d4b046"
    },
    {
      "cell_type": "code",
      "execution_count": null,
      "metadata": {
        "id": "e51cc951-ad0c-4218-9c70-8b315472df6f"
      },
      "outputs": [],
      "source": [
        "# Import Similarity\n",
        "user_similarity_df = pd.read_csv(\"data/similar_users.csv\")\n",
        "\n",
        "# Identify Single-Review and Multi-Review Users\n",
        "duplicated_user_ids = final_df[final_df.duplicated(subset=[\"user_id\"], keep=False)][\"user_id\"].unique()\n",
        "multi_review = final_df[final_df[\"user_id\"].isin(duplicated_user_ids)].reset_index(drop=True)[[\"user_id\", \"app_id\", \"y\"]]\n",
        "\n",
        "duplicated_user_ids = final_df[final_df.duplicated(subset=[\"user_id\"], keep=False)][\"user_id\"].unique()\n",
        "single_review = final_df[final_df[\"user_id\"].isin(set(final_df[\"user_id\"]) - set(duplicated_user_ids))]\\\n",
        ".reset_index(drop=True)[[\"user_id\", \"app_id\", \"y\"]]"
      ],
      "id": "e51cc951-ad0c-4218-9c70-8b315472df6f"
    },
    {
      "cell_type": "code",
      "execution_count": null,
      "metadata": {
        "id": "IYZ3uLoagHQN"
      },
      "outputs": [],
      "source": [
        "# Find Average Similarity\n",
        "def AverageSimilarityCalculator(user, game):\n",
        "    \n",
        "    user_ratings = multi_review[multi_review[\"user_id\"] == user]\n",
        "    other_games = user_ratings[user_ratings['app_id'] != game]\n",
        "    \n",
        "    other_games_titles = other_games['app_id']\n",
        "    filtered_game_similarity_df = content_similarity_df.loc[game, other_games_titles] * other_games.set_index('app_id')[\"y\"]\n",
        "    \n",
        "    return filtered_game_similarity_df.mean()\n",
        "\n",
        "# Create Compiler of Avg Sim\n",
        "def SimilarityGenerator(users = multi_review, \n",
        "                     similarity = content_similarity_df):\n",
        "    \n",
        "    similarities = []\n",
        "    for i in range(0, len(users)):\n",
        "        \n",
        "        sim = AverageSimilarityCalculator(users.at[i, 'user_id'],\n",
        "                      users.at[i, 'app_id'])\n",
        "        \n",
        "        similarities.append(sim)\n",
        "    \n",
        "    return similarities\n",
        "\n",
        "# Generate Similarities\n",
        "multi_similarity = SimilarityGenerator()\n",
        "multi_review[\"similarity\"] = multi_similarity"
      ],
      "id": "IYZ3uLoagHQN"
    },
    {
      "cell_type": "code",
      "execution_count": null,
      "metadata": {
        "id": "ynmYci4lgK68"
      },
      "outputs": [],
      "source": [
        "# Find Most Similary User\n",
        "def UserPairer(user,\n",
        "              user_similarity = user_similarity_df):\n",
        "    \n",
        "    return int(user_similarity_df[user_similarity_df[\"user_id\"] == user].iloc[0, 1][1:])\n",
        "    \n",
        "# Create Similarity Imputer\n",
        "def SimilarityImputer(users = single_review):\n",
        "    \n",
        "    sim_list = []\n",
        "    for i in range(0, len(users)):\n",
        "        similar_user = UserPairer(users.at[i, \"user_id\"])\n",
        "        \n",
        "        sim = AverageSimilarityCalculator(similar_user,\n",
        "                                   users.at[i, \"app_id\"])\n",
        "        \n",
        "        sim_list.append(sim_list)\n",
        "    \n",
        "    return sim_list\n",
        "\n",
        "# Generate Similarities\n",
        "single_imputer = SimilarityImputer()\n",
        "single_review[\"similarity\"] = single_imputer"
      ],
      "id": "ynmYci4lgK68"
    },
    {
      "cell_type": "code",
      "execution_count": null,
      "metadata": {
        "id": "JfwOe3n6gkSz"
      },
      "outputs": [],
      "source": [
        "similarity_merge = pd.concat(single_review, multi_review)\n",
        "\n",
        "final_df = final_df.merge(similarity_merge, on=['app_id', 'user_id'])"
      ],
      "id": "JfwOe3n6gkSz"
    },
    {
      "cell_type": "markdown",
      "metadata": {
        "id": "18e051b6-73e4-40fe-88ec-10d1e420e219"
      },
      "source": [
        "After this, we add the similarity as a column to single_review and multi_review and merge based on app_id and game_id."
      ],
      "id": "18e051b6-73e4-40fe-88ec-10d1e420e219"
    },
    {
      "cell_type": "markdown",
      "metadata": {
        "id": "4d0fb828-22fb-4f60-aeae-9ccb8c444406"
      },
      "source": [
        "### Model 2: Logistic Regression\n",
        "\n",
        "**Lasso Regression:**\n",
        "\n",
        "We first run a model with _l1_ regularization due to its stronger penalty which can drive coefficients with little relevance down to 0. We optimize the hyperparamters C and class_weight with GridSearch.\n",
        "\n",
        "We use log_loss as main scoring metric because we want to reward the model for predicting a percentage as close as possible to a True Positive. In assessing the model we print Accuracy, Log Loss, and F1. The ones that are of most interest to us are Log Loss and F1 -- this is because we care about identifying positives with the highest possibility of being such. We want to optimize the experience of users **ADD REASONING AS TO WHY WE USE THESE METRICS**\n"
      ],
      "id": "4d0fb828-22fb-4f60-aeae-9ccb8c444406"
    },
    {
      "cell_type": "code",
      "execution_count": 97,
      "metadata": {
        "colab": {
          "base_uri": "https://localhost:8080/"
        },
        "id": "8d1c5179-6715-4e93-8ba8-83c24086f382",
        "outputId": "7ccac409-33ca-430b-be43-bff5c1becd57"
      },
      "outputs": [
        {
          "output_type": "stream",
          "name": "stdout",
          "text": [
            "The optimal normalization term is: 1\n",
            "The optimal class weight is: {0: 4, 1: 1}\n",
            "The model's coefficients are:\n",
            " [[ 2.34953662e-02  1.72686592e-04 -1.60257133e-03 -2.89345454e-06\n",
            "   2.09971054e-01  1.41948004e-04 -3.99529670e-02 -4.59130417e+00\n",
            "  -8.00472722e+00  1.19165147e+01 -6.79582584e-02 -2.61140247e-02]]\n"
          ]
        }
      ],
      "source": [
        "# Define the columns to be dropped\n",
        "columns_to_drop = [\"app_id\", \"title\", \"price_original\", \"average_playtime\", \"hours\", \"achievements\", \n",
        "                   'win', 'mac', 'linux',\n",
        "                   \"user_reviews\",\n",
        "                   \"required_age\", 'user_id', 'products', 'reviews',\n",
        "                   \"english\", \"Action\", 'Adventure', 'Animation & Modeling', \n",
        "                   'Casual','Design & Illustration', 'Early Access', \n",
        "                   'Free to Play', 'Gore','Indie', \"Massively Multiplayer\",\n",
        "                   'Nudity', 'RPG', 'Racing','Sexual Content', 'Simulation', \n",
        "                   'Sports', 'Strategy','Utilities', 'Violent', 'Web Publishing']\n",
        "\n",
        "# Define the pipeline\n",
        "l1_pipeline = Pipeline([\n",
        "    ('elapsed_time', ElapsedTimeTransformer()),\n",
        "    ('steam_rating', SteamRatingEncoder(standard_diverging_scale=True)),\n",
        "    (\"target_encode\", TargetEncoderTransformer(y = y_train)),\n",
        "    ('owners_trans', OwnersTransformer()),\n",
        "    ('drop_columns', DropColumns(columns_to_drop)),\n",
        "    ('classifier', LogisticRegression(penalty = \"l1\", solver='liblinear', \n",
        "                                      random_state=70, max_iter = 1000))\n",
        "])\n",
        "\n",
        "\n",
        "# Define the grid of hyperparameters to search\n",
        "param_grid = {\n",
        "    'classifier__C': [0.1, 1, 10, 100],\n",
        "    'classifier__class_weight': [{0: 4, 1: 1}, {0: 5, 1: 1},\n",
        "     {0: 6, 1: 1}, {0: 7, 1: 1}]\n",
        "}\n",
        "\n",
        "# Define the grid search object\n",
        "grid_search = GridSearchCV(l1_pipeline, param_grid=param_grid, cv=5,\n",
        "                           scoring = 'neg_log_loss')\n",
        "\n",
        "# Fit the grid search on the data\n",
        "grid_search.fit(X_train, y_train)\n",
        "\n",
        "# Find Optimal Parameters\n",
        "opt_parameters = grid_search.best_estimator_.named_steps['classifier'].get_params()\n",
        "opt_norm = opt_parameters[\"C\"]\n",
        "opt_weight = opt_parameters[\"class_weight\"]\n",
        "l1_coefficients = grid_search.best_estimator_.named_steps['classifier'].coef_\n",
        "\n",
        "# Print Optimal Parameters\n",
        "print(f\"The optimal normalization term is: {opt_norm}\")\n",
        "print(f\"The optimal class weight is: {opt_weight}\")\n",
        "print(f\"The model's coefficients are:\\n {l1_coefficients}\")"
      ],
      "id": "8d1c5179-6715-4e93-8ba8-83c24086f382"
    },
    {
      "cell_type": "markdown",
      "metadata": {
        "id": "4M52Z-K7ogWx"
      },
      "source": [
        "We take the optimized hyperparamters and check the F-Score, Log Loss, and Accuracy."
      ],
      "id": "4M52Z-K7ogWx"
    },
    {
      "cell_type": "code",
      "execution_count": 149,
      "metadata": {
        "colab": {
          "base_uri": "https://localhost:8080/"
        },
        "id": "qIb3wL3Fjavs",
        "outputId": "ad1d48ac-03a1-42fc-9016-de933752bcee"
      },
      "outputs": [
        {
          "output_type": "stream",
          "name": "stdout",
          "text": [
            "Accuracy: 0.714 +/- 0.002\n",
            "Log loss: 0.557 +/- 0.001\n",
            "F1 score: 0.813 +/- 0.001\n"
          ]
        }
      ],
      "source": [
        "opt_l1_pipeline = Pipeline([\n",
        "    ('elapsed_time', ElapsedTimeTransformer()),\n",
        "    ('steam_rating', SteamRatingEncoder(standard_diverging_scale=True)),\n",
        "    (\"target_encode\", TargetEncoderTransformer(y = y_train)),\n",
        "    ('owners_trans', OwnersTransformer()),\n",
        "    ('drop_columns', DropColumns(columns_to_drop)),\n",
        "    ('classifier', LogisticRegression(penalty = \"l1\", solver='liblinear', \n",
        "                                      random_state=70, max_iter = 1000,\n",
        "                                      C = opt_norm, class_weight = opt_weight))\n",
        "])\n",
        "\n",
        "# Find F1, Log Loss, and Accuracy\n",
        "scoring = {'f1': 'f1', \n",
        "           'accuracy': 'accuracy', \n",
        "           'log_loss': make_scorer(log_loss, needs_proba=True)}\n",
        "scores = cross_validate(opt_l1_pipeline, X_train, y_train, cv=5, scoring=scoring)\n",
        "\n",
        "# Print Results\n",
        "print(f\"Accuracy: {scores['test_accuracy'].mean():.3f} +/- {scores['test_accuracy'].std():.3f}\")\n",
        "print(f\"Log loss: {scores['test_log_loss'].mean():.3f} +/- {scores['test_log_loss'].std():.3f}\")\n",
        "print(f\"F1 score: {scores['test_f1'].mean():.3f} +/- {scores['test_f1'].std():.3f}\")"
      ],
      "id": "qIb3wL3Fjavs"
    },
    {
      "cell_type": "markdown",
      "metadata": {
        "id": "_7pwkhxCo9ti"
      },
      "source": [
        "**AAAAAAADD ANALYSIS OF RESULT**\n",
        "\n",
        "**Ridge Regression:**\n",
        "\n",
        "Having checked the performance of l1 normalization and seen that none of the features take a coefficient of 0, we run the same model and optimize in a similar manner with l2 regularization to see which one of the two performs best."
      ],
      "id": "_7pwkhxCo9ti"
    },
    {
      "cell_type": "code",
      "execution_count": null,
      "metadata": {
        "colab": {
          "base_uri": "https://localhost:8080/"
        },
        "id": "trCibLQdqRY9",
        "outputId": "393930d0-82d5-4ab5-e32f-75eb3c321b23"
      },
      "outputs": [
        {
          "name": "stdout",
          "output_type": "stream",
          "text": [
            "The optimal normalization term is: 10\n",
            "The optimal class weight is: {0: 4, 1: 1}\n",
            "The model's coefficients are:\n",
            " [[ 3.28571364e-02 -1.39885450e-03 -2.10246448e-03  5.21254081e-06\n",
            "  -1.92112403e+00  1.16708920e-04  3.20590960e+00 -9.51424219e-02\n",
            "   1.48943897e-01 -2.94107677e+00  5.52910183e+00 -7.12198793e-02\n",
            "  -1.41326241e-02]]\n"
          ]
        }
      ],
      "source": [
        "# Define the columns to be dropped\n",
        "columns_to_drop_l2 = [\"app_id\", \"title\", \"price_original\", \"average_playtime\", \"hours\", \"achievements\", \n",
        "                   'win', 'mac', 'linux',\n",
        "                   \"user_reviews\",\n",
        "                   \"required_age\", 'user_id',\n",
        "                   \"english\", \"Action\", 'Adventure', 'Animation & Modeling', \n",
        "                   'Casual','Design & Illustration', 'Early Access', \n",
        "                   'Free to Play', 'Gore','Indie', \"Massively Multiplayer\",\n",
        "                   'Nudity', 'RPG', 'Racing','Sexual Content', 'Simulation', \n",
        "                   'Sports', 'Strategy','Utilities', 'Violent', 'Web Publishing']\n",
        "\n",
        "# Define the pipeline\n",
        "l2_pipeline = Pipeline([\n",
        "    ('elapsed_time', ElapsedTimeTransformer()),\n",
        "    (\"rev_tend\", TendencyToReview()),\n",
        "    ('steam_rating', SteamRatingEncoder(standard_diverging_scale=True)),\n",
        "    (\"target_encode\", TargetEncoderTransformer(y = y_train)),\n",
        "    ('owners_trans', OwnersTransformer()),\n",
        "    ('drop_columns', DropColumns(columns_to_drop_l2)),\n",
        "    ('classifier', LogisticRegression(penalty = \"l2\", solver='liblinear', \n",
        "                                      random_state=70, max_iter = 1000))\n",
        "])\n",
        "\n",
        "\n",
        "# Define the grid of hyperparameters to search\n",
        "param_grid = {\n",
        "    'classifier__C': [0.1, 1, 10, 100],\n",
        "    'classifier__class_weight': [{0: 4, 1: 1}, {0: 6, 1: 1},\n",
        "                                 {0: 7, 1: 1}]\n",
        "}\n",
        "\n",
        "# Define the grid search object\n",
        "grid_search_l2 = GridSearchCV(l2_pipeline, param_grid=param_grid, cv=5,\n",
        "                           scoring = 'neg_log_loss')\n",
        "\n",
        "# Fit the grid search on the data\n",
        "grid_search_l2.fit(X_train, y_train)\n",
        "\n",
        "# Find Optimal Parameters\n",
        "opt_parameters_l2 = grid_search_l2.best_estimator_.named_steps['classifier'].get_params()\n",
        "opt_norm_l2 = opt_parameters_l2[\"C\"]\n",
        "opt_weight_l2 = opt_parameters_l2[\"class_weight\"]\n",
        "l1_coefficients_l2 = grid_search_l2.best_estimator_.named_steps['classifier'].coef_\n",
        "\n",
        "# Print Optimal Parameters\n",
        "print(f\"The optimal normalization term is: {opt_norm_l2}\")\n",
        "print(f\"The optimal class weight is: {opt_weight_l2}\")\n",
        "print(f\"The model's coefficients are:\\n {l1_coefficients_l2}\")"
      ],
      "id": "trCibLQdqRY9"
    },
    {
      "cell_type": "markdown",
      "metadata": {
        "id": "IV3kvivityus"
      },
      "source": [
        "With the optimized hyperparamters we run the model and check the performance metrics."
      ],
      "id": "IV3kvivityus"
    },
    {
      "cell_type": "code",
      "execution_count": 148,
      "metadata": {
        "colab": {
          "base_uri": "https://localhost:8080/"
        },
        "id": "-_jvMSXbtzbB",
        "outputId": "802ede91-f258-465e-da9c-77fc5332beee"
      },
      "outputs": [
        {
          "output_type": "stream",
          "name": "stdout",
          "text": [
            "Accuracy: 0.726 +/- 0.002\n",
            "Log loss: 0.558 +/- 0.001\n",
            "F1 score: 0.823 +/- 0.001\n"
          ]
        }
      ],
      "source": [
        "opt_l2_pipeline = Pipeline([\n",
        "    ('elapsed_time', ElapsedTimeTransformer()),\n",
        "    ('steam_rating', SteamRatingEncoder(standard_diverging_scale=True)),\n",
        "    (\"target_encode\", TargetEncoderTransformer(y = y_train)),\n",
        "    ('owners_trans', OwnersTransformer()),\n",
        "    ('drop_columns', DropColumns(columns_to_drop)),\n",
        "    ('classifier', LogisticRegression(penalty = \"l2\", solver='liblinear', \n",
        "                                      random_state=70, max_iter = 1000,\n",
        "                                      C = opt_norm_l2, class_weight = opt_weight_l2))\n",
        "])\n",
        "\n",
        "# Find F1 and Log Loss\n",
        "scoring = {'f1': 'f1', \n",
        "           'accuracy': 'accuracy', \n",
        "           'log_loss': make_scorer(log_loss, needs_proba=True)}\n",
        "scores = cross_validate(opt_l2_pipeline, X_train, y_train, cv=5, scoring=scoring)\n",
        "\n",
        "# Print Results\n",
        "print(f\"Accuracy: {scores['test_accuracy'].mean():.3f} +/- {scores['test_accuracy'].std():.3f}\")\n",
        "print(f\"Log loss: {scores['test_log_loss'].mean():.3f} +/- {scores['test_log_loss'].std():.3f}\")\n",
        "print(f\"F1 score: {scores['test_f1'].mean():.3f} +/- {scores['test_f1'].std():.3f}\")"
      ],
      "id": "-_jvMSXbtzbB"
    },
    {
      "cell_type": "markdown",
      "metadata": {
        "id": "cPp4k1h7xdpB"
      },
      "source": [
        "**DISCUSS RESULTS AAAAAAAAAA**\n",
        "\n",
        "**ADABoost Ridge:**\n",
        "\n",
        "We attempt to use ADABoost"
      ],
      "id": "cPp4k1h7xdpB"
    },
    {
      "cell_type": "code",
      "execution_count": null,
      "metadata": {
        "colab": {
          "base_uri": "https://localhost:8080/"
        },
        "id": "lezmIYIkxfBF",
        "outputId": "3546e45e-fef8-4f7e-ac83-bd0fd540ed46"
      },
      "outputs": [
        {
          "name": "stdout",
          "output_type": "stream",
          "text": [
            "The selected learning rate is: 0.01\n",
            "The selected number of estimators is: 50\n",
            "The optimal normalization term is: 100\n"
          ]
        }
      ],
      "source": [
        "# Define the columns to be dropped\n",
        "columns_to_drop_ADA = [\"app_id\", \"title\", \"price_original\", \"average_playtime\", \"hours\", \"achievements\", \n",
        "                   'win', 'mac', 'linux',\n",
        "                   \"user_reviews\",\n",
        "                   \"required_age\", 'user_id',\n",
        "                   \"english\", \"Action\", 'Adventure', 'Animation & Modeling', \n",
        "                   'Casual','Design & Illustration', 'Early Access', \n",
        "                   'Free to Play', 'Gore','Indie', \"Massively Multiplayer\",\n",
        "                   'Nudity', 'RPG', 'Racing','Sexual Content', 'Simulation', \n",
        "                   'Sports', 'Strategy','Utilities', 'Violent', 'Web Publishing']\n",
        "\n",
        "# Define the pipeline\n",
        "ADA_pipeline = Pipeline([\n",
        "    ('elapsed_time', ElapsedTimeTransformer()),\n",
        "    (\"rev_tend\", TendencyToReview()),\n",
        "    ('steam_rating', SteamRatingEncoder(standard_diverging_scale=True)),\n",
        "    (\"target_encode\", TargetEncoderTransformer(y = y_train)),\n",
        "    ('owners_trans', OwnersTransformer()),\n",
        "    ('drop_columns', DropColumns(columns_to_drop_l2)),\n",
        "    ('classifier', AdaBoostClassifier(estimator=LogisticRegression(penalty='l2', solver='liblinear', \n",
        "                                                                        max_iter=1000, class_weight = {0: 4, 1: 1}),\n",
        "                                       random_state=70))\n",
        "])\n",
        "\n",
        "\n",
        "# Define the grid of hyperparameters to search\n",
        "ADA_param_grid = {\n",
        "    'classifier__n_estimators': [50, 100, 200],\n",
        "    'classifier__learning_rate': [0.01, 0.1, 1.0],\n",
        "    'classifier__estimator__C': [0.1, 1, 10, 100]\n",
        "}\n",
        "\n",
        "# Define the grid search object\n",
        "grid_search_ADA = GridSearchCV(ADA_pipeline, param_grid=ADA_param_grid, cv=5,\n",
        "                           scoring = 'neg_log_loss')\n",
        "\n",
        "# Fit the grid search on the data\n",
        "grid_search_ADA.fit(X_train, y_train)\n",
        "\n",
        "# Find Optimal Parameters\n",
        "opt_parameters_ADA = grid_search_ADA.best_estimator_.named_steps['classifier'].get_params()\n",
        "opt_norm_ADA = opt_parameters_ADA[\"estimator__C\"]\n",
        "opt_learning_rate_ADA = opt_parameters_ADA['learning_rate']\n",
        "opt_n_estimators_ADA = opt_parameters_ADA['n_estimators']\n",
        "\n",
        "# Print Optimal Parameters\n",
        "print(f\"The selected learning rate is: {opt_learning_rate_ADA}\")\n",
        "print(f\"The selected number of estimators is: {opt_n_estimators_ADA}\")\n",
        "print(f\"The optimal normalization term is: {opt_norm_ADA}\")"
      ],
      "id": "lezmIYIkxfBF"
    },
    {
      "cell_type": "markdown",
      "metadata": {
        "id": "fAJWYeUrHRp7"
      },
      "source": [
        "With the optimized parameters, we build the model and assess it based on the scoring metrics."
      ],
      "id": "fAJWYeUrHRp7"
    },
    {
      "cell_type": "code",
      "execution_count": 147,
      "metadata": {
        "colab": {
          "base_uri": "https://localhost:8080/"
        },
        "id": "q3nokGXGHShu",
        "outputId": "f02bb1cf-76e4-419e-d786-0eb315739512"
      },
      "outputs": [
        {
          "output_type": "stream",
          "name": "stdout",
          "text": [
            "Accuracy: 0.765 +/- 0.001\n",
            "Log loss: 0.579 +/- 0.001\n",
            "F1 score: 0.856 +/- 0.001\n"
          ]
        }
      ],
      "source": [
        "# Define Pipeline with HyperParamters\n",
        "ADA_pipeline = Pipeline([\n",
        "    ('elapsed_time', ElapsedTimeTransformer()),\n",
        "    (\"rev_tend\", TendencyToReview()),\n",
        "    ('steam_rating', SteamRatingEncoder(standard_diverging_scale=True)),\n",
        "    (\"target_encode\", TargetEncoderTransformer(y = y_train)),\n",
        "    ('owners_trans', OwnersTransformer()),\n",
        "    ('drop_columns', DropColumns(columns_to_drop_l2)),\n",
        "    ('classifier', AdaBoostClassifier(estimator=LogisticRegression(penalty='l2', solver='liblinear', \n",
        "                                                                        max_iter=1000, class_weight = {0: 4, 1: 1},\n",
        "                                                                   C = opt_norm_ADA),\n",
        "                                       random_state=70, n_estimators = opt_n_estimators_ADA,\n",
        "                                      learning_rate = opt_learning_rate_ADA))\n",
        "])\n",
        "\n",
        "# Find F1 and Log Loss\n",
        "scoring = {'f1': 'f1', \n",
        "           'accuracy': 'accuracy', \n",
        "           'log_loss': make_scorer(log_loss, needs_proba=True)}\n",
        "scores = cross_validate(ADA_pipeline, X_train, y_train, cv=5, scoring=scoring)\n",
        "\n",
        "# Print Results\n",
        "print(f\"Accuracy: {scores['test_accuracy'].mean():.3f} +/- {scores['test_accuracy'].std():.3f}\")\n",
        "print(f\"Log loss: {scores['test_log_loss'].mean():.3f} +/- {scores['test_log_loss'].std():.3f}\")\n",
        "print(f\"F1 score: {scores['test_f1'].mean():.3f} +/- {scores['test_f1'].std():.3f}\")"
      ],
      "id": "q3nokGXGHShu"
    },
    {
      "cell_type": "markdown",
      "metadata": {
        "id": "QBTGbZYgK3Gk"
      },
      "source": [
        "SELECT BEST OF THE THREE."
      ],
      "id": "QBTGbZYgK3Gk"
    },
    {
      "cell_type": "markdown",
      "metadata": {
        "id": "ed6f6c0d-2066-4773-95ba-8a52df42f217"
      },
      "source": [
        "### Model 3: Random Forest\n",
        "\n",
        "When building Model 3, we tried to build a Pipeline which makes use of bagging technques only and bagging + boosting techniques together to see if we can further improve the model performance.\n",
        "\n",
        "**Configuration 1: No Boosting**\n",
        "\n",
        "This model employs Random Forest as a bagging technique, but no boosting technique. Further, we use resampling and undersampling techniques to ensure the data is balanced."
      ],
      "id": "ed6f6c0d-2066-4773-95ba-8a52df42f217"
    },
    {
      "cell_type": "code",
      "execution_count": 132,
      "metadata": {
        "id": "ab59c7e2-b0c7-426c-85b8-954e732b226a"
      },
      "outputs": [],
      "source": [
        "# Define Feature Columns\n",
        "feature_columns = [\n",
        "    'positive_ratio', 'user_reviews', 'price_final', 'discount', 'date_release',\n",
        "    'products', 'reviews', 'required_age', 'median_playtime', \"date\",\n",
        "    'Action', 'Adventure','Animation & Modeling', 'Casual', 'Design & Illustration',\n",
        "    'Early Access', 'Free to Play', 'Gore', 'Indie',\n",
        "    'Massively Multiplayer', 'Nudity', 'RPG', 'Racing', 'Sexual Content',\n",
        "    'Simulation', 'Sports', 'Strategy', 'Utilities', 'Violent',\n",
        "    'Web Publishing', 'developer', 'publisher', 'win', 'mac', 'linux', 'english'\n",
        "]\n",
        "\n",
        "# Get Other Column Names to Drop in Pipeline\n",
        "other_columns = [col for col in final_df.columns if col not in feature_columns and col != \"y\"]"
      ],
      "id": "ab59c7e2-b0c7-426c-85b8-954e732b226a"
    },
    {
      "cell_type": "code",
      "source": [
        "# Create Resampling Pipeline\n",
        "resampling_pipeline = imPipeline([\n",
        "    ('elapsed_time', ElapsedTimeTransformer()),\n",
        "     ('target_encoder', TargetEncoderTransformer(y=y_train)),\n",
        "    ('drop_columns', DropColumns(other_columns)),\n",
        "    ('smote', SMOTE(sampling_strategy=0.6, random_state=29)),\n",
        "    ('under_sampler', RandomUnderSampler(sampling_strategy=1, random_state=29))\n",
        "])\n",
        "\n",
        "# Resample the dataset\n",
        "X_train_resampled, y_train_resampled = resampling_pipeline.fit_resample(X_train, y_train)\n",
        "\n",
        "# Build Model Pipeline\n",
        "rf_pipeline = Pipeline([\n",
        "    ('interactions', InteractionsTransformer([\"win\", \"mac\", \"linux\"])),\n",
        "    ('random_forest', RandomForestClassifier(random_state=70))\n",
        "])\n",
        "\n",
        "# Define the grid of hyperparameters to search\n",
        "rf_param_grid = {\n",
        "    'random_forest__n_estimators': [100, 200],\n",
        "    'random_forest__max_depth': [3, 5, 7],\n",
        "    'random_forest__min_samples_split': [2, 5],\n",
        "    'random_forest__min_samples_leaf': [1, 2]\n",
        "}\n",
        "\n",
        "# Define the grid search object\n",
        "rf_grid_search = GridSearchCV(rf_pipeline, param_grid=rf_param_grid, \n",
        "                              cv=5, scoring='f1')\n",
        "\n",
        "# Fit the grid search on the data\n",
        "rf_grid_search.fit(X_train_resampled, y_train_resampled)\n",
        "\n",
        "# Find optimal parameters\n",
        "rf_opt_params = rf_grid_search.best_params_\n",
        "rf_opt_estimators = rf_opt_params['random_forest__n_estimators']\n",
        "rf_opt_max_depth = rf_opt_params['random_forest__max_depth']\n",
        "rf_opt_min_samples_split = rf_opt_params['random_forest__min_samples_split']\n",
        "rf_opt_min_samples_leaf = rf_opt_params['random_forest__min_samples_leaf']\n",
        "\n",
        "# Print optimal parameters\n",
        "print(f\"The optimal number of estimators is: {rf_opt_estimators}\")\n",
        "print(f\"The optimal max depth is: {rf_opt_max_depth}\")\n",
        "print(f\"The optimal min samples split is: {rf_opt_min_samples_split}\")\n",
        "print(f\"The optimal min samples leaf is: {rf_opt_min_samples_leaf}\")"
      ],
      "metadata": {
        "colab": {
          "base_uri": "https://localhost:8080/"
        },
        "id": "BrANKSbXAvhj",
        "outputId": "5af575b5-5183-4201-e3ff-39b3f1676ca5"
      },
      "id": "BrANKSbXAvhj",
      "execution_count": 141,
      "outputs": [
        {
          "output_type": "stream",
          "name": "stdout",
          "text": [
            "The optimal number of estimators is: 200\n",
            "The optimal max depth is: 7\n",
            "The optimal min samples split is: 2\n",
            "The optimal min samples leaf is: 1\n"
          ]
        }
      ]
    },
    {
      "cell_type": "markdown",
      "source": [
        "Now we run the optimized model and assess its performance."
      ],
      "metadata": {
        "id": "9FT9wr7-sLdZ"
      },
      "id": "9FT9wr7-sLdZ"
    },
    {
      "cell_type": "code",
      "source": [
        "# Build Pipeline with Optimized Parameters\n",
        "rf_pipeline = Pipeline([\n",
        "    ('interactions', InteractionsTransformer([\"win\", \"mac\", \"linux\"])),\n",
        "    ('random_forest', RandomForestClassifier(random_state=70,\n",
        "                                             n_estimators =rf_opt_estimators,\n",
        "                                             max_depth = rf_opt_max_depth,\n",
        "                                             min_samples_split = rf_opt_min_samples_split,\n",
        "                                             min_samples_leaf = rf_opt_min_samples_leaf))\n",
        "])\n",
        "\n",
        "# Run cross-validation and print results\n",
        "scoring = ['accuracy', 'neg_log_loss', 'f1']\n",
        "cv_results = cross_validate(rf_pipeline, X_train_resampled, y_train_resampled, \n",
        "                            cv=5, scoring=scoring)\n",
        "\n",
        "print(f\"Accuracy: {cv_results['test_accuracy'].mean():.3f} +/- {cv_results['test_accuracy'].std():.3f}\")\n",
        "print(f\"Log loss: {-cv_results['test_neg_log_loss'].mean():.3f} +/- {-cv_results['test_neg_log_loss'].std():.3f}\")\n",
        "print(f\"F1 score: {cv_results['test_f1'].mean():.3f} +/- {cv_results['test_f1'].std():.3f}\")"
      ],
      "metadata": {
        "colab": {
          "base_uri": "https://localhost:8080/"
        },
        "id": "ygnj-zP1sPeJ",
        "outputId": "d0a5a2b6-5536-4c16-d1d0-e39765848752"
      },
      "id": "ygnj-zP1sPeJ",
      "execution_count": 143,
      "outputs": [
        {
          "output_type": "stream",
          "name": "stdout",
          "text": [
            "Accuracy: 0.682 +/- 0.006\n",
            "Log loss: 0.588 +/- -0.005\n",
            "F1 score: 0.674 +/- 0.006\n"
          ]
        }
      ]
    },
    {
      "cell_type": "markdown",
      "source": [
        "**Configuration 2: RF with XGBoost**\n",
        "\n",
        "We attempt to improve the model by running XGBoost."
      ],
      "metadata": {
        "id": "ch-MGaWQG6UR"
      },
      "id": "ch-MGaWQG6UR"
    },
    {
      "cell_type": "code",
      "source": [
        "# Define the pipeline\n",
        "xgb_pipeline = Pipeline([\n",
        "    ('interactions', InteractionsTransformer([\"win\", \"mac\", \"linux\"])),\n",
        "    ('xgb', XGBClassifier(random_state=70))\n",
        "])\n",
        "\n",
        "# Define the grid of hyperparameters to search\n",
        "xgb_param_grid = {\n",
        "    'xgb__n_estimators': [100, 200, 500],\n",
        "    'xgb__max_depth': [5, 10, 20],\n",
        "    'xgb__min_child_weight': [1, 5, 10],\n",
        "    'xgb__learning_rate': [0.01, 0.1, 1]\n",
        "}\n",
        "\n",
        "# Define the grid search object\n",
        "xgb_grid_search = GridSearchCV(xgb_param_grid, xgb_param_grid=param_grid, cv=5, scoring='f1')\n",
        "\n",
        "# Fit the grid search on the data\n",
        "xgb_grid_search.fit(X_train_resampled, y_train_resampled)\n",
        "\n",
        "# Find optimal parameters\n",
        "xgb_opt_params = xgb_grid_search.best_params_\n",
        "xgb_opt_estimators = xgb_opt_params['xgb__n_estimators']\n",
        "xgb_opt_max_depth = xgb_opt_params['xgb__max_depth']\n",
        "xgb_opt_min_child_weight = xgb_opt_params['xgb__min_child_weight']\n",
        "xgb_opt_learning_rate = xgb_opt_params['xgb__learning_rate']\n",
        "\n",
        "# Print optimal parameters\n",
        "print(f\"The optimal number of estimators is: {xgb_opt_estimators}\")\n",
        "print(f\"The optimal max depth is: {xgb_opt_max_depth}\")\n",
        "print(f\"The optimal min child weight is: {xgb_opt_min_child_weight}\")\n",
        "print(f\"The optimal learning rate is: {xgb_opt_learning_rate}\")"
      ],
      "metadata": {
        "id": "-YByq-uwHSS7"
      },
      "id": "-YByq-uwHSS7",
      "execution_count": null,
      "outputs": []
    },
    {
      "cell_type": "markdown",
      "metadata": {
        "id": "d44d1284-4030-4746-82d6-738c93d1e86d"
      },
      "source": [
        "## Model Evaluation & Selection\n",
        "\n",
        "Having constructed and tested multiple specifications of different models, we take the best-performing model from the Bagging Strategy and Logistic Regression. With these models, we test their performance on the validation sets, which have so far been completely out of the training process. The best-performing model of the two is finally used in the deployment function as the \"best model\" we have constructed.\n",
        "\n",
        "Of course, we are aware that both models have room for improvements. We hope to have also suggested throughout the work in what ways we believe this could have been achieved."
      ],
      "id": "d44d1284-4030-4746-82d6-738c93d1e86d"
    },
    {
      "cell_type": "markdown",
      "source": [
        "### ADABoost Model\n",
        "\n",
        "This performed best out of the logistic models. **AAAAAAA COMMENT ON RESULTS**"
      ],
      "metadata": {
        "id": "_2lt5HOZjoBl"
      },
      "id": "_2lt5HOZjoBl"
    },
    {
      "cell_type": "code",
      "execution_count": 139,
      "metadata": {
        "id": "lsXVl2CdBjY0",
        "colab": {
          "base_uri": "https://localhost:8080/"
        },
        "outputId": "8648cafe-559e-4ca4-9c90-79cdf0ab3245"
      },
      "outputs": [
        {
          "output_type": "stream",
          "name": "stdout",
          "text": [
            "              precision    recall  f1-score   support\n",
            "\n",
            "       False       0.33      0.42      0.37      3245\n",
            "        True       0.88      0.83      0.86     16755\n",
            "\n",
            "    accuracy                           0.77     20000\n",
            "   macro avg       0.60      0.63      0.61     20000\n",
            "weighted avg       0.79      0.77      0.78     20000\n",
            "\n",
            "Log loss: 0.579145013249325\n"
          ]
        }
      ],
      "source": [
        "# Fit with train\n",
        "ADA_pipeline.fit(X_train, y_train)\n",
        "\n",
        "# Make predictions on validation set\n",
        "y_pred = ADA_pipeline.predict(X_val)\n",
        "\n",
        "# Generate classification report\n",
        "print(classification_report(y_val, y_pred))\n",
        "\n",
        "# Compute log loss\n",
        "y_pred_proba = ADA_pipeline.predict_proba(X_val)\n",
        "print(f\"Log loss: {log_loss(y_val, y_pred_proba)}\")\n"
      ],
      "id": "lsXVl2CdBjY0"
    },
    {
      "cell_type": "markdown",
      "source": [
        "### XGBoost Model\n",
        "\n",
        "This performed best out of the bagging models. **AAAAAAA COMMENT ON RESULTS**"
      ],
      "metadata": {
        "id": "ncm5B0vlqE1z"
      },
      "id": "ncm5B0vlqE1z"
    },
    {
      "cell_type": "code",
      "source": [
        "# REPLACE ADA PIPELINE WITH WHICHERVER PIPELINE PERFORMS BEST\n",
        "\n",
        "# Fit with train\n",
        "ADA_pipeline.fit(X_train, y_train)\n",
        "\n",
        "# Make predictions on validation set\n",
        "y_pred = ADA_pipeline.predict(X_val)\n",
        "\n",
        "# Generate classification report\n",
        "print(classification_report(y_val, y_pred))\n",
        "\n",
        "# Compute log loss\n",
        "y_pred_proba = ADA_pipeline.predict_proba(X_val)\n",
        "print(f\"Log loss: {log_loss(y_val, y_pred_proba)}\")\n"
      ],
      "metadata": {
        "id": "W8UzYwItqrSR"
      },
      "id": "W8UzYwItqrSR",
      "execution_count": null,
      "outputs": []
    },
    {
      "cell_type": "markdown",
      "source": [
        "**COMMENT ON WHICH MODEL PERFORMED BEST**"
      ],
      "metadata": {
        "id": "KhMCYAQdq1wG"
      },
      "id": "KhMCYAQdq1wG"
    },
    {
      "cell_type": "markdown",
      "metadata": {
        "id": "6FQbCoUbBly-"
      },
      "source": [
        "## Deployment Function\n",
        "\n",
        "Below, we propose a tentative rule-based function which is underpinned by the ML models we developed and selected.\n",
        "\n",
        "BELOW REPLACE FINAL_MODEL WITH THE MODEL WHICH PERFORMS BETTER OUT OF THE TWO. "
      ],
      "id": "6FQbCoUbBly-"
    },
    {
      "cell_type": "code",
      "execution_count": null,
      "metadata": {
        "id": "e6f8fbd3-f379-47be-8b3a-7a326f7558c5"
      },
      "outputs": [],
      "source": [
        "def discount_predictor(user_id, app_id, no_discount_threshold=0.8, twenty_threshold=0.7, forty_threshold=0.5, sixty_threshold=0.4, eighty_threshold=0.3):\n",
        "    \n",
        "    # Find the row in final_df that corresponds to the given user and app IDs\n",
        "    user_row = final_df.loc[(final_df['user_id'] == user_id) & (final_df['app_id'] == app_id)]\n",
        "    \n",
        "    if len(user_row) == 0:\n",
        "        raise ValueError(\"User and app ID combination not found in dataframe.\")\n",
        "    \n",
        "    # Make a prediction with the final model using the features from the user_row\n",
        "    prediction = final_model.predict_proba(user_row.drop(['user_id', 'app_id', 'y'], axis=1))\n",
        "    probability_of_liking = prediction[0][1]\n",
        "    \n",
        "    # Determine which discount to offer based on the probability of liking the game\n",
        "    if probability_of_liking >= no_discount_threshold:\n",
        "        print(f\"\"\"Customer has a probability of liking the selected game of {probability_of_liking*100}%. \n",
        "        \\nOffer no discount\"\"\")\n",
        "        return final_df[final_df['app_id' == app_id]]['price_original']\n",
        "    \n",
        "    elif probability_of_liking >= twenty_threshold:\n",
        "        print(f\"\"\"Customer has a probability of liking the selected game of {probability_of_liking*100}%. \n",
        "        \\nOffer a 20% discount\"\"\")\n",
        "        return final_df[final_df['app_id' == app_id]]['price_original']*0.8\n",
        "    \n",
        "    elif probability_of_liking >= forty_threshold:\n",
        "        print(f\"\"\"Customer has a probability of liking the selected game of {probability_of_liking*100}%. \n",
        "        \\nOffer a 40% discount\"\"\")\n",
        "        return final_df[final_df['app_id' == app_id]]['price_original']*0.6        \n",
        "    \n",
        "    elif probability_of_liking >= sixty_threshold:\n",
        "        print(f\"\"\"Customer has a probability of liking the selected game of {probability_of_liking*100}%. \n",
        "        \\nOffer a 60% discount\"\"\")\n",
        "        return final_df[final_df['app_id' == app_id]]['price_original']*0.4\n",
        "    \n",
        "    elif probability_of_liking >= eighty_threshold:\n",
        "        print(f\"\"\"Customer has a probability of liking the selected game of {probability_of_liking*100}%. \n",
        "        \\nOffer a 80% discount\"\"\")\n",
        "        return final_df[final_df['app_id' == app_id]]['price_original']*0.2\n",
        "    \n",
        "    else:\n",
        "        print(f\"\"\"Customer has a probability of liking the selected game of {probability_of_liking*100}%. \n",
        "        \\nDo not offer the game.\"\"\")"
      ],
      "id": "e6f8fbd3-f379-47be-8b3a-7a326f7558c5"
    }
  ],
  "metadata": {
    "colab": {
      "machine_shape": "hm",
      "provenance": []
    },
    "gpuClass": "standard",
    "kernelspec": {
      "display_name": "Python 3 (ipykernel)",
      "language": "python",
      "name": "python3"
    },
    "language_info": {
      "codemirror_mode": {
        "name": "ipython",
        "version": 3
      },
      "file_extension": ".py",
      "mimetype": "text/x-python",
      "name": "python",
      "nbconvert_exporter": "python",
      "pygments_lexer": "ipython3",
      "version": "3.9.16"
    }
  },
  "nbformat": 4,
  "nbformat_minor": 5
}