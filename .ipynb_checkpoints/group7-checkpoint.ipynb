{
 "cells": [
  {
   "cell_type": "markdown",
   "id": "dea93456-a96e-4d1f-99ec-0c38d40bda89",
   "metadata": {},
   "source": [
    "# **Machine Learning Group Project: Team 7**\n",
    "## Project introduction\n",
    "\n",
    "| Student Name | Student Number | Class Group |\n",
    "| --- | --- | --- |\n",
    "| **Alessandro Maugeri** | 53067 | TA |\n",
    "| **Frank Andreas Bauer** | 53121 | TA |\n",
    "|  **Johannes Rahn** | 53958 | TB |\n",
    "| **Nicole Zoppi** | 53854 | TB |\n",
    "| **Yannick von der Heyden** | 53629 | TA |\n",
    "\n",
    "\n",
    "\n",
    "- **Course & Course Code:** Machine Learning (2487)\n",
    "- **Instructors:** Qiwei Han & Alessandro Gambetti\n",
    "- **Academic Year:** 2022/2023\n",
    "\n",
    "\n",
    "**Introduction**: \n",
    "\n",
    "This project was developed by Alessandro Alfio Maugeri, Frank Andreas Bauer, Johannes Rahn, Nicole Zoppi, and Yannick von der Heyden as part of Nova SBE's Machine Learning (2487) course taught during Semester 2 of the 2022/2023 academic year by Professor Qiwei Han and Teaching Assistant Alessandro Gambetti.\n",
    "\n",
    "**Structure**:\n",
    "\n",
    "This project involves using data from two Kaggle pages to create a machine learning pipeline with a clear business use. The data is about Steam's library and includes information on games, DLCs, user reviews, and consensus (e.g. whether a review is positive or not, what general consensus is, how many people found the review useful, etc.).\n",
    "\n",
    "The project exploits data from two distinct Kaggle pages:\n",
    "\n",
    "- **Game Recommendations on Steam**\n",
    "https://www.kaggle.com/datasets/antonkozyriev/game-recommendations-on-steam?select=games.csv\n",
    "- **Steam Store Games (Clean dataset)**\n",
    "https://www.kaggle.com/datasets/nikdavis/steam-store-games?select=steam.csv\n",
    "\n",
    "The primary dataframes final_df, textual_df and the created networks can be directly integrated into the main notebook group7.ipynb. For details on their construction, refer to the appendix_notebooks folder. The final_df is created by merging four CSV files and one JSON file, found in the appendix/raw_data folder. By examining the appendices and raw data, users can understand how these dataframes were built and contribute to the project.\n",
    "\n",
    "**Business Case**: \n",
    "\n",
    "The objective of this project is to develop an end-to-end Machine Learning pipeline that can predict whether a given Steam user will enjoy a game, based on the similarity of the game's content to his existing library, the user's hours spent in other games and the reviews he wrote. By identifying the best-suited model, the aim is to help Steam optimize its service by tailoring it to individual users and creating a personalized recommender system.\n",
    "\n",
    "The potential benefits of this recommendation system include providing game suggestions that better match the user's preferences, thereby increasing user engagement and satisfaction with the platform. Additionally, with the help of dynamic pricing, Steam can optimize their revenue by offering games at different prices based on a user's potential enjoyment of a game and, therefore, deduce their willingness to pay.\n",
    "\n",
    "To ensure a appropriate discount mechanism, the system will utilize a rule-based approach that offers discounts on the most recommended games for each user. These most recommended games will be displayed to the user, with full price being applied to games that the user is very likely to buy based on the ML model predictions. On the other hand, higher discounts will be applied to games that are less recommended.\n",
    "\n",
    "This approach enables Steam to not only enhance the user experience through personalized recommendations but also to strategically maximize revenue through tailored pricing strategies. By displaying only the highest recommended games and adjusting discounts accordingly, the platform can encourage users to explore and purchase games that are best suited to their preferences. Ultimately, this project aims to create a more intuitive and satisfying gaming platform for users while simultaneously boosting Steam's business performance.\n"
   ]
  },
  {
   "cell_type": "markdown",
   "id": "f2540aaf-fc28-463b-ae53-9f3af7f6b760",
   "metadata": {
    "tags": []
   },
   "source": [
    "## Importing Packages "
   ]
  },
  {
   "cell_type": "code",
   "execution_count": 1,
   "id": "bacd787f",
   "metadata": {},
   "outputs": [],
   "source": [
    "import ast\n",
    "import csv\n",
    "import datetime\n",
    "import warnings\n",
    "import scipy\n",
    "import pandas as pd\n",
    "import numpy as np\n",
    "from datetime import datetime\n",
    "from kneed import KneeLocator\n",
    "from category_encoders import TargetEncoder\n",
    "\n",
    "# Plotting\n",
    "import seaborn as sns\n",
    "import matplotlib.pyplot as plt\n",
    "import matplotlib.ticker as mtick\n",
    "\n",
    "# From sklearn\n",
    "from sklearn.compose import ColumnTransformer\n",
    "from sklearn.decomposition import TruncatedSVD\n",
    "from sklearn.pipeline import Pipeline, FeatureUnion\n",
    "from sklearn.base import BaseEstimator, TransformerMixin\n",
    "from sklearn.feature_extraction.text import TfidfVectorizer\n",
    "from sklearn.linear_model import LinearRegression, LogisticRegression, Ridge\n",
    "from sklearn.model_selection import train_test_split, cross_val_score, GridSearchCV\n",
    "from sklearn.metrics import accuracy_score, precision_score, recall_score, f1_score, make_scorer, mean_squared_error\n",
    "from sklearn.metrics import pairwise_distances\n",
    "from sklearn.preprocessing import FunctionTransformer, StandardScaler, OneHotEncoder, KBinsDiscretizer, OrdinalEncoder\n",
    "from sklearn.preprocessing import PolynomialFeatures, MinMaxScaler\n",
    "\n",
    "\n",
    "# From imblearn\n",
    "from imblearn.over_sampling import SMOTE\n",
    "from imblearn.pipeline import Pipeline as imPipeline\n",
    "\n",
    "# From scipy\n",
    "from scipy.stats import chi2_contingency, pointbiserialr"
   ]
  },
  {
   "cell_type": "markdown",
   "id": "c58944f8-dc00-4a5c-988c-55a0904080f7",
   "metadata": {
    "tags": []
   },
   "source": [
    "## Reading DataFrame"
   ]
  },
  {
   "cell_type": "code",
   "execution_count": 2,
   "id": "e4cccfbe-8970-4925-85a4-e96b4d687f9e",
   "metadata": {},
   "outputs": [],
   "source": [
    "# Optimizing datatypes for efficient DF storage\n",
    "data_types = {\n",
    "    'review_id': 'int32',\n",
    "    'y': 'bool',\n",
    "    'funny': 'int16',\n",
    "    'helpful': 'int16',\n",
    "    'app_id': 'int32',\n",
    "    'title': 'string',\n",
    "    'rating': 'category',\n",
    "    'positive_ratio': 'int16',\n",
    "    'user_reviews': 'int32',\n",
    "    'win': 'bool',\n",
    "    'mac': 'bool',\n",
    "    'linux': 'bool',\n",
    "    'price_final': 'float32',\n",
    "    'price_original': 'float32',\n",
    "    'discount': 'float32',\n",
    "    'description': 'string',\n",
    "    'tags': 'string',\n",
    "    'english': 'int8',\n",
    "    'developer': 'category',\n",
    "    'publisher': 'category',\n",
    "    'required_age': 'int8',\n",
    "    'genres': 'string',\n",
    "    'steamspy_tags': 'string',\n",
    "    'achievements': 'int16',\n",
    "    'average_playtime': 'int32',\n",
    "    'median_playtime': 'int32',\n",
    "    'owners': 'category',\n",
    "    'steam_deck': 'bool',\n",
    "    'user_id': 'int32',\n",
    "    'products': 'int16',\n",
    "    'reviews': 'int16',\n",
    "    'hours': 'float32',\n",
    "    'categories': 'string'\n",
    "}"
   ]
  },
  {
   "cell_type": "code",
   "execution_count": 3,
   "id": "9b44ccfe-4733-494a-bdfd-c8d01d2e682e",
   "metadata": {},
   "outputs": [],
   "source": [
    "# Import the final DataFrame\n",
    "final_df = pd.read_csv(\"data/final_df.csv\",\n",
    "                       dtype=data_types, parse_dates=['date', 'date_release'])\n",
    "\n",
    "# Import the Textual Data\n",
    "textual_df = pd.read_csv(\"data/textual_data.csv\", index_col = \"app_id\")"
   ]
  },
  {
   "cell_type": "code",
   "execution_count": 4,
   "id": "c03789a1-de5a-497d-88a6-274cc2d3b8e0",
   "metadata": {},
   "outputs": [],
   "source": [
    "# Rearrange Columns\n",
    "final_df = final_df.reindex(columns = [\"review_id\", \"y\", \"date\", \"funny\", \"helpful\",\n",
    "                                       \"app_id\", \"title\", \"date_release\", \"rating\", \n",
    "                                       \"positive_ratio\", \"user_reviews\", \"win\", \"mac\", \"linux\", \n",
    "                                       \"price_final\", \"price_original\", \"discount\", \"description\",\n",
    "                                       \"tags\", 'english', 'developer', 'publisher', 'required_age', \n",
    "                                       'genres', 'steamspy_tags','achievements', 'average_playtime', \n",
    "                                       'median_playtime', \"owners\", \"steam_deck\",\n",
    "                                       \"user_id\", \"products\", \"reviews\", \"hours\"])\n",
    "\n",
    "# Sort by Review ID\n",
    "final_df.sort_values(by=[\"review_id\"], inplace = True)"
   ]
  },
  {
   "cell_type": "code",
   "execution_count": 5,
   "id": "133d2744-59f5-4a98-88f6-c62327c92d83",
   "metadata": {},
   "outputs": [
    {
     "data": {
      "text/plain": [
       "(6564923, 34)"
      ]
     },
     "execution_count": 5,
     "metadata": {},
     "output_type": "execute_result"
    }
   ],
   "source": [
    "final_df.shape"
   ]
  },
  {
   "cell_type": "markdown",
   "id": "807b92f5-336f-485c-8dfc-34bee6030789",
   "metadata": {
    "tags": []
   },
   "source": [
    "## Stratified Resampling"
   ]
  },
  {
   "cell_type": "markdown",
   "id": "a6ed0d34-09d1-4fa7-a4df-0c9467c4eb28",
   "metadata": {},
   "source": [
    "The code below performs stratified sampling on the dataset. We do not have the computing power to run all our models on the complete set. Consequently, we provide the possibility of sampling the data down to 100,000 (minimum sample), 500,000 (medium sample), or 1,000,000 (medium-high) sample, should the computing power be sufficient. The data is stratified according to the target variable so as to prevent the further loss of negative feedback, which is already a strong minority in the set, as will be shown later in the notebook.\n",
    "\n",
    "Alternatively, by skipping the lines of code below one can use the complete dataset with 6,564,923 observations. This naturally requires the appropriate computing power. *Due to our limited computing power, we will be running the entire notebook on 500,000 observations*."
   ]
  },
  {
   "cell_type": "code",
   "execution_count": 6,
   "id": "7b107312-aac9-49aa-b87c-c93525389b12",
   "metadata": {},
   "outputs": [],
   "source": [
    "n_total_samples = 100000\n",
    "#n_total_samples = 500000\n",
    "#n_total_samples = 1000000"
   ]
  },
  {
   "cell_type": "code",
   "execution_count": 7,
   "id": "c1c8376e-5bdd-4f75-9e40-756d6d175209",
   "metadata": {},
   "outputs": [],
   "source": [
    "# Find Negative-Positive Ratio\n",
    "neg_pos_ratio = final_df['y'].value_counts()[0] / final_df['y'].value_counts()[1]\n",
    "\n",
    "# Determine Number of False and Number of True Samples\n",
    "n_false_samples = int(n_total_samples * neg_pos_ratio)\n",
    "n_true_samples = n_total_samples - n_false_samples\n",
    "\n",
    "# Sample On this Basis \n",
    "false_samples = final_df[final_df['y'] == False].sample(n_false_samples, random_state=70)\n",
    "true_samples = final_df[final_df['y'] == True].sample(n_true_samples, random_state=70)\n",
    "\n",
    "final_df = pd.concat([false_samples, true_samples])\n",
    "\n",
    "# shuffle the data\n",
    "final_df = final_df.sample(frac=1, random_state=70)"
   ]
  },
  {
   "cell_type": "markdown",
   "id": "81851dc9-c1ce-44bc-8233-63b5e5b15b9b",
   "metadata": {},
   "source": [
    "*EXPLANATION FOR HANDLING OF REVIEW-RELATED DATA*\n",
    "\n",
    "We drop all the data inherently describing reviews because they cannot be used as inputs for the models (it is data collected after the acquisition of a game)"
   ]
  },
  {
   "cell_type": "code",
   "execution_count": 8,
   "id": "1bcb1812-6258-48f1-81ef-ae8d083458a5",
   "metadata": {},
   "outputs": [],
   "source": [
    "# Drop Tags, SteamSpy Tags, Description, Genres (as Single-Column List)\n",
    "final_df.drop(['review_id', 'funny', 'helpful'], \n",
    "              axis = 1, inplace = True)"
   ]
  },
  {
   "cell_type": "markdown",
   "id": "388c5a1e-b0b1-40fa-b3f6-4ac637f96d6c",
   "metadata": {
    "tags": []
   },
   "source": [
    "## Data Exploration"
   ]
  },
  {
   "cell_type": "markdown",
   "id": "f589bde0-f093-4599-ae6b-48e5ab46e640",
   "metadata": {},
   "source": [
    "### General Analysis\n",
    "\n",
    "Before diving deep into data exploration, let's first take a very high-level look at our dataset. We'll examine the number of features and column names.\n",
    "\n",
    "**Important to note**: In the final_df_prep notebook, we provide detailed definitions of each column in the dataset. If you find any labels unclear, please refer to that notebook for clarification."
   ]
  },
  {
   "cell_type": "code",
   "execution_count": 9,
   "id": "5b78a773-e4fc-4274-ac15-05e52c921006",
   "metadata": {},
   "outputs": [
    {
     "name": "stdout",
     "output_type": "stream",
     "text": [
      "['y', 'date', 'app_id', 'title', 'date_release', 'rating', 'positive_ratio', 'user_reviews', 'win', 'mac', 'linux', 'price_final', 'price_original', 'discount', 'description', 'tags', 'english', 'developer', 'publisher', 'required_age', 'genres', 'steamspy_tags', 'achievements', 'average_playtime', 'median_playtime', 'owners', 'steam_deck', 'user_id', 'products', 'reviews', 'hours']\n"
     ]
    }
   ],
   "source": [
    "column_list = final_df.columns.tolist()\n",
    "print(column_list)"
   ]
  },
  {
   "cell_type": "code",
   "execution_count": 10,
   "id": "d6ef64e0-14c4-4010-92f7-272db834ba7e",
   "metadata": {},
   "outputs": [
    {
     "name": "stdout",
     "output_type": "stream",
     "text": [
      "31\n"
     ]
    }
   ],
   "source": [
    "print(len(column_list))"
   ]
  },
  {
   "cell_type": "code",
   "execution_count": 11,
   "id": "0343b12d-f345-4af1-86ee-bed7f067a3c9",
   "metadata": {},
   "outputs": [
    {
     "data": {
      "text/plain": [
       "y                             bool\n",
       "date                datetime64[ns]\n",
       "app_id                       int32\n",
       "title                       string\n",
       "date_release        datetime64[ns]\n",
       "rating                    category\n",
       "positive_ratio               int16\n",
       "user_reviews                 int32\n",
       "win                           bool\n",
       "mac                           bool\n",
       "linux                         bool\n",
       "price_final                float32\n",
       "price_original             float32\n",
       "discount                   float32\n",
       "description                 string\n",
       "tags                        string\n",
       "english                       int8\n",
       "developer                 category\n",
       "publisher                 category\n",
       "required_age                  int8\n",
       "genres                      string\n",
       "steamspy_tags               string\n",
       "achievements                 int16\n",
       "average_playtime             int32\n",
       "median_playtime              int32\n",
       "owners                    category\n",
       "steam_deck                    bool\n",
       "user_id                      int32\n",
       "products                     int16\n",
       "reviews                      int16\n",
       "hours                      float32\n",
       "dtype: object"
      ]
     },
     "execution_count": 11,
     "metadata": {},
     "output_type": "execute_result"
    }
   ],
   "source": [
    "final_df.dtypes"
   ]
  },
  {
   "cell_type": "markdown",
   "id": "60938402-f4da-4a24-b93f-49f6a33074ee",
   "metadata": {},
   "source": [
    "### Target Variable Exploration\n",
    "\n",
    "First we explore the distribution of our target variable _y_, which is a column of booleans which signal whether a given user would recommend a given game or not.\n",
    "\n",
    "In creating a countplot, we find that the dataset is rather unbalanced. Only 14.12% of observations is negative, while the remaining 85.88% is positive. This will certainly be kept in consideration when training our model, as the unbalance must be offset. With a quick calculation, we find that the ratio of positives to negatives is 6.08 approximately."
   ]
  },
  {
   "cell_type": "code",
   "execution_count": 12,
   "id": "29cfd9f5-2745-4f1f-a11f-5df75e9a7500",
   "metadata": {},
   "outputs": [
    {
     "data": {
      "text/plain": [
       "<Figure size 720x360 with 0 Axes>"
      ]
     },
     "metadata": {},
     "output_type": "display_data"
    },
    {
     "data": {
      "image/png": "[encoded data removed]",
      "text/plain": [
       "<Figure size 600x400 with 2 Axes>"
      ]
     },
     "metadata": {
      "needs_background": "light"
     },
     "output_type": "display_data"
    }
   ],
   "source": [
    "# Plotting the frequency distribution of number of recommendations\n",
    "plt.figure(figsize=(10, 5))\n",
    "plt.figure(dpi=100)\n",
    "\n",
    "ax = sns.countplot(x='y', data=final_df)\n",
    "\n",
    "plt.title('Frequency Distribution of Recommendations')\n",
    "plt.xlabel('Is the game recommended?')\n",
    "plt.ylabel('Observation Count')\n",
    "\n",
    "# Calculate percentage of each category\n",
    "percentages = final_df['y'].value_counts(normalize=True) * 100\n",
    "\n",
    "# Annotate the bars with counts and percentages\n",
    "for p in ax.patches:\n",
    "    count = int(p.get_height())\n",
    "    percentage = percentages.sort_values()[int(p.get_x() + p.get_x())]\n",
    "    ax.annotate(f'{count}\\n({percentage:.2f}%)', \n",
    "                (p.get_x() + p.get_width() / 2., p.get_height() / 2),\n",
    "                ha='center', va='center', fontsize=12, color='black')\n",
    "\n",
    "# Add percentage axis\n",
    "ax2 = ax.twinx()\n",
    "ax2.set_ylim(0, 100)\n",
    "ax2.set_ylabel('Percentage of Observations')\n",
    "ax2.yaxis.set_major_formatter(mtick.PercentFormatter())\n",
    "\n",
    "plt.show()"
   ]
  },
  {
   "cell_type": "code",
   "execution_count": 13,
   "id": "75d11377-148d-4bcf-b4a0-a0bcc89184ab",
   "metadata": {},
   "outputs": [
    {
     "name": "stdout",
     "output_type": "stream",
     "text": [
      "The \u001b[1mratio of positive to negative recommendations\u001b[0m is 0.1966732483695327\n"
     ]
    }
   ],
   "source": [
    "print(\"The \\033[1mratio of positive to negative recommendations\\033[0m is\", \n",
    "     final_df['y'].value_counts()[0] / final_df['y'].value_counts()[1])"
   ]
  },
  {
   "cell_type": "markdown",
   "id": "284fdc38-89f8-491e-a56e-50ca42063e50",
   "metadata": {},
   "source": [
    "### Steam Rating Exploration\n",
    "\n",
    "Reamining within the realm of ratings, we explore the distribution of the Steam rating system through a frequency table. Very interestingly, we observe that many of the rating categories are not in fact present in our data. It would seem that there are no games with overall negative reviews, while most games either have a _Very Positive_ or _Overwhelmingly Positive_ rating (appr. 86.24%). All in all, this is in line with the previous observation concerning the unbalanced dataset. \n",
    "\n",
    "Another noteworthy aspect of the dataset is that there are no _Positive_ reviews. The remaining 13.76% is split between _Mostly Positive_ and _Mixed_, with the former counting more observation than the latter. It is worth remembering that the Steam rating system assigns the _Positive_ rating to games that seem to have good ratings, but a review count which is not high enough to really \"consacrate\" its status as a very positively (or overwhlemingly positively) rated game. This perhaps informs us on the type of game which tends to be included in these datasets, focusing on larger more \"mainstream\" products rather than smaller lesser-known ones."
   ]
  },
  {
   "cell_type": "code",
   "execution_count": 14,
   "id": "7339f770-b75d-4df8-b82a-48a22f873eef",
   "metadata": {},
   "outputs": [
    {
     "data": {
      "text/html": [
       "<div>\n",
       "<style scoped>\n",
       "    .dataframe tbody tr th:only-of-type {\n",
       "        vertical-align: middle;\n",
       "    }\n",
       "\n",
       "    .dataframe tbody tr th {\n",
       "        vertical-align: top;\n",
       "    }\n",
       "\n",
       "    .dataframe thead th {\n",
       "        text-align: right;\n",
       "    }\n",
       "</style>\n",
       "<table border=\"1\" class=\"dataframe\">\n",
       "  <thead>\n",
       "    <tr style=\"text-align: right;\">\n",
       "      <th></th>\n",
       "      <th>Observation Count</th>\n",
       "      <th>Percentage of Observations</th>\n",
       "    </tr>\n",
       "  </thead>\n",
       "  <tbody>\n",
       "    <tr>\n",
       "      <th>Overwhelmingly Positive</th>\n",
       "      <td>23255</td>\n",
       "      <td>23.25%</td>\n",
       "    </tr>\n",
       "    <tr>\n",
       "      <th>Very Positive</th>\n",
       "      <td>62738</td>\n",
       "      <td>62.74%</td>\n",
       "    </tr>\n",
       "    <tr>\n",
       "      <th>Positive</th>\n",
       "      <td>0</td>\n",
       "      <td>0.00%</td>\n",
       "    </tr>\n",
       "    <tr>\n",
       "      <th>Mostly Positive</th>\n",
       "      <td>11689</td>\n",
       "      <td>11.69%</td>\n",
       "    </tr>\n",
       "    <tr>\n",
       "      <th>Mixed</th>\n",
       "      <td>2318</td>\n",
       "      <td>2.32%</td>\n",
       "    </tr>\n",
       "    <tr>\n",
       "      <th>Mostly Negative</th>\n",
       "      <td>0</td>\n",
       "      <td>0.00%</td>\n",
       "    </tr>\n",
       "    <tr>\n",
       "      <th>Negative</th>\n",
       "      <td>0</td>\n",
       "      <td>0.00%</td>\n",
       "    </tr>\n",
       "    <tr>\n",
       "      <th>Very Negative</th>\n",
       "      <td>0</td>\n",
       "      <td>0.00%</td>\n",
       "    </tr>\n",
       "    <tr>\n",
       "      <th>Overwhelmingly Negative</th>\n",
       "      <td>0</td>\n",
       "      <td>0.00%</td>\n",
       "    </tr>\n",
       "  </tbody>\n",
       "</table>\n",
       "</div>"
      ],
      "text/plain": [
       "                         Observation Count Percentage of Observations\n",
       "Overwhelmingly Positive              23255                     23.25%\n",
       "Very Positive                        62738                     62.74%\n",
       "Positive                                 0                      0.00%\n",
       "Mostly Positive                      11689                     11.69%\n",
       "Mixed                                 2318                      2.32%\n",
       "Mostly Negative                          0                      0.00%\n",
       "Negative                                 0                      0.00%\n",
       "Very Negative                            0                      0.00%\n",
       "Overwhelmingly Negative                  0                      0.00%"
      ]
     },
     "metadata": {},
     "output_type": "display_data"
    }
   ],
   "source": [
    "# Create a frequency table\n",
    "rating_counts = pd.DataFrame(final_df['rating'].value_counts())\n",
    "\n",
    "# Rename the columns\n",
    "rating_counts.columns = ['Observation Count']\n",
    "\n",
    "# Sort the rows based on the order of rating categories\n",
    "rating_order = [\"Overwhelmingly Positive\", \"Very Positive\", \"Positive\", \n",
    "                \"Mostly Positive\", \"Mixed\", \"Mostly Negative\", \n",
    "                \"Negative\", \"Very Negative\", \"Overwhelmingly Negative\"]\n",
    "\n",
    "rating_counts = rating_counts.reindex(rating_order)\n",
    "\n",
    "# Fill NaN with 0\n",
    "rating_counts.fillna(0, inplace = True)\n",
    "\n",
    "# Add a column for percentage of observations\n",
    "rating_counts['Percentage of Observations'] = rating_counts['Observation Count'] / len(final_df) * 100\n",
    "\n",
    "# Format the percentage column\n",
    "rating_counts['Percentage of Observations'] = rating_counts['Percentage of Observations'].map('{:.2f}%'.format)\n",
    "\n",
    "# Turn to Integer\n",
    "rating_counts[\"Observation Count\"] = [int(i) for i in rating_counts[\"Observation Count\"]]\n",
    "\n",
    "display(rating_counts)"
   ]
  },
  {
   "cell_type": "markdown",
   "id": "23d7dda3-02eb-4ec4-b4ec-941ae2011870",
   "metadata": {},
   "source": [
    "### Owners Exploration\n",
    "\n",
    "We plot the ownership data, which is currently subdivided in categorical strings which simply describe the range of users which any given game has. For the purposes of our model, this will clearly have to be transformed through some form of ordinal encoding. We look at the distribution of these games to gain actionable insights on how data is distributed across these categories, and whether some of these categories can be \"condensed\" together. This may simplify our eventual model and has the added benefit of ironing out categories which may contain a number of observations far too small compared to other categories. The implication here being that if the data were too unbalanced, it would become more difficult for an eventual regression to truly establish clear statistically significant links.\n",
    "\n",
    "\n",
    "CHOOSE ONE OF THE PLOTS BELOW AND EXPAND ON IT."
   ]
  },
  {
   "cell_type": "code",
   "execution_count": 15,
   "id": "297d977d-541b-4aa3-96f3-cd3568c7737e",
   "metadata": {},
   "outputs": [
    {
     "data": {
      "text/plain": [
       "<Figure size 720x360 with 0 Axes>"
      ]
     },
     "metadata": {},
     "output_type": "display_data"
    },
    {
     "data": {
      "image/png": "[encoded data removed]",
      "text/plain": [
       "<Figure size 600x400 with 1 Axes>"
      ]
     },
     "metadata": {},
     "output_type": "display_data"
    }
   ],
   "source": [
    "# Create Order\n",
    "order_list = [\"0-20\", \"20-50\", \"50-100\", \"100-200\", \"200-500\",\n",
    "              \"500-1000\", \"1000-2000\", \"2000-5000\", \"5000-10000\",\n",
    "              \"10000-20000\", \"20000-50000\", \"50000-100000\", \n",
    "              \"100000-200000\"]\n",
    "\n",
    "# Plotting the frequency distribution of owners\n",
    "sns.set_theme()\n",
    "plt.figure(figsize=(10, 5))\n",
    "plt.figure(dpi=100)\n",
    "plt.xticks(rotation=90)\n",
    "\n",
    "ax = sns.countplot(x='owners', data=final_df,\n",
    "                  order = order_list)\n",
    "\n",
    "# Add percentages to plot\n",
    "total = len(final_df)\n",
    "for p in ax.patches:\n",
    "    percentage = '{:.1f}%'.format(100 * p.get_height() / total)\n",
    "    x = p.get_x() + p.get_width() / 2\n",
    "    y = p.get_y() + p.get_height() + 30\n",
    "    ax.annotate(percentage, (x, y), ha='center', fontsize=8, color='black')\n",
    "\n",
    "plt.title(\"Frequency Distribution of Owners per Game\")\n",
    "plt.xlabel('Number of Owners')\n",
    "plt.ylabel('Number of Games')\n",
    "plt.show()"
   ]
  },
  {
   "cell_type": "markdown",
   "id": "2b2395f6-7acb-444d-9ad3-f9ab33414dd8",
   "metadata": {
    "tags": []
   },
   "source": [
    "### Double check text\n",
    "\n",
    "The ownership data plotted in the frequency distribution graph illustrates the number of games in each ownership category. From the results, we can observe the following insights:\n",
    "\n",
    "The distribution of game ownership is skewed to the right, with most games having a relatively lower number of owners. The largest group of games (in terms of frequency) are those owned by 1,000 to 10,000 users each. This indicates that a significant portion of games in the dataset falls within this ownership range. Very few games have an extremely high number of owners (100,000-200,000). This implies that only a small number of games become exceptionally popular and reach a large user base. There are also a considerable number of games with a small number of owners (0-20, 20-50, and 50-100). These games might be niche titles, experimental projects, or new releases that have not yet gained popularity. These results suggest that the majority of games in the dataset have a modest user base, with only a few games achieving widespread popularity. When working with the \"owners\" feature for predictive modeling, it might be beneficial to consider ordinal encoding or consolidating some of the categories with fewer observations to simplify the model and ensure a more balanced dataset."
   ]
  },
  {
   "cell_type": "code",
   "execution_count": null,
   "id": "f6f423b8-1325-4c61-817d-df696b0dc995",
   "metadata": {},
   "outputs": [],
   "source": []
  },
  {
   "cell_type": "markdown",
   "id": "7cfca13c-1a0b-43e3-b55a-d7cac57d0e83",
   "metadata": {},
   "source": [
    "### Discount Rates\n",
    "\n",
    "Given that discounts are part of the sales process, we attempt to establish whether the _discount_ column contains a satisfactory range of values which may allow us to appropriately enhance the model (or perhaps construct some form of additional model to predict offered discount). \n",
    "\n",
    "The results here are rather disappointing due to the limited range of unique values which this column takes (11), which almost makes it more of a discrete variable than continuous one. Furthermore, only discounts above 50% were retained in this dataset and they are a very large minority compared to games which were purchased at full price.\n",
    "\n",
    "It would seem that the rich range of possible discounts which were found to exist in [a_csv_creation.ipynb](a_csv_creation.ipynb) were lost in the merging process, particularly when merging the recommendations dataset. This is problematic given that the dataframe is the only truly indispensible one for our model, therefore we cannot run any join that would force games into the dataframe which it does not contain any data for. In that case, we would be foregoing the game-user pairing which is intrinsicially necessary to building our analysis. We do not believe building a model based on the games.csv alone would be useful, as discounts on these platforms are not solely based on game characteristics, but also whether a user is deemed to a good fit for a certain special offer. \n",
    "\n",
    "Given these considerations, we will later build a rule-based discount determiner as opposed to a fully automated machine-learning algorithm."
   ]
  },
  {
   "cell_type": "code",
   "execution_count": 16,
   "id": "1a11b0e5-bda9-4db2-a551-a7d07b29fa0c",
   "metadata": {},
   "outputs": [
    {
     "name": "stdout",
     "output_type": "stream",
     "text": [
      "Number of Unique Values in discount column: 11\n"
     ]
    }
   ],
   "source": [
    "print(\"Number of Unique Values in discount column:\", len(final_df[\"discount\"].value_counts()))"
   ]
  },
  {
   "cell_type": "code",
   "execution_count": 17,
   "id": "c7f1ba73-3a00-4f5e-87e6-e070c8b302da",
   "metadata": {},
   "outputs": [
    {
     "data": {
      "text/html": [
       "<div>\n",
       "<style scoped>\n",
       "    .dataframe tbody tr th:only-of-type {\n",
       "        vertical-align: middle;\n",
       "    }\n",
       "\n",
       "    .dataframe tbody tr th {\n",
       "        vertical-align: top;\n",
       "    }\n",
       "\n",
       "    .dataframe thead th {\n",
       "        text-align: right;\n",
       "    }\n",
       "</style>\n",
       "<table border=\"1\" class=\"dataframe\">\n",
       "  <thead>\n",
       "    <tr style=\"text-align: right;\">\n",
       "      <th></th>\n",
       "      <th>Discount Count</th>\n",
       "      <th>Discount Percentage</th>\n",
       "    </tr>\n",
       "  </thead>\n",
       "  <tbody>\n",
       "    <tr>\n",
       "      <th>0.0%</th>\n",
       "      <td>94171</td>\n",
       "      <td>94.171</td>\n",
       "    </tr>\n",
       "    <tr>\n",
       "      <th>50.0%</th>\n",
       "      <td>435</td>\n",
       "      <td>0.435</td>\n",
       "    </tr>\n",
       "    <tr>\n",
       "      <th>60.0%</th>\n",
       "      <td>1100</td>\n",
       "      <td>1.100</td>\n",
       "    </tr>\n",
       "    <tr>\n",
       "      <th>65.0%</th>\n",
       "      <td>208</td>\n",
       "      <td>0.208</td>\n",
       "    </tr>\n",
       "    <tr>\n",
       "      <th>66.0%</th>\n",
       "      <td>304</td>\n",
       "      <td>0.304</td>\n",
       "    </tr>\n",
       "    <tr>\n",
       "      <th>67.0%</th>\n",
       "      <td>112</td>\n",
       "      <td>0.112</td>\n",
       "    </tr>\n",
       "    <tr>\n",
       "      <th>75.0%</th>\n",
       "      <td>1618</td>\n",
       "      <td>1.618</td>\n",
       "    </tr>\n",
       "    <tr>\n",
       "      <th>80.0%</th>\n",
       "      <td>538</td>\n",
       "      <td>0.538</td>\n",
       "    </tr>\n",
       "    <tr>\n",
       "      <th>84.0%</th>\n",
       "      <td>107</td>\n",
       "      <td>0.107</td>\n",
       "    </tr>\n",
       "    <tr>\n",
       "      <th>85.0%</th>\n",
       "      <td>134</td>\n",
       "      <td>0.134</td>\n",
       "    </tr>\n",
       "    <tr>\n",
       "      <th>90.0%</th>\n",
       "      <td>1273</td>\n",
       "      <td>1.273</td>\n",
       "    </tr>\n",
       "  </tbody>\n",
       "</table>\n",
       "</div>"
      ],
      "text/plain": [
       "       Discount Count  Discount Percentage\n",
       "0.0%            94171               94.171\n",
       "50.0%             435                0.435\n",
       "60.0%            1100                1.100\n",
       "65.0%             208                0.208\n",
       "66.0%             304                0.304\n",
       "67.0%             112                0.112\n",
       "75.0%            1618                1.618\n",
       "80.0%             538                0.538\n",
       "84.0%             107                0.107\n",
       "85.0%             134                0.134\n",
       "90.0%            1273                1.273"
      ]
     },
     "execution_count": 17,
     "metadata": {},
     "output_type": "execute_result"
    }
   ],
   "source": [
    "discount_count = final_df[\"discount\"].value_counts()\n",
    "discount_perc = final_df[\"discount\"].value_counts(normalize=True) * 100\n",
    "discount_df = pd.DataFrame({'Discount Count': discount_count, 'Discount Percentage': discount_perc})\n",
    "discount_df.index = [f'{round(i, 2)}%' for i in discount_df.index]\n",
    "discount_df.sort_index(ascending=True, inplace=True)\n",
    "discount_df"
   ]
  },
  {
   "cell_type": "markdown",
   "id": "3dded9f3-3282-470e-82f9-0886b2ad5d47",
   "metadata": {},
   "source": [
    "### **Final Prices**"
   ]
  },
  {
   "cell_type": "markdown",
   "id": "73246ad4-23b1-4654-b8f9-4b4b14abbc78",
   "metadata": {},
   "source": [
    "This boxplot provides us with a visual summary of the distribution of the final prices in the dataset. It shows the median, lower quartile, upper quartile, and any potential outliers in the data. This helps us to understand the range and spread of the final prices, which can provide insights into pricing strategies or market conditions.\n",
    "\n",
    "It also helps us to identify potential outliers in the data. Those outliers may indicate errors, unusual pricing patterns, or unique market conditions. Identifying these outliers can help you better understand the data and decide how to handle them in further analysis."
   ]
  },
  {
   "cell_type": "code",
   "execution_count": 18,
   "id": "84e8f6bd-7430-422d-a6f5-0a40eef2b9e0",
   "metadata": {},
   "outputs": [
    {
     "data": {
      "image/png": "[encoded data removed]",
      "text/plain": [
       "<Figure size 432x288 with 1 Axes>"
      ]
     },
     "metadata": {},
     "output_type": "display_data"
    }
   ],
   "source": [
    "# boxplot of final price\n",
    "\n",
    "ax = final_df.boxplot('price_final')\n",
    "\n",
    "ax.set_ylabel('Price')\n",
    "ax.set_title('Box plot of game prices')\n",
    "\n",
    "stats = final_df['price_final'].describe()\n",
    "mean = final_df['price_final'].mean()\n",
    "std_dev = final_df['price_final'].std()\n",
    "\n",
    "# calculate outliers\n",
    "q1 = stats['25%']\n",
    "q3 = stats['75%']\n",
    "iqr = q3 - q1\n",
    "lower_bound = q1 - (1.5 * iqr)\n",
    "upper_bound = q3 + (1.5 * iqr)\n",
    "\n",
    "outliers = final_df[(final_df['price_final'] < lower_bound) | (final_df['price_final'] > upper_bound)]['price_final']\n",
    "num_outliers = outliers.count()\n",
    "\n",
    "# add statistics to the plot\n",
    "ax.text(0.7, 0.85, f\"Mean: {mean:.2f}\\nStd Dev: {std_dev:.2f}\\nMedian: {stats['50%']:.2f}\\nQ1: {stats['25%']:.2f}\\nQ3: {stats['75%']:.2f}\\nOutliers: {num_outliers}\",\n",
    "        transform=ax.transAxes, bbox=dict(facecolor='white', edgecolor='black', alpha=0.9))\n",
    "\n",
    "\n",
    "plt.show()\n"
   ]
  },
  {
   "cell_type": "markdown",
   "id": "7356a4f6-703a-4ef6-89ab-2078ea60b12b",
   "metadata": {},
   "source": [
    "The mean (average) of the data is 20.82, which means that the typical value in the dataset is around 21.32. The median (middle value) is 19.99, which suggests that half of the data points are below 19.99 and half are above it. Since the mean and median are close to each other, this implies that the data distribution might be roughly symmetrical.\n",
    "\n",
    "The standard deviation (Std. Dev.) of 16.95 indicates that the data points are spread out over a range of approximately 16.95 units from the mean. A larger standard deviation suggests greater variability in the dataset.\n",
    "\n",
    "The first quartile (Q1) is 7.99, which means that 25% of the data points are below 7.99. The third quartile (Q3) is 29.99, indicating that 75% of the data points are below 29.99.\n",
    "\n",
    "There are no outliers in this dataset, which means that all data points fall within a reasonable range and there are no extreme values that could potentially skew the interpretation."
   ]
  },
  {
   "cell_type": "markdown",
   "id": "9535f3f8-a7f5-4a3c-b621-157be1b9de45",
   "metadata": {},
   "source": [
    "### Game developers and publishers"
   ]
  },
  {
   "cell_type": "markdown",
   "id": "a28df5f0-bcdd-498f-ac5f-bc5d265a1e9d",
   "metadata": {},
   "source": [
    "In this section we explore the top 10 developers and publishers (number of games published and rating). It is important to note that developers can match or be different from publishers."
   ]
  },
  {
   "cell_type": "markdown",
   "id": "713b060f-4dbe-473a-a871-ab736882adb6",
   "metadata": {},
   "source": [
    "#### Top 10 ranking of number of unique games released by developers and publisher**"
   ]
  },
  {
   "cell_type": "code",
   "execution_count": 19,
   "id": "e1dd8251-7e83-4faf-9a67-c6b4d8ca3c99",
   "metadata": {},
   "outputs": [
    {
     "data": {
      "text/html": [
       "<div>\n",
       "<style scoped>\n",
       "    .dataframe tbody tr th:only-of-type {\n",
       "        vertical-align: middle;\n",
       "    }\n",
       "\n",
       "    .dataframe tbody tr th {\n",
       "        vertical-align: top;\n",
       "    }\n",
       "\n",
       "    .dataframe thead tr th {\n",
       "        text-align: left;\n",
       "    }\n",
       "</style>\n",
       "<table border=\"1\" class=\"dataframe\">\n",
       "  <thead>\n",
       "    <tr>\n",
       "      <th></th>\n",
       "      <th colspan=\"2\" halign=\"left\">Developers</th>\n",
       "      <th colspan=\"2\" halign=\"left\">Publishers</th>\n",
       "    </tr>\n",
       "    <tr>\n",
       "      <th></th>\n",
       "      <th>developer</th>\n",
       "      <th>unique_games</th>\n",
       "      <th>publisher</th>\n",
       "      <th>unique_games</th>\n",
       "    </tr>\n",
       "  </thead>\n",
       "  <tbody>\n",
       "    <tr>\n",
       "      <th>0</th>\n",
       "      <td>Valve</td>\n",
       "      <td>6</td>\n",
       "      <td>Ubisoft</td>\n",
       "      <td>10</td>\n",
       "    </tr>\n",
       "    <tr>\n",
       "      <th>1</th>\n",
       "      <td>Bethesda Game Studios</td>\n",
       "      <td>6</td>\n",
       "      <td>Bethesda Softworks</td>\n",
       "      <td>10</td>\n",
       "    </tr>\n",
       "    <tr>\n",
       "      <th>2</th>\n",
       "      <td>KOEI TECMO GAMES CO., LTD.</td>\n",
       "      <td>4</td>\n",
       "      <td>Paradox Interactive</td>\n",
       "      <td>8</td>\n",
       "    </tr>\n",
       "    <tr>\n",
       "      <th>3</th>\n",
       "      <td>Spike Chunsoft Co., Ltd.</td>\n",
       "      <td>4</td>\n",
       "      <td>SEGA</td>\n",
       "      <td>8</td>\n",
       "    </tr>\n",
       "    <tr>\n",
       "      <th>4</th>\n",
       "      <td>CAPCOM Co., Ltd.</td>\n",
       "      <td>4</td>\n",
       "      <td>Valve</td>\n",
       "      <td>8</td>\n",
       "    </tr>\n",
       "    <tr>\n",
       "      <th>5</th>\n",
       "      <td>Paradox Development Studio</td>\n",
       "      <td>4</td>\n",
       "      <td>Spike Chunsoft Co., Ltd.</td>\n",
       "      <td>8</td>\n",
       "    </tr>\n",
       "    <tr>\n",
       "      <th>6</th>\n",
       "      <td>Square Enix</td>\n",
       "      <td>3</td>\n",
       "      <td>BANDAI NAMCO Entertainment</td>\n",
       "      <td>6</td>\n",
       "    </tr>\n",
       "    <tr>\n",
       "      <th>7</th>\n",
       "      <td>Obsidian Entertainment</td>\n",
       "      <td>3</td>\n",
       "      <td>Activision</td>\n",
       "      <td>5</td>\n",
       "    </tr>\n",
       "    <tr>\n",
       "      <th>8</th>\n",
       "      <td>Treyarch</td>\n",
       "      <td>3</td>\n",
       "      <td>Square Enix</td>\n",
       "      <td>5</td>\n",
       "    </tr>\n",
       "    <tr>\n",
       "      <th>9</th>\n",
       "      <td>Capcom</td>\n",
       "      <td>3</td>\n",
       "      <td>2K;Aspyr (Mac);Aspyr (Linux)</td>\n",
       "      <td>4</td>\n",
       "    </tr>\n",
       "  </tbody>\n",
       "</table>\n",
       "</div>"
      ],
      "text/plain": [
       "                   Developers                                 Publishers  \\\n",
       "                    developer unique_games                     publisher   \n",
       "0                       Valve            6                       Ubisoft   \n",
       "1       Bethesda Game Studios            6            Bethesda Softworks   \n",
       "2  KOEI TECMO GAMES CO., LTD.            4           Paradox Interactive   \n",
       "3    Spike Chunsoft Co., Ltd.            4                          SEGA   \n",
       "4            CAPCOM Co., Ltd.            4                         Valve   \n",
       "5  Paradox Development Studio            4      Spike Chunsoft Co., Ltd.   \n",
       "6                 Square Enix            3    BANDAI NAMCO Entertainment   \n",
       "7      Obsidian Entertainment            3                    Activision   \n",
       "8                    Treyarch            3                   Square Enix   \n",
       "9                      Capcom            3  2K;Aspyr (Mac);Aspyr (Linux)   \n",
       "\n",
       "                \n",
       "  unique_games  \n",
       "0           10  \n",
       "1           10  \n",
       "2            8  \n",
       "3            8  \n",
       "4            8  \n",
       "5            8  \n",
       "6            6  \n",
       "7            5  \n",
       "8            5  \n",
       "9            4  "
      ]
     },
     "execution_count": 19,
     "metadata": {},
     "output_type": "execute_result"
    }
   ],
   "source": [
    "# Count the number of unique games released by each developer\n",
    "developer_counts = final_df.groupby('developer')['title'].nunique()\n",
    "\n",
    "# Sort the developers by the number of unique games in descending order and get the top 10\n",
    "top_10_developers = developer_counts.sort_values(ascending=False).head(10)\n",
    "\n",
    "# Count the number of unique games released by each developer\n",
    "publisher_counts = final_df.groupby('publisher')['title'].nunique()\n",
    "\n",
    "# Sort the developers by the number of unique games in descending order and get the top 10\n",
    "top_10_publishers = publisher_counts.sort_values(ascending=False).head(10)\n",
    "\n",
    "# Combine top 10 developers and top 10 publishers DataFrames\n",
    "top_10_developers_df = top_10_developers.to_frame().reset_index().rename(columns={'title': 'unique_games'})\n",
    "top_10_publishers_df = top_10_publishers.to_frame().reset_index().rename(columns={'title': 'unique_games'})\n",
    "combined_df = pd.concat([top_10_developers_df, top_10_publishers_df], axis=1, keys=['Developers', 'Publishers'])\n",
    "\n",
    "# Print the top 10 developers and top 10 publishers side by side\n",
    "combined_df"
   ]
  },
  {
   "cell_type": "code",
   "execution_count": 20,
   "id": "971ab62e-9e34-4d1f-b4ba-4044d0dedc5c",
   "metadata": {},
   "outputs": [
    {
     "name": "stdout",
     "output_type": "stream",
     "text": [
      "Number of unique games: 299\n"
     ]
    }
   ],
   "source": [
    "unique_games = final_df['title'].nunique()\n",
    "print(f\"Number of unique games: {unique_games}\")"
   ]
  },
  {
   "cell_type": "code",
   "execution_count": 21,
   "id": "0d4b22f6-0f3a-444f-b39d-92cb97f1e210",
   "metadata": {},
   "outputs": [
    {
     "name": "stdout",
     "output_type": "stream",
     "text": [
      "Number of unique developers: 251\n"
     ]
    }
   ],
   "source": [
    "unique_developers = final_df['developer'].nunique()\n",
    "print(f\"Number of unique developers: {unique_developers}\")\n"
   ]
  },
  {
   "cell_type": "code",
   "execution_count": 22,
   "id": "07744ec8-0bc9-471f-baf9-6a4c73d84995",
   "metadata": {},
   "outputs": [
    {
     "name": "stdout",
     "output_type": "stream",
     "text": [
      "Number of unique publishers: 197\n"
     ]
    }
   ],
   "source": [
    "unique_publishers = final_df['publisher'].nunique()\n",
    "print(f\"Number of unique publishers: {unique_publishers}\")\n"
   ]
  },
  {
   "cell_type": "markdown",
   "id": "be8fb8ea-2407-4ec4-874b-1c2df38dec17",
   "metadata": {},
   "source": [
    "#### Top 10 ranking of developers with best positive rating"
   ]
  },
  {
   "cell_type": "code",
   "execution_count": 23,
   "id": "a5d23a1d-3f0a-470f-b422-b3941b1ec1ea",
   "metadata": {},
   "outputs": [
    {
     "data": {
      "text/plain": [
       "developer\n",
       "Kristjan Skutta          98.0\n",
       "Ludeon Studios           98.0\n",
       "ConcernedApe             98.0\n",
       "Bevan McKechnie          97.0\n",
       "Matt Makes Games Inc.    97.0\n",
       "Monomi Park              97.0\n",
       "Lucas Pope               97.0\n",
       "Nicalis, Inc.            97.0\n",
       "Ninja Kiwi               97.0\n",
       "Re-Logic                 97.0\n",
       "Name: positive_ratio, dtype: float64"
      ]
     },
     "execution_count": 23,
     "metadata": {},
     "output_type": "execute_result"
    }
   ],
   "source": [
    "# Calculate the average positive rating for each developer\n",
    "average_positive_ratings = final_df.groupby('developer')['positive_ratio'].mean()\n",
    "\n",
    "# Sort the developers by the average positive rating in descending order and get the top 10\n",
    "top_10_developers_positive_ratings = average_positive_ratings.sort_values(ascending=False).head(10)\n",
    "\n",
    "# Print the top 10 developers with the best average positive ratings\n",
    "top_10_developers_positive_ratings\n"
   ]
  },
  {
   "cell_type": "markdown",
   "id": "4e699bc0-c168-4482-be00-3e51cdbbaa0b",
   "metadata": {},
   "source": [
    "The results of the top 10 developers with the most unique games don't match the list of the top 10 developers based on best positive ratings. Therefore, we can conclude that a developer who has developed more games does not necisarrily develop better rated games."
   ]
  },
  {
   "cell_type": "markdown",
   "id": "100b0c73-e400-4514-aad2-8ea11c0a96ca",
   "metadata": {},
   "source": [
    "### **Relationship between Products Owned and Number of Reviews**"
   ]
  },
  {
   "cell_type": "markdown",
   "id": "3707cab3-7aa0-4543-85ac-00daa2cb60c9",
   "metadata": {},
   "source": [
    "Looking at the relationship between products owned and the number of reviews can give insight into user engagement with a product."
   ]
  },
  {
   "cell_type": "code",
   "execution_count": 24,
   "id": "e474bf37-5bd2-4460-b303-1799910ac49b",
   "metadata": {},
   "outputs": [
    {
     "data": {
      "image/png": "[encoded data removed]",
      "text/plain": [
       "<Figure size 864x432 with 1 Axes>"
      ]
     },
     "metadata": {},
     "output_type": "display_data"
    },
    {
     "name": "stdout",
     "output_type": "stream",
     "text": [
      "Correlation coefficient between Products Owned and Number of Reviews: 0.32\n"
     ]
    }
   ],
   "source": [
    "plt.figure(figsize=(12, 6))\n",
    "plt.scatter(final_df['products'], final_df['reviews'], alpha=0.5)\n",
    "plt.xlabel('Products Owned')\n",
    "plt.ylabel('Number of Reviews')\n",
    "plt.title('Relationship between Products Owned and Number of Reviews')\n",
    "plt.show()\n",
    "\n",
    "correlation = final_df['products'].corr(final_df['reviews'])\n",
    "print(f\"Correlation coefficient between Products Owned and Number of Reviews: {correlation:.2f}\")"
   ]
  },
  {
   "cell_type": "markdown",
   "id": "4ce8614b-73bf-4d39-b05c-c132a032608c",
   "metadata": {},
   "source": [
    "The correlation coefficient of 0.32 indicates a weak positive relationship between the number of products owned and the number of reviews written. This means that, in general, as the number of products owned increases, there is a slight tendency for the number of reviews written to increase as well.\n",
    "\n",
    "Some of the reasons for this weak positive correlation could be:\n",
    "\n",
    "- Time constraints: Users who own a large number of games might not have enough time to play all of them extensively, and thus may not feel confident in writing a review for each game.\n",
    "- Review motivation: Different users might have varying motivations for writing reviews. Some might only write reviews for games they are passionate about, while others might review games they had a negative experience with. The number of products owned may not directly influence these motivations.\n",
    "- Game quality and user preferences: Not all games are equally engaging, and users might only write reviews for games that align with their preferences or that they find exceptionally good or bad.\n",
    "- Review-writing habits: Some users might be more inclined to write reviews than others, regardless of the number of games they own. For example, a user who is an active participant in the Steam community might write more reviews than someone who mainly uses the platform to play games."
   ]
  },
  {
   "cell_type": "markdown",
   "id": "a04b4d6e-d682-41ef-ba9d-90d9a67ca5a7",
   "metadata": {},
   "source": [
    "### **Compatibility of Windows, Mac and Linux**"
   ]
  },
  {
   "cell_type": "markdown",
   "id": "5a90ce05-907b-4a52-8ca8-f522a0be051a",
   "metadata": {},
   "source": [
    "Analyzing the compatibility between different operating systems helps us to understand the market distribution of each platform. Each operating system has a different market share, and understanding the distribution can inform developers about potential target audiences and which platforms are more popular among users. Different user groups may have preferences for specific platforms due to factors such as available software, hardware compatibility, or personal taste. "
   ]
  },
  {
   "cell_type": "code",
   "execution_count": 25,
   "id": "3e7dbeb9-6685-4bc3-b498-f8e962abab3a",
   "metadata": {},
   "outputs": [
    {
     "data": {
      "image/png": "[encoded data removed]",
      "text/plain": [
       "<Figure size 432x288 with 1 Axes>"
      ]
     },
     "metadata": {},
     "output_type": "display_data"
    }
   ],
   "source": [
    "# Calculate the number of games supporting each combination of platforms (windows, mac, linux)\n",
    "\n",
    "win_only = ((final_df['win'] == True) & (final_df['mac'] == False) & (final_df['linux'] == False)).sum()\n",
    "win_mac = ((final_df['win'] == True) & (final_df['mac'] == True) & (final_df['linux'] == False)).sum()\n",
    "win_linux = ((final_df['win'] == True) & (final_df['mac'] == False) & (final_df['linux'] == True)).sum()\n",
    "win_mac_linux = ((final_df['win'] == True) & (final_df['mac'] == True) & (final_df['linux'] == True)).sum()\n",
    "mac_only = ((final_df['win'] == False) & (final_df['mac'] == True) & (final_df['linux'] == False)).sum()\n",
    "linux_only = ((final_df['win'] == False) & (final_df['mac'] == False) & (final_df['linux'] == True)).sum()\n",
    "\n",
    "# Platform combinations and their counts\n",
    "\n",
    "platform_combinations = {\n",
    "    \"Windows Only\": win_only,\n",
    "    \"Windows & Mac\": win_mac,\n",
    "    \"Windows & Linux\": win_linux,\n",
    "    \"Windows, Mac & Linux\": win_mac_linux,\n",
    "    \"Mac Only\": mac_only,\n",
    "    \"Linux Only\": linux_only,\n",
    "}\n",
    "\n",
    "fig, ax = plt.subplots()\n",
    "ax.bar(platform_combinations.keys(), platform_combinations.values())\n",
    "\n",
    "# Add the counts above the bars\n",
    "for i, (combination, count) in enumerate(platform_combinations.items()):\n",
    "    ax.text(i, count + 10, f\"{count}\", ha='center', va='bottom')\n",
    "\n",
    "ax.set_title(\"Number of Games Supporting Platform Combinations\")\n",
    "ax.set_xlabel(\"Platform Combinations\")\n",
    "ax.set_ylabel(\"Number of Games\")\n",
    "\n",
    "plt.xticks(rotation=45, ha='right')\n",
    "plt.tight_layout()\n",
    "plt.show()"
   ]
  },
  {
   "cell_type": "markdown",
   "id": "f85b4558-ab96-4f70-bd20-fba2156cd420",
   "metadata": {},
   "source": [
    "The plot shows that Windows definitly dominates, when it comes to the number of games it supports. Most developers only develop for windows. However, there are still many games which run on windows, mac and linux. These results tell us that we should consider a users operating system, when recommending a game based on a user_id."
   ]
  },
  {
   "cell_type": "markdown",
   "id": "08814b95-2005-4c07-9be3-0878c779707e",
   "metadata": {},
   "source": [
    "### **Trends in game releases, user reviews, and ratings over time**"
   ]
  },
  {
   "cell_type": "markdown",
   "id": "de40dada-9eb3-43c6-aada-e96d971ef66d",
   "metadata": {},
   "source": [
    "Analyzing the follwing trends helps us to identify patterns in the gaming industry, such as seasonal variations in game releases and user reviews. Understanding these patterns can help stakeholders like game developers and publishers to make more informed decisions and tailor their strategies accordingly. Examining the average user ratings over time can help us to identify any patterns or changes in user sentiment which is important to understand if the general perception or quality of a product is improving, declining, or remaining stable."
   ]
  },
  {
   "cell_type": "code",
   "execution_count": 26,
   "id": "f37a004d-58cf-4524-90bc-a01a8abca02f",
   "metadata": {},
   "outputs": [
    {
     "data": {
      "image/png": "[encoded data removed]",
      "text/plain": [
       "<Figure size 864x360 with 3 Axes>"
      ]
     },
     "metadata": {},
     "output_type": "display_data"
    }
   ],
   "source": [
    "# Trends in game releases, user reviews, and ratings over time\n",
    "\n",
    "final_df['date_release'] = pd.to_datetime(final_df['date_release'])\n",
    "final_df['date'] = pd.to_datetime(final_df['date'])\n",
    "\n",
    "game_releases_by_year = final_df.groupby(final_df['date_release'].dt.year).size()\n",
    "user_reviews_by_year = final_df.groupby(final_df['date'].dt.year)['user_reviews'].size()\n",
    "\n",
    "avg_ratings_by_year = final_df.groupby(final_df['date'].dt.year)['positive_ratio'].mean()\n",
    "\n",
    "fig, (ax1, ax3) = plt.subplots(1, 2, figsize=(12, 5))\n",
    "\n",
    "# Plot Game Releases and User Reviews Over Time\n",
    "ax1.set_xlabel('Year')\n",
    "ax1.set_ylabel('Game Releases', color='tab:blue')\n",
    "ax1.plot(game_releases_by_year.index, game_releases_by_year, color='tab:blue')\n",
    "ax1.tick_params(axis='y', labelcolor='tab:blue')\n",
    "\n",
    "ax2 = ax1.twinx()\n",
    "ax2.set_ylabel('User Reviews', color='tab:red')\n",
    "ax2.plot(user_reviews_by_year.index, user_reviews_by_year, color='tab:red')\n",
    "ax2.tick_params(axis='y', labelcolor='tab:red')\n",
    "\n",
    "ax1.set_title('Game Releases per year and User Reviews per year Over Time')\n",
    "\n",
    "# Plot Average Ratings Over Time\n",
    "ax3.plot(avg_ratings_by_year.index, avg_ratings_by_year)\n",
    "ax3.set_xlabel('Year')\n",
    "ax3.set_ylabel('Average Ratings')\n",
    "ax3.set_title('Average Ratings per year Over Time')\n",
    "\n",
    "fig.tight_layout()\n",
    "plt.show()"
   ]
  },
  {
   "cell_type": "markdown",
   "id": "2ee96e42-b9b8-4917-a667-b547ea16740b",
   "metadata": {},
   "source": [
    "From our plot, we can observe the following trends:\n",
    "\n",
    "- **Game releases**: The number of game releases increased from 2006 to 2018, indicating a growing interest in gaming and game development over this period. However, there was a significant drop in game releases after 2018. This drop could be due to various reasons, such as market saturation, a shift in focus towards higher-quality games with longer development cycles, or the rise of alternative gaming platforms like mobile and VR.\n",
    "- **User reviews**: The number of user reviews saw a strong increase since their introduction in 2013, peaking in 2022. This could be attributed to the growing gaming community and the increasing importance of user feedback in the gaming industry. As more people got into gaming and online platforms became more accessible, users became more likely to share their opinions and experiences. This trend suggests that user reviews have become a critical factor for gamers when deciding to purchase or play a game.\n",
    "- **Average ratings**: The average rating decreased from 2010 to 2018, possibly because of the increasing number of game releases, which might have led to a higher proportion of lower-quality games. This decrease could also be attributed to gamers becoming more critical and discerning over time. However, the average rating started to slightly increase again from 2018 to 2022. This trend might be due to the gaming industry's response to user feedback, leading to improvements in game quality and an increased focus on satisfying gamers' expectations."
   ]
  },
  {
   "cell_type": "markdown",
   "id": "a73fca31-84c5-4c44-ae4b-25fa1b3baa4a",
   "metadata": {},
   "source": [
    "### **Comparison of mean playtime and median playtime in terms of skewness**"
   ]
  },
  {
   "cell_type": "markdown",
   "id": "b8313e29-5e75-49b6-950c-c90fa03834d3",
   "metadata": {},
   "source": [
    "We compare mean and median playtime in terms of skewness to gain a better understanding of the distribution of the 'hours' column. This helps use to decide whether to use the mean or median for further analysis."
   ]
  },
  {
   "cell_type": "code",
   "execution_count": 27,
   "id": "30b6e430-ef72-4308-9a55-f1e5e3c077c9",
   "metadata": {},
   "outputs": [
    {
     "name": "stdout",
     "output_type": "stream",
     "text": [
      "Number of outliers in 'hours' column: 8130\n",
      "Skewness of 'hours' column: 1.6005194187164307\n",
      "The 'hours' column is highly skewed. It is recommended to use the median for further analysis.\n"
     ]
    },
    {
     "data": {
      "image/png": "[encoded data removed]",
      "text/plain": [
       "<Figure size 432x288 with 1 Axes>"
      ]
     },
     "metadata": {},
     "output_type": "display_data"
    }
   ],
   "source": [
    "# skewness of the 'hours' column\n",
    "\n",
    "\n",
    "# Step 1: Assess the distribution of the 'hours' column\n",
    "skewness = final_df['hours'].skew()\n",
    "\n",
    "# Step 2: Use a for loop to identify outliers (using the IQR method)\n",
    "Q1 = final_df['hours'].quantile(0.25)\n",
    "Q3 = final_df['hours'].quantile(0.75)\n",
    "IQR = Q3 - Q1\n",
    "\n",
    "outliers = []\n",
    "for hours in final_df['hours']:\n",
    "    if (hours < (Q1 - 1.5 * IQR)) or (hours > (Q3 + 1.5 * IQR)):\n",
    "        outliers.append(hours)\n",
    "\n",
    "# Print the number of outliers and skewness value\n",
    "print(f\"Number of outliers in 'hours' column: {len(outliers)}\")\n",
    "print(f\"Skewness of 'hours' column: {skewness}\")\n",
    "\n",
    "# Step 3: Decide whether to use the median or the mean for further analysis\n",
    "if skewness > 1 or skewness < -1:\n",
    "    print(\"The 'hours' column is highly skewed. It is recommended to use the median for further analysis.\")\n",
    "else:\n",
    "    print(\"The 'hours' column is not highly skewed. It is recommended to use the mean for further analysis.\")\n",
    "\n",
    "\n",
    "# Create a kernel density estimation plot for the 'hours' column\n",
    "sns.kdeplot(final_df['hours'], shade=True)\n",
    "\n",
    "# Add labels and title\n",
    "plt.xlabel('Hours Played')\n",
    "plt.ylabel('Density')\n",
    "plt.title('Kernel Density Estimation Plot of Hours Played')\n",
    "\n",
    "# Show the plot\n",
    "plt.show()"
   ]
  },
  {
   "cell_type": "markdown",
   "id": "df8d833c-e092-40f2-b421-d84d81e0e268",
   "metadata": {},
   "source": [
    "There are 28 data points in the 'hours' column that are considered outliers, based on the Interquartile Range (IQR) method. These data points lie outside the typical range of values, and they might have a significant impact on the mean and standard deviation.\n",
    "\n",
    "The 'hours' column is highly skewed. The skewness of the 'hours' column is either greater than 1, indicating that the distribution is not symmetric and has a significant tail on one side. In this case, the tail is likely on the right side, meaning that there are a few games with extremely high playtimes compared to the majority. \n",
    "\n",
    "Given these results, it is recommended to use the median instead of the mean for further analysis of the 'hours' column. The median is less sensitive to outliers and provides a more accurate representation of the central tendency of the data. By using the median, you can mitigate the impact of extreme values and better understand the typical playtime for games in the dataset."
   ]
  },
  {
   "cell_type": "markdown",
   "id": "10fdd707-9d47-4787-9711-2574ce23d8a9",
   "metadata": {
    "tags": []
   },
   "source": [
    "## Correlation"
   ]
  },
  {
   "cell_type": "markdown",
   "id": "2631c65e-1e72-4599-806f-5edd75c3cb57",
   "metadata": {},
   "source": [
    "Since the variable 'y' is binary, and the dataset is composed of categorical, binary and continuous variable, we calculated the correlations with different coefficients."
   ]
  },
  {
   "cell_type": "markdown",
   "id": "daed8645-96ed-4a3d-b05e-d67282a9cbb1",
   "metadata": {},
   "source": [
    "### Continuous Variables\n",
    "To calculate the correlation between \"y\" and continous variables, we use the point-biserial correlation coefficient. The point-biserial correlation coefficient measures the strength and direction of the association between a binary variable and a continuous variable.\n",
    "\n",
    "The point-biserial correlation coefficient assumes that the binary variable is dichotomous, meaning it has only two possible values (in our case, 0 or 1), and that the continuous variable is normally distributed.\n",
    "\n",
    "The point-biserial correlation is based on three assumptions: \n",
    "1. No outliers (continuous variable) - assessed through a visual examination of the scatterplot\n",
    "2. Approximately normally distributed continuous variable\n",
    "3. Homogeneity of variance of the continuous variable between both groups of the dichotomous variable"
   ]
  },
  {
   "cell_type": "code",
   "execution_count": 28,
   "id": "c36c03a0-06c4-47a3-b77b-c369b62b63f0",
   "metadata": {},
   "outputs": [],
   "source": [
    "# Define the numeric variables\n",
    "num_variables = ['price_final', 'positive_ratio', 'hours', 'median_playtime', 'user_reviews',\n",
    "                'price_original', 'discount', 'products', 'reviews']"
   ]
  },
  {
   "cell_type": "markdown",
   "id": "ee33cb6b-2cfc-40ad-aa11-1385777d42dc",
   "metadata": {},
   "source": [
    "Check that the variables meet the requirements for the point-biserial correlation."
   ]
  },
  {
   "cell_type": "code",
   "execution_count": 29,
   "id": "dc00472e-de7a-4887-b741-7c50b539098e",
   "metadata": {},
   "outputs": [
    {
     "data": {
      "image/png": "[encoded data removed]",
      "text/plain": [
       "<Figure size 1080x288 with 3 Axes>"
      ]
     },
     "metadata": {},
     "output_type": "display_data"
    },
    {
     "data": {
      "image/png": "[encoded data removed]",
      "text/plain": [
       "<Figure size 1080x288 with 3 Axes>"
      ]
     },
     "metadata": {},
     "output_type": "display_data"
    },
    {
     "data": {
      "image/png": "[encoded data removed]",
      "text/plain": [
       "<Figure size 1080x288 with 3 Axes>"
      ]
     },
     "metadata": {},
     "output_type": "display_data"
    },
    {
     "data": {
      "image/png": "[encoded data removed]",
      "text/plain": [
       "<Figure size 1080x288 with 3 Axes>"
      ]
     },
     "metadata": {},
     "output_type": "display_data"
    },
    {
     "data": {
      "image/png": "[encoded data removed]",
      "text/plain": [
       "<Figure size 1080x288 with 3 Axes>"
      ]
     },
     "metadata": {},
     "output_type": "display_data"
    },
    {
     "data": {
      "image/png": "[encoded data removed]",
      "text/plain": [
       "<Figure size 1080x288 with 3 Axes>"
      ]
     },
     "metadata": {},
     "output_type": "display_data"
    },
    {
     "data": {
      "image/png": "[encoded data removed]",
      "text/plain": [
       "<Figure size 1080x288 with 3 Axes>"
      ]
     },
     "metadata": {},
     "output_type": "display_data"
    },
    {
     "data": {
      "image/png": "[encoded data removed]",
      "text/plain": [
       "<Figure size 1080x288 with 3 Axes>"
      ]
     },
     "metadata": {},
     "output_type": "display_data"
    },
    {
     "data": {
      "image/png": "[encoded data removed]",
      "text/plain": [
       "<Figure size 1080x288 with 3 Axes>"
      ]
     },
     "metadata": {},
     "output_type": "display_data"
    }
   ],
   "source": [
    "# loop through the numeric variables\n",
    "def check_req(df, variable_list):\n",
    "    for var in variable_list:\n",
    "        fig, axs = plt.subplots(1, 3, figsize=(15, 4))\n",
    "\n",
    "        # Check for outliers with a scatterplot\n",
    "        axs[0].scatter(df[var], final_df['y'])\n",
    "        axs[0].set_title(\"Outliers\")\n",
    "\n",
    "        # Check for normal distribution with a histogram\n",
    "        axs[1].hist(df[var])\n",
    "        axs[1].set_title(\"Distribution\")\n",
    "\n",
    "        # Check for homogeneity of variance with a boxplot\n",
    "        df.boxplot(column=var, by='y', ax=axs[2])\n",
    "        axs[2].set_title(\"Homogeneity of Variance\")\n",
    "\n",
    "        # Set overall title\n",
    "        plt.suptitle(var, fontsize=14)\n",
    "        fig.subplots_adjust(top=0.8)\n",
    "\n",
    "        plt.show()\n",
    "        \n",
    "check_req(final_df, num_variables)"
   ]
  },
  {
   "cell_type": "markdown",
   "id": "4f0efb0b-0a81-41fb-b9d1-8c42bed4c651",
   "metadata": {},
   "source": [
    "The data exhibits a relatively homogeneous variance, with few noticeable outliers, as assessed through a visual examination of the scatterplot. This homogeneity of variance is essential for ensuring that the statistical assumptions of our model are met. However, the distribution of our continuous variable does not resemble a bell curve or normal distribution, which may impact the reliability of our analysis. \n",
    "\n",
    "To address this issue and better meet the assumptions of the models we employ, we have decided to normalize the data. This transformation will help account for the non-normal distribution of the continuous variable while maintaining the homogeneity of variance and the absence of outliers, ultimately improving the validity of our findings."
   ]
  },
  {
   "cell_type": "code",
   "execution_count": 30,
   "id": "3235a484-5e4a-42b2-b596-32e68d5147f1",
   "metadata": {},
   "outputs": [],
   "source": [
    "# Create a new DataFrame to store the normalized variables\n",
    "final_df_log = pd.DataFrame()\n",
    "\n",
    "var_to_norm = ['hours', 'median_playtime', 'user_reviews',\n",
    "                'products', 'reviews']\n",
    "\n",
    "# Loop over the variables and apply log transformation to each one\n",
    "for col in var_to_norm:\n",
    "    final_df_log[col] = np.log(final_df[col] + 0.0001)\n",
    "    \n",
    "final_df_norm = pd.concat([final_df.drop(var_to_norm, axis=1), final_df_log], axis=1)"
   ]
  },
  {
   "cell_type": "code",
   "execution_count": 31,
   "id": "50529e01-af6c-4a58-bfdd-709d02a8408e",
   "metadata": {},
   "outputs": [
    {
     "data": {
      "text/html": [
       "<div>\n",
       "<style scoped>\n",
       "    .dataframe tbody tr th:only-of-type {\n",
       "        vertical-align: middle;\n",
       "    }\n",
       "\n",
       "    .dataframe tbody tr th {\n",
       "        vertical-align: top;\n",
       "    }\n",
       "\n",
       "    .dataframe thead th {\n",
       "        text-align: right;\n",
       "    }\n",
       "</style>\n",
       "<table border=\"1\" class=\"dataframe\">\n",
       "  <thead>\n",
       "    <tr style=\"text-align: right;\">\n",
       "      <th></th>\n",
       "      <th>Variable name</th>\n",
       "      <th>corr</th>\n",
       "      <th>p-value</th>\n",
       "    </tr>\n",
       "  </thead>\n",
       "  <tbody>\n",
       "    <tr>\n",
       "      <th>1</th>\n",
       "      <td>positive_ratio</td>\n",
       "      <td>0.264822</td>\n",
       "      <td>0.000000e+00</td>\n",
       "    </tr>\n",
       "    <tr>\n",
       "      <th>2</th>\n",
       "      <td>hours</td>\n",
       "      <td>0.172609</td>\n",
       "      <td>0.000000e+00</td>\n",
       "    </tr>\n",
       "    <tr>\n",
       "      <th>7</th>\n",
       "      <td>products</td>\n",
       "      <td>0.085274</td>\n",
       "      <td>9.876050e-161</td>\n",
       "    </tr>\n",
       "    <tr>\n",
       "      <th>8</th>\n",
       "      <td>reviews</td>\n",
       "      <td>0.061251</td>\n",
       "      <td>9.908749e-84</td>\n",
       "    </tr>\n",
       "    <tr>\n",
       "      <th>4</th>\n",
       "      <td>user_reviews</td>\n",
       "      <td>0.034498</td>\n",
       "      <td>1.005455e-27</td>\n",
       "    </tr>\n",
       "    <tr>\n",
       "      <th>0</th>\n",
       "      <td>price_final</td>\n",
       "      <td>0.033896</td>\n",
       "      <td>8.039414e-27</td>\n",
       "    </tr>\n",
       "    <tr>\n",
       "      <th>5</th>\n",
       "      <td>price_original</td>\n",
       "      <td>0.025275</td>\n",
       "      <td>1.307406e-15</td>\n",
       "    </tr>\n",
       "    <tr>\n",
       "      <th>3</th>\n",
       "      <td>median_playtime</td>\n",
       "      <td>0.003413</td>\n",
       "      <td>2.804626e-01</td>\n",
       "    </tr>\n",
       "    <tr>\n",
       "      <th>6</th>\n",
       "      <td>discount</td>\n",
       "      <td>0.003025</td>\n",
       "      <td>3.387933e-01</td>\n",
       "    </tr>\n",
       "  </tbody>\n",
       "</table>\n",
       "</div>"
      ],
      "text/plain": [
       "     Variable name      corr        p-value\n",
       "1   positive_ratio  0.264822   0.000000e+00\n",
       "2            hours  0.172609   0.000000e+00\n",
       "7         products  0.085274  9.876050e-161\n",
       "8          reviews  0.061251   9.908749e-84\n",
       "4     user_reviews  0.034498   1.005455e-27\n",
       "0      price_final  0.033896   8.039414e-27\n",
       "5   price_original  0.025275   1.307406e-15\n",
       "3  median_playtime  0.003413   2.804626e-01\n",
       "6         discount  0.003025   3.387933e-01"
      ]
     },
     "metadata": {},
     "output_type": "display_data"
    }
   ],
   "source": [
    "# Calculate correlation based on the normalized dataset \n",
    "cor_matrix = []\n",
    "\n",
    "for variable in num_variables:\n",
    "    r_pb, p_value = pointbiserialr(final_df_norm['y'], final_df_norm[variable])\n",
    "    cor_matrix.append({'Variable name': variable, 'corr': r_pb, 'p-value': p_value})\n",
    "\n",
    "cor_df = pd.DataFrame(cor_matrix)\n",
    "cor_df['corr'] = abs(cor_df['corr'])\n",
    "display(cor_df.sort_values(by=\"corr\", ascending = False))"
   ]
  },
  {
   "cell_type": "markdown",
   "id": "7bd106e7-fce4-4ecf-9333-414d87091049",
   "metadata": {},
   "source": [
    "Making the correlation coefficient absolute, we can state the the variables more with a stronger correlation to y are positive_ratio and hours. The ones that follow in the dataset are still correlated (all the p-values are <0.5), but with coefficients lower than 10%.\n",
    "\n",
    "In any case, we notice that the correlations are not strong across all the variables, with values that don't go over 25%."
   ]
  },
  {
   "cell_type": "markdown",
   "id": "60ae212f-f695-482a-abac-34814138de3f",
   "metadata": {},
   "source": [
    "### Binary variables\n",
    "Phi is a measure for the strength of an association between two categorical variables in a 2 × 2 contingency table. It is calculated by taking the chi-square value, dividing it by the sample size, and then taking the square root of this value. It varies between 0 and 1 without any negative values."
   ]
  },
  {
   "cell_type": "code",
   "execution_count": 32,
   "id": "733c4fd6-07b2-4472-9781-610d55b83df6",
   "metadata": {},
   "outputs": [],
   "source": [
    "# Define binary variables\n",
    "bin_variables = ['mac', 'linux']"
   ]
  },
  {
   "cell_type": "code",
   "execution_count": 33,
   "id": "6aee4407-729d-4b42-985c-f452b6cc2a69",
   "metadata": {},
   "outputs": [
    {
     "name": "stdout",
     "output_type": "stream",
     "text": [
      "mac [False  True]\n",
      "linux [False  True]\n"
     ]
    }
   ],
   "source": [
    "# Check that they all have two different values\n",
    "for var in bin_variables: \n",
    "    print(var, final_df[var].unique())"
   ]
  },
  {
   "cell_type": "code",
   "execution_count": 34,
   "id": "ed15ceb8-8d88-4fd3-8dd4-cd8567181b38",
   "metadata": {},
   "outputs": [
    {
     "data": {
      "text/html": [
       "<div>\n",
       "<style scoped>\n",
       "    .dataframe tbody tr th:only-of-type {\n",
       "        vertical-align: middle;\n",
       "    }\n",
       "\n",
       "    .dataframe tbody tr th {\n",
       "        vertical-align: top;\n",
       "    }\n",
       "\n",
       "    .dataframe thead th {\n",
       "        text-align: right;\n",
       "    }\n",
       "</style>\n",
       "<table border=\"1\" class=\"dataframe\">\n",
       "  <thead>\n",
       "    <tr style=\"text-align: right;\">\n",
       "      <th></th>\n",
       "      <th>Variable name</th>\n",
       "      <th>corr</th>\n",
       "      <th>p-value</th>\n",
       "    </tr>\n",
       "  </thead>\n",
       "  <tbody>\n",
       "    <tr>\n",
       "      <th>0</th>\n",
       "      <td>mac</td>\n",
       "      <td>0.083813</td>\n",
       "      <td>0.0</td>\n",
       "    </tr>\n",
       "    <tr>\n",
       "      <th>1</th>\n",
       "      <td>linux</td>\n",
       "      <td>0.090717</td>\n",
       "      <td>0.0</td>\n",
       "    </tr>\n",
       "  </tbody>\n",
       "</table>\n",
       "</div>"
      ],
      "text/plain": [
       "  Variable name      corr p-value\n",
       "0           mac  0.083813     0.0\n",
       "1         linux  0.090717     0.0"
      ]
     },
     "metadata": {},
     "output_type": "display_data"
    }
   ],
   "source": [
    "# Calculate their phi value and its p-value\n",
    "warnings.filterwarnings(\"ignore\", category=FutureWarning)\n",
    "\n",
    "phi_df = pd.DataFrame(columns=['Variable name', 'corr', 'p-value'])\n",
    "\n",
    "for var in bin_variables:\n",
    "    contingency = pd.crosstab(final_df['y'], final_df[var])\n",
    "    ChiSqResult = chi2_contingency(contingency)\n",
    "    n = contingency.values.sum()\n",
    "    phi = np.sqrt(ChiSqResult[0] / n)\n",
    "    p_value = ChiSqResult[1]\n",
    "    \n",
    "    phi_df = phi_df.append({'Variable name': var, 'corr': phi, 'p-value': p_value}, ignore_index=True)\n",
    "\n",
    "display(phi_df)"
   ]
  },
  {
   "cell_type": "markdown",
   "id": "7f2c9826-7206-411f-a675-c79ddf47c384",
   "metadata": {},
   "source": [
    "### Categorical variables\n",
    "Cramer's V is an alternative to phi in tables bigger than 2 × 2 tabulation. Cramer's V varies between 0 and 1 without any negative values. Similar to Pearson's r, a value close to 0 means no association. However, a value bigger than 0.25 is named as a very strong relationship for the Cramer's V."
   ]
  },
  {
   "cell_type": "code",
   "execution_count": 35,
   "id": "a5b060ca-aed8-468c-a10e-f37750b35c66",
   "metadata": {},
   "outputs": [],
   "source": [
    "# Define categorical variables\n",
    "cat_variables = ['rating', 'developer', 'publisher', 'achievements']"
   ]
  },
  {
   "cell_type": "code",
   "execution_count": 36,
   "id": "fa485404-99e0-4d79-8e89-1e30f9d44605",
   "metadata": {},
   "outputs": [
    {
     "name": "stdout",
     "output_type": "stream",
     "text": [
      "rating 4\n",
      "developer 251\n",
      "publisher 197\n",
      "achievements 113\n"
     ]
    }
   ],
   "source": [
    "# Check that they all have more than two different values\n",
    "for var in cat_variables: \n",
    "    print(var, final_df[var].nunique())"
   ]
  },
  {
   "cell_type": "code",
   "execution_count": 37,
   "id": "adb969f9-eb85-4e89-bee9-dedfefa7897c",
   "metadata": {},
   "outputs": [
    {
     "data": {
      "text/html": [
       "<div>\n",
       "<style scoped>\n",
       "    .dataframe tbody tr th:only-of-type {\n",
       "        vertical-align: middle;\n",
       "    }\n",
       "\n",
       "    .dataframe tbody tr th {\n",
       "        vertical-align: top;\n",
       "    }\n",
       "\n",
       "    .dataframe thead th {\n",
       "        text-align: right;\n",
       "    }\n",
       "</style>\n",
       "<table border=\"1\" class=\"dataframe\">\n",
       "  <thead>\n",
       "    <tr style=\"text-align: right;\">\n",
       "      <th></th>\n",
       "      <th>Variable name</th>\n",
       "      <th>corr</th>\n",
       "      <th>p-value</th>\n",
       "    </tr>\n",
       "  </thead>\n",
       "  <tbody>\n",
       "    <tr>\n",
       "      <th>1</th>\n",
       "      <td>developer</td>\n",
       "      <td>0.286049</td>\n",
       "      <td>0.0</td>\n",
       "    </tr>\n",
       "    <tr>\n",
       "      <th>2</th>\n",
       "      <td>publisher</td>\n",
       "      <td>0.275078</td>\n",
       "      <td>0.0</td>\n",
       "    </tr>\n",
       "    <tr>\n",
       "      <th>0</th>\n",
       "      <td>rating</td>\n",
       "      <td>0.235758</td>\n",
       "      <td>0.0</td>\n",
       "    </tr>\n",
       "    <tr>\n",
       "      <th>3</th>\n",
       "      <td>achievements</td>\n",
       "      <td>0.209119</td>\n",
       "      <td>0.0</td>\n",
       "    </tr>\n",
       "  </tbody>\n",
       "</table>\n",
       "</div>"
      ],
      "text/plain": [
       "  Variable name      corr  p-value\n",
       "1     developer  0.286049      0.0\n",
       "2     publisher  0.275078      0.0\n",
       "0        rating  0.235758      0.0\n",
       "3  achievements  0.209119      0.0"
      ]
     },
     "metadata": {},
     "output_type": "display_data"
    }
   ],
   "source": [
    "# calculate Cramer V coefficient for each variable and y\n",
    "results = []\n",
    "for var in cat_variables:\n",
    "    contingency = pd.crosstab(final_df['y'], final_df[var])\n",
    "    chi2 = chi2_contingency(contingency)[0]\n",
    "    N = len(final_df)\n",
    "    minimum_dimension = (min(contingency.shape)-1)\n",
    "    result = np.sqrt((chi2/N) / minimum_dimension)\n",
    "    p_value = chi2_contingency(contingency)[1]\n",
    "    results.append({'Variable name': var, 'corr': result, 'p-value': p_value})\n",
    "\n",
    "# create dataframe with results\n",
    "results_df = pd.DataFrame(results).sort_values(by='corr', ascending=False)\n",
    "\n",
    "display(results_df)"
   ]
  },
  {
   "cell_type": "markdown",
   "id": "354ce994-ceaa-4f4a-bd61-2e8ab681bb96",
   "metadata": {
    "tags": []
   },
   "source": [
    "## Custom Pipeline Class Construction"
   ]
  },
  {
   "cell_type": "markdown",
   "id": "672a8da8-6f62-4ce4-820b-69abe2e5c3d5",
   "metadata": {
    "tags": []
   },
   "source": [
    "### Feature Engineering"
   ]
  },
  {
   "cell_type": "markdown",
   "id": "acf28e37-a066-4ddc-bdfe-b533b108ba2d",
   "metadata": {
    "tags": []
   },
   "source": [
    "#### Elapsed Time\n",
    "Here we construct the custom pipeline class ElapsedTimeTransformer, which creates a new feature called _elapsed_time_. This is the amount of time which has passed since a product's release date and the user reviewing it. This could be a proxy for how \"into a product\" a given user could be (in the context of elapsed time, a value of 0 signifies that a user purchased the game on its release date and also left a review on that very same day). The class takes the following arguments:\n",
    "- **add_elapsed**: Receives a boolean to determine whether to create the new column. Deafult is True\n",
    "- **drop_features**: Receives a boolean to determine whether to drop _date_ and _date_release_ columns after having created _add_elapsed_. These variables are not particularly useful for the regression so it may be worthwhile to remove them from the DataFrame. Default is True."
   ]
  },
  {
   "cell_type": "code",
   "execution_count": 38,
   "id": "75577bf5-44e7-47e9-be1c-896e4ce73002",
   "metadata": {},
   "outputs": [],
   "source": [
    "class ElapsedTimeTransformer(BaseEstimator, TransformerMixin):\n",
    "    def __init__(self, add_elapsed=True, drop_features=True):\n",
    "        self.add_elapsed = add_elapsed\n",
    "        self.drop_features = drop_features\n",
    "\n",
    "    def fit(self, X, y=None):\n",
    "        return self\n",
    "\n",
    "    def transform(self, X, y=None):\n",
    "        if self.add_elapsed:\n",
    "            X = X.copy()\n",
    "            elapsed_time = (pd.to_datetime(X[\"date\"]) - pd.to_datetime(X[\"date_release\"])).dt.days\n",
    "            X = X.assign(elapsed_time=elapsed_time)\n",
    "\n",
    "        if self.drop_features:\n",
    "            X = X.drop(['date', 'date_release'], axis=1)\n",
    "\n",
    "        return X"
   ]
  },
  {
   "cell_type": "markdown",
   "id": "f87f33bc-3381-49de-925b-d2aad3058f69",
   "metadata": {
    "tags": []
   },
   "source": [
    "#### Tendency to Review\n",
    "Here we construct the custom pipeline class TendencyToReview. Its purpose is to create a new feature _tendency_to_review_ which is the ratio between reviews by a user and number of products. It allows us to gauge how often a user leaves reviews. People tend to rarely leave reviews, as shown in the exploratory data analysis above. Consequently, the class standardises the resulting data. The arguments are the following:\n",
    "- **drop_columns**: Receives a boolean to determine whether to drop _products_ column. Deafult is True.\n",
    "- **standardize**: Receives a boolean to determine whether to standarsize the resulting data or not. Default is True."
   ]
  },
  {
   "cell_type": "code",
   "execution_count": 39,
   "id": "80603657-397a-4c4d-b664-087fd2953251",
   "metadata": {},
   "outputs": [],
   "source": [
    "class TendencyToReview(BaseEstimator, TransformerMixin):\n",
    "    \n",
    "    def __init__(self, drop_words=True, standardize=True):\n",
    "        \n",
    "        self.drop_words = drop_words\n",
    "        self.standardize = standardize\n",
    "\n",
    "    def fit(self, X, y=None):\n",
    "        return self\n",
    "\n",
    "    def transform(self, X, y=None):\n",
    "        X = X.copy()\n",
    "        X[\"tendency_to_review\"] = (X[\"reviews\"]) / (X[\"products\"])\n",
    "        X[\"tendency_to_review\"] = np.where(X[\"tendency_to_review\"] == np.inf, 2, X[\"tendency_to_review\"])\n",
    "        if self.drop_words:\n",
    "            X = X.drop(\"products\", axis=1)\n",
    "        if self.standardize:\n",
    "            scaler = MinMaxScaler()\n",
    "            X[\"tendency_to_review\"] = scaler.fit_transform(X[[\"tendency_to_review\"]])\n",
    "        return X"
   ]
  },
  {
   "cell_type": "markdown",
   "id": "734763fc-374c-494e-87a5-e210ec32dc8d",
   "metadata": {
    "tags": []
   },
   "source": [
    "#### Ordinally Encoded Steam Rating\n",
    "Here we construct the custom pipeline class SteamRatingEncoder. Its purpose is to transform the Steam categorical ratings in the _rating_ column (whose meanings are better explained in a_csv_creation.ipynb) into an ordinally encoded feature. However, given that the categories follow a diverging pattern (where \"Mixed\" is a middle ground and games can have varying degrees of Positive or Negative feedback), we encode them as such. We give users the possibility of encoding them with a standard scale that goes from -4 to 4, or a slightly more weighted one which attempts to numerically translate the large difference between being simply \"Mostly Positive\" (or Negative) and being \"Positive\" (or Negative). The class has the following arguments:\n",
    "\n",
    "- **drop_rating**: Receives a boolean to determine whether to drop the _rating_ categorical column. Deafult is True.\n",
    "- **standard_diverging_scale**: Receives a boolean to determine whether to use the standard scale instead of the weighted one. Default is True."
   ]
  },
  {
   "cell_type": "code",
   "execution_count": 40,
   "id": "d3eab8e0-ef73-42c8-a663-fa6dcde1e373",
   "metadata": {},
   "outputs": [],
   "source": [
    "class SteamRatingEncoder(BaseEstimator, TransformerMixin):\n",
    "    \n",
    "    def __init__(self, drop_rating=True, standard_diverging_scale=True):\n",
    "        \n",
    "        self.drop_rating = drop_rating\n",
    "        self.standard_diverging_scale = standard_diverging_scale\n",
    "        \n",
    "        if standard_diverging_scale:\n",
    "            self.rating_dict = {\n",
    "                \"Overwhelmingly Positive\": 4,\n",
    "                \"Very Positive\": 3,\n",
    "                \"Positive\": 2,\n",
    "                \"Mostly Positive\": 1,\n",
    "                \"Mixed\": 0,\n",
    "                \"Mostly Negative\": -1,\n",
    "                \"Negative\": -2,\n",
    "                \"Very Negative\": -3,\n",
    "                \"Overwhelmingly Negative\": -4\n",
    "            }\n",
    "        else:\n",
    "            self.rating_dict = {\n",
    "                \"Overwhelmingly Positive\": 9,\n",
    "                \"Very Positive\": 8,\n",
    "                \"Positive\": 7,\n",
    "                \"Mostly Positive\": 4,\n",
    "                \"Mixed\": 0,\n",
    "                \"Mostly Negative\": -4,\n",
    "                \"Negative\": -7,\n",
    "                \"Very Negative\": -8,\n",
    "                \"Overwhelmingly Negative\": -9\n",
    "            }\n",
    "            \n",
    "        self.drop_rating = drop_rating\n",
    "\n",
    "    def fit(self, X, y=None):\n",
    "        return self\n",
    "\n",
    "    def transform(self, X, y=None):\n",
    "        X = X.copy()\n",
    "        X['rating_encoded'] = X['rating'].map(self.rating_dict)\n",
    "        if self.drop_rating:\n",
    "            X = X.drop(['rating'], axis=1)\n",
    "        return X"
   ]
  },
  {
   "cell_type": "markdown",
   "id": "0dfb5a6f-31d0-4696-91c5-e6c04a9de201",
   "metadata": {
    "tags": []
   },
   "source": [
    "#### Developer and Distributor Metrics\n",
    "Here we construct the custom pipeline class DevDisTransformer. Depending on the arguments which are passed to it, it can create up to three new features. It utilizes target encoding on both the developer and distributor columns and has gives the users the possibility to also create an interaction feature between these two variables. The idea is that there may be developers which tend to put out better games than others, or distributors which tend to pick up better games than others. Sometimes, it is the collaboration between a particular developer and distributor which creates true \"videogaming gold\". Consequently, we give the possibility of creating an interaction term. The class' arguments are the following:\n",
    "- **y**: Receives the y values corresponding to the dataset being transformed. Needed for Target Encoding.\n",
    "- **encode_dev**: Receives a boolean to determine whether to target encode the _developer_ column. Deafult is True.\n",
    "- **encode_dis**: Receives a boolean to determine whether to target encode the _distributor_ column. Deafult is True.\n",
    "- **drop_cols**: Receives a boolean to determine whether to drop the _developer_ and _distributor_ columns after the transformation. Default is True.\n",
    "- **interaction**: Receives a boolean to determine whether to create interaction term or not. Default is True."
   ]
  },
  {
   "cell_type": "code",
   "execution_count": 41,
   "id": "96a3b6b0-e1c3-424f-ad21-51ec7b60b365",
   "metadata": {},
   "outputs": [],
   "source": [
    "class TargetEncoderTransformer(BaseEstimator, TransformerMixin):\n",
    "    def __init__(self, y, encode_dev=True, encode_dis=True, drop_cols=True, interaction=True):\n",
    "        self.encode_dev = encode_dev\n",
    "        self.encode_dis = encode_dis\n",
    "        self.drop_cols = drop_cols\n",
    "        self.interaction = interaction\n",
    "        self.y = y\n",
    "        self.encoder_dev = TargetEncoder()\n",
    "        self.encoder_dis = TargetEncoder()\n",
    "\n",
    "    def fit(self, X, y=None):\n",
    "        if self.encode_dev:\n",
    "            self.encoder_dev.fit(X[\"developer\"], self.y)\n",
    "        if self.encode_dis:\n",
    "            self.encoder_dis.fit(X[\"distributor\"], self.y)\n",
    "        return self\n",
    "\n",
    "    def transform(self, X, y=None):\n",
    "        X = X.copy()\n",
    "        if self.encode_dev:\n",
    "            X[\"targ_encode_dev\"] = self.encoder_dev.transform(X[\"developer\"])\n",
    "        if self.encode_dis:\n",
    "            X[\"targ_encode_dis\"] = self.encoder_dis.transform(X[\"distributor\"])\n",
    "        if self.interaction:\n",
    "            X[\"dev_dis_interaction\"] = X[\"targ_encode_dev\"] * X[\"targ_encode_dis\"]\n",
    "        if self.drop_cols:\n",
    "            X.drop(columns=[\"developer\", \"distributor\"], inplace=True)\n",
    "        return X\n"
   ]
  },
  {
   "cell_type": "markdown",
   "id": "b352c9be-907a-49a5-b07b-73076fa1a1a9",
   "metadata": {
    "tags": []
   },
   "source": [
    "#### Genre Dummy Interactions\n",
    "Here we construct the custom pipeline class InteractionsTransformer. When called, it finds the maximum number of genre dummies which are positive across all rows. Based on what it finds, it calls a PolynomialFeatures with the approriate degree to capture every single interaction without making the features overly complex (e.g. by setting a higher degree than necessary to capture all interactions). The PolynomialFeatures only returns the interaction terms (no quadratic terms) and adds them to the DataFrame. This can be used for both the genre dummies and the OS dummies. The argument is only one:\n",
    "\n",
    "- **columns**: Receives the columns with dummies. If not specified, the list of genres in our dataset is used."
   ]
  },
  {
   "cell_type": "code",
   "execution_count": 42,
   "id": "0d6665e7-9f53-4f2e-b0f1-da9af30f36dd",
   "metadata": {},
   "outputs": [],
   "source": [
    "class InteractionsTransformer(BaseEstimator, TransformerMixin):\n",
    "    \n",
    "    def __init__(self, columns=None):\n",
    "        if columns is None:\n",
    "            columns = ['Action', 'Adventure', 'Animation & Modeling', 'Casual',\n",
    "                       'Design & Illustration', 'Early Access', 'Free to Play', 'Gore',\n",
    "                       'Indie', 'Massively Multiplayer', 'Nudity', 'RPG', 'Racing',\n",
    "                       'Sexual Content', 'Simulation', 'Sports', 'Strategy',\n",
    "                       'Utilities', 'Violent', 'Web Publishing']\n",
    "        self.columns = columns\n",
    "    \n",
    "    def fit(self, X, y=None):\n",
    "        # Extract the relevant columns and find the maximum number of positive dummies\n",
    "        X_cols = X.loc[:, self.columns]\n",
    "        max_positives = X_cols.sum(axis=1).max()\n",
    "        \n",
    "        # Set the degree of PolynomialFeatures to the maximum number of positive dummies\n",
    "        self.poly = PolynomialFeatures(interaction_only=True, degree=max_positives)\n",
    "        \n",
    "        # Fit the PolynomialFeatures transformer\n",
    "        self.poly.fit(X_cols)\n",
    "        \n",
    "        return self\n",
    "    \n",
    "    def transform(self, X):\n",
    "        # Apply the PolynomialFeatures transformer to the relevant columns\n",
    "        X_cols = X.loc[:, self.columns]\n",
    "        X_poly_cols = self.poly.transform(X_cols)\n",
    "        \n",
    "        # Concatenate the transformed features with the original input data\n",
    "        X_poly = np.concatenate([X.drop(columns=self.columns).values, X_poly_cols], axis=1)\n",
    "        \n",
    "        return X_poly"
   ]
  },
  {
   "cell_type": "markdown",
   "id": "edba552c-4a31-4cc3-82ea-6821c1f5e333",
   "metadata": {
    "tags": []
   },
   "source": [
    "#### Owners Transformer\n",
    "Here we construct the custom pipeline class OwnersTransformer. When called, it ordinally encodes the owners column, which contains the range of owners for a given game in string format. We do not run standard ordinal encoding due to some categories having far too few datapoints. Instead, we encode according to order of magnitude of users (e.g. 0-100 users is one category, 100-1000 another, and so on). We give the possibility of creating another feature which interacts the ordinally encoded user count with the Massively Multiplayer dummy. The idea is that games which rely on user interaction as a key mechanic may be more likely to receive better ratings. The class receives the following argumnets:\n",
    "\n",
    "- **inter_term**: Receives a boolean to determine whether to create the interaction term. True by default.\n",
    "- **owner_drop**: Receives a boolean to determine whether to drop the owners column after creating the new features. True by default."
   ]
  },
  {
   "cell_type": "code",
   "execution_count": 43,
   "id": "156307ca-97cd-4e18-81e7-f79ad4db54d8",
   "metadata": {},
   "outputs": [],
   "source": [
    "class OwnersTransformer(BaseEstimator, TransformerMixin):\n",
    "    \n",
    "    def __init__(self, inter_term=True, owner_drop=True):\n",
    "        self.inter_term = inter_term\n",
    "        self.owner_drop = owner_drop\n",
    "        self.ordinal_encode_dict = {\n",
    "            '0-20': 0,\n",
    "            '20-50': 0,\n",
    "            '50-100': 0,\n",
    "            '100-200': 1,\n",
    "            '200-500': 1,\n",
    "            '500-1000': 1,\n",
    "            '1000-2000': 2,\n",
    "            '2000-5000': 2,\n",
    "            '5000-10000': 2,\n",
    "            '10000-20000': 3,\n",
    "            '20000-50000': 3,\n",
    "            '50000-100000': 3,\n",
    "            '100000-200000': 4\n",
    "        }\n",
    "        \n",
    "    def fit(self, X, y=None):\n",
    "        return self\n",
    "    \n",
    "    def transform(self, X):\n",
    "        # Ordinal encoding of owners column\n",
    "        X[\"encoded_owners\"] = X[\"owners\"].map(self.ordinal_encode_dict)\n",
    "\n",
    "        # Interaction term between encoded_owners and Massive Multiplayer column\n",
    "        if self.inter_term:\n",
    "            X[\"owner_multiplayer_int\"] = X[\"encoded_owners\"] * X[\"Massively Multiplayer\"]\n",
    "\n",
    "        # Drop owners column\n",
    "        if self.owner_drop:\n",
    "            X = X.drop(\"owners\", axis=1)\n",
    "\n",
    "        return X"
   ]
  },
  {
   "cell_type": "markdown",
   "id": "653f488f-2e94-4835-926b-30643239a485",
   "metadata": {
    "tags": []
   },
   "source": [
    "### Feature Transformers"
   ]
  },
  {
   "cell_type": "markdown",
   "id": "6c1c2f96-58c9-4d1b-80d4-1e1dca44f5a7",
   "metadata": {
    "tags": []
   },
   "source": [
    "#### Grouped Scaler\n",
    "\n",
    "Here we construct a custom class pipeline called GroupedStandardScaler built to run a StandardScaler on a given column (or columns) grouping data according to a provided column. The class takes the following arguments:\n",
    "\n",
    "- **groupby_column**: Takes a string corresponding to the column by which the data should be grouped. Default is \"app_id\".\n",
    "- **columns_to_normalize**: Takes the column whose data is to be normalized. Default is None."
   ]
  },
  {
   "cell_type": "code",
   "execution_count": 44,
   "id": "09887cf0-8354-4693-8cee-2d590a6343ad",
   "metadata": {},
   "outputs": [],
   "source": [
    "class GroupedStandardScaler(BaseEstimator, TransformerMixin):\n",
    "    def __init__(self, groupby_column='app_id', columns_to_normalize=None):\n",
    "        self.groupby_column = groupby_column\n",
    "        self.columns_to_normalize = columns_to_normalize\n",
    "        self.scalers = {}\n",
    "\n",
    "    def fit(self, X, y=None):\n",
    "        # Create a scaler for each group in the groupby column\n",
    "        groups = X.groupby(self.groupby_column)\n",
    "        for group_name, group in groups:\n",
    "            scaler = StandardScaler()\n",
    "            if self.columns_to_normalize is None:\n",
    "                columns_to_normalize = group.columns\n",
    "            else:\n",
    "                columns_to_normalize = self.columns_to_normalize\n",
    "            scaler.fit(group[columns_to_normalize])\n",
    "            self.scalers[group_name] = scaler\n",
    "        return self\n",
    "\n",
    "    def transform(self, X, y=None):\n",
    "        # Apply normalization to each group in the groupby column\n",
    "        groups = X.groupby(self.groupby_column)\n",
    "        X_transformed = []\n",
    "        \n",
    "        for group_name, group in groups:\n",
    "            if group_name in self.scalers:\n",
    "                scaler = self.scalers[group_name]\n",
    "                group_transformed = group.copy()\n",
    "                if self.columns_to_normalize is None:\n",
    "                    columns_to_normalize = group.columns\n",
    "                else:\n",
    "                    columns_to_normalize = self.columns_to_normalize\n",
    "                group_transformed[columns_to_normalize] = scaler.transform(group[columns_to_normalize])\n",
    "                X_transformed.append(group_transformed)\n",
    "        if len(X_transformed) > 0:\n",
    "            X_transformed = pd.concat(X_transformed)\n",
    "        else:\n",
    "            X_transformed = X.copy()\n",
    "        return X_transformed"
   ]
  },
  {
   "cell_type": "markdown",
   "id": "8087ca64-cdf0-4389-992f-2662df45e9c0",
   "metadata": {
    "tags": []
   },
   "source": [
    "#### Dropping Columns\n",
    "Here we construct the custom pipeline class DropColumns. It receives a list of strings and drops from the DataFrame any column whose name is in the list. This class only receives one argument:\n",
    "\n",
    "- **drop_columns**: Receives a list of strings telling the function which columns to drop. Default is None."
   ]
  },
  {
   "cell_type": "code",
   "execution_count": 45,
   "id": "c5162092-a932-4750-ab33-fec2c5baa877",
   "metadata": {},
   "outputs": [],
   "source": [
    "class DropColumns(BaseEstimator, TransformerMixin):\n",
    "    \n",
    "    def __init__(self, drop_columns=None):\n",
    "        self.drop_columns = drop_columns\n",
    "        \n",
    "    def fit(self, X, y=None):\n",
    "        return self\n",
    "    \n",
    "    def transform(self, X, y=None):\n",
    "        if self.drop_columns:\n",
    "            X = X.drop(columns=self.drop_columns)\n",
    "        return X\n"
   ]
  },
  {
   "cell_type": "markdown",
   "id": "d645a631-a897-4994-b810-4455d69f8f47",
   "metadata": {
    "tags": []
   },
   "source": [
    "## Additional Data Exploration after Feature Engeneering"
   ]
  },
  {
   "cell_type": "markdown",
   "id": "23be369d-e3ca-42d8-9fcd-8cdde1efeb7e",
   "metadata": {},
   "source": [
    "To analyze the engineered features _elapsed_time_ and _tendency_to_review_, we create a new dataset where we apply the respective pipelines defined above."
   ]
  },
  {
   "cell_type": "code",
   "execution_count": 46,
   "id": "d221f47f-226a-429e-84df-a867df50eab2",
   "metadata": {},
   "outputs": [],
   "source": [
    "# Apply the pipeline to generate the \"elapsed_time\" and the \"tendency_to_review\" variables\n",
    "analysis_pipeline = Pipeline([\n",
    "    ('tendency_to_review', TendencyToReview(drop_words=True, standardize=False)),\n",
    "    ('elapsed_time', ElapsedTimeTransformer(add_elapsed=True, drop_features=False))\n",
    "])\n",
    "\n",
    "analysis_df = analysis_pipeline.fit_transform(final_df)"
   ]
  },
  {
   "cell_type": "markdown",
   "id": "ed6a2712-8ab8-4bd1-91a2-36961c8cc590",
   "metadata": {},
   "source": [
    "### Exploration of elapsed time"
   ]
  },
  {
   "cell_type": "markdown",
   "id": "f9997b69-2fc6-44c3-9c3e-1f766f98fa3d",
   "metadata": {},
   "source": [
    "By analyzing the elapsed time, we can gain a better understanding about when users are most likely to write reviews, whether they tend to review games soon after release or after a significant amount of time has passed."
   ]
  },
  {
   "cell_type": "code",
   "execution_count": 50,
   "id": "2ac6be20-b457-4a69-b573-8eee8999cb88",
   "metadata": {},
   "outputs": [
    {
     "data": {
      "text/plain": [
       "count    100000.000000\n",
       "mean       1326.708310\n",
       "std        1240.146153\n",
       "min       -3372.000000\n",
       "25%         468.750000\n",
       "50%        1243.000000\n",
       "75%        2001.000000\n",
       "max        8819.000000\n",
       "Name: elapsed_time, dtype: float64"
      ]
     },
     "execution_count": 50,
     "metadata": {},
     "output_type": "execute_result"
    }
   ],
   "source": [
    "analysis_df['elapsed_time'].describe()"
   ]
  },
  {
   "cell_type": "code",
   "execution_count": 59,
   "id": "209f4012-adb7-4e69-a435-42e5f92412ac",
   "metadata": {},
   "outputs": [
    {
     "data": {
      "image/png": "[encoded data removed]",
      "text/plain": [
       "<Figure size 360x360 with 1 Axes>"
      ]
     },
     "metadata": {},
     "output_type": "display_data"
    }
   ],
   "source": [
    "# Plotting the distribution of elapsed_time\n",
    "sns.displot(analysis_df['elapsed_time'])\n",
    "\n",
    "plt.title('Distribution of Elapsed Time')\n",
    "plt.xlabel('Elapsed Time in days')\n",
    "plt.ylabel('Frequency')\n",
    "\n",
    "plt.show()"
   ]
  },
  {
   "cell_type": "code",
   "execution_count": 58,
   "id": "aec8b90e-d78f-4cc6-8340-884a33786853",
   "metadata": {},
   "outputs": [
    {
     "data": {
      "text/html": [
       "<div>\n",
       "<style scoped>\n",
       "    .dataframe tbody tr th:only-of-type {\n",
       "        vertical-align: middle;\n",
       "    }\n",
       "\n",
       "    .dataframe tbody tr th {\n",
       "        vertical-align: top;\n",
       "    }\n",
       "\n",
       "    .dataframe thead th {\n",
       "        text-align: right;\n",
       "    }\n",
       "</style>\n",
       "<table border=\"1\" class=\"dataframe\">\n",
       "  <thead>\n",
       "    <tr style=\"text-align: right;\">\n",
       "      <th></th>\n",
       "      <th>y</th>\n",
       "      <th>date</th>\n",
       "      <th>app_id</th>\n",
       "      <th>title</th>\n",
       "      <th>date_release</th>\n",
       "      <th>rating</th>\n",
       "      <th>positive_ratio</th>\n",
       "      <th>user_reviews</th>\n",
       "      <th>win</th>\n",
       "      <th>mac</th>\n",
       "      <th>...</th>\n",
       "      <th>achievements</th>\n",
       "      <th>average_playtime</th>\n",
       "      <th>median_playtime</th>\n",
       "      <th>owners</th>\n",
       "      <th>steam_deck</th>\n",
       "      <th>user_id</th>\n",
       "      <th>reviews</th>\n",
       "      <th>hours</th>\n",
       "      <th>tendency_to_review</th>\n",
       "      <th>elapsed_time</th>\n",
       "    </tr>\n",
       "  </thead>\n",
       "  <tbody>\n",
       "    <tr>\n",
       "      <th>4345435</th>\n",
       "      <td>False</td>\n",
       "      <td>2017-01-27</td>\n",
       "      <td>305620</td>\n",
       "      <td>The Long Dark</td>\n",
       "      <td>2017-08-01</td>\n",
       "      <td>Very Positive</td>\n",
       "      <td>91</td>\n",
       "      <td>83883</td>\n",
       "      <td>True</td>\n",
       "      <td>True</td>\n",
       "      <td>...</td>\n",
       "      <td>40</td>\n",
       "      <td>760</td>\n",
       "      <td>227</td>\n",
       "      <td>1000-2000</td>\n",
       "      <td>True</td>\n",
       "      <td>848585</td>\n",
       "      <td>3</td>\n",
       "      <td>124.699997</td>\n",
       "      <td>0.040541</td>\n",
       "      <td>-186</td>\n",
       "    </tr>\n",
       "    <tr>\n",
       "      <th>5484968</th>\n",
       "      <td>True</td>\n",
       "      <td>2018-10-25</td>\n",
       "      <td>646570</td>\n",
       "      <td>Slay the Spire</td>\n",
       "      <td>2019-01-23</td>\n",
       "      <td>Overwhelmingly Positive</td>\n",
       "      <td>97</td>\n",
       "      <td>108391</td>\n",
       "      <td>True</td>\n",
       "      <td>True</td>\n",
       "      <td>...</td>\n",
       "      <td>43</td>\n",
       "      <td>3034</td>\n",
       "      <td>1857</td>\n",
       "      <td>1000-2000</td>\n",
       "      <td>True</td>\n",
       "      <td>4674587</td>\n",
       "      <td>3</td>\n",
       "      <td>373.500000</td>\n",
       "      <td>0.008929</td>\n",
       "      <td>-90</td>\n",
       "    </tr>\n",
       "    <tr>\n",
       "      <th>1237873</th>\n",
       "      <td>True</td>\n",
       "      <td>2017-06-28</td>\n",
       "      <td>431960</td>\n",
       "      <td>Wallpaper Engine</td>\n",
       "      <td>2018-11-01</td>\n",
       "      <td>Overwhelmingly Positive</td>\n",
       "      <td>98</td>\n",
       "      <td>572319</td>\n",
       "      <td>True</td>\n",
       "      <td>False</td>\n",
       "      <td>...</td>\n",
       "      <td>17</td>\n",
       "      <td>1731</td>\n",
       "      <td>542</td>\n",
       "      <td>5000-10000</td>\n",
       "      <td>True</td>\n",
       "      <td>4669421</td>\n",
       "      <td>4</td>\n",
       "      <td>4.300000</td>\n",
       "      <td>0.011628</td>\n",
       "      <td>-491</td>\n",
       "    </tr>\n",
       "    <tr>\n",
       "      <th>3266365</th>\n",
       "      <td>False</td>\n",
       "      <td>2016-09-04</td>\n",
       "      <td>346110</td>\n",
       "      <td>ARK: Survival Evolved</td>\n",
       "      <td>2017-08-27</td>\n",
       "      <td>Very Positive</td>\n",
       "      <td>83</td>\n",
       "      <td>465818</td>\n",
       "      <td>True</td>\n",
       "      <td>True</td>\n",
       "      <td>...</td>\n",
       "      <td>32</td>\n",
       "      <td>14154</td>\n",
       "      <td>1470</td>\n",
       "      <td>5000-10000</td>\n",
       "      <td>True</td>\n",
       "      <td>5042927</td>\n",
       "      <td>7</td>\n",
       "      <td>0.200000</td>\n",
       "      <td>0.004909</td>\n",
       "      <td>-357</td>\n",
       "    </tr>\n",
       "    <tr>\n",
       "      <th>1979623</th>\n",
       "      <td>True</td>\n",
       "      <td>2016-09-18</td>\n",
       "      <td>435150</td>\n",
       "      <td>Divinity: Original Sin 2 - Definitive Edition</td>\n",
       "      <td>2017-09-14</td>\n",
       "      <td>Overwhelmingly Positive</td>\n",
       "      <td>95</td>\n",
       "      <td>137279</td>\n",
       "      <td>True</td>\n",
       "      <td>True</td>\n",
       "      <td>...</td>\n",
       "      <td>97</td>\n",
       "      <td>2938</td>\n",
       "      <td>1953</td>\n",
       "      <td>2000-5000</td>\n",
       "      <td>True</td>\n",
       "      <td>5530028</td>\n",
       "      <td>3</td>\n",
       "      <td>11.500000</td>\n",
       "      <td>0.011364</td>\n",
       "      <td>-361</td>\n",
       "    </tr>\n",
       "    <tr>\n",
       "      <th>...</th>\n",
       "      <td>...</td>\n",
       "      <td>...</td>\n",
       "      <td>...</td>\n",
       "      <td>...</td>\n",
       "      <td>...</td>\n",
       "      <td>...</td>\n",
       "      <td>...</td>\n",
       "      <td>...</td>\n",
       "      <td>...</td>\n",
       "      <td>...</td>\n",
       "      <td>...</td>\n",
       "      <td>...</td>\n",
       "      <td>...</td>\n",
       "      <td>...</td>\n",
       "      <td>...</td>\n",
       "      <td>...</td>\n",
       "      <td>...</td>\n",
       "      <td>...</td>\n",
       "      <td>...</td>\n",
       "      <td>...</td>\n",
       "      <td>...</td>\n",
       "    </tr>\n",
       "    <tr>\n",
       "      <th>4949707</th>\n",
       "      <td>False</td>\n",
       "      <td>2020-01-02</td>\n",
       "      <td>794260</td>\n",
       "      <td>Outward Definitive Edition</td>\n",
       "      <td>2022-05-17</td>\n",
       "      <td>Mostly Positive</td>\n",
       "      <td>73</td>\n",
       "      <td>17234</td>\n",
       "      <td>True</td>\n",
       "      <td>False</td>\n",
       "      <td>...</td>\n",
       "      <td>44</td>\n",
       "      <td>1373</td>\n",
       "      <td>2315</td>\n",
       "      <td>100-200</td>\n",
       "      <td>True</td>\n",
       "      <td>2099539</td>\n",
       "      <td>2</td>\n",
       "      <td>30.200001</td>\n",
       "      <td>0.009434</td>\n",
       "      <td>-866</td>\n",
       "    </tr>\n",
       "    <tr>\n",
       "      <th>5074235</th>\n",
       "      <td>False</td>\n",
       "      <td>2018-07-28</td>\n",
       "      <td>313120</td>\n",
       "      <td>Stranded Deep</td>\n",
       "      <td>2022-08-10</td>\n",
       "      <td>Mostly Positive</td>\n",
       "      <td>75</td>\n",
       "      <td>36171</td>\n",
       "      <td>True</td>\n",
       "      <td>True</td>\n",
       "      <td>...</td>\n",
       "      <td>8</td>\n",
       "      <td>272</td>\n",
       "      <td>246</td>\n",
       "      <td>500-1000</td>\n",
       "      <td>True</td>\n",
       "      <td>5620014</td>\n",
       "      <td>13</td>\n",
       "      <td>0.600000</td>\n",
       "      <td>0.232143</td>\n",
       "      <td>-1474</td>\n",
       "    </tr>\n",
       "    <tr>\n",
       "      <th>5136551</th>\n",
       "      <td>True</td>\n",
       "      <td>2015-12-15</td>\n",
       "      <td>313120</td>\n",
       "      <td>Stranded Deep</td>\n",
       "      <td>2022-08-10</td>\n",
       "      <td>Mostly Positive</td>\n",
       "      <td>75</td>\n",
       "      <td>36171</td>\n",
       "      <td>True</td>\n",
       "      <td>True</td>\n",
       "      <td>...</td>\n",
       "      <td>8</td>\n",
       "      <td>272</td>\n",
       "      <td>246</td>\n",
       "      <td>500-1000</td>\n",
       "      <td>True</td>\n",
       "      <td>1380457</td>\n",
       "      <td>1</td>\n",
       "      <td>15.000000</td>\n",
       "      <td>0.032258</td>\n",
       "      <td>-2430</td>\n",
       "    </tr>\n",
       "    <tr>\n",
       "      <th>1132440</th>\n",
       "      <td>True</td>\n",
       "      <td>2015-06-25</td>\n",
       "      <td>252490</td>\n",
       "      <td>Rust</td>\n",
       "      <td>2018-02-08</td>\n",
       "      <td>Very Positive</td>\n",
       "      <td>87</td>\n",
       "      <td>722973</td>\n",
       "      <td>True</td>\n",
       "      <td>True</td>\n",
       "      <td>...</td>\n",
       "      <td>48</td>\n",
       "      <td>9352</td>\n",
       "      <td>2234</td>\n",
       "      <td>5000-10000</td>\n",
       "      <td>True</td>\n",
       "      <td>1105053</td>\n",
       "      <td>2</td>\n",
       "      <td>201.300003</td>\n",
       "      <td>0.037736</td>\n",
       "      <td>-959</td>\n",
       "    </tr>\n",
       "    <tr>\n",
       "      <th>740182</th>\n",
       "      <td>True</td>\n",
       "      <td>2015-12-10</td>\n",
       "      <td>291550</td>\n",
       "      <td>Brawlhalla</td>\n",
       "      <td>2017-10-17</td>\n",
       "      <td>Very Positive</td>\n",
       "      <td>83</td>\n",
       "      <td>314261</td>\n",
       "      <td>True</td>\n",
       "      <td>True</td>\n",
       "      <td>...</td>\n",
       "      <td>39</td>\n",
       "      <td>724</td>\n",
       "      <td>146</td>\n",
       "      <td>10000-20000</td>\n",
       "      <td>True</td>\n",
       "      <td>1284924</td>\n",
       "      <td>1</td>\n",
       "      <td>32.900002</td>\n",
       "      <td>0.011765</td>\n",
       "      <td>-677</td>\n",
       "    </tr>\n",
       "  </tbody>\n",
       "</table>\n",
       "<p>7629 rows × 32 columns</p>\n",
       "</div>"
      ],
      "text/plain": [
       "             y       date  app_id  \\\n",
       "4345435  False 2017-01-27  305620   \n",
       "5484968   True 2018-10-25  646570   \n",
       "1237873   True 2017-06-28  431960   \n",
       "3266365  False 2016-09-04  346110   \n",
       "1979623   True 2016-09-18  435150   \n",
       "...        ...        ...     ...   \n",
       "4949707  False 2020-01-02  794260   \n",
       "5074235  False 2018-07-28  313120   \n",
       "5136551   True 2015-12-15  313120   \n",
       "1132440   True 2015-06-25  252490   \n",
       "740182    True 2015-12-10  291550   \n",
       "\n",
       "                                                 title date_release  \\\n",
       "4345435                                  The Long Dark   2017-08-01   \n",
       "5484968                                 Slay the Spire   2019-01-23   \n",
       "1237873                               Wallpaper Engine   2018-11-01   \n",
       "3266365                          ARK: Survival Evolved   2017-08-27   \n",
       "1979623  Divinity: Original Sin 2 - Definitive Edition   2017-09-14   \n",
       "...                                                ...          ...   \n",
       "4949707                     Outward Definitive Edition   2022-05-17   \n",
       "5074235                                  Stranded Deep   2022-08-10   \n",
       "5136551                                  Stranded Deep   2022-08-10   \n",
       "1132440                                           Rust   2018-02-08   \n",
       "740182                                      Brawlhalla   2017-10-17   \n",
       "\n",
       "                          rating  positive_ratio  user_reviews   win    mac  \\\n",
       "4345435            Very Positive              91         83883  True   True   \n",
       "5484968  Overwhelmingly Positive              97        108391  True   True   \n",
       "1237873  Overwhelmingly Positive              98        572319  True  False   \n",
       "3266365            Very Positive              83        465818  True   True   \n",
       "1979623  Overwhelmingly Positive              95        137279  True   True   \n",
       "...                          ...             ...           ...   ...    ...   \n",
       "4949707          Mostly Positive              73         17234  True  False   \n",
       "5074235          Mostly Positive              75         36171  True   True   \n",
       "5136551          Mostly Positive              75         36171  True   True   \n",
       "1132440            Very Positive              87        722973  True   True   \n",
       "740182             Very Positive              83        314261  True   True   \n",
       "\n",
       "         ...  achievements  average_playtime  median_playtime       owners  \\\n",
       "4345435  ...            40               760              227    1000-2000   \n",
       "5484968  ...            43              3034             1857    1000-2000   \n",
       "1237873  ...            17              1731              542   5000-10000   \n",
       "3266365  ...            32             14154             1470   5000-10000   \n",
       "1979623  ...            97              2938             1953    2000-5000   \n",
       "...      ...           ...               ...              ...          ...   \n",
       "4949707  ...            44              1373             2315      100-200   \n",
       "5074235  ...             8               272              246     500-1000   \n",
       "5136551  ...             8               272              246     500-1000   \n",
       "1132440  ...            48              9352             2234   5000-10000   \n",
       "740182   ...            39               724              146  10000-20000   \n",
       "\n",
       "        steam_deck  user_id  reviews       hours tendency_to_review  \\\n",
       "4345435       True   848585        3  124.699997           0.040541   \n",
       "5484968       True  4674587        3  373.500000           0.008929   \n",
       "1237873       True  4669421        4    4.300000           0.011628   \n",
       "3266365       True  5042927        7    0.200000           0.004909   \n",
       "1979623       True  5530028        3   11.500000           0.011364   \n",
       "...            ...      ...      ...         ...                ...   \n",
       "4949707       True  2099539        2   30.200001           0.009434   \n",
       "5074235       True  5620014       13    0.600000           0.232143   \n",
       "5136551       True  1380457        1   15.000000           0.032258   \n",
       "1132440       True  1105053        2  201.300003           0.037736   \n",
       "740182        True  1284924        1   32.900002           0.011765   \n",
       "\n",
       "         elapsed_time  \n",
       "4345435          -186  \n",
       "5484968           -90  \n",
       "1237873          -491  \n",
       "3266365          -357  \n",
       "1979623          -361  \n",
       "...               ...  \n",
       "4949707          -866  \n",
       "5074235         -1474  \n",
       "5136551         -2430  \n",
       "1132440          -959  \n",
       "740182           -677  \n",
       "\n",
       "[7629 rows x 32 columns]"
      ]
     },
     "metadata": {},
     "output_type": "display_data"
    }
   ],
   "source": [
    "# Display games with negative elapsed_time\n",
    "negative_elapsed_time_rows = analysis_df[analysis_df[\"elapsed_time\"] < 0]\n",
    "display(negative_elapsed_time_rows)"
   ]
  },
  {
   "cell_type": "markdown",
   "id": "98fc5ab4-fc9f-45dd-9ef3-e781f2241929",
   "metadata": {},
   "source": [
    "The plot reveals a small number of games with a negative elapsed time of nearly -2000 days. This indicates that some users submitted reviews for games prior to their official release date. It's important to consider that Steam offers early access or beta versions of certain games, allowing users to play and provide feedback ahead of the game's full launch. In such cases, reviews can be submitted even though the final release date has yet to arrive. This phenomenon might explain the presence of negative elapsed times in our dataset, reflecting the unique nature of game distribution and player engagement on the Steam platform. "
   ]
  },
  {
   "cell_type": "markdown",
   "id": "73e679c7-0d3d-4cd5-9180-8ee5f119db7b",
   "metadata": {},
   "source": [
    "### Exploration of review tendency"
   ]
  },
  {
   "cell_type": "code",
   "execution_count": 51,
   "id": "fa6b9f22-f3d2-4bab-a7a8-c0446c8be11f",
   "metadata": {},
   "outputs": [
    {
     "data": {
      "text/plain": [
       "count    100000.000000\n",
       "mean          0.070451\n",
       "std           0.186838\n",
       "min           0.000106\n",
       "25%           0.012346\n",
       "50%           0.028571\n",
       "75%           0.066667\n",
       "max           3.200000\n",
       "Name: tendency_to_review, dtype: float64"
      ]
     },
     "execution_count": 51,
     "metadata": {},
     "output_type": "execute_result"
    }
   ],
   "source": [
    "# Describe the variable\n",
    "analysis_df[\"tendency_to_review\"].describe()"
   ]
  },
  {
   "cell_type": "code",
   "execution_count": 52,
   "id": "d6b7f0ab-0602-4278-9922-132325e42069",
   "metadata": {},
   "outputs": [
    {
     "data": {
      "image/png": "[encoded data removed]",
      "text/plain": [
       "<Figure size 432x288 with 1 Axes>"
      ]
     },
     "metadata": {},
     "output_type": "display_data"
    }
   ],
   "source": [
    "# Create a histogram of review_tendency variable in the first subplot\n",
    "plt.hist(analysis_df[\"tendency_to_review\"], bins=50)\n",
    "plt.title(\"Review Tendency Distribution\")\n",
    "plt.xlabel(\"Review Tendency\")\n",
    "plt.show()"
   ]
  },
  {
   "cell_type": "markdown",
   "id": "5bfe7c72-1e94-4863-ae60-1214b1d8450f",
   "metadata": {},
   "source": [
    "The distribution of the variable review_tendency suggests that users tend to review a relatively small number of games. The mean value of 0.054 and the median value of 0.027 indicate that on average, users leave a review for only a small fraction of the games they own. Moreover, we need to take into account that every user recorded in the dataset has left at least one review. This suggests that the value of tendency to review calculated on the whole population would be considerely lower.\n",
    "\n",
    "We can assume, as a consequence, that users only review games when they have a strong opinion about it."
   ]
  },
  {
   "cell_type": "markdown",
   "id": "1d304c4f-773c-4514-8053-4824837c31e5",
   "metadata": {
    "tags": []
   },
   "source": [
    "## Model Construction"
   ]
  },
  {
   "cell_type": "markdown",
   "id": "c350a441-17e1-465a-8db1-acde98c25d65",
   "metadata": {},
   "source": [
    "In the following part, a Logistic Regression model is being used to predict whether a user would like a game or not, which is represented by the binary target variable 'y'. The dataset is first split into features (X) and target (y) and then further split into training and validation sets.\n",
    "\n",
    "Two versions of the logistic model are created and compared:\n",
    "\n",
    "The first logistic model uses a limited set of features: 'price_final', 'positive_ratio', 'hours', 'median_playtime'. A preprocessor is created using ColumnTransformer and StandardScaler to standardize these numerical features. A pipeline is created with the preprocessor and a LogisticRegression model with L2 regularization. GridSearchCV is used to optimize the penalty hyperparameter ('C') and regularization type ('penalty') over a range of values, using 10-fold cross-validation and F1 score as the evaluation metric.\n",
    "The second logistic model adds more features to the first model: 'reviews', 'products', 'discount', 'funny', 'helpful', 'user_reviews', 'price_original', 'required_age', 'achievements'. A new preprocessor is created to standardize these additional numerical features. The same pipeline, grid search, and cross-validation process from the first model is used to optimize the hyperparameters and evaluate the model.\n",
    "The performance of the second model is compared to the first model to see if adding more features improved the F1 score.\n",
    "\n",
    "In the third part, Synthetic Minority Over-sampling Technique (SMOTE) is added to the pipeline to address potential class imbalance in the target variable 'y'. A new parameter grid is created to optimize SMOTE's sampling strategy, the number of nearest neighbors, and the logistic regression penalty hyperparameter. Grid search and cross-validation are performed on this pipeline, and the model's performance is compared to the second logistic model to see if adding SMOTE improved the F1 score.\n",
    "In summary, a logistic regression model is used in this code to predict whether a user would like a game or not based on various features. The model is optimized and compared across different sets of features and with the addition of SMOTE to address class imbalance."
   ]
  },
  {
   "cell_type": "markdown",
   "id": "573ccf30-6b18-429f-a069-c83e528c5596",
   "metadata": {},
   "source": [
    "**Train-Test Split** AAAAAAAA"
   ]
  },
  {
   "cell_type": "code",
   "execution_count": null,
   "id": "956219df-0337-46a4-9615-44df0a31bb34",
   "metadata": {},
   "outputs": [],
   "source": []
  },
  {
   "cell_type": "markdown",
   "id": "af67657d-b332-48e4-9a31-47797d2bf712",
   "metadata": {},
   "source": [
    "### Model 1: Content Similarity Score\n",
    "\n",
    "While this is model..."
   ]
  },
  {
   "cell_type": "code",
   "execution_count": 54,
   "id": "978262a8-9ded-4110-becd-804dd4dcd188",
   "metadata": {},
   "outputs": [
    {
     "data": {
      "text/html": [
       "<div>\n",
       "<style scoped>\n",
       "    .dataframe tbody tr th:only-of-type {\n",
       "        vertical-align: middle;\n",
       "    }\n",
       "\n",
       "    .dataframe tbody tr th {\n",
       "        vertical-align: top;\n",
       "    }\n",
       "\n",
       "    .dataframe thead th {\n",
       "        text-align: right;\n",
       "    }\n",
       "</style>\n",
       "<table border=\"1\" class=\"dataframe\">\n",
       "  <thead>\n",
       "    <tr style=\"text-align: right;\">\n",
       "      <th></th>\n",
       "      <th>title</th>\n",
       "      <th>description</th>\n",
       "      <th>tags</th>\n",
       "      <th>genres</th>\n",
       "      <th>steamspy_tags</th>\n",
       "      <th>categories</th>\n",
       "      <th>full_text</th>\n",
       "    </tr>\n",
       "    <tr>\n",
       "      <th>app_id</th>\n",
       "      <th></th>\n",
       "      <th></th>\n",
       "      <th></th>\n",
       "      <th></th>\n",
       "      <th></th>\n",
       "      <th></th>\n",
       "      <th></th>\n",
       "    </tr>\n",
       "  </thead>\n",
       "  <tbody>\n",
       "    <tr>\n",
       "      <th>304390</th>\n",
       "      <td>FOR HONOR™</td>\n",
       "      <td>carve path destruction intense, believable bat...</td>\n",
       "      <td>medieval swordplay action multiplayer pvp figh...</td>\n",
       "      <td>action</td>\n",
       "      <td>medieval action swordplay</td>\n",
       "      <td>single-player online multiplayer online coop s...</td>\n",
       "      <td>single-player online multiplayer online coop s...</td>\n",
       "    </tr>\n",
       "    <tr>\n",
       "      <th>306130</th>\n",
       "      <td>The Elder Scrolls® Online</td>\n",
       "      <td>join 20 players award-winning online multiplay...</td>\n",
       "      <td>rpg mmorpg open world adventure fantasy explor...</td>\n",
       "      <td>massive-multiplayer rpg</td>\n",
       "      <td>rpg open world mmorpg</td>\n",
       "      <td>mmo steam trading cards partial controller sup...</td>\n",
       "      <td>mmo steam trading cards partial controller sup...</td>\n",
       "    </tr>\n",
       "    <tr>\n",
       "      <th>238960</th>\n",
       "      <td>Path of Exile</td>\n",
       "      <td>exile, struggling survive dark continent wraec...</td>\n",
       "      <td>free-to-play action rpg hack and slash rpg mul...</td>\n",
       "      <td>action adventure free-to-play indie massive-mu...</td>\n",
       "      <td>free-to-play action rpg hack and slash</td>\n",
       "      <td>single-player multiplayer online multiplayer m...</td>\n",
       "      <td>single-player multiplayer online multiplayer m...</td>\n",
       "    </tr>\n",
       "    <tr>\n",
       "      <th>730</th>\n",
       "      <td>Counter-Strike: Global Offensive</td>\n",
       "      <td>counter-strike: global offensive (cs: go) expa...</td>\n",
       "      <td>fps shooter multiplayer competitive action tea...</td>\n",
       "      <td>action free-to-play</td>\n",
       "      <td>fps multiplayer shooter</td>\n",
       "      <td>multiplayer steam achievements full controller...</td>\n",
       "      <td>multiplayer steam achievements full controller...</td>\n",
       "    </tr>\n",
       "    <tr>\n",
       "      <th>255710</th>\n",
       "      <td>Cities: Skylines</td>\n",
       "      <td>cities: skylines modern classic city simulatio...</td>\n",
       "      <td>city builder simulation building management st...</td>\n",
       "      <td>simulation strategy</td>\n",
       "      <td>city builder simulation building</td>\n",
       "      <td>single-player steam achievements steam trading...</td>\n",
       "      <td>single-player steam achievements steam trading...</td>\n",
       "    </tr>\n",
       "  </tbody>\n",
       "</table>\n",
       "</div>"
      ],
      "text/plain": [
       "                                   title  \\\n",
       "app_id                                     \n",
       "304390                        FOR HONOR™   \n",
       "306130         The Elder Scrolls® Online   \n",
       "238960                     Path of Exile   \n",
       "730     Counter-Strike: Global Offensive   \n",
       "255710                  Cities: Skylines   \n",
       "\n",
       "                                              description  \\\n",
       "app_id                                                      \n",
       "304390  carve path destruction intense, believable bat...   \n",
       "306130  join 20 players award-winning online multiplay...   \n",
       "238960  exile, struggling survive dark continent wraec...   \n",
       "730     counter-strike: global offensive (cs: go) expa...   \n",
       "255710  cities: skylines modern classic city simulatio...   \n",
       "\n",
       "                                                     tags  \\\n",
       "app_id                                                      \n",
       "304390  medieval swordplay action multiplayer pvp figh...   \n",
       "306130  rpg mmorpg open world adventure fantasy explor...   \n",
       "238960  free-to-play action rpg hack and slash rpg mul...   \n",
       "730     fps shooter multiplayer competitive action tea...   \n",
       "255710  city builder simulation building management st...   \n",
       "\n",
       "                                                   genres  \\\n",
       "app_id                                                      \n",
       "304390                                             action   \n",
       "306130                            massive-multiplayer rpg   \n",
       "238960  action adventure free-to-play indie massive-mu...   \n",
       "730                                   action free-to-play   \n",
       "255710                                simulation strategy   \n",
       "\n",
       "                                 steamspy_tags  \\\n",
       "app_id                                           \n",
       "304390               medieval action swordplay   \n",
       "306130                   rpg open world mmorpg   \n",
       "238960  free-to-play action rpg hack and slash   \n",
       "730                    fps multiplayer shooter   \n",
       "255710        city builder simulation building   \n",
       "\n",
       "                                               categories  \\\n",
       "app_id                                                      \n",
       "304390  single-player online multiplayer online coop s...   \n",
       "306130  mmo steam trading cards partial controller sup...   \n",
       "238960  single-player multiplayer online multiplayer m...   \n",
       "730     multiplayer steam achievements full controller...   \n",
       "255710  single-player steam achievements steam trading...   \n",
       "\n",
       "                                                full_text  \n",
       "app_id                                                     \n",
       "304390  single-player online multiplayer online coop s...  \n",
       "306130  mmo steam trading cards partial controller sup...  \n",
       "238960  single-player multiplayer online multiplayer m...  \n",
       "730     multiplayer steam achievements full controller...  \n",
       "255710  single-player steam achievements steam trading...  "
      ]
     },
     "execution_count": 54,
     "metadata": {},
     "output_type": "execute_result"
    }
   ],
   "source": [
    "textual_df.head()"
   ]
  },
  {
   "cell_type": "code",
   "execution_count": 55,
   "id": "ae980e65-a998-42b4-986e-0a91592992ce",
   "metadata": {},
   "outputs": [],
   "source": [
    "# Define the custom class\n",
    "class SimilarityGenerator:\n",
    "    \n",
    "    def __init__(self, similarity):\n",
    "        self.similarity = similarity\n",
    "        \n",
    "        # Define multi_review dataframe within the class\n",
    "        duplicated_user_ids = user_df[user_df.duplicated(subset=[\"user_id\"], keep=False)][\"user_id\"].unique()\n",
    "        self.multi_review = user_df[user_df[\"user_id\"].isin(duplicated_user_ids)].reset_index(drop=True)\n",
    "        \n",
    "    def transform(self, X):\n",
    "        similarities = []\n",
    "        for i in range(len(X)):\n",
    "            user = X[i][0]\n",
    "            game = X[i][1]\n",
    "            sim = self.AverageSimilarityCalculator(user, game)\n",
    "            similarities.append(sim)\n",
    "        return np.array(similarities).reshape(-1, 1)\n",
    "    \n",
    "    def AverageSimilarityCalculator(self, user, game):\n",
    "        user_ratings = self.multi_review[self.multi_review[\"user_id\"] == user]\n",
    "        other_games = user_ratings[user_ratings['app_id'] != game]\n",
    "        other_games_titles = other_games['app_id']\n",
    "        filtered_game_similarity_df = self.similarity.loc[game, other_games_titles] * other_games.set_index('app_id')[\"y\"]\n",
    "        return filtered_game_similarity_df.mean()\n"
   ]
  },
  {
   "cell_type": "code",
   "execution_count": 56,
   "id": "6829e8d5-ce44-42a0-bda3-97b8a834fe06",
   "metadata": {},
   "outputs": [],
   "source": [
    "# Create the pipeline\n",
    "SVD_pipeline = Pipeline([\n",
    "    ('tfidf', TfidfVectorizer(stop_words='english', strip_accents='ascii', use_idf=False)),\n",
    "    ('svd', TruncatedSVD(n_components=160, random_state=70))\n",
    "])\n",
    "\n",
    "# Fit the pipeline on the full text data\n",
    "SVD_pipeline.fit(textual_df['full_text'])\n",
    "\n",
    "# Compute the similarity matrix on the full text data\n",
    "reduced_features = SVD_pipeline.transform(textual_df['full_text'])\n",
    "similarity_matrix = 1 - pairwise_distances(reduced_features, metric='cosine')"
   ]
  },
  {
   "cell_type": "markdown",
   "id": "4d0fb828-22fb-4f60-aeae-9ccb8c444406",
   "metadata": {},
   "source": [
    "### Model 2: Logistic Regression"
   ]
  },
  {
   "cell_type": "code",
   "execution_count": null,
   "id": "8d1c5179-6715-4e93-8ba8-83c24086f382",
   "metadata": {},
   "outputs": [],
   "source": []
  },
  {
   "cell_type": "markdown",
   "id": "ed6f6c0d-2066-4773-95ba-8a52df42f217",
   "metadata": {},
   "source": [
    "### Model 3: Decision Tree"
   ]
  },
  {
   "cell_type": "code",
   "execution_count": null,
   "id": "ab59c7e2-b0c7-426c-85b8-954e732b226a",
   "metadata": {},
   "outputs": [],
   "source": []
  },
  {
   "cell_type": "markdown",
   "id": "d44d1284-4030-4746-82d6-738c93d1e86d",
   "metadata": {
    "tags": []
   },
   "source": [
    "## Model Evaluation"
   ]
  },
  {
   "cell_type": "code",
   "execution_count": null,
   "id": "e6f8fbd3-f379-47be-8b3a-7a326f7558c5",
   "metadata": {},
   "outputs": [],
   "source": []
  },
  {
   "cell_type": "markdown",
   "id": "2c5ca816-c7b8-4a99-8b95-b83e2c57dbab",
   "metadata": {},
   "source": [
    "## Rule-based discount choice"
   ]
  },
  {
   "cell_type": "markdown",
   "id": "b7a0ad85-28cb-4932-991e-05e92e0e43dc",
   "metadata": {},
   "source": [
    "After defining the best performing model, a rule-based discount choice function has been developed to aid Steam in making decisions regarding personalized discount offers for games. This function receives several arguments including user_id, app_id, and various threshold values for different discount levels (namely, eighty_treshold, sixty_threshold, forty_threshold, twenty_threshold, and no_discount_threshold). The function uses a rule-based approach to determine the discount level based on the probability of the individual user liking the game, as predicted by the _final_model_.\n",
    "\n",
    "The thresholds have a pre-defined value, selected based on our perception of what could be a good business decision. However, Steam can decide to set its own threshold values, in case the company's business needs and goals differ from our point of view.\n",
    "\n",
    "The primary goal of the discount predictor is to understand and meet users' preferences, not only to suggest games they may enjoy but also to encourage them to try new games that differ from their usual preferences, thanks to the discounts offered. The discounts not only boost game sales but also enhance users' perception of the games, adding value both for Steam and its users. "
   ]
  },
  {
   "cell_type": "code",
   "execution_count": 57,
   "id": "4c3486a0-0d66-4c02-9fd3-cc726bee7fe7",
   "metadata": {},
   "outputs": [],
   "source": [
    "def discount_predictor(user_id, app_id, no_discount_threshold=0.9, twenty_threshold=0.7, forty_threshold=0.5, sixty_threshold=0.4, eighty_threshold=0.3):\n",
    "    \n",
    "    # Find the row in final_df that corresponds to the given user and app IDs\n",
    "    user_row = final_df.loc[(final_df['user_id'] == user_id) & (final_df['app_id'] == app_id)]\n",
    "    \n",
    "    if len(user_row) == 0:\n",
    "        return \"Error: User and app ID combination not found in dataframe.\"\n",
    "    \n",
    "    # Make a prediction with the final model using the features from the user_row\n",
    "    prediction = final_model.predict_proba(user_row.drop(['user_id', 'app_id', 'y'], axis=1))\n",
    "    probability_of_liking = prediction[0][1]\n",
    "    \n",
    "    # Determine which discount to offer based on the probability of liking the game\n",
    "    if probability_of_liking >= no_discount_threshold:\n",
    "        return \"Offer no discount.\"\n",
    "    elif probability_of_liking >= twenty_threshold:\n",
    "        return \"Offer a 20% discount.\"\n",
    "    elif probability_of_liking >= forty_threshold:\n",
    "        return \"Offer a 40% discount.\"\n",
    "    elif probability_of_liking >= sixty_threshold:\n",
    "        return \"Offer a 60% discount.\"\n",
    "    elif probability_of_liking >= eighty_threshold:\n",
    "        return \"Offer an 80% discount.\"\n",
    "    else:\n",
    "        return \"Do not offer the game.\""
   ]
  }
 ],
 "metadata": {
  "kernelspec": {
   "display_name": "Python 3 (ipykernel)",
   "language": "python",
   "name": "python3"
  },
  "language_info": {
   "codemirror_mode": {
    "name": "ipython",
    "version": 3
   },
   "file_extension": ".py",
   "mimetype": "text/x-python",
   "name": "python",
   "nbconvert_exporter": "python",
   "pygments_lexer": "ipython3",
   "version": "3.9.12"
  }
 },
 "nbformat": 4,
 "nbformat_minor": 5
}
