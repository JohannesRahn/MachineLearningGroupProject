{
 "cells": [
  {
   "cell_type": "markdown",
   "id": "dea93456-a96e-4d1f-99ec-0c38d40bda89",
   "metadata": {},
   "source": [
    "# **Machine Learning Group Project:** CSV File Creation\n",
    "\n",
    "This project sets out to predict whether Steam users will enjoy particular games offered by the platform and provide business insights on whether discounts should be offered or not. Project developed by Team XX composed by:\n",
    "\n",
    "| Student Name | Student Number | Class Group |\n",
    "| --- | --- | --- |\n",
    "| **Alessandro Maugeri** | 53067 | TA |\n",
    "| **Frank Andreas Bauer** | 53121 | TA |\n",
    "|  **Johannes Rahn** | 53958 | TB |\n",
    "| **Nicole Zoppi** | 53854 | TB |\n",
    "| **Yannick von der Heyden** | 53629 | TA |\n",
    "\n",
    "----\n",
    "\n",
    "**Please Note:** This notebook's purpose is to read data from the various datatsets used in our analysis. The data subsequently undergoes some changes and is merged into a single DataFrame `final_df`. The final snippet of code saves this new DataFrame as a CSV file in the _data_ folder. [Notebook _b_data_exploration_](b_data_exploration.ipynb) then works with this data by importing this CSV. Thus, it is not necessary to run this Notebook every time the code is run on a given machine. One time is sufficient to view the process of importing and merging and store the data in a local directory for later use."
   ]
  },
  {
   "cell_type": "markdown",
   "id": "f2540aaf-fc28-463b-ae53-9f3af7f6b760",
   "metadata": {},
   "source": [
    "## Importing Packages"
   ]
  },
  {
   "cell_type": "code",
   "execution_count": 24,
   "id": "bacd787f",
   "metadata": {},
   "outputs": [],
   "source": [
    "import ast\n",
    "import pandas as pd\n",
    "import numpy as np\n",
    "from datetime import datetime"
   ]
  },
  {
   "cell_type": "markdown",
   "id": "efd8095d-9205-4fde-89e3-63d700bd310f",
   "metadata": {},
   "source": [
    "## Importing Data"
   ]
  },
  {
   "cell_type": "markdown",
   "id": "7bda29c7-9d5a-4e3d-b4dd-365bc91541a7",
   "metadata": {},
   "source": [
    "The data for this project was retrieved from [Kaggle](https://www.kaggle.com/datasets/antonkozyriev/game-recommendations-on-steam?select=games.csv) and stored in the \"data\" folder found in the notebook's directory. The folder includes **five data files**:\n",
    "\n",
    "The CSV file **[games.csv](data/games.csv)** presents data concerning individual games in the Steam library:\n",
    "\n",
    "| Column | Description | Example|\n",
    "| --- | --- | --- |\n",
    "| **app_id** | Product ID on Steam | 620 |\n",
    "| **title** | Product Commercial Title | Portal 2|\n",
    "|  **date_release** | Release Date of Title (y-m-d) | 2011-04-18 |\n",
    "| **win** | Boolean Denoting Compatibility to Windows Computers | True |\n",
    "| **mac** | Boolean Denoting Compatibility to Mac Computers  | True | \n",
    "| **linux** | Boolean Denoting Compatibility to Linux Computers  | True |\n",
    "| **rating** | Categorical Rating of Product (e.g. \"Positive\")| Overwhelmingly Positive |\n",
    "| **positive_ratio** | Ratio of Postive Feedback for Game  | 98 |\n",
    "| **user_reviews** | Number of Reviews  | 267142 |\n",
    "| **price_final** | Final Price in USD | 9.99 |\n",
    "| **price_original** | Price Before Discounts in USD | 9.99 |\n",
    "| **discount** | Applied Discount | 0 |\n",
    "| **steam_deck** | Compatible with [Steam Deck](https://store.steampowered.com/steamdeck)? | True |\n",
    "\n"
   ]
  },
  {
   "cell_type": "code",
   "execution_count": 25,
   "id": "c671eed4-b30e-438b-8c0e-be1a060af029",
   "metadata": {},
   "outputs": [
    {
     "data": {
      "text/html": [
       "<div>\n",
       "<style scoped>\n",
       "    .dataframe tbody tr th:only-of-type {\n",
       "        vertical-align: middle;\n",
       "    }\n",
       "\n",
       "    .dataframe tbody tr th {\n",
       "        vertical-align: top;\n",
       "    }\n",
       "\n",
       "    .dataframe thead th {\n",
       "        text-align: right;\n",
       "    }\n",
       "</style>\n",
       "<table border=\"1\" class=\"dataframe\">\n",
       "  <thead>\n",
       "    <tr style=\"text-align: right;\">\n",
       "      <th></th>\n",
       "      <th>app_id</th>\n",
       "      <th>title</th>\n",
       "      <th>date_release</th>\n",
       "      <th>win</th>\n",
       "      <th>mac</th>\n",
       "      <th>linux</th>\n",
       "      <th>rating</th>\n",
       "      <th>positive_ratio</th>\n",
       "      <th>user_reviews</th>\n",
       "      <th>price_final</th>\n",
       "      <th>price_original</th>\n",
       "      <th>discount</th>\n",
       "      <th>steam_deck</th>\n",
       "    </tr>\n",
       "  </thead>\n",
       "  <tbody>\n",
       "    <tr>\n",
       "      <th>0</th>\n",
       "      <td>10090</td>\n",
       "      <td>Call of Duty: World at War</td>\n",
       "      <td>2008-11-18</td>\n",
       "      <td>True</td>\n",
       "      <td>False</td>\n",
       "      <td>False</td>\n",
       "      <td>Very Positive</td>\n",
       "      <td>92</td>\n",
       "      <td>37039</td>\n",
       "      <td>19.99</td>\n",
       "      <td>19.99</td>\n",
       "      <td>0.0</td>\n",
       "      <td>True</td>\n",
       "    </tr>\n",
       "    <tr>\n",
       "      <th>1</th>\n",
       "      <td>13500</td>\n",
       "      <td>Prince of Persia: Warrior Within™</td>\n",
       "      <td>2008-11-21</td>\n",
       "      <td>True</td>\n",
       "      <td>False</td>\n",
       "      <td>False</td>\n",
       "      <td>Very Positive</td>\n",
       "      <td>84</td>\n",
       "      <td>2199</td>\n",
       "      <td>9.99</td>\n",
       "      <td>9.99</td>\n",
       "      <td>0.0</td>\n",
       "      <td>True</td>\n",
       "    </tr>\n",
       "  </tbody>\n",
       "</table>\n",
       "</div>"
      ],
      "text/plain": [
       "   app_id                              title date_release   win    mac  linux  \\\n",
       "0   10090         Call of Duty: World at War   2008-11-18  True  False  False   \n",
       "1   13500  Prince of Persia: Warrior Within™   2008-11-21  True  False  False   \n",
       "\n",
       "          rating  positive_ratio  user_reviews  price_final  price_original  \\\n",
       "0  Very Positive              92         37039        19.99           19.99   \n",
       "1  Very Positive              84          2199         9.99            9.99   \n",
       "\n",
       "   discount  steam_deck  \n",
       "0       0.0        True  \n",
       "1       0.0        True  "
      ]
     },
     "execution_count": 25,
     "metadata": {},
     "output_type": "execute_result"
    }
   ],
   "source": [
    "df_games_data = pd.read_csv(\"data/games.csv\")\n",
    "df_games_data.head(2)"
   ]
  },
  {
   "cell_type": "markdown",
   "id": "7c1cc07c-e858-4b7a-97d8-59dcea1af68f",
   "metadata": {},
   "source": [
    "----\n",
    "The **CSV file [users.csv](data/users.csv)** presents data concerning individual users found in the datasets:\n",
    "\n",
    "| Column | Description | Example|\n",
    "| --- | --- | --- |\n",
    "| **user_id** | User ID on Steam | 5693478 |\n",
    "| **products** | Number of Products from Steam Library Owned | 156 |\n",
    "|  **reviews** | Number of Reviews Published | 1 |"
   ]
  },
  {
   "cell_type": "code",
   "execution_count": 26,
   "id": "9fb065ea-808b-4a4c-acb0-962032648917",
   "metadata": {},
   "outputs": [
    {
     "data": {
      "text/html": [
       "<div>\n",
       "<style scoped>\n",
       "    .dataframe tbody tr th:only-of-type {\n",
       "        vertical-align: middle;\n",
       "    }\n",
       "\n",
       "    .dataframe tbody tr th {\n",
       "        vertical-align: top;\n",
       "    }\n",
       "\n",
       "    .dataframe thead th {\n",
       "        text-align: right;\n",
       "    }\n",
       "</style>\n",
       "<table border=\"1\" class=\"dataframe\">\n",
       "  <thead>\n",
       "    <tr style=\"text-align: right;\">\n",
       "      <th></th>\n",
       "      <th>user_id</th>\n",
       "      <th>products</th>\n",
       "      <th>reviews</th>\n",
       "    </tr>\n",
       "  </thead>\n",
       "  <tbody>\n",
       "    <tr>\n",
       "      <th>0</th>\n",
       "      <td>5693478</td>\n",
       "      <td>156</td>\n",
       "      <td>1</td>\n",
       "    </tr>\n",
       "    <tr>\n",
       "      <th>1</th>\n",
       "      <td>3595958</td>\n",
       "      <td>329</td>\n",
       "      <td>3</td>\n",
       "    </tr>\n",
       "  </tbody>\n",
       "</table>\n",
       "</div>"
      ],
      "text/plain": [
       "   user_id  products  reviews\n",
       "0  5693478       156        1\n",
       "1  3595958       329        3"
      ]
     },
     "execution_count": 26,
     "metadata": {},
     "output_type": "execute_result"
    }
   ],
   "source": [
    "df_users = pd.read_csv(\"data/users.csv\")\n",
    "df_users.head(2)"
   ]
  },
  {
   "cell_type": "markdown",
   "id": "3aae2244-d400-442b-958d-dc6cb3400c89",
   "metadata": {},
   "source": [
    "----\n",
    "The **CSV file [recommendations.csv](data/recommendations.csv)** has a many-to-many relationship to both users.csv and games.csv and contains data concerning user reviews of specific games:\n",
    "\n",
    "| Column | Description | Example|\n",
    "| --- | --- | --- |\n",
    "| **app_id** | Product ID on Steam | 620 |\n",
    "| **helpful** | Number of Users Who Found Review Helpful | 0 |\n",
    "|  **funny** | Number of Users Who Found Review Funny | 0 |\n",
    "| **date** | Date in Which Review was Published (y-m-d) | 2022-12-12 |\n",
    "| **is_recommended** | Does the User Recommend the Title | True | \n",
    "| **hours** | Hours Spent by User Playing Game  | 36.3 |\n",
    "| **user_id** | User ID of Review Author | 19954 |\n",
    "| **review_id** | ID of Individual Review  | 0 |"
   ]
  },
  {
   "cell_type": "code",
   "execution_count": 27,
   "id": "8f9bad72-5d5f-498a-80d4-6a5b64f20cc8",
   "metadata": {},
   "outputs": [
    {
     "data": {
      "text/html": [
       "<div>\n",
       "<style scoped>\n",
       "    .dataframe tbody tr th:only-of-type {\n",
       "        vertical-align: middle;\n",
       "    }\n",
       "\n",
       "    .dataframe tbody tr th {\n",
       "        vertical-align: top;\n",
       "    }\n",
       "\n",
       "    .dataframe thead th {\n",
       "        text-align: right;\n",
       "    }\n",
       "</style>\n",
       "<table border=\"1\" class=\"dataframe\">\n",
       "  <thead>\n",
       "    <tr style=\"text-align: right;\">\n",
       "      <th></th>\n",
       "      <th>app_id</th>\n",
       "      <th>helpful</th>\n",
       "      <th>funny</th>\n",
       "      <th>date</th>\n",
       "      <th>is_recommended</th>\n",
       "      <th>hours</th>\n",
       "      <th>user_id</th>\n",
       "      <th>review_id</th>\n",
       "    </tr>\n",
       "  </thead>\n",
       "  <tbody>\n",
       "    <tr>\n",
       "      <th>0</th>\n",
       "      <td>975370</td>\n",
       "      <td>0</td>\n",
       "      <td>0</td>\n",
       "      <td>2022-12-12</td>\n",
       "      <td>True</td>\n",
       "      <td>36.3</td>\n",
       "      <td>19954</td>\n",
       "      <td>0</td>\n",
       "    </tr>\n",
       "    <tr>\n",
       "      <th>1</th>\n",
       "      <td>304390</td>\n",
       "      <td>4</td>\n",
       "      <td>0</td>\n",
       "      <td>2017-02-17</td>\n",
       "      <td>False</td>\n",
       "      <td>11.5</td>\n",
       "      <td>1098</td>\n",
       "      <td>1</td>\n",
       "    </tr>\n",
       "  </tbody>\n",
       "</table>\n",
       "</div>"
      ],
      "text/plain": [
       "   app_id  helpful  funny        date  is_recommended  hours  user_id  \\\n",
       "0  975370        0      0  2022-12-12            True   36.3    19954   \n",
       "1  304390        4      0  2017-02-17           False   11.5     1098   \n",
       "\n",
       "   review_id  \n",
       "0          0  \n",
       "1          1  "
      ]
     },
     "execution_count": 27,
     "metadata": {},
     "output_type": "execute_result"
    }
   ],
   "source": [
    "df_recommendations = pd.read_csv(\"data/recommendations.csv\")\n",
    "df_recommendations.head(2)"
   ]
  },
  {
   "cell_type": "markdown",
   "id": "3eabca0b-30fd-45a5-9ac2-2a07af7979cd",
   "metadata": {},
   "source": [
    "----\n",
    "Finally, the folder includes a **JSON file [games_metadata.json](data/games_metadata.json)** containing metadata on individual games:\n",
    "\n",
    "| Column | Description | Example|\n",
    "| --- | --- | --- |\n",
    "| **app_id** | Product ID on Steam | 304430 |\n",
    "| **description** | Game Description on Steam | \"Hunted and alone, a boy finds himself drawn into the center of a dark project. INSIDE is a dark, narrative-driven platformer combining intense action with challenging puzzles. It has been critically acclaimed for its moody art style, ambient soundtrack and unsettling atmosphere.\" |\n",
    "|  **tags** | Additional Tags on Steam Platform | [\"2.5D\", \"Story Rich\", \"Puzzle Platformer\" , \"Atmospheric\" , \"Adventure\" , \"Indie\" , \"Dark\" , \"Horror\" , \"Singleplayer\" , \"Action-Adventure\" , \"Puzzle\" , \"Multiple Endings\" , \"Exploration\" , \"2D Platformer\" , \"Platformer\" , \"Controller\" , \"Soundtrack\" , \"Ambient\" , \"Action\" , \"Narrative\"] |"
   ]
  },
  {
   "cell_type": "code",
   "execution_count": 28,
   "id": "e10381bb",
   "metadata": {
    "tags": []
   },
   "outputs": [
    {
     "data": {
      "text/html": [
       "<div>\n",
       "<style scoped>\n",
       "    .dataframe tbody tr th:only-of-type {\n",
       "        vertical-align: middle;\n",
       "    }\n",
       "\n",
       "    .dataframe tbody tr th {\n",
       "        vertical-align: top;\n",
       "    }\n",
       "\n",
       "    .dataframe thead th {\n",
       "        text-align: right;\n",
       "    }\n",
       "</style>\n",
       "<table border=\"1\" class=\"dataframe\">\n",
       "  <thead>\n",
       "    <tr style=\"text-align: right;\">\n",
       "      <th></th>\n",
       "      <th>app_id</th>\n",
       "      <th>description</th>\n",
       "      <th>tags</th>\n",
       "    </tr>\n",
       "  </thead>\n",
       "  <tbody>\n",
       "    <tr>\n",
       "      <th>0</th>\n",
       "      <td>10090</td>\n",
       "      <td>Call of Duty is back, redefining war like you'...</td>\n",
       "      <td>[Zombies, World War II, FPS, Multiplayer, Acti...</td>\n",
       "    </tr>\n",
       "    <tr>\n",
       "      <th>1</th>\n",
       "      <td>13500</td>\n",
       "      <td>Enter the dark underworld of Prince of Persia ...</td>\n",
       "      <td>[Action, Adventure, Parkour, Third Person, Gre...</td>\n",
       "    </tr>\n",
       "  </tbody>\n",
       "</table>\n",
       "</div>"
      ],
      "text/plain": [
       "   app_id                                        description  \\\n",
       "0   10090  Call of Duty is back, redefining war like you'...   \n",
       "1   13500  Enter the dark underworld of Prince of Persia ...   \n",
       "\n",
       "                                                tags  \n",
       "0  [Zombies, World War II, FPS, Multiplayer, Acti...  \n",
       "1  [Action, Adventure, Parkour, Third Person, Gre...  "
      ]
     },
     "execution_count": 28,
     "metadata": {},
     "output_type": "execute_result"
    }
   ],
   "source": [
    "df_games_meta_data = pd.read_json('data/games_metadata.json', lines=True)\n",
    "df_games_meta_data.head(2)"
   ]
  },
  {
   "cell_type": "markdown",
   "id": "42143f34-bd62-49e9-bb0a-488eaa653fa2",
   "metadata": {},
   "source": [
    "----\n",
    "Two additional data files are utilized from a separate [Kaggle page](https://www.kaggle.com/datasets/nikdavis/steam-store-games?select=steam.csv) to enrich the analysis. These are imported below.\n",
    "\n",
    "\n",
    "The **CSV file [steam.csv](data/steam.csv)** provides additional data on the games:\n",
    "\n",
    "| Column | Description | Example|\n",
    "| --- | --- | --- |\n",
    "| **appid** | Product ID on Steam| 10 |\n",
    "| **name** | Name of Game | Counter-Strike |\n",
    "|  **release_date** | Release Date of Title (y-m-d) | 2000-11-01 |\n",
    "|  **english** | Is the Game Available in English? | 1 |\n",
    "|  **developer** | Developer Company of Game | Valve |\n",
    "|  **publisher** | Publishing Company of Game | Valve |\n",
    "|  **platforms** | Semicolon-Delimited List of Systems that Can Run the Game | windows;mac;linux |\n",
    "|  **required_age** | Minimum Age Required to Play by PEGI UK (0 Means Unsupplied) | 0 |\n",
    "|  **categories** | Game Categorisation (Semicolon Delimited) | Multi-player;Online Multi-Player... |\n",
    "|  **genres** | Game's Genre (Semicolon Delimteted) | Action |\n",
    "|  **steamspy_tags** | Tags from [Steamspy API](https://steamspy.com/) (Semicolon Delimited) | Action;FPS;Multiplayer |\n",
    "|  **achievements** | Number of In-Game Achievements (If Any) | 0 |\n",
    "|  **positive_ratings** | Number of Positive Ratings | 124534 |\n",
    "|  **negative_ratings** | Number of Negative Ratings | 3339 |\n",
    "|  **average_playtime** | Average Playtime by User in Minutes| 17612 |\n",
    "|  **median_playtime** | Median Playtime by User in Minutes | 317 |\n",
    "|  **owners** | Number of Users that Own the Game (Bracket) | 10000000-20000000 |\n",
    "|  **price** | Price of Game | 7.19 |\n",
    "\n"
   ]
  },
  {
   "cell_type": "code",
   "execution_count": 29,
   "id": "8cc1f806-3299-4d7d-9d9a-38b7d96a09e3",
   "metadata": {},
   "outputs": [
    {
     "data": {
      "text/html": [
       "<div>\n",
       "<style scoped>\n",
       "    .dataframe tbody tr th:only-of-type {\n",
       "        vertical-align: middle;\n",
       "    }\n",
       "\n",
       "    .dataframe tbody tr th {\n",
       "        vertical-align: top;\n",
       "    }\n",
       "\n",
       "    .dataframe thead th {\n",
       "        text-align: right;\n",
       "    }\n",
       "</style>\n",
       "<table border=\"1\" class=\"dataframe\">\n",
       "  <thead>\n",
       "    <tr style=\"text-align: right;\">\n",
       "      <th></th>\n",
       "      <th>appid</th>\n",
       "      <th>name</th>\n",
       "      <th>release_date</th>\n",
       "      <th>english</th>\n",
       "      <th>developer</th>\n",
       "      <th>publisher</th>\n",
       "      <th>platforms</th>\n",
       "      <th>required_age</th>\n",
       "      <th>categories</th>\n",
       "      <th>genres</th>\n",
       "      <th>steamspy_tags</th>\n",
       "      <th>achievements</th>\n",
       "      <th>positive_ratings</th>\n",
       "      <th>negative_ratings</th>\n",
       "      <th>average_playtime</th>\n",
       "      <th>median_playtime</th>\n",
       "      <th>owners</th>\n",
       "      <th>price</th>\n",
       "    </tr>\n",
       "  </thead>\n",
       "  <tbody>\n",
       "    <tr>\n",
       "      <th>0</th>\n",
       "      <td>10</td>\n",
       "      <td>Counter-Strike</td>\n",
       "      <td>2000-11-01</td>\n",
       "      <td>1</td>\n",
       "      <td>Valve</td>\n",
       "      <td>Valve</td>\n",
       "      <td>windows;mac;linux</td>\n",
       "      <td>0</td>\n",
       "      <td>Multi-player;Online Multi-Player;Local Multi-P...</td>\n",
       "      <td>Action</td>\n",
       "      <td>Action;FPS;Multiplayer</td>\n",
       "      <td>0</td>\n",
       "      <td>124534</td>\n",
       "      <td>3339</td>\n",
       "      <td>17612</td>\n",
       "      <td>317</td>\n",
       "      <td>10000000-20000000</td>\n",
       "      <td>7.19</td>\n",
       "    </tr>\n",
       "    <tr>\n",
       "      <th>1</th>\n",
       "      <td>20</td>\n",
       "      <td>Team Fortress Classic</td>\n",
       "      <td>1999-04-01</td>\n",
       "      <td>1</td>\n",
       "      <td>Valve</td>\n",
       "      <td>Valve</td>\n",
       "      <td>windows;mac;linux</td>\n",
       "      <td>0</td>\n",
       "      <td>Multi-player;Online Multi-Player;Local Multi-P...</td>\n",
       "      <td>Action</td>\n",
       "      <td>Action;FPS;Multiplayer</td>\n",
       "      <td>0</td>\n",
       "      <td>3318</td>\n",
       "      <td>633</td>\n",
       "      <td>277</td>\n",
       "      <td>62</td>\n",
       "      <td>5000000-10000000</td>\n",
       "      <td>3.99</td>\n",
       "    </tr>\n",
       "  </tbody>\n",
       "</table>\n",
       "</div>"
      ],
      "text/plain": [
       "   appid                   name release_date  english developer publisher  \\\n",
       "0     10         Counter-Strike   2000-11-01        1     Valve     Valve   \n",
       "1     20  Team Fortress Classic   1999-04-01        1     Valve     Valve   \n",
       "\n",
       "           platforms  required_age  \\\n",
       "0  windows;mac;linux             0   \n",
       "1  windows;mac;linux             0   \n",
       "\n",
       "                                          categories  genres  \\\n",
       "0  Multi-player;Online Multi-Player;Local Multi-P...  Action   \n",
       "1  Multi-player;Online Multi-Player;Local Multi-P...  Action   \n",
       "\n",
       "            steamspy_tags  achievements  positive_ratings  negative_ratings  \\\n",
       "0  Action;FPS;Multiplayer             0            124534              3339   \n",
       "1  Action;FPS;Multiplayer             0              3318               633   \n",
       "\n",
       "   average_playtime  median_playtime             owners  price  \n",
       "0             17612              317  10000000-20000000   7.19  \n",
       "1               277               62   5000000-10000000   3.99  "
      ]
     },
     "execution_count": 29,
     "metadata": {},
     "output_type": "execute_result"
    }
   ],
   "source": [
    "df_games_additional = pd.read_csv(\"data/steam.csv\")\n",
    "df_games_additional.head(2)"
   ]
  },
  {
   "cell_type": "markdown",
   "id": "e223689f-0688-471c-8600-9e44df389c6d",
   "metadata": {},
   "source": [
    "## Preliminary Data Exploration"
   ]
  },
  {
   "cell_type": "markdown",
   "id": "6a1246c1-16a7-4b26-bdeb-34cd02ca13e7",
   "metadata": {},
   "source": [
    "**Rating Values:** We find that the _rating_ columns can take on any of the values below."
   ]
  },
  {
   "cell_type": "code",
   "execution_count": 8,
   "id": "fa1878f3-8fed-47dc-a09d-b08370842f59",
   "metadata": {},
   "outputs": [
    {
     "data": {
      "text/plain": [
       "array(['Very Positive', 'Positive', 'Mixed', 'Mostly Positive',\n",
       "       'Overwhelmingly Positive', 'Mostly Negative',\n",
       "       'Overwhelmingly Negative', 'Negative', 'Very Negative'],\n",
       "      dtype=object)"
      ]
     },
     "execution_count": 8,
     "metadata": {},
     "output_type": "execute_result"
    }
   ],
   "source": [
    "df_games_data[\"rating\"].unique()"
   ]
  },
  {
   "cell_type": "code",
   "execution_count": 9,
   "id": "9c7102df-294a-47cf-b157-1126286d6c45",
   "metadata": {},
   "outputs": [
    {
     "data": {
      "text/plain": [
       "array(['10000000-20000000', '5000000-10000000', '2000000-5000000',\n",
       "       '20000000-50000000', '100000000-200000000', '50000000-100000000',\n",
       "       '20000-50000', '500000-1000000', '100000-200000', '50000-100000',\n",
       "       '1000000-2000000', '200000-500000', '0-20000'], dtype=object)"
      ]
     },
     "execution_count": 9,
     "metadata": {},
     "output_type": "execute_result"
    }
   ],
   "source": [
    "df_games_additional[\"owners\"].unique()"
   ]
  },
  {
   "cell_type": "code",
   "execution_count": 10,
   "id": "b3547065-9cfa-43c7-a82d-3e14b5932195",
   "metadata": {},
   "outputs": [
    {
     "data": {
      "text/plain": [
       "Choice of Games               94\n",
       "KOEI TECMO GAMES CO., LTD.    72\n",
       "Ripknot Systems               62\n",
       "Laush Dmitriy Sergeevich      51\n",
       "Nikita \"Ghost_RUS\"            50\n",
       "                              ..\n",
       "CRAPPY ZOMBIE GAME STUDIO      1\n",
       "Ramon Mujica                   1\n",
       "Oomst Games                    1\n",
       "Joe Censored Games             1\n",
       "Adept Studios GD               1\n",
       "Name: developer, Length: 17113, dtype: int64"
      ]
     },
     "execution_count": 10,
     "metadata": {},
     "output_type": "execute_result"
    }
   ],
   "source": [
    "df_games_additional[\"developer\"].value_counts()"
   ]
  },
  {
   "cell_type": "markdown",
   "id": "746a74da-b868-4e0f-a0df-71b398091fd5",
   "metadata": {},
   "source": [
    "## Data Preparation"
   ]
  },
  {
   "cell_type": "markdown",
   "id": "59e0645e-00ba-45b4-9429-6c282bf0cf7f",
   "metadata": {
    "tags": []
   },
   "source": [
    "#### Games Data\n",
    "- Turning relevant columns to datetime objects\n",
    "- **AA IF ANYTHING ELSE PLEASE ADD**"
   ]
  },
  {
   "cell_type": "code",
   "execution_count": 11,
   "id": "cb67f7ea-bd82-4f19-9b02-6719dec83a56",
   "metadata": {},
   "outputs": [],
   "source": [
    "# Turn date_release column to Pandas DateTime\n",
    "df_games_data[\"date_release\"] = pd.to_datetime(df_games_data[\"date_release\"])"
   ]
  },
  {
   "cell_type": "markdown",
   "id": "cc6842bb-d646-4b01-beee-4276d5f680e8",
   "metadata": {},
   "source": [
    "#### Additional Game Data\n",
    "- Drop features that are redundant with df_games_data"
   ]
  },
  {
   "cell_type": "code",
   "execution_count": 12,
   "id": "7af1e3ff-f835-4170-ba58-d62cc293c4c9",
   "metadata": {},
   "outputs": [],
   "source": [
    "# Drop Redundant Columns\n",
    "df_games_additional.drop([\"name\",\"platforms\", \"release_date\", \"price\", \n",
    "                          \"positive_ratings\", \"negative_ratings\", \"categories\"], axis = 1, inplace = True)"
   ]
  },
  {
   "cell_type": "code",
   "execution_count": 13,
   "id": "018ecfb7-e923-4397-8369-d98200906074",
   "metadata": {},
   "outputs": [
    {
     "data": {
      "text/html": [
       "<div>\n",
       "<style scoped>\n",
       "    .dataframe tbody tr th:only-of-type {\n",
       "        vertical-align: middle;\n",
       "    }\n",
       "\n",
       "    .dataframe tbody tr th {\n",
       "        vertical-align: top;\n",
       "    }\n",
       "\n",
       "    .dataframe thead th {\n",
       "        text-align: right;\n",
       "    }\n",
       "</style>\n",
       "<table border=\"1\" class=\"dataframe\">\n",
       "  <thead>\n",
       "    <tr style=\"text-align: right;\">\n",
       "      <th></th>\n",
       "      <th>appid</th>\n",
       "      <th>english</th>\n",
       "      <th>developer</th>\n",
       "      <th>publisher</th>\n",
       "      <th>required_age</th>\n",
       "      <th>genres</th>\n",
       "      <th>steamspy_tags</th>\n",
       "      <th>achievements</th>\n",
       "      <th>average_playtime</th>\n",
       "      <th>median_playtime</th>\n",
       "      <th>owners</th>\n",
       "    </tr>\n",
       "  </thead>\n",
       "  <tbody>\n",
       "    <tr>\n",
       "      <th>0</th>\n",
       "      <td>10</td>\n",
       "      <td>1</td>\n",
       "      <td>Valve</td>\n",
       "      <td>Valve</td>\n",
       "      <td>0</td>\n",
       "      <td>Action</td>\n",
       "      <td>Action;FPS;Multiplayer</td>\n",
       "      <td>0</td>\n",
       "      <td>17612</td>\n",
       "      <td>317</td>\n",
       "      <td>10000000-20000000</td>\n",
       "    </tr>\n",
       "  </tbody>\n",
       "</table>\n",
       "</div>"
      ],
      "text/plain": [
       "   appid  english developer publisher  required_age  genres  \\\n",
       "0     10        1     Valve     Valve             0  Action   \n",
       "\n",
       "            steamspy_tags  achievements  average_playtime  median_playtime  \\\n",
       "0  Action;FPS;Multiplayer             0             17612              317   \n",
       "\n",
       "              owners  \n",
       "0  10000000-20000000  "
      ]
     },
     "execution_count": 13,
     "metadata": {},
     "output_type": "execute_result"
    }
   ],
   "source": [
    "df_games_additional.head(1)"
   ]
  },
  {
   "cell_type": "markdown",
   "id": "96c4fdfc-b58b-41f3-9f72-5149633af2ec",
   "metadata": {},
   "source": [
    "#### Recommendations Data\n",
    "- Turn date features into datetime objects\n",
    "- Rename is_recommended to y, to signal it is the target variable"
   ]
  },
  {
   "cell_type": "code",
   "execution_count": 14,
   "id": "1b737fdd-c1e2-43ac-9be7-86adf2ad7896",
   "metadata": {},
   "outputs": [],
   "source": [
    "# Turn to DateTime\n",
    "df_recommendations[\"date\"] = pd.to_datetime(df_recommendations[\"date\"])\n",
    "\n",
    "# Rename column\n",
    "df_recommendations.rename(columns = {\"is_recommended\": \"y\"}, inplace = True)"
   ]
  },
  {
   "cell_type": "markdown",
   "id": "ad43c63c-d3c2-4705-a0e0-09673b56d54a",
   "metadata": {},
   "source": [
    "#### Games Metadata"
   ]
  },
  {
   "cell_type": "code",
   "execution_count": 15,
   "id": "97f35611-d470-4679-b21a-82d6715e6080",
   "metadata": {},
   "outputs": [],
   "source": [
    "# Turn the Tags Column Into a List\n",
    "df_games_meta_data[\"tags\"] = df_games_meta_data[\"tags\"].astype(str).apply(ast.literal_eval)"
   ]
  },
  {
   "cell_type": "markdown",
   "id": "d5fee129-c1e7-43d2-b379-3eda177cc02e",
   "metadata": {},
   "source": [
    "## Merging Datasets\n",
    "\n",
    "We merge the data into one single final DataFrame."
   ]
  },
  {
   "cell_type": "code",
   "execution_count": 16,
   "id": "0eb0104e",
   "metadata": {},
   "outputs": [],
   "source": [
    "# Merge all information on games to one DataFrame\n",
    "games_df = df_games_data.merge(df_games_meta_data, how = \"inner\")\n",
    "games_df = games_df.merge(df_games_additional, how = \"inner\",\n",
    "                          left_on = \"app_id\", right_on = \"appid\")\n",
    "\n",
    "# Merge game information into the recommendations DataFrame\n",
    "recs_df = df_recommendations.merge(games_df, how = \"inner\", on = \"app_id\")\n",
    "\n",
    "# Merge all information on users into a final DataFrame\n",
    "final_df = recs_df.merge(df_users, how=\"inner\", on = \"user_id\")"
   ]
  },
  {
   "cell_type": "code",
   "execution_count": 17,
   "id": "7f842fd7-2f6e-4d10-b927-242d0b18afe3",
   "metadata": {},
   "outputs": [],
   "source": [
    "final_df.describe()\n",
    "\n",
    "# Save df to file\n",
    "final_df.to_csv('data/final_df.csv', index = False)"
   ]
  },
  {
   "cell_type": "markdown",
   "id": "b59b8ea1-0196-4407-95be-42bb38f3f933",
   "metadata": {},
   "source": [
    "The data has now been stored in the file [final_df.csv](data/final_df.csv), stored in the _data_ folder. It is not necessary to run this Notebook again for later uses of the dataset."
   ]
  }
 ],
 "metadata": {
  "kernelspec": {
   "display_name": "Python 3 (ipykernel)",
   "language": "python",
   "name": "python3"
  },
  "language_info": {
   "codemirror_mode": {
    "name": "ipython",
    "version": 3
   },
   "file_extension": ".py",
   "mimetype": "text/x-python",
   "name": "python",
   "nbconvert_exporter": "python",
   "pygments_lexer": "ipython3",
   "version": "3.10.9"
  }
 },
 "nbformat": 4,
 "nbformat_minor": 5
}
