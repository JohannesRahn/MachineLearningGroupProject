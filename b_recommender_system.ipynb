{
 "cells": [
  {
   "cell_type": "markdown",
   "id": "6d40e438-fdb6-47d6-9af7-3fdaaa1d064b",
   "metadata": {
    "tags": []
   },
   "source": [
    "# **Machine Learning Group Project:** Recommender System Preparation\n",
    "\n",
    "The purpose of this notebook is to extract content-based similarities across different products on the basis of the plethora of of textual data contained in descriptive columns such as _tags_, _genres_, _description_, or _steamspy_tags_. These findings can later be utilized when building other models."
   ]
  },
  {
   "cell_type": "code",
   "execution_count": 52,
   "id": "1b0d1d15-a35b-4cfd-b9d0-f8daa3f2a8a4",
   "metadata": {},
   "outputs": [],
   "source": [
    "# General\n",
    "import requests\n",
    "import string\n",
    "import numpy as np\n",
    "import pandas as pd\n",
    "from scipy.sparse import csr_matrix\n",
    "\n",
    "# Visualization\n",
    "import seaborn as sns\n",
    "from kneed import KneeLocator\n",
    "import matplotlib.pyplot as plt\n",
    "\n",
    "# Sklearn\n",
    "from sklearn.decomposition import TruncatedSVD\n",
    "from sklearn.feature_extraction.text import TfidfVectorizer\n",
    "from sklearn.metrics.pairwise import cosine_similarity\n",
    "\n",
    "# Parallelization\n",
    "from joblib import Parallel, delayed"
   ]
  },
  {
   "cell_type": "markdown",
   "id": "ad1ba9a0-78fb-4de9-b198-6c4562745ea2",
   "metadata": {},
   "source": [
    "## Content-Based Similarity"
   ]
  },
  {
   "cell_type": "markdown",
   "id": "da06cb07-bb8c-4ab2-9347-089b2cc39eef",
   "metadata": {
    "tags": []
   },
   "source": [
    "### Text Data DataFrame\n",
    "\n",
    "First we create a DataFrame that contains all instances of descriptive textual data for the products. There is a single entry for each game. We run an inner merge because this is the same kind of merge done between these datasets for the final_df in [a_csv_creation.ipynb](a_csv_creation.ipynb). Consequently, this ensures the data we are working with is compatible with other work later on."
   ]
  },
  {
   "cell_type": "code",
   "execution_count": 53,
   "id": "2ce78a8c-edf1-47f8-b429-f3f2d1405aaa",
   "metadata": {},
   "outputs": [],
   "source": [
    "# Import the final DataFrame\n",
    "textual_df = pd.read_csv(\"data/final_df.csv\", \n",
    "                       usecols = [\"app_id\", \"title\",\n",
    "                                  \"categories\", \"genres\",\n",
    "                                  \"steamspy_tags\", \"description\",\n",
    "                                  \"tags\"])"
   ]
  },
  {
   "cell_type": "code",
   "execution_count": 57,
   "id": "b05774c4-2b28-49e6-83ff-39662ce03e36",
   "metadata": {},
   "outputs": [
    {
     "data": {
      "text/html": [
       "<div>\n",
       "<style scoped>\n",
       "    .dataframe tbody tr th:only-of-type {\n",
       "        vertical-align: middle;\n",
       "    }\n",
       "\n",
       "    .dataframe tbody tr th {\n",
       "        vertical-align: top;\n",
       "    }\n",
       "\n",
       "    .dataframe thead th {\n",
       "        text-align: right;\n",
       "    }\n",
       "</style>\n",
       "<table border=\"1\" class=\"dataframe\">\n",
       "  <thead>\n",
       "    <tr style=\"text-align: right;\">\n",
       "      <th></th>\n",
       "      <th>app_id</th>\n",
       "      <th>title</th>\n",
       "      <th>description</th>\n",
       "      <th>tags</th>\n",
       "      <th>genres</th>\n",
       "      <th>steamspy_tags</th>\n",
       "      <th>categories</th>\n",
       "    </tr>\n",
       "  </thead>\n",
       "  <tbody>\n",
       "    <tr>\n",
       "      <th>0</th>\n",
       "      <td>304390</td>\n",
       "      <td>FOR HONOR™</td>\n",
       "      <td>Carve a path of destruction through an intense...</td>\n",
       "      <td>['Medieval', 'Swordplay', 'Action', 'Multiplay...</td>\n",
       "      <td>Action</td>\n",
       "      <td>Medieval;Action;Swordplay</td>\n",
       "      <td>Single-player;Online Multi-Player;Online Co-op...</td>\n",
       "    </tr>\n",
       "    <tr>\n",
       "      <th>1</th>\n",
       "      <td>306130</td>\n",
       "      <td>The Elder Scrolls® Online</td>\n",
       "      <td>Join over 20 million players in the award-winn...</td>\n",
       "      <td>['RPG', 'MMORPG', 'Open World', 'Adventure', '...</td>\n",
       "      <td>Massively Multiplayer;RPG</td>\n",
       "      <td>RPG;Open World;MMORPG</td>\n",
       "      <td>MMO;Steam Trading Cards;Partial Controller Sup...</td>\n",
       "    </tr>\n",
       "    <tr>\n",
       "      <th>2</th>\n",
       "      <td>238960</td>\n",
       "      <td>Path of Exile</td>\n",
       "      <td>You are an Exile, struggling to survive on the...</td>\n",
       "      <td>['Free to Play', 'Action RPG', 'Hack and Slash...</td>\n",
       "      <td>Action;Adventure;Free to Play;Indie;Massively ...</td>\n",
       "      <td>Free to Play;Action RPG;Hack and Slash</td>\n",
       "      <td>Single-player;Multi-player;Online Multi-Player...</td>\n",
       "    </tr>\n",
       "  </tbody>\n",
       "</table>\n",
       "</div>"
      ],
      "text/plain": [
       "   app_id                      title   \n",
       "0  304390                 FOR HONOR™  \\\n",
       "1  306130  The Elder Scrolls® Online   \n",
       "2  238960              Path of Exile   \n",
       "\n",
       "                                         description   \n",
       "0  Carve a path of destruction through an intense...  \\\n",
       "1  Join over 20 million players in the award-winn...   \n",
       "2  You are an Exile, struggling to survive on the...   \n",
       "\n",
       "                                                tags   \n",
       "0  ['Medieval', 'Swordplay', 'Action', 'Multiplay...  \\\n",
       "1  ['RPG', 'MMORPG', 'Open World', 'Adventure', '...   \n",
       "2  ['Free to Play', 'Action RPG', 'Hack and Slash...   \n",
       "\n",
       "                                              genres   \n",
       "0                                             Action  \\\n",
       "1                          Massively Multiplayer;RPG   \n",
       "2  Action;Adventure;Free to Play;Indie;Massively ...   \n",
       "\n",
       "                            steamspy_tags   \n",
       "0               Medieval;Action;Swordplay  \\\n",
       "1                   RPG;Open World;MMORPG   \n",
       "2  Free to Play;Action RPG;Hack and Slash   \n",
       "\n",
       "                                          categories  \n",
       "0  Single-player;Online Multi-Player;Online Co-op...  \n",
       "1  MMO;Steam Trading Cards;Partial Controller Sup...  \n",
       "2  Single-player;Multi-player;Online Multi-Player...  "
      ]
     },
     "execution_count": 57,
     "metadata": {},
     "output_type": "execute_result"
    }
   ],
   "source": [
    "textual_df.drop_duplicates(subset=['title'], inplace=True)\n",
    "textual_df.reset_index(drop = True, inplace = True)\n",
    "\n",
    "textual_df.head(3)"
   ]
  },
  {
   "cell_type": "markdown",
   "id": "ff163b68-7ce7-46d9-aaf6-8e6c69e387ec",
   "metadata": {},
   "source": [
    "### Data Preparation"
   ]
  },
  {
   "cell_type": "markdown",
   "id": "81f7a9bf-bac4-4925-be54-bc0c17fcc6fd",
   "metadata": {},
   "source": [
    "#### Text Homogenization\n",
    "\n",
    "The first step undertaken is homgenizing the text across the different columns. We do the following:\n",
    "- Make all words fully lowercase\n",
    "- Transform the _tags_ column from a list to a string\n",
    "- Remove separators in the strings of columns such as _categories_, _steamspy_tags_, etc.\n",
    "- Remove any other punctuation\n",
    "- Homogenize words with spelling discrepancies (e.g. multiplayer & multi-player)\n",
    "\n",
    "Note that we do not remove duplicates (e.g. a game being described as \"Action\" under _genres_ and _steamspy_tags_) because we believe if a word is utilized by more than one source, it should have a stronger weight when vectorizing. "
   ]
  },
  {
   "cell_type": "code",
   "execution_count": 58,
   "id": "cdafb4f9-afcd-4b26-9731-7bfeeb6af6d0",
   "metadata": {},
   "outputs": [],
   "source": [
    "# Turn to String\n",
    "textual_df[\"tags\"] = textual_df[\"tags\"].astype(str)\n",
    "\n",
    "# Remove all punctuation and make everything lowercase\n",
    "textual_df[\"tags\"] = textual_df[\"tags\"].str.translate(str.maketrans('', '', string.punctuation)).str.lower()"
   ]
  },
  {
   "cell_type": "code",
   "execution_count": 59,
   "id": "928805b4-a040-4c2c-953a-c3116d8701d7",
   "metadata": {},
   "outputs": [],
   "source": [
    "# Use vectorized operations to remove separators from list columns and turn all to lowercase\n",
    "for col in [\"categories\", \"genres\", \"steamspy_tags\", \"tags\"]:\n",
    "    textual_df[col] = textual_df[col].str.replace(';', ' ').str.lower()\n",
    "\n",
    "    textual_df[col] = textual_df[col].str.replace(\"multi-player\", \"multiplayer\")\\\n",
    "        .str.replace(\"free to play\", \"free-to-play\").str.replace(\"singleplayer\", \"single-player\")\\\n",
    "        .str.replace(\"post-apocalyptic\", \"postapocalyptic\").str.replace(\"scifi\", \"sci-fi\")\\\n",
    "        .str.replace(\"anti cheat\", \"anti-cheat\").str.replace(\"early access\", \"early-access\")\\\n",
    "        .str.replace(\"shared/split screen\", \"shared/split-screen\").str.replace(\" &\", \"\")\\\n",
    "        .str.replace(\"sexual content\", \"sexual\").str.replace(\" (require\", \"\").str.replace(\" hl2)\", \"\")\\\n",
    "        .str.replace(\"massively multiplayer\", \"massive-multiplayer\")\\\n",
    "        .str.replace(\"in-app purchases\", \"in-app-purcases\").str.replace(\"perma death\", \"permadeath\")\\\n",
    "        .str.replace(\"third person\", \"third-person\").str.replace(\"multiple endings\",\"multi-ending\")\\\n",
    "        .str.replace(\"1990's\", \"1990s\").str.replace(\"25d\", \"2.5d\").str.replace(\"shoot 'em\", \"shoot'em\")"
   ]
  },
  {
   "cell_type": "code",
   "execution_count": 10,
   "id": "9efc45ec-1f5f-4219-8a0f-4606c4f01466",
   "metadata": {},
   "outputs": [],
   "source": [
    "# Define punctuation and numbers\n",
    "punc = '''!()[]{};:'\"\\,<>./?@#$%^&*_~'''\n",
    "num = '0123456789'\n",
    "\n",
    "# Remove punctuation, numbers, and turn description to lowercase \n",
    "textual_df[\"description\"] = textual_df[\"description\"].str.replace(f'[{punc+num}]', '', regex=True)\\\n",
    "    .str.lower().str.replace(\"multi-player\", \"multiplayer\")"
   ]
  },
  {
   "cell_type": "markdown",
   "id": "fb145e73-6af4-43ba-b6d3-2ad0e5c97fbb",
   "metadata": {},
   "source": [
    "#### Stopword Removal\n",
    "\n",
    "Although columns like _categories_, _genres_, _steamspy_tags_, and _tags_ do not suffer from this issue, the _description_ column contains stopwords which could be detrimental to our analysis. The stopword list is obtained from a separate [GitHub project](https://gist.githubusercontent.com/rg089/35e00abf8941d72d419224cfd5b5925d/raw/12d899b70156fd0041fa9778d657330b024b959c/stopwords.txt)."
   ]
  },
  {
   "cell_type": "code",
   "execution_count": 11,
   "id": "8a21851d-75ed-4719-acde-b46d478a08d5",
   "metadata": {},
   "outputs": [],
   "source": [
    "# Obtain stopwords\n",
    "stopwords_list = requests.get(\"https://gist.githubusercontent.com/rg089/35e00abf8941d72d419224cfd5b5925d/raw/12d899b70156fd0041fa9778d657330b024b959c/stopwords.txt\").content\n",
    "stopwords = set(stopwords_list.decode().splitlines()) \n",
    "\n",
    "# Remove Stopwords\n",
    "textual_df['description'] = textual_df['description']\\\n",
    ".apply(lambda x: ' '.join([word for word in x.split() if word not in (stopwords)]))"
   ]
  },
  {
   "cell_type": "markdown",
   "id": "1f8e916c-4414-4539-9852-99ec7a6f00c9",
   "metadata": {},
   "source": [
    "#### Full Text Column Creation\n",
    "\n",
    "Finally, we create a new column which contains all the textual information we have on a game.   "
   ]
  },
  {
   "cell_type": "code",
   "execution_count": 12,
   "id": "0d1c7a6c-026c-4382-900a-11f3d576364c",
   "metadata": {},
   "outputs": [],
   "source": [
    "textual_df['full_text'] = textual_df['categories'] + ' ' + textual_df['genres'] + ' ' + textual_df['steamspy_tags'] + ' ' + textual_df['description'] + ' ' + textual_df['tags']"
   ]
  },
  {
   "cell_type": "markdown",
   "id": "e2621f0b-e320-4e6e-8bd8-53765ea0935c",
   "metadata": {},
   "source": [
    "### Text Data Exploration\n",
    "\n",
    "We dedicate a section to exploring text data and truly understanding the breadth of data and labels which are available on textual_df."
   ]
  },
  {
   "cell_type": "markdown",
   "id": "3673fc12-59ed-49cd-a556-12b0a568ccc6",
   "metadata": {},
   "source": [
    "**Number of Distinct Labels:** All four labelling columns feature different tag systems with wholly different labels (and variety thereof). Here we check how these vary in terms of numbers. While _categories_ and _genres_ have a relatively restrained count of unique labels (41 and 25 respectively), _tags_ and _steamspy_tags_ have much greater breadth (with 479 and 373 respectively). "
   ]
  },
  {
   "cell_type": "code",
   "execution_count": 13,
   "id": "3f790161-e4db-4203-8e3d-fd12eee6f8f6",
   "metadata": {},
   "outputs": [
    {
     "name": "stdout",
     "output_type": "stream",
     "text": [
      "The \u001b[1m'categories' column\u001b[0m features a total of \u001b[1m35 distinct labels\u001b[0m.\n",
      "The \u001b[1m'genres' column\u001b[0m features a total of \u001b[1m23 distinct labels\u001b[0m.\n",
      "The \u001b[1m'steamspy_tags' column\u001b[0m features a total of \u001b[1m169 distinct labels\u001b[0m.\n",
      "The \u001b[1m'tags' column\u001b[0m features a total of \u001b[1m375 distinct labels\u001b[0m.\n"
     ]
    }
   ],
   "source": [
    "for i in [\"categories\", \"genres\", \"steamspy_tags\", \"tags\"]:\n",
    "    split_count = len(textual_df[i].str.split(' ', expand=True).stack().unique())\n",
    "    print(f\"The \\033[1m'{i}' column\\033[0m features a total of \\033[1m{split_count} distinct labels\\033[0m.\")"
   ]
  },
  {
   "cell_type": "markdown",
   "id": "f33fa71a-b3c5-4e91-bf81-56c2c0c46b74",
   "metadata": {},
   "source": [
    "**Average Number of Labels per Game:** While there is a great difference in the number of unique labels, the average number of labels assigned to a single game is on average quite stable. In fact, _genres_, _steamspy_tags_, and _tags_ all approximately have the same number of labels per row (to two decimal figures). Despite having the second lowest number of different labels, _categories_ has the highest number of labels per row: 8.12."
   ]
  },
  {
   "cell_type": "code",
   "execution_count": 14,
   "id": "0a4833ab-cf05-420a-96c1-ccf8f3e468cc",
   "metadata": {},
   "outputs": [
    {
     "name": "stdout",
     "output_type": "stream",
     "text": [
      "The entries in the\u001b[1m 'categories' column\u001b[0m have an approximate average of\u001b[1m 7.74 labels per row\u001b[0m.\n",
      "The entries in the\u001b[1m 'genres' column\u001b[0m have an approximate average of\u001b[1m 7.9 labels per row\u001b[0m.\n",
      "The entries in the\u001b[1m 'steamspy_tags' column\u001b[0m have an approximate average of\u001b[1m 7.15 labels per row\u001b[0m.\n",
      "The entries in the\u001b[1m 'tags' column\u001b[0m have an approximate average of\u001b[1m 7.16 labels per row\u001b[0m.\n"
     ]
    }
   ],
   "source": [
    "for i in [\"categories\", \"genres\", \"steamspy_tags\", \"tags\"]:\n",
    "    \n",
    "    split = [len(j) for j in textual_df[i].str.split(' ', expand=True).stack()]\n",
    "    split_mean = sum(split) / len(split)\n",
    "    \n",
    "    print(\"The entries in the\\033[1m\", f\"'{i}'\", \"column\\033[0m have an approximate average of\\033[1m\", \n",
    "          round(split_mean,2), \"labels per row\\033[0m.\") "
   ]
  },
  {
   "cell_type": "markdown",
   "id": "63ab1950-4862-4835-8086-ce29d8a39db2",
   "metadata": {},
   "source": [
    "**Most Common Labels:** AAAAA WE INVESTIGATE"
   ]
  },
  {
   "cell_type": "code",
   "execution_count": 15,
   "id": "bec5911b-a011-4896-83de-2c03afe7175a",
   "metadata": {},
   "outputs": [
    {
     "name": "stdout",
     "output_type": "stream",
     "text": [
      "The most frequently recurring tags (along with their occurrence) in the 'categories' column: \n",
      "steam            660\n",
      "multiplayer      310\n",
      "single-player    266\n",
      "support          213\n",
      "achievements     212\n",
      "controller       206\n",
      "trading          186\n",
      "cards            186\n",
      "co-op            172\n",
      "online           163\n",
      "Name: count, dtype: int64\n",
      "\n",
      "The most frequently recurring tags (along with their occurrence) in the 'genres' column: \n",
      "action                 171\n",
      "indie                  110\n",
      "adventure               95\n",
      "simulation              89\n",
      "rpg                     75\n",
      "strategy                75\n",
      "early-access            52\n",
      "free-to-play            41\n",
      "massive-multiplayer     40\n",
      "casual                  27\n",
      "Name: count, dtype: int64\n",
      "\n",
      "The most frequently recurring tags (along with their occurrence) in the 'steamspy_tags' column: \n",
      "action          68\n",
      "world           55\n",
      "strategy        54\n",
      "early-access    52\n",
      "multiplayer     51\n",
      "rpg             50\n",
      "open            48\n",
      "survival        37\n",
      "free-to-play    36\n",
      "simulation      36\n",
      "Name: count, dtype: int64\n",
      "\n",
      "The most frequently recurring tags (along with their occurrence) in the 'tags' column: \n",
      "coop             277\n",
      "action           275\n",
      "single-player    257\n",
      "multiplayer      249\n",
      "adventure        182\n",
      "world            158\n",
      "strategy         156\n",
      "rpg              153\n",
      "open             151\n",
      "atmospheric      140\n",
      "Name: count, dtype: int64\n",
      "\n"
     ]
    }
   ],
   "source": [
    "for i in [\"categories\", \"genres\", \"steamspy_tags\", \"tags\"]:\n",
    "    \n",
    "    split_count = textual_df[i].str.split(' ', expand=True).stack().value_counts()\n",
    "    \n",
    "    print(\"The most frequently recurring tags (along with their occurrence) in the\", f\"'{i}'\",\n",
    "          \"column:\", f\"\\n{split_count.nlargest(10)}\\n\")"
   ]
  },
  {
   "cell_type": "markdown",
   "id": "339a4ba2-2db7-4321-90f2-6680ec2de41b",
   "metadata": {},
   "source": [
    "**Tag Intersection:** Finally, we check if there are certain tags which exist in multiple columns (e.g. \"action\" being an entry in the _genres_, but also in _tags_. We find that there are AAAAAAAAAA"
   ]
  },
  {
   "cell_type": "code",
   "execution_count": 16,
   "id": "275a3496-103b-4299-bc70-bb31eeecb4d6",
   "metadata": {},
   "outputs": [
    {
     "name": "stdout",
     "output_type": "stream",
     "text": [
      "The number of labels present in at least two columns is: 410\n",
      "The number of labels present in all four columns is: 0\n"
     ]
    }
   ],
   "source": [
    "# Get the unique values in each column\n",
    "categories = set(textual_df['categories'].str.split(' ').explode().str.strip())\n",
    "tags = set(textual_df['tags'].str.split(' ').explode().str.strip())\n",
    "steamspy_tags = set(textual_df['steamspy_tags'].str.split(' ').explode().str.strip())\n",
    "genre = set(textual_df['genres'].str.split(' ').explode().str.strip())\n",
    "\n",
    "# Find the intersection of the sets to get the values that exist in all four columns\n",
    "or_intersection = categories | tags | steamspy_tags | genre\n",
    "and_intersection = categories & tags & steamspy_tags & genre\n",
    "\n",
    "# Print the number of unique values that exist in all four columns\n",
    "print(\"The number of labels present in at least two columns is:\", len(or_intersection))\n",
    "print(\"The number of labels present in all four columns is:\", len(and_intersection))"
   ]
  },
  {
   "cell_type": "markdown",
   "id": "a2da676c-f2aa-4d77-8fcb-94e9e84580e9",
   "metadata": {},
   "source": [
    "#### Textual Data Vectorization\n",
    "\n",
    "First we create a vector containing information concerning the textual descriptions of the games. We display the first three rows of the resulting array in the form of a fully labelled DataFrame with indexation and column names."
   ]
  },
  {
   "cell_type": "code",
   "execution_count": 17,
   "id": "c1d0961b-a3fe-44ca-a5b3-140433590659",
   "metadata": {},
   "outputs": [
    {
     "data": {
      "text/html": [
       "<div>\n",
       "<style scoped>\n",
       "    .dataframe tbody tr th:only-of-type {\n",
       "        vertical-align: middle;\n",
       "    }\n",
       "\n",
       "    .dataframe tbody tr th {\n",
       "        vertical-align: top;\n",
       "    }\n",
       "\n",
       "    .dataframe thead th {\n",
       "        text-align: right;\n",
       "    }\n",
       "</style>\n",
       "<table border=\"1\" class=\"dataframe\">\n",
       "  <thead>\n",
       "    <tr style=\"text-align: right;\">\n",
       "      <th></th>\n",
       "      <th>single</th>\n",
       "      <th>player</th>\n",
       "      <th>online</th>\n",
       "      <th>multiplayer</th>\n",
       "      <th>op</th>\n",
       "      <th>steam</th>\n",
       "      <th>trading</th>\n",
       "      <th>cards</th>\n",
       "      <th>app</th>\n",
       "      <th>purcases</th>\n",
       "      <th>...</th>\n",
       "      <th>bloodfall</th>\n",
       "      <th>66</th>\n",
       "      <th>revamps</th>\n",
       "      <th>mishima</th>\n",
       "      <th>unreal</th>\n",
       "      <th>duels</th>\n",
       "      <th>aggression</th>\n",
       "      <th>flipping</th>\n",
       "      <th>mods</th>\n",
       "      <th>unlimited</th>\n",
       "    </tr>\n",
       "    <tr>\n",
       "      <th>title</th>\n",
       "      <th></th>\n",
       "      <th></th>\n",
       "      <th></th>\n",
       "      <th></th>\n",
       "      <th></th>\n",
       "      <th></th>\n",
       "      <th></th>\n",
       "      <th></th>\n",
       "      <th></th>\n",
       "      <th></th>\n",
       "      <th></th>\n",
       "      <th></th>\n",
       "      <th></th>\n",
       "      <th></th>\n",
       "      <th></th>\n",
       "      <th></th>\n",
       "      <th></th>\n",
       "      <th></th>\n",
       "      <th></th>\n",
       "      <th></th>\n",
       "      <th></th>\n",
       "    </tr>\n",
       "  </thead>\n",
       "  <tbody>\n",
       "    <tr>\n",
       "      <th>FOR HONOR™</th>\n",
       "      <td>0.0</td>\n",
       "      <td>0.0</td>\n",
       "      <td>0.0</td>\n",
       "      <td>0.0</td>\n",
       "      <td>0.0</td>\n",
       "      <td>0.0</td>\n",
       "      <td>0.0</td>\n",
       "      <td>0.0</td>\n",
       "      <td>0.0</td>\n",
       "      <td>0.0</td>\n",
       "      <td>...</td>\n",
       "      <td>0.0</td>\n",
       "      <td>0.0</td>\n",
       "      <td>0.0</td>\n",
       "      <td>0.0</td>\n",
       "      <td>0.0</td>\n",
       "      <td>0.000000</td>\n",
       "      <td>0.000000</td>\n",
       "      <td>0.000000</td>\n",
       "      <td>0.0</td>\n",
       "      <td>0.0</td>\n",
       "    </tr>\n",
       "    <tr>\n",
       "      <th>Project Zomboid</th>\n",
       "      <td>0.0</td>\n",
       "      <td>0.0</td>\n",
       "      <td>0.0</td>\n",
       "      <td>0.0</td>\n",
       "      <td>0.0</td>\n",
       "      <td>0.0</td>\n",
       "      <td>0.0</td>\n",
       "      <td>0.0</td>\n",
       "      <td>0.0</td>\n",
       "      <td>0.0</td>\n",
       "      <td>...</td>\n",
       "      <td>0.0</td>\n",
       "      <td>0.0</td>\n",
       "      <td>0.0</td>\n",
       "      <td>0.0</td>\n",
       "      <td>0.0</td>\n",
       "      <td>0.127842</td>\n",
       "      <td>0.184334</td>\n",
       "      <td>0.170141</td>\n",
       "      <td>0.0</td>\n",
       "      <td>0.0</td>\n",
       "    </tr>\n",
       "    <tr>\n",
       "      <th>Wallpaper Engine</th>\n",
       "      <td>0.0</td>\n",
       "      <td>0.0</td>\n",
       "      <td>0.0</td>\n",
       "      <td>0.0</td>\n",
       "      <td>0.0</td>\n",
       "      <td>0.0</td>\n",
       "      <td>0.0</td>\n",
       "      <td>0.0</td>\n",
       "      <td>0.0</td>\n",
       "      <td>0.0</td>\n",
       "      <td>...</td>\n",
       "      <td>0.0</td>\n",
       "      <td>0.0</td>\n",
       "      <td>0.0</td>\n",
       "      <td>0.0</td>\n",
       "      <td>0.0</td>\n",
       "      <td>0.000000</td>\n",
       "      <td>0.000000</td>\n",
       "      <td>0.000000</td>\n",
       "      <td>0.0</td>\n",
       "      <td>0.0</td>\n",
       "    </tr>\n",
       "  </tbody>\n",
       "</table>\n",
       "<p>3 rows × 2901 columns</p>\n",
       "</div>"
      ],
      "text/plain": [
       "                  single  player  online  multiplayer   op  steam  trading   \n",
       "title                                                                        \n",
       "FOR HONOR™           0.0     0.0     0.0          0.0  0.0    0.0      0.0  \\\n",
       "Project Zomboid      0.0     0.0     0.0          0.0  0.0    0.0      0.0   \n",
       "Wallpaper Engine     0.0     0.0     0.0          0.0  0.0    0.0      0.0   \n",
       "\n",
       "                  cards  app  purcases  ...  bloodfall   66  revamps  mishima   \n",
       "title                                   ...                                     \n",
       "FOR HONOR™          0.0  0.0       0.0  ...        0.0  0.0      0.0      0.0  \\\n",
       "Project Zomboid     0.0  0.0       0.0  ...        0.0  0.0      0.0      0.0   \n",
       "Wallpaper Engine    0.0  0.0       0.0  ...        0.0  0.0      0.0      0.0   \n",
       "\n",
       "                  unreal     duels  aggression  flipping  mods  unlimited  \n",
       "title                                                                      \n",
       "FOR HONOR™           0.0  0.000000    0.000000  0.000000   0.0        0.0  \n",
       "Project Zomboid      0.0  0.127842    0.184334  0.170141   0.0        0.0  \n",
       "Wallpaper Engine     0.0  0.000000    0.000000  0.000000   0.0        0.0  \n",
       "\n",
       "[3 rows x 2901 columns]"
      ]
     },
     "execution_count": 17,
     "metadata": {},
     "output_type": "execute_result"
    }
   ],
   "source": [
    "# Initialize TfidfVectorizer\n",
    "vectorizer = TfidfVectorizer(stop_words = \"english\",\n",
    "                            strip_accents = \"ascii\")\n",
    "\n",
    "# Fit and transform full text column\n",
    "fulltext_vector = vectorizer.fit_transform(textual_df['full_text'])\n",
    "fulltext_array = fulltext_vector.toarray()\n",
    "\n",
    "# Get the feature names\n",
    "feature_names = vectorizer.vocabulary_.keys()\n",
    "\n",
    "# Create DataFrame\n",
    "vector_df = pd.DataFrame(fulltext_array, columns = feature_names,\n",
    "                        index = textual_df[\"title\"])\n",
    "vector_df.head(3)"
   ]
  },
  {
   "cell_type": "markdown",
   "id": "7733d1b1-958a-4836-a5ab-409555c092c5",
   "metadata": {},
   "source": [
    "#### Optimal Component Selection: Scree Test\n",
    "\n",
    "The ultimate objective is to utilize Truncated Singular Value Decomposition to reduce the textual data's dimensionality and create a latent matrix. In order to do that, we conduct a Scree Test to determine the optimal number of components to be used. We decide that we want at least 90% of variance being explained by the decomposition. We find the minimum number of components necessary to achieve this and use the elbow method to identify the optimal number of components under the constraint that it explains at least 90% of data.\n",
    "\n",
    "In order to identify the knee point, we use the [_kneed_](https://pypi.org/project/kneed/) library, which is based on the [_kneedle algorithm_](https://raghavan.usc.edu//papers/kneedle-simplex11.pdf) developed by Ville Satopaa, Jeannie Albrecht, David Irwin, and Barath Raghavan. \n",
    "\n",
    "**Note:** Fitting the svd model requires a lot of time. It is advised to only run the block of code below only once. "
   ]
  },
  {
   "cell_type": "code",
   "execution_count": 19,
   "id": "e8592fed-f02d-431c-b847-f6f3a7a14b23",
   "metadata": {},
   "outputs": [],
   "source": [
    "# Create Instance of SVD with 300 Components\n",
    "svd = TruncatedSVD(n_components=300, random_state = 70)\n",
    "\n",
    "# Fit to the Matrix\n",
    "scree_matrix = svd.fit(vector_df)"
   ]
  },
  {
   "cell_type": "code",
   "execution_count": 20,
   "id": "6502c032-cde6-40b7-99a0-aae9ac3055bb",
   "metadata": {},
   "outputs": [
    {
     "name": "stdout",
     "output_type": "stream",
     "text": [
      "The number of features required to explain at least 90% of variance is 229\n"
     ]
    }
   ],
   "source": [
    "# Find Cumulative Explained Variance Percentage\n",
    "cum_variance = np.cumsum(scree_matrix.explained_variance_ratio_)\n",
    "\n",
    "# Identify First Instance of Expl. Variance Above 90%\n",
    "ninety_threshold = np.argmax(cum_variance >= 0.9) \n",
    "\n",
    "print(f\"The number of features required to explain at least 90% of variance is {ninety_threshold + 1}\")"
   ]
  },
  {
   "cell_type": "code",
   "execution_count": 21,
   "id": "f9407e6e-09db-4909-a090-f6f2fde2153d",
   "metadata": {},
   "outputs": [
    {
     "data": {
      "text/plain": [
       "[<matplotlib.lines.Line2D at 0x14aec09a0>]"
      ]
     },
     "execution_count": 21,
     "metadata": {},
     "output_type": "execute_result"
    },
    {
     "data": {
      "image/png": "[encoded data removed]",
      "text/plain": [
       "<Figure size 640x480 with 1 Axes>"
      ]
     },
     "metadata": {},
     "output_type": "display_data"
    }
   ],
   "source": [
    "# Obtain Explained Variance\n",
    "expl_variance = scree_matrix.explained_variance_\n",
    "\n",
    "# Find Elbow Point\n",
    "kneedle = KneeLocator(np.arange(ninety_threshold + 1, len(expl_variance)+ 1), \n",
    "                      expl_variance[ninety_threshold:], curve='convex', \n",
    "                      direction='decreasing')\n",
    "\n",
    "elbow_location = kneedle.elbow\n",
    "\n",
    "# Plot Elbow\n",
    "sns.set_theme()\n",
    "\n",
    "plt.plot(np.arange(1, len(expl_variance)+1),\n",
    "         expl_variance[0:],\n",
    "         label = \"Explained Variance\")\n",
    "\n",
    "# Add Title and Axis Labels\n",
    "plt.title(\"Scree Test for SVD Analysis\")\n",
    "plt.ylabel(\"Explained Variance\")\n",
    "plt.xlabel(\"Number of Components\")\n",
    "plt.legend()\n",
    "\n",
    "# Add Annotation and Point to Show Location of 90%\n",
    "plt.annotate(f\"90% of Variance Explained at {ninety_threshold + 1} Components\", \n",
    "             xy=(ninety_threshold + 1, expl_variance[ninety_threshold]),\n",
    "             xytext=(40, 0.010),\n",
    "             arrowprops=dict(arrowstyle=\"-\",\n",
    "                             color = \"blue\"), fontsize=10)\n",
    "\n",
    "plt.plot(ninety_threshold + 1, expl_variance[ninety_threshold], \"bo\",\n",
    "         label = \"Elbow Point\")\n",
    "\n",
    "# Add Annotation and Point to Show Location of Elbow\n",
    "plt.annotate(f\"Post-90% Elbow at {elbow_location} Components\", \n",
    "             xy=(elbow_location, expl_variance[elbow_location - 1]),\n",
    "             xytext=(200, 0.015),\n",
    "             arrowprops=dict(arrowstyle=\"-\",\n",
    "                             color = \"red\"), fontsize=10)\n",
    "\n",
    "plt.plot(elbow_location, expl_variance[elbow_location - 1], \"ro\",\n",
    "         label = \"Elbow Point\")"
   ]
  },
  {
   "cell_type": "markdown",
   "id": "ee1ef764-9978-4ffb-b3e7-cc2395685f75",
   "metadata": {},
   "source": [
    "#### Optimized SVD\n",
    "\n",
    "Plotting the explained variance against the number of SVD components, we find that 90% of variance is in fact explained far past the plot's actual elbow. Finding the \"post-90%\" elbow and identifying it on the plot shows that it is located on the tail of the plot. It also consists of only 4 components more than the 90% variance point. Consequently, we decide to stick to our minimum variance point of 156 components with at least 90% variance as opposed to the 160 of the post-90% elbow. We believe the returns to making the model more complex are not sufficient.\n",
    "\n",
    "We run the truncated SVD with 156 components."
   ]
  },
  {
   "cell_type": "code",
   "execution_count": 22,
   "id": "c291f49a-8e34-4b2a-a3be-f8eac0106375",
   "metadata": {},
   "outputs": [],
   "source": [
    "# Create Instance of SVD with 2515 Components\n",
    "svd_opt = TruncatedSVD(n_components=229, random_state = 70)\n",
    "\n",
    "# Fit to the Matrix\n",
    "lat_matrix = svd_opt.fit_transform(vector_df)"
   ]
  },
  {
   "cell_type": "code",
   "execution_count": 23,
   "id": "fee2e73d-5df9-4cc9-a470-a82ad61f20ae",
   "metadata": {},
   "outputs": [],
   "source": [
    "# Turn Into DataFrame\n",
    "lat_df = pd.DataFrame(lat_matrix)\n",
    "\n",
    "# Add Movie Labels\n",
    "titles_df = pd.concat([pd.Series(vector_df.index), lat_df], axis = 1)\n",
    "\n",
    "# Cosine Similarity\n",
    "cos_similarity = cosine_similarity(titles_df.iloc[:, 1:])\n",
    "\n",
    "content_similarity_df = pd.DataFrame(cos_similarity, index = titles_df[\"title\"], \n",
    "             columns = titles_df[\"title\"])"
   ]
  },
  {
   "cell_type": "code",
   "execution_count": 24,
   "id": "bf3eff59-5f8b-484f-89ba-64ab8908e615",
   "metadata": {},
   "outputs": [
    {
     "data": {
      "text/html": [
       "<div>\n",
       "<style scoped>\n",
       "    .dataframe tbody tr th:only-of-type {\n",
       "        vertical-align: middle;\n",
       "    }\n",
       "\n",
       "    .dataframe tbody tr th {\n",
       "        vertical-align: top;\n",
       "    }\n",
       "\n",
       "    .dataframe thead th {\n",
       "        text-align: right;\n",
       "    }\n",
       "</style>\n",
       "<table border=\"1\" class=\"dataframe\">\n",
       "  <thead>\n",
       "    <tr style=\"text-align: right;\">\n",
       "      <th>title</th>\n",
       "      <th>FOR HONOR™</th>\n",
       "      <th>Project Zomboid</th>\n",
       "      <th>Wallpaper Engine</th>\n",
       "      <th>Call of Duty®: Black Ops III</th>\n",
       "      <th>Killing Floor 2</th>\n",
       "      <th>Conqueror's Blade</th>\n",
       "      <th>Fable Anniversary</th>\n",
       "      <th>Mortal Kombat X</th>\n",
       "      <th>ULTIMATE MARVEL VS. CAPCOM 3</th>\n",
       "      <th>Space Engineers</th>\n",
       "      <th>...</th>\n",
       "      <th>The Jackbox Party Pack 5</th>\n",
       "      <th>Atelier Totori ~The Adventurer of Arland~ DX</th>\n",
       "      <th>Nelke &amp; the Legendary Alchemists ~Ateliers of the New World~</th>\n",
       "      <th>Atelier Meruru ~The Apprentice of Arland~ DX</th>\n",
       "      <th>Factorio</th>\n",
       "      <th>Middle-earth™: Shadow of War™</th>\n",
       "      <th>METAL GEAR SOLID V: THE PHANTOM PAIN</th>\n",
       "      <th>DOOM</th>\n",
       "      <th>TEKKEN 7</th>\n",
       "      <th>Tabletop Simulator</th>\n",
       "    </tr>\n",
       "    <tr>\n",
       "      <th>title</th>\n",
       "      <th></th>\n",
       "      <th></th>\n",
       "      <th></th>\n",
       "      <th></th>\n",
       "      <th></th>\n",
       "      <th></th>\n",
       "      <th></th>\n",
       "      <th></th>\n",
       "      <th></th>\n",
       "      <th></th>\n",
       "      <th></th>\n",
       "      <th></th>\n",
       "      <th></th>\n",
       "      <th></th>\n",
       "      <th></th>\n",
       "      <th></th>\n",
       "      <th></th>\n",
       "      <th></th>\n",
       "      <th></th>\n",
       "      <th></th>\n",
       "      <th></th>\n",
       "    </tr>\n",
       "  </thead>\n",
       "  <tbody>\n",
       "    <tr>\n",
       "      <th>FOR HONOR™</th>\n",
       "      <td>1.000000</td>\n",
       "      <td>0.088047</td>\n",
       "      <td>0.020098</td>\n",
       "      <td>0.113438</td>\n",
       "      <td>0.264100</td>\n",
       "      <td>0.346726</td>\n",
       "      <td>0.128146</td>\n",
       "      <td>0.258140</td>\n",
       "      <td>0.086836</td>\n",
       "      <td>0.113805</td>\n",
       "      <td>...</td>\n",
       "      <td>0.065502</td>\n",
       "      <td>0.048238</td>\n",
       "      <td>0.050030</td>\n",
       "      <td>0.035461</td>\n",
       "      <td>0.065717</td>\n",
       "      <td>0.251607</td>\n",
       "      <td>0.074670</td>\n",
       "      <td>0.123602</td>\n",
       "      <td>0.215390</td>\n",
       "      <td>0.132406</td>\n",
       "    </tr>\n",
       "    <tr>\n",
       "      <th>Project Zomboid</th>\n",
       "      <td>0.088047</td>\n",
       "      <td>1.000000</td>\n",
       "      <td>0.063974</td>\n",
       "      <td>0.179350</td>\n",
       "      <td>0.302672</td>\n",
       "      <td>0.083546</td>\n",
       "      <td>0.125844</td>\n",
       "      <td>0.058303</td>\n",
       "      <td>0.058032</td>\n",
       "      <td>0.262830</td>\n",
       "      <td>...</td>\n",
       "      <td>0.050819</td>\n",
       "      <td>0.071288</td>\n",
       "      <td>0.077439</td>\n",
       "      <td>0.071711</td>\n",
       "      <td>0.208825</td>\n",
       "      <td>0.098009</td>\n",
       "      <td>0.069844</td>\n",
       "      <td>0.074198</td>\n",
       "      <td>0.093617</td>\n",
       "      <td>0.166954</td>\n",
       "    </tr>\n",
       "    <tr>\n",
       "      <th>Wallpaper Engine</th>\n",
       "      <td>0.020098</td>\n",
       "      <td>0.063974</td>\n",
       "      <td>1.000000</td>\n",
       "      <td>0.058731</td>\n",
       "      <td>0.094024</td>\n",
       "      <td>0.017387</td>\n",
       "      <td>0.062970</td>\n",
       "      <td>0.058822</td>\n",
       "      <td>0.016435</td>\n",
       "      <td>0.061948</td>\n",
       "      <td>...</td>\n",
       "      <td>0.033323</td>\n",
       "      <td>0.035140</td>\n",
       "      <td>0.028000</td>\n",
       "      <td>0.034489</td>\n",
       "      <td>0.084120</td>\n",
       "      <td>0.031560</td>\n",
       "      <td>0.051011</td>\n",
       "      <td>0.058769</td>\n",
       "      <td>0.051887</td>\n",
       "      <td>0.089394</td>\n",
       "    </tr>\n",
       "    <tr>\n",
       "      <th>Call of Duty®: Black Ops III</th>\n",
       "      <td>0.113438</td>\n",
       "      <td>0.179350</td>\n",
       "      <td>0.058731</td>\n",
       "      <td>1.000000</td>\n",
       "      <td>0.455195</td>\n",
       "      <td>0.070240</td>\n",
       "      <td>0.078763</td>\n",
       "      <td>0.150262</td>\n",
       "      <td>0.076088</td>\n",
       "      <td>0.091639</td>\n",
       "      <td>...</td>\n",
       "      <td>0.064571</td>\n",
       "      <td>0.035053</td>\n",
       "      <td>0.028861</td>\n",
       "      <td>0.030783</td>\n",
       "      <td>0.102326</td>\n",
       "      <td>0.107903</td>\n",
       "      <td>0.141422</td>\n",
       "      <td>0.220433</td>\n",
       "      <td>0.129349</td>\n",
       "      <td>0.123840</td>\n",
       "    </tr>\n",
       "    <tr>\n",
       "      <th>Killing Floor 2</th>\n",
       "      <td>0.264100</td>\n",
       "      <td>0.302672</td>\n",
       "      <td>0.094024</td>\n",
       "      <td>0.455195</td>\n",
       "      <td>1.000000</td>\n",
       "      <td>0.129149</td>\n",
       "      <td>0.079335</td>\n",
       "      <td>0.297602</td>\n",
       "      <td>0.089677</td>\n",
       "      <td>0.211708</td>\n",
       "      <td>...</td>\n",
       "      <td>0.084377</td>\n",
       "      <td>0.033044</td>\n",
       "      <td>0.030961</td>\n",
       "      <td>0.033787</td>\n",
       "      <td>0.146114</td>\n",
       "      <td>0.133252</td>\n",
       "      <td>0.078825</td>\n",
       "      <td>0.380317</td>\n",
       "      <td>0.128693</td>\n",
       "      <td>0.245497</td>\n",
       "    </tr>\n",
       "  </tbody>\n",
       "</table>\n",
       "<p>5 rows × 311 columns</p>\n",
       "</div>"
      ],
      "text/plain": [
       "title                         FOR HONOR™  Project Zomboid  Wallpaper Engine   \n",
       "title                                                                         \n",
       "FOR HONOR™                      1.000000         0.088047          0.020098  \\\n",
       "Project Zomboid                 0.088047         1.000000          0.063974   \n",
       "Wallpaper Engine                0.020098         0.063974          1.000000   \n",
       "Call of Duty®: Black Ops III    0.113438         0.179350          0.058731   \n",
       "Killing Floor 2                 0.264100         0.302672          0.094024   \n",
       "\n",
       "title                         Call of Duty®: Black Ops III  Killing Floor 2   \n",
       "title                                                                         \n",
       "FOR HONOR™                                        0.113438         0.264100  \\\n",
       "Project Zomboid                                   0.179350         0.302672   \n",
       "Wallpaper Engine                                  0.058731         0.094024   \n",
       "Call of Duty®: Black Ops III                      1.000000         0.455195   \n",
       "Killing Floor 2                                   0.455195         1.000000   \n",
       "\n",
       "title                         Conqueror's Blade  Fable Anniversary   \n",
       "title                                                                \n",
       "FOR HONOR™                             0.346726           0.128146  \\\n",
       "Project Zomboid                        0.083546           0.125844   \n",
       "Wallpaper Engine                       0.017387           0.062970   \n",
       "Call of Duty®: Black Ops III           0.070240           0.078763   \n",
       "Killing Floor 2                        0.129149           0.079335   \n",
       "\n",
       "title                         Mortal Kombat X  ULTIMATE MARVEL VS. CAPCOM 3   \n",
       "title                                                                         \n",
       "FOR HONOR™                           0.258140                      0.086836  \\\n",
       "Project Zomboid                      0.058303                      0.058032   \n",
       "Wallpaper Engine                     0.058822                      0.016435   \n",
       "Call of Duty®: Black Ops III         0.150262                      0.076088   \n",
       "Killing Floor 2                      0.297602                      0.089677   \n",
       "\n",
       "title                         Space Engineers  ...  The Jackbox Party Pack 5   \n",
       "title                                          ...                             \n",
       "FOR HONOR™                           0.113805  ...                  0.065502  \\\n",
       "Project Zomboid                      0.262830  ...                  0.050819   \n",
       "Wallpaper Engine                     0.061948  ...                  0.033323   \n",
       "Call of Duty®: Black Ops III         0.091639  ...                  0.064571   \n",
       "Killing Floor 2                      0.211708  ...                  0.084377   \n",
       "\n",
       "title                         Atelier Totori ~The Adventurer of Arland~ DX   \n",
       "title                                                                        \n",
       "FOR HONOR™                                                        0.048238  \\\n",
       "Project Zomboid                                                   0.071288   \n",
       "Wallpaper Engine                                                  0.035140   \n",
       "Call of Duty®: Black Ops III                                      0.035053   \n",
       "Killing Floor 2                                                   0.033044   \n",
       "\n",
       "title                         Nelke & the Legendary Alchemists ~Ateliers of the New World~   \n",
       "title                                                                                        \n",
       "FOR HONOR™                                                             0.050030             \\\n",
       "Project Zomboid                                                        0.077439              \n",
       "Wallpaper Engine                                                       0.028000              \n",
       "Call of Duty®: Black Ops III                                           0.028861              \n",
       "Killing Floor 2                                                        0.030961              \n",
       "\n",
       "title                         Atelier Meruru ~The Apprentice of Arland~ DX   \n",
       "title                                                                        \n",
       "FOR HONOR™                                                        0.035461  \\\n",
       "Project Zomboid                                                   0.071711   \n",
       "Wallpaper Engine                                                  0.034489   \n",
       "Call of Duty®: Black Ops III                                      0.030783   \n",
       "Killing Floor 2                                                   0.033787   \n",
       "\n",
       "title                         Factorio  Middle-earth™: Shadow of War™   \n",
       "title                                                                   \n",
       "FOR HONOR™                    0.065717                       0.251607  \\\n",
       "Project Zomboid               0.208825                       0.098009   \n",
       "Wallpaper Engine              0.084120                       0.031560   \n",
       "Call of Duty®: Black Ops III  0.102326                       0.107903   \n",
       "Killing Floor 2               0.146114                       0.133252   \n",
       "\n",
       "title                         METAL GEAR SOLID V: THE PHANTOM PAIN      DOOM   \n",
       "title                                                                          \n",
       "FOR HONOR™                                                0.074670  0.123602  \\\n",
       "Project Zomboid                                           0.069844  0.074198   \n",
       "Wallpaper Engine                                          0.051011  0.058769   \n",
       "Call of Duty®: Black Ops III                              0.141422  0.220433   \n",
       "Killing Floor 2                                           0.078825  0.380317   \n",
       "\n",
       "title                         TEKKEN 7  Tabletop Simulator  \n",
       "title                                                       \n",
       "FOR HONOR™                    0.215390            0.132406  \n",
       "Project Zomboid               0.093617            0.166954  \n",
       "Wallpaper Engine              0.051887            0.089394  \n",
       "Call of Duty®: Black Ops III  0.129349            0.123840  \n",
       "Killing Floor 2               0.128693            0.245497  \n",
       "\n",
       "[5 rows x 311 columns]"
      ]
     },
     "execution_count": 24,
     "metadata": {},
     "output_type": "execute_result"
    }
   ],
   "source": [
    "content_similarity_df.head()"
   ]
  },
  {
   "cell_type": "code",
   "execution_count": 25,
   "id": "3f17a751-7572-4fe2-9bf0-c8e859fe34c6",
   "metadata": {},
   "outputs": [],
   "source": [
    "# Save df to file\n",
    "content_similarity_df.to_csv('data/content_base.csv', index = True)"
   ]
  },
  {
   "cell_type": "code",
   "execution_count": 26,
   "id": "28e06de9-a059-4339-b887-12cc6ae3b9fe",
   "metadata": {},
   "outputs": [],
   "source": [
    "# Delete Unnecessary DataFrames\n",
    "del textual_df\n",
    "del svd\n",
    "del lat_df"
   ]
  },
  {
   "cell_type": "markdown",
   "id": "60c91e26-646f-44d5-a001-ba0827587f7b",
   "metadata": {},
   "source": [
    "## User Similarity"
   ]
  },
  {
   "cell_type": "code",
   "execution_count": 27,
   "id": "1efe9d92-bbbc-452d-9714-640f378b79b3",
   "metadata": {},
   "outputs": [],
   "source": [
    "# Import the user DataFrame\n",
    "user_df = pd.read_csv(\"data/final_df.csv\", \n",
    "                       usecols = [\"appid\", \"title\", \"user_id\",\n",
    "                                 \"y\", \"reviews\"])\n",
    "\n",
    "# Turn Booleans to Integers\n",
    "user_df[\"y\"] = user_df[\"y\"].astype(int).replace(0, -1)"
   ]
  },
  {
   "cell_type": "code",
   "execution_count": 32,
   "id": "e3ec60f8-fc92-4fa8-b2d4-36d5117b4bd9",
   "metadata": {},
   "outputs": [
    {
     "name": "stdout",
     "output_type": "stream",
     "text": [
      "No Datapoints Lost\n"
     ]
    }
   ],
   "source": [
    "# Create DF for users with only 1 review and more than 1 \n",
    "two_plus_df = user_df[user_df['reviews'] > 1].reset_index(drop = True)\n",
    "one_rev_df = user_df[user_df['reviews'] == 1].reset_index(drop = True)\n",
    "\n",
    "# print the resulting dataframe\n",
    "if (len(user_df) == (len(two_plus_df) + len(one_rev_df))):\n",
    "    print(\"No Datapoints Lost\")"
   ]
  },
  {
   "cell_type": "code",
   "execution_count": 3,
   "id": "f76a30bb-a2f9-4c02-a559-ff6c0e4194d9",
   "metadata": {},
   "outputs": [],
   "source": [
    "# Create Pivot Table\n",
    "rec_pivot = user_df.pivot_table(index = \"user_id\", columns = \"title\",\n",
    "                   values = \"y\")\n",
    "\n",
    "# Fill NaNs\n",
    "rec_pivot = rec_pivot.fillna(0)\n",
    "\n",
    "# Convert DataFrame to Sparse Matrix\n",
    "sparse_recs = csr_matrix(rec_pivot.values)"
   ]
  },
  {
   "cell_type": "code",
   "execution_count": 6,
   "id": "6621c312-5f3d-43f1-a577-8175a2de871a",
   "metadata": {},
   "outputs": [],
   "source": [
    "# Create Instance of SVD with 250 Components\n",
    "user_svd = TruncatedSVD(n_components=250, random_state = 70)\n",
    "\n",
    "# Fit to the Matrix\n",
    "user_svd_fit = user_svd.fit(sparse_recs)"
   ]
  },
  {
   "cell_type": "code",
   "execution_count": 10,
   "id": "52bec7d4-ddf0-46d6-a462-8cf5ac9bb066",
   "metadata": {},
   "outputs": [
    {
     "name": "stdout",
     "output_type": "stream",
     "text": [
      "The number of features required to explain at least 90% of variance is 157\n"
     ]
    }
   ],
   "source": [
    "# Find Cumulative Explained Variance Percentage\n",
    "user_cum_variance = np.cumsum(user_svd_fit.explained_variance_ratio_)\n",
    "\n",
    "# Identify First Instance of Expl. Variance Above 90%\n",
    "user_ninety_threshold = np.argmax(user_cum_variance >= 0.9) \n",
    "\n",
    "print(f\"The number of features required to explain at least 90% of variance is {user_ninety_threshold + 1}\")"
   ]
  },
  {
   "cell_type": "code",
   "execution_count": null,
   "id": "e8888bb9-fc0f-4574-a9bb-a9ad42cc53c8",
   "metadata": {},
   "outputs": [],
   "source": [
    "# Obtain Explained Variance\n",
    "expl_variance = scree_matrix.explained_variance_\n",
    "\n",
    "# Find Elbow Point\n",
    "kneedle = KneeLocator(np.arange(ninety_threshold + 1, len(expl_variance)+ 1), \n",
    "                      expl_variance[ninety_threshold:], curve='convex', \n",
    "                      direction='decreasing')\n",
    "\n",
    "elbow_location = kneedle.elbow\n",
    "\n",
    "# Plot Elbow\n",
    "sns.set_theme()\n",
    "\n",
    "plt.plot(np.arange(1, len(expl_variance)+1),\n",
    "         expl_variance[0:],\n",
    "         label = \"Explained Variance\")\n",
    "\n",
    "# Add Title and Axis Labels\n",
    "plt.title(\"Scree Test for SVD Analysis\")\n",
    "plt.ylabel(\"Explained Variance\")\n",
    "plt.xlabel(\"Number of Components\")\n",
    "plt.legend()\n",
    "\n",
    "# Add Annotation and Point to Show Location of 90%\n",
    "plt.annotate(f\"90% of Variance Explained at {ninety_threshold + 1} Components\", \n",
    "             xy=(ninety_threshold + 1, expl_variance[ninety_threshold]),\n",
    "             xytext=(40, 0.010),\n",
    "             arrowprops=dict(arrowstyle=\"-\",\n",
    "                             color = \"blue\"), fontsize=10)\n",
    "\n",
    "plt.plot(ninety_threshold + 1, expl_variance[ninety_threshold], \"bo\",\n",
    "         label = \"Elbow Point\")\n",
    "\n",
    "# Add Annotation and Point to Show Location of Elbow\n",
    "plt.annotate(f\"Post-90% Elbow at {elbow_location} Components\", \n",
    "             xy=(elbow_location, expl_variance[elbow_location - 1]),\n",
    "             xytext=(200, 0.015),\n",
    "             arrowprops=dict(arrowstyle=\"-\",\n",
    "                             color = \"red\"), fontsize=10)\n",
    "\n",
    "plt.plot(elbow_location, expl_variance[elbow_location - 1], \"ro\",\n",
    "         label = \"Elbow Point\")"
   ]
  },
  {
   "cell_type": "code",
   "execution_count": null,
   "id": "812433b2-aeed-474c-a556-7f3d1ec0fdac",
   "metadata": {},
   "outputs": [
    {
     "name": "stdout",
     "output_type": "stream",
     "text": [
      "The history saving thread hit an unexpected error (OperationalError('unable to open database file')).History will not be written to the database.\n"
     ]
    }
   ],
   "source": [
    "transformed_recs = user_svd_fit.transform(sparse_recs)"
   ]
  },
  {
   "cell_type": "code",
   "execution_count": 70,
   "id": "f4bfd758-fcb7-496d-a0a7-1755c6ec5b92",
   "metadata": {},
   "outputs": [],
   "source": [
    "user_similarity_df = \"a\""
   ]
  },
  {
   "cell_type": "markdown",
   "id": "81c29fe2-94fe-4e8c-94f0-3d304a994dc2",
   "metadata": {},
   "source": [
    "## Feature Creation\n",
    "\n",
    "Finally, we create a brand new feature in our final_df. "
   ]
  },
  {
   "cell_type": "code",
   "execution_count": 2,
   "id": "d1cbb060-e6a4-430a-a0fa-8b8e6b102249",
   "metadata": {},
   "outputs": [
    {
     "ename": "NameError",
     "evalue": "name 'pd' is not defined",
     "output_type": "error",
     "traceback": [
      "\u001b[0;31m---------------------------------------------------------------------------\u001b[0m",
      "\u001b[0;31mNameError\u001b[0m                                 Traceback (most recent call last)",
      "Cell \u001b[0;32mIn[2], line 1\u001b[0m\n\u001b[0;32m----> 1\u001b[0m final_df \u001b[38;5;241m=\u001b[39m \u001b[43mpd\u001b[49m\u001b[38;5;241m.\u001b[39mread_csv(\u001b[38;5;124m\"\u001b[39m\u001b[38;5;124mdata/final_df.csv\u001b[39m\u001b[38;5;124m\"\u001b[39m,\n\u001b[1;32m      2\u001b[0m                       usecols \u001b[38;5;241m=\u001b[39m [\u001b[38;5;124m\"\u001b[39m\u001b[38;5;124muser_id\u001b[39m\u001b[38;5;124m\"\u001b[39m, \u001b[38;5;124m\"\u001b[39m\u001b[38;5;124mtitle\u001b[39m\u001b[38;5;124m\"\u001b[39m,\n\u001b[1;32m      3\u001b[0m                                 \u001b[38;5;124m\"\u001b[39m\u001b[38;5;124mreviews\u001b[39m\u001b[38;5;124m\"\u001b[39m])\n\u001b[1;32m      5\u001b[0m content_similarity_df \u001b[38;5;241m=\u001b[39m pd\u001b[38;5;241m.\u001b[39mread_csv(\u001b[38;5;124m\"\u001b[39m\u001b[38;5;124mdata/content_base.csv\u001b[39m\u001b[38;5;124m\"\u001b[39m, index_col \u001b[38;5;241m=\u001b[39m \u001b[38;5;124m\"\u001b[39m\u001b[38;5;124mname\u001b[39m\u001b[38;5;124m\"\u001b[39m)\n",
      "\u001b[0;31mNameError\u001b[0m: name 'pd' is not defined"
     ]
    }
   ],
   "source": [
    "content_similarity_df = pd.read_csv(\"data/content_base.csv\", index_col = \"name\")"
   ]
  },
  {
   "cell_type": "code",
   "execution_count": 33,
   "id": "142aa8f8-098e-48ad-b944-f9ba06733197",
   "metadata": {},
   "outputs": [
    {
     "data": {
      "text/html": [
       "<div>\n",
       "<style scoped>\n",
       "    .dataframe tbody tr th:only-of-type {\n",
       "        vertical-align: middle;\n",
       "    }\n",
       "\n",
       "    .dataframe tbody tr th {\n",
       "        vertical-align: top;\n",
       "    }\n",
       "\n",
       "    .dataframe thead th {\n",
       "        text-align: right;\n",
       "    }\n",
       "</style>\n",
       "<table border=\"1\" class=\"dataframe\">\n",
       "  <thead>\n",
       "    <tr style=\"text-align: right;\">\n",
       "      <th></th>\n",
       "      <th>y</th>\n",
       "      <th>user_id</th>\n",
       "      <th>title</th>\n",
       "      <th>appid</th>\n",
       "      <th>reviews</th>\n",
       "    </tr>\n",
       "  </thead>\n",
       "  <tbody>\n",
       "    <tr>\n",
       "      <th>0</th>\n",
       "      <td>-1</td>\n",
       "      <td>140776</td>\n",
       "      <td>FOR HONOR™</td>\n",
       "      <td>304390</td>\n",
       "      <td>2</td>\n",
       "    </tr>\n",
       "    <tr>\n",
       "      <th>1</th>\n",
       "      <td>-1</td>\n",
       "      <td>140776</td>\n",
       "      <td>Project Zomboid</td>\n",
       "      <td>108600</td>\n",
       "      <td>2</td>\n",
       "    </tr>\n",
       "    <tr>\n",
       "      <th>2</th>\n",
       "      <td>-1</td>\n",
       "      <td>4222787</td>\n",
       "      <td>FOR HONOR™</td>\n",
       "      <td>304390</td>\n",
       "      <td>16</td>\n",
       "    </tr>\n",
       "    <tr>\n",
       "      <th>3</th>\n",
       "      <td>1</td>\n",
       "      <td>4222787</td>\n",
       "      <td>Wallpaper Engine</td>\n",
       "      <td>431960</td>\n",
       "      <td>16</td>\n",
       "    </tr>\n",
       "    <tr>\n",
       "      <th>4</th>\n",
       "      <td>-1</td>\n",
       "      <td>4222787</td>\n",
       "      <td>Call of Duty®: Black Ops III</td>\n",
       "      <td>311210</td>\n",
       "      <td>16</td>\n",
       "    </tr>\n",
       "    <tr>\n",
       "      <th>...</th>\n",
       "      <td>...</td>\n",
       "      <td>...</td>\n",
       "      <td>...</td>\n",
       "      <td>...</td>\n",
       "      <td>...</td>\n",
       "    </tr>\n",
       "    <tr>\n",
       "      <th>4000244</th>\n",
       "      <td>-1</td>\n",
       "      <td>5740669</td>\n",
       "      <td>Nioh: Complete Edition</td>\n",
       "      <td>485510</td>\n",
       "      <td>2</td>\n",
       "    </tr>\n",
       "    <tr>\n",
       "      <th>4000245</th>\n",
       "      <td>1</td>\n",
       "      <td>1589339</td>\n",
       "      <td>Nioh: Complete Edition</td>\n",
       "      <td>485510</td>\n",
       "      <td>2</td>\n",
       "    </tr>\n",
       "    <tr>\n",
       "      <th>4000246</th>\n",
       "      <td>1</td>\n",
       "      <td>4593723</td>\n",
       "      <td>Nioh: Complete Edition</td>\n",
       "      <td>485510</td>\n",
       "      <td>5</td>\n",
       "    </tr>\n",
       "    <tr>\n",
       "      <th>4000247</th>\n",
       "      <td>1</td>\n",
       "      <td>4169158</td>\n",
       "      <td>Nioh: Complete Edition</td>\n",
       "      <td>485510</td>\n",
       "      <td>2</td>\n",
       "    </tr>\n",
       "    <tr>\n",
       "      <th>4000248</th>\n",
       "      <td>1</td>\n",
       "      <td>5704160</td>\n",
       "      <td>Nioh: Complete Edition</td>\n",
       "      <td>485510</td>\n",
       "      <td>2</td>\n",
       "    </tr>\n",
       "  </tbody>\n",
       "</table>\n",
       "<p>4000249 rows × 5 columns</p>\n",
       "</div>"
      ],
      "text/plain": [
       "         y  user_id                         title   appid  reviews\n",
       "0       -1   140776                    FOR HONOR™  304390        2\n",
       "1       -1   140776               Project Zomboid  108600        2\n",
       "2       -1  4222787                    FOR HONOR™  304390       16\n",
       "3        1  4222787              Wallpaper Engine  431960       16\n",
       "4       -1  4222787  Call of Duty®: Black Ops III  311210       16\n",
       "...     ..      ...                           ...     ...      ...\n",
       "4000244 -1  5740669        Nioh: Complete Edition  485510        2\n",
       "4000245  1  1589339        Nioh: Complete Edition  485510        2\n",
       "4000246  1  4593723        Nioh: Complete Edition  485510        5\n",
       "4000247  1  4169158        Nioh: Complete Edition  485510        2\n",
       "4000248  1  5704160        Nioh: Complete Edition  485510        2\n",
       "\n",
       "[4000249 rows x 5 columns]"
      ]
     },
     "execution_count": 33,
     "metadata": {},
     "output_type": "execute_result"
    }
   ],
   "source": [
    "two_plus_df"
   ]
  },
  {
   "cell_type": "code",
   "execution_count": 48,
   "id": "dfb1f514-a279-425e-86d2-3206db72e618",
   "metadata": {},
   "outputs": [
    {
     "name": "stdout",
     "output_type": "stream",
     "text": [
      "-0.11343754978168258 0.05873060183691747 0.45519529118254126 -0.07024015819363252 0.07876251070231319 -0.15026204072113936 0.0760879348542573\n"
     ]
    },
    {
     "data": {
      "text/plain": [
       "0.047833798554224975"
      ]
     },
     "execution_count": 48,
     "metadata": {},
     "output_type": "execute_result"
    }
   ],
   "source": [
    "AverageSimilarityCalculator(4222787, \"Call of Duty®: Black Ops III\")"
   ]
  },
  {
   "cell_type": "code",
   "execution_count": 47,
   "id": "80e41af5-2543-4a0b-ac39-43b18a132f38",
   "metadata": {},
   "outputs": [],
   "source": [
    "# Find Average Similarity\n",
    "def AverageSimilarityCalculator(user, game):\n",
    "    \n",
    "    user_ratings = two_plus_df[two_plus_df[\"user_id\"] == user]\n",
    "    other_games = user_ratings[user_ratings['title'] != game]\n",
    "    \n",
    "    other_games_titles = other_games['title']\n",
    "    filtered_game_similarity_df = content_similarity_df.loc[game, other_games_titles] * other_games.set_index('title')[\"y\"]\n",
    "    \n",
    "    print(* other_games.set_index('title')[\"y\"] *  content_similarity_df.loc[game, other_games_titles])\n",
    "    \n",
    "    return filtered_game_similarity_df.mean()\n",
    "\n",
    "# Create Compiler of Avg Sim\n",
    "def SimilarityGenerator(users = two_plus_df, \n",
    "                     similarity = content_similarity_df):\n",
    "    \n",
    "    similarities = []\n",
    "    for i in range(0, len(users)):\n",
    "        \n",
    "        sim = AverageSimilarityCalculator(users.at[i, 'user_id'],\n",
    "                      users.at[i, 'title'])\n",
    "        \n",
    "        similarities.append(sim)\n",
    "    \n",
    "    return similarities"
   ]
  },
  {
   "cell_type": "code",
   "execution_count": null,
   "id": "2f35f308-6c1d-4658-9edb-2deb5f521643",
   "metadata": {},
   "outputs": [],
   "source": [
    "def SimilarityGenerator(users = two_plus_df, \n",
    "                     similarity = content_similarity_df,\n",
    "                     n_jobs=1):\n",
    "    \n",
    "    similarities = Parallel(n_jobs=n_jobs)(\n",
    "        delayed(AverageSimilarityCalculator)(\n",
    "            users.at[i, 'user_id'],\n",
    "            users.at[i, 'title'],\n",
    "            similarity,\n",
    "            users\n",
    "        ) for i in range(len(users))\n",
    "    )\n",
    "    \n",
    "    return similarities"
   ]
  },
  {
   "cell_type": "code",
   "execution_count": 71,
   "id": "31c981e4-9368-467a-9dfb-56afd5fd2ee1",
   "metadata": {},
   "outputs": [],
   "source": [
    "# Find Most Similary User\n",
    "def UserPairer(user,\n",
    "              user_similarity = user_similarity_df):\n",
    "    \n",
    "    return user_similarity_df.loc[user].idxmax()\n",
    "    \n",
    "# Create Similarity Imputer\n",
    "def SimilarityImputer(users = one_rev_df):\n",
    "    \n",
    "    sim_list = []\n",
    "    for i in range(0, len(users)):\n",
    "        similar_user = UserPairer(users.at[i, \"user_id\"])\n",
    "        \n",
    "        sim = AverageSimilarityCalculator(similar_user,\n",
    "                                   users.at[i, \"title\"])\n",
    "        \n",
    "        sim_list.append(sim_list)\n",
    "    \n",
    "    return sim_list"
   ]
  }
 ],
 "metadata": {
  "kernelspec": {
   "display_name": "Python 3 (ipykernel)",
   "language": "python",
   "name": "python3"
  },
  "language_info": {
   "codemirror_mode": {
    "name": "ipython",
    "version": 3
   },
   "file_extension": ".py",
   "mimetype": "text/x-python",
   "name": "python",
   "nbconvert_exporter": "python",
   "pygments_lexer": "ipython3",
   "version": "3.9.16"
  }
 },
 "nbformat": 4,
 "nbformat_minor": 5
}
