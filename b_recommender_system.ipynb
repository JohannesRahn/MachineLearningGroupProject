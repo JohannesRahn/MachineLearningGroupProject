{
 "cells": [
  {
   "cell_type": "markdown",
   "id": "6d40e438-fdb6-47d6-9af7-3fdaaa1d064b",
   "metadata": {},
   "source": [
    "# **Machine Learning Group Project:** Recommender System Preparation\n",
    "\n",
    "The purpose of this notebook is to extract content-based similarities across different products on the basis of the plethora of of textual data contained in descriptive columns such as _tags_, _genres_, _description_, or _steamspy_tags_. These findings can later be utilized when building other models."
   ]
  },
  {
   "cell_type": "code",
   "execution_count": 53,
   "id": "1b0d1d15-a35b-4cfd-b9d0-f8daa3f2a8a4",
   "metadata": {},
   "outputs": [],
   "source": [
    "# General\n",
    "import requests\n",
    "import numpy as np\n",
    "import pandas as pd\n",
    "\n",
    "# Visualization\n",
    "import seaborn as sns\n",
    "from kneed import KneeLocator\n",
    "import matplotlib.pyplot as plt\n",
    "\n",
    "# Sklearn\n",
    "from sklearn.decomposition import TruncatedSVD\n",
    "from sklearn.feature_extraction.text import CountVectorizer\n",
    "from sklearn.metrics.pairwise import cosine_similarity"
   ]
  },
  {
   "cell_type": "markdown",
   "id": "da06cb07-bb8c-4ab2-9347-089b2cc39eef",
   "metadata": {},
   "source": [
    "## Text Data DataFrame\n",
    "\n",
    "First we create a DataFrame that contains all instances of descriptive textual data for the products. There is a single entry for each game. We run an inner merge because this is the same kind of merge done between these datasets for the final_df in [a_csv_creation.ipynb](a_csv_creation.ipynb). Consequently, this ensures the data we are working with is compatible with other work later on."
   ]
  },
  {
   "cell_type": "code",
   "execution_count": 4,
   "id": "b05774c4-2b28-49e6-83ff-39662ce03e36",
   "metadata": {},
   "outputs": [
    {
     "data": {
      "text/html": [
       "<div>\n",
       "<style scoped>\n",
       "    .dataframe tbody tr th:only-of-type {\n",
       "        vertical-align: middle;\n",
       "    }\n",
       "\n",
       "    .dataframe tbody tr th {\n",
       "        vertical-align: top;\n",
       "    }\n",
       "\n",
       "    .dataframe thead th {\n",
       "        text-align: right;\n",
       "    }\n",
       "</style>\n",
       "<table border=\"1\" class=\"dataframe\">\n",
       "  <thead>\n",
       "    <tr style=\"text-align: right;\">\n",
       "      <th></th>\n",
       "      <th>appid</th>\n",
       "      <th>name</th>\n",
       "      <th>categories</th>\n",
       "      <th>genres</th>\n",
       "      <th>steamspy_tags</th>\n",
       "      <th>description</th>\n",
       "      <th>tags</th>\n",
       "    </tr>\n",
       "  </thead>\n",
       "  <tbody>\n",
       "    <tr>\n",
       "      <th>0</th>\n",
       "      <td>10</td>\n",
       "      <td>Counter-Strike</td>\n",
       "      <td>Multi-player;Online Multi-Player;Local Multi-P...</td>\n",
       "      <td>Action</td>\n",
       "      <td>Action;FPS;Multiplayer</td>\n",
       "      <td>Play the world's number 1 online action game. ...</td>\n",
       "      <td>[Action, FPS, Multiplayer, Shooter, Classic, T...</td>\n",
       "    </tr>\n",
       "    <tr>\n",
       "      <th>1</th>\n",
       "      <td>20</td>\n",
       "      <td>Team Fortress Classic</td>\n",
       "      <td>Multi-player;Online Multi-Player;Local Multi-P...</td>\n",
       "      <td>Action</td>\n",
       "      <td>Action;FPS;Multiplayer</td>\n",
       "      <td>One of the most popular online action games of...</td>\n",
       "      <td>[Action, FPS, Multiplayer, Classic, Hero Shoot...</td>\n",
       "    </tr>\n",
       "    <tr>\n",
       "      <th>2</th>\n",
       "      <td>30</td>\n",
       "      <td>Day of Defeat</td>\n",
       "      <td>Multi-player;Valve Anti-Cheat enabled</td>\n",
       "      <td>Action</td>\n",
       "      <td>FPS;World War II;Multiplayer</td>\n",
       "      <td>Enlist in an intense brand of Axis vs. Allied ...</td>\n",
       "      <td>[FPS, World War II, Multiplayer, Shooter, Acti...</td>\n",
       "    </tr>\n",
       "    <tr>\n",
       "      <th>3</th>\n",
       "      <td>40</td>\n",
       "      <td>Deathmatch Classic</td>\n",
       "      <td>Multi-player;Online Multi-Player;Local Multi-P...</td>\n",
       "      <td>Action</td>\n",
       "      <td>Action;FPS;Multiplayer</td>\n",
       "      <td>Enjoy fast-paced multiplayer gaming with Death...</td>\n",
       "      <td>[Action, FPS, Classic, Multiplayer, Shooter, F...</td>\n",
       "    </tr>\n",
       "    <tr>\n",
       "      <th>4</th>\n",
       "      <td>50</td>\n",
       "      <td>Half-Life: Opposing Force</td>\n",
       "      <td>Single-player;Multi-player;Valve Anti-Cheat en...</td>\n",
       "      <td>Action</td>\n",
       "      <td>FPS;Action;Sci-fi</td>\n",
       "      <td>Return to the Black Mesa Research Facility as ...</td>\n",
       "      <td>[FPS, Action, Classic, Sci-fi, Singleplayer, S...</td>\n",
       "    </tr>\n",
       "  </tbody>\n",
       "</table>\n",
       "</div>"
      ],
      "text/plain": [
       "   appid                       name   \n",
       "0     10             Counter-Strike  \\\n",
       "1     20      Team Fortress Classic   \n",
       "2     30              Day of Defeat   \n",
       "3     40         Deathmatch Classic   \n",
       "4     50  Half-Life: Opposing Force   \n",
       "\n",
       "                                          categories  genres   \n",
       "0  Multi-player;Online Multi-Player;Local Multi-P...  Action  \\\n",
       "1  Multi-player;Online Multi-Player;Local Multi-P...  Action   \n",
       "2              Multi-player;Valve Anti-Cheat enabled  Action   \n",
       "3  Multi-player;Online Multi-Player;Local Multi-P...  Action   \n",
       "4  Single-player;Multi-player;Valve Anti-Cheat en...  Action   \n",
       "\n",
       "                  steamspy_tags   \n",
       "0        Action;FPS;Multiplayer  \\\n",
       "1        Action;FPS;Multiplayer   \n",
       "2  FPS;World War II;Multiplayer   \n",
       "3        Action;FPS;Multiplayer   \n",
       "4             FPS;Action;Sci-fi   \n",
       "\n",
       "                                         description   \n",
       "0  Play the world's number 1 online action game. ...  \\\n",
       "1  One of the most popular online action games of...   \n",
       "2  Enlist in an intense brand of Axis vs. Allied ...   \n",
       "3  Enjoy fast-paced multiplayer gaming with Death...   \n",
       "4  Return to the Black Mesa Research Facility as ...   \n",
       "\n",
       "                                                tags  \n",
       "0  [Action, FPS, Multiplayer, Shooter, Classic, T...  \n",
       "1  [Action, FPS, Multiplayer, Classic, Hero Shoot...  \n",
       "2  [FPS, World War II, Multiplayer, Shooter, Acti...  \n",
       "3  [Action, FPS, Classic, Multiplayer, Shooter, F...  \n",
       "4  [FPS, Action, Classic, Sci-fi, Singleplayer, S...  "
      ]
     },
     "execution_count": 4,
     "metadata": {},
     "output_type": "execute_result"
    }
   ],
   "source": [
    "# Import Metadata\n",
    "df_games_meta_data = pd.read_json('data/games_metadata.json', lines=True)\n",
    "\n",
    "# Import Games Data\n",
    "df_games_additional = pd.read_csv(\"data/steam.csv\", \n",
    "                                  usecols= [\"appid\", \"name\", \"genres\", \"steamspy_tags\",\n",
    "                                           \"categories\"])\n",
    "\n",
    "# Merge to a Single DataFrame\n",
    "textual_df = df_games_additional.join(df_games_meta_data.set_index(\"app_id\"),\n",
    "                                      on = \"appid\", how = \"inner\")\n",
    "\n",
    "# Show Head\n",
    "textual_df.head()"
   ]
  },
  {
   "cell_type": "markdown",
   "id": "ff163b68-7ce7-46d9-aaf6-8e6c69e387ec",
   "metadata": {},
   "source": [
    "## Data Preparation"
   ]
  },
  {
   "cell_type": "markdown",
   "id": "81f7a9bf-bac4-4925-be54-bc0c17fcc6fd",
   "metadata": {},
   "source": [
    "#### Text Homogenization\n",
    "\n",
    "The first step undertaken is homgenizing the text across the different columns. We do the following:\n",
    "- Make all words fully lowercase\n",
    "- Transform the _tags_ column from a list to a string\n",
    "- Remove separators in the strings of columns such as _categories_, _steamspy_tags_, etc.\n",
    "- Remove any other punctuation\n",
    "- Homogenize words with spelling discrepancies (e.g. multiplayer & multi-player)"
   ]
  },
  {
   "cell_type": "code",
   "execution_count": 5,
   "id": "708d3bc8-52d2-49e0-8670-21ee329ef62c",
   "metadata": {},
   "outputs": [],
   "source": [
    "# Turn to String\n",
    "textual_df[\"tags\"] = textual_df[\"tags\"].apply(lambda x: str(x))\n",
    "\n",
    "# Drop the Punctuation\n",
    "punc = '''!()[]{};:'\"\\,<>./?@#$%^&*_~'''\n",
    " \n",
    "# Remove punctuation and make everything lowercase with for loop\n",
    "for i in textual_df[\"tags\"].reset_index()[\"index\"].unique():\n",
    "    for j in textual_df[\"tags\"][i]:\n",
    "        if j in punc:\n",
    "            textual_df.loc[i,\"tags\"] = textual_df[\"tags\"][i].replace(j, \"\").lower()"
   ]
  },
  {
   "cell_type": "code",
   "execution_count": 6,
   "id": "20ca514a-eea3-4a91-8bd4-41cd2f9506f3",
   "metadata": {},
   "outputs": [],
   "source": [
    "# Use for loop to remove all separators from list columns and turn all to lowercase\n",
    "for i in [\"categories\", \"genres\", \"steamspy_tags\", \"tags\"]:\n",
    "    for j in textual_df.reset_index()[\"index\"].unique():\n",
    "        textual_df.loc[j, i] = textual_df.loc[j, i].replace(';',' ').lower()\n",
    "        \n",
    "        textual_df.loc[j, i] = textual_df.loc[j, i].replace('multi-player', 'multiplayer')\\\n",
    "        .replace(\"free to play\", \"free-to-play\").replace(\"singleplayer\", \"single-player\")\\\n",
    "        .replace(\"post-apocalyptic\", \"postapocalyptic\").replace(\"scifi\", \"sci-fi\")\\\n",
    "        .replace(\"anti cheat\", \"anti-cheat\")"
   ]
  },
  {
   "cell_type": "code",
   "execution_count": 7,
   "id": "ed163e5e-e4f6-4fd1-87b8-dddaeab1acfb",
   "metadata": {},
   "outputs": [],
   "source": [
    "# Define numbers\n",
    "num = '0123456789'\n",
    "\n",
    "# Remove punctuation, numbers, and turn description to lowercase \n",
    "for i in textual_df[\"description\"].reset_index()[\"index\"].unique():\n",
    "    for j in textual_df[\"description\"][i]:\n",
    "        \n",
    "        if j in punc:\n",
    "            textual_df.loc[i,\"description\"] = textual_df[\"description\"][i].replace(j, \"\")\n",
    "            \n",
    "        if j in num:\n",
    "            textual_df.loc[i,\"description\"] = textual_df[\"description\"][i].replace(j, \"\")\n",
    "        \n",
    "        textual_df.loc[i,\"description\"] = textual_df[\"description\"][i].lower().replace(\"multi-player\", \"multiplayer\")"
   ]
  },
  {
   "cell_type": "markdown",
   "id": "fb145e73-6af4-43ba-b6d3-2ad0e5c97fbb",
   "metadata": {},
   "source": [
    "#### Stopword Removal\n",
    "\n",
    "Although columns like _categories_, _genres_, _steamspy_tags_, and _tags_ do not suffer from this issue, the _description_ column contains stopwords which could be detrimental to our analysis. The stopword list is obtained from a separate [GitHub project](https://gist.githubusercontent.com/rg089/35e00abf8941d72d419224cfd5b5925d/raw/12d899b70156fd0041fa9778d657330b024b959c/stopwords.txt)."
   ]
  },
  {
   "cell_type": "code",
   "execution_count": 8,
   "id": "8a21851d-75ed-4719-acde-b46d478a08d5",
   "metadata": {},
   "outputs": [],
   "source": [
    "# Obtain stopwords\n",
    "stopwords_list = requests.get(\"https://gist.githubusercontent.com/rg089/35e00abf8941d72d419224cfd5b5925d/raw/12d899b70156fd0041fa9778d657330b024b959c/stopwords.txt\").content\n",
    "stopwords = set(stopwords_list.decode().splitlines()) \n",
    "\n",
    "# Remove Stopwords\n",
    "textual_df['description'] = textual_df['description']\\\n",
    ".apply(lambda x: ' '.join([word for word in x.split() if word not in (stopwords)]))"
   ]
  },
  {
   "cell_type": "markdown",
   "id": "1f8e916c-4414-4539-9852-99ec7a6f00c9",
   "metadata": {},
   "source": [
    "#### Full Text Column Creation\n",
    "\n",
    "Finally, we create a new column which contains all the textual information we have on a game.   "
   ]
  },
  {
   "cell_type": "code",
   "execution_count": 9,
   "id": "0d1c7a6c-026c-4382-900a-11f3d576364c",
   "metadata": {},
   "outputs": [],
   "source": [
    "# Use for loop to summarize all movie tags into one\n",
    "for i in textual_df[\"description\"].reset_index()[\"index\"].unique():\n",
    "    full_txt = \"\"\n",
    "    for j in [\"categories\", \"genres\", \"steamspy_tags\", \"description\", \"tags\"]:\n",
    "        full_txt += \" \" + textual_df.loc[i, j]\n",
    "        \n",
    "    textual_df.loc[i, \"full_text\"] = full_txt[1:]"
   ]
  },
  {
   "cell_type": "markdown",
   "id": "e2621f0b-e320-4e6e-8bd8-53765ea0935c",
   "metadata": {},
   "source": [
    "## Text Data Exploration"
   ]
  },
  {
   "cell_type": "code",
   "execution_count": 1,
   "id": "b2d5f2a9-a0ed-4ac7-b00a-ad9bfec29155",
   "metadata": {},
   "outputs": [
    {
     "ename": "NameError",
     "evalue": "name 'pd' is not defined",
     "output_type": "error",
     "traceback": [
      "\u001b[0;31m---------------------------------------------------------------------------\u001b[0m",
      "\u001b[0;31mNameError\u001b[0m                                 Traceback (most recent call last)",
      "Cell \u001b[0;32mIn[1], line 2\u001b[0m\n\u001b[1;32m      1\u001b[0m \u001b[38;5;66;03m# Read the data\u001b[39;00m\n\u001b[0;32m----> 2\u001b[0m final_df \u001b[38;5;241m=\u001b[39m \u001b[43mpd\u001b[49m\u001b[38;5;241m.\u001b[39mread_csv(\u001b[38;5;124m\"\u001b[39m\u001b[38;5;124mdata/final_df.csv\u001b[39m\u001b[38;5;124m\"\u001b[39m)\n\u001b[1;32m      4\u001b[0m \u001b[38;5;66;03m# Split and count steamspy_tags and genres\u001b[39;00m\n\u001b[1;32m      5\u001b[0m steamspy_tags \u001b[38;5;241m=\u001b[39m final_df[\u001b[38;5;124m'\u001b[39m\u001b[38;5;124msteamspy_tags\u001b[39m\u001b[38;5;124m'\u001b[39m]\u001b[38;5;241m.\u001b[39mstr\u001b[38;5;241m.\u001b[39msplit(\u001b[38;5;124m'\u001b[39m\u001b[38;5;124m;\u001b[39m\u001b[38;5;124m'\u001b[39m, expand\u001b[38;5;241m=\u001b[39m\u001b[38;5;28;01mTrue\u001b[39;00m)\u001b[38;5;241m.\u001b[39mstack()\u001b[38;5;241m.\u001b[39mvalue_counts()\n",
      "\u001b[0;31mNameError\u001b[0m: name 'pd' is not defined"
     ]
    }
   ],
   "source": [
    "# Split and count steamspy_tags and genres\n",
    "steamspy_tags = final_df['steamspy_tags'].str.split(';', expand=True).stack().value_counts()\n",
    "genres = final_df['genres'].str.split(';', expand=True).stack().value_counts()\n",
    "\n",
    "# Print the most common steamspy_tags and genres\n",
    "print(\"Most common steamspy_tags:\\n\", steamspy_tags.head(10))\n",
    "print(\"\\nMost common genres:\\n\", genres.head(10))\n",
    "\n",
    "# Combine the split steamspy_tags and genres back into the DataFrame\n",
    "final_df['steamspy_tags'] = final_df['steamspy_tags'].str.split(';')\n",
    "final_df['genres'] = final_df['genres'].str.split(';')\n",
    "\n",
    "# Calculate game popularity metrics, sales, and price_final\n",
    "final_df['average_playtime'] = final_df['average_playtime'].astype(float)\n",
    "final_df['reviews'] = final_df['reviews'].astype(int)\n",
    "final_df['price_final'] = final_df['price_final'].astype(float)\n",
    "\n",
    "# Group by steamspy_tags and genres, and calculate the average popularity, sales metrics, and price_final\n",
    "tags_popularity = final_df.explode('steamspy_tags').groupby('steamspy_tags').agg({\n",
    "    'average_playtime': 'mean',\n",
    "    'reviews': 'sum',\n",
    "    'price_final': 'mean'\n",
    "}).sort_values('reviews', ascending=False)\n",
    "\n",
    "genres_popularity = final_df.explode('genres').groupby('genres').agg({\n",
    "    'average_playtime': 'mean',\n",
    "    'reviews': 'sum',\n",
    "    'price_final': 'mean'\n",
    "}).sort_values('reviews', ascending=False)\n",
    "\n",
    "# Print the popularity, sales metrics, and price_final for the most common steamspy_tags and genres\n",
    "print(\"\\nPopularity, sales metrics, and price_final by steamspy_tags:\\n\", tags_popularity.head(10))\n",
    "print(\"\\nPopularity, sales metrics, and price_final by genres:\\n\", genres_popularity.head(10))"
   ]
  },
  {
   "cell_type": "markdown",
   "id": "3098d8f4-b25b-4fa6-828f-a737b12c8e60",
   "metadata": {},
   "source": [
    "## Content-Based Similarity"
   ]
  },
  {
   "cell_type": "markdown",
   "id": "a2da676c-f2aa-4d77-8fcb-94e9e84580e9",
   "metadata": {},
   "source": [
    "#### Textual Data Vectorization\n",
    "\n",
    "First we create a vector containing information concerning the textual descriptions of the games. We display the first three rows of the resulting array in the form of a fully labelled DataFrame with indexation and column names."
   ]
  },
  {
   "cell_type": "code",
   "execution_count": 10,
   "id": "c1d0961b-a3fe-44ca-a5b3-140433590659",
   "metadata": {},
   "outputs": [
    {
     "data": {
      "text/html": [
       "<div>\n",
       "<style scoped>\n",
       "    .dataframe tbody tr th:only-of-type {\n",
       "        vertical-align: middle;\n",
       "    }\n",
       "\n",
       "    .dataframe tbody tr th {\n",
       "        vertical-align: top;\n",
       "    }\n",
       "\n",
       "    .dataframe thead th {\n",
       "        text-align: right;\n",
       "    }\n",
       "</style>\n",
       "<table border=\"1\" class=\"dataframe\">\n",
       "  <thead>\n",
       "    <tr style=\"text-align: right;\">\n",
       "      <th></th>\n",
       "      <th>multiplayer</th>\n",
       "      <th>online</th>\n",
       "      <th>local</th>\n",
       "      <th>valve</th>\n",
       "      <th>anti</th>\n",
       "      <th>cheat</th>\n",
       "      <th>enabled</th>\n",
       "      <th>action</th>\n",
       "      <th>fps</th>\n",
       "      <th>play</th>\n",
       "      <th>...</th>\n",
       "      <th>punic</th>\n",
       "      <th>skully</th>\n",
       "      <th>reproduces</th>\n",
       "      <th>restorer</th>\n",
       "      <th>suburb</th>\n",
       "      <th>somebody</th>\n",
       "      <th>rasputin</th>\n",
       "      <th>internship</th>\n",
       "      <th>captainmarlene</th>\n",
       "      <th>shortening</th>\n",
       "    </tr>\n",
       "    <tr>\n",
       "      <th>name</th>\n",
       "      <th></th>\n",
       "      <th></th>\n",
       "      <th></th>\n",
       "      <th></th>\n",
       "      <th></th>\n",
       "      <th></th>\n",
       "      <th></th>\n",
       "      <th></th>\n",
       "      <th></th>\n",
       "      <th></th>\n",
       "      <th></th>\n",
       "      <th></th>\n",
       "      <th></th>\n",
       "      <th></th>\n",
       "      <th></th>\n",
       "      <th></th>\n",
       "      <th></th>\n",
       "      <th></th>\n",
       "      <th></th>\n",
       "      <th></th>\n",
       "      <th></th>\n",
       "    </tr>\n",
       "  </thead>\n",
       "  <tbody>\n",
       "    <tr>\n",
       "      <th>Counter-Strike</th>\n",
       "      <td>1</td>\n",
       "      <td>0</td>\n",
       "      <td>1</td>\n",
       "      <td>0</td>\n",
       "      <td>0</td>\n",
       "      <td>0</td>\n",
       "      <td>0</td>\n",
       "      <td>0</td>\n",
       "      <td>0</td>\n",
       "      <td>0</td>\n",
       "      <td>...</td>\n",
       "      <td>0</td>\n",
       "      <td>0</td>\n",
       "      <td>0</td>\n",
       "      <td>0</td>\n",
       "      <td>0</td>\n",
       "      <td>0</td>\n",
       "      <td>0</td>\n",
       "      <td>0</td>\n",
       "      <td>0</td>\n",
       "      <td>0</td>\n",
       "    </tr>\n",
       "    <tr>\n",
       "      <th>Team Fortress Classic</th>\n",
       "      <td>0</td>\n",
       "      <td>0</td>\n",
       "      <td>1</td>\n",
       "      <td>0</td>\n",
       "      <td>0</td>\n",
       "      <td>0</td>\n",
       "      <td>0</td>\n",
       "      <td>0</td>\n",
       "      <td>0</td>\n",
       "      <td>0</td>\n",
       "      <td>...</td>\n",
       "      <td>0</td>\n",
       "      <td>0</td>\n",
       "      <td>0</td>\n",
       "      <td>0</td>\n",
       "      <td>0</td>\n",
       "      <td>0</td>\n",
       "      <td>0</td>\n",
       "      <td>0</td>\n",
       "      <td>0</td>\n",
       "      <td>0</td>\n",
       "    </tr>\n",
       "    <tr>\n",
       "      <th>Day of Defeat</th>\n",
       "      <td>0</td>\n",
       "      <td>0</td>\n",
       "      <td>0</td>\n",
       "      <td>0</td>\n",
       "      <td>0</td>\n",
       "      <td>0</td>\n",
       "      <td>0</td>\n",
       "      <td>0</td>\n",
       "      <td>0</td>\n",
       "      <td>0</td>\n",
       "      <td>...</td>\n",
       "      <td>0</td>\n",
       "      <td>0</td>\n",
       "      <td>0</td>\n",
       "      <td>0</td>\n",
       "      <td>0</td>\n",
       "      <td>0</td>\n",
       "      <td>0</td>\n",
       "      <td>0</td>\n",
       "      <td>0</td>\n",
       "      <td>0</td>\n",
       "    </tr>\n",
       "  </tbody>\n",
       "</table>\n",
       "<p>3 rows × 31175 columns</p>\n",
       "</div>"
      ],
      "text/plain": [
       "                       multiplayer  online  local  valve  anti  cheat   \n",
       "name                                                                    \n",
       "Counter-Strike                   1       0      1      0     0      0  \\\n",
       "Team Fortress Classic            0       0      1      0     0      0   \n",
       "Day of Defeat                    0       0      0      0     0      0   \n",
       "\n",
       "                       enabled  action  fps  play  ...  punic  skully   \n",
       "name                                               ...                  \n",
       "Counter-Strike               0       0    0     0  ...      0       0  \\\n",
       "Team Fortress Classic        0       0    0     0  ...      0       0   \n",
       "Day of Defeat                0       0    0     0  ...      0       0   \n",
       "\n",
       "                       reproduces  restorer  suburb  somebody  rasputin   \n",
       "name                                                                      \n",
       "Counter-Strike                  0         0       0         0         0  \\\n",
       "Team Fortress Classic           0         0       0         0         0   \n",
       "Day of Defeat                   0         0       0         0         0   \n",
       "\n",
       "                       internship  captainmarlene  shortening  \n",
       "name                                                           \n",
       "Counter-Strike                  0               0           0  \n",
       "Team Fortress Classic           0               0           0  \n",
       "Day of Defeat                   0               0           0  \n",
       "\n",
       "[3 rows x 31175 columns]"
      ]
     },
     "execution_count": 10,
     "metadata": {},
     "output_type": "execute_result"
    }
   ],
   "source": [
    "# Initialize CountVectorizer\n",
    "vectorizer = CountVectorizer()\n",
    "\n",
    "# Fit and transform full text column\n",
    "fulltext_vector = vectorizer.fit_transform(textual_df['full_text'])\n",
    "fulltext_array = fulltext_vector.toarray()\n",
    "\n",
    "# Get the feature names\n",
    "feature_names = vectorizer.vocabulary_.keys()\n",
    "\n",
    "# Create DataFrame\n",
    "vector_df = pd.DataFrame(fulltext_array, columns = feature_names,\n",
    "                        index = textual_df[\"name\"])\n",
    "vector_df.head(3)"
   ]
  },
  {
   "cell_type": "markdown",
   "id": "7733d1b1-958a-4836-a5ab-409555c092c5",
   "metadata": {},
   "source": [
    "#### Optimal Component Selection: Scree Test\n",
    "\n",
    "The ultimate objective is to utilize Truncated Singular Value Decomposition to reduce the textual data's dimensionality and create a latent matrix. In order to do that, we conduct a Scree Test to determine the optimal number of components to be used. We decide that we want at least 90% of variance being explained by the decomposition. We find the minimum number of components necessary to achieve this and use the elbow method to identify the optimal number of components under the constraint that it explains at least 90% of data.\n",
    "\n",
    "In order to identify the knee point, we use the [_kneed_](https://pypi.org/project/kneed/) library, which is based on the [_kneedle algorithm_](https://raghavan.usc.edu//papers/kneedle-simplex11.pdf) developed by Ville Satopaa, Jeannie Albrecht, David Irwin, and Barath Raghavan. \n",
    "\n",
    "**Note:** Fitting the svd model requires a lot of time. It is advised to only run the block of code below only once. "
   ]
  },
  {
   "cell_type": "code",
   "execution_count": 11,
   "id": "e8592fed-f02d-431c-b847-f6f3a7a14b23",
   "metadata": {},
   "outputs": [],
   "source": [
    "# Create Instance of SVD with 10000 Components\n",
    "svd = TruncatedSVD(n_components=10000, random_state = 70)\n",
    "\n",
    "# Fit to the Matrix\n",
    "scree_matrix = svd.fit(vector_df)"
   ]
  },
  {
   "cell_type": "code",
   "execution_count": 24,
   "id": "6502c032-cde6-40b7-99a0-aae9ac3055bb",
   "metadata": {},
   "outputs": [
    {
     "name": "stdout",
     "output_type": "stream",
     "text": [
      "The number of features required to explain at least 90% of variance is 1425\n"
     ]
    }
   ],
   "source": [
    "# Find Cumulative Explained Variance Percentage\n",
    "cum_variance = np.cumsum(scree_matrix.explained_variance_ratio_)\n",
    "\n",
    "# Identify First Instance of Expl. Variance Above 90%\n",
    "ninety_threshold = np.argmax(cum_variance >= 0.9) \n",
    "\n",
    "print(f\"The number of features required to explain at least 90% of variance is {ninety_threshold + 1}\")"
   ]
  },
  {
   "cell_type": "code",
   "execution_count": 49,
   "id": "f9407e6e-09db-4909-a090-f6f2fde2153d",
   "metadata": {},
   "outputs": [
    {
     "data": {
      "text/plain": [
       "[<matplotlib.lines.Line2D at 0x16bcf83a0>]"
      ]
     },
     "execution_count": 49,
     "metadata": {},
     "output_type": "execute_result"
    },
    {
     "data": {
      "image/png": "[encoded data removed]",
      "text/plain": [
       "<Figure size 640x480 with 1 Axes>"
      ]
     },
     "metadata": {},
     "output_type": "display_data"
    }
   ],
   "source": [
    "# Obtain Explained Variance\n",
    "expl_variance = scree_matrix.explained_variance_\n",
    "\n",
    "# Find Elbow Point\n",
    "kneedle = KneeLocator(np.arange(ninety_threshold + 1, len(expl_variance)+ 1), \n",
    "                      expl_variance[ninety_threshold:], curve='convex', \n",
    "                      direction='decreasing')\n",
    "\n",
    "elbow_location = kneedle.elbow\n",
    "\n",
    "# Plot Elbow\n",
    "sns.set_theme()\n",
    "\n",
    "plt.plot(np.arange(ninety_threshold+1, len(expl_variance)+1),\n",
    "         expl_variance[ninety_threshold:],\n",
    "         label = \"Explained Variance\")\n",
    "\n",
    "# Add Title and Axis Labels\n",
    "plt.title(\"Scree Test for SVD Analysis\")\n",
    "plt.ylabel(\"Explained Variance\")\n",
    "plt.xlabel(\"Number of Components\")\n",
    "plt.legend()\n",
    "\n",
    "# Add Annotation and Point to Show Locatio of Elbow\n",
    "plt.annotate(f\"Elbow at {elbow_location} Components\", \n",
    "             xy=(elbow_location, expl_variance[elbow_location - 1]),\n",
    "             xytext=(5000, 0.002),\n",
    "             arrowprops=dict(arrowstyle=\"-\",\n",
    "                             color = \"black\"), fontsize=10)\n",
    "\n",
    "plt.plot(elbow_location, expl_variance[elbow_location - 1], \"ko\",\n",
    "         label = \"Elbow Point\")"
   ]
  },
  {
   "cell_type": "markdown",
   "id": "ee1ef764-9978-4ffb-b3e7-cc2395685f75",
   "metadata": {},
   "source": [
    "#### Optimized SVD\n",
    "\n",
    "Having obtained the optimal amount of components, we finally train an SVD "
   ]
  },
  {
   "cell_type": "code",
   "execution_count": null,
   "id": "c291f49a-8e34-4b2a-a3be-f8eac0106375",
   "metadata": {},
   "outputs": [],
   "source": [
    "# Create Instance of SVD with 2515 Components\n",
    "svd_opt = TruncatedSVD(n_components=2515, random_state = 70)\n",
    "\n",
    "# Fit to the Matrix\n",
    "lat_matrix = svd_opt.fit_transform(vector_df)"
   ]
  },
  {
   "cell_type": "code",
   "execution_count": 52,
   "id": "fee2e73d-5df9-4cc9-a470-a82ad61f20ae",
   "metadata": {},
   "outputs": [
    {
     "ename": "ValueError",
     "evalue": "DataFrame constructor not properly called!",
     "output_type": "error",
     "traceback": [
      "\u001b[0;31m---------------------------------------------------------------------------\u001b[0m",
      "\u001b[0;31mValueError\u001b[0m                                Traceback (most recent call last)",
      "Cell \u001b[0;32mIn[54], line 2\u001b[0m\n\u001b[1;32m      1\u001b[0m \u001b[38;5;66;03m# Turn Into DataFrame\u001b[39;00m\n\u001b[0;32m----> 2\u001b[0m svd_df \u001b[38;5;241m=\u001b[39m \u001b[43mpd\u001b[49m\u001b[38;5;241;43m.\u001b[39;49m\u001b[43mDataFrame\u001b[49m\u001b[43m(\u001b[49m\u001b[43mlat_matrix\u001b[49m\u001b[43m)\u001b[49m\n\u001b[1;32m      4\u001b[0m svd_df\n",
      "File \u001b[0;32m~/opt/anaconda3/envs/MachineLearningTeam/lib/python3.9/site-packages/pandas/core/frame.py:817\u001b[0m, in \u001b[0;36mDataFrame.__init__\u001b[0;34m(self, data, index, columns, dtype, copy)\u001b[0m\n\u001b[1;32m    814\u001b[0m \u001b[38;5;66;03m# For data is scalar\u001b[39;00m\n\u001b[1;32m    815\u001b[0m \u001b[38;5;28;01melse\u001b[39;00m:\n\u001b[1;32m    816\u001b[0m     \u001b[38;5;28;01mif\u001b[39;00m index \u001b[38;5;129;01mis\u001b[39;00m \u001b[38;5;28;01mNone\u001b[39;00m \u001b[38;5;129;01mor\u001b[39;00m columns \u001b[38;5;129;01mis\u001b[39;00m \u001b[38;5;28;01mNone\u001b[39;00m:\n\u001b[0;32m--> 817\u001b[0m         \u001b[38;5;28;01mraise\u001b[39;00m \u001b[38;5;167;01mValueError\u001b[39;00m(\u001b[38;5;124m\"\u001b[39m\u001b[38;5;124mDataFrame constructor not properly called!\u001b[39m\u001b[38;5;124m\"\u001b[39m)\n\u001b[1;32m    819\u001b[0m     index \u001b[38;5;241m=\u001b[39m ensure_index(index)\n\u001b[1;32m    820\u001b[0m     columns \u001b[38;5;241m=\u001b[39m ensure_index(columns)\n",
      "\u001b[0;31mValueError\u001b[0m: DataFrame constructor not properly called!"
     ]
    }
   ],
   "source": [
    "# Turn Into DataFrame\n",
    "svd_df = pd.DataFrame(lat_matrix)\n",
    "\n",
    "# Add Movie Labels\n",
    "lat_matr = pd.concat([rs_df.iloc[: , :2], svd_df], axis = 1)"
   ]
  },
  {
   "cell_type": "code",
   "execution_count": null,
   "id": "70b7db8f-9a2d-4c18-a823-cb73d214e6cd",
   "metadata": {},
   "outputs": [],
   "source": []
  }
 ],
 "metadata": {
  "kernelspec": {
   "display_name": "Python 3 (ipykernel)",
   "language": "python",
   "name": "python3"
  },
  "language_info": {
   "codemirror_mode": {
    "name": "ipython",
    "version": 3
   },
   "file_extension": ".py",
   "mimetype": "text/x-python",
   "name": "python",
   "nbconvert_exporter": "python",
   "pygments_lexer": "ipython3",
   "version": "3.9.16"
  }
 },
 "nbformat": 4,
 "nbformat_minor": 5
}
