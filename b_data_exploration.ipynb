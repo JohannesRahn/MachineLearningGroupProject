{
 "cells": [
  {
   "cell_type": "markdown",
   "id": "dea93456-a96e-4d1f-99ec-0c38d40bda89",
   "metadata": {},
   "source": [
    "# Machine Learning Group Project \n",
    "\n",
    "User game rating prediction & systematic discount offering on Steam. Project developed by Team XX composed by:\n",
    "| Student Name | Student Number | Class Group |\n",
    "| --- | --- | --- |\n",
    "| **Alessandro Maugeri** | 53067 | TA |\n",
    "| **Frank Andreas Bauer** | XXXX | XX |\n",
    "|  **Johannes Rahn** | 53958 | TB |\n",
    "| **Nicole Zoppi** | XXXX | XX |\n",
    "| **Yannick von der Heyden** | 53629 | TA |"
   ]
  },
  {
   "cell_type": "markdown",
   "id": "f2540aaf-fc28-463b-ae53-9f3af7f6b760",
   "metadata": {},
   "source": [
    "## Importing Packages "
   ]
  },
  {
   "cell_type": "code",
   "execution_count": 42,
   "id": "bacd787f",
   "metadata": {},
   "outputs": [],
   "source": [
    "import ast\n",
    "import pandas as pd\n",
    "import numpy as np\n",
    "from datetime import datetime"
   ]
  },
  {
   "cell_type": "markdown",
   "id": "c58944f8-dc00-4a5c-988c-55a0904080f7",
   "metadata": {},
   "source": [
    "## Reading DataFrame"
   ]
  },
  {
   "cell_type": "code",
   "execution_count": 64,
   "id": "e4cccfbe-8970-4925-85a4-e96b4d687f9e",
   "metadata": {},
   "outputs": [
    {
     "data": {
      "text/html": [
       "<div>\n",
       "<style scoped>\n",
       "    .dataframe tbody tr th:only-of-type {\n",
       "        vertical-align: middle;\n",
       "    }\n",
       "\n",
       "    .dataframe tbody tr th {\n",
       "        vertical-align: top;\n",
       "    }\n",
       "\n",
       "    .dataframe thead th {\n",
       "        text-align: right;\n",
       "    }\n",
       "</style>\n",
       "<table border=\"1\" class=\"dataframe\">\n",
       "  <thead>\n",
       "    <tr style=\"text-align: right;\">\n",
       "      <th></th>\n",
       "      <th>app_id</th>\n",
       "      <th>helpful</th>\n",
       "      <th>funny</th>\n",
       "      <th>date</th>\n",
       "      <th>y</th>\n",
       "      <th>hours</th>\n",
       "      <th>user_id</th>\n",
       "      <th>review_id</th>\n",
       "      <th>title</th>\n",
       "      <th>date_release</th>\n",
       "      <th>...</th>\n",
       "      <th>publisher</th>\n",
       "      <th>required_age</th>\n",
       "      <th>genres</th>\n",
       "      <th>steamspy_tags</th>\n",
       "      <th>achievements</th>\n",
       "      <th>average_playtime</th>\n",
       "      <th>median_playtime</th>\n",
       "      <th>owners</th>\n",
       "      <th>products</th>\n",
       "      <th>reviews</th>\n",
       "    </tr>\n",
       "  </thead>\n",
       "  <tbody>\n",
       "    <tr>\n",
       "      <th>0</th>\n",
       "      <td>304390</td>\n",
       "      <td>4</td>\n",
       "      <td>0</td>\n",
       "      <td>2017-02-17</td>\n",
       "      <td>False</td>\n",
       "      <td>11.5</td>\n",
       "      <td>797</td>\n",
       "      <td>1</td>\n",
       "      <td>FOR HONOR™</td>\n",
       "      <td>2017-02-13</td>\n",
       "      <td>...</td>\n",
       "      <td>Ubisoft</td>\n",
       "      <td>0</td>\n",
       "      <td>Action</td>\n",
       "      <td>Medieval;Action;Swordplay</td>\n",
       "      <td>0</td>\n",
       "      <td>951</td>\n",
       "      <td>696</td>\n",
       "      <td>2000000-5000000</td>\n",
       "      <td>40</td>\n",
       "      <td>1</td>\n",
       "    </tr>\n",
       "    <tr>\n",
       "      <th>1</th>\n",
       "      <td>304390</td>\n",
       "      <td>2</td>\n",
       "      <td>0</td>\n",
       "      <td>2017-03-23</td>\n",
       "      <td>False</td>\n",
       "      <td>180.6</td>\n",
       "      <td>103506</td>\n",
       "      <td>26</td>\n",
       "      <td>FOR HONOR™</td>\n",
       "      <td>2017-02-13</td>\n",
       "      <td>...</td>\n",
       "      <td>Ubisoft</td>\n",
       "      <td>0</td>\n",
       "      <td>Action</td>\n",
       "      <td>Medieval;Action;Swordplay</td>\n",
       "      <td>0</td>\n",
       "      <td>951</td>\n",
       "      <td>696</td>\n",
       "      <td>2000000-5000000</td>\n",
       "      <td>10</td>\n",
       "      <td>1</td>\n",
       "    </tr>\n",
       "    <tr>\n",
       "      <th>2</th>\n",
       "      <td>108600</td>\n",
       "      <td>0</td>\n",
       "      <td>0</td>\n",
       "      <td>2022-01-17</td>\n",
       "      <td>False</td>\n",
       "      <td>132.2</td>\n",
       "      <td>103506</td>\n",
       "      <td>2349574</td>\n",
       "      <td>Project Zomboid</td>\n",
       "      <td>2013-11-08</td>\n",
       "      <td>...</td>\n",
       "      <td>The Indie Stone</td>\n",
       "      <td>0</td>\n",
       "      <td>Indie;RPG;Simulation;Early Access</td>\n",
       "      <td>Early Access;Survival;Zombies</td>\n",
       "      <td>0</td>\n",
       "      <td>658</td>\n",
       "      <td>701</td>\n",
       "      <td>500000-1000000</td>\n",
       "      <td>10</td>\n",
       "      <td>1</td>\n",
       "    </tr>\n",
       "    <tr>\n",
       "      <th>3</th>\n",
       "      <td>304390</td>\n",
       "      <td>0</td>\n",
       "      <td>0</td>\n",
       "      <td>2017-02-25</td>\n",
       "      <td>False</td>\n",
       "      <td>5.0</td>\n",
       "      <td>2862957</td>\n",
       "      <td>191</td>\n",
       "      <td>FOR HONOR™</td>\n",
       "      <td>2017-02-13</td>\n",
       "      <td>...</td>\n",
       "      <td>Ubisoft</td>\n",
       "      <td>0</td>\n",
       "      <td>Action</td>\n",
       "      <td>Medieval;Action;Swordplay</td>\n",
       "      <td>0</td>\n",
       "      <td>951</td>\n",
       "      <td>696</td>\n",
       "      <td>2000000-5000000</td>\n",
       "      <td>103</td>\n",
       "      <td>1</td>\n",
       "    </tr>\n",
       "    <tr>\n",
       "      <th>4</th>\n",
       "      <td>304390</td>\n",
       "      <td>4</td>\n",
       "      <td>0</td>\n",
       "      <td>2021-04-25</td>\n",
       "      <td>False</td>\n",
       "      <td>42.5</td>\n",
       "      <td>3094839</td>\n",
       "      <td>203</td>\n",
       "      <td>FOR HONOR™</td>\n",
       "      <td>2017-02-13</td>\n",
       "      <td>...</td>\n",
       "      <td>Ubisoft</td>\n",
       "      <td>0</td>\n",
       "      <td>Action</td>\n",
       "      <td>Medieval;Action;Swordplay</td>\n",
       "      <td>0</td>\n",
       "      <td>951</td>\n",
       "      <td>696</td>\n",
       "      <td>2000000-5000000</td>\n",
       "      <td>444</td>\n",
       "      <td>2</td>\n",
       "    </tr>\n",
       "  </tbody>\n",
       "</table>\n",
       "<p>5 rows × 35 columns</p>\n",
       "</div>"
      ],
      "text/plain": [
       "   app_id  helpful  funny        date      y  hours  user_id  review_id  \\\n",
       "0  304390        4      0  2017-02-17  False   11.5      797          1   \n",
       "1  304390        2      0  2017-03-23  False  180.6   103506         26   \n",
       "2  108600        0      0  2022-01-17  False  132.2   103506    2349574   \n",
       "3  304390        0      0  2017-02-25  False    5.0  2862957        191   \n",
       "4  304390        4      0  2021-04-25  False   42.5  3094839        203   \n",
       "\n",
       "             title date_release  ...        publisher  required_age  \\\n",
       "0       FOR HONOR™   2017-02-13  ...          Ubisoft             0   \n",
       "1       FOR HONOR™   2017-02-13  ...          Ubisoft             0   \n",
       "2  Project Zomboid   2013-11-08  ...  The Indie Stone             0   \n",
       "3       FOR HONOR™   2017-02-13  ...          Ubisoft             0   \n",
       "4       FOR HONOR™   2017-02-13  ...          Ubisoft             0   \n",
       "\n",
       "                              genres                  steamspy_tags  \\\n",
       "0                             Action      Medieval;Action;Swordplay   \n",
       "1                             Action      Medieval;Action;Swordplay   \n",
       "2  Indie;RPG;Simulation;Early Access  Early Access;Survival;Zombies   \n",
       "3                             Action      Medieval;Action;Swordplay   \n",
       "4                             Action      Medieval;Action;Swordplay   \n",
       "\n",
       "   achievements  average_playtime  median_playtime           owners  products  \\\n",
       "0             0               951              696  2000000-5000000        40   \n",
       "1             0               951              696  2000000-5000000        10   \n",
       "2             0               658              701   500000-1000000        10   \n",
       "3             0               951              696  2000000-5000000       103   \n",
       "4             0               951              696  2000000-5000000       444   \n",
       "\n",
       "   reviews  \n",
       "0        1  \n",
       "1        1  \n",
       "2        1  \n",
       "3        1  \n",
       "4        2  \n",
       "\n",
       "[5 rows x 35 columns]"
      ]
     },
     "execution_count": 64,
     "metadata": {},
     "output_type": "execute_result"
    }
   ],
   "source": [
    "final_df = pd.read_csv(\"data/final_df.csv\")\n",
    "final_df.head()"
   ]
  },
  {
   "cell_type": "markdown",
   "id": "388c5a1e-b0b1-40fa-b3f6-4ac637f96d6c",
   "metadata": {},
   "source": [
    "## Data Exploration"
   ]
  },
  {
   "cell_type": "code",
   "execution_count": 44,
   "id": "bbc6f5cd-22bc-415e-8b5e-600fc209d7ee",
   "metadata": {},
   "outputs": [
    {
     "data": {
      "text/plain": [
       "(3927522, 35)"
      ]
     },
     "execution_count": 44,
     "metadata": {},
     "output_type": "execute_result"
    }
   ],
   "source": [
    "final_df.shape"
   ]
  },
  {
   "cell_type": "code",
   "execution_count": 45,
   "id": "e292b75d-e7ce-41fe-8693-cf3a94dd1209",
   "metadata": {},
   "outputs": [
    {
     "name": "stdout",
     "output_type": "stream",
     "text": [
      "Total NaNs in the final_df DataFrame: 0\n"
     ]
    }
   ],
   "source": [
    "total_nans = final_df.isna().sum().sum()\n",
    "print(f\"Total NaNs in the final_df DataFrame: {total_nans}\")"
   ]
  },
  {
   "cell_type": "code",
   "execution_count": 46,
   "id": "3ee85ca3-d15e-4dc9-b956-e0dc5ce04656",
   "metadata": {},
   "outputs": [
    {
     "data": {
      "text/html": [
       "<div>\n",
       "<style scoped>\n",
       "    .dataframe tbody tr th:only-of-type {\n",
       "        vertical-align: middle;\n",
       "    }\n",
       "\n",
       "    .dataframe tbody tr th {\n",
       "        vertical-align: top;\n",
       "    }\n",
       "\n",
       "    .dataframe thead th {\n",
       "        text-align: right;\n",
       "    }\n",
       "</style>\n",
       "<table border=\"1\" class=\"dataframe\">\n",
       "  <thead>\n",
       "    <tr style=\"text-align: right;\">\n",
       "      <th></th>\n",
       "      <th>count</th>\n",
       "      <th>mean</th>\n",
       "      <th>std</th>\n",
       "      <th>min</th>\n",
       "      <th>10%</th>\n",
       "      <th>25%</th>\n",
       "      <th>50%</th>\n",
       "      <th>75%</th>\n",
       "      <th>90%</th>\n",
       "      <th>max</th>\n",
       "    </tr>\n",
       "  </thead>\n",
       "  <tbody>\n",
       "    <tr>\n",
       "      <th>app_id</th>\n",
       "      <td>3927522.0</td>\n",
       "      <td>306037.70</td>\n",
       "      <td>161462.62</td>\n",
       "      <td>440.0</td>\n",
       "      <td>105600.0</td>\n",
       "      <td>239030.00</td>\n",
       "      <td>284160.00</td>\n",
       "      <td>386360.00</td>\n",
       "      <td>518790.00</td>\n",
       "      <td>960090.00</td>\n",
       "    </tr>\n",
       "    <tr>\n",
       "      <th>helpful</th>\n",
       "      <td>3927522.0</td>\n",
       "      <td>3.82</td>\n",
       "      <td>70.77</td>\n",
       "      <td>0.0</td>\n",
       "      <td>0.0</td>\n",
       "      <td>0.00</td>\n",
       "      <td>0.00</td>\n",
       "      <td>0.00</td>\n",
       "      <td>3.00</td>\n",
       "      <td>29627.00</td>\n",
       "    </tr>\n",
       "    <tr>\n",
       "      <th>funny</th>\n",
       "      <td>3927522.0</td>\n",
       "      <td>1.55</td>\n",
       "      <td>56.59</td>\n",
       "      <td>-6.0</td>\n",
       "      <td>0.0</td>\n",
       "      <td>0.00</td>\n",
       "      <td>0.00</td>\n",
       "      <td>0.00</td>\n",
       "      <td>0.00</td>\n",
       "      <td>28088.00</td>\n",
       "    </tr>\n",
       "    <tr>\n",
       "      <th>hours</th>\n",
       "      <td>3927522.0</td>\n",
       "      <td>246.07</td>\n",
       "      <td>258.38</td>\n",
       "      <td>0.0</td>\n",
       "      <td>12.0</td>\n",
       "      <td>42.40</td>\n",
       "      <td>143.50</td>\n",
       "      <td>378.90</td>\n",
       "      <td>673.10</td>\n",
       "      <td>999.90</td>\n",
       "    </tr>\n",
       "    <tr>\n",
       "      <th>user_id</th>\n",
       "      <td>3927522.0</td>\n",
       "      <td>2170676.04</td>\n",
       "      <td>1209458.83</td>\n",
       "      <td>0.0</td>\n",
       "      <td>439354.0</td>\n",
       "      <td>1168891.25</td>\n",
       "      <td>2192359.00</td>\n",
       "      <td>3211974.50</td>\n",
       "      <td>3819697.90</td>\n",
       "      <td>4240751.00</td>\n",
       "    </tr>\n",
       "    <tr>\n",
       "      <th>review_id</th>\n",
       "      <td>3927522.0</td>\n",
       "      <td>3063157.30</td>\n",
       "      <td>1768459.26</td>\n",
       "      <td>1.0</td>\n",
       "      <td>612957.2</td>\n",
       "      <td>1531722.75</td>\n",
       "      <td>3062826.00</td>\n",
       "      <td>4594579.75</td>\n",
       "      <td>5513936.90</td>\n",
       "      <td>6126800.00</td>\n",
       "    </tr>\n",
       "    <tr>\n",
       "      <th>positive_ratio</th>\n",
       "      <td>3927522.0</td>\n",
       "      <td>87.39</td>\n",
       "      <td>8.22</td>\n",
       "      <td>57.0</td>\n",
       "      <td>76.0</td>\n",
       "      <td>83.00</td>\n",
       "      <td>88.00</td>\n",
       "      <td>95.00</td>\n",
       "      <td>97.00</td>\n",
       "      <td>98.00</td>\n",
       "    </tr>\n",
       "    <tr>\n",
       "      <th>user_reviews</th>\n",
       "      <td>3927522.0</td>\n",
       "      <td>657700.20</td>\n",
       "      <td>1413045.69</td>\n",
       "      <td>1542.0</td>\n",
       "      <td>60168.0</td>\n",
       "      <td>120399.00</td>\n",
       "      <td>193409.00</td>\n",
       "      <td>572319.00</td>\n",
       "      <td>1367837.00</td>\n",
       "      <td>6941137.00</td>\n",
       "    </tr>\n",
       "    <tr>\n",
       "      <th>price_final</th>\n",
       "      <td>3927522.0</td>\n",
       "      <td>21.32</td>\n",
       "      <td>16.95</td>\n",
       "      <td>0.0</td>\n",
       "      <td>0.0</td>\n",
       "      <td>7.99</td>\n",
       "      <td>19.99</td>\n",
       "      <td>29.99</td>\n",
       "      <td>39.99</td>\n",
       "      <td>59.99</td>\n",
       "    </tr>\n",
       "    <tr>\n",
       "      <th>price_original</th>\n",
       "      <td>3927522.0</td>\n",
       "      <td>22.32</td>\n",
       "      <td>18.42</td>\n",
       "      <td>0.0</td>\n",
       "      <td>0.0</td>\n",
       "      <td>3.99</td>\n",
       "      <td>19.99</td>\n",
       "      <td>39.99</td>\n",
       "      <td>44.99</td>\n",
       "      <td>109.99</td>\n",
       "    </tr>\n",
       "    <tr>\n",
       "      <th>discount</th>\n",
       "      <td>3927522.0</td>\n",
       "      <td>3.36</td>\n",
       "      <td>16.06</td>\n",
       "      <td>0.0</td>\n",
       "      <td>0.0</td>\n",
       "      <td>0.00</td>\n",
       "      <td>0.00</td>\n",
       "      <td>0.00</td>\n",
       "      <td>0.00</td>\n",
       "      <td>90.00</td>\n",
       "    </tr>\n",
       "    <tr>\n",
       "      <th>appid</th>\n",
       "      <td>3927522.0</td>\n",
       "      <td>306037.70</td>\n",
       "      <td>161462.62</td>\n",
       "      <td>440.0</td>\n",
       "      <td>105600.0</td>\n",
       "      <td>239030.00</td>\n",
       "      <td>284160.00</td>\n",
       "      <td>386360.00</td>\n",
       "      <td>518790.00</td>\n",
       "      <td>960090.00</td>\n",
       "    </tr>\n",
       "    <tr>\n",
       "      <th>english</th>\n",
       "      <td>3927522.0</td>\n",
       "      <td>1.00</td>\n",
       "      <td>0.00</td>\n",
       "      <td>1.0</td>\n",
       "      <td>1.0</td>\n",
       "      <td>1.00</td>\n",
       "      <td>1.00</td>\n",
       "      <td>1.00</td>\n",
       "      <td>1.00</td>\n",
       "      <td>1.00</td>\n",
       "    </tr>\n",
       "    <tr>\n",
       "      <th>required_age</th>\n",
       "      <td>3927522.0</td>\n",
       "      <td>4.85</td>\n",
       "      <td>7.88</td>\n",
       "      <td>0.0</td>\n",
       "      <td>0.0</td>\n",
       "      <td>0.00</td>\n",
       "      <td>0.00</td>\n",
       "      <td>16.00</td>\n",
       "      <td>18.00</td>\n",
       "      <td>18.00</td>\n",
       "    </tr>\n",
       "    <tr>\n",
       "      <th>achievements</th>\n",
       "      <td>3927522.0</td>\n",
       "      <td>95.08</td>\n",
       "      <td>168.54</td>\n",
       "      <td>0.0</td>\n",
       "      <td>0.0</td>\n",
       "      <td>17.00</td>\n",
       "      <td>47.00</td>\n",
       "      <td>97.00</td>\n",
       "      <td>187.00</td>\n",
       "      <td>1130.00</td>\n",
       "    </tr>\n",
       "    <tr>\n",
       "      <th>average_playtime</th>\n",
       "      <td>3927522.0</td>\n",
       "      <td>6601.65</td>\n",
       "      <td>6713.54</td>\n",
       "      <td>0.0</td>\n",
       "      <td>951.0</td>\n",
       "      <td>1954.00</td>\n",
       "      <td>4222.00</td>\n",
       "      <td>9352.00</td>\n",
       "      <td>18823.00</td>\n",
       "      <td>28897.00</td>\n",
       "    </tr>\n",
       "    <tr>\n",
       "      <th>median_playtime</th>\n",
       "      <td>3927522.0</td>\n",
       "      <td>2341.10</td>\n",
       "      <td>2235.02</td>\n",
       "      <td>0.0</td>\n",
       "      <td>394.0</td>\n",
       "      <td>701.00</td>\n",
       "      <td>1953.00</td>\n",
       "      <td>3143.00</td>\n",
       "      <td>4834.00</td>\n",
       "      <td>12434.00</td>\n",
       "    </tr>\n",
       "    <tr>\n",
       "      <th>products</th>\n",
       "      <td>3927522.0</td>\n",
       "      <td>117.38</td>\n",
       "      <td>241.87</td>\n",
       "      <td>0.0</td>\n",
       "      <td>7.0</td>\n",
       "      <td>20.00</td>\n",
       "      <td>56.00</td>\n",
       "      <td>132.00</td>\n",
       "      <td>267.00</td>\n",
       "      <td>29308.00</td>\n",
       "    </tr>\n",
       "    <tr>\n",
       "      <th>reviews</th>\n",
       "      <td>3927522.0</td>\n",
       "      <td>1.70</td>\n",
       "      <td>1.93</td>\n",
       "      <td>0.0</td>\n",
       "      <td>1.0</td>\n",
       "      <td>1.00</td>\n",
       "      <td>1.00</td>\n",
       "      <td>2.00</td>\n",
       "      <td>3.00</td>\n",
       "      <td>151.00</td>\n",
       "    </tr>\n",
       "  </tbody>\n",
       "</table>\n",
       "</div>"
      ],
      "text/plain": [
       "                      count        mean         std     min       10%  \\\n",
       "app_id            3927522.0   306037.70   161462.62   440.0  105600.0   \n",
       "helpful           3927522.0        3.82       70.77     0.0       0.0   \n",
       "funny             3927522.0        1.55       56.59    -6.0       0.0   \n",
       "hours             3927522.0      246.07      258.38     0.0      12.0   \n",
       "user_id           3927522.0  2170676.04  1209458.83     0.0  439354.0   \n",
       "review_id         3927522.0  3063157.30  1768459.26     1.0  612957.2   \n",
       "positive_ratio    3927522.0       87.39        8.22    57.0      76.0   \n",
       "user_reviews      3927522.0   657700.20  1413045.69  1542.0   60168.0   \n",
       "price_final       3927522.0       21.32       16.95     0.0       0.0   \n",
       "price_original    3927522.0       22.32       18.42     0.0       0.0   \n",
       "discount          3927522.0        3.36       16.06     0.0       0.0   \n",
       "appid             3927522.0   306037.70   161462.62   440.0  105600.0   \n",
       "english           3927522.0        1.00        0.00     1.0       1.0   \n",
       "required_age      3927522.0        4.85        7.88     0.0       0.0   \n",
       "achievements      3927522.0       95.08      168.54     0.0       0.0   \n",
       "average_playtime  3927522.0     6601.65     6713.54     0.0     951.0   \n",
       "median_playtime   3927522.0     2341.10     2235.02     0.0     394.0   \n",
       "products          3927522.0      117.38      241.87     0.0       7.0   \n",
       "reviews           3927522.0        1.70        1.93     0.0       1.0   \n",
       "\n",
       "                         25%         50%         75%         90%         max  \n",
       "app_id             239030.00   284160.00   386360.00   518790.00   960090.00  \n",
       "helpful                 0.00        0.00        0.00        3.00    29627.00  \n",
       "funny                   0.00        0.00        0.00        0.00    28088.00  \n",
       "hours                  42.40      143.50      378.90      673.10      999.90  \n",
       "user_id           1168891.25  2192359.00  3211974.50  3819697.90  4240751.00  \n",
       "review_id         1531722.75  3062826.00  4594579.75  5513936.90  6126800.00  \n",
       "positive_ratio         83.00       88.00       95.00       97.00       98.00  \n",
       "user_reviews       120399.00   193409.00   572319.00  1367837.00  6941137.00  \n",
       "price_final             7.99       19.99       29.99       39.99       59.99  \n",
       "price_original          3.99       19.99       39.99       44.99      109.99  \n",
       "discount                0.00        0.00        0.00        0.00       90.00  \n",
       "appid              239030.00   284160.00   386360.00   518790.00   960090.00  \n",
       "english                 1.00        1.00        1.00        1.00        1.00  \n",
       "required_age            0.00        0.00       16.00       18.00       18.00  \n",
       "achievements           17.00       47.00       97.00      187.00     1130.00  \n",
       "average_playtime     1954.00     4222.00     9352.00    18823.00    28897.00  \n",
       "median_playtime       701.00     1953.00     3143.00     4834.00    12434.00  \n",
       "products               20.00       56.00      132.00      267.00    29308.00  \n",
       "reviews                 1.00        1.00        2.00        3.00      151.00  "
      ]
     },
     "execution_count": 46,
     "metadata": {},
     "output_type": "execute_result"
    }
   ],
   "source": [
    "# describe final_df\n",
    "final_df.describe(percentiles=[.1, .25, .5, .75, .9]).round(2).T"
   ]
  },
  {
   "cell_type": "markdown",
   "id": "2954737f-2a84-4074-a28e-5965d89c9454",
   "metadata": {},
   "source": [
    "**Correlation Matrix**"
   ]
  },
  {
   "cell_type": "code",
   "execution_count": 47,
   "id": "bbb2d4b2-e700-4369-94b9-bcfdfe30c903",
   "metadata": {},
   "outputs": [
    {
     "name": "stderr",
     "output_type": "stream",
     "text": [
      "/var/folders/gs/xnyw__p94xl1dp76b2zhm0yw0000gn/T/ipykernel_19537/1089923943.py:20: SettingWithCopyWarning: \n",
      "A value is trying to be set on a copy of a slice from a DataFrame.\n",
      "Try using .loc[row_indexer,col_indexer] = value instead\n",
      "\n",
      "See the caveats in the documentation: https://pandas.pydata.org/pandas-docs/stable/user_guide/indexing.html#returning-a-view-versus-a-copy\n",
      "  df_analyze['rating'] = df_analyze['rating'].map(rating_map)\n",
      "/var/folders/gs/xnyw__p94xl1dp76b2zhm0yw0000gn/T/ipykernel_19537/1089923943.py:23: SettingWithCopyWarning: \n",
      "A value is trying to be set on a copy of a slice from a DataFrame.\n",
      "Try using .loc[row_indexer,col_indexer] = value instead\n",
      "\n",
      "See the caveats in the documentation: https://pandas.pydata.org/pandas-docs/stable/user_guide/indexing.html#returning-a-view-versus-a-copy\n",
      "  df_analyze['y'] = df_analyze['y'].map({True: 1, False: 0})\n"
     ]
    },
    {
     "data": {
      "image/png": "[encoded data removed]",
      "text/plain": [
       "<Figure size 720x576 with 2 Axes>"
      ]
     },
     "metadata": {},
     "output_type": "display_data"
    }
   ],
   "source": [
    "# correlations between different variables, such as price and rating, user reviews and helpful votes, or hours played and recommendation status.\n",
    "\n",
    "import csv\n",
    "import matplotlib.pyplot as plt\n",
    "import seaborn as sns\n",
    "import datetime\n",
    "\n",
    "\n",
    "df_analyze = final_df[['price_final', 'rating', 'user_reviews', 'helpful', 'hours', 'y']]\n",
    "\n",
    "# Convert rating column to numerical values\n",
    "rating_map = {\n",
    "    'Overwhelmingly Positive': 5,\n",
    "    'Very Positive': 4,\n",
    "    'Mostly Positive': 3,\n",
    "    'Mixed': 2,\n",
    "    'Mostly Negative': 1,\n",
    "    'Very Negative': 0\n",
    "}\n",
    "df_analyze['rating'] = df_analyze['rating'].map(rating_map)\n",
    "\n",
    "# Convert is_recommended column to binary values\n",
    "df_analyze['y'] = df_analyze['y'].map({True: 1, False: 0})\n",
    "\n",
    "# Calculate the correlation matrix\n",
    "corr_matrix = df_analyze.corr()\n",
    "\n",
    "# Setting seaborn style\n",
    "sns.set(style=\"white\")\n",
    "\n",
    "# Generate a mask for the upper triangle\n",
    "mask = np.triu(np.ones_like(corr_matrix, dtype=bool))\n",
    "\n",
    "f, ax = plt.subplots(figsize=(10, 8))\n",
    "\n",
    "\n",
    "cmap = sns.diverging_palette(230, 20, as_cmap=True)\n",
    "\n",
    "sns.heatmap(corr_matrix, mask=mask, cmap=cmap, vmax=1, vmin=-1, center=0, square=True, linewidths=.5, cbar_kws={\"shrink\": .5}, annot=True, fmt=\".2f\")\n",
    "plt.title('Correlation Heatmap')\n",
    "plt.show()\n"
   ]
  },
  {
   "cell_type": "markdown",
   "id": "a860f560-5516-4c1b-9544-2809642cd0c7",
   "metadata": {},
   "source": [
    "As expected, be observe the strongest positive correlations between is_recommended and rating and user_reviews and hours. Hours and is_recommended are also slightly correlated.\n",
    "The final price seems to have a negative influence on user_reviews and the rating."
   ]
  },
  {
   "cell_type": "markdown",
   "id": "61f5b41d-c7f6-46d7-bd02-edbd6f85fb4a",
   "metadata": {},
   "source": [
    "**Frequency Distribution of Final Prices**"
   ]
  },
  {
   "cell_type": "code",
   "execution_count": 48,
   "id": "c9a99648-2ef4-4083-a3a9-f99c3402108b",
   "metadata": {},
   "outputs": [
    {
     "data": {
      "text/plain": [
       "<Figure size 720x360 with 0 Axes>"
      ]
     },
     "metadata": {},
     "output_type": "display_data"
    },
    {
     "data": {
      "image/png": "[encoded data removed]",
      "text/plain": [
       "<Figure size 600x400 with 1 Axes>"
      ]
     },
     "metadata": {},
     "output_type": "display_data"
    }
   ],
   "source": [
    "# frequency distribution of final prices\n",
    "\n",
    "plt.figure(figsize=(10, 5))\n",
    "plt.figure(dpi=100)\n",
    "plt.hist(final_df['price_final'], bins=25, edgecolor='black', range=(0, 100))\n",
    "plt.title('Frequency Distribution of Final Prices')\n",
    "plt.xlabel('Price')\n",
    "plt.ylabel('Frequency')\n",
    "plt.xlim(0, 100)  # Set the x-axis limits to 0 and 110\n",
    "plt.show()"
   ]
  },
  {
   "cell_type": "markdown",
   "id": "3dded9f3-3282-470e-82f9-0886b2ad5d47",
   "metadata": {},
   "source": [
    "**Boxplot of Final Prices**"
   ]
  },
  {
   "cell_type": "code",
   "execution_count": 49,
   "id": "84e8f6bd-7430-422d-a6f5-0a40eef2b9e0",
   "metadata": {},
   "outputs": [
    {
     "data": {
      "image/png": "[encoded data removed]",
      "text/plain": [
       "<Figure size 432x288 with 1 Axes>"
      ]
     },
     "metadata": {},
     "output_type": "display_data"
    }
   ],
   "source": [
    "# boxplot of final price\n",
    "\n",
    "ax = final_df.boxplot('price_final')\n",
    "\n",
    "ax.set_ylabel('Price')\n",
    "ax.set_title('Box plot of game prices')\n",
    "\n",
    "stats = final_df['price_final'].describe()\n",
    "mean = final_df['price_final'].mean()\n",
    "std_dev = final_df['price_final'].std()\n",
    "\n",
    "# calculate outliers\n",
    "q1 = stats['25%']\n",
    "q3 = stats['75%']\n",
    "iqr = q3 - q1\n",
    "lower_bound = q1 - (1.5 * iqr)\n",
    "upper_bound = q3 + (1.5 * iqr)\n",
    "\n",
    "outliers = final_df[(final_df['price_final'] < lower_bound) | (final_df['price_final'] > upper_bound)]['price_final']\n",
    "num_outliers = outliers.count()\n",
    "\n",
    "# add statistics to the plot\n",
    "ax.text(0.7, 0.85, f\"Mean: {mean:.2f}\\nStd Dev: {std_dev:.2f}\\nMedian: {stats['50%']:.2f}\\nQ1: {stats['25%']:.2f}\\nQ3: {stats['75%']:.2f}\\nOutliers: {num_outliers}\",\n",
    "        transform=ax.transAxes, bbox=dict(facecolor='white', edgecolor='black', alpha=0.9))\n",
    "\n",
    "\n",
    "plt.show()\n"
   ]
  },
  {
   "cell_type": "markdown",
   "id": "fbdb9208-427e-41b2-8b3a-ed7755e1bfd8",
   "metadata": {},
   "source": [
    "**Frequency Distribution of Rating**"
   ]
  },
  {
   "cell_type": "code",
   "execution_count": 50,
   "id": "9f723eb4-e90a-480b-bdfb-9426208b1a04",
   "metadata": {},
   "outputs": [
    {
     "data": {
      "image/png": "[encoded data removed]",
      "text/plain": [
       "<Figure size 1296x720 with 1 Axes>"
      ]
     },
     "metadata": {},
     "output_type": "display_data"
    }
   ],
   "source": [
    "# Plotting the frequency distribution of rating\n",
    "\n",
    "plt.figure(figsize=(18, 10))\n",
    "ax = sns.countplot(x='rating', data=final_df)\n",
    "plt.title('Frequency Distribution of Ratings')\n",
    "plt.xlabel('Rating')\n",
    "plt.ylabel('Frequency')\n",
    "\n",
    "# Annotate bars with counts\n",
    "for p in ax.patches:\n",
    "    ax.annotate(f'{p.get_height()}', (p.get_x() + p.get_width() / 2., p.get_height()), ha='center', va='baseline')\n",
    "\n",
    "plt.show()"
   ]
  },
  {
   "cell_type": "markdown",
   "id": "00d4313c-f633-490e-964f-9683a5e1863a",
   "metadata": {},
   "source": [
    "**Frequency Distribution of Recommendations**"
   ]
  },
  {
   "cell_type": "code",
   "execution_count": 51,
   "id": "d4dd2f29-fcfd-49b0-aa77-53b99b4ccfc2",
   "metadata": {},
   "outputs": [
    {
     "data": {
      "text/plain": [
       "<Figure size 720x360 with 0 Axes>"
      ]
     },
     "metadata": {},
     "output_type": "display_data"
    },
    {
     "data": {
      "image/png": "[encoded data removed]",
      "text/plain": [
       "<Figure size 600x400 with 1 Axes>"
      ]
     },
     "metadata": {},
     "output_type": "display_data"
    }
   ],
   "source": [
    "# Plotting the frequency distribution of number of recommendations\n",
    "\n",
    "plt.figure(figsize=(10, 5))\n",
    "plt.figure(dpi=100)\n",
    "ax = sns.countplot(x='y', data=final_df)\n",
    "plt.title('Frequency Distribution of Recommendations')\n",
    "plt.xlabel('Is Recommended')\n",
    "plt.ylabel('Frequency')\n",
    "\n",
    "# Annotate the bars with counts\n",
    "for p in ax.patches:\n",
    "    ax.annotate(f'{p.get_height()}', (p.get_x() + p.get_width() / 2., p.get_height()), ha='center', va='baseline')\n",
    "\n",
    "plt.show()"
   ]
  },
  {
   "cell_type": "markdown",
   "id": "a04b4d6e-d682-41ef-ba9d-90d9a67ca5a7",
   "metadata": {},
   "source": [
    "**Compatibility of Windows, Mac and Linux**"
   ]
  },
  {
   "cell_type": "code",
   "execution_count": 52,
   "id": "82756df2-8e51-47d1-8386-4e171bb0ecac",
   "metadata": {},
   "outputs": [
    {
     "data": {
      "image/png": "[encoded data removed]",
      "text/plain": [
       "<Figure size 720x360 with 1 Axes>"
      ]
     },
     "metadata": {},
     "output_type": "display_data"
    }
   ],
   "source": [
    "# compatibility with different platforms\n",
    "\n",
    "# Calculating the number of games compatible with each platform\n",
    "platform_counts = final_df[['win', 'mac', 'linux']].sum().reset_index()\n",
    "platform_counts.columns = ['Platform', 'Count']\n",
    "\n",
    "plt.figure(figsize=(10, 5))\n",
    "\n",
    "ax = sns.barplot(x='Platform', y='Count', data=platform_counts)\n",
    "plt.title('Number of Games Compatible with Different Platforms')\n",
    "plt.xlabel('Platform')\n",
    "plt.ylabel('Number of Games')\n",
    "\n",
    "for p in ax.patches:\n",
    "    ax.annotate(f'{p.get_height()}', (p.get_x() + p.get_width() / 2., p.get_height()), ha='center', va='baseline')\n",
    "\n",
    "plt.show()"
   ]
  },
  {
   "cell_type": "code",
   "execution_count": 53,
   "id": "c3202525-d5cf-488d-8a27-3347d15db7db",
   "metadata": {},
   "outputs": [
    {
     "name": "stdout",
     "output_type": "stream",
     "text": [
      "Number of games supporting only Windows: 2079743\n",
      "Number of games supporting Windows and Mac: 769615\n",
      "Number of games supporting Windows and Linux: 72011\n",
      "Number of games supporting Windows, Mac, and Linux: 1006153\n",
      "Number of games supporting only Mac: 0\n",
      "Number of games supporting only Linux: 0\n"
     ]
    }
   ],
   "source": [
    "# Calculate the number of games supporting each combination of platforms (windows, mac, linux)\n",
    "\n",
    "win_only = ((final_df['win'] == True) & (final_df['mac'] == False) & (final_df['linux'] == False)).sum()\n",
    "win_mac = ((final_df['win'] == True) & (final_df['mac'] == True) & (final_df['linux'] == False)).sum()\n",
    "win_linux = ((final_df['win'] == True) & (final_df['mac'] == False) & (final_df['linux'] == True)).sum()\n",
    "win_mac_linux = ((final_df['win'] == True) & (final_df['mac'] == True) & (final_df['linux'] == True)).sum()\n",
    "mac_only = ((final_df['win'] == False) & (final_df['mac'] == True) & (final_df['linux'] == False)).sum()\n",
    "linux_only = ((final_df['win'] == False) & (final_df['mac'] == False) & (final_df['linux'] == True)).sum()\n",
    "\n",
    "print(f\"Number of games supporting only Windows: {win_only}\")\n",
    "print(f\"Number of games supporting Windows and Mac: {win_mac}\")\n",
    "print(f\"Number of games supporting Windows and Linux: {win_linux}\")\n",
    "print(f\"Number of games supporting Windows, Mac, and Linux: {win_mac_linux}\")\n",
    "print(f\"Number of games supporting only Mac: {mac_only}\")\n",
    "print(f\"Number of games supporting only Linux: {linux_only}\")"
   ]
  },
  {
   "cell_type": "code",
   "execution_count": 54,
   "id": "3e7dbeb9-6685-4bc3-b498-f8e962abab3a",
   "metadata": {},
   "outputs": [
    {
     "data": {
      "image/png": "[encoded data removed]",
      "text/plain": [
       "<Figure size 432x288 with 1 Axes>"
      ]
     },
     "metadata": {},
     "output_type": "display_data"
    }
   ],
   "source": [
    "# Platform combinations and their counts\n",
    "\n",
    "platform_combinations = {\n",
    "    \"Windows Only\": win_only,\n",
    "    \"Windows & Mac\": win_mac,\n",
    "    \"Windows & Linux\": win_linux,\n",
    "    \"Windows, Mac & Linux\": win_mac_linux,\n",
    "    \"Mac Only\": mac_only,\n",
    "    \"Linux Only\": linux_only,\n",
    "}\n",
    "\n",
    "fig, ax = plt.subplots()\n",
    "ax.bar(platform_combinations.keys(), platform_combinations.values())\n",
    "\n",
    "# Add the counts above the bars\n",
    "for i, (combination, count) in enumerate(platform_combinations.items()):\n",
    "    ax.text(i, count + 10, f\"{count}\", ha='center', va='bottom')\n",
    "\n",
    "ax.set_title(\"Number of Games Supporting Platform Combinations\")\n",
    "ax.set_xlabel(\"Platform Combinations\")\n",
    "ax.set_ylabel(\"Number of Games\")\n",
    "\n",
    "plt.xticks(rotation=45, ha='right')\n",
    "plt.tight_layout()\n",
    "plt.show()"
   ]
  },
  {
   "cell_type": "markdown",
   "id": "f85b4558-ab96-4f70-bd20-fba2156cd420",
   "metadata": {},
   "source": [
    "Windows definitly dominates, when it comes to the number of games it supports. Most developers only develop for windows. However, there are still many games which run on windows, mac and linux. These results tell us that we should consider a users operating system, when recommending a game based on a user_id."
   ]
  },
  {
   "cell_type": "markdown",
   "id": "31614b29-f41f-412b-9fc6-9cdda67a7bde",
   "metadata": {},
   "source": [
    "**Most popular Tags**"
   ]
  },
  {
   "cell_type": "code",
   "execution_count": 69,
   "id": "9d82456d-9f16-40f8-856d-544abcd8743f",
   "metadata": {},
   "outputs": [
    {
     "name": "stdout",
     "output_type": "stream",
     "text": [
      "Most common steamspy_tags:\n",
      " Multiplayer     1306846\n",
      "Open World       975555\n",
      "Survival         709232\n",
      "Free to Play     528619\n",
      "Simulation       485486\n",
      "Early Access     434366\n",
      "Action           410372\n",
      "RPG              406981\n",
      "FPS              373718\n",
      "Strategy         356269\n",
      "dtype: int64\n",
      "\n",
      "Most common genres:\n",
      " Action                   2317164\n",
      "Adventure                1352712\n",
      "Indie                    1274129\n",
      "Simulation               1245893\n",
      "RPG                      1180447\n",
      "Massively Multiplayer     871115\n",
      "Strategy                  813447\n",
      "Free to Play              701041\n",
      "Early Access              434366\n",
      "Sports                    182598\n",
      "dtype: int64\n",
      "\n",
      "Popularity, sales metrics, and price_final by steamspy_tags:\n",
      "                average_playtime  reviews  price_final\n",
      "steamspy_tags                                        \n",
      "Multiplayer        10551.283588  2211400    18.785185\n",
      "Open World          5465.449322  1658514    24.866857\n",
      "Survival            7628.942128  1200746    28.686975\n",
      "Free to Play        5359.802580   897331     0.000000\n",
      "Simulation          6199.955521   823192    24.953985\n",
      "Early Access        1414.429474   737693    19.761457\n",
      "Action              5566.434730   696410    12.300642\n",
      "RPG                 7283.536539   691082    31.232606\n",
      "FPS                13021.492751   633244    20.209946\n",
      "Strategy            9503.558362   607860    24.254588\n",
      "\n",
      "Popularity, sales metrics, and price_final by genres:\n",
      "                        average_playtime  reviews  price_final\n",
      "genres                                                       \n",
      "Action                      8113.641775  3930548    21.239997\n",
      "Adventure                   6373.615942  2296000    24.792933\n",
      "Indie                       4466.312910  2161986    21.788579\n",
      "Simulation                  5403.588495  2117851    23.083389\n",
      "RPG                         7074.199678  2000496    24.123822\n",
      "Massively Multiplayer       9475.730844  1473215    19.290257\n",
      "Strategy                    8761.753417  1384993    27.757575\n",
      "Free to Play                9573.982047  1188645     3.686811\n",
      "Early Access                1414.429474   737693    19.761457\n",
      "Sports                      1645.398334   309173     7.077250\n"
     ]
    }
   ],
   "source": [
    "import pandas as pd\n",
    "\n",
    "# Read the data\n",
    "final_df = pd.read_csv(\"data/final_df.csv\")\n",
    "\n",
    "# Split and count steamspy_tags and genres\n",
    "steamspy_tags = final_df['steamspy_tags'].str.split(';', expand=True).stack().value_counts()\n",
    "genres = final_df['genres'].str.split(';', expand=True).stack().value_counts()\n",
    "\n",
    "# Print the most common steamspy_tags and genres\n",
    "print(\"Most common steamspy_tags:\\n\", steamspy_tags.head(10))\n",
    "print(\"\\nMost common genres:\\n\", genres.head(10))\n",
    "\n",
    "# Combine the split steamspy_tags and genres back into the DataFrame\n",
    "final_df['steamspy_tags'] = final_df['steamspy_tags'].str.split(';')\n",
    "final_df['genres'] = final_df['genres'].str.split(';')\n",
    "\n",
    "# Calculate game popularity metrics, sales, and price_final\n",
    "final_df['average_playtime'] = final_df['average_playtime'].astype(float)\n",
    "final_df['reviews'] = final_df['reviews'].astype(int)\n",
    "final_df['price_final'] = final_df['price_final'].astype(float)\n",
    "\n",
    "# Group by steamspy_tags and genres, and calculate the average popularity, sales metrics, and price_final\n",
    "tags_popularity = final_df.explode('steamspy_tags').groupby('steamspy_tags').agg({\n",
    "    'average_playtime': 'mean',\n",
    "    'reviews': 'sum',\n",
    "    'price_final': 'mean'\n",
    "}).sort_values('reviews', ascending=False)\n",
    "\n",
    "genres_popularity = final_df.explode('genres').groupby('genres').agg({\n",
    "    'average_playtime': 'mean',\n",
    "    'reviews': 'sum',\n",
    "    'price_final': 'mean'\n",
    "}).sort_values('reviews', ascending=False)\n",
    "\n",
    "# Print the popularity, sales metrics, and price_final for the most common steamspy_tags and genres\n",
    "print(\"\\nPopularity, sales metrics, and price_final by steamspy_tags:\\n\", tags_popularity.head(10))\n",
    "print(\"\\nPopularity, sales metrics, and price_final by genres:\\n\", genres_popularity.head(10))\n"
   ]
  },
  {
   "cell_type": "markdown",
   "id": "6f680a8f-0bab-432f-8352-97b724c9e351",
   "metadata": {},
   "source": [
    "Games with the tags \"multiplayer\", \"open world\", \"survival\", \"free to play\" and \"simulation\" are the most popular ones based on the number of tags. \n",
    "\n",
    "The most popular genres are \"action\", \"adventure\", \" indie\", \"simulation\" and \"RPG\".\n",
    "\n",
    "We also observe the impact of tags on game popularity and sales. \n",
    "\n",
    "The tags \"FPS\" and \"multiplayer\" lead to the longest average playtime. \n",
    "Games with the tags \"mulitplayer\" and \"open world\" have the most reviews. \n",
    "Games with the tags \"RPG\" and \"Survial\" have the higest final price.\n",
    "\n",
    "Among genres, \"free to play\" has the highest average playtime. \"Action\" has the most reviews and \"strategy\" the highest final price."
   ]
  },
  {
   "cell_type": "markdown",
   "id": "08814b95-2005-4c07-9be3-0878c779707e",
   "metadata": {},
   "source": [
    "**Trends in game releases, user reviews, and ratings over time**"
   ]
  },
  {
   "cell_type": "code",
   "execution_count": 56,
   "id": "f37a004d-58cf-4524-90bc-a01a8abca02f",
   "metadata": {},
   "outputs": [
    {
     "data": {
      "image/png": "[encoded data removed]",
      "text/plain": [
       "<Figure size 432x288 with 2 Axes>"
      ]
     },
     "metadata": {},
     "output_type": "display_data"
    },
    {
     "data": {
      "image/png": "[encoded data removed]",
      "text/plain": [
       "<Figure size 432x288 with 1 Axes>"
      ]
     },
     "metadata": {},
     "output_type": "display_data"
    }
   ],
   "source": [
    "# Trends in game releases, user reviews, and ratings over time\n",
    "\n",
    "final_df['date_release'] = pd.to_datetime(final_df['date_release'])\n",
    "final_df['date'] = pd.to_datetime(final_df['date'])\n",
    "\n",
    "game_releases_by_year = final_df.groupby(final_df['date_release'].dt.year).size()\n",
    "user_reviews_by_year = final_df.groupby(final_df['date'].dt.year)['user_reviews'].sum()\n",
    "avg_ratings_by_year = final_df.groupby(final_df['date'].dt.year)['positive_ratio'].mean()\n",
    "\n",
    "import matplotlib.pyplot as plt\n",
    "\n",
    "fig, ax1 = plt.subplots()\n",
    "\n",
    "ax1.set_xlabel('Year')\n",
    "ax1.set_ylabel('Game Releases', color='tab:blue')\n",
    "ax1.plot(game_releases_by_year.index, game_releases_by_year, color='tab:blue')\n",
    "ax1.tick_params(axis='y', labelcolor='tab:blue')\n",
    "\n",
    "ax2 = ax1.twinx()\n",
    "ax2.set_ylabel('User Reviews', color='tab:red')\n",
    "ax2.plot(user_reviews_by_year.index, user_reviews_by_year, color='tab:red')\n",
    "ax2.tick_params(axis='y', labelcolor='tab:red')\n",
    "\n",
    "fig.tight_layout()\n",
    "plt.title('Game Releases and User Reviews Over Time')\n",
    "plt.show()\n",
    "\n",
    "plt.plot(avg_ratings_by_year.index, avg_ratings_by_year)\n",
    "plt.xlabel('Year')\n",
    "plt.ylabel('Average Ratings')\n",
    "plt.title('Average Ratings Over Time')\n",
    "plt.show()"
   ]
  },
  {
   "cell_type": "markdown",
   "id": "2ee96e42-b9b8-4917-a667-b547ea16740b",
   "metadata": {},
   "source": [
    "On average, the number of game releases has increased from 2006 to 2022. There where several drop in 2013, 2018 and 2020. The last drop is most likely due to the Covid-19 pandemic. User started reviewing games since 2010. The number of reviews has strongly increased since then.\n",
    "\n",
    "The average ratings over time have decreased from 93 in the year 2010 to a rating of 84 in the year 2022. This could potentially indicate that the quality in games has also decreased and user are less satisfied with their games."
   ]
  },
  {
   "cell_type": "markdown",
   "id": "049ce052-6a3f-47b8-9a09-6a6ab0552e39",
   "metadata": {},
   "source": [
    "## Feature Engineering"
   ]
  },
  {
   "cell_type": "markdown",
   "id": "fe12d0b8-daec-42e4-adc1-9674be5d6523",
   "metadata": {},
   "source": [
    "**Elapsed Time:** A new feature which tracks the amount of time that has elapsed between the game's release and the review being logged. This could be interested because people who purchase a game right after its release are likely to be larger fans of the genre or franchise."
   ]
  },
  {
   "cell_type": "code",
   "execution_count": 28,
   "id": "661637c9-cc8b-4a21-aa51-b9fd95739080",
   "metadata": {},
   "outputs": [],
   "source": [
    "final_df[\"elapsed_time\"] = final_df[\"date\"] - final_df[\"date_release\"]"
   ]
  },
  {
   "cell_type": "markdown",
   "id": "4e8f536e-6bf0-4ecf-8aed-5d559d6b0fcd",
   "metadata": {},
   "source": [
    "**Relative Recommendation:** Find the rate at which users rated a game positively (out of the count of games they have rated). Then, find for each review whether a recommendation is in line with user's typical reviews or not."
   ]
  },
  {
   "cell_type": "code",
   "execution_count": 29,
   "id": "cbbca433-de21-41a4-896a-01aa1ab92c1a",
   "metadata": {},
   "outputs": [],
   "source": [
    "# Count the number of reviews per user and rename column\n",
    "usr_rating_count = final_df[[\"user_id\",\"y\"]].groupby(\"user_id\").count()\n",
    "usr_rating_count.rename(columns = {\"y\":\"review_count\"}, inplace = True)\n",
    "\n",
    "# Find the number of positive reviews\n",
    "usr_rating_count[\"positive_reviews\"] = final_df[[\"user_id\",\"y\"]].groupby(\"user_id\").sum()\n",
    "\n",
    "# Find how many reviews out of total are positive\n",
    "usr_rating_count[\"positive_rate\"] = usr_rating_count[\"positive_reviews\"] / usr_rating_count[\"review_count\"]"
   ]
  },
  {
   "cell_type": "code",
   "execution_count": 30,
   "id": "ab2b4db5-7495-4a59-9586-5ca60d5313e9",
   "metadata": {},
   "outputs": [],
   "source": [
    "# Merge review_count and positive_rate to the final_df\n",
    "final_df = final_df.merge(usr_rating_count.reset_index()[[\"user_id\", \"review_count\", \"positive_rate\"]], \n",
    "                          how = \"left\", on = \"user_id\")\n",
    "\n",
    "# Use these to create an ulterior feature with recommendation relative to average recommendation\n",
    "final_df[\"relaitve_rec\"] = (final_df[\"y\"] - final_df[\"positive_rate\"])"
   ]
  },
  {
   "cell_type": "markdown",
   "id": "7dbeb36f-99c0-40ac-9503-929e42bc3a7f",
   "metadata": {},
   "source": [
    "**Tendency to Review:** People who review more often tend to..."
   ]
  },
  {
   "cell_type": "code",
   "execution_count": 31,
   "id": "bc88e6e7-c620-4dd3-9264-42a9ede92055",
   "metadata": {},
   "outputs": [],
   "source": [
    "# Find Review Tendency\n",
    "final_df[\"review_tendency\"] =  final_df[\"reviews\"] /final_df[\"products\"] \n",
    "\n",
    "# Find Tendency Relative to Median Because of Low Values\n",
    "final_df[\"rel_review_tendency\"] = (final_df[\"review_tendency\"] - final_df[\"review_tendency\"].median())/ final_df[\"review_tendency\"].median()"
   ]
  },
  {
   "cell_type": "markdown",
   "id": "e285f817-0d2f-4b83-bb57-387b6e476e4b",
   "metadata": {},
   "source": [
    "**Positive & Negative Reviews:** Here we calculate the number of positive and negative reviews for each game. This is done through the positive_ratio column."
   ]
  },
  {
   "cell_type": "code",
   "execution_count": 32,
   "id": "02547f99-c7ef-4d90-a23d-ac964599d436",
   "metadata": {},
   "outputs": [],
   "source": [
    "final_df[\"positive_reviews\"] = final_df[\"positive_ratio\"] * final_df[\"user_reviews\"]\n",
    "final_df[\"negative_reviews\"] = (1 - final_df[\"positive_ratio\"]) * final_df[\"user_reviews\"]"
   ]
  },
  {
   "cell_type": "code",
   "execution_count": 33,
   "id": "7aa366f7-7218-48f1-8ea4-7723bc11ffe3",
   "metadata": {},
   "outputs": [
    {
     "data": {
      "text/html": [
       "<div>\n",
       "<style scoped>\n",
       "    .dataframe tbody tr th:only-of-type {\n",
       "        vertical-align: middle;\n",
       "    }\n",
       "\n",
       "    .dataframe tbody tr th {\n",
       "        vertical-align: top;\n",
       "    }\n",
       "\n",
       "    .dataframe thead th {\n",
       "        text-align: right;\n",
       "    }\n",
       "</style>\n",
       "<table border=\"1\" class=\"dataframe\">\n",
       "  <thead>\n",
       "    <tr style=\"text-align: right;\">\n",
       "      <th></th>\n",
       "      <th>app_id</th>\n",
       "      <th>helpful</th>\n",
       "      <th>funny</th>\n",
       "      <th>date</th>\n",
       "      <th>y</th>\n",
       "      <th>hours</th>\n",
       "      <th>user_id</th>\n",
       "      <th>review_id</th>\n",
       "      <th>title</th>\n",
       "      <th>date_release</th>\n",
       "      <th>...</th>\n",
       "      <th>products</th>\n",
       "      <th>reviews</th>\n",
       "      <th>elapsed_time</th>\n",
       "      <th>review_count</th>\n",
       "      <th>positive_rate</th>\n",
       "      <th>relaitve_rec</th>\n",
       "      <th>review_tendency</th>\n",
       "      <th>rel_review_tendency</th>\n",
       "      <th>positive_reviews</th>\n",
       "      <th>negative_reviews</th>\n",
       "    </tr>\n",
       "  </thead>\n",
       "  <tbody>\n",
       "    <tr>\n",
       "      <th>0</th>\n",
       "      <td>304390</td>\n",
       "      <td>4</td>\n",
       "      <td>0</td>\n",
       "      <td>2017-02-17</td>\n",
       "      <td>False</td>\n",
       "      <td>11.5</td>\n",
       "      <td>797</td>\n",
       "      <td>1</td>\n",
       "      <td>FOR HONOR™</td>\n",
       "      <td>2017-02-13</td>\n",
       "      <td>...</td>\n",
       "      <td>40</td>\n",
       "      <td>1</td>\n",
       "      <td>4 days</td>\n",
       "      <td>1</td>\n",
       "      <td>0.0</td>\n",
       "      <td>0.0</td>\n",
       "      <td>0.025</td>\n",
       "      <td>0.025</td>\n",
       "      <td>5172828</td>\n",
       "      <td>-5096757</td>\n",
       "    </tr>\n",
       "    <tr>\n",
       "      <th>1</th>\n",
       "      <td>304390</td>\n",
       "      <td>2</td>\n",
       "      <td>0</td>\n",
       "      <td>2017-03-23</td>\n",
       "      <td>False</td>\n",
       "      <td>180.6</td>\n",
       "      <td>103506</td>\n",
       "      <td>26</td>\n",
       "      <td>FOR HONOR™</td>\n",
       "      <td>2017-02-13</td>\n",
       "      <td>...</td>\n",
       "      <td>10</td>\n",
       "      <td>1</td>\n",
       "      <td>38 days</td>\n",
       "      <td>2</td>\n",
       "      <td>0.0</td>\n",
       "      <td>0.0</td>\n",
       "      <td>0.100</td>\n",
       "      <td>3.100</td>\n",
       "      <td>5172828</td>\n",
       "      <td>-5096757</td>\n",
       "    </tr>\n",
       "  </tbody>\n",
       "</table>\n",
       "<p>2 rows × 43 columns</p>\n",
       "</div>"
      ],
      "text/plain": [
       "   app_id  helpful  funny       date      y  hours  user_id  review_id  \\\n",
       "0  304390        4      0 2017-02-17  False   11.5      797          1   \n",
       "1  304390        2      0 2017-03-23  False  180.6   103506         26   \n",
       "\n",
       "        title date_release  ...  products  reviews  elapsed_time review_count  \\\n",
       "0  FOR HONOR™   2017-02-13  ...        40        1        4 days            1   \n",
       "1  FOR HONOR™   2017-02-13  ...        10        1       38 days            2   \n",
       "\n",
       "   positive_rate  relaitve_rec  review_tendency  rel_review_tendency  \\\n",
       "0            0.0           0.0            0.025                0.025   \n",
       "1            0.0           0.0            0.100                3.100   \n",
       "\n",
       "   positive_reviews  negative_reviews  \n",
       "0           5172828          -5096757  \n",
       "1           5172828          -5096757  \n",
       "\n",
       "[2 rows x 43 columns]"
      ]
     },
     "execution_count": 33,
     "metadata": {},
     "output_type": "execute_result"
    }
   ],
   "source": [
    "final_df.head(2)"
   ]
  },
  {
   "cell_type": "markdown",
   "id": "46a8bb17-d1e4-49d7-b595-7ade338c14aa",
   "metadata": {},
   "source": [
    "## Final Dataset Exploration"
   ]
  },
  {
   "cell_type": "code",
   "execution_count": 34,
   "id": "0d8d4bf3-43e1-43e9-a69c-fb40553df8ac",
   "metadata": {},
   "outputs": [
    {
     "ename": "NameError",
     "evalue": "name 'df_recommendations' is not defined",
     "output_type": "error",
     "traceback": [
      "\u001b[0;31m---------------------------------------------------------------------------\u001b[0m",
      "\u001b[0;31mNameError\u001b[0m                                 Traceback (most recent call last)",
      "Input \u001b[0;32mIn [34]\u001b[0m, in \u001b[0;36m<cell line: 2>\u001b[0;34m()\u001b[0m\n\u001b[1;32m      1\u001b[0m \u001b[38;5;66;03m# We see how many positive and negative recommendations there are\u001b[39;00m\n\u001b[0;32m----> 2\u001b[0m \u001b[38;5;28mprint\u001b[39m(\u001b[43mdf_recommendations\u001b[49m[\u001b[38;5;124m\"\u001b[39m\u001b[38;5;124my\u001b[39m\u001b[38;5;124m\"\u001b[39m]\u001b[38;5;241m.\u001b[39mvalue_counts())\n\u001b[1;32m      4\u001b[0m \u001b[38;5;66;03m# What is their ratio?\u001b[39;00m\n\u001b[1;32m      5\u001b[0m \u001b[38;5;28mprint\u001b[39m(\u001b[38;5;124m\"\u001b[39m\u001b[38;5;130;01m\\n\u001b[39;00m\u001b[38;5;124mHow many positive reviews for each negative one?\u001b[39m\u001b[38;5;124m\"\u001b[39m)\n",
      "\u001b[0;31mNameError\u001b[0m: name 'df_recommendations' is not defined"
     ]
    }
   ],
   "source": [
    "# We see how many positive and negative recommendations there are\n",
    "print(df_recommendations[\"y\"].value_counts())\n",
    "\n",
    "# What is their ratio?\n",
    "print(\"\\nHow many positive reviews for each negative one?\")\n",
    "df_recommendations[\"y\"].value_counts()[0]/df_recommendations[\"y\"].value_counts()[1]"
   ]
  },
  {
   "cell_type": "markdown",
   "id": "82efddda-9f5b-4c0e-a192-f9f26d2859cd",
   "metadata": {},
   "source": [
    "## Model Preparation"
   ]
  },
  {
   "cell_type": "code",
   "execution_count": null,
   "id": "aeb36588-1b33-45ee-b713-17a611392e03",
   "metadata": {},
   "outputs": [],
   "source": []
  },
  {
   "cell_type": "markdown",
   "id": "e93cccd7-1dd2-499c-9783-3cf18a100565",
   "metadata": {},
   "source": [
    "#### Logistic Regression Model"
   ]
  },
  {
   "cell_type": "code",
   "execution_count": null,
   "id": "052a6b20-3e1b-44fd-acd4-612ea3e5e0a9",
   "metadata": {},
   "outputs": [],
   "source": [
    "# Consider balancing out data because of overwhelming positivity"
   ]
  }
 ],
 "metadata": {
  "kernelspec": {
   "display_name": "Python 3 (ipykernel)",
   "language": "python",
   "name": "python3"
  },
  "language_info": {
   "codemirror_mode": {
    "name": "ipython",
    "version": 3
   },
   "file_extension": ".py",
   "mimetype": "text/x-python",
   "name": "python",
   "nbconvert_exporter": "python",
   "pygments_lexer": "ipython3",
   "version": "3.9.12"
  }
 },
 "nbformat": 4,
 "nbformat_minor": 5
}
